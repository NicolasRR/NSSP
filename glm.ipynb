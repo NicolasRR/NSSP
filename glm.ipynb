{
 "cells": [
  {
   "cell_type": "code",
   "execution_count": 1,
   "metadata": {},
   "outputs": [],
   "source": [
    "import sys\n",
    "import os\n",
    "from utils import loadFSL, FSLeyesServer, mkdir_no_exist\n",
    "loadFSL()\n",
    "os.environ[\"DIPY_HOME\"] = \"../data/\"\n",
    "import fsl.wrappers, statsmodels\n",
    "from fsl.wrappers import fslmaths\n",
    "import dipy\n",
    "import os.path as op\n",
    "import numpy as np\n",
    "import matplotlib.pyplot as plt\n",
    "import pandas as pd\n",
    "import nibabel as nib\n",
    "import subprocess"
   ]
  },
  {
   "cell_type": "code",
   "execution_count": 2,
   "metadata": {},
   "outputs": [],
   "source": [
    "%gui wx"
   ]
  },
  {
   "cell_type": "code",
   "execution_count": 3,
   "metadata": {},
   "outputs": [],
   "source": [
    "################\n",
    "# Start FSLeyes (very neat tool to visualize MRI data of all sorts) within Python\n",
    "################\n",
    "fsleyesDisplay = FSLeyesServer()\n",
    "fsleyesDisplay.show()"
   ]
  },
  {
   "cell_type": "code",
   "execution_count": 4,
   "metadata": {},
   "outputs": [],
   "source": [
    "dataset_id = 'ds000171' \n",
    "subject_id = 'control01'    \n",
    "sample_path = \"./data/\" \n",
    "os.makedirs(sample_path, exist_ok=True)\n",
    "bids_root = op.join(sample_path, dataset_id)\n",
    "preproc_root = op.join(bids_root, 'derivatives', 'preprocessed_data') "
   ]
  },
  {
   "cell_type": "code",
   "execution_count": 5,
   "metadata": {},
   "outputs": [],
   "source": [
    "# smoothed = op.join(preproc_root, 'sub-control01', 'func', 'sub-control01_task-music_concat_bold_bbr')\n",
    "epi_target = op.join(preproc_root, 'sub-control01', 'func', 'sub-control01_task-music_concat_bold.nii.gz')"
   ]
  },
  {
   "cell_type": "code",
   "execution_count": 6,
   "metadata": {},
   "outputs": [
    {
     "name": "stderr",
     "output_type": "stream",
     "text": [
      "\n",
      "(ipykernel_launcher.py:68314): Gtk-WARNING **: 15:32:59.826: Negative content width -1 (allocation 1, extents 1x1) while allocating gadget (node spinbutton, owner GtkSpinButton)\n",
      "\n",
      "(ipykernel_launcher.py:68314): Gtk-WARNING **: 15:32:59.826: for_size smaller than min-size (1 < 32) while measuring gadget (node entry, owner GtkSpinButton)\n",
      "\n",
      "(ipykernel_launcher.py:68314): Gtk-WARNING **: 15:32:59.826: for_size smaller than min-size (1 < 16) while measuring gadget (node button, owner GtkSpinButton)\n",
      "\n",
      "(ipykernel_launcher.py:68314): Gtk-WARNING **: 15:32:59.826: for_size smaller than min-size (1 < 16) while measuring gadget (node button, owner GtkSpinButton)\n"
     ]
    }
   ],
   "source": [
    "from nilearn.image import concat_imgs, mean_img\n",
    "fmri_img = nib.load(epi_target)"
   ]
  },
  {
   "cell_type": "code",
   "execution_count": 7,
   "metadata": {},
   "outputs": [
    {
     "name": "stderr",
     "output_type": "stream",
     "text": [
      "\n",
      "(ipykernel_launcher.py:68314): Gtk-WARNING **: 15:33:00.310: Negative content width -1 (allocation 1, extents 1x1) while allocating gadget (node spinbutton, owner GtkSpinButton)\n",
      "\n",
      "(ipykernel_launcher.py:68314): Gtk-WARNING **: 15:33:00.310: for_size smaller than min-size (1 < 32) while measuring gadget (node entry, owner GtkSpinButton)\n",
      "\n",
      "(ipykernel_launcher.py:68314): Gtk-WARNING **: 15:33:00.310: for_size smaller than min-size (1 < 16) while measuring gadget (node button, owner GtkSpinButton)\n",
      "\n",
      "(ipykernel_launcher.py:68314): Gtk-WARNING **: 15:33:00.310: for_size smaller than min-size (1 < 16) while measuring gadget (node button, owner GtkSpinButton)\n"
     ]
    },
    {
     "data": {
      "text/plain": [
       "(80, 80, 50, 315)"
      ]
     },
     "execution_count": 7,
     "metadata": {},
     "output_type": "execute_result"
    }
   ],
   "source": [
    "fmri_img.dataobj.shape"
   ]
  },
  {
   "cell_type": "code",
   "execution_count": 25,
   "metadata": {},
   "outputs": [],
   "source": [
    "events_files = [f for f in os.listdir(op.join(bids_root, 'sub-control01', 'func')) if f.endswith('.tsv')]\n",
    "events_list = [pd.read_csv(op.join(bids_root, 'sub-control01', 'func', f), sep='\\t') for f in events_files]\n",
    "# events = pd.concat(events_list, ignore_index=True)\n",
    "# events"
   ]
  },
  {
   "cell_type": "code",
   "execution_count": 26,
   "metadata": {},
   "outputs": [],
   "source": [
    "onset = 0.0\n",
    "for df in events_list:\n",
    "    df['onset'] = df['onset']+onset\n",
    "    onset += df.iloc[-1][\"onset\"]"
   ]
  },
  {
   "cell_type": "code",
   "execution_count": 27,
   "metadata": {},
   "outputs": [],
   "source": [
    "# events = pd.concat(events_list, ignore_index=True)\n",
    "# events"
   ]
  },
  {
   "cell_type": "code",
   "execution_count": 28,
   "metadata": {},
   "outputs": [],
   "source": [
    "functional_path = op.join(bids_root, 'sub-control01', 'func')\n",
    "processed_functional_path = op.join(preproc_root, 'sub-control01', 'func')\n",
    "path_normalized_output_1 = op.join(processed_functional_path, 'sub-control01_task-music_run-1_bold_norm.nii.gz')\n",
    "path_normalized_output_2 = op.join(processed_functional_path, 'sub-control01_task-music_run-2_bold_norm_.nii.gz')\n",
    "path_normalized_output_3 = op.join(processed_functional_path, 'sub-control01_task-music_run-3_bold_norm_.nii.gz')\n",
    "functional_1_path = op.join(functional_path, 'sub-control01_task-music_run-1_bold.nii.gz')\n",
    "functional_2_path = op.join(functional_path, 'sub-control01_task-music_run-2_bold.nii.gz')\n",
    "functional_3_path = op.join(functional_path, 'sub-control01_task-music_run-3_bold.nii.gz')"
   ]
  },
  {
   "cell_type": "code",
   "execution_count": 29,
   "metadata": {},
   "outputs": [],
   "source": [
    "img_1 = nib.load(path_normalized_output_1)\n",
    "data_1 = img_1.get_fdata()\n",
    "img_2 = nib.load(path_normalized_output_2)\n",
    "data_2 = img_2.get_fdata()\n",
    "img_3 = nib.load(path_normalized_output_3)\n",
    "data_3 = img_3.get_fdata()"
   ]
  },
  {
   "cell_type": "code",
   "execution_count": 30,
   "metadata": {},
   "outputs": [
    {
     "data": {
      "text/plain": [
       "((80, 80, 50, 105), (80, 80, 50, 105), (80, 80, 50, 105))"
      ]
     },
     "execution_count": 30,
     "metadata": {},
     "output_type": "execute_result"
    }
   ],
   "source": [
    "img_1.shape, img_2.shape, img_3.shape"
   ]
  },
  {
   "cell_type": "code",
   "execution_count": 31,
   "metadata": {},
   "outputs": [
    {
     "data": {
      "text/plain": [
       "(80, 80, 50, 315)"
      ]
     },
     "execution_count": 31,
     "metadata": {},
     "output_type": "execute_result"
    }
   ],
   "source": [
    "fmri_img.shape"
   ]
  },
  {
   "cell_type": "code",
   "execution_count": 33,
   "metadata": {},
   "outputs": [
    {
     "data": {
      "text/plain": [
       "<nibabel.nifti1.Nifti1Image at 0x7f4333f35950>"
      ]
     },
     "execution_count": 33,
     "metadata": {},
     "output_type": "execute_result"
    }
   ],
   "source": [
    "fmri_img"
   ]
  },
  {
   "cell_type": "code",
   "execution_count": 34,
   "metadata": {},
   "outputs": [
    {
     "data": {
      "text/plain": [
       "<nibabel.nifti1.Nifti1Image at 0x7f4331b36710>"
      ]
     },
     "execution_count": 34,
     "metadata": {},
     "output_type": "execute_result"
    }
   ],
   "source": [
    "fmri_img.slicer[:105].data_obj"
   ]
  },
  {
   "cell_type": "code",
   "execution_count": 32,
   "metadata": {},
   "outputs": [
    {
     "ename": "TypeError",
     "evalue": "Cannot slice image objects; consider using `img.slicer[slice]` to generate a sliced image (see documentation for caveats) or slicing image array data with `img.dataobj[slice]` or `img.get_fdata()[slice]`",
     "output_type": "error",
     "traceback": [
      "\u001b[0;31m---------------------------------------------------------------------------\u001b[0m",
      "\u001b[0;31mTypeError\u001b[0m                                 Traceback (most recent call last)",
      "Cell \u001b[0;32mIn[32], line 1\u001b[0m\n\u001b[0;32m----> 1\u001b[0m \u001b[43mfmri_img\u001b[49m\u001b[43m[\u001b[49m\u001b[38;5;241;43m.\u001b[39;49m\u001b[38;5;241;43m.\u001b[39;49m\u001b[38;5;241;43m.\u001b[39;49m\u001b[43m,\u001b[49m\u001b[43m:\u001b[49m\u001b[38;5;241;43m105\u001b[39;49m\u001b[43m]\u001b[49m\n",
      "File \u001b[0;32m/data/fsl/lib/python3.11/site-packages/nibabel/spatialimages.py:638\u001b[0m, in \u001b[0;36mSpatialImage.__getitem__\u001b[0;34m(self, idx)\u001b[0m\n\u001b[1;32m    632\u001b[0m \u001b[38;5;28;01mdef\u001b[39;00m \u001b[38;5;21m__getitem__\u001b[39m(\u001b[38;5;28mself\u001b[39m, idx: \u001b[38;5;28mobject\u001b[39m) \u001b[38;5;241m-\u001b[39m\u001b[38;5;241m>\u001b[39m \u001b[38;5;28;01mNone\u001b[39;00m:\n\u001b[1;32m    633\u001b[0m \u001b[38;5;250m    \u001b[39m\u001b[38;5;124;03m\"\"\"No slicing or dictionary interface for images\u001b[39;00m\n\u001b[1;32m    634\u001b[0m \n\u001b[1;32m    635\u001b[0m \u001b[38;5;124;03m    Use the slicer attribute to perform cropping and subsampling at your\u001b[39;00m\n\u001b[1;32m    636\u001b[0m \u001b[38;5;124;03m    own risk.\u001b[39;00m\n\u001b[1;32m    637\u001b[0m \u001b[38;5;124;03m    \"\"\"\u001b[39;00m\n\u001b[0;32m--> 638\u001b[0m     \u001b[38;5;28;01mraise\u001b[39;00m \u001b[38;5;167;01mTypeError\u001b[39;00m(\n\u001b[1;32m    639\u001b[0m         \u001b[38;5;124m'\u001b[39m\u001b[38;5;124mCannot slice image objects; consider using `img.slicer[slice]` \u001b[39m\u001b[38;5;124m'\u001b[39m\n\u001b[1;32m    640\u001b[0m         \u001b[38;5;124m'\u001b[39m\u001b[38;5;124mto generate a sliced image (see documentation for caveats) or \u001b[39m\u001b[38;5;124m'\u001b[39m\n\u001b[1;32m    641\u001b[0m         \u001b[38;5;124m'\u001b[39m\u001b[38;5;124mslicing image array data with `img.dataobj[slice]` or \u001b[39m\u001b[38;5;124m'\u001b[39m\n\u001b[1;32m    642\u001b[0m         \u001b[38;5;124m'\u001b[39m\u001b[38;5;124m`img.get_fdata()[slice]`\u001b[39m\u001b[38;5;124m'\u001b[39m\n\u001b[1;32m    643\u001b[0m     )\n",
      "\u001b[0;31mTypeError\u001b[0m: Cannot slice image objects; consider using `img.slicer[slice]` to generate a sliced image (see documentation for caveats) or slicing image array data with `img.dataobj[slice]` or `img.get_fdata()[slice]`"
     ]
    }
   ],
   "source": [
    "fmri_img[...,:105]"
   ]
  },
  {
   "cell_type": "code",
   "execution_count": 22,
   "metadata": {},
   "outputs": [
    {
     "name": "stderr",
     "output_type": "stream",
     "text": [
      "/data/fsl/lib/python3.11/site-packages/nilearn/glm/_utils.py:180: UserWarning: Matrix is singular at working precision, regularizing...\n",
      "  warn(\"Matrix is singular at working precision, regularizing...\")\n"
     ]
    }
   ],
   "source": [
    "from nilearn.glm.first_level import make_first_level_design_matrix, FirstLevelModel\n",
    "\n",
    "# Specify what sort of GLM we want (nature of the noise, repetition time of the data and other parameters)\n",
    "fmri_glm = FirstLevelModel(t_r=3.0,\n",
    "                           noise_model='ar1',\n",
    "                           standardize=False,\n",
    "                           hrf_model='spm',\n",
    "                           drift_model=None,\n",
    "                           high_pass=.01)\n",
    "\n",
    "# Fit the model to our design and data\n",
    "fmri_glm = fmri_glm.fit(fmri_img[...,], events_list[0])"
   ]
  },
  {
   "cell_type": "code",
   "execution_count": 23,
   "metadata": {},
   "outputs": [
    {
     "data": {
      "image/png": "[encoded data removed]",
      "text/plain": [
       "<Figure size 261x1000 with 1 Axes>"
      ]
     },
     "metadata": {},
     "output_type": "display_data"
    }
   ],
   "source": [
    "from nilearn.plotting import plot_design_matrix\n",
    "plot_design_matrix(fmri_glm.design_matrices_[0])\n",
    "plt.show()"
   ]
  },
  {
   "cell_type": "code",
   "execution_count": null,
   "metadata": {},
   "outputs": [],
   "source": [
    "# Create the dictionary of the conditions\n",
    "\n",
    "conditions = {\n",
    "    'active': np.array([1, 0, 0]), # Specify the np array, e.g. np.array([2, -1, 0]) to extract active\n",
    "    'rest':np.array([0, 1, 0]) # Specify the np array, e.g. np.array([2, -1, 0]) to extract rest\n",
    "}\n",
    "\n",
    "active_minus_rest = conditions['active'] - conditions['rest']"
   ]
  },
  {
   "cell_type": "code",
   "execution_count": null,
   "metadata": {},
   "outputs": [],
   "source": [
    "from nilearn.plotting import plot_contrast_matrix\n",
    "plot_contrast_matrix(active_minus_rest, design_matrix=fmri_glm.design_matrices_[0])  ####TODO ADD COLOR SCALE"
   ]
  },
  {
   "cell_type": "code",
   "execution_count": null,
   "metadata": {},
   "outputs": [],
   "source": [
    "import nibabel as nib\n",
    "z_map = fmri_glm.compute_contrast(active_minus_rest,\n",
    "                                  output_type='z_score')\n",
    "\n",
    "nib.save(z_map, 'z_map_uncorrected.nii.gz')"
   ]
  },
  {
   "cell_type": "code",
   "execution_count": null,
   "metadata": {},
   "outputs": [],
   "source": [
    "from nilearn.plotting import plot_stat_map\n",
    "from nilearn.image import mean_img\n",
    "mean_img_ = mean_img(fmri_img),\n",
    "plot_stat_map(z_map, bg_img=mean_img_[0], threshold=3.0,\n",
    "              display_mode='z', cut_coords=[-3,37,70], black_bg=True,\n",
    "              title='Active minus Rest (Z>3)')\n",
    "plt.show()"
   ]
  }
 ],
 "metadata": {
  "kernelspec": {
   "display_name": "base",
   "language": "python",
   "name": "python3"
  },
  "language_info": {
   "codemirror_mode": {
    "name": "ipython",
    "version": 3
   },
   "file_extension": ".py",
   "mimetype": "text/x-python",
   "name": "python",
   "nbconvert_exporter": "python",
   "pygments_lexer": "ipython3",
   "version": "3.11.9"
  }
 },
 "nbformat": 4,
 "nbformat_minor": 2
}
