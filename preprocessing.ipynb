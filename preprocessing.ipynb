{
 "cells": [
  {
   "cell_type": "markdown",
   "metadata": {},
   "source": [
    "# Utilities"
   ]
  },
  {
   "cell_type": "code",
   "execution_count": 1,
   "metadata": {},
   "outputs": [],
   "source": [
    "%gui wx\n",
    "import os\n",
    "from utils import loadFSL, FSLeyesServer, mkdir_no_exist, DownloadProgressBar, download_url, direct_file_download_open_neuro, get_json_from_file\n",
    "os.environ[\"DIPY_HOME\"] = \"./data/\"\n",
    "loadFSL()\n",
    "import fsl.wrappers\n",
    "from fsl.wrappers import fslmaths, mcflirt\n",
    "import mne_nirs\n",
    "import nilearn\n",
    "from nilearn.datasets import fetch_development_fmri\n",
    "import mne\n",
    "import mne_nirs\n",
    "import shutil\n",
    "import dipy\n",
    "from dipy.data import fetch_bundles_2_subjects, read_bundles_2_subjects\n",
    "import xml.etree.ElementTree as ET\n",
    "import os.path as op\n",
    "import nibabel as nib\n",
    "import glob\n",
    "import ants\n",
    "import openneuro\n",
    "from mne.datasets import sample\n",
    "from mne_bids import BIDSPath, read_raw_bids, print_dir_tree, make_report\n",
    "import requests\n",
    "import urllib.request\n",
    "from tqdm import tqdm\n",
    "from fsl.wrappers import fast, bet\n",
    "from fsl.wrappers.misc import fslroi\n",
    "from fsl.wrappers import flirt\n",
    "import glob\n",
    "import pandas as pd\n",
    "import numpy as np\n",
    "import json\n",
    "import subprocess\n",
    "import matplotlib.pyplot as plt\n",
    "import os\n",
    "import sys\n",
    "\n",
    "sys.stderr = open(os.devnull, 'w')\n",
    "os.environ['G_DEBUG'] = 'fatal-warnings'"
   ]
  },
  {
   "cell_type": "code",
   "execution_count": 2,
   "metadata": {},
   "outputs": [],
   "source": [
    "%load_ext autoreload\n",
    "%autoreload 2\n",
    "from utilities import get_skull_stripped_anatomical, apply_python_mask_approach, launch_freeview, fsl_anat_wrapped, load_mot_params_fsl_6_dof, compute_FD_power, apply_transform, combine_all_transforms, normalize_fMRI,run_subprocess, merge_to_mni, smooth_volume, normalize_fMRI_mean_std, normalize_fMRI_minmax"
   ]
  },
  {
   "cell_type": "code",
   "execution_count": 3,
   "metadata": {},
   "outputs": [],
   "source": [
    "%%capture\n",
    "fsleyesDisplay = FSLeyesServer()\n",
    "fsleyesDisplay.show()"
   ]
  },
  {
   "cell_type": "code",
   "execution_count": 4,
   "metadata": {},
   "outputs": [],
   "source": [
    "display = True"
   ]
  },
  {
   "cell_type": "code",
   "execution_count": 14,
   "metadata": {},
   "outputs": [],
   "source": [
    "number = 3"
   ]
  },
  {
   "cell_type": "markdown",
   "metadata": {},
   "source": [
    "# Folders"
   ]
  },
  {
   "cell_type": "code",
   "execution_count": 15,
   "metadata": {},
   "outputs": [],
   "source": [
    "dataset_id = 'ds000171' \n",
    "subject_id = f'control0{number}'    \n",
    "sample_path = \"./data/\" \n",
    "os.makedirs(sample_path, exist_ok=True)\n",
    "bids_root = op.join(sample_path, dataset_id)\n",
    "deriv_root = op.join(bids_root, 'derivatives') \n",
    "preproc_root = op.join(bids_root, 'derivatives', 'preprocessed_data') \n",
    "os.makedirs(bids_root, exist_ok=True)\n",
    "subject_dir = 'sub-{}'.format(subject_id)\n",
    "mni_template = op.expandvars(op.join('$FSLDIR', 'data', 'standard', 'MNI152_T1_1mm_brain'))"
   ]
  },
  {
   "cell_type": "code",
   "execution_count": 16,
   "metadata": {},
   "outputs": [],
   "source": [
    "anatomical_path = op.join(bids_root, f'sub-control0{number}', 'anat', f'sub-control0{number}_T1w.nii.gz')\n",
    "betted_brain_path = op.join(preproc_root, f'sub-control0{number}', 'anat', f'sub-control0{number}_T1w.nii.gz') \n",
    "resulting_mask_path = op.join(preproc_root, f'sub-control0{number}', 'anat', f'sub-control0{number}_T1w_mask.nii.gz') \n",
    "segmentation_path = op.join(preproc_root, f'sub-control0{number}', 'anat', f'sub-control0{number}_T1w_fast')\n",
    "mni_template = op.expandvars(op.join('$FSLDIR', 'data', 'standard', 'MNI152_T1_1mm_brain'))\n",
    "flirt_path = op.join(preproc_root, 'sub-{}'.format(subject_id), 'anat', 'sub-{}_T1w_mni'.format(subject_id))\n",
    "flirt_matrix_path = op.join(preproc_root, 'sub-{}'.format(subject_id), 'anat', 'sub-{}_T1w_mni_lin.mat'.format(subject_id))\n",
    "ants_t1_mni_path = op.join(preproc_root, 'sub-{}'.format(subject_id), 'anat', 'sub-{}_T1w_mni_SyN'.format(subject_id))\n",
    "ants_t1_mni_path_warp = ants_t1_mni_path+\"_warp.nii.gz\"\n",
    "\n",
    "\n",
    "functional_concatenated= op.join(preproc_root,f\"sub-control0{number}/func\", f'sub-control0{number}_task-music_concat_bold.nii.gz')\n",
    "path_moco_data = op.join(preproc_root, f'sub-control0{number}', 'func', f'sub-control0{number}_task-music_concat_bold_moco')"
   ]
  },
  {
   "cell_type": "markdown",
   "metadata": {},
   "source": [
    "## Download"
   ]
  },
  {
   "cell_type": "code",
   "execution_count": 24,
   "metadata": {},
   "outputs": [
    {
     "name": "stdout",
     "output_type": "stream",
     "text": [
      "\n",
      "👋 Hello! This is openneuro-py 2024.2.0. Great to see you! 🤗\n",
      "\n",
      "   👉 Please report problems 🤯 and bugs 🪲 at\n",
      "      https://github.com/hoechenberger/openneuro-py/issues\n",
      "\n",
      "🌍 Preparing to download ds000171 …\n",
      "Cannot determine local revision of the dataset, and the target directory is not empty. If the download fails, you may want to try again with a fresh (empty) target directory.\n",
      "  Request timed out while fetching metadata, retrying …\n",
      "  Request timed out while fetching metadata, retrying …\n",
      "📥 Retrieving up to 15 files (5 concurrent downloads). \n",
      "✅ Finished downloading ds000171.\n",
      " \n",
      "🧠 Please enjoy your brains.\n",
      " \n"
     ]
    }
   ],
   "source": [
    "%%capture\n",
    "subprocess.run([\"openneuro-py\", \"download\", \"--dataset\", dataset_id, \n",
    "                \"--target-dir\", bids_root, \n",
    "                \"--include\", op.join(subject_dir, '*'),    \n",
    "               ], check=False) \n",
    "os.makedirs(op.join(bids_root, 'derivatives'), exist_ok=True)\n",
    "preproc_root = op.join(bids_root, 'derivatives', 'preprocessed_data') \n",
    "os.makedirs(op.join(preproc_root, subject_dir), exist_ok=True)\n",
    "os.makedirs(op.join(preproc_root, subject_dir, 'anat'), exist_ok=True)\n",
    "os.makedirs(op.join(preproc_root, subject_dir, 'func'), exist_ok=True)\n",
    "os.makedirs(op.join(preproc_root, subject_dir, 'fmap'), exist_ok=True)"
   ]
  },
  {
   "cell_type": "code",
   "execution_count": 30,
   "metadata": {},
   "outputs": [],
   "source": [
    "if display:\n",
    "    fsleyesDisplay.resetOverlays()\n",
    "    fsleyesDisplay.load(anatomical_path) "
   ]
  },
  {
   "cell_type": "markdown",
   "metadata": {},
   "source": [
    "## Skull stripping"
   ]
  },
  {
   "cell_type": "code",
   "execution_count": 22,
   "metadata": {},
   "outputs": [
    {
     "name": "stdout",
     "output_type": "stream",
     "text": [
      "Done with BET.\n"
     ]
    }
   ],
   "source": [
    "get_skull_stripped_anatomical(bids_root, preproc_root, f\"control0{number}\", robust=True)"
   ]
  },
  {
   "cell_type": "code",
   "execution_count": 23,
   "metadata": {},
   "outputs": [],
   "source": [
    "if display:\n",
    "    fsleyesDisplay.resetOverlays()\n",
    "    fsleyesDisplay.load(anatomical_path)\n",
    "    fsleyesDisplay.load(resulting_mask_path)"
   ]
  },
  {
   "cell_type": "code",
   "execution_count": 24,
   "metadata": {},
   "outputs": [],
   "source": [
    "apply_python_mask_approach(anatomical_path, resulting_mask_path, betted_brain_path)"
   ]
  },
  {
   "cell_type": "code",
   "execution_count": null,
   "metadata": {},
   "outputs": [],
   "source": [
    "if display:\n",
    "    fsleyesDisplay.resetOverlays()\n",
    "    fsleyesDisplay.load(betted_brain_path)"
   ]
  },
  {
   "cell_type": "markdown",
   "metadata": {},
   "source": [
    "## Tissue segmentation"
   ]
  },
  {
   "cell_type": "code",
   "execution_count": 25,
   "metadata": {},
   "outputs": [],
   "source": [
    "[os.remove(f) for f in glob.glob(op.join(preproc_root, f'sub-control0{number}', 'anat', '*fast*'))]\n",
    "fast(imgs=[betted_brain_path], out=segmentation_path, n_classes=3);"
   ]
  },
  {
   "cell_type": "markdown",
   "metadata": {},
   "source": [
    "Let's check the quality of the segmentation, shall we?\n",
    "We want to extract 3 tissue types here: the white matter, the grey matter and the csf. How well did fast perform?"
   ]
  },
  {
   "cell_type": "code",
   "execution_count": null,
   "metadata": {},
   "outputs": [
    {
     "name": "stdout",
     "output_type": "stream",
     "text": [
      "|ds000171/\n",
      "|--- CHANGES\n",
      "|--- README\n",
      "|--- dataset_description.json\n",
      "|--- participants.tsv\n",
      "|--- derivatives/\n",
      "|------ preprocessed_data/\n",
      "|--------- sub-control01/\n",
      "|------------ anat/\n",
      "|--------------- sub-control01_T1w.nii.gz\n",
      "|--------------- sub-control01_T1w_fast_mixeltype.nii.gz\n",
      "|--------------- sub-control01_T1w_fast_pve_0.nii.gz\n",
      "|--------------- sub-control01_T1w_fast_pve_1.nii.gz\n",
      "|--------------- sub-control01_T1w_fast_pve_2.nii.gz\n",
      "|--------------- sub-control01_T1w_fast_pveseg.nii.gz\n",
      "|--------------- sub-control01_T1w_fast_seg.nii.gz\n",
      "|--------------- sub-control01_T1w_mask.nii.gz\n",
      "|--------------- sub-control01_T1w_mni.nii.gz\n",
      "|--------------- sub-control01_T1w_mni_SyN.nii.gz\n",
      "|--------------- sub-control01_T1w_mni_SyN_warp.nii.gz\n",
      "|--------------- sub-control01_T1w_mni_leastsq.nii.gz\n",
      "|--------------- sub-control01_T1w_mni_lin.mat\n",
      "|--------------- sub-control01_T1w_mni_normcorr.nii.gz\n",
      "|------------ fmap/\n",
      "|------------ func/\n",
      "|--------------- sub-control01_task-music_concat_bold.nii.gz\n",
      "|--------------- sub-control01_task-music_concat_bold_bbr.mat\n",
      "|--------------- sub-control01_task-music_concat_bold_bbr.nii.gz\n",
      "|--------------- sub-control01_task-music_concat_bold_bbr_SyN_combined_warp.nii.gz\n",
      "|--------------- sub-control01_task-music_concat_bold_bbr_fast_wmedge.nii.gz\n",
      "|--------------- sub-control01_task-music_concat_bold_bbr_fast_wmseg.nii.gz\n",
      "|--------------- sub-control01_task-music_concat_bold_bbr_init.mat\n",
      "|--------------- sub-control01_task-music_concat_bold_bbr_linear_combined_warp.nii.gz\n",
      "|--------------- sub-control01_task-music_concat_bold_moco.nii.gz\n",
      "|--------------- sub-control01_task-music_concat_bold_moco.par\n",
      "|--------------- sub-control01_task-music_concat_bold_moco_bbr_std.dat\n",
      "|--------------- sub-control01_task-music_concat_bold_moco_bbr_std_smoothed-6mm.nii.gz\n",
      "|--------------- sub-control01_task-music_concat_bold_vol_middle.nii.gz\n",
      "|--------------- smoothed/\n",
      "|--------------- splits/\n",
      "|--------------- std/\n",
      "|--------------- sub-control01_task-music_concat_bold_moco.mat/\n",
      "|--------- sub-control02/\n",
      "|------------ anat/\n",
      "|--------------- sub-control02_T1w.nii.gz\n",
      "|--------------- sub-control02_T1w_fast_mixeltype.nii.gz\n",
      "|--------------- sub-control02_T1w_fast_pve_0.nii.gz\n",
      "|--------------- sub-control02_T1w_fast_pve_1.nii.gz\n",
      "|--------------- sub-control02_T1w_fast_pve_2.nii.gz\n",
      "|--------------- sub-control02_T1w_fast_pveseg.nii.gz\n",
      "|--------------- sub-control02_T1w_fast_seg.nii.gz\n",
      "|--------------- sub-control02_T1w_mask.nii.gz\n",
      "|--------------- sub-control02_T1w_mni.nii.gz\n",
      "|--------------- sub-control02_T1w_mni_lin.mat\n",
      "|------------ fmap/\n",
      "|------------ func/\n",
      "|--------------- sub-control02_task-music_concat_bold.nii.gz\n",
      "|--------------- sub-control02_task-music_concat_bold_moco.nii.gz\n",
      "|--------------- sub-control02_task-music_concat_bold_moco.par\n",
      "|--------------- sub-control02_task-music_concat_bold_moco.mat/\n",
      "|--------- sub-control03/\n",
      "|------------ anat/\n",
      "|------------ fmap/\n",
      "|------------ func/\n",
      "|--------- sub-control04/\n",
      "|------------ anat/\n",
      "|------------ fmap/\n",
      "|------------ func/\n",
      "|--------- sub-control05/\n",
      "|------------ anat/\n",
      "|------------ fmap/\n",
      "|------------ func/\n",
      "|--- sub-control01/\n",
      "|------ anat/\n",
      "|--------- sub-control01_T1w.nii.gz\n",
      "|------ func/\n",
      "|--------- sub-control01_task-music_run-1_bold.nii.gz\n",
      "|--------- sub-control01_task-music_run-1_bold_norm.nii.gz\n",
      "|--------- sub-control01_task-music_run-1_events.tsv\n",
      "|--------- sub-control01_task-music_run-2_bold.nii.gz\n",
      "|--------- sub-control01_task-music_run-2_bold_norm.nii.gz\n",
      "|--------- sub-control01_task-music_run-2_events.tsv\n",
      "|--------- sub-control01_task-music_run-3_bold.nii.gz\n",
      "|--------- sub-control01_task-music_run-3_bold_norm.nii.gz\n",
      "|--------- sub-control01_task-music_run-3_events.tsv\n",
      "|--------- sub-control01_task-nonmusic_run-4_bold.nii.gz\n",
      "|--------- sub-control01_task-nonmusic_run-4_events.tsv\n",
      "|--------- sub-control01_task-nonmusic_run-5_bold.nii.gz\n",
      "|--------- sub-control01_task-nonmusic_run-5_events.tsv\n",
      "|--- sub-control02/\n",
      "|------ anat/\n",
      "|--------- sub-control02_T1w.nii.gz\n",
      "|------ func/\n",
      "|--------- sub-control02_task-music_run-1_bold.nii.gz\n",
      "|--------- sub-control02_task-music_run-1_bold_norm.nii.gz\n",
      "|--------- sub-control02_task-music_run-1_events.tsv\n",
      "|--------- sub-control02_task-music_run-2_bold.nii.gz\n",
      "|--------- sub-control02_task-music_run-2_bold_norm.nii.gz\n",
      "|--------- sub-control02_task-music_run-2_events.tsv\n",
      "|--------- sub-control02_task-music_run-3_bold.nii.gz\n",
      "|--------- sub-control02_task-music_run-3_bold_norm.nii.gz\n",
      "|--------- sub-control02_task-music_run-3_events.tsv\n",
      "|--------- sub-control02_task-nonmusic_run-4_bold.nii.gz\n",
      "|--------- sub-control02_task-nonmusic_run-4_events.tsv\n",
      "|--------- sub-control02_task-nonmusic_run-5_bold.nii.gz\n",
      "|--------- sub-control02_task-nonmusic_run-5_events.tsv\n",
      "|--- sub-control03/\n",
      "|------ anat/\n",
      "|--------- sub-control03_T1w.nii.gz\n",
      "|------ func/\n",
      "|--------- sub-control03_task-music_run-3_bold.nii.gz\n",
      "|--------- sub-control03_task-music_run-3_events.tsv\n",
      "|--------- sub-control03_task-music_run-4_bold.nii.gz\n",
      "|--------- sub-control03_task-music_run-4_events.tsv\n",
      "|--------- sub-control03_task-music_run-5_bold.nii.gz\n",
      "|--------- sub-control03_task-music_run-5_events.tsv\n",
      "|--------- sub-control03_task-nonmusic_run-1_bold.nii.gz\n",
      "|--------- sub-control03_task-nonmusic_run-1_events.tsv\n",
      "|--------- sub-control03_task-nonmusic_run-2_bold.nii.gz\n",
      "|--------- sub-control03_task-nonmusic_run-2_events.tsv\n",
      "|--- sub-control04/\n",
      "|------ anat/\n",
      "|--------- sub-control04_T1w.nii.gz\n",
      "|------ func/\n",
      "|--------- sub-control04_task-music_run-3_bold.nii.gz\n",
      "|--------- sub-control04_task-music_run-3_events.tsv\n",
      "|--------- sub-control04_task-music_run-4_bold.nii.gz\n",
      "|--------- sub-control04_task-music_run-4_events.tsv\n",
      "|--------- sub-control04_task-music_run-5_bold.nii.gz\n",
      "|--------- sub-control04_task-music_run-5_events.tsv\n",
      "|--------- sub-control04_task-nonmusic_run-1_bold.nii.gz\n",
      "|--------- sub-control04_task-nonmusic_run-1_events.tsv\n",
      "|--------- sub-control04_task-nonmusic_run-2_bold.nii.gz\n",
      "|--------- sub-control04_task-nonmusic_run-2_events.tsv\n",
      "|--- sub-control05/\n",
      "|------ anat/\n",
      "|--------- sub-control05_T1w.nii.gz\n",
      "|------ func/\n",
      "|--------- sub-control05_task-music_run-3_bold.nii.gz\n",
      "|--------- sub-control05_task-music_run-3_events.tsv\n",
      "|--------- sub-control05_task-music_run-4_bold.nii.gz\n",
      "|--------- sub-control05_task-music_run-4_events.tsv\n",
      "|--------- sub-control05_task-music_run-5_bold.nii.gz\n",
      "|--------- sub-control05_task-music_run-5_events.tsv\n",
      "|--------- sub-control05_task-nonmusic_run-1_bold.nii.gz\n",
      "|--------- sub-control05_task-nonmusic_run-1_events.tsv\n",
      "|--------- sub-control05_task-nonmusic_run-2_bold.nii.gz\n",
      "|--------- sub-control05_task-nonmusic_run-2_events.tsv\n"
     ]
    }
   ],
   "source": [
    "print_dir_tree(bids_root, max_depth=5)"
   ]
  },
  {
   "cell_type": "markdown",
   "metadata": {},
   "source": [
    "The pve files correspond to our segmented tissues. We have exactly three files, because we set n_classes to 3 above:\n",
    "```python\n",
    "fast(..., n_classes=3)\n"
   ]
  },
  {
   "cell_type": "markdown",
   "metadata": {},
   "source": [
    "Display colors\n",
    "- pve_0 in <span style=\"color:red;\">red</span>\n",
    "- pve_1 in <span style=\"color:green;\">green</span>\n",
    "- pve_2 in <span style=\"color:blue;\">blue</span>"
   ]
  },
  {
   "cell_type": "code",
   "execution_count": null,
   "metadata": {},
   "outputs": [],
   "source": [
    "if display:\n",
    "    fsleyesDisplay.resetOverlays()\n",
    "    fsleyesDisplay.load(betted_brain_path)\n",
    "    # CSF\n",
    "    fsleyesDisplay.load(glob.glob(op.join(preproc_root, f'sub-control0{number}', 'anat','*pve_0*'))[0])\n",
    "    # GM\n",
    "    fsleyesDisplay.load(glob.glob(op.join(preproc_root, f'sub-control0{number}', 'anat','*pve_1*'))[0])\n",
    "    # WM\n",
    "    fsleyesDisplay.load(glob.glob(op.join(preproc_root, f'sub-control0{number}', 'anat','*pve_2*'))[0])\n",
    "\n",
    "    fsleyesDisplay.displayCtx.getOpts(fsleyesDisplay.overlayList[1]).cmap = 'Red'\n",
    "    fsleyesDisplay.displayCtx.getOpts(fsleyesDisplay.overlayList[2]).cmap = 'Green'\n",
    "    fsleyesDisplay.displayCtx.getOpts(fsleyesDisplay.overlayList[3]).cmap = 'Blue'\n"
   ]
  },
  {
   "cell_type": "markdown",
   "metadata": {},
   "source": [
    "# Coregistration MNI-T1"
   ]
  },
  {
   "cell_type": "markdown",
   "metadata": {},
   "source": [
    "### Linear normalization"
   ]
  },
  {
   "cell_type": "code",
   "execution_count": 26,
   "metadata": {},
   "outputs": [
    {
     "data": {
      "text/plain": [
       "{}"
      ]
     },
     "execution_count": 26,
     "metadata": {},
     "output_type": "execute_result"
    }
   ],
   "source": [
    "flirt(betted_brain_path, mni_template, out=flirt_path, omat = flirt_matrix_path)"
   ]
  },
  {
   "cell_type": "markdown",
   "metadata": {},
   "source": [
    "Visualize the result of flirt on top of the reference. What do you think of alignment?"
   ]
  },
  {
   "cell_type": "code",
   "execution_count": 40,
   "metadata": {},
   "outputs": [],
   "source": [
    "if display:\n",
    "    fsleyesDisplay.resetOverlays()\n",
    "    fsleyesDisplay.load(mni_template) \n",
    "    fsleyesDisplay.load(flirt_path)"
   ]
  },
  {
   "cell_type": "markdown",
   "metadata": {},
   "source": [
    "Which cost should we use? If you were in a pure void, there would be no right or wrong answer from the get-go. No choice but to experiment and find out!\n",
    "\n",
    "Hopefully, <a href=\"https://fsl.fmrib.ox.ac.uk/fsl/docs/#/registration/flirt/user_guide?id=flirt\">the documentation</a> should give you some pointers. What you want here is to register a T1 to a T1: this is a <u>within</u> modality registration, so you should restrict yourself only to costs appropriate to this type of modality! \n",
    "\n",
    "To help you, we've set up a cell that will run the different coregistrations for you. Simply fill in the different costs to consider :)"
   ]
  },
  {
   "cell_type": "code",
   "execution_count": 18,
   "metadata": {},
   "outputs": [],
   "source": [
    "possible_costs = ['mutualinfo', 'corratio', 'normcorr', 'normmi', 'leastsq', 'labeldiff']\n",
    "costs_to_consider = ['leastsq', 'normcorr'] \n",
    "# FIXME: ISSUE WITH THE LEASTSQ COST RESULT"
   ]
  },
  {
   "cell_type": "code",
   "execution_count": 19,
   "metadata": {},
   "outputs": [
    {
     "name": "stdout",
     "output_type": "stream",
     "text": [
      "\n",
      "Final result: \n",
      "3.458371 1.648305 3.627273 -990.534765 \n",
      "-2.861950 1.235282 4.578044 -54.943603 \n",
      "0.433791 -5.372595 2.300280 588.875671 \n",
      "0.000000 0.000000 0.000000 1.000000 \n",
      "\n",
      "\n",
      "Final result: \n",
      "0.003107 0.005315 -1.116440 204.932830 \n",
      "-0.935071 0.500262 0.007008 178.944986 \n",
      "0.501467 1.049276 -0.004127 -149.788866 \n",
      "0.000000 0.000000 0.000000 1.000000 \n",
      "\n"
     ]
    }
   ],
   "source": [
    "for c in costs_to_consider:\n",
    "    flirt(betted_brain_path, mni_template, out=flirt_path + '_' + c, cost=c)"
   ]
  },
  {
   "cell_type": "code",
   "execution_count": 20,
   "metadata": {},
   "outputs": [],
   "source": [
    "if display:\n",
    "    for c in costs_to_consider:\n",
    "        fsleyesDisplay.load(flirt_path + '_' + c)"
   ]
  },
  {
   "cell_type": "markdown",
   "metadata": {},
   "source": [
    "## Non linear normalization"
   ]
  },
  {
   "cell_type": "markdown",
   "metadata": {},
   "source": [
    "*FNIRT does NOT expect the input data to be skull-stripped.*"
   ]
  },
  {
   "cell_type": "code",
   "execution_count": 9,
   "metadata": {},
   "outputs": [],
   "source": [
    "moving_image = ants.image_read(betted_brain_path)\n",
    "fixed_image = ants.image_read(mni_template + '.nii.gz')\n",
    "transformation = ants.registration(fixed=fixed_image, moving=moving_image, type_of_transform='SyN')\n",
    "warpedImage = ants.apply_transforms(fixed=fixed_image, moving=moving_image, transformlist=transformation['fwdtransforms'])\n",
    "ants.image_write(warpedImage, ants_t1_mni_path + '.nii.gz')\n",
    "warp_field = ants.image_read(transformation['fwdtransforms'][0])\n",
    "nifti_warp_field = nib.Nifti1Image(warp_field.numpy(), affine=nib.load(transformation['fwdtransforms'][0]).affine)\n",
    "nib.save(nifti_warp_field, ants_t1_mni_path_warp)"
   ]
  },
  {
   "cell_type": "markdown",
   "metadata": {},
   "source": [
    "Look at the results and compare it against the linear coregistration. Which one do you prefer? Why?"
   ]
  },
  {
   "cell_type": "code",
   "execution_count": 37,
   "metadata": {},
   "outputs": [],
   "source": [
    "if display:\n",
    "\n",
    "    fsleyesDisplay.resetOverlays()\n",
    "    fsleyesDisplay.load(mni_template)\n",
    "    fsleyesDisplay.load(betted_brain_path)\n",
    "    fsleyesDisplay.load(ants_t1_mni_path + '.nii.gz')\n",
    "    fsleyesDisplay.load(ants_t1_mni_path_warp)"
   ]
  },
  {
   "cell_type": "markdown",
   "metadata": {},
   "source": [
    "# Volume removal\n"
   ]
  },
  {
   "cell_type": "code",
   "execution_count": null,
   "metadata": {},
   "outputs": [],
   "source": [
    "if display:\n",
    "    fsleyesDisplay.resetOverlays()\n",
    "    fsleyesDisplay.load(op.join(bids_root, f'sub-control0{number}', 'func', f'sub-control0{number}_task-music_run-2_bold.nii.gz'))"
   ]
  },
  {
   "cell_type": "markdown",
   "metadata": {},
   "source": [
    "### Field stabilization"
   ]
  },
  {
   "cell_type": "code",
   "execution_count": 27,
   "metadata": {},
   "outputs": [
    {
     "data": {
      "text/plain": [
       "['sub-control03_task-music_run-3_events.tsv',\n",
       " 'sub-control03_task-music_run-4_events.tsv',\n",
       " 'sub-control03_task-music_run-3_bold.nii.gz',\n",
       " 'sub-control03_task-music_run-4_bold.nii.gz',\n",
       " 'sub-control03_task-music_run-5_events.tsv',\n",
       " 'sub-control03_task-music_run-5_bold.nii.gz',\n",
       " 'sub-control03_task-nonmusic_run-1_bold.nii.gz',\n",
       " 'sub-control03_task-nonmusic_run-2_events.tsv',\n",
       " 'sub-control03_task-nonmusic_run-1_events.tsv',\n",
       " 'sub-control03_task-nonmusic_run-2_bold.nii.gz']"
      ]
     },
     "execution_count": 27,
     "metadata": {},
     "output_type": "execute_result"
    }
   ],
   "source": [
    "os.listdir(op.join(bids_root, f'sub-control0{number}', 'func'))"
   ]
  },
  {
   "cell_type": "code",
   "execution_count": 30,
   "metadata": {},
   "outputs": [
    {
     "data": {
      "text/plain": [
       "Text(0, 0.5, 'Mean voxel intensity')"
      ]
     },
     "execution_count": 30,
     "metadata": {},
     "output_type": "execute_result"
    },
    {
     "data": {
      "image/png": "[encoded data removed]",
      "text/plain": [
       "<Figure size 640x480 with 1 Axes>"
      ]
     },
     "metadata": {},
     "output_type": "display_data"
    }
   ],
   "source": [
    "import matplotlib.pyplot as plt\n",
    "import nibabel as nib\n",
    "for run in range(3,6):\n",
    "    bold_path = op.join(bids_root, f'sub-control0{number}', 'func', f'sub-control0{number}_task-music_run-{run}_bold.nii.gz')\n",
    "    bold_img = nib.load(bold_path)\n",
    "    bold_data = bold_img.get_fdata()\n",
    "    mean_data = bold_data.mean(axis=(0, 1, 2))\n",
    "    plt.plot(mean_data, label='Run {}'.format(run))\n",
    "plt.legend()\n",
    "plt.xlabel('Time (volume)')\n",
    "plt.ylabel('Mean voxel intensity')"
   ]
  },
  {
   "cell_type": "code",
   "execution_count": 31,
   "metadata": {},
   "outputs": [],
   "source": [
    "import matplotlib.pyplot as plt\n",
    "import nibabel as nib\n"
   ]
  },
  {
   "cell_type": "markdown",
   "metadata": {},
   "source": [
    "<h3>Correction of slice 17 in second run</h3>"
   ]
  },
  {
   "cell_type": "code",
   "execution_count": 32,
   "metadata": {},
   "outputs": [],
   "source": [
    "functional_2_path = op.join(bids_root, 'sub-control01', 'func', 'sub-control01_task-music_run-2_bold.nii.gz')"
   ]
  },
  {
   "cell_type": "code",
   "execution_count": 33,
   "metadata": {},
   "outputs": [],
   "source": [
    "img = nib.load(functional_2_path)\n",
    "data = img.get_fdata()\n",
    "data[:, :, 47, 17] = data[:, :, 46, 17]\n",
    "img_out = nib.Nifti1Image(data,img.affine, img.header)\n",
    "nib.save(img_out, op.join(bids_root, 'sub-control01', 'func', 'sub-control01_task-music_run-2_bold.nii.gz'))"
   ]
  },
  {
   "cell_type": "code",
   "execution_count": 31,
   "metadata": {},
   "outputs": [
    {
     "data": {
      "text/plain": [
       "Text(0, 0.5, 'Mean voxel intensity')"
      ]
     },
     "execution_count": 31,
     "metadata": {},
     "output_type": "execute_result"
    },
    {
     "data": {
      "image/png": "[encoded data removed]",
      "text/plain": [
       "<Figure size 640x480 with 1 Axes>"
      ]
     },
     "metadata": {},
     "output_type": "display_data"
    }
   ],
   "source": [
    "import matplotlib.pyplot as plt\n",
    "import nibabel as nib\n",
    "for run in range(3,6):\n",
    "    bold_path = op.join(bids_root, f'sub-control0{number}', 'func', f'sub-control0{number}_task-music_run-{run}_bold.nii.gz')\n",
    "    bold_img = nib.load(bold_path)\n",
    "    bold_data = bold_img.get_fdata()\n",
    "    mean_data = bold_data.mean(axis=(0, 1, 2))\n",
    "    plt.plot(mean_data, label='Run {}'.format(run))\n",
    "plt.legend()\n",
    "plt.xlabel('Time (volume)')\n",
    "plt.ylabel('Mean voxel intensity')"
   ]
  },
  {
   "cell_type": "code",
   "execution_count": 33,
   "metadata": {},
   "outputs": [],
   "source": [
    "for run in range(3,6):\n",
    "    bold_path = op.join(bids_root, f'sub-control0{number}', 'func', f'sub-control0{number}_task-music_run-{run}_bold.nii.gz')\n",
    "    out_path = op.join(bids_root, f'sub-control0{number}', 'func', f'sub-control0{number}_task-music_run-{run}_bold_norm.nii.gz')\n",
    "    normalize_fMRI_mean_std(bold_path, out_path)\n"
   ]
  },
  {
   "cell_type": "code",
   "execution_count": 34,
   "metadata": {},
   "outputs": [
    {
     "data": {
      "image/png": "[encoded data removed]",
      "text/plain": [
       "<Figure size 640x480 with 1 Axes>"
      ]
     },
     "metadata": {},
     "output_type": "display_data"
    }
   ],
   "source": [
    "for run in range(3,6):\n",
    "    out_path = op.join(bids_root, f'sub-control0{number}', 'func', f'sub-control0{number}_task-music_run-{run}_bold_norm.nii.gz')\n",
    "    plt.plot(nib.load(out_path).get_fdata().mean(axis=(0,1,2)), label='Run 1')\n",
    "\n",
    "plt.xlabel('Time (volume)')\n",
    "plt.ylabel('Mean voxel intensity')\n",
    "plt.legend()\n",
    "plt.show()"
   ]
  },
  {
   "cell_type": "markdown",
   "metadata": {},
   "source": [
    "<h2>Concatenation of data</h2>"
   ]
  },
  {
   "cell_type": "code",
   "execution_count": 35,
   "metadata": {},
   "outputs": [
    {
     "name": "stdout",
     "output_type": "stream",
     "text": [
      "(80, 80, 50, 105)\n",
      "(80, 80, 50, 105)\n",
      "(80, 80, 50, 105)\n"
     ]
    }
   ],
   "source": [
    "data = []\n",
    "aff = []\n",
    "headers = []\n",
    "for run in range(3,6):\n",
    "    out_path = op.join(bids_root, f'sub-control0{number}', 'func', f'sub-control0{number}_task-music_run-{run}_bold_norm.nii.gz')\n",
    "    img = nib.load(out_path)\n",
    "    aff.append(img.affine)\n",
    "    headers.append(img.header)\n",
    "    img = img.get_fdata()\n",
    "    print(img.shape)\n",
    "    data.append(img)\n",
    "data = np.concatenate((data), axis = 3)"
   ]
  },
  {
   "cell_type": "code",
   "execution_count": 36,
   "metadata": {},
   "outputs": [],
   "source": [
    "img_out = nib.Nifti1Image(data,aff[0],headers[0])\n",
    "nib.save(img_out, functional_concatenated)"
   ]
  },
  {
   "cell_type": "code",
   "execution_count": 57,
   "metadata": {},
   "outputs": [],
   "source": [
    "if display:\n",
    "    fsleyesDisplay.resetOverlays()\n",
    "    fsleyesDisplay.load(functional_concatenated)"
   ]
  },
  {
   "cell_type": "markdown",
   "metadata": {},
   "source": [
    "## Motion correction"
   ]
  },
  {
   "cell_type": "code",
   "execution_count": 37,
   "metadata": {},
   "outputs": [
    {
     "name": "stdout",
     "output_type": "stream",
     "text": [
      "refnum = 157\n",
      "Original_refvol = -1\n"
     ]
    },
    {
     "data": {
      "text/plain": [
       "{}"
      ]
     },
     "execution_count": 37,
     "metadata": {},
     "output_type": "execute_result"
    }
   ],
   "source": [
    "mcflirt(\n",
    "    infile=functional_concatenated,  # The input file (original BOLD data)\n",
    "    o=path_moco_data,           # The output file (motion-corrected data)\n",
    "    plots=True,                 # Generate plots for visualizing motion correction.\n",
    "    report=True,                # Generate a report on the motion correction process.\n",
    "    dof=6,                      # Set degrees of freedom to 6 for rigid-body transformation.\n",
    "    mats=True                   # Save the transformation matrices.\n",
    ")"
   ]
  },
  {
   "cell_type": "code",
   "execution_count": 41,
   "metadata": {},
   "outputs": [],
   "source": [
    "if True:\n",
    "    fsleyesDisplay.resetOverlays() \n",
    "    fsleyesDisplay.load(functional_concatenated)\n",
    "    fsleyesDisplay.load(path_moco_data) "
   ]
  },
  {
   "cell_type": "markdown",
   "metadata": {},
   "source": [
    "The motion parameters are stored in the .par file produced by MCFLIRT. Notice that since each volume moved differently, we have one transformation per volume, thus one set of motion parameters per volume as well. We provide you with a way to load these parameters:"
   ]
  },
  {
   "cell_type": "code",
   "execution_count": 38,
   "metadata": {},
   "outputs": [
    {
     "data": {
      "text/html": [
       "<div>\n",
       "<style scoped>\n",
       "    .dataframe tbody tr th:only-of-type {\n",
       "        vertical-align: middle;\n",
       "    }\n",
       "\n",
       "    .dataframe tbody tr th {\n",
       "        vertical-align: top;\n",
       "    }\n",
       "\n",
       "    .dataframe thead th {\n",
       "        text-align: right;\n",
       "    }\n",
       "</style>\n",
       "<table border=\"1\" class=\"dataframe\">\n",
       "  <thead>\n",
       "    <tr style=\"text-align: right;\">\n",
       "      <th></th>\n",
       "      <th>Rotation x</th>\n",
       "      <th>Rotation y</th>\n",
       "      <th>Rotation z</th>\n",
       "      <th>Translation x</th>\n",
       "      <th>Translation y</th>\n",
       "      <th>Translation z</th>\n",
       "    </tr>\n",
       "  </thead>\n",
       "  <tbody>\n",
       "    <tr>\n",
       "      <th>0</th>\n",
       "      <td>-0.004329</td>\n",
       "      <td>0.001285</td>\n",
       "      <td>-0.004073</td>\n",
       "      <td>-0.114716</td>\n",
       "      <td>0.085176</td>\n",
       "      <td>0.204557</td>\n",
       "    </tr>\n",
       "    <tr>\n",
       "      <th>1</th>\n",
       "      <td>-0.005123</td>\n",
       "      <td>0.001128</td>\n",
       "      <td>-0.003870</td>\n",
       "      <td>-0.118333</td>\n",
       "      <td>0.127714</td>\n",
       "      <td>0.233086</td>\n",
       "    </tr>\n",
       "    <tr>\n",
       "      <th>2</th>\n",
       "      <td>-0.005445</td>\n",
       "      <td>0.001048</td>\n",
       "      <td>-0.003875</td>\n",
       "      <td>-0.118319</td>\n",
       "      <td>0.124049</td>\n",
       "      <td>0.245112</td>\n",
       "    </tr>\n",
       "    <tr>\n",
       "      <th>3</th>\n",
       "      <td>-0.005300</td>\n",
       "      <td>0.001110</td>\n",
       "      <td>-0.003887</td>\n",
       "      <td>-0.118336</td>\n",
       "      <td>0.114174</td>\n",
       "      <td>0.209395</td>\n",
       "    </tr>\n",
       "    <tr>\n",
       "      <th>4</th>\n",
       "      <td>-0.005514</td>\n",
       "      <td>0.001552</td>\n",
       "      <td>-0.004284</td>\n",
       "      <td>-0.111895</td>\n",
       "      <td>0.153666</td>\n",
       "      <td>0.248530</td>\n",
       "    </tr>\n",
       "    <tr>\n",
       "      <th>...</th>\n",
       "      <td>...</td>\n",
       "      <td>...</td>\n",
       "      <td>...</td>\n",
       "      <td>...</td>\n",
       "      <td>...</td>\n",
       "      <td>...</td>\n",
       "    </tr>\n",
       "    <tr>\n",
       "      <th>310</th>\n",
       "      <td>-0.003733</td>\n",
       "      <td>-0.000147</td>\n",
       "      <td>0.000524</td>\n",
       "      <td>-0.008971</td>\n",
       "      <td>0.358944</td>\n",
       "      <td>0.344767</td>\n",
       "    </tr>\n",
       "    <tr>\n",
       "      <th>311</th>\n",
       "      <td>-0.003719</td>\n",
       "      <td>0.000030</td>\n",
       "      <td>0.000656</td>\n",
       "      <td>-0.017083</td>\n",
       "      <td>0.350994</td>\n",
       "      <td>0.342445</td>\n",
       "    </tr>\n",
       "    <tr>\n",
       "      <th>312</th>\n",
       "      <td>-0.003731</td>\n",
       "      <td>0.000030</td>\n",
       "      <td>0.000656</td>\n",
       "      <td>-0.010030</td>\n",
       "      <td>0.346402</td>\n",
       "      <td>0.329971</td>\n",
       "    </tr>\n",
       "    <tr>\n",
       "      <th>313</th>\n",
       "      <td>-0.003530</td>\n",
       "      <td>-0.000041</td>\n",
       "      <td>0.000656</td>\n",
       "      <td>0.000147</td>\n",
       "      <td>0.340483</td>\n",
       "      <td>0.332365</td>\n",
       "    </tr>\n",
       "    <tr>\n",
       "      <th>314</th>\n",
       "      <td>-0.003549</td>\n",
       "      <td>-0.000115</td>\n",
       "      <td>0.000858</td>\n",
       "      <td>0.007196</td>\n",
       "      <td>0.329637</td>\n",
       "      <td>0.323278</td>\n",
       "    </tr>\n",
       "  </tbody>\n",
       "</table>\n",
       "<p>315 rows × 6 columns</p>\n",
       "</div>"
      ],
      "text/plain": [
       "     Rotation x  Rotation y  Rotation z  Translation x  Translation y  \\\n",
       "0     -0.004329    0.001285   -0.004073      -0.114716       0.085176   \n",
       "1     -0.005123    0.001128   -0.003870      -0.118333       0.127714   \n",
       "2     -0.005445    0.001048   -0.003875      -0.118319       0.124049   \n",
       "3     -0.005300    0.001110   -0.003887      -0.118336       0.114174   \n",
       "4     -0.005514    0.001552   -0.004284      -0.111895       0.153666   \n",
       "..          ...         ...         ...            ...            ...   \n",
       "310   -0.003733   -0.000147    0.000524      -0.008971       0.358944   \n",
       "311   -0.003719    0.000030    0.000656      -0.017083       0.350994   \n",
       "312   -0.003731    0.000030    0.000656      -0.010030       0.346402   \n",
       "313   -0.003530   -0.000041    0.000656       0.000147       0.340483   \n",
       "314   -0.003549   -0.000115    0.000858       0.007196       0.329637   \n",
       "\n",
       "     Translation z  \n",
       "0         0.204557  \n",
       "1         0.233086  \n",
       "2         0.245112  \n",
       "3         0.209395  \n",
       "4         0.248530  \n",
       "..             ...  \n",
       "310       0.344767  \n",
       "311       0.342445  \n",
       "312       0.329971  \n",
       "313       0.332365  \n",
       "314       0.323278  \n",
       "\n",
       "[315 rows x 6 columns]"
      ]
     },
     "execution_count": 38,
     "metadata": {},
     "output_type": "execute_result"
    }
   ],
   "source": [
    "mot_params = load_mot_params_fsl_6_dof(op.join(preproc_root, f'sub-control0{number}', 'func', f'sub-control0{number}_task-music_concat_bold_moco.par')) \n",
    "mot_params"
   ]
  },
  {
   "cell_type": "markdown",
   "metadata": {},
   "source": [
    "Based on **translation on X alone**, can you find perhaps a volume which exceeds with respect to the **preceding volume** a 0.2 mm displacement?"
   ]
  },
  {
   "cell_type": "code",
   "execution_count": 39,
   "metadata": {},
   "outputs": [
    {
     "data": {
      "image/png": "[encoded data removed]",
      "text/plain": [
       "<Figure size 640x480 with 1 Axes>"
      ]
     },
     "metadata": {},
     "output_type": "display_data"
    }
   ],
   "source": [
    "trans_x = mot_params[\"Translation x\"] # Getting the translation on X\n",
    "# Now, we want a 0.2mm with respect to previous frame:\n",
    "disp_x = np.diff(trans_x) # Getting the displacement on X. We use np.diff to calculate the difference between consecutive elements in the translation on X.\n",
    "# Lastly, we can ask for displacements (in absolute value) above 0.2mm and plot it to be clear:\n",
    "threshold=0.2 \n",
    "plt.plot(np.abs(disp_x))\n",
    "plt.hlines(threshold, 0, len(disp_x),colors='black', linestyles='dashed', label='FD threshold')\n",
    "plt.xlabel(\"Volumes\")\n",
    "plt.ylabel(\"Framewise translation displacement (mm)\")\n",
    "plt.show()"
   ]
  },
  {
   "cell_type": "markdown",
   "metadata": {},
   "source": [
    "Now, we can use the code below to extract an aggregate measure of motion for all volumes. "
   ]
  },
  {
   "cell_type": "code",
   "execution_count": 40,
   "metadata": {},
   "outputs": [],
   "source": [
    "fd = compute_FD_power(mot_params).to_numpy()"
   ]
  },
  {
   "cell_type": "code",
   "execution_count": 41,
   "metadata": {},
   "outputs": [],
   "source": [
    "threshold = np.quantile(fd,0.75) + 1.5*(np.quantile(fd,0.75) - np.quantile(fd,0.25))"
   ]
  },
  {
   "cell_type": "code",
   "execution_count": 42,
   "metadata": {},
   "outputs": [
    {
     "data": {
      "application/vnd.plotly.v1+json": {
       "config": {
        "plotlyServerURL": "https://plot.ly"
       },
       "data": [
        {
         "hovertemplate": "Volume=%{x}<br>FD displacement (mm)=%{y}<extra></extra>",
         "legendgroup": "",
         "line": {
          "color": "#636efa",
          "dash": "solid"
         },
         "marker": {
          "symbol": "circle"
         },
         "mode": "lines",
         "name": "",
         "orientation": "v",
         "showlegend": false,
         "type": "scatter",
         "x": [
          1,
          2,
          3,
          4,
          5,
          6,
          7,
          8,
          9,
          10,
          11,
          12,
          13,
          14,
          15,
          16,
          17,
          18,
          19,
          20,
          21,
          22,
          23,
          24,
          25,
          26,
          27,
          28,
          29,
          30,
          31,
          32,
          33,
          34,
          35,
          36,
          37,
          38,
          39,
          40,
          41,
          42,
          43,
          44,
          45,
          46,
          47,
          48,
          49,
          50,
          51,
          52,
          53,
          54,
          55,
          56,
          57,
          58,
          59,
          60,
          61,
          62,
          63,
          64,
          65,
          66,
          67,
          68,
          69,
          70,
          71,
          72,
          73,
          74,
          75,
          76,
          77,
          78,
          79,
          80,
          81,
          82,
          83,
          84,
          85,
          86,
          87,
          88,
          89,
          90,
          91,
          92,
          93,
          94,
          95,
          96,
          97,
          98,
          99,
          100,
          101,
          102,
          103,
          104,
          105,
          106,
          107,
          108,
          109,
          110,
          111,
          112,
          113,
          114,
          115,
          116,
          117,
          118,
          119,
          120,
          121,
          122,
          123,
          124,
          125,
          126,
          127,
          128,
          129,
          130,
          131,
          132,
          133,
          134,
          135,
          136,
          137,
          138,
          139,
          140,
          141,
          142,
          143,
          144,
          145,
          146,
          147,
          148,
          149,
          150,
          151,
          152,
          153,
          154,
          155,
          156,
          157,
          158,
          159,
          160,
          161,
          162,
          163,
          164,
          165,
          166,
          167,
          168,
          169,
          170,
          171,
          172,
          173,
          174,
          175,
          176,
          177,
          178,
          179,
          180,
          181,
          182,
          183,
          184,
          185,
          186,
          187,
          188,
          189,
          190,
          191,
          192,
          193,
          194,
          195,
          196,
          197,
          198,
          199,
          200,
          201,
          202,
          203,
          204,
          205,
          206,
          207,
          208,
          209,
          210,
          211,
          212,
          213,
          214,
          215,
          216,
          217,
          218,
          219,
          220,
          221,
          222,
          223,
          224,
          225,
          226,
          227,
          228,
          229,
          230,
          231,
          232,
          233,
          234,
          235,
          236,
          237,
          238,
          239,
          240,
          241,
          242,
          243,
          244,
          245,
          246,
          247,
          248,
          249,
          250,
          251,
          252,
          253,
          254,
          255,
          256,
          257,
          258,
          259,
          260,
          261,
          262,
          263,
          264,
          265,
          266,
          267,
          268,
          269,
          270,
          271,
          272,
          273,
          274,
          275,
          276,
          277,
          278,
          279,
          280,
          281,
          282,
          283,
          284,
          285,
          286,
          287,
          288,
          289,
          290,
          291,
          292,
          293,
          294,
          295,
          296,
          297,
          298,
          299,
          300,
          301,
          302,
          303,
          304,
          305,
          306,
          307,
          308,
          309,
          310,
          311,
          312,
          313,
          314
         ],
         "xaxis": "x",
         "y": [
          0.13230270000000002,
          0.036119500000000006,
          0.05660850000000002,
          0.13776899999999997,
          0.06984099999999999,
          0.030942000000000008,
          0.06960650000000002,
          0.051081499999999995,
          0.06637900000000002,
          0.0498088,
          0.451492,
          0.25101680000000004,
          0.1814844,
          0.21014269999999996,
          0.07448400000000001,
          0.09521009999999999,
          0.04330609999999996,
          0.1223589,
          0.0630085,
          0.08159500000000006,
          0.06810770000000001,
          0.05231650000000001,
          0.03887799999999998,
          0.077073,
          0.043506500000000004,
          0.07498700000000003,
          0.042098500000000025,
          0.03906250000000002,
          0.12816749999999993,
          0.055618000000000035,
          0.04263100000000004,
          0.09122749999999996,
          0.07180149999999999,
          0.06440449999999998,
          0.07118800000000006,
          0.09672500000000003,
          0.07334200000000003,
          0.03758749999999998,
          0.02212699999999995,
          0.0395025,
          0.08152699999999999,
          0.051182499999999985,
          0.1102215,
          0.1027225,
          0.12029499999999996,
          0.060788899999999965,
          0.031933400000000015,
          0.07761284999999993,
          0.04574910000000001,
          0.09842305,
          0.028144950000000033,
          0.03946415000000002,
          0.08604419999999996,
          0.07541029999999997,
          0.0501469,
          0.0228765,
          0.06352719999999999,
          0.02500749999999999,
          0.04666340000000002,
          0.05735294999999997,
          0.04109615,
          0.05201885,
          0.03482800000000001,
          0.07852104999999998,
          0.08621129999999996,
          0.03367955000000002,
          0.07472550000000001,
          0.06276839999999997,
          0.07887855000000002,
          0.05481729999999995,
          0.035175399999999996,
          0.03465199999999995,
          0.028858599999999977,
          0.035380300000000024,
          0.029053249999999996,
          0.05728294999999997,
          0.09971860000000006,
          0.1145147,
          0.22235355,
          0.12544014999999994,
          0.09951940000000001,
          0.025239450000000038,
          0.029641249999999945,
          0.5509038,
          0.6883380000000001,
          0.10317135000000001,
          0.13674215000000006,
          0.2328873999999999,
          0.12664675000000003,
          0.09351175000000007,
          0.37580415000000006,
          0.09097135,
          0.06303645000000001,
          0.030044249999999995,
          0.052312450000000045,
          0.048051099999999985,
          0.035987899999999975,
          0.02802599999999994,
          0.05436499999999999,
          0.04993604999999999,
          0.08360665,
          0.04596034999999998,
          0.04904700000000001,
          0.06577994999999993,
          1.24250135,
          0.0866684,
          0.10218795000000001,
          0.027768799999999993,
          0.0103391,
          0.10595649,
          0.05882130000000001,
          0.08269507,
          0.014797229999999996,
          0.03670672999999999,
          0.026625219999999995,
          0.0592991,
          0.080204365,
          0.059826700000000003,
          0.06589263000000001,
          0.03835404,
          0.018603009999999996,
          0.019343710000000007,
          0.0630875,
          0.017123549999999998,
          0.037337085,
          0.037613615,
          0.02881855,
          0.02929734,
          0.027052830000000003,
          0.061199425,
          0.04957148,
          0.07217102,
          0.09089139999999998,
          0.05164088,
          0.026804724999999995,
          0.049244825,
          0.069236345,
          0.05812329500000001,
          0.10872976000000001,
          0.33728156,
          0.16536674099999998,
          0.05284332,
          0.075765661,
          0.0661490547,
          0.0288239907,
          0.014540633200000003,
          0.02689795291,
          0.08422251235,
          0.03717097264718,
          0.029631150212623004,
          0.053176565794557,
          0.04348938751,
          0.058894867604,
          0.031800995094,
          0.0482628597,
          0.02612845383,
          0.01121423203,
          0.03535470769,
          0.05180539013,
          0.04264785588,
          0.09080386412,
          0.058025407400000006,
          0.09097997000000001,
          0.06868495,
          0.36534581999999993,
          0.10724037,
          0.23966924499999998,
          0.023368615,
          0.034677469999999995,
          0.05196959999999999,
          0.04501120499999999,
          0.053715435000000006,
          0.03284915,
          0.039347560000000004,
          0.02843012,
          0.07121729,
          0.04995404,
          0.04660576,
          0.07461435,
          0.02671341,
          0.04911398,
          0.027908439900000005,
          0.0273486349,
          0.022563699999999996,
          0.029063785,
          0.035614265,
          0.018668499999999994,
          0.05866879,
          0.02001664,
          0.062377529900000006,
          0.0719213999,
          0.03529645,
          0.02822067999999999,
          0.03694789,
          0.04741899499999999,
          0.055132127,
          0.202923887,
          0.05148645,
          0.08865146,
          0.07160186999999998,
          0.053727369999999997,
          0.07643127,
          0.0707882,
          0.038792315,
          0.049009379000000006,
          0.135468594,
          0.05011714999999998,
          0.051866600000000006,
          0.060050650000000004,
          0.30597625,
          0.062946155,
          0.316650735,
          0.89995835,
          0.2550851500000001,
          0.1903681,
          0.08053785000000002,
          0.1725443725,
          0.11788622749999998,
          0.090422535,
          0.122616285,
          0.0898744,
          0.06743201499999998,
          0.036128520000000004,
          0.09870051500000002,
          0.05827170000000002,
          0.05986030000000001,
          0.08251817,
          0.04515707999999999,
          0.060798269999999995,
          0.07591015,
          0.03898366999999999,
          0.016801624999999973,
          0.03381557499999999,
          0.11850651499999998,
          0.06402986999999999,
          0.061371060000000005,
          0.040552015,
          0.029409639999999994,
          0.023662180000000005,
          0.012864565000000001,
          0.029587234999999996,
          0.03629985,
          0.13740209999999997,
          0.077784555,
          0.09396329499999999,
          0.027349010000000003,
          0.0478522,
          0.07343305,
          0.04410011999999999,
          0.03200007000000002,
          0.053796300000000005,
          0.035854359999999995,
          0.03471064,
          0.0747623,
          0.023844499999999984,
          0.0325955,
          0.06632985000000002,
          0.05609165000000001,
          0.0645393,
          0.05589505,
          0.034767950000000006,
          0.0329604,
          0.039305499999999986,
          0.039254250000000004,
          0.046112799999999995,
          0.07843619999999998,
          0.03414229999999999,
          0.026670199999999998,
          0.06520455,
          0.05397559999999999,
          0.1290685,
          0.2287121,
          0.15000950000000002,
          0.18489995,
          0.060755150000000036,
          0.14593699999999998,
          0.11462945500000003,
          0.03756657000000002,
          0.053337405000000025,
          0.17356034,
          0.05898857000000002,
          0.04308899000000001,
          0.30856413,
          0.18132094900000004,
          0.10001652700000002,
          0.114902592,
          0.039780146999999974,
          0.093711397,
          0.018668252000000007,
          0.026403918,
          0.05870039999999996,
          0.04334415,
          0.07479525000000006,
          0.058619799999999986,
          0.07453509999999994,
          0.03462850000000002,
          0.10715625000000001,
          0.03782200499999999,
          0.045568925,
          0.061641580000000015,
          0.07732692499999999,
          0.04245179,
          0.06453146499999998,
          0.033302399999999996,
          0.024341000000000036,
          0.03798639999999999,
          0.04574394999999999,
          0.033741750000000015,
          0.0633707,
          0.018322629999999982,
          0.034567335,
          0.024731299999999953,
          0.032061431,
          0.04170512399999998
         ],
         "yaxis": "y"
        }
       ],
       "layout": {
        "annotations": [
         {
          "showarrow": false,
          "text": "FD threshold",
          "x": 1,
          "xanchor": "right",
          "xref": "x domain",
          "y": 0.1496879712500001,
          "yanchor": "top",
          "yref": "y"
         }
        ],
        "legend": {
         "tracegroupgap": 0
        },
        "margin": {
         "t": 60
        },
        "shapes": [
         {
          "line": {
           "dash": "dash"
          },
          "type": "line",
          "x0": 0,
          "x1": 1,
          "xref": "x domain",
          "y0": 0.1496879712500001,
          "y1": 0.1496879712500001,
          "yref": "y"
         }
        ],
        "template": {
         "data": {
          "bar": [
           {
            "error_x": {
             "color": "#2a3f5f"
            },
            "error_y": {
             "color": "#2a3f5f"
            },
            "marker": {
             "line": {
              "color": "#E5ECF6",
              "width": 0.5
             },
             "pattern": {
              "fillmode": "overlay",
              "size": 10,
              "solidity": 0.2
             }
            },
            "type": "bar"
           }
          ],
          "barpolar": [
           {
            "marker": {
             "line": {
              "color": "#E5ECF6",
              "width": 0.5
             },
             "pattern": {
              "fillmode": "overlay",
              "size": 10,
              "solidity": 0.2
             }
            },
            "type": "barpolar"
           }
          ],
          "carpet": [
           {
            "aaxis": {
             "endlinecolor": "#2a3f5f",
             "gridcolor": "white",
             "linecolor": "white",
             "minorgridcolor": "white",
             "startlinecolor": "#2a3f5f"
            },
            "baxis": {
             "endlinecolor": "#2a3f5f",
             "gridcolor": "white",
             "linecolor": "white",
             "minorgridcolor": "white",
             "startlinecolor": "#2a3f5f"
            },
            "type": "carpet"
           }
          ],
          "choropleth": [
           {
            "colorbar": {
             "outlinewidth": 0,
             "ticks": ""
            },
            "type": "choropleth"
           }
          ],
          "contour": [
           {
            "colorbar": {
             "outlinewidth": 0,
             "ticks": ""
            },
            "colorscale": [
             [
              0,
              "#0d0887"
             ],
             [
              0.1111111111111111,
              "#46039f"
             ],
             [
              0.2222222222222222,
              "#7201a8"
             ],
             [
              0.3333333333333333,
              "#9c179e"
             ],
             [
              0.4444444444444444,
              "#bd3786"
             ],
             [
              0.5555555555555556,
              "#d8576b"
             ],
             [
              0.6666666666666666,
              "#ed7953"
             ],
             [
              0.7777777777777778,
              "#fb9f3a"
             ],
             [
              0.8888888888888888,
              "#fdca26"
             ],
             [
              1,
              "#f0f921"
             ]
            ],
            "type": "contour"
           }
          ],
          "contourcarpet": [
           {
            "colorbar": {
             "outlinewidth": 0,
             "ticks": ""
            },
            "type": "contourcarpet"
           }
          ],
          "heatmap": [
           {
            "colorbar": {
             "outlinewidth": 0,
             "ticks": ""
            },
            "colorscale": [
             [
              0,
              "#0d0887"
             ],
             [
              0.1111111111111111,
              "#46039f"
             ],
             [
              0.2222222222222222,
              "#7201a8"
             ],
             [
              0.3333333333333333,
              "#9c179e"
             ],
             [
              0.4444444444444444,
              "#bd3786"
             ],
             [
              0.5555555555555556,
              "#d8576b"
             ],
             [
              0.6666666666666666,
              "#ed7953"
             ],
             [
              0.7777777777777778,
              "#fb9f3a"
             ],
             [
              0.8888888888888888,
              "#fdca26"
             ],
             [
              1,
              "#f0f921"
             ]
            ],
            "type": "heatmap"
           }
          ],
          "heatmapgl": [
           {
            "colorbar": {
             "outlinewidth": 0,
             "ticks": ""
            },
            "colorscale": [
             [
              0,
              "#0d0887"
             ],
             [
              0.1111111111111111,
              "#46039f"
             ],
             [
              0.2222222222222222,
              "#7201a8"
             ],
             [
              0.3333333333333333,
              "#9c179e"
             ],
             [
              0.4444444444444444,
              "#bd3786"
             ],
             [
              0.5555555555555556,
              "#d8576b"
             ],
             [
              0.6666666666666666,
              "#ed7953"
             ],
             [
              0.7777777777777778,
              "#fb9f3a"
             ],
             [
              0.8888888888888888,
              "#fdca26"
             ],
             [
              1,
              "#f0f921"
             ]
            ],
            "type": "heatmapgl"
           }
          ],
          "histogram": [
           {
            "marker": {
             "pattern": {
              "fillmode": "overlay",
              "size": 10,
              "solidity": 0.2
             }
            },
            "type": "histogram"
           }
          ],
          "histogram2d": [
           {
            "colorbar": {
             "outlinewidth": 0,
             "ticks": ""
            },
            "colorscale": [
             [
              0,
              "#0d0887"
             ],
             [
              0.1111111111111111,
              "#46039f"
             ],
             [
              0.2222222222222222,
              "#7201a8"
             ],
             [
              0.3333333333333333,
              "#9c179e"
             ],
             [
              0.4444444444444444,
              "#bd3786"
             ],
             [
              0.5555555555555556,
              "#d8576b"
             ],
             [
              0.6666666666666666,
              "#ed7953"
             ],
             [
              0.7777777777777778,
              "#fb9f3a"
             ],
             [
              0.8888888888888888,
              "#fdca26"
             ],
             [
              1,
              "#f0f921"
             ]
            ],
            "type": "histogram2d"
           }
          ],
          "histogram2dcontour": [
           {
            "colorbar": {
             "outlinewidth": 0,
             "ticks": ""
            },
            "colorscale": [
             [
              0,
              "#0d0887"
             ],
             [
              0.1111111111111111,
              "#46039f"
             ],
             [
              0.2222222222222222,
              "#7201a8"
             ],
             [
              0.3333333333333333,
              "#9c179e"
             ],
             [
              0.4444444444444444,
              "#bd3786"
             ],
             [
              0.5555555555555556,
              "#d8576b"
             ],
             [
              0.6666666666666666,
              "#ed7953"
             ],
             [
              0.7777777777777778,
              "#fb9f3a"
             ],
             [
              0.8888888888888888,
              "#fdca26"
             ],
             [
              1,
              "#f0f921"
             ]
            ],
            "type": "histogram2dcontour"
           }
          ],
          "mesh3d": [
           {
            "colorbar": {
             "outlinewidth": 0,
             "ticks": ""
            },
            "type": "mesh3d"
           }
          ],
          "parcoords": [
           {
            "line": {
             "colorbar": {
              "outlinewidth": 0,
              "ticks": ""
             }
            },
            "type": "parcoords"
           }
          ],
          "pie": [
           {
            "automargin": true,
            "type": "pie"
           }
          ],
          "scatter": [
           {
            "fillpattern": {
             "fillmode": "overlay",
             "size": 10,
             "solidity": 0.2
            },
            "type": "scatter"
           }
          ],
          "scatter3d": [
           {
            "line": {
             "colorbar": {
              "outlinewidth": 0,
              "ticks": ""
             }
            },
            "marker": {
             "colorbar": {
              "outlinewidth": 0,
              "ticks": ""
             }
            },
            "type": "scatter3d"
           }
          ],
          "scattercarpet": [
           {
            "marker": {
             "colorbar": {
              "outlinewidth": 0,
              "ticks": ""
             }
            },
            "type": "scattercarpet"
           }
          ],
          "scattergeo": [
           {
            "marker": {
             "colorbar": {
              "outlinewidth": 0,
              "ticks": ""
             }
            },
            "type": "scattergeo"
           }
          ],
          "scattergl": [
           {
            "marker": {
             "colorbar": {
              "outlinewidth": 0,
              "ticks": ""
             }
            },
            "type": "scattergl"
           }
          ],
          "scattermapbox": [
           {
            "marker": {
             "colorbar": {
              "outlinewidth": 0,
              "ticks": ""
             }
            },
            "type": "scattermapbox"
           }
          ],
          "scatterpolar": [
           {
            "marker": {
             "colorbar": {
              "outlinewidth": 0,
              "ticks": ""
             }
            },
            "type": "scatterpolar"
           }
          ],
          "scatterpolargl": [
           {
            "marker": {
             "colorbar": {
              "outlinewidth": 0,
              "ticks": ""
             }
            },
            "type": "scatterpolargl"
           }
          ],
          "scatterternary": [
           {
            "marker": {
             "colorbar": {
              "outlinewidth": 0,
              "ticks": ""
             }
            },
            "type": "scatterternary"
           }
          ],
          "surface": [
           {
            "colorbar": {
             "outlinewidth": 0,
             "ticks": ""
            },
            "colorscale": [
             [
              0,
              "#0d0887"
             ],
             [
              0.1111111111111111,
              "#46039f"
             ],
             [
              0.2222222222222222,
              "#7201a8"
             ],
             [
              0.3333333333333333,
              "#9c179e"
             ],
             [
              0.4444444444444444,
              "#bd3786"
             ],
             [
              0.5555555555555556,
              "#d8576b"
             ],
             [
              0.6666666666666666,
              "#ed7953"
             ],
             [
              0.7777777777777778,
              "#fb9f3a"
             ],
             [
              0.8888888888888888,
              "#fdca26"
             ],
             [
              1,
              "#f0f921"
             ]
            ],
            "type": "surface"
           }
          ],
          "table": [
           {
            "cells": {
             "fill": {
              "color": "#EBF0F8"
             },
             "line": {
              "color": "white"
             }
            },
            "header": {
             "fill": {
              "color": "#C8D4E3"
             },
             "line": {
              "color": "white"
             }
            },
            "type": "table"
           }
          ]
         },
         "layout": {
          "annotationdefaults": {
           "arrowcolor": "#2a3f5f",
           "arrowhead": 0,
           "arrowwidth": 1
          },
          "autotypenumbers": "strict",
          "coloraxis": {
           "colorbar": {
            "outlinewidth": 0,
            "ticks": ""
           }
          },
          "colorscale": {
           "diverging": [
            [
             0,
             "#8e0152"
            ],
            [
             0.1,
             "#c51b7d"
            ],
            [
             0.2,
             "#de77ae"
            ],
            [
             0.3,
             "#f1b6da"
            ],
            [
             0.4,
             "#fde0ef"
            ],
            [
             0.5,
             "#f7f7f7"
            ],
            [
             0.6,
             "#e6f5d0"
            ],
            [
             0.7,
             "#b8e186"
            ],
            [
             0.8,
             "#7fbc41"
            ],
            [
             0.9,
             "#4d9221"
            ],
            [
             1,
             "#276419"
            ]
           ],
           "sequential": [
            [
             0,
             "#0d0887"
            ],
            [
             0.1111111111111111,
             "#46039f"
            ],
            [
             0.2222222222222222,
             "#7201a8"
            ],
            [
             0.3333333333333333,
             "#9c179e"
            ],
            [
             0.4444444444444444,
             "#bd3786"
            ],
            [
             0.5555555555555556,
             "#d8576b"
            ],
            [
             0.6666666666666666,
             "#ed7953"
            ],
            [
             0.7777777777777778,
             "#fb9f3a"
            ],
            [
             0.8888888888888888,
             "#fdca26"
            ],
            [
             1,
             "#f0f921"
            ]
           ],
           "sequentialminus": [
            [
             0,
             "#0d0887"
            ],
            [
             0.1111111111111111,
             "#46039f"
            ],
            [
             0.2222222222222222,
             "#7201a8"
            ],
            [
             0.3333333333333333,
             "#9c179e"
            ],
            [
             0.4444444444444444,
             "#bd3786"
            ],
            [
             0.5555555555555556,
             "#d8576b"
            ],
            [
             0.6666666666666666,
             "#ed7953"
            ],
            [
             0.7777777777777778,
             "#fb9f3a"
            ],
            [
             0.8888888888888888,
             "#fdca26"
            ],
            [
             1,
             "#f0f921"
            ]
           ]
          },
          "colorway": [
           "#636efa",
           "#EF553B",
           "#00cc96",
           "#ab63fa",
           "#FFA15A",
           "#19d3f3",
           "#FF6692",
           "#B6E880",
           "#FF97FF",
           "#FECB52"
          ],
          "font": {
           "color": "#2a3f5f"
          },
          "geo": {
           "bgcolor": "white",
           "lakecolor": "white",
           "landcolor": "#E5ECF6",
           "showlakes": true,
           "showland": true,
           "subunitcolor": "white"
          },
          "hoverlabel": {
           "align": "left"
          },
          "hovermode": "closest",
          "mapbox": {
           "style": "light"
          },
          "paper_bgcolor": "white",
          "plot_bgcolor": "#E5ECF6",
          "polar": {
           "angularaxis": {
            "gridcolor": "white",
            "linecolor": "white",
            "ticks": ""
           },
           "bgcolor": "#E5ECF6",
           "radialaxis": {
            "gridcolor": "white",
            "linecolor": "white",
            "ticks": ""
           }
          },
          "scene": {
           "xaxis": {
            "backgroundcolor": "#E5ECF6",
            "gridcolor": "white",
            "gridwidth": 2,
            "linecolor": "white",
            "showbackground": true,
            "ticks": "",
            "zerolinecolor": "white"
           },
           "yaxis": {
            "backgroundcolor": "#E5ECF6",
            "gridcolor": "white",
            "gridwidth": 2,
            "linecolor": "white",
            "showbackground": true,
            "ticks": "",
            "zerolinecolor": "white"
           },
           "zaxis": {
            "backgroundcolor": "#E5ECF6",
            "gridcolor": "white",
            "gridwidth": 2,
            "linecolor": "white",
            "showbackground": true,
            "ticks": "",
            "zerolinecolor": "white"
           }
          },
          "shapedefaults": {
           "line": {
            "color": "#2a3f5f"
           }
          },
          "ternary": {
           "aaxis": {
            "gridcolor": "white",
            "linecolor": "white",
            "ticks": ""
           },
           "baxis": {
            "gridcolor": "white",
            "linecolor": "white",
            "ticks": ""
           },
           "bgcolor": "#E5ECF6",
           "caxis": {
            "gridcolor": "white",
            "linecolor": "white",
            "ticks": ""
           }
          },
          "title": {
           "x": 0.05
          },
          "xaxis": {
           "automargin": true,
           "gridcolor": "white",
           "linecolor": "white",
           "ticks": "",
           "title": {
            "standoff": 15
           },
           "zerolinecolor": "white",
           "zerolinewidth": 2
          },
          "yaxis": {
           "automargin": true,
           "gridcolor": "white",
           "linecolor": "white",
           "ticks": "",
           "title": {
            "standoff": 15
           },
           "zerolinecolor": "white",
           "zerolinewidth": 2
          }
         }
        },
        "xaxis": {
         "anchor": "y",
         "domain": [
          0,
          1
         ],
         "title": {
          "text": "Volume"
         }
        },
        "yaxis": {
         "anchor": "x",
         "domain": [
          0,
          1
         ],
         "title": {
          "text": "FD displacement (mm)"
         }
        }
       }
      }
     },
     "metadata": {},
     "output_type": "display_data"
    }
   ],
   "source": [
    "import plotly.express as px\n",
    "\n",
    "fig = px.line(x=list(range(1, fd.size+1)), y=fd, labels={'x': 'Volume', 'y': 'FD displacement (mm)'})\n",
    "fig.add_hline(y=threshold, line_dash=\"dash\", annotation_text=\"FD threshold\", annotation_position=\"bottom right\")\n",
    "fig.show()"
   ]
  },
  {
   "cell_type": "code",
   "execution_count": 43,
   "metadata": {},
   "outputs": [
    {
     "data": {
      "image/png": "[encoded data removed]",
      "text/plain": [
       "<Figure size 640x480 with 1 Axes>"
      ]
     },
     "metadata": {},
     "output_type": "display_data"
    }
   ],
   "source": [
    "#%matplotlib inline\n",
    "plt.plot(list(range(1, fd.size+1)), fd)\n",
    "plt.xlabel('Volume')\n",
    "plt.ylabel('FD displacement (mm)')\n",
    "plt.hlines(threshold, 0, len(fd),colors='black', linestyles='dashed', label='FD threshold')\n",
    "plt.legend()\n",
    "plt.show()"
   ]
  },
  {
   "cell_type": "markdown",
   "metadata": {},
   "source": [
    "Okay great, but what if we want to know which volumes are actually above threshold? Simply run the cell below!"
   ]
  },
  {
   "cell_type": "code",
   "execution_count": 44,
   "metadata": {},
   "outputs": [
    {
     "data": {
      "text/plain": [
       "array([ 11,  12,  13,  14,  79,  84,  85,  88,  91, 105, 140, 141, 165,\n",
       "       167, 197, 210, 212, 213, 214, 215, 217, 272, 273, 274, 280, 283,\n",
       "       284])"
      ]
     },
     "execution_count": 44,
     "metadata": {},
     "output_type": "execute_result"
    }
   ],
   "source": [
    "# Volume indices where FD is above the threshold\n",
    "np.where(fd > threshold)[0] + 1 "
   ]
  },
  {
   "cell_type": "code",
   "execution_count": 49,
   "metadata": {},
   "outputs": [],
   "source": [
    "#FIXME THERE ARE VOLUMES TO BE REMOVED"
   ]
  },
  {
   "cell_type": "markdown",
   "metadata": {},
   "source": [
    "# Coregistration of functional to anatomical"
   ]
  },
  {
   "cell_type": "code",
   "execution_count": 45,
   "metadata": {},
   "outputs": [],
   "source": [
    "from fsl.wrappers import epi_reg\n",
    "\n",
    "\n",
    "epi_target = op.join(preproc_root, f'sub-control0{number}', 'func', f'sub-control0{number}_task-music_concat_bold.nii.gz')\n",
    "whole_t1 = op.join(bids_root, f'sub-control0{number}', 'anat', f'sub-control0{number}_T1w')\n",
    "skull_stripped_t1 = op.join(preproc_root, f'sub-control0{number}', 'anat', f'sub-control0{number}_T1w') \n",
    "epi_output_path = op.join(preproc_root, f'sub-control0{number}', 'func', f'sub-control0{number}_task-music_concat_bold_bbr')\n",
    "ref_vol_name = op.join(preproc_root, f'sub-control0{number}', 'func', f'sub-control0{number}_task-music_concat_bold_vol_middle') "
   ]
  },
  {
   "cell_type": "code",
   "execution_count": 46,
   "metadata": {},
   "outputs": [
    {
     "data": {
      "text/plain": [
       "CompletedProcess(args=['fslsplit', './data/ds000171/derivatives/preprocessed_data/sub-control03/func/sub-control03_task-music_concat_bold.nii.gz', './data/ds000171/derivatives/preprocessed_data/sub-control03/func/splits/sub-control03_task-music_concat_bold_split', '-t'], returncode=0)"
      ]
     },
     "execution_count": 46,
     "metadata": {},
     "output_type": "execute_result"
    }
   ],
   "source": [
    "mkdir_no_exist(op.join(preproc_root, f'sub-control0{number}', 'func', 'splits',))\n",
    "split_name = op.join(preproc_root, f'sub-control0{number}', 'func', 'splits',f'sub-control0{number}_task-music_concat_bold_split')\n",
    "subprocess.run(['fslsplit', epi_target, split_name, '-t'])"
   ]
  },
  {
   "cell_type": "code",
   "execution_count": 47,
   "metadata": {},
   "outputs": [
    {
     "name": "stdout",
     "output_type": "stream",
     "text": [
      "Running FAST segmentation\n",
      "FLIRT pre-alignment\n",
      "Running BBR\n",
      "0.321521 0.999156 -0.041055 -0.001525 0.000000 0.041077 0.998974 0.019090 0.000000 0.000740 -0.019136 0.999817 0.000000 -6.262769 11.372977 -2.567608 1.000000 \n"
     ]
    }
   ],
   "source": [
    "use_single_vol = True\n",
    "\n",
    "if use_single_vol:\n",
    "\n",
    "    fslroi(epi_target, ref_vol_name, str(150), str(1))\n",
    "    \n",
    "    # Run epi_reg to register the extracted middle EPI volume to the T1-weighted anatomical image.\n",
    "    subprocess.run([\n",
    "        'epi_reg',\n",
    "        '--epi={}'.format(ref_vol_name),  # The EPI image (middle volume) to be registered.\n",
    "        '--t1={}'.format(whole_t1),       # The whole, non-skull-stripped T1-weighted image.\n",
    "        '--t1brain={}'.format(skull_stripped_t1),  # The skull-stripped T1-weighted image.\n",
    "        '--out={}'.format(epi_output_path)    # The output path where the registered image will be saved.\n",
    "    ])\n",
    "else:\n",
    "    # If not using a single volume, register the entire motion-corrected EPI series to the T1-weighted anatomical image.\n",
    "    subprocess.run([\n",
    "        'epi_reg',\n",
    "        '--epi={}'.format(epi_target),    # The full motion-corrected EPI image (all volumes).\n",
    "        '--t1={}'.format(whole_t1),       # The whole, non-skull-stripped T1-weighted image.\n",
    "        '--t1brain={}'.format(skull_stripped_t1),  # The skull-stripped T1-weighted image.\n",
    "        '--out={}'.format(epi_output_path),    # The output path where the registered image will be saved.\n",
    "    ])\n"
   ]
  },
  {
   "cell_type": "code",
   "execution_count": 74,
   "metadata": {},
   "outputs": [],
   "source": [
    "if display:\n",
    "\n",
    "    fsleyesDisplay.resetOverlays()\n",
    "    fsleyesDisplay.load(skull_stripped_t1)\n",
    "    fsleyesDisplay.load(epi_output_path)"
   ]
  },
  {
   "cell_type": "code",
   "execution_count": 48,
   "metadata": {},
   "outputs": [
    {
     "data": {
      "text/plain": [
       "CompletedProcess(args=['convertwarp', '--ref=/data/fsl//data/standard/MNI152_T1_1mm_brain', '--premat=./data/ds000171/derivatives/preprocessed_data/sub-control03/func/sub-control03_task-music_concat_bold_bbr.mat', '--postmat=./data/ds000171/derivatives/preprocessed_data/sub-control03/anat/sub-control03_T1w_mni_lin.mat', '--out=./data/ds000171/derivatives/preprocessed_data/sub-control03/func/sub-control03_task-music_concat_bold_bbr_linear_combined_warp.nii.gz'], returncode=0)"
      ]
     },
     "execution_count": 48,
     "metadata": {},
     "output_type": "execute_result"
    }
   ],
   "source": [
    "warp_name_linear = op.join(preproc_root, f'sub-control0{number}', 'func', f'sub-control0{number}_task-music_concat_bold_bbr_linear_combined_warp.nii.gz')\n",
    "subprocess.run([\n",
    "    'convertwarp',\n",
    "    '--ref={}'.format(mni_template),\n",
    "    '--premat={}'.format(epi_output_path+'.mat'),\n",
    "    '--postmat={}'.format(flirt_matrix_path),\n",
    "    '--out={}'.format(warp_name_linear)\n",
    "])    "
   ]
  },
  {
   "cell_type": "code",
   "execution_count": 55,
   "metadata": {},
   "outputs": [
    {
     "data": {
      "text/plain": [
       "{}"
      ]
     },
     "execution_count": 55,
     "metadata": {},
     "output_type": "execute_result"
    }
   ],
   "source": [
    "from fsl.wrappers import applywarp\n",
    "out_vol = \"test.nii.gz\"\n",
    "applywarp(ref_vol_name,mni_template, out_vol, w=warp_name_linear, rel=False)"
   ]
  },
  {
   "cell_type": "code",
   "execution_count": 56,
   "metadata": {},
   "outputs": [],
   "source": [
    "if True:\n",
    "    fsleyesDisplay.resetOverlays()\n",
    "    fsleyesDisplay.load(mni_template)\n",
    "    fsleyesDisplay.load(out_vol)"
   ]
  },
  {
   "cell_type": "code",
   "execution_count": 53,
   "metadata": {},
   "outputs": [],
   "source": [
    "# moving_image = ants.image_read(ref_vol_name+'.nii.gz')\n",
    "# fixed_image = ants.image_read(whole_t1+'.nii.gz')\n",
    "# transformation = ants.registration(\n",
    "#     fixed=fixed_image, \n",
    "#     moving=moving_image, \n",
    "#     type_of_transform='SyN'\n",
    "# )\n",
    "\n",
    "# # Apply the transformation to the moving image\n",
    "# warped_image = ants.apply_transforms(\n",
    "#     fixed=fixed_image, \n",
    "#     moving=moving_image, \n",
    "#     transformlist=transformation['fwdtransforms']\n",
    "# )\n",
    "# resultAnts = op.join(preproc_root, 'sub-control01', 'func', 'sub-control01_task-music_concat_bold_bbr_SyN.nii.gz')\n",
    "# ants.image_write(warped_image, resultAnts)\n",
    "# warp_field_path = op.join(preproc_root, 'sub-control01', 'func', 'sub-control01_task-music_concat_bold_bbr_SyN_warp.nii.gz')\n",
    "# warp_field = ants.image_read(transformation['fwdtransforms'][0])\n",
    "# nifti_warp_field = nib.Nifti1Image(warp_field.numpy(), affine=nib.load(transformation['fwdtransforms'][0]).affine)\n",
    "# nib.save(nifti_warp_field, warp_field_path)"
   ]
  },
  {
   "cell_type": "code",
   "execution_count": 57,
   "metadata": {},
   "outputs": [],
   "source": [
    "fsleyesDisplay.resetOverlays()\n",
    "fsleyesDisplay.load(mni_template)\n",
    "fsleyesDisplay.load(flirt_path)\n",
    "fsleyesDisplay.load(ants_t1_mni_path)\n"
   ]
  },
  {
   "cell_type": "code",
   "execution_count": null,
   "metadata": {},
   "outputs": [
    {
     "data": {
      "text/plain": [
       "CompletedProcess(args=['convertwarp', '--ref=/data/fsl//data/standard/MNI152_T1_1mm_brain', '--premat=./data/ds000171/derivatives/preprocessed_data/sub-control01/func/sub-control01_task-music_concat_bold_bbr.mat', '--warp1=./data/ds000171/derivatives/preprocessed_data/sub-control01/anat/sub-control01_T1w_mni_SyN_warp.nii.gz', '--out=./data/ds000171/derivatives/preprocessed_data/sub-control01/func/sub-control01_task-music_concat_bold_bbr_SyN_combined_warp.nii.gz'], returncode=0)"
      ]
     },
     "execution_count": 58,
     "metadata": {},
     "output_type": "execute_result"
    }
   ],
   "source": [
    "warp_name_syn = op.join(preproc_root, f'sub-control0{number}', 'func', f'sub-control0{number}_task-music_concat_bold_bbr_SyN_combined_warp.nii.gz')\n",
    "subprocess.run([\n",
    "    'convertwarp',\n",
    "    '--ref={}'.format(mni_template),\n",
    "    '--premat={}'.format(epi_output_path+'.mat'),\n",
    "    '--warp1={}'.format(ants_t1_mni_path_warp),\n",
    "    '--out={}'.format(warp_name_syn)\n",
    "])    "
   ]
  },
  {
   "cell_type": "code",
   "execution_count": 59,
   "metadata": {},
   "outputs": [
    {
     "data": {
      "text/plain": [
       "{}"
      ]
     },
     "execution_count": 59,
     "metadata": {},
     "output_type": "execute_result"
    }
   ],
   "source": [
    "from fsl.wrappers import applywarp\n",
    "out_vol = \"test.nii.gz\"\n",
    "applywarp(ref_vol_name,mni_template, out_vol, w=warp_name_syn, rel=False)"
   ]
  },
  {
   "cell_type": "markdown",
   "metadata": {},
   "source": [
    "Let's overlay the two (EPI and anatomical) on top of each other to visualize the quality of the coregistration!"
   ]
  },
  {
   "cell_type": "code",
   "execution_count": 60,
   "metadata": {},
   "outputs": [],
   "source": [
    "if True:\n",
    "\n",
    "    fsleyesDisplay.resetOverlays()\n",
    "    fsleyesDisplay.load(mni_template)\n",
    "    fsleyesDisplay.load(ants_t1_mni_path)\n",
    "    fsleyesDisplay.load(out_vol)"
   ]
  },
  {
   "cell_type": "code",
   "execution_count": 49,
   "metadata": {},
   "outputs": [],
   "source": [
    "split_std = op.join(preproc_root, f'sub-control0{number}', 'func', 'std')\n",
    "mkdir_no_exist(split_std)\n",
    "# Notice that we are sorting the volumes here! This is important, to make sure we don't get them in random order :)\n",
    "split_dir = op.join(preproc_root, f'sub-control0{number}', 'func', 'splits')\n",
    "split_vols = sorted([op.join(split_dir, f) for f in os.listdir(split_dir)])\n"
   ]
  },
  {
   "cell_type": "code",
   "execution_count": 52,
   "metadata": {},
   "outputs": [],
   "source": [
    "import concurrent.futures\n",
    "from tqdm import tqdm\n",
    "\n",
    "# Initialize ThreadPoolExecutor and the progress bar\n",
    "with concurrent.futures.ThreadPoolExecutor(max_workers=4) as executor:\n",
    "    # Use tqdm to wrap the futures\n",
    "    with tqdm(total=len(split_vols)) as progress:\n",
    "        # Launch subprocesses in parallel\n",
    "        futures = {executor.submit(run_subprocess, preproc_root,mni_template,warp_name_linear, vol,i,number): vol for i,vol in enumerate(split_vols)}\n",
    "\n",
    "        # Process completed tasks\n",
    "        for future in concurrent.futures.as_completed(futures):\n",
    "            out_vol, vol_nbr = future.result()  # Get the result of the subprocess\n",
    "            progress.update(1)"
   ]
  },
  {
   "cell_type": "markdown",
   "metadata": {},
   "source": [
    "## Smoothing"
   ]
  },
  {
   "cell_type": "code",
   "execution_count": 53,
   "metadata": {},
   "outputs": [],
   "source": [
    "smooth_folder = op.join(preproc_root, f'sub-control0{number}', 'func', 'smoothed')\n",
    "mkdir_no_exist(smooth_folder)\n",
    "files = sorted([f.replace(\".nii.gz\", \"\") for f in os.listdir(split_std)])"
   ]
  },
  {
   "cell_type": "code",
   "execution_count": 54,
   "metadata": {},
   "outputs": [],
   "source": [
    "import concurrent.futures\n",
    "from tqdm import tqdm\n",
    "\n",
    "\n",
    "# Initialize ThreadPoolExecutor and the progress bar\n",
    "with concurrent.futures.ThreadPoolExecutor(max_workers=4) as executor:\n",
    "    # Use tqdm to wrap the futures\n",
    "    with tqdm(total=len(files)) as progress:\n",
    "        # Launch subprocesses in parallel\n",
    "        futures = [executor.submit(smooth_volume, op.join(split_std,f), op.join(smooth_folder,f)) for f in files]\n",
    "\n",
    "        # Process completed tasks\n",
    "        for future in concurrent.futures.as_completed(futures):\n",
    "            future.result()  # Get the result of the subprocess\n",
    "            progress.update(1)"
   ]
  },
  {
   "cell_type": "code",
   "execution_count": null,
   "metadata": {},
   "outputs": [],
   "source": []
  }
 ],
 "metadata": {
  "kernelspec": {
   "display_name": "Python 3",
   "language": "python",
   "name": "python3"
  },
  "language_info": {
   "codemirror_mode": {
    "name": "ipython",
    "version": 3
   },
   "file_extension": ".py",
   "mimetype": "text/x-python",
   "name": "python",
   "nbconvert_exporter": "python",
   "pygments_lexer": "ipython3",
   "version": "3.11.9"
  }
 },
 "nbformat": 4,
 "nbformat_minor": 2
}
