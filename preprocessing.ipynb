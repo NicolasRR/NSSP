{
 "cells": [
  {
   "cell_type": "markdown",
   "metadata": {},
   "source": [
    "# Utilities"
   ]
  },
  {
   "cell_type": "code",
   "execution_count": 1,
   "metadata": {},
   "outputs": [],
   "source": [
    "%gui wx\n",
    "import os\n",
    "from utils import loadFSL, FSLeyesServer, mkdir_no_exist, DownloadProgressBar, download_url, direct_file_download_open_neuro, get_json_from_file\n",
    "os.environ[\"DIPY_HOME\"] = \"./data/\"\n",
    "loadFSL()\n",
    "import fsl.wrappers\n",
    "from fsl.wrappers import fslmaths, mcflirt\n",
    "import mne_nirs\n",
    "import nilearn\n",
    "from nilearn.datasets import fetch_development_fmri\n",
    "import mne\n",
    "import mne_nirs\n",
    "import shutil\n",
    "import dipy\n",
    "from dipy.data import fetch_bundles_2_subjects, read_bundles_2_subjects\n",
    "import xml.etree.ElementTree as ET\n",
    "import os.path as op\n",
    "import nibabel as nib\n",
    "import glob\n",
    "import ants\n",
    "import openneuro\n",
    "from mne.datasets import sample\n",
    "from mne_bids import BIDSPath, read_raw_bids, print_dir_tree, make_report\n",
    "import requests\n",
    "import urllib.request\n",
    "from tqdm import tqdm\n",
    "from fsl.wrappers import fast, bet\n",
    "from fsl.wrappers.misc import fslroi\n",
    "from fsl.wrappers import flirt\n",
    "import glob\n",
    "import pandas as pd\n",
    "import numpy as np\n",
    "import json\n",
    "import subprocess\n",
    "import matplotlib.pyplot as plt\n",
    "import os\n",
    "import sys\n",
    "\n",
    "sys.stderr = open(os.devnull, 'w')\n",
    "os.environ['G_DEBUG'] = 'fatal-warnings'"
   ]
  },
  {
   "cell_type": "code",
   "execution_count": 2,
   "metadata": {},
   "outputs": [],
   "source": [
    "%load_ext autoreload\n",
    "%autoreload 2\n",
    "from utilities import get_skull_stripped_anatomical, apply_python_mask_approach, launch_freeview, fsl_anat_wrapped, load_mot_params_fsl_6_dof, compute_FD_power, apply_transform, combine_all_transforms, normalize_fMRI"
   ]
  },
  {
   "cell_type": "code",
   "execution_count": 3,
   "metadata": {},
   "outputs": [],
   "source": [
    "%%capture\n",
    "fsleyesDisplay = FSLeyesServer()\n",
    "fsleyesDisplay.show()"
   ]
  },
  {
   "cell_type": "markdown",
   "metadata": {},
   "source": [
    "# Folders"
   ]
  },
  {
   "cell_type": "code",
   "execution_count": 4,
   "metadata": {},
   "outputs": [],
   "source": [
    "dataset_id = 'ds000171' \n",
    "subject_id = 'control01'    \n",
    "sample_path = \"./data/\" \n",
    "os.makedirs(sample_path, exist_ok=True)\n",
    "bids_root = op.join(sample_path, dataset_id)\n",
    "deriv_root = op.join(bids_root, 'derivatives') \n",
    "preproc_root = op.join(bids_root, 'derivatives', 'preprocessed_data') \n",
    "os.makedirs(bids_root, exist_ok=True)\n",
    "subject_dir = 'sub-{}'.format(subject_id)"
   ]
  },
  {
   "cell_type": "markdown",
   "metadata": {},
   "source": [
    "## Download"
   ]
  },
  {
   "cell_type": "code",
   "execution_count": 5,
   "metadata": {},
   "outputs": [
    {
     "name": "stdout",
     "output_type": "stream",
     "text": [
      "\n",
      "👋 Hello! This is openneuro-py 2024.2.0. Great to see you! 🤗\n",
      "\n",
      "   👉 Please report problems 🤯 and bugs 🪲 at\n",
      "      https://github.com/hoechenberger/openneuro-py/issues\n",
      "\n",
      "🌍 Preparing to download ds000171 …\n"
     ]
    },
    {
     "name": "stderr",
     "output_type": "stream",
     "text": [
      "📁 Traversing directories for ds000171 : 436 entities [00:37, 11.57 entities/s]\n"
     ]
    },
    {
     "name": "stdout",
     "output_type": "stream",
     "text": [
      "📥 Retrieving up to 15 files (5 concurrent downloads). \n"
     ]
    },
    {
     "name": "stderr",
     "output_type": "stream",
     "text": [
      "sub-control01_T1w.nii.gz:   1%|▏         | 118k/8.77M [00:00<00:14, 611kB/s] \n",
      "sub-control01_task-music_run-2_events.tsv:   0%|          | 0.00/339 [00:00<?, ?B/s]\u001b[A\n",
      "sub-control01_T1w.nii.gz:   2%|▏         | 186k/8.77M [00:00<00:13, 649kB/s]        \u001b[A\n",
      "sub-control01_task-music_run-1_bold.nii.gz:   0%|          | 0.00/33.8M [00:00<?, ?B/s]\u001b[A\n",
      "\n",
      "sub-control01_T1w.nii.gz:   4%|▍         | 391k/8.77M [00:00<00:07, 1.12MB/s]0<?, ?B/s]\u001b[A\u001b[A\n",
      "sub-control01_task-music_run-1_bold.nii.gz:   0%|          | 24.5k/33.8M [00:00<02:58, 199kB/s]\u001b[A\n",
      "\n",
      "sub-control01_task-music_run-3_bold.nii.gz:   0%|          | 32.6k/33.9M [00:00<02:20, 253kB/s]\u001b[A\u001b[A\n",
      "\n",
      "\n",
      "sub-control01_T1w.nii.gz:   9%|▉         | 815k/8.77M [00:00<00:03, 2.13MB/s]0<?, ?B/s]\u001b[A\u001b[A\u001b[A\n",
      "sub-control01_task-music_run-1_bold.nii.gz:   0%|          | 74.5k/33.8M [00:00<01:49, 322kB/s]\u001b[A\n",
      "\n",
      "sub-control01_T1w.nii.gz:  15%|█▌        | 1.34M/8.77M [00:00<00:02, 3.27MB/s]0<01:47, 330kB/s]\u001b[A\u001b[A\n",
      "\n",
      "\n",
      "sub-control01_task-music_run-2_bold.nii.gz:   0%|          | 32.6k/33.9M [00:00<03:04, 193kB/s]\u001b[A\u001b[A\u001b[A\n",
      "sub-control01_task-music_run-1_bold.nii.gz:   0%|          | 109k/33.8M [00:00<01:46, 332kB/s] \u001b[A\n",
      "\n",
      "\n",
      "\n",
      "sub-control01_task-music_run-3_events.tsv:   0%|          | 0.00/339 [00:00<?, ?B/s]\u001b[A\u001b[A\u001b[A\u001b[A\n",
      "\n",
      "\n",
      "\n",
      "                                                                                    \u001b[A\u001b[A\u001b[A\u001b[A\n",
      "\n",
      "sub-control01_T1w.nii.gz:  21%|██        | 1.84M/8.77M [00:00<00:01, 3.75MB/s]<01:30, 392kB/s] \u001b[A\u001b[A\n",
      "sub-control01_task-music_run-1_bold.nii.gz:   0%|          | 159k/33.8M [00:00<01:45, 334kB/s]\u001b[A\n",
      "\n",
      "\n",
      "sub-control01_T1w.nii.gz:  28%|██▊       | 2.45M/8.77M [00:00<00:01, 4.51MB/s]0<02:10, 271kB/s]\u001b[A\u001b[A\u001b[A\n",
      "\n",
      "sub-control01_T1w.nii.gz:  35%|███▌      | 3.07M/8.77M [00:01<00:01, 4.17MB/s]<01:13, 478kB/s]\u001b[A\u001b[A\n",
      "\n",
      "sub-control01_task-music_run-3_bold.nii.gz:   1%|          | 305k/33.9M [00:00<01:12, 487kB/s]\u001b[A\u001b[A\n",
      "\n",
      "\n",
      "sub-control01_task-music_run-2_bold.nii.gz:   1%|          | 186k/33.9M [00:00<01:33, 376kB/s] \u001b[A\u001b[A\u001b[A\n",
      "sub-control01_T1w.nii.gz:  41%|████▏     | 3.64M/8.77M [00:01<00:01, 4.60MB/s]<02:10, 271kB/s]\u001b[A\n",
      "\n",
      "sub-control01_task-music_run-3_bold.nii.gz:   1%|          | 356k/33.9M [00:00<01:15, 465kB/s]\u001b[A\u001b[A\n",
      "\n",
      "\n",
      "sub-control01_task-music_run-2_bold.nii.gz:   1%|          | 271k/33.9M [00:00<01:19, 445kB/s]\u001b[A\u001b[A\u001b[A\n",
      "sub-control01_T1w.nii.gz:  49%|████▊     | 4.26M/8.77M [00:01<00:00, 5.09MB/s]<01:59, 294kB/s]\u001b[A\n",
      "\n",
      "sub-control01_T1w.nii.gz:  55%|█████▍    | 4.81M/8.77M [00:01<00:00, 5.25MB/s]<01:15, 465kB/s]\u001b[A\u001b[A\n",
      "sub-control01_task-music_run-1_bold.nii.gz:   1%|          | 313k/33.8M [00:01<01:47, 328kB/s]\u001b[A\n",
      "\n",
      "\n",
      "sub-control01_task-music_run-2_bold.nii.gz:   1%|          | 373k/33.9M [00:00<01:10, 502kB/s]\u001b[A\u001b[A\u001b[A\n",
      "\n",
      "sub-control01_T1w.nii.gz:  62%|██████▏   | 5.42M/8.77M [00:01<00:00, 5.57MB/s]<01:11, 492kB/s]\u001b[A\u001b[A\n",
      "\n",
      "\n",
      "\n",
      "sub-control01_task-nonmusic_run-4_bold.nii.gz:   0%|          | 0.00/33.9M [00:00<?, ?B/s]\u001b[A\u001b[A\u001b[A\u001b[A\n",
      "\n",
      "sub-control01_T1w.nii.gz:  68%|██████▊   | 5.97M/8.77M [00:01<00:00, 4.75MB/s]<01:11, 487kB/s]\u001b[A\u001b[A\n",
      "\n",
      "\n",
      "sub-control01_task-music_run-2_bold.nii.gz:   1%|▏         | 475k/33.9M [00:01<01:11, 487kB/s]\u001b[A\u001b[A\u001b[A\n",
      "sub-control01_T1w.nii.gz:  74%|███████▍  | 6.50M/8.77M [00:01<00:00, 4.94MB/s]<02:01, 289kB/s]\u001b[A\n",
      "\n",
      "sub-control01_task-music_run-3_bold.nii.gz:   2%|▏         | 628k/33.9M [00:01<01:10, 498kB/s]\u001b[A\u001b[A\n",
      "\n",
      "\n",
      "sub-control01_task-music_run-2_bold.nii.gz:   2%|▏         | 577k/33.9M [00:01<01:05, 534kB/s]\u001b[A\u001b[A\u001b[A\n",
      "sub-control01_task-music_run-1_bold.nii.gz:   1%|          | 431k/33.8M [00:01<01:56, 301kB/s]\u001b[A\n",
      "\n",
      "sub-control01_T1w.nii.gz:  80%|███████▉  | 7.00M/8.77M [00:02<00:00, 3.26MB/s]<01:12, 480kB/s]\u001b[A\u001b[A\n",
      "\n",
      "sub-control01_task-music_run-3_bold.nii.gz:   2%|▏         | 764k/33.9M [00:01<01:11, 487kB/s]\u001b[A\u001b[A\n",
      "sub-control01_task-music_run-1_bold.nii.gz:   1%|▏         | 499k/33.8M [00:01<01:55, 302kB/s]\u001b[A\n",
      "\n",
      "\n",
      "sub-control01_T1w.nii.gz:  95%|█████████▍| 8.32M/8.77M [00:02<00:00, 5.38MB/s]<01:08, 508kB/s]\u001b[A\u001b[A\u001b[A\n",
      "\n",
      "sub-control01_task-music_run-3_bold.nii.gz:   2%|▏         | 866k/33.9M [00:01<00:56, 609kB/s]\u001b[A\u001b[A\n",
      "\n",
      "\n",
      "\n",
      "sub-control01_task-nonmusic_run-4_bold.nii.gz:   0%|          | 31.5k/33.9M [00:00<12:27, 47.4kB/s]\u001b[A\u001b[A\u001b[A\u001b[A\n",
      "sub-control01_task-music_run-1_bold.nii.gz:   2%|▏         | 567k/33.8M [00:01<01:38, 354kB/s]\u001b[A\n",
      "\n",
      "\n",
      "                                                                              <00:58, 597kB/s]\u001b[A\u001b[A\u001b[A\n",
      "\n",
      "sub-control01_task-music_run-3_bold.nii.gz:   3%|▎         | 985k/33.9M [00:01<00:48, 704kB/s]\u001b[A\u001b[A\n",
      "sub-control01_task-music_run-1_bold.nii.gz:   2%|▏         | 635k/33.8M [00:01<01:24, 412kB/s]\u001b[A\n",
      "\n",
      "\n",
      "sub-control01_task-music_run-2_bold.nii.gz:   3%|▎         | 951k/33.9M [00:01<00:46, 738kB/s]\u001b[A\u001b[A\u001b[A\n",
      "\n",
      "\n",
      "\n",
      "sub-control01_task-nonmusic_run-4_bold.nii.gz:   0%|          | 95.5k/33.9M [00:00<04:24, 134kB/s] \u001b[A\u001b[A\u001b[A\u001b[A\n",
      "sub-control01_task-music_run-1_bold.nii.gz:   2%|▏         | 737k/33.8M [00:02<01:03, 545kB/s]\u001b[A\n",
      "\n",
      "\n",
      "sub-control01_task-music_run-2_bold.nii.gz:   3%|▎         | 1.06M/33.9M [00:01<00:39, 878kB/s]\u001b[A\u001b[A\u001b[A\n",
      "\n",
      "sub-control01_task-music_run-3_bold.nii.gz:   3%|▎         | 1.09M/33.9M [00:02<00:45, 761kB/s]\u001b[A\u001b[A\n",
      "\n",
      "\n",
      "\n",
      "sub-control01_task-nonmusic_run-4_bold.nii.gz:   0%|          | 122k/33.9M [00:00<03:43, 158kB/s] \u001b[A\u001b[A\u001b[A\u001b[A\n",
      "\n",
      "\n",
      "sub-control01_task-music_run-2_bold.nii.gz:   4%|▎         | 1.19M/33.9M [00:01<00:34, 1.00MB/s]\u001b[A\u001b[A\u001b[A\n",
      "sub-control01_task-music_run-1_bold.nii.gz:   2%|▏         | 822k/33.8M [00:02<00:57, 600kB/s]\u001b[A\n",
      "\n",
      "sub-control01_task-music_run-3_bold.nii.gz:   4%|▎         | 1.21M/33.9M [00:02<00:39, 863kB/s]\u001b[A\u001b[A\n",
      "\n",
      "\n",
      "\n",
      "                                                                                       , 192kB/s]\u001b[A\u001b[A\u001b[A\u001b[A\n",
      "\n",
      "\n",
      "sub-control01_task-music_run-2_bold.nii.gz:   4%|▍         | 1.34M/33.9M [00:02<00:30, 1.12MB/s]\u001b[A\u001b[A\u001b[A\n",
      "sub-control01_task-music_run-1_bold.nii.gz:   3%|▎         | 907k/33.8M [00:02<00:52, 655kB/s]\u001b[A\n",
      "\n",
      "sub-control01_task-music_run-3_bold.nii.gz:   4%|▍         | 1.36M/33.9M [00:02<00:34, 993kB/s]\u001b[A\u001b[A\n",
      "\n",
      "\n",
      "sub-control01_task-music_run-2_bold.nii.gz:   4%|▍         | 1.49M/33.9M [00:02<00:27, 1.22MB/s]\u001b[A\u001b[A\u001b[A\n",
      "sub-control01_task-music_run-1_bold.nii.gz:   3%|▎         | 993k/33.8M [00:02<00:48, 712kB/s]\u001b[A\n",
      "\n",
      "sub-control01_task-music_run-3_bold.nii.gz:   4%|▍         | 1.49M/33.9M [00:02<00:32, 1.06MB/s]\u001b[A\u001b[A\n",
      "\n",
      "\n",
      "\n",
      "sub-control01_task-nonmusic_run-4_bold.nii.gz:   1%|          | 189k/33.9M [00:01<03:20, 176kB/s]\u001b[A\u001b[A\u001b[A\u001b[A\n",
      "sub-control01_task-music_run-1_bold.nii.gz:   3%|▎         | 1.05M/33.8M [00:02<00:47, 725kB/s]\u001b[A\n",
      "\n",
      "\n",
      "sub-control01_task-music_run-2_bold.nii.gz:   5%|▍         | 1.64M/33.9M [00:02<00:27, 1.23MB/s]\u001b[A\u001b[A\u001b[A\n",
      "\n",
      "sub-control01_task-music_run-3_bold.nii.gz:   5%|▍         | 1.63M/33.9M [00:02<00:33, 999kB/s] \u001b[A\u001b[A\n",
      "\n",
      "\n",
      "\n",
      "sub-control01_task-nonmusic_run-4_bold.nii.gz:   1%|          | 223k/33.9M [00:01<03:10, 185kB/s]\u001b[A\u001b[A\u001b[A\u001b[A\n",
      "\n",
      "\n",
      "sub-control01_task-music_run-2_bold.nii.gz:   5%|▌         | 1.79M/33.9M [00:02<00:26, 1.28MB/s]\u001b[A\u001b[A\u001b[A\n",
      "sub-control01_task-nonmusic_run-5_bold.nii.gz:   0%|          | 0.00/33.9M [00:00<?, ?B/s]kB/s]\u001b[A\n",
      "\n",
      "sub-control01_task-music_run-3_bold.nii.gz:   5%|▌         | 1.77M/33.9M [00:02<00:32, 1.04MB/s]\u001b[A\u001b[A\n",
      "\n",
      "\n",
      "sub-control01_task-music_run-2_bold.nii.gz:   6%|▌         | 1.92M/33.9M [00:02<00:27, 1.20MB/s]\u001b[A\u001b[A\u001b[A\n",
      "sub-control01_task-music_run-1_bold.nii.gz:   4%|▎         | 1.22M/33.8M [00:02<00:50, 676kB/s]\u001b[A\n",
      "\n",
      "\n",
      "\n",
      "sub-control01_task-nonmusic_run-5_bold.nii.gz:   0%|          | 32.6k/33.9M [00:00<02:06, 281kB/s][A\u001b[A\u001b[A\u001b[A\n",
      "\n",
      "sub-control01_task-music_run-3_bold.nii.gz:   6%|▌         | 1.94M/33.9M [00:02<00:27, 1.20MB/s]\u001b[A\u001b[A\n",
      "\n",
      "\n",
      "sub-control01_task-music_run-2_bold.nii.gz:   6%|▌         | 2.06M/33.9M [00:02<00:26, 1.24MB/s]\u001b[A\u001b[A\u001b[A\n",
      "sub-control01_task-music_run-1_bold.nii.gz:   4%|▍         | 1.30M/33.8M [00:02<00:53, 642kB/s]\u001b[A\n",
      "\n",
      "sub-control01_task-nonmusic_run-5_bold.nii.gz:   0%|          | 83.6k/33.9M [00:00<01:49, 324kB/s]A\u001b[A\n",
      "\n",
      "\n",
      "\n",
      "sub-control01_task-nonmusic_run-4_bold.nii.gz:   1%|          | 279k/33.9M [00:01<03:14, 181kB/s]\u001b[A\u001b[A\u001b[A\u001b[A\n",
      "\n",
      "\n",
      "sub-control01_task-music_run-2_bold.nii.gz:   6%|▋         | 2.19M/33.9M [00:02<00:26, 1.25MB/s]\u001b[A\u001b[A\u001b[A\n",
      "sub-control01_task-nonmusic_run-5_bold.nii.gz:   0%|          | 152k/33.9M [00:00<01:30, 389kB/s] \n",
      "\n",
      "sub-control01_task-music_run-3_bold.nii.gz:   7%|▋         | 2.21M/33.9M [00:03<00:29, 1.11MB/s]\u001b[A\u001b[A\n",
      "\n",
      "\n",
      "sub-control01_task-music_run-2_bold.nii.gz:   7%|▋         | 2.32M/33.9M [00:02<00:28, 1.14MB/s]\u001b[A\u001b[A\u001b[A\n",
      "\n",
      "\n",
      "\n",
      "sub-control01_task-nonmusic_run-4_bold.nii.gz:   1%|          | 311k/33.9M [00:01<03:19, 176kB/s]\u001b[A\u001b[A\u001b[A\u001b[A\n",
      "sub-control01_task-nonmusic_run-5_bold.nii.gz:   1%|          | 271k/33.9M [00:00<00:54, 642kB/s]A\n",
      "\n",
      "sub-control01_task-music_run-3_bold.nii.gz:   7%|▋         | 2.37M/33.9M [00:03<00:27, 1.20MB/s]\u001b[A\u001b[A\n",
      "\n",
      "\n",
      "sub-control01_task-music_run-2_bold.nii.gz:   7%|▋         | 2.47M/33.9M [00:03<00:26, 1.23MB/s]\u001b[A\u001b[A\u001b[A\n",
      "\n",
      "sub-control01_task-music_run-3_bold.nii.gz:   7%|▋         | 2.54M/33.9M [00:03<00:24, 1.32MB/s]\u001b[A\u001b[A\n",
      "sub-control01_task-music_run-1_bold.nii.gz:   5%|▍         | 1.63M/33.8M [00:03<00:42, 787kB/s]\u001b[A\n",
      "\n",
      "\n",
      "\n",
      "sub-control01_task-nonmusic_run-5_bold.nii.gz:   1%|          | 407k/33.9M [00:00<00:45, 767kB/s]\u001b[A\u001b[A\u001b[A\u001b[A\n",
      "\n",
      "\n",
      "sub-control01_task-music_run-2_bold.nii.gz:   8%|▊         | 2.67M/33.9M [00:03<00:23, 1.37MB/s]\u001b[A\u001b[A\u001b[A\n",
      "\n",
      "sub-control01_task-music_run-3_bold.nii.gz:   8%|▊         | 2.69M/33.9M [00:03<00:28, 1.14MB/s]\u001b[A\u001b[A\n",
      "sub-control01_task-nonmusic_run-5_bold.nii.gz:   2%|▏         | 543k/33.9M [00:00<00:47, 741kB/s]A\n",
      "\n",
      "\n",
      "sub-control01_task-music_run-2_bold.nii.gz:   8%|▊         | 2.81M/33.9M [00:03<00:29, 1.11MB/s]\u001b[A\u001b[A\u001b[A\n",
      "\n",
      "\n",
      "\n",
      "sub-control01_task-nonmusic_run-4_bold.nii.gz:   1%|          | 381k/33.9M [00:02<03:27, 169kB/s]\u001b[A\u001b[A\u001b[A\u001b[A\n",
      "\n",
      "sub-control01_task-music_run-3_bold.nii.gz:   8%|▊         | 2.87M/33.9M [00:03<00:24, 1.31MB/s]\u001b[A\u001b[A\n",
      "sub-control01_task-nonmusic_run-5_bold.nii.gz:   2%|▏         | 679k/33.9M [00:00<00:39, 881kB/s]A\n",
      "\n",
      "\n",
      "sub-control01_task-music_run-2_bold.nii.gz:   9%|▉         | 3.00M/33.9M [00:03<00:24, 1.31MB/s]\u001b[A\u001b[A\u001b[A\n",
      "\n",
      "\n",
      "\n",
      "sub-control01_task-nonmusic_run-4_bold.nii.gz:   1%|          | 419k/33.9M [00:02<02:55, 200kB/s]\u001b[A\u001b[A\u001b[A\u001b[A\n",
      "\n",
      "sub-control01_task-music_run-3_bold.nii.gz:   9%|▉         | 3.04M/33.9M [00:03<00:23, 1.39MB/s]\u001b[A\u001b[A\n",
      "sub-control01_task-music_run-1_bold.nii.gz:   6%|▌         | 1.98M/33.8M [00:03<00:37, 881kB/s]\u001b[A\n",
      "\n",
      "\n",
      "sub-control01_task-nonmusic_run-5_bold.nii.gz:   2%|▏         | 832k/33.9M [00:01<00:35, 988kB/s][A\u001b[A\u001b[A\n",
      "\n",
      "sub-control01_task-music_run-3_bold.nii.gz:  10%|▉         | 3.24M/33.9M [00:03<00:20, 1.55MB/s]\u001b[A\u001b[A\n",
      "sub-control01_task-music_run-1_bold.nii.gz:   6%|▌         | 2.08M/33.8M [00:03<00:36, 914kB/s]\u001b[A\n",
      "\n",
      "\n",
      "\n",
      "sub-control01_task-nonmusic_run-4_bold.nii.gz:   1%|▏         | 453k/33.9M [00:02<02:51, 205kB/s]\u001b[A\u001b[A\u001b[A\u001b[A\n",
      "\n",
      "\n",
      "sub-control01_task-nonmusic_run-5_bold.nii.gz:   3%|▎         | 985k/33.9M [00:01<00:31, 1.08MB/s]A\u001b[A\u001b[A\n",
      "\n",
      "sub-control01_task-music_run-3_bold.nii.gz:  10%|█         | 3.40M/33.9M [00:03<00:20, 1.57MB/s]\u001b[A\u001b[A\n",
      "\n",
      "\n",
      "sub-control01_task-music_run-2_bold.nii.gz:  11%|█         | 3.65M/33.9M [00:03<00:17, 1.81MB/s]\u001b[A\u001b[A\u001b[A\n",
      "sub-control01_task-music_run-1_bold.nii.gz:   7%|▋         | 2.23M/33.8M [00:03<00:33, 991kB/s]\u001b[A\n",
      "\n",
      "\n",
      "\n",
      "sub-control01_task-nonmusic_run-5_bold.nii.gz:   3%|▎         | 1.13M/33.9M [00:01<00:30, 1.14MB/s]A\u001b[A\u001b[A\u001b[A\n",
      "\n",
      "sub-control01_task-music_run-3_bold.nii.gz:  11%|█         | 3.65M/33.9M [00:04<00:18, 1.72MB/s]\u001b[A\u001b[A\n",
      "\n",
      "\n",
      "sub-control01_task-music_run-2_bold.nii.gz:  11%|█▏        | 3.87M/33.9M [00:03<00:16, 1.87MB/s]\u001b[A\u001b[A\u001b[A\n",
      "sub-control01_task-music_run-1_bold.nii.gz:   7%|▋         | 2.38M/33.8M [00:04<00:30, 1.07MB/s]\u001b[A\n",
      "\n",
      "\n",
      "\n",
      "sub-control01_task-nonmusic_run-5_bold.nii.gz:   4%|▍         | 1.29M/33.9M [00:01<00:27, 1.24MB/s]A\u001b[A\u001b[A\u001b[A\n",
      "\n",
      "sub-control01_task-music_run-3_bold.nii.gz:  11%|█▏        | 3.88M/33.9M [00:04<00:20, 1.53MB/s]\u001b[A\u001b[A\n",
      "sub-control01_task-music_run-1_bold.nii.gz:   7%|▋         | 2.51M/33.8M [00:04<00:32, 1.02MB/s]\u001b[A\n",
      "\n",
      "\n",
      "sub-control01_task-nonmusic_run-5_bold.nii.gz:   4%|▍         | 1.43M/33.9M [00:01<00:31, 1.08MB/s]\u001b[A\u001b[A\n",
      "\n",
      "sub-control01_task-music_run-3_bold.nii.gz:  12%|█▏        | 4.07M/33.9M [00:04<00:19, 1.57MB/s]\u001b[A\u001b[A\n",
      "sub-control01_task-music_run-1_bold.nii.gz:   8%|▊         | 2.61M/33.8M [00:04<00:32, 995kB/s] \u001b[A\n",
      "\n",
      "\n",
      "sub-control01_task-music_run-2_bold.nii.gz:  12%|█▏        | 4.23M/33.9M [00:04<00:19, 1.59MB/s]\u001b[A\u001b[A\u001b[A\n",
      "\n",
      "\n",
      "\n",
      "sub-control01_task-nonmusic_run-5_bold.nii.gz:   5%|▍         | 1.54M/33.9M [00:01<00:31, 1.08MB/s]A\u001b[A\u001b[A\u001b[A\n",
      "\n",
      "sub-control01_task-music_run-3_bold.nii.gz:  13%|█▎        | 4.28M/33.9M [00:04<00:17, 1.73MB/s]\u001b[A\u001b[A\n",
      "sub-control01_task-music_run-1_bold.nii.gz:   8%|▊         | 2.73M/33.8M [00:04<00:31, 1.04MB/s]\u001b[A\n",
      "\n",
      "\n",
      "sub-control01_task-nonmusic_run-5_bold.nii.gz:   5%|▌         | 1.71M/33.9M [00:01<00:27, 1.23MB/s]\u001b[A\u001b[A\n",
      "\n",
      "\n",
      "\n",
      "sub-control01_task-nonmusic_run-4_bold.nii.gz:   2%|▏         | 589k/33.9M [00:03<02:59, 194kB/s]\u001b[A\u001b[A\u001b[A\u001b[A\n",
      "\n",
      "sub-control01_task-music_run-3_bold.nii.gz:  13%|█▎        | 4.50M/33.9M [00:04<00:16, 1.84MB/s]\u001b[A\u001b[A\n",
      "sub-control01_task-music_run-1_bold.nii.gz:   9%|▊         | 2.88M/33.8M [00:04<00:28, 1.15MB/s]\u001b[A\n",
      "\n",
      "\n",
      "sub-control01_task-nonmusic_run-5_bold.nii.gz:   5%|▌         | 1.86M/33.9M [00:01<00:26, 1.27MB/s]\u001b[A\u001b[A\n",
      "\n",
      "sub-control01_task-music_run-3_bold.nii.gz:  14%|█▍        | 4.71M/33.9M [00:04<00:16, 1.87MB/s]\u001b[A\u001b[A\n",
      "\n",
      "\n",
      "sub-control01_task-music_run-2_bold.nii.gz:  15%|█▍        | 4.95M/33.9M [00:04<00:15, 2.01MB/s]\u001b[A\u001b[A\u001b[A\n",
      "\n",
      "\n",
      "\n",
      "sub-control01_task-nonmusic_run-4_bold.nii.gz:   2%|▏         | 623k/33.9M [00:03<02:54, 200kB/s]\u001b[A\u001b[A\u001b[A\u001b[A\n",
      "sub-control01_task-nonmusic_run-5_bold.nii.gz:   6%|▌         | 2.06M/33.9M [00:02<00:23, 1.39MB/s]\n",
      "\n",
      "sub-control01_task-music_run-3_bold.nii.gz:  15%|█▍        | 4.98M/33.9M [00:04<00:14, 2.09MB/s]\u001b[A\u001b[A\n",
      "\n",
      "\n",
      "sub-control01_task-music_run-2_bold.nii.gz:  15%|█▌        | 5.15M/33.9M [00:04<00:14, 2.03MB/s]\u001b[A\u001b[A\u001b[A\n",
      "sub-control01_task-music_run-1_bold.nii.gz:  10%|▉         | 3.24M/33.8M [00:04<00:25, 1.28MB/s]\u001b[A\n",
      "\n",
      "\n",
      "\n",
      "sub-control01_task-nonmusic_run-5_bold.nii.gz:   7%|▋         | 2.24M/33.9M [00:02<00:21, 1.51MB/s]A\u001b[A\u001b[A\u001b[A\n",
      "\n",
      "sub-control01_task-music_run-3_bold.nii.gz:  15%|█▌        | 5.19M/33.9M [00:04<00:14, 2.10MB/s]\u001b[A\u001b[A\n",
      "\n",
      "\n",
      "sub-control01_task-nonmusic_run-5_bold.nii.gz:   7%|▋         | 2.39M/33.9M [00:02<00:23, 1.43MB/s]\u001b[A\u001b[A\n",
      "\n",
      "\n",
      "sub-control01_task-music_run-2_bold.nii.gz:  17%|█▋        | 5.69M/33.9M [00:04<00:12, 2.39MB/s]\u001b[A\u001b[A\u001b[A\n",
      "\n",
      "sub-control01_task-music_run-3_bold.nii.gz:  16%|█▌        | 5.41M/33.9M [00:04<00:14, 2.07MB/s]\u001b[A\u001b[A\n",
      "sub-control01_task-music_run-1_bold.nii.gz:  10%|█         | 3.46M/33.8M [00:04<00:24, 1.31MB/s]\u001b[A\n",
      "\n",
      "\n",
      "\n",
      "sub-control01_task-nonmusic_run-5_bold.nii.gz:   7%|▋         | 2.54M/33.9M [00:02<00:22, 1.45MB/s]A\u001b[A\u001b[A\u001b[A\n",
      "\n",
      "sub-control01_task-music_run-3_bold.nii.gz:  17%|█▋        | 5.68M/33.9M [00:05<00:13, 2.25MB/s]\u001b[A\u001b[A\n",
      "\n",
      "\n",
      "sub-control01_task-music_run-2_bold.nii.gz:  17%|█▋        | 5.93M/33.9M [00:04<00:13, 2.24MB/s]\u001b[A\u001b[A\u001b[A\n",
      "sub-control01_task-music_run-1_bold.nii.gz:  11%|█         | 3.66M/33.8M [00:05<00:23, 1.37MB/s]\u001b[A\n",
      "\n",
      "\n",
      "\n",
      "sub-control01_task-nonmusic_run-4_bold.nii.gz:   2%|▏         | 725k/33.9M [00:04<02:44, 211kB/s]\u001b[A\u001b[A\u001b[A\u001b[A\n",
      "\n",
      "sub-control01_task-nonmusic_run-5_bold.nii.gz:   8%|▊         | 2.74M/33.9M [00:02<00:21, 1.54MB/s]\u001b[A\n",
      "\n",
      "\n",
      "sub-control01_task-music_run-2_bold.nii.gz:  18%|█▊        | 6.17M/33.9M [00:05<00:12, 2.33MB/s]\u001b[A\u001b[A\u001b[A\n",
      "sub-control01_task-nonmusic_run-5_bold.nii.gz:   9%|▊         | 2.92M/33.9M [00:02<00:19, 1.65MB/s]\n",
      "\n",
      "sub-control01_task-music_run-3_bold.nii.gz:  18%|█▊        | 6.14M/33.9M [00:05<00:13, 2.18MB/s]\u001b[A\u001b[A\n",
      "\n",
      "\n",
      "\n",
      "sub-control01_task-nonmusic_run-4_bold.nii.gz:   2%|▏         | 759k/33.9M [00:04<02:42, 214kB/s]\u001b[A\u001b[A\u001b[A\u001b[A\n",
      "\n",
      "\n",
      "sub-control01_task-music_run-2_bold.nii.gz:  19%|█▉        | 6.49M/33.9M [00:05<00:11, 2.46MB/s]\u001b[A\u001b[A\u001b[A\n",
      "sub-control01_task-music_run-1_bold.nii.gz:  12%|█▏        | 4.04M/33.8M [00:05<00:21, 1.47MB/s]\u001b[A\n",
      "\n",
      "sub-control01_task-nonmusic_run-5_bold.nii.gz:   9%|▉         | 3.09M/33.9M [00:02<00:20, 1.57MB/s]\u001b[A\n",
      "\n",
      "\n",
      "sub-control01_task-music_run-2_bold.nii.gz:  20%|█▉        | 6.74M/33.9M [00:05<00:11, 2.41MB/s]\u001b[A\u001b[A\u001b[A\n",
      "\n",
      "\n",
      "\n",
      "sub-control01_task-nonmusic_run-4_bold.nii.gz:   2%|▏         | 793k/33.9M [00:04<02:48, 206kB/s]\u001b[A\u001b[A\u001b[A\u001b[A\n",
      "sub-control01_task-nonmusic_run-5_bold.nii.gz:  10%|▉         | 3.25M/33.9M [00:02<00:20, 1.58MB/s]\n",
      "\n",
      "sub-control01_task-music_run-3_bold.nii.gz:  20%|█▉        | 6.61M/33.9M [00:05<00:13, 2.19MB/s]\u001b[A\u001b[A\n",
      "\n",
      "\n",
      "sub-control01_task-music_run-2_bold.nii.gz:  21%|██        | 6.97M/33.9M [00:05<00:12, 2.27MB/s]\u001b[A\u001b[A\u001b[A\n",
      "\n",
      "sub-control01_task-nonmusic_run-5_bold.nii.gz:  10%|█         | 3.42M/33.9M [00:03<00:20, 1.54MB/s]\u001b[A\n",
      "\n",
      "\n",
      "sub-control01_task-music_run-2_bold.nii.gz:  22%|██▏       | 7.29M/33.9M [00:05<00:11, 2.49MB/s]\u001b[A\u001b[A\u001b[A\n",
      "sub-control01_task-music_run-1_bold.nii.gz:  13%|█▎        | 4.37M/33.8M [00:05<00:23, 1.31MB/s]\u001b[A\n",
      "\n",
      "\n",
      "\n",
      "sub-control01_task-nonmusic_run-4_bold.nii.gz:   2%|▏         | 827k/33.9M [00:04<02:54, 199kB/s]\u001b[A\u001b[A\u001b[A\u001b[A\n",
      "\n",
      "sub-control01_task-nonmusic_run-5_bold.nii.gz:  11%|█         | 3.57M/33.9M [00:03<00:21, 1.45MB/s]\u001b[A\n",
      "sub-control01_task-music_run-1_bold.nii.gz:  14%|█▎        | 4.60M/33.8M [00:05<00:19, 1.57MB/s]\u001b[A\n",
      "\n",
      "\n",
      "\n",
      "sub-control01_task-nonmusic_run-4_bold.nii.gz:   2%|▏         | 861k/33.9M [00:04<02:34, 224kB/s]\u001b[A\u001b[A\u001b[A\u001b[A\n",
      "\n",
      "\n",
      "sub-control01_task-nonmusic_run-5_bold.nii.gz:  11%|█         | 3.78M/33.9M [00:03<00:19, 1.60MB/s]\u001b[A\u001b[A\n",
      "\n",
      "sub-control01_task-music_run-3_bold.nii.gz:  22%|██▏       | 7.32M/33.9M [00:05<00:13, 2.06MB/s]\u001b[A\u001b[A\n",
      "sub-control01_task-music_run-1_bold.nii.gz:  14%|█▍        | 4.77M/33.8M [00:05<00:21, 1.43MB/s]\u001b[A\n",
      "\n",
      "\n",
      "sub-control01_task-music_run-2_bold.nii.gz:  23%|██▎       | 7.80M/33.9M [00:05<00:11, 2.31MB/s]\u001b[A\u001b[A\u001b[A\n",
      "\n",
      "sub-control01_task-music_run-3_bold.nii.gz:  22%|██▏       | 7.60M/33.9M [00:05<00:12, 2.29MB/s]\u001b[A\u001b[A\n",
      "\n",
      "\n",
      "\n",
      "sub-control01_task-nonmusic_run-5_bold.nii.gz:  12%|█▏        | 3.95M/33.9M [00:03<00:20, 1.51MB/s]A\u001b[A\u001b[A\u001b[A\n",
      "\n",
      "\n",
      "sub-control01_task-music_run-2_bold.nii.gz:  24%|██▎       | 8.03M/33.9M [00:05<00:11, 2.32MB/s]\u001b[A\u001b[A\u001b[A\n",
      "sub-control01_task-music_run-1_bold.nii.gz:  15%|█▍        | 4.92M/33.8M [00:06<00:23, 1.30MB/s]\u001b[A\n",
      "\n",
      "sub-control01_task-music_run-3_bold.nii.gz:  23%|██▎       | 7.83M/33.9M [00:06<00:12, 2.19MB/s]\u001b[A\u001b[A\n",
      "\n",
      "\n",
      "sub-control01_task-nonmusic_run-5_bold.nii.gz:  12%|█▏        | 4.13M/33.9M [00:03<00:21, 1.47MB/s]\u001b[A\u001b[A\n",
      "sub-control01_task-music_run-1_bold.nii.gz:  15%|█▌        | 5.15M/33.8M [00:06<00:19, 1.56MB/s]\u001b[A\n",
      "\n",
      "\n",
      "\n",
      "sub-control01_task-nonmusic_run-4_bold.nii.gz:   3%|▎         | 929k/33.9M [00:05<02:50, 203kB/s]\u001b[A\u001b[A\u001b[A\u001b[A\n",
      "\n",
      "sub-control01_task-music_run-3_bold.nii.gz:  24%|██▍       | 8.10M/33.9M [00:06<00:12, 2.25MB/s]\u001b[A\u001b[A\n",
      "\n",
      "\n",
      "sub-control01_task-nonmusic_run-5_bold.nii.gz:  13%|█▎        | 4.32M/33.9M [00:03<00:20, 1.54MB/s]\u001b[A\u001b[A\n",
      "sub-control01_task-music_run-1_bold.nii.gz:  16%|█▌        | 5.32M/33.8M [00:06<00:21, 1.38MB/s]\u001b[A\n",
      "\n",
      "sub-control01_task-music_run-3_bold.nii.gz:  25%|██▍       | 8.33M/33.9M [00:06<00:12, 2.19MB/s]\u001b[A\u001b[A\n",
      "\n",
      "\n",
      "sub-control01_task-nonmusic_run-5_bold.nii.gz:  13%|█▎        | 4.46M/33.9M [00:03<00:21, 1.46MB/s]\u001b[A\u001b[A\n",
      "\n",
      "\n",
      "\n",
      "sub-control01_task-nonmusic_run-4_bold.nii.gz:   3%|▎         | 963k/33.9M [00:05<03:05, 186kB/s]\u001b[A\u001b[A\u001b[A\u001b[A\n",
      "\n",
      "\n",
      "sub-control01_task-nonmusic_run-5_bold.nii.gz:  14%|█▍        | 4.66M/33.9M [00:03<00:18, 1.63MB/s]\u001b[A\u001b[A\n",
      "\n",
      "sub-control01_task-music_run-3_bold.nii.gz:  25%|██▌       | 8.61M/33.9M [00:06<00:12, 2.19MB/s]\u001b[A\u001b[A\n",
      "sub-control01_task-music_run-1_bold.nii.gz:  16%|█▌        | 5.48M/33.8M [00:06<00:23, 1.27MB/s]\u001b[A\n",
      "\n",
      "\n",
      "\n",
      "sub-control01_task-nonmusic_run-4_bold.nii.gz:   3%|▎         | 997k/33.9M [00:05<02:53, 198kB/s]\u001b[A\u001b[A\u001b[A\u001b[A\n",
      "\n",
      "sub-control01_task-music_run-3_bold.nii.gz:  26%|██▌       | 8.83M/33.9M [00:06<00:12, 2.06MB/s]\u001b[A\u001b[A\n",
      "\n",
      "\n",
      "sub-control01_task-music_run-2_bold.nii.gz:  27%|██▋       | 9.26M/33.9M [00:06<00:11, 2.17MB/s]\u001b[A\u001b[A\u001b[A\n",
      "sub-control01_task-nonmusic_run-5_bold.nii.gz:  14%|█▍        | 4.83M/33.9M [00:04<00:23, 1.31MB/s]\n",
      "\n",
      "sub-control01_task-music_run-3_bold.nii.gz:  27%|██▋       | 9.05M/33.9M [00:06<00:12, 2.09MB/s]\u001b[A\u001b[A\n",
      "\n",
      "\n",
      "sub-control01_task-music_run-2_bold.nii.gz:  28%|██▊       | 9.48M/33.9M [00:06<00:12, 2.00MB/s]\u001b[A\u001b[A\u001b[A\n",
      "\n",
      "\n",
      "\n",
      "sub-control01_task-nonmusic_run-5_bold.nii.gz:  15%|█▍        | 5.01M/33.9M [00:04<00:37, 813kB/s] [A\u001b[A\u001b[A\u001b[A\n",
      "sub-control01_task-music_run-1_bold.nii.gz:  17%|█▋        | 5.83M/33.8M [00:07<00:40, 732kB/s] \u001b[A\n",
      "\n",
      "sub-control01_task-music_run-3_bold.nii.gz:  27%|██▋       | 9.26M/33.9M [00:07<00:22, 1.14MB/s]\u001b[A\u001b[A\n",
      "\n",
      "\n",
      "\n",
      "sub-control01_task-nonmusic_run-4_bold.nii.gz:   3%|▎         | 1.04M/33.9M [00:06<03:59, 144kB/s]\u001b[A\u001b[A\u001b[A\u001b[A\n",
      "\n",
      "\n",
      "sub-control01_task-nonmusic_run-5_bold.nii.gz:  16%|█▌        | 5.46M/33.9M [00:04<00:21, 1.41MB/s]\u001b[A\u001b[A\n",
      "\n",
      "sub-control01_task-music_run-3_bold.nii.gz:  29%|██▉       | 9.88M/33.9M [00:07<00:12, 2.02MB/s]\u001b[A\u001b[A\n",
      "\n",
      "\n",
      "sub-control01_task-music_run-2_bold.nii.gz:  30%|███       | 10.3M/33.9M [00:07<00:12, 1.96MB/s]\u001b[A\u001b[A\u001b[A\n",
      "\n",
      "\n",
      "\n",
      "sub-control01_task-nonmusic_run-4_bold.nii.gz:   3%|▎         | 1.07M/33.9M [00:06<03:21, 171kB/s]\u001b[A\u001b[A\u001b[A\u001b[A\n",
      "sub-control01_task-music_run-1_bold.nii.gz:  19%|█▊        | 6.30M/33.8M [00:07<00:23, 1.23MB/s]\u001b[A\n",
      "\n",
      "\n",
      "sub-control01_task-music_run-2_bold.nii.gz:  31%|███       | 10.5M/33.9M [00:07<00:11, 2.07MB/s]\u001b[A\u001b[A\u001b[A\n",
      "\n",
      "sub-control01_task-music_run-3_bold.nii.gz:  30%|███       | 10.2M/33.9M [00:07<00:12, 2.04MB/s]\u001b[A\u001b[A\n",
      "sub-control01_task-nonmusic_run-5_bold.nii.gz:  17%|█▋        | 5.68M/33.9M [00:04<00:21, 1.36MB/s]\n",
      "\n",
      "\n",
      "\n",
      "sub-control01_task-nonmusic_run-4_bold.nii.gz:   3%|▎         | 1.11M/33.9M [00:06<03:06, 184kB/s]\u001b[A\u001b[A\u001b[A\u001b[A\n",
      "\n",
      "\n",
      "sub-control01_task-nonmusic_run-5_bold.nii.gz:  17%|█▋        | 5.89M/33.9M [00:04<00:20, 1.44MB/s]\u001b[A\u001b[A\n",
      "sub-control01_task-music_run-1_bold.nii.gz:  20%|█▉        | 6.63M/33.8M [00:07<00:22, 1.26MB/s]\u001b[A\n",
      "\n",
      "sub-control01_task-music_run-3_bold.nii.gz:  31%|███       | 10.4M/33.9M [00:07<00:12, 1.90MB/s]\u001b[A\u001b[A\n",
      "\n",
      "\n",
      "\n",
      "sub-control01_task-nonmusic_run-5_bold.nii.gz:  18%|█▊        | 6.07M/33.9M [00:05<00:19, 1.46MB/s][A\u001b[A\u001b[A\u001b[A\n",
      "\n",
      "\n",
      "sub-control01_task-music_run-2_bold.nii.gz:  33%|███▎      | 11.1M/33.9M [00:07<00:12, 1.97MB/s]\u001b[A\u001b[A\u001b[A\n",
      "\n",
      "sub-control01_task-music_run-3_bold.nii.gz:  32%|███▏      | 10.7M/33.9M [00:07<00:12, 2.01MB/s]\u001b[A\u001b[A\n",
      "sub-control01_task-music_run-1_bold.nii.gz:  20%|██        | 6.78M/33.8M [00:07<00:23, 1.21MB/s]\u001b[A\n",
      "\n",
      "\n",
      "sub-control01_task-music_run-2_bold.nii.gz:  33%|███▎      | 11.3M/33.9M [00:07<00:12, 1.86MB/s]\u001b[A\u001b[A\u001b[A\n",
      "\n",
      "\n",
      "\n",
      "sub-control01_task-nonmusic_run-4_bold.nii.gz:   3%|▎         | 1.17M/33.9M [00:06<03:20, 171kB/s]\u001b[A\u001b[A\u001b[A\u001b[A\n",
      "sub-control01_task-music_run-1_bold.nii.gz:  20%|██        | 6.91M/33.8M [00:07<00:25, 1.13MB/s]\u001b[A\n",
      "\n",
      "sub-control01_task-nonmusic_run-5_bold.nii.gz:  18%|█▊        | 6.24M/33.9M [00:05<00:25, 1.16MB/s]\u001b[A\n",
      "\n",
      "\n",
      "\n",
      "sub-control01_task-nonmusic_run-4_bold.nii.gz:   4%|▎         | 1.21M/33.9M [00:06<02:59, 191kB/s]\u001b[A\u001b[A\u001b[A\u001b[A\n",
      "\n",
      "\n",
      "sub-control01_task-music_run-2_bold.nii.gz:  34%|███▍      | 11.5M/33.9M [00:07<00:13, 1.69MB/s]\u001b[A\u001b[A\u001b[A\n",
      "sub-control01_task-music_run-1_bold.nii.gz:  21%|██        | 7.05M/33.8M [00:08<00:26, 1.06MB/s]\u001b[A\n",
      "\n",
      "sub-control01_task-nonmusic_run-5_bold.nii.gz:  19%|█▉        | 6.44M/33.9M [00:05<00:22, 1.25MB/s]\u001b[A\n",
      "\n",
      "\n",
      "sub-control01_task-music_run-2_bold.nii.gz:  35%|███▍      | 11.8M/33.9M [00:07<00:12, 1.84MB/s]\u001b[A\u001b[A\u001b[A\n",
      "\n",
      "sub-control01_task-music_run-3_bold.nii.gz:  33%|███▎      | 11.3M/33.9M [00:08<00:13, 1.80MB/s]\u001b[A\u001b[A\n",
      "sub-control01_task-music_run-1_bold.nii.gz:  21%|██▏       | 7.21M/33.8M [00:08<00:23, 1.18MB/s]\u001b[A\n",
      "\n",
      "\n",
      "\n",
      "sub-control01_task-nonmusic_run-5_bold.nii.gz:  19%|█▉        | 6.59M/33.9M [00:05<00:23, 1.24MB/s][A\u001b[A\u001b[A\u001b[A\n",
      "\n",
      "\n",
      "sub-control01_task-music_run-2_bold.nii.gz:  35%|███▌      | 12.0M/33.9M [00:08<00:12, 1.85MB/s]\u001b[A\u001b[A\u001b[A\n",
      "\n",
      "sub-control01_task-music_run-3_bold.nii.gz:  34%|███▍      | 11.5M/33.9M [00:08<00:13, 1.77MB/s]\u001b[A\u001b[A\n",
      "sub-control01_task-nonmusic_run-5_bold.nii.gz:  20%|█▉        | 6.74M/33.9M [00:05<00:22, 1.29MB/s]\n",
      "\n",
      "\n",
      "\n",
      "sub-control01_task-nonmusic_run-4_bold.nii.gz:   4%|▍         | 1.27M/33.9M [00:07<02:47, 204kB/s]\u001b[A\u001b[A\u001b[A\u001b[A\n",
      "\n",
      "\n",
      "sub-control01_task-music_run-2_bold.nii.gz:  36%|███▌      | 12.2M/33.9M [00:08<00:11, 1.92MB/s]\u001b[A\u001b[A\u001b[A\n",
      "\n",
      "sub-control01_task-music_run-3_bold.nii.gz:  35%|███▍      | 11.8M/33.9M [00:08<00:12, 1.88MB/s]\u001b[A\u001b[A\n",
      "sub-control01_task-nonmusic_run-5_bold.nii.gz:  20%|██        | 6.89M/33.9M [00:05<00:21, 1.29MB/s]\n",
      "\n",
      "\n",
      "\n",
      "sub-control01_task-nonmusic_run-4_bold.nii.gz:   4%|▍         | 1.31M/33.9M [00:07<02:27, 231kB/s]\u001b[A\u001b[A\u001b[A\u001b[A\n",
      "\n",
      "\n",
      "sub-control01_task-music_run-2_bold.nii.gz:  37%|███▋      | 12.4M/33.9M [00:08<00:11, 1.93MB/s]\u001b[A\u001b[A\u001b[A\n",
      "\n",
      "sub-control01_task-music_run-3_bold.nii.gz:  35%|███▌      | 12.0M/33.9M [00:08<00:12, 1.88MB/s]\u001b[A\u001b[A\n",
      "sub-control01_task-nonmusic_run-5_bold.nii.gz:  21%|██        | 7.05M/33.9M [00:05<00:20, 1.39MB/s]\n",
      "\n",
      "\n",
      "sub-control01_task-music_run-2_bold.nii.gz:  37%|███▋      | 12.7M/33.9M [00:08<00:10, 2.11MB/s]\u001b[A\u001b[A\u001b[A\n",
      "\n",
      "\n",
      "\n",
      "sub-control01_task-nonmusic_run-4_bold.nii.gz:   4%|▍         | 1.34M/33.9M [00:07<02:25, 235kB/s]\u001b[A\u001b[A\u001b[A\u001b[A\n",
      "\n",
      "sub-control01_task-nonmusic_run-5_bold.nii.gz:  21%|██▏       | 7.20M/33.9M [00:05<00:19, 1.42MB/s]\u001b[A\n",
      "sub-control01_task-music_run-1_bold.nii.gz:  23%|██▎       | 7.84M/33.8M [00:08<00:20, 1.33MB/s]\u001b[A\n",
      "\n",
      "\n",
      "sub-control01_task-music_run-2_bold.nii.gz:  38%|███▊      | 12.9M/33.9M [00:08<00:10, 2.15MB/s]\u001b[A\u001b[A\u001b[A\n",
      "\n",
      "sub-control01_task-music_run-3_bold.nii.gz:  37%|███▋      | 12.4M/33.9M [00:08<00:11, 1.93MB/s]\u001b[A\u001b[A\n",
      "\n",
      "\n",
      "\n",
      "sub-control01_task-nonmusic_run-4_bold.nii.gz:   4%|▍         | 1.39M/33.9M [00:07<02:12, 257kB/s]\u001b[A\u001b[A\u001b[A\u001b[A\n",
      "sub-control01_task-nonmusic_run-5_bold.nii.gz:  22%|██▏       | 7.37M/33.9M [00:06<00:19, 1.42MB/s]\n",
      "\n",
      "\n",
      "sub-control01_task-music_run-2_bold.nii.gz:  39%|███▉      | 13.1M/33.9M [00:08<00:09, 2.22MB/s]\u001b[A\u001b[A\u001b[A\n",
      "\n",
      "sub-control01_task-nonmusic_run-5_bold.nii.gz:  22%|██▏       | 7.55M/33.9M [00:06<00:17, 1.55MB/s]\u001b[A\n",
      "\n",
      "\n",
      "\n",
      "sub-control01_task-nonmusic_run-4_bold.nii.gz:   4%|▍         | 1.44M/33.9M [00:07<01:56, 293kB/s]\u001b[A\u001b[A\u001b[A\u001b[A\n",
      "\n",
      "\n",
      "sub-control01_task-music_run-2_bold.nii.gz:  39%|███▉      | 13.3M/33.9M [00:08<00:09, 2.18MB/s]\u001b[A\u001b[A\u001b[A\n",
      "sub-control01_task-music_run-1_bold.nii.gz:  24%|██▍       | 8.16M/33.8M [00:08<00:20, 1.29MB/s]\u001b[A\n",
      "\n",
      "sub-control01_task-music_run-3_bold.nii.gz:  38%|███▊      | 12.9M/33.9M [00:08<00:11, 1.95MB/s]\u001b[A\u001b[A\n",
      "\n",
      "\n",
      "sub-control01_task-music_run-2_bold.nii.gz:  40%|████      | 13.6M/33.9M [00:08<00:09, 2.24MB/s]\u001b[A\u001b[A\u001b[A\n",
      "sub-control01_task-nonmusic_run-5_bold.nii.gz:  23%|██▎       | 7.72M/33.9M [00:06<00:19, 1.40MB/s]\n",
      "\n",
      "\n",
      "\n",
      "sub-control01_task-nonmusic_run-4_bold.nii.gz:   4%|▍         | 1.49M/33.9M [00:07<01:52, 301kB/s]\u001b[A\u001b[A\u001b[A\u001b[A\n",
      "\n",
      "sub-control01_task-music_run-3_bold.nii.gz:  39%|███▉      | 13.2M/33.9M [00:09<00:09, 2.28MB/s]\u001b[A\u001b[A\n",
      "\n",
      "\n",
      "sub-control01_task-nonmusic_run-5_bold.nii.gz:  24%|██▎       | 7.97M/33.9M [00:06<00:15, 1.70MB/s]\u001b[A\u001b[A\n",
      "sub-control01_task-music_run-1_bold.nii.gz:  25%|██▌       | 8.49M/33.8M [00:09<00:19, 1.33MB/s]\u001b[A\n",
      "\n",
      "\n",
      "\n",
      "sub-control01_task-nonmusic_run-4_bold.nii.gz:   5%|▍         | 1.54M/33.9M [00:08<01:46, 318kB/s]\u001b[A\u001b[A\u001b[A\u001b[A\n",
      "\n",
      "sub-control01_task-music_run-3_bold.nii.gz:  40%|███▉      | 13.5M/33.9M [00:09<00:10, 2.10MB/s]\u001b[A\u001b[A\n",
      "\n",
      "\n",
      "sub-control01_task-music_run-2_bold.nii.gz:  42%|████▏     | 14.1M/33.9M [00:09<00:09, 2.29MB/s]\u001b[A\u001b[A\u001b[A\n",
      "sub-control01_task-music_run-1_bold.nii.gz:  26%|██▌       | 8.67M/33.8M [00:09<00:18, 1.46MB/s]\u001b[A\n",
      "\n",
      "\n",
      "\n",
      "sub-control01_task-nonmusic_run-5_bold.nii.gz:  24%|██▍       | 8.15M/33.9M [00:06<00:19, 1.39MB/s][A\u001b[A\u001b[A\u001b[A\n",
      "\n",
      "sub-control01_task-music_run-3_bold.nii.gz:  40%|████      | 13.7M/33.9M [00:09<00:10, 2.09MB/s]\u001b[A\u001b[A\n",
      "\n",
      "\n",
      "sub-control01_task-music_run-2_bold.nii.gz:  42%|████▏     | 14.3M/33.9M [00:09<00:09, 2.06MB/s]\u001b[A\u001b[A\u001b[A\n",
      "sub-control01_task-nonmusic_run-5_bold.nii.gz:  25%|██▍       | 8.33M/33.9M [00:06<00:18, 1.43MB/s]\n",
      "\n",
      "\n",
      "\n",
      "sub-control01_task-nonmusic_run-4_bold.nii.gz:   5%|▍         | 1.62M/33.9M [00:08<01:43, 326kB/s]\u001b[A\u001b[A\u001b[A\u001b[A\n",
      "\n",
      "sub-control01_task-music_run-3_bold.nii.gz:  41%|████      | 13.9M/33.9M [00:09<00:10, 1.94MB/s]\u001b[A\u001b[A\n",
      "\n",
      "\n",
      "sub-control01_task-music_run-2_bold.nii.gz:  43%|████▎     | 14.6M/33.9M [00:09<00:14, 1.43MB/s]\u001b[A\u001b[A\u001b[A\n",
      "sub-control01_task-nonmusic_run-5_bold.nii.gz:  25%|██▌       | 8.48M/33.9M [00:07<00:25, 1.04MB/s]\n",
      "\n",
      "\n",
      "\n",
      "sub-control01_task-nonmusic_run-4_bold.nii.gz:   5%|▍         | 1.65M/33.9M [00:08<02:18, 244kB/s]\u001b[A\u001b[A\u001b[A\u001b[A\n",
      "\n",
      "sub-control01_task-music_run-3_bold.nii.gz:  42%|████▏     | 14.1M/33.9M [00:09<00:14, 1.43MB/s]\u001b[A\u001b[A\n",
      "\n",
      "\n",
      "sub-control01_task-music_run-2_bold.nii.gz:  45%|████▌     | 15.3M/33.9M [00:09<00:07, 2.63MB/s]\u001b[A\u001b[A\u001b[A\n",
      "sub-control01_task-nonmusic_run-5_bold.nii.gz:  26%|██▋       | 8.90M/33.9M [00:07<00:15, 1.68MB/s]\n",
      "\n",
      "\n",
      "\n",
      "sub-control01_task-nonmusic_run-4_bold.nii.gz:   5%|▌         | 1.77M/33.9M [00:08<01:17, 433kB/s]\u001b[A\u001b[A\u001b[A\u001b[A\n",
      "\n",
      "sub-control01_task-music_run-3_bold.nii.gz:  43%|████▎     | 14.7M/33.9M [00:09<00:08, 2.32MB/s]\u001b[A\u001b[A\n",
      "sub-control01_task-nonmusic_run-5_bold.nii.gz:  27%|██▋       | 9.11M/33.9M [00:07<00:18, 1.39MB/s]\n",
      "\n",
      "\n",
      "sub-control01_task-music_run-2_bold.nii.gz:  46%|████▌     | 15.7M/33.9M [00:09<00:08, 2.13MB/s]\u001b[A\u001b[A\u001b[A\n",
      "\n",
      "sub-control01_task-music_run-3_bold.nii.gz:  44%|████▍     | 14.9M/33.9M [00:10<00:10, 1.89MB/s]\u001b[A\u001b[A\n",
      "\n",
      "\n",
      "\n",
      "sub-control01_task-nonmusic_run-5_bold.nii.gz:  27%|██▋       | 9.30M/33.9M [00:07<00:17, 1.49MB/s][A\u001b[A\u001b[A\u001b[A\n",
      "\n",
      "sub-control01_task-music_run-3_bold.nii.gz:  45%|████▍     | 15.2M/33.9M [00:10<00:09, 1.99MB/s]\u001b[A\u001b[A\n",
      "sub-control01_task-music_run-1_bold.nii.gz:  29%|██▊       | 9.72M/33.8M [00:10<00:19, 1.28MB/s]\u001b[A\n",
      "\n",
      "\n",
      "sub-control01_task-music_run-2_bold.nii.gz:  47%|████▋     | 15.9M/33.9M [00:10<00:09, 2.08MB/s]\u001b[A\u001b[A\u001b[A\n",
      "\n",
      "\n",
      "\n",
      "sub-control01_task-nonmusic_run-4_bold.nii.gz:   6%|▌         | 1.90M/33.9M [00:09<01:29, 376kB/s]\u001b[A\u001b[A\u001b[A\u001b[A\n",
      "sub-control01_task-music_run-1_bold.nii.gz:  29%|██▉       | 9.88M/33.8M [00:10<00:18, 1.36MB/s]\u001b[A\n",
      "\n",
      "sub-control01_task-music_run-3_bold.nii.gz:  46%|████▌     | 15.4M/33.9M [00:10<00:10, 1.93MB/s]\u001b[A\u001b[A\n",
      "\n",
      "\n",
      "\n",
      "sub-control01_task-nonmusic_run-5_bold.nii.gz:  28%|██▊       | 9.48M/33.9M [00:07<00:20, 1.25MB/s][A\u001b[A\u001b[A\u001b[A\n",
      "\n",
      "\n",
      "sub-control01_task-nonmusic_run-5_bold.nii.gz:  28%|██▊       | 9.63M/33.9M [00:07<00:19, 1.31MB/s]\u001b[A\u001b[A\n",
      "\n",
      "sub-control01_task-music_run-3_bold.nii.gz:  46%|████▌     | 15.6M/33.9M [00:10<00:11, 1.74MB/s]\u001b[A\u001b[A\n",
      "sub-control01_task-music_run-1_bold.nii.gz:  30%|██▉       | 10.1M/33.8M [00:10<00:21, 1.18MB/s]\u001b[A\n",
      "\n",
      "\n",
      "\n",
      "sub-control01_task-nonmusic_run-4_bold.nii.gz:   6%|▌         | 2.00M/33.9M [00:09<01:26, 384kB/s]\u001b[A\u001b[A\u001b[A\u001b[A\n",
      "\n",
      "\n",
      "sub-control01_task-music_run-2_bold.nii.gz:  49%|████▊     | 16.4M/33.9M [00:10<00:09, 1.96MB/s]\u001b[A\u001b[A\u001b[A\n",
      "\n",
      "sub-control01_task-nonmusic_run-5_bold.nii.gz:  29%|██▉       | 9.78M/33.9M [00:08<00:23, 1.08MB/s]\u001b[A\n",
      "\n",
      "\n",
      "\n",
      "sub-control01_task-nonmusic_run-4_bold.nii.gz:   6%|▌         | 2.05M/33.9M [00:09<01:38, 340kB/s]\u001b[A\u001b[A\u001b[A\u001b[A\n",
      "sub-control01_task-music_run-1_bold.nii.gz:  30%|███       | 10.2M/33.8M [00:10<00:26, 948kB/s] \u001b[A\n",
      "\n",
      "\n",
      "sub-control01_task-music_run-2_bold.nii.gz:  49%|████▉     | 16.7M/33.9M [00:10<00:11, 1.56MB/s]\u001b[A\u001b[A\u001b[A\n",
      "\n",
      "sub-control01_task-music_run-3_bold.nii.gz:  47%|████▋     | 16.0M/33.9M [00:10<00:12, 1.46MB/s]\u001b[A\u001b[A\n",
      "sub-control01_task-nonmusic_run-5_bold.nii.gz:  29%|██▉       | 9.91M/33.9M [00:08<00:23, 1.09MB/s]\n",
      "\n",
      "\n",
      "\n",
      "sub-control01_task-nonmusic_run-4_bold.nii.gz:   6%|▌         | 2.10M/33.9M [00:09<01:39, 336kB/s]\u001b[A\u001b[A\u001b[A\u001b[A\n",
      "\n",
      "\n",
      "\n",
      "sub-control01_task-nonmusic_run-5_bold.nii.gz:  30%|██▉       | 10.0M/33.9M [00:08<00:30, 826kB/s] [A\u001b[A\u001b[A\u001b[A\n",
      "\n",
      "\n",
      "sub-control01_task-music_run-2_bold.nii.gz:  50%|████▉     | 16.8M/33.9M [00:10<00:16, 1.09MB/s]\u001b[A\u001b[A\u001b[A\n",
      "\n",
      "sub-control01_task-music_run-3_bold.nii.gz:  48%|████▊     | 16.2M/33.9M [00:11<00:17, 1.05MB/s]\u001b[A\u001b[A\n",
      "sub-control01_task-music_run-1_bold.nii.gz:  31%|███       | 10.5M/33.8M [00:11<00:32, 764kB/s] \u001b[A\n",
      "\n",
      "\n",
      "\n",
      "sub-control01_task-nonmusic_run-4_bold.nii.gz:   7%|▋         | 2.24M/33.9M [00:10<01:25, 388kB/s]\u001b[A\u001b[A\u001b[A\u001b[A\n",
      "\n",
      "sub-control01_task-music_run-3_bold.nii.gz:  49%|████▉     | 16.6M/33.9M [00:11<00:10, 1.65MB/s]\u001b[A\u001b[A\n",
      "\n",
      "\n",
      "sub-control01_task-nonmusic_run-5_bold.nii.gz:  30%|███       | 10.3M/33.9M [00:08<00:21, 1.14MB/s]\u001b[A\u001b[A\n",
      "sub-control01_task-music_run-1_bold.nii.gz:  32%|███▏      | 10.8M/33.8M [00:11<00:22, 1.08MB/s]\u001b[A\n",
      "\n",
      "\n",
      "\n",
      "sub-control01_task-nonmusic_run-4_bold.nii.gz:   7%|▋         | 2.32M/33.9M [00:10<01:09, 477kB/s]\u001b[A\u001b[A\u001b[A\u001b[A\n",
      "\n",
      "sub-control01_task-nonmusic_run-5_bold.nii.gz:  31%|███       | 10.5M/33.9M [00:08<00:19, 1.25MB/s]\u001b[A\n",
      "\n",
      "\n",
      "sub-control01_task-music_run-2_bold.nii.gz:  52%|█████▏    | 17.7M/33.9M [00:11<00:08, 1.88MB/s]\u001b[A\u001b[A\u001b[A\n",
      "sub-control01_task-music_run-1_bold.nii.gz:  32%|███▏      | 10.9M/33.8M [00:11<00:21, 1.14MB/s]\u001b[A\n",
      "\n",
      "\n",
      "\n",
      "sub-control01_task-nonmusic_run-4_bold.nii.gz:   7%|▋         | 2.38M/33.9M [00:10<01:05, 507kB/s]\u001b[A\u001b[A\u001b[A\u001b[A\n",
      "\n",
      "sub-control01_task-nonmusic_run-5_bold.nii.gz:  31%|███▏      | 10.6M/33.9M [00:08<00:18, 1.28MB/s]\u001b[A\n",
      "\n",
      "\n",
      "sub-control01_task-music_run-2_bold.nii.gz:  53%|█████▎    | 18.0M/33.9M [00:11<00:08, 1.92MB/s]\u001b[A\u001b[A\u001b[A\n",
      "\n",
      "\n",
      "\n",
      "sub-control01_task-nonmusic_run-4_bold.nii.gz:   7%|▋         | 2.45M/33.9M [00:10<01:01, 540kB/s]\u001b[A\u001b[A\u001b[A\u001b[A\n",
      "sub-control01_task-music_run-1_bold.nii.gz:  33%|███▎      | 11.1M/33.8M [00:11<00:19, 1.20MB/s]\u001b[A\n",
      "\n",
      "sub-control01_task-nonmusic_run-5_bold.nii.gz:  32%|███▏      | 10.8M/33.9M [00:08<00:17, 1.37MB/s]\u001b[A\n",
      "\n",
      "\n",
      "sub-control01_task-music_run-2_bold.nii.gz:  54%|█████▎    | 18.2M/33.9M [00:11<00:08, 1.90MB/s]\u001b[A\u001b[A\u001b[A\n",
      "sub-control01_task-music_run-1_bold.nii.gz:  33%|███▎      | 11.2M/33.8M [00:11<00:18, 1.26MB/s]\u001b[A\n",
      "\n",
      "\n",
      "\n",
      "sub-control01_task-nonmusic_run-4_bold.nii.gz:   7%|▋         | 2.52M/33.9M [00:10<00:59, 552kB/s]\u001b[A\u001b[A\u001b[A\u001b[A\n",
      "\n",
      "sub-control01_task-nonmusic_run-5_bold.nii.gz:  32%|███▏      | 11.0M/33.9M [00:09<00:18, 1.32MB/s]\u001b[A\n",
      "\n",
      "\n",
      "sub-control01_task-music_run-2_bold.nii.gz:  54%|█████▍    | 18.4M/33.9M [00:11<00:08, 1.93MB/s]\u001b[A\u001b[A\u001b[A\n",
      "sub-control01_task-music_run-1_bold.nii.gz:  34%|███▎      | 11.4M/33.8M [00:11<00:18, 1.25MB/s]\u001b[A\n",
      "\n",
      "\n",
      "\n",
      "sub-control01_task-nonmusic_run-4_bold.nii.gz:   8%|▊         | 2.60M/33.9M [00:10<00:54, 604kB/s]\u001b[A\u001b[A\u001b[A\u001b[A\n",
      "\n",
      "sub-control01_task-nonmusic_run-5_bold.nii.gz:  33%|███▎      | 11.1M/33.9M [00:09<00:22, 1.08MB/s]\u001b[A\n",
      "\n",
      "\n",
      "sub-control01_task-music_run-2_bold.nii.gz:  55%|█████▌    | 18.6M/33.9M [00:11<00:09, 1.64MB/s]\u001b[A\u001b[A\u001b[A\n",
      "\n",
      "\n",
      "\n",
      "sub-control01_task-nonmusic_run-4_bold.nii.gz:   8%|▊         | 2.67M/33.9M [00:10<01:02, 526kB/s]\u001b[A\u001b[A\u001b[A\u001b[A\n",
      "sub-control01_task-music_run-1_bold.nii.gz:  34%|███▍      | 11.5M/33.8M [00:11<00:22, 1.06MB/s]\u001b[A\n",
      "\n",
      "sub-control01_task-nonmusic_run-5_bold.nii.gz:  33%|███▎      | 11.3M/33.9M [00:09<00:20, 1.18MB/s]\u001b[A\n",
      "\n",
      "\n",
      "sub-control01_task-music_run-2_bold.nii.gz:  56%|█████▌    | 18.9M/33.9M [00:11<00:08, 1.78MB/s]\u001b[A\u001b[A\u001b[A\n",
      "\n",
      "\n",
      "\n",
      "sub-control01_task-nonmusic_run-4_bold.nii.gz:   8%|▊         | 2.73M/33.9M [00:10<01:00, 535kB/s]\u001b[A\u001b[A\u001b[A\u001b[A\n",
      "sub-control01_task-music_run-1_bold.nii.gz:  34%|███▍      | 11.7M/33.8M [00:12<00:20, 1.11MB/s]\u001b[A\n",
      "\n",
      "sub-control01_task-nonmusic_run-5_bold.nii.gz:  34%|███▎      | 11.4M/33.9M [00:09<00:18, 1.24MB/s]\u001b[A\n",
      "\n",
      "\n",
      "sub-control01_task-music_run-2_bold.nii.gz:  56%|█████▋    | 19.1M/33.9M [00:11<00:08, 1.77MB/s]\u001b[A\u001b[A\u001b[A\n",
      "sub-control01_task-music_run-1_bold.nii.gz:  35%|███▍      | 11.8M/33.8M [00:12<00:20, 1.15MB/s]\u001b[A\n",
      "\n",
      "\n",
      "\n",
      "sub-control01_task-nonmusic_run-4_bold.nii.gz:   8%|▊         | 2.80M/33.9M [00:11<01:00, 541kB/s]\u001b[A\u001b[A\u001b[A\u001b[A\n",
      "\n",
      "sub-control01_task-nonmusic_run-5_bold.nii.gz:  34%|███▍      | 11.6M/33.9M [00:09<00:17, 1.32MB/s]\u001b[A\n",
      "\n",
      "\n",
      "sub-control01_task-music_run-2_bold.nii.gz:  57%|█████▋    | 19.3M/33.9M [00:12<00:08, 1.84MB/s]\u001b[A\u001b[A\u001b[A\n",
      "sub-control01_task-music_run-1_bold.nii.gz:  35%|███▌      | 11.9M/33.8M [00:12<00:19, 1.20MB/s]\u001b[A\n",
      "\n",
      "sub-control01_task-music_run-3_bold.nii.gz:  55%|█████▍    | 18.5M/33.9M [00:12<00:09, 1.77MB/s]\u001b[A\u001b[A\n",
      "\n",
      "\n",
      "\n",
      "sub-control01_task-nonmusic_run-4_bold.nii.gz:   9%|▊         | 2.88M/33.9M [00:11<00:55, 582kB/s]\u001b[A\u001b[A\u001b[A\u001b[A\n",
      "\n",
      "\n",
      "sub-control01_task-nonmusic_run-5_bold.nii.gz:  35%|███▍      | 11.7M/33.9M [00:09<00:19, 1.20MB/s]\u001b[A\u001b[A\n",
      "sub-control01_task-music_run-1_bold.nii.gz:  36%|███▌      | 12.1M/33.8M [00:12<00:20, 1.10MB/s]\u001b[A\n",
      "\n",
      "sub-control01_task-music_run-3_bold.nii.gz:  55%|█████▌    | 18.7M/33.9M [00:12<00:09, 1.70MB/s]\u001b[A\u001b[A\n",
      "\n",
      "\n",
      "\n",
      "sub-control01_task-nonmusic_run-4_bold.nii.gz:   9%|▊         | 2.95M/33.9M [00:11<00:56, 571kB/s]\u001b[A\u001b[A\u001b[A\u001b[A\n",
      "\n",
      "\n",
      "sub-control01_task-nonmusic_run-5_bold.nii.gz:  35%|███▌      | 11.9M/33.9M [00:09<00:18, 1.26MB/s]\u001b[A\u001b[A\n",
      "\n",
      "sub-control01_task-music_run-3_bold.nii.gz:  56%|█████▌    | 18.9M/33.9M [00:12<00:08, 1.80MB/s]\u001b[A\u001b[A\n",
      "sub-control01_task-music_run-1_bold.nii.gz:  36%|███▌      | 12.2M/33.8M [00:12<00:18, 1.19MB/s]\u001b[A\n",
      "\n",
      "\n",
      "\n",
      "sub-control01_task-nonmusic_run-4_bold.nii.gz:   9%|▉         | 3.02M/33.9M [00:11<00:56, 572kB/s]\u001b[A\u001b[A\u001b[A\u001b[A\n",
      "\n",
      "\n",
      "sub-control01_task-nonmusic_run-5_bold.nii.gz:  36%|███▌      | 12.1M/33.9M [00:09<00:15, 1.46MB/s]\u001b[A\u001b[A\n",
      "\n",
      "sub-control01_task-music_run-3_bold.nii.gz:  56%|█████▋    | 19.1M/33.9M [00:12<00:08, 1.86MB/s]\u001b[A\u001b[A\n",
      "\n",
      "\n",
      "\n",
      "sub-control01_task-nonmusic_run-4_bold.nii.gz:   9%|▉         | 3.10M/33.9M [00:11<00:50, 639kB/s]\u001b[A\u001b[A\u001b[A\u001b[A\n",
      "sub-control01_task-music_run-1_bold.nii.gz:  37%|███▋      | 12.4M/33.8M [00:12<00:17, 1.29MB/s]\u001b[A\n",
      "\n",
      "\n",
      "sub-control01_task-nonmusic_run-5_bold.nii.gz:  36%|███▌      | 12.3M/33.9M [00:10<00:15, 1.45MB/s]\u001b[A\u001b[A\n",
      "\n",
      "sub-control01_task-music_run-3_bold.nii.gz:  57%|█████▋    | 19.3M/33.9M [00:12<00:08, 1.82MB/s]\u001b[A\u001b[A\n",
      "sub-control01_task-music_run-1_bold.nii.gz:  37%|███▋      | 12.5M/33.8M [00:12<00:18, 1.21MB/s]\u001b[A\n",
      "\n",
      "\n",
      "sub-control01_task-music_run-2_bold.nii.gz:  60%|█████▉    | 20.3M/33.9M [00:12<00:07, 1.86MB/s]\u001b[A\u001b[A\u001b[A\n",
      "\n",
      "\n",
      "\n",
      "sub-control01_task-nonmusic_run-4_bold.nii.gz:   9%|▉         | 3.18M/33.9M [00:11<00:55, 576kB/s]\u001b[A\u001b[A\u001b[A\u001b[A\n",
      "\n",
      "sub-control01_task-nonmusic_run-5_bold.nii.gz:  37%|███▋      | 12.4M/33.9M [00:10<00:16, 1.33MB/s]\u001b[A\n",
      "sub-control01_task-music_run-1_bold.nii.gz:  37%|███▋      | 12.7M/33.8M [00:12<00:18, 1.22MB/s]\u001b[A\n",
      "\n",
      "\n",
      "sub-control01_task-music_run-2_bold.nii.gz:  60%|██████    | 20.5M/33.9M [00:12<00:07, 1.87MB/s]\u001b[A\u001b[A\u001b[A\n",
      "\n",
      "sub-control01_task-music_run-3_bold.nii.gz:  58%|█████▊    | 19.7M/33.9M [00:12<00:08, 1.82MB/s]\u001b[A\u001b[A\n",
      "\n",
      "\n",
      "\n",
      "sub-control01_task-nonmusic_run-5_bold.nii.gz:  37%|███▋      | 12.5M/33.9M [00:10<00:17, 1.27MB/s][A\u001b[A\u001b[A\u001b[A\n",
      "\n",
      "\n",
      "sub-control01_task-music_run-2_bold.nii.gz:  61%|██████    | 20.7M/33.9M [00:12<00:06, 2.02MB/s]\u001b[A\u001b[A\u001b[A\n",
      "sub-control01_task-music_run-1_bold.nii.gz:  38%|███▊      | 12.8M/33.8M [00:13<00:17, 1.23MB/s]\u001b[A\n",
      "\n",
      "sub-control01_task-nonmusic_run-5_bold.nii.gz:  38%|███▊      | 12.7M/33.9M [00:10<00:15, 1.43MB/s]\u001b[A\n",
      "\n",
      "\n",
      "sub-control01_task-music_run-2_bold.nii.gz:  62%|██████▏   | 20.9M/33.9M [00:12<00:06, 2.09MB/s]\u001b[A\u001b[A\u001b[A\n",
      "\n",
      "\n",
      "\n",
      "sub-control01_task-nonmusic_run-4_bold.nii.gz:  10%|▉         | 3.36M/33.9M [00:12<00:52, 605kB/s]\u001b[A\u001b[A\u001b[A\u001b[A\n",
      "sub-control01_task-music_run-1_bold.nii.gz:  38%|███▊      | 13.0M/33.8M [00:13<00:16, 1.32MB/s]\u001b[A\n",
      "\n",
      "sub-control01_task-nonmusic_run-5_bold.nii.gz:  38%|███▊      | 12.9M/33.9M [00:10<00:14, 1.51MB/s]\u001b[A\n",
      "\n",
      "\n",
      "sub-control01_task-music_run-2_bold.nii.gz:  62%|██████▏   | 21.1M/33.9M [00:13<00:06, 2.01MB/s]\u001b[A\u001b[A\u001b[A\n",
      "\n",
      "sub-control01_task-music_run-3_bold.nii.gz:  60%|█████▉    | 20.3M/33.9M [00:13<00:07, 1.98MB/s]\u001b[A\u001b[A\n",
      "sub-control01_task-music_run-1_bold.nii.gz:  39%|███▉      | 13.2M/33.8M [00:13<00:15, 1.38MB/s]\u001b[A\n",
      "\n",
      "\n",
      "\n",
      "sub-control01_task-nonmusic_run-5_bold.nii.gz:  38%|███▊      | 13.0M/33.9M [00:10<00:15, 1.41MB/s][A\u001b[A\u001b[A\u001b[A\n",
      "\n",
      "\n",
      "sub-control01_task-music_run-2_bold.nii.gz:  63%|██████▎   | 21.4M/33.9M [00:13<00:06, 2.06MB/s]\u001b[A\u001b[A\u001b[A\n",
      "sub-control01_task-music_run-1_bold.nii.gz:  39%|███▉      | 13.3M/33.8M [00:13<00:15, 1.36MB/s]\u001b[A\n",
      "\n",
      "sub-control01_task-music_run-3_bold.nii.gz:  61%|██████    | 20.5M/33.9M [00:13<00:07, 1.98MB/s]\u001b[A\u001b[A\n",
      "\n",
      "\n",
      "\n",
      "sub-control01_task-nonmusic_run-5_bold.nii.gz:  39%|███▉      | 13.2M/33.9M [00:10<00:15, 1.39MB/s][A\u001b[A\u001b[A\u001b[A\n",
      "\n",
      "\n",
      "sub-control01_task-music_run-2_bold.nii.gz:  64%|██████▍   | 21.6M/33.9M [00:13<00:05, 2.21MB/s]\u001b[A\u001b[A\u001b[A\n",
      "\n",
      "sub-control01_task-music_run-3_bold.nii.gz:  61%|██████    | 20.7M/33.9M [00:13<00:06, 2.10MB/s]\u001b[A\u001b[A\n",
      "sub-control01_task-music_run-1_bold.nii.gz:  40%|███▉      | 13.4M/33.8M [00:13<00:16, 1.28MB/s]\u001b[A\n",
      "\n",
      "\n",
      "\n",
      "sub-control01_task-nonmusic_run-5_bold.nii.gz:  39%|███▉      | 13.4M/33.9M [00:10<00:14, 1.50MB/s][A\u001b[A\u001b[A\u001b[A\n",
      "\n",
      "\n",
      "sub-control01_task-music_run-2_bold.nii.gz:  65%|██████▍   | 21.9M/33.9M [00:13<00:06, 2.06MB/s]\u001b[A\u001b[A\u001b[A\n",
      "\n",
      "sub-control01_task-music_run-3_bold.nii.gz:  62%|██████▏   | 20.9M/33.9M [00:13<00:06, 2.05MB/s]\u001b[A\u001b[A\n",
      "sub-control01_task-music_run-1_bold.nii.gz:  40%|████      | 13.6M/33.8M [00:13<00:15, 1.39MB/s]\u001b[A\n",
      "\n",
      "\n",
      "\n",
      "sub-control01_task-nonmusic_run-5_bold.nii.gz:  40%|███▉      | 13.5M/33.9M [00:11<00:14, 1.49MB/s][A\u001b[A\u001b[A\u001b[A\n",
      "\n",
      "\n",
      "sub-control01_task-music_run-2_bold.nii.gz:  65%|██████▌   | 22.1M/33.9M [00:13<00:05, 2.10MB/s]\u001b[A\u001b[A\u001b[A\n",
      "sub-control01_task-music_run-1_bold.nii.gz:  41%|████      | 13.8M/33.8M [00:13<00:14, 1.42MB/s]\u001b[A\n",
      "\n",
      "sub-control01_task-music_run-3_bold.nii.gz:  62%|██████▏   | 21.1M/33.9M [00:13<00:06, 1.92MB/s]\u001b[A\u001b[A\n",
      "\n",
      "\n",
      "\n",
      "sub-control01_task-nonmusic_run-5_bold.nii.gz:  40%|████      | 13.7M/33.9M [00:11<00:15, 1.40MB/s][A\u001b[A\u001b[A\u001b[A\n",
      "\n",
      "\n",
      "sub-control01_task-music_run-2_bold.nii.gz:  66%|██████▌   | 22.3M/33.9M [00:13<00:05, 2.12MB/s]\u001b[A\u001b[A\u001b[A\n",
      "sub-control01_task-music_run-1_bold.nii.gz:  41%|████      | 13.9M/33.8M [00:13<00:15, 1.37MB/s]\u001b[A\n",
      "\n",
      "sub-control01_task-nonmusic_run-5_bold.nii.gz:  41%|████      | 13.9M/33.9M [00:11<00:14, 1.46MB/s]\u001b[A\n",
      "\n",
      "\n",
      "\n",
      "sub-control01_task-nonmusic_run-4_bold.nii.gz:  11%|█▏        | 3.85M/33.9M [00:12<00:50, 625kB/s]\u001b[A\u001b[A\u001b[A\u001b[A\n",
      "\n",
      "\n",
      "sub-control01_task-music_run-2_bold.nii.gz:  67%|██████▋   | 22.6M/33.9M [00:13<00:05, 2.16MB/s]\u001b[A\u001b[A\u001b[A\n",
      "sub-control01_task-music_run-1_bold.nii.gz:  41%|████▏     | 14.0M/33.8M [00:13<00:15, 1.34MB/s]\u001b[A\n",
      "\n",
      "sub-control01_task-nonmusic_run-5_bold.nii.gz:  41%|████▏     | 14.1M/33.9M [00:11<00:13, 1.56MB/s]\u001b[A\n",
      "\n",
      "\n",
      "sub-control01_task-music_run-2_bold.nii.gz:  67%|██████▋   | 22.8M/33.9M [00:13<00:05, 2.19MB/s]\u001b[A\u001b[A\u001b[A\n",
      "\n",
      "sub-control01_task-music_run-3_bold.nii.gz:  64%|██████▍   | 21.8M/33.9M [00:14<00:06, 2.04MB/s]\u001b[A\u001b[A\n",
      "sub-control01_task-music_run-1_bold.nii.gz:  42%|████▏     | 14.2M/33.8M [00:14<00:14, 1.38MB/s]\u001b[A\n",
      "\n",
      "\n",
      "\n",
      "sub-control01_task-nonmusic_run-5_bold.nii.gz:  42%|████▏     | 14.2M/33.9M [00:11<00:13, 1.52MB/s][A\u001b[A\u001b[A\u001b[A\n",
      "\n",
      "sub-control01_task-music_run-3_bold.nii.gz:  65%|██████▍   | 22.0M/33.9M [00:14<00:06, 2.05MB/s]\u001b[A\u001b[A\n",
      "\n",
      "\n",
      "sub-control01_task-music_run-2_bold.nii.gz:  68%|██████▊   | 23.0M/33.9M [00:14<00:05, 2.01MB/s]\u001b[A\u001b[A\u001b[A\n",
      "sub-control01_task-music_run-1_bold.nii.gz:  42%|████▏     | 14.4M/33.8M [00:14<00:14, 1.37MB/s]\u001b[A\n",
      "\n",
      "\n",
      "sub-control01_task-music_run-2_bold.nii.gz:  69%|██████▊   | 23.2M/33.9M [00:14<00:05, 2.00MB/s]\u001b[A\u001b[A\u001b[A\n",
      "\n",
      "\n",
      "\n",
      "sub-control01_task-nonmusic_run-4_bold.nii.gz:  12%|█▏        | 4.03M/33.9M [00:13<00:56, 558kB/s]\u001b[A\u001b[A\u001b[A\u001b[A\n",
      "\n",
      "sub-control01_task-nonmusic_run-5_bold.nii.gz:  42%|████▏     | 14.4M/33.9M [00:11<00:15, 1.28MB/s]\u001b[A\n",
      "sub-control01_task-nonmusic_run-5_bold.nii.gz:  43%|████▎     | 14.5M/33.9M [00:11<00:16, 1.20MB/s]\n",
      "\n",
      "\n",
      "\n",
      "sub-control01_task-nonmusic_run-4_bold.nii.gz:  12%|█▏        | 4.09M/33.9M [00:13<01:00, 517kB/s]\u001b[A\u001b[A\u001b[A\u001b[A\n",
      "\n",
      "sub-control01_task-music_run-3_bold.nii.gz:  66%|██████▌   | 22.4M/33.9M [00:14<00:07, 1.52MB/s]\u001b[A\u001b[A\n",
      "\n",
      "\n",
      "sub-control01_task-music_run-2_bold.nii.gz:  69%|██████▉   | 23.4M/33.9M [00:14<00:06, 1.58MB/s]\u001b[A\u001b[A\u001b[A\n",
      "sub-control01_task-music_run-1_bold.nii.gz:  43%|████▎     | 14.6M/33.8M [00:14<00:18, 1.09MB/s]\u001b[A\n",
      "\n",
      "sub-control01_task-nonmusic_run-5_bold.nii.gz:  43%|████▎     | 14.6M/33.9M [00:12<00:21, 942kB/s] \u001b[A\n",
      "\n",
      "\n",
      "sub-control01_task-music_run-2_bold.nii.gz:  70%|██████▉   | 23.6M/33.9M [00:14<00:07, 1.39MB/s]\u001b[A\u001b[A\u001b[A\n",
      "\n",
      "\n",
      "\n",
      "sub-control01_task-nonmusic_run-4_bold.nii.gz:  12%|█▏        | 4.16M/33.9M [00:13<01:11, 437kB/s]\u001b[A\u001b[A\u001b[A\u001b[A\n",
      "sub-control01_task-music_run-1_bold.nii.gz:  44%|████▎     | 14.7M/33.8M [00:14<00:21, 923kB/s] \u001b[A\n",
      "\n",
      "sub-control01_task-nonmusic_run-5_bold.nii.gz:  44%|████▎     | 14.8M/33.9M [00:12<00:19, 1.02MB/s]\u001b[A\n",
      "\n",
      "\n",
      "sub-control01_task-music_run-2_bold.nii.gz:  70%|███████   | 23.8M/33.9M [00:14<00:07, 1.42MB/s]\u001b[A\u001b[A\u001b[A\n",
      "\n",
      "\n",
      "\n",
      "sub-control01_task-nonmusic_run-4_bold.nii.gz:  12%|█▏        | 4.23M/33.9M [00:13<01:08, 456kB/s]\u001b[A\u001b[A\u001b[A\u001b[A\n",
      "sub-control01_task-music_run-1_bold.nii.gz:  44%|████▍     | 14.9M/33.8M [00:14<00:21, 940kB/s]\u001b[A\n",
      "\n",
      "sub-control01_task-nonmusic_run-5_bold.nii.gz:  44%|████▍     | 14.9M/33.9M [00:12<00:16, 1.17MB/s]\u001b[A\n",
      "\n",
      "\n",
      "sub-control01_task-music_run-2_bold.nii.gz:  71%|███████   | 24.0M/33.9M [00:14<00:06, 1.56MB/s]\u001b[A\u001b[A\u001b[A\n",
      "\n",
      "\n",
      "\n",
      "sub-control01_task-nonmusic_run-4_bold.nii.gz:  13%|█▎        | 4.28M/33.9M [00:13<01:06, 467kB/s]\u001b[A\u001b[A\u001b[A\u001b[A\n",
      "sub-control01_task-music_run-1_bold.nii.gz:  44%|████▍     | 15.0M/33.8M [00:14<00:17, 1.10MB/s]\u001b[A\n",
      "\n",
      "sub-control01_task-music_run-3_bold.nii.gz:  68%|██████▊   | 23.1M/33.9M [00:14<00:06, 1.66MB/s]\u001b[A\u001b[A\n",
      "\n",
      "\n",
      "sub-control01_task-nonmusic_run-5_bold.nii.gz:  44%|████▍     | 15.1M/33.9M [00:12<00:17, 1.10MB/s]\u001b[A\u001b[A\n",
      "\n",
      "\n",
      "\n",
      "sub-control01_task-nonmusic_run-4_bold.nii.gz:  13%|█▎        | 4.34M/33.9M [00:13<01:01, 505kB/s]\u001b[A\u001b[A\u001b[A\u001b[A\n",
      "sub-control01_task-music_run-1_bold.nii.gz:  45%|████▍     | 15.1M/33.8M [00:15<00:18, 1.08MB/s]\u001b[A\n",
      "\n",
      "sub-control01_task-music_run-3_bold.nii.gz:  69%|██████▊   | 23.3M/33.9M [00:15<00:06, 1.63MB/s]\u001b[A\u001b[A\n",
      "\n",
      "\n",
      "sub-control01_task-nonmusic_run-5_bold.nii.gz:  45%|████▍     | 15.2M/33.9M [00:12<00:16, 1.18MB/s]\u001b[A\u001b[A\n",
      "sub-control01_task-music_run-1_bold.nii.gz:  45%|████▌     | 15.3M/33.8M [00:15<00:17, 1.08MB/s]\u001b[A\n",
      "\n",
      "\n",
      "\n",
      "sub-control01_task-nonmusic_run-4_bold.nii.gz:  13%|█▎        | 4.43M/33.9M [00:14<00:57, 534kB/s]\u001b[A\u001b[A\u001b[A\u001b[A\n",
      "\n",
      "sub-control01_task-nonmusic_run-5_bold.nii.gz:  45%|████▌     | 15.4M/33.9M [00:12<00:15, 1.27MB/s]\u001b[A\n",
      "\n",
      "\n",
      "sub-control01_task-music_run-2_bold.nii.gz:  73%|███████▎  | 24.6M/33.9M [00:15<00:05, 1.79MB/s]\u001b[A\u001b[A\u001b[A\n",
      "sub-control01_task-music_run-1_bold.nii.gz:  46%|████▌     | 15.4M/33.8M [00:15<00:15, 1.23MB/s]\u001b[A\n",
      "\n",
      "sub-control01_task-music_run-3_bold.nii.gz:  70%|██████▉   | 23.6M/33.9M [00:15<00:06, 1.75MB/s]\u001b[A\u001b[A\n",
      "\n",
      "\n",
      "\n",
      "sub-control01_task-nonmusic_run-4_bold.nii.gz:  13%|█▎        | 4.49M/33.9M [00:14<00:56, 547kB/s]\u001b[A\u001b[A\u001b[A\u001b[A\n",
      "\n",
      "\n",
      "sub-control01_task-nonmusic_run-5_bold.nii.gz:  46%|████▌     | 15.5M/33.9M [00:12<00:15, 1.24MB/s]\u001b[A\u001b[A\n",
      "\n",
      "sub-control01_task-music_run-3_bold.nii.gz:  70%|███████   | 23.8M/33.9M [00:15<00:06, 1.63MB/s]\u001b[A\u001b[A\n",
      "sub-control01_task-nonmusic_run-5_bold.nii.gz:  46%|████▌     | 15.6M/33.9M [00:12<00:15, 1.25MB/s]\n",
      "\n",
      "\n",
      "\n",
      "sub-control01_task-nonmusic_run-4_bold.nii.gz:  13%|█▎        | 4.56M/33.9M [00:14<01:04, 479kB/s]\u001b[A\u001b[A\u001b[A\u001b[A\n",
      "\n",
      "\n",
      "sub-control01_task-music_run-2_bold.nii.gz:  74%|███████▍  | 25.1M/33.9M [00:15<00:05, 1.61MB/s]\u001b[A\u001b[A\u001b[A\n",
      "\n",
      "sub-control01_task-music_run-3_bold.nii.gz:  71%|███████   | 24.0M/33.9M [00:15<00:05, 1.75MB/s]\u001b[A\u001b[A\n",
      "sub-control01_task-nonmusic_run-5_bold.nii.gz:  46%|████▋     | 15.8M/33.9M [00:12<00:16, 1.18MB/s]\n",
      "\n",
      "\n",
      "\n",
      "sub-control01_task-nonmusic_run-4_bold.nii.gz:  14%|█▎        | 4.64M/33.9M [00:14<00:59, 516kB/s]\u001b[A\u001b[A\u001b[A\u001b[A\n",
      "\n",
      "\n",
      "sub-control01_task-music_run-2_bold.nii.gz:  75%|███████▍  | 25.3M/33.9M [00:15<00:05, 1.77MB/s]\u001b[A\u001b[A\u001b[A\n",
      "\n",
      "sub-control01_task-music_run-3_bold.nii.gz:  71%|███████▏  | 24.2M/33.9M [00:15<00:06, 1.68MB/s]\u001b[A\u001b[A\n",
      "sub-control01_task-nonmusic_run-5_bold.nii.gz:  47%|████▋     | 15.9M/33.9M [00:13<00:15, 1.21MB/s]\n",
      "\n",
      "\n",
      "\n",
      "sub-control01_task-nonmusic_run-4_bold.nii.gz:  14%|█▍        | 4.73M/33.9M [00:14<00:53, 566kB/s]\u001b[A\u001b[A\u001b[A\u001b[A\n",
      "\n",
      "\n",
      "sub-control01_task-music_run-2_bold.nii.gz:  75%|███████▌  | 25.5M/33.9M [00:15<00:04, 1.85MB/s]\u001b[A\u001b[A\u001b[A\n",
      "\n",
      "sub-control01_task-nonmusic_run-5_bold.nii.gz:  47%|████▋     | 16.0M/33.9M [00:13<00:14, 1.31MB/s]\u001b[A\n",
      "sub-control01_task-music_run-1_bold.nii.gz:  47%|████▋     | 16.0M/33.8M [00:15<00:16, 1.15MB/s]\u001b[A\n",
      "\n",
      "sub-control01_task-music_run-3_bold.nii.gz:  73%|███████▎  | 24.6M/33.9M [00:15<00:05, 1.81MB/s]\u001b[A\u001b[A\n",
      "\n",
      "\n",
      "\n",
      "sub-control01_task-nonmusic_run-4_bold.nii.gz:  14%|█▍        | 4.79M/33.9M [00:14<00:54, 563kB/s]\u001b[A\u001b[A\u001b[A\u001b[A\n",
      "\n",
      "\n",
      "sub-control01_task-music_run-2_bold.nii.gz:  76%|███████▌  | 25.7M/33.9M [00:15<00:04, 1.73MB/s]\u001b[A\u001b[A\u001b[A\n",
      "sub-control01_task-nonmusic_run-5_bold.nii.gz:  48%|████▊     | 16.2M/33.9M [00:13<00:14, 1.25MB/s]\n",
      "\n",
      "\n",
      "sub-control01_task-music_run-2_bold.nii.gz:  77%|███████▋  | 25.9M/33.9M [00:15<00:04, 1.91MB/s]\u001b[A\u001b[A\u001b[A\n",
      "\n",
      "sub-control01_task-music_run-3_bold.nii.gz:  73%|███████▎  | 24.8M/33.9M [00:16<00:05, 1.69MB/s]\u001b[A\u001b[A\n",
      "\n",
      "\n",
      "\n",
      "sub-control01_task-nonmusic_run-4_bold.nii.gz:  14%|█▍        | 4.86M/33.9M [00:14<00:57, 533kB/s]\u001b[A\u001b[A\u001b[A\u001b[A\n",
      "sub-control01_task-nonmusic_run-5_bold.nii.gz:  48%|████▊     | 16.3M/33.9M [00:13<00:13, 1.32MB/s]\n",
      "\n",
      "\n",
      "sub-control01_task-music_run-2_bold.nii.gz:  77%|███████▋  | 26.1M/33.9M [00:15<00:04, 1.92MB/s]\u001b[A\u001b[A\u001b[A\n",
      "\n",
      "sub-control01_task-nonmusic_run-5_bold.nii.gz:  49%|████▊     | 16.5M/33.9M [00:13<00:14, 1.28MB/s]\u001b[A\n",
      "sub-control01_task-music_run-1_bold.nii.gz:  48%|████▊     | 16.4M/33.8M [00:16<00:15, 1.16MB/s]\u001b[A\n",
      "\n",
      "\n",
      "\n",
      "sub-control01_task-nonmusic_run-4_bold.nii.gz:  15%|█▍        | 4.96M/33.9M [00:15<00:51, 583kB/s]\u001b[A\u001b[A\u001b[A\u001b[A\n",
      "\n",
      "sub-control01_task-music_run-3_bold.nii.gz:  74%|███████▍  | 25.2M/33.9M [00:16<00:05, 1.78MB/s]\u001b[A\u001b[A\n",
      "\n",
      "\n",
      "sub-control01_task-nonmusic_run-5_bold.nii.gz:  49%|████▉     | 16.6M/33.9M [00:13<00:14, 1.25MB/s]\u001b[A\u001b[A\n",
      "sub-control01_task-music_run-1_bold.nii.gz:  49%|████▉     | 16.5M/33.8M [00:16<00:15, 1.14MB/s]\u001b[A\n",
      "\n",
      "\n",
      "\n",
      "sub-control01_task-nonmusic_run-4_bold.nii.gz:  15%|█▍        | 5.02M/33.9M [00:15<00:52, 580kB/s]\u001b[A\u001b[A\u001b[A\u001b[A\n",
      "\n",
      "sub-control01_task-music_run-3_bold.nii.gz:  75%|███████▍  | 25.3M/33.9M [00:16<00:05, 1.76MB/s]\u001b[A\u001b[A\n",
      "\n",
      "\n",
      "sub-control01_task-nonmusic_run-5_bold.nii.gz:  49%|████▉     | 16.7M/33.9M [00:13<00:13, 1.36MB/s]\u001b[A\u001b[A\n",
      "sub-control01_task-music_run-1_bold.nii.gz:  49%|████▉     | 16.7M/33.8M [00:16<00:14, 1.28MB/s]\u001b[A\n",
      "\n",
      "\n",
      "\n",
      "sub-control01_task-nonmusic_run-4_bold.nii.gz:  15%|█▌        | 5.09M/33.9M [00:15<00:51, 588kB/s]\u001b[A\u001b[A\u001b[A\u001b[A\n",
      "\n",
      "sub-control01_task-music_run-3_bold.nii.gz:  76%|███████▌  | 25.6M/33.9M [00:16<00:04, 1.87MB/s]\u001b[A\u001b[A\n",
      "\n",
      "\n",
      "sub-control01_task-nonmusic_run-5_bold.nii.gz:  50%|████▉     | 16.9M/33.9M [00:13<00:13, 1.29MB/s]\u001b[A\u001b[A\n",
      "sub-control01_task-music_run-1_bold.nii.gz:  50%|████▉     | 16.8M/33.8M [00:16<00:14, 1.24MB/s]\u001b[A\n",
      "\n",
      "\n",
      "\n",
      "sub-control01_task-nonmusic_run-4_bold.nii.gz:  15%|█▌        | 5.17M/33.9M [00:15<00:47, 630kB/s]\u001b[A\u001b[A\u001b[A\u001b[A\n",
      "\n",
      "sub-control01_task-music_run-3_bold.nii.gz:  76%|███████▌  | 25.7M/33.9M [00:16<00:04, 1.81MB/s]\u001b[A\u001b[A\n",
      "\n",
      "\n",
      "sub-control01_task-nonmusic_run-5_bold.nii.gz:  50%|█████     | 17.0M/33.9M [00:13<00:12, 1.42MB/s]\u001b[A\u001b[A\n",
      "sub-control01_task-music_run-1_bold.nii.gz:  50%|█████     | 16.9M/33.8M [00:16<00:14, 1.24MB/s]\u001b[A\n",
      "\n",
      "sub-control01_task-music_run-3_bold.nii.gz:  77%|███████▋  | 26.0M/33.9M [00:16<00:04, 1.97MB/s]\u001b[A\u001b[A\n",
      "\n",
      "\n",
      "\n",
      "sub-control01_task-nonmusic_run-5_bold.nii.gz:  51%|█████     | 17.2M/33.9M [00:14<00:13, 1.32MB/s][A\u001b[A\u001b[A\u001b[A\n",
      "\n",
      "\n",
      "sub-control01_task-music_run-2_bold.nii.gz:  81%|████████  | 27.3M/33.9M [00:16<00:03, 1.85MB/s]\u001b[A\u001b[A\u001b[A\n",
      "sub-control01_task-music_run-1_bold.nii.gz:  50%|█████     | 17.1M/33.8M [00:16<00:14, 1.24MB/s]\u001b[A\n",
      "\n",
      "\n",
      "\n",
      "sub-control01_task-nonmusic_run-4_bold.nii.gz:  16%|█▌        | 5.34M/33.9M [00:15<00:45, 657kB/s]\u001b[A\u001b[A\u001b[A\u001b[A\n",
      "\n",
      "sub-control01_task-nonmusic_run-5_bold.nii.gz:  51%|█████     | 17.3M/33.9M [00:14<00:13, 1.31MB/s]\u001b[A\n",
      "\n",
      "\n",
      "sub-control01_task-music_run-2_bold.nii.gz:  81%|████████  | 27.5M/33.9M [00:16<00:03, 1.99MB/s]\u001b[A\u001b[A\u001b[A\n",
      "sub-control01_task-music_run-1_bold.nii.gz:  51%|█████     | 17.2M/33.8M [00:16<00:14, 1.19MB/s]\u001b[A\n",
      "\n",
      "sub-control01_task-music_run-3_bold.nii.gz:  78%|███████▊  | 26.4M/33.9M [00:16<00:04, 1.76MB/s]\u001b[A\u001b[A\n",
      "\n",
      "\n",
      "\n",
      "sub-control01_task-nonmusic_run-5_bold.nii.gz:  52%|█████▏    | 17.5M/33.9M [00:14<00:12, 1.37MB/s][A\u001b[A\u001b[A\u001b[A\n",
      "\n",
      "\n",
      "sub-control01_task-music_run-2_bold.nii.gz:  82%|████████▏ | 27.7M/33.9M [00:16<00:03, 1.94MB/s]\u001b[A\u001b[A\u001b[A\n",
      "sub-control01_task-music_run-1_bold.nii.gz:  51%|█████     | 17.3M/33.8M [00:16<00:14, 1.23MB/s]\u001b[A\n",
      "\n",
      "sub-control01_task-music_run-3_bold.nii.gz:  79%|███████▊  | 26.6M/33.9M [00:17<00:04, 1.90MB/s]\u001b[A\u001b[A\n",
      "\n",
      "\n",
      "\n",
      "sub-control01_task-nonmusic_run-5_bold.nii.gz:  52%|█████▏    | 17.6M/33.9M [00:14<00:11, 1.44MB/s][A\u001b[A\u001b[A\u001b[A\n",
      "\n",
      "\n",
      "sub-control01_task-music_run-2_bold.nii.gz:  83%|████████▎ | 27.9M/33.9M [00:16<00:03, 2.01MB/s]\u001b[A\u001b[A\u001b[A\n",
      "sub-control01_task-music_run-1_bold.nii.gz:  52%|█████▏    | 17.5M/33.8M [00:17<00:12, 1.36MB/s]\u001b[A\n",
      "\n",
      "sub-control01_task-music_run-3_bold.nii.gz:  79%|███████▉  | 26.8M/33.9M [00:17<00:03, 2.02MB/s]\u001b[A\u001b[A\n",
      "\n",
      "\n",
      "\n",
      "sub-control01_task-nonmusic_run-5_bold.nii.gz:  53%|█████▎    | 17.8M/33.9M [00:14<00:11, 1.46MB/s][A\u001b[A\u001b[A\u001b[A\n",
      "\n",
      "\n",
      "sub-control01_task-music_run-2_bold.nii.gz:  83%|████████▎ | 28.2M/33.9M [00:17<00:02, 2.18MB/s]\u001b[A\u001b[A\u001b[A\n",
      "sub-control01_task-music_run-1_bold.nii.gz:  52%|█████▏    | 17.7M/33.8M [00:17<00:12, 1.35MB/s]\u001b[A\n",
      "\n",
      "sub-control01_task-nonmusic_run-5_bold.nii.gz:  53%|█████▎    | 17.9M/33.9M [00:14<00:11, 1.48MB/s]\u001b[A\n",
      "\n",
      "\n",
      "sub-control01_task-music_run-2_bold.nii.gz:  84%|████████▍ | 28.4M/33.9M [00:17<00:02, 2.15MB/s]\u001b[A\u001b[A\u001b[A\n",
      "\n",
      "\n",
      "\n",
      "sub-control01_task-nonmusic_run-4_bold.nii.gz:  17%|█▋        | 5.71M/33.9M [00:16<00:39, 743kB/s]\u001b[A\u001b[A\u001b[A\u001b[A\n",
      "sub-control01_task-music_run-1_bold.nii.gz:  53%|█████▎    | 17.8M/33.8M [00:17<00:12, 1.31MB/s]\u001b[A\n",
      "\n",
      "sub-control01_task-nonmusic_run-5_bold.nii.gz:  53%|█████▎    | 18.1M/33.9M [00:14<00:11, 1.48MB/s]\u001b[A\n",
      "\n",
      "\n",
      "\n",
      "sub-control01_task-nonmusic_run-4_bold.nii.gz:  17%|█▋        | 5.80M/33.9M [00:16<00:36, 805kB/s]\u001b[A\u001b[A\u001b[A\u001b[A\n",
      "sub-control01_task-music_run-1_bold.nii.gz:  53%|█████▎    | 18.0M/33.8M [00:17<00:11, 1.39MB/s]\u001b[A\n",
      "\n",
      "\n",
      "sub-control01_task-nonmusic_run-5_bold.nii.gz:  54%|█████▍    | 18.3M/33.9M [00:14<00:10, 1.54MB/s]\u001b[A\u001b[A\n",
      "\n",
      "sub-control01_task-music_run-3_bold.nii.gz:  81%|████████▏ | 27.5M/33.9M [00:17<00:03, 2.03MB/s]\u001b[A\u001b[A\n",
      "sub-control01_task-music_run-1_bold.nii.gz:  54%|█████▎    | 18.1M/33.8M [00:17<00:11, 1.49MB/s]\u001b[A\n",
      "\n",
      "\n",
      "sub-control01_task-music_run-2_bold.nii.gz:  85%|████████▌ | 28.9M/33.9M [00:17<00:02, 2.21MB/s]\u001b[A\u001b[A\u001b[A\n",
      "\n",
      "\n",
      "\n",
      "sub-control01_task-nonmusic_run-4_bold.nii.gz:  17%|█▋        | 5.89M/33.9M [00:16<00:45, 642kB/s]\u001b[A\u001b[A\u001b[A\u001b[A\n",
      "\n",
      "sub-control01_task-nonmusic_run-5_bold.nii.gz:  54%|█████▍    | 18.4M/33.9M [00:15<00:13, 1.20MB/s]\u001b[A\n",
      "\n",
      "\n",
      "sub-control01_task-nonmusic_run-5_bold.nii.gz:  55%|█████▍    | 18.5M/33.9M [00:15<00:16, 954kB/s] \u001b[A\u001b[A\n",
      "sub-control01_task-music_run-1_bold.nii.gz:  54%|█████▍    | 18.3M/33.8M [00:17<00:19, 839kB/s] \u001b[A\n",
      "\n",
      "sub-control01_task-music_run-3_bold.nii.gz:  82%|████████▏ | 27.9M/33.9M [00:17<00:04, 1.26MB/s]\u001b[A\u001b[A\n",
      "\n",
      "\n",
      "\n",
      "sub-control01_task-nonmusic_run-4_bold.nii.gz:  18%|█▊        | 5.99M/33.9M [00:16<00:57, 506kB/s]\u001b[A\u001b[A\u001b[A\u001b[A\n",
      "\n",
      "\n",
      "sub-control01_task-music_run-2_bold.nii.gz:  87%|████████▋ | 29.3M/33.9M [00:17<00:03, 1.41MB/s]\u001b[A\u001b[A\u001b[A\n",
      "sub-control01_task-nonmusic_run-5_bold.nii.gz:  56%|█████▌    | 18.8M/33.9M [00:15<00:11, 1.35MB/s]\n",
      "\n",
      "sub-control01_task-music_run-3_bold.nii.gz:  84%|████████▎ | 28.3M/33.9M [00:18<00:03, 1.82MB/s]\u001b[A\u001b[A\n",
      "\n",
      "\n",
      "sub-control01_task-music_run-2_bold.nii.gz:  88%|████████▊ | 29.6M/33.9M [00:17<00:02, 1.81MB/s]\u001b[A\u001b[A\u001b[A\n",
      "\n",
      "\n",
      "\n",
      "sub-control01_task-nonmusic_run-5_bold.nii.gz:  56%|█████▌    | 19.0M/33.9M [00:15<00:12, 1.22MB/s][A\u001b[A\u001b[A\u001b[A\n",
      "sub-control01_task-music_run-1_bold.nii.gz:  55%|█████▌    | 18.7M/33.8M [00:18<00:14, 1.12MB/s]\u001b[A\n",
      "\n",
      "sub-control01_task-music_run-3_bold.nii.gz:  84%|████████▍ | 28.6M/33.9M [00:18<00:03, 1.71MB/s]\u001b[A\u001b[A\n",
      "\n",
      "\n",
      "sub-control01_task-music_run-2_bold.nii.gz:  88%|████████▊ | 29.8M/33.9M [00:18<00:02, 1.65MB/s]\u001b[A\u001b[A\u001b[A\n",
      "\n",
      "\n",
      "\n",
      "sub-control01_task-nonmusic_run-5_bold.nii.gz:  56%|█████▋    | 19.1M/33.9M [00:15<00:12, 1.26MB/s][A\u001b[A\u001b[A\u001b[A\n",
      "\n",
      "sub-control01_task-music_run-3_bold.nii.gz:  85%|████████▍ | 28.8M/33.9M [00:18<00:03, 1.76MB/s]\u001b[A\u001b[A\n",
      "sub-control01_task-music_run-1_bold.nii.gz:  56%|█████▌    | 18.8M/33.8M [00:18<00:16, 954kB/s] \u001b[A\n",
      "\n",
      "\n",
      "sub-control01_task-music_run-2_bold.nii.gz:  89%|████████▊ | 30.1M/33.9M [00:18<00:02, 1.38MB/s]\u001b[A\u001b[A\u001b[A\n",
      "\n",
      "\n",
      "\n",
      "sub-control01_task-nonmusic_run-5_bold.nii.gz:  57%|█████▋    | 19.3M/33.9M [00:15<00:14, 1.08MB/s][A\u001b[A\u001b[A\u001b[A\n",
      "sub-control01_task-music_run-1_bold.nii.gz:  56%|█████▌    | 19.0M/33.8M [00:18<00:15, 1.00MB/s]\u001b[A\n",
      "\n",
      "sub-control01_task-music_run-3_bold.nii.gz:  86%|████████▌ | 29.0M/33.9M [00:18<00:03, 1.44MB/s]\u001b[A\u001b[A\n",
      "\n",
      "\n",
      "sub-control01_task-music_run-2_bold.nii.gz:  89%|████████▉ | 30.2M/33.9M [00:18<00:02, 1.42MB/s]\u001b[A\u001b[A\u001b[A\n",
      "\n",
      "\n",
      "\n",
      "sub-control01_task-nonmusic_run-5_bold.nii.gz:  57%|█████▋    | 19.4M/33.9M [00:15<00:13, 1.12MB/s][A\u001b[A\u001b[A\u001b[A\n",
      "sub-control01_task-music_run-1_bold.nii.gz:  56%|█████▋    | 19.1M/33.8M [00:18<00:14, 1.08MB/s]\u001b[A\n",
      "\n",
      "sub-control01_task-music_run-3_bold.nii.gz:  86%|████████▌ | 29.1M/33.9M [00:18<00:03, 1.44MB/s]\u001b[A\u001b[A\n",
      "\n",
      "\n",
      "sub-control01_task-music_run-2_bold.nii.gz:  90%|████████▉ | 30.4M/33.9M [00:18<00:02, 1.56MB/s]\u001b[A\u001b[A\u001b[A\n",
      "\n",
      "\n",
      "\n",
      "sub-control01_task-nonmusic_run-5_bold.nii.gz:  58%|█████▊    | 19.5M/33.9M [00:16<00:13, 1.09MB/s][A\u001b[A\u001b[A\u001b[A\n",
      "sub-control01_task-music_run-1_bold.nii.gz:  57%|█████▋    | 19.2M/33.8M [00:18<00:13, 1.12MB/s]\u001b[A\n",
      "\n",
      "sub-control01_task-music_run-3_bold.nii.gz:  86%|████████▋ | 29.3M/33.9M [00:18<00:03, 1.47MB/s]\u001b[A\u001b[A\n",
      "\n",
      "\n",
      "sub-control01_task-music_run-2_bold.nii.gz:  90%|█████████ | 30.6M/33.9M [00:18<00:02, 1.62MB/s]\u001b[A\u001b[A\u001b[A\n",
      "\n",
      "\n",
      "\n",
      "sub-control01_task-nonmusic_run-5_bold.nii.gz:  58%|█████▊    | 19.7M/33.9M [00:16<00:12, 1.18MB/s][A\u001b[A\u001b[A\u001b[A\n",
      "\n",
      "\n",
      "sub-control01_task-music_run-2_bold.nii.gz:  91%|█████████ | 30.8M/33.9M [00:18<00:01, 1.69MB/s]\u001b[A\u001b[A\u001b[A\n",
      "sub-control01_task-music_run-1_bold.nii.gz:  57%|█████▋    | 19.4M/33.8M [00:18<00:13, 1.10MB/s]\u001b[A\n",
      "\n",
      "\n",
      "\n",
      "sub-control01_task-nonmusic_run-4_bold.nii.gz:  20%|█▉        | 6.70M/33.9M [00:17<00:40, 705kB/s]\u001b[A\u001b[A\u001b[A\u001b[A\n",
      "\n",
      "sub-control01_task-nonmusic_run-5_bold.nii.gz:  58%|█████▊    | 19.8M/33.9M [00:16<00:11, 1.26MB/s]\u001b[A\n",
      "\n",
      "\n",
      "sub-control01_task-music_run-2_bold.nii.gz:  91%|█████████▏| 31.0M/33.9M [00:18<00:01, 1.64MB/s]\u001b[A\u001b[A\u001b[A\n",
      "\n",
      "\n",
      "\n",
      "sub-control01_task-nonmusic_run-4_bold.nii.gz:  20%|██        | 6.78M/33.9M [00:17<00:39, 727kB/s]\u001b[A\u001b[A\u001b[A\u001b[A\n",
      "sub-control01_task-music_run-1_bold.nii.gz:  58%|█████▊    | 19.5M/33.8M [00:19<00:13, 1.08MB/s]\u001b[A\n",
      "\n",
      "sub-control01_task-nonmusic_run-5_bold.nii.gz:  59%|█████▉    | 20.0M/33.9M [00:16<00:11, 1.25MB/s]\u001b[A\n",
      "\n",
      "\n",
      "sub-control01_task-music_run-2_bold.nii.gz:  92%|█████████▏| 31.2M/33.9M [00:18<00:01, 1.73MB/s]\u001b[A\u001b[A\u001b[A\n",
      "sub-control01_task-music_run-1_bold.nii.gz:  58%|█████▊    | 19.7M/33.8M [00:19<00:12, 1.17MB/s]\u001b[A\n",
      "\n",
      "\n",
      "\n",
      "sub-control01_task-nonmusic_run-4_bold.nii.gz:  20%|██        | 6.87M/33.9M [00:18<00:39, 725kB/s]\u001b[A\u001b[A\u001b[A\u001b[A\n",
      "\n",
      "sub-control01_task-music_run-3_bold.nii.gz:  89%|████████▊ | 30.0M/33.9M [00:19<00:02, 1.75MB/s]\u001b[A\u001b[A\n",
      "\n",
      "\n",
      "sub-control01_task-nonmusic_run-5_bold.nii.gz:  59%|█████▉    | 20.1M/33.9M [00:16<00:14, 1.02MB/s]\u001b[A\u001b[A\n",
      "sub-control01_task-music_run-1_bold.nii.gz:  58%|█████▊    | 19.8M/33.8M [00:19<00:13, 1.06MB/s]\u001b[A\n",
      "\n",
      "\n",
      "\n",
      "sub-control01_task-nonmusic_run-4_bold.nii.gz:  21%|██        | 6.95M/33.9M [00:18<00:43, 648kB/s]\u001b[A\u001b[A\u001b[A\u001b[A\n",
      "\n",
      "sub-control01_task-nonmusic_run-5_bold.nii.gz:  60%|█████▉    | 20.3M/33.9M [00:16<00:12, 1.17MB/s]\u001b[A\n",
      "\n",
      "\n",
      "sub-control01_task-music_run-2_bold.nii.gz:  93%|█████████▎| 31.5M/33.9M [00:19<00:01, 1.57MB/s]\u001b[A\u001b[A\u001b[A\n",
      "\n",
      "\n",
      "\n",
      "sub-control01_task-nonmusic_run-4_bold.nii.gz:  21%|██        | 7.02M/33.9M [00:18<00:43, 651kB/s]\u001b[A\u001b[A\u001b[A\u001b[A\n",
      "sub-control01_task-music_run-1_bold.nii.gz:  59%|█████▉    | 19.9M/33.8M [00:19<00:13, 1.05MB/s]\u001b[A\n",
      "\n",
      "\n",
      "sub-control01_task-music_run-2_bold.nii.gz:  94%|█████████▎| 31.7M/33.9M [00:19<00:01, 1.57MB/s]\u001b[A\u001b[A\u001b[A\n",
      "\n",
      "sub-control01_task-nonmusic_run-5_bold.nii.gz:  60%|██████    | 20.4M/33.9M [00:16<00:12, 1.15MB/s]\u001b[A\n",
      "\n",
      "\n",
      "\n",
      "sub-control01_task-nonmusic_run-4_bold.nii.gz:  21%|██        | 7.08M/33.9M [00:18<00:44, 635kB/s]\u001b[A\u001b[A\u001b[A\u001b[A\n",
      "sub-control01_task-music_run-1_bold.nii.gz:  59%|█████▉    | 20.0M/33.8M [00:19<00:13, 1.08MB/s]\u001b[A\n",
      "\n",
      "\n",
      "sub-control01_task-nonmusic_run-5_bold.nii.gz:  61%|██████    | 20.5M/33.9M [00:16<00:11, 1.19MB/s]\u001b[A\u001b[A\n",
      "\n",
      "sub-control01_task-music_run-3_bold.nii.gz:  90%|█████████ | 30.6M/33.9M [00:19<00:02, 1.56MB/s]\u001b[A\u001b[A\n",
      "sub-control01_task-music_run-1_bold.nii.gz:  60%|█████▉    | 20.2M/33.8M [00:19<00:12, 1.19MB/s]\u001b[A\n",
      "\n",
      "\n",
      "\n",
      "sub-control01_task-nonmusic_run-4_bold.nii.gz:  21%|██        | 7.18M/33.9M [00:18<00:38, 718kB/s]\u001b[A\u001b[A\u001b[A\u001b[A\n",
      "\n",
      "\n",
      "sub-control01_task-nonmusic_run-5_bold.nii.gz:  61%|██████    | 20.7M/33.9M [00:17<00:10, 1.28MB/s]\u001b[A\u001b[A\n",
      "sub-control01_task-music_run-1_bold.nii.gz:  60%|██████    | 20.3M/33.8M [00:19<00:11, 1.19MB/s]\u001b[A\n",
      "\n",
      "sub-control01_task-music_run-3_bold.nii.gz:  91%|█████████ | 30.9M/33.9M [00:19<00:01, 1.74MB/s]\u001b[A\u001b[A\n",
      "\n",
      "\n",
      "\n",
      "sub-control01_task-nonmusic_run-5_bold.nii.gz:  61%|██████▏   | 20.8M/33.9M [00:17<00:12, 1.13MB/s][A\u001b[A\u001b[A\u001b[A\n",
      "\n",
      "\n",
      "sub-control01_task-music_run-2_bold.nii.gz:  95%|█████████▌| 32.3M/33.9M [00:19<00:01, 1.49MB/s]\u001b[A\u001b[A\u001b[A\n",
      "sub-control01_task-music_run-1_bold.nii.gz:  60%|██████    | 20.4M/33.8M [00:19<00:13, 1.01MB/s]\u001b[A\n",
      "\n",
      "sub-control01_task-music_run-3_bold.nii.gz:  92%|█████████▏| 31.1M/33.9M [00:19<00:01, 1.52MB/s]\u001b[A\u001b[A\n",
      "\n",
      "\n",
      "\n",
      "sub-control01_task-nonmusic_run-5_bold.nii.gz:  62%|██████▏   | 21.0M/33.9M [00:17<00:11, 1.19MB/s][A\u001b[A\u001b[A\u001b[A\n",
      "sub-control01_task-music_run-1_bold.nii.gz:  61%|██████    | 20.6M/33.8M [00:20<00:12, 1.15MB/s]\u001b[A\n",
      "\n",
      "\n",
      "sub-control01_task-music_run-2_bold.nii.gz:  96%|█████████▌| 32.6M/33.9M [00:19<00:00, 1.70MB/s]\u001b[A\u001b[A\u001b[A\n",
      "\n",
      "sub-control01_task-nonmusic_run-5_bold.nii.gz:  62%|██████▏   | 21.1M/33.9M [00:17<00:10, 1.27MB/s]\u001b[A\n",
      "\n",
      "\n",
      "\n",
      "sub-control01_task-nonmusic_run-4_bold.nii.gz:  22%|██▏       | 7.50M/33.9M [00:18<00:37, 731kB/s]\u001b[A\u001b[A\u001b[A\u001b[A\n",
      "sub-control01_task-music_run-1_bold.nii.gz:  61%|██████    | 20.7M/33.8M [00:20<00:11, 1.16MB/s]\u001b[A\n",
      "\n",
      "\n",
      "sub-control01_task-music_run-2_bold.nii.gz:  97%|█████████▋| 32.8M/33.9M [00:19<00:00, 1.79MB/s]\u001b[A\u001b[A\u001b[A\n",
      "\n",
      "sub-control01_task-music_run-3_bold.nii.gz:  93%|█████████▎| 31.5M/33.9M [00:20<00:01, 1.68MB/s]\u001b[A\u001b[A\n",
      "\n",
      "\n",
      "\n",
      "sub-control01_task-nonmusic_run-5_bold.nii.gz:  63%|██████▎   | 21.3M/33.9M [00:17<00:09, 1.37MB/s][A\u001b[A\u001b[A\u001b[A\n",
      "sub-control01_task-music_run-1_bold.nii.gz:  62%|██████▏   | 20.9M/33.8M [00:20<00:10, 1.26MB/s]\u001b[A\n",
      "\n",
      "\n",
      "sub-control01_task-music_run-2_bold.nii.gz:  98%|█████████▊| 33.0M/33.9M [00:20<00:00, 1.89MB/s]\u001b[A\u001b[A\u001b[A\n",
      "\n",
      "sub-control01_task-music_run-3_bold.nii.gz:  94%|█████████▎| 31.7M/33.9M [00:20<00:01, 1.81MB/s]\u001b[A\u001b[A\n",
      "\n",
      "\n",
      "\n",
      "sub-control01_task-nonmusic_run-5_bold.nii.gz:  63%|██████▎   | 21.5M/33.9M [00:17<00:09, 1.44MB/s][A\u001b[A\u001b[A\u001b[A\n",
      "sub-control01_task-music_run-1_bold.nii.gz:  62%|██████▏   | 21.0M/33.8M [00:20<00:10, 1.33MB/s]\u001b[A\n",
      "\n",
      "\n",
      "sub-control01_task-music_run-2_bold.nii.gz:  98%|█████████▊| 33.3M/33.9M [00:20<00:00, 1.96MB/s]\u001b[A\u001b[A\u001b[A\n",
      "\n",
      "sub-control01_task-music_run-3_bold.nii.gz:  94%|█████████▍| 32.0M/33.9M [00:20<00:01, 1.87MB/s]\u001b[A\u001b[A\n",
      "sub-control01_task-nonmusic_run-5_bold.nii.gz:  64%|██████▍   | 21.6M/33.9M [00:17<00:09, 1.37MB/s]\n",
      "\n",
      "\n",
      "\n",
      "sub-control01_task-nonmusic_run-4_bold.nii.gz:  23%|██▎       | 7.80M/33.9M [00:19<00:34, 800kB/s]\u001b[A\u001b[A\u001b[A\u001b[A\n",
      "\n",
      "\n",
      "sub-control01_task-music_run-2_bold.nii.gz:  99%|█████████▉| 33.5M/33.9M [00:20<00:00, 1.87MB/s]\u001b[A\u001b[A\u001b[A\n",
      "\n",
      "sub-control01_task-music_run-3_bold.nii.gz:  95%|█████████▍| 32.1M/33.9M [00:20<00:00, 1.83MB/s]\u001b[A\u001b[A\n",
      "sub-control01_task-nonmusic_run-5_bold.nii.gz:  64%|██████▍   | 21.8M/33.9M [00:17<00:09, 1.35MB/s]\n",
      "\n",
      "\n",
      "\n",
      "sub-control01_task-nonmusic_run-4_bold.nii.gz:  23%|██▎       | 7.90M/33.9M [00:19<00:33, 809kB/s]\u001b[A\u001b[A\u001b[A\u001b[A\n",
      "\n",
      "\n",
      "sub-control01_task-music_run-2_bold.nii.gz:  99%|█████████▉| 33.7M/33.9M [00:20<00:00, 1.96MB/s]\u001b[A\u001b[A\u001b[A\n",
      "\n",
      "sub-control01_task-music_run-3_bold.nii.gz:  96%|█████████▌| 32.3M/33.9M [00:20<00:00, 1.86MB/s]\u001b[A\u001b[A\n",
      "sub-control01_task-music_run-1_bold.nii.gz:  63%|██████▎   | 21.4M/33.8M [00:20<00:09, 1.36MB/s]\u001b[A\n",
      "\n",
      "\n",
      "sub-control01_task-nonmusic_run-5_bold.nii.gz:  65%|██████▍   | 22.0M/33.9M [00:18<00:08, 1.48MB/s]\u001b[A\u001b[A\n",
      "\n",
      "\n",
      "\n",
      "sub-control01_task-nonmusic_run-4_bold.nii.gz:  24%|██▎       | 8.00M/33.9M [00:19<00:31, 866kB/s]\u001b[A\u001b[A\u001b[A\u001b[A\n",
      "\n",
      "sub-control01_task-music_run-3_bold.nii.gz:  96%|█████████▋| 32.6M/33.9M [00:20<00:00, 2.11MB/s]\u001b[A\u001b[A\n",
      "sub-control01_task-music_run-1_bold.nii.gz:  64%|██████▎   | 21.6M/33.8M [00:20<00:11, 1.16MB/s]\u001b[A\n",
      "\n",
      "\n",
      "\n",
      "sub-control01_task-nonmusic_run-5_bold.nii.gz:  65%|██████▌   | 22.1M/33.9M [00:18<00:09, 1.28MB/s][A\u001b[A\u001b[A\u001b[A\n",
      "\n",
      "sub-control01_task-music_run-3_bold.nii.gz:  97%|█████████▋| 32.8M/33.9M [00:20<00:00, 1.81MB/s]\u001b[A\u001b[A\n",
      "sub-control01_task-music_run-1_bold.nii.gz:  64%|██████▍   | 21.7M/33.8M [00:20<00:09, 1.30MB/s]\u001b[A\n",
      "\n",
      "\n",
      "\n",
      "sub-control01_task-nonmusic_run-5_bold.nii.gz:  66%|██████▌   | 22.3M/33.9M [00:18<00:08, 1.43MB/s][A\u001b[A\u001b[A\u001b[A\n",
      "\n",
      "sub-control01_task-music_run-3_bold.nii.gz:  98%|█████████▊| 33.1M/33.9M [00:21<00:00, 1.95MB/s]\u001b[A\u001b[A\n",
      "sub-control01_task-music_run-1_bold.nii.gz:  65%|██████▍   | 21.9M/33.8M [00:21<00:08, 1.49MB/s]\u001b[A\n",
      "\n",
      "\n",
      "\n",
      "sub-control01_task-nonmusic_run-5_bold.nii.gz:  66%|██████▋   | 22.5M/33.9M [00:18<00:07, 1.51MB/s][A\u001b[A\u001b[A\u001b[A\n",
      "\n",
      "sub-control01_task-music_run-3_bold.nii.gz:  98%|█████████▊| 33.4M/33.9M [00:21<00:00, 2.14MB/s]\u001b[A\u001b[A\n",
      "sub-control01_task-music_run-1_bold.nii.gz:  65%|██████▌   | 22.1M/33.8M [00:21<00:07, 1.56MB/s]\u001b[A\n",
      "\n",
      "\n",
      "\n",
      "sub-control01_task-nonmusic_run-5_bold.nii.gz:  67%|██████▋   | 22.7M/33.9M [00:18<00:06, 1.69MB/s][A\u001b[A\u001b[A\u001b[A\n",
      "\n",
      "sub-control01_task-music_run-3_bold.nii.gz:  99%|█████████▉| 33.6M/33.9M [00:21<00:00, 2.16MB/s]\u001b[A\u001b[A\n",
      "sub-control01_task-music_run-1_bold.nii.gz:  66%|██████▌   | 22.3M/33.8M [00:21<00:07, 1.53MB/s]\u001b[A\n",
      "\n",
      "\n",
      "\n",
      "sub-control01_task-nonmusic_run-5_bold.nii.gz:  68%|██████▊   | 22.9M/33.9M [00:18<00:06, 1.74MB/s]\u001b[A\u001b[A\u001b[A\u001b[A\n",
      "\n",
      "\n",
      "sub-control01_task-nonmusic_run-5_events.tsv:   0%|          | 0.00/351 [00:00<?, ?B/s]\u001b[A\u001b[A\u001b[A\n",
      "\n",
      "\n",
      "                                                                                       \u001b[A\u001b[A\u001b[A\n",
      "\n",
      "sub-control01_task-music_run-3_bold.nii.gz: 100%|██████████| 33.9M/33.9M [00:21<00:00, 2.37MB/s]\u001b[A\u001b[A\n",
      "\n",
      "                                                                                                \u001b[A\u001b[A\n",
      "sub-control01_task-nonmusic_run-5_bold.nii.gz:  68%|██████▊   | 23.1M/33.9M [00:18<00:05, 1.91MB/s]\n",
      "\n",
      "\n",
      "\n",
      "sub-control01_task-nonmusic_run-4_bold.nii.gz:  26%|██▌       | 8.66M/33.9M [00:20<00:24, 1.10MB/s]\u001b[A\u001b[A\u001b[A\u001b[A\n",
      "sub-control01_task-nonmusic_run-5_bold.nii.gz:  69%|██████▉   | 23.3M/33.9M [00:18<00:06, 1.72MB/s]\n",
      "\n",
      "\n",
      "\n",
      "sub-control01_task-nonmusic_run-4_bold.nii.gz:  26%|██▌       | 8.78M/33.9M [00:20<00:27, 950kB/s] \u001b[A\u001b[A\u001b[A\u001b[A\n",
      "sub-control01_task-nonmusic_run-5_bold.nii.gz:  69%|██████▉   | 23.5M/33.9M [00:18<00:06, 1.77MB/s]\n",
      "\n",
      "\n",
      "\n",
      "sub-control01_task-nonmusic_run-4_bold.nii.gz:  26%|██▋       | 8.91M/33.9M [00:20<00:25, 1.04MB/s]\u001b[A\u001b[A\u001b[A\u001b[A\n",
      "sub-control01_task-nonmusic_run-5_bold.nii.gz:  70%|██████▉   | 23.7M/33.9M [00:19<00:05, 1.89MB/s]\n",
      "\n",
      "\n",
      "\n",
      "sub-control01_task-nonmusic_run-4_bold.nii.gz:  27%|██▋       | 9.04M/33.9M [00:20<00:23, 1.11MB/s]\u001b[A\u001b[A\u001b[A\u001b[A\n",
      "sub-control01_task-nonmusic_run-5_bold.nii.gz:  71%|███████   | 24.0M/33.9M [00:19<00:05, 2.07MB/s]\n",
      "\n",
      "\n",
      "\n",
      "sub-control01_task-nonmusic_run-4_bold.nii.gz:  27%|██▋       | 9.19M/33.9M [00:20<00:22, 1.16MB/s]\u001b[A\u001b[A\u001b[A\u001b[A\n",
      "sub-control01_task-nonmusic_run-5_bold.nii.gz:  71%|███████▏  | 24.2M/33.9M [00:19<00:04, 2.22MB/s]\n",
      "\n",
      "\n",
      "\n",
      "sub-control01_task-nonmusic_run-4_bold.nii.gz:  28%|██▊       | 9.32M/33.9M [00:20<00:21, 1.20MB/s]\u001b[A\u001b[A\u001b[A\u001b[A\n",
      "sub-control01_task-nonmusic_run-5_bold.nii.gz:  72%|███████▏  | 24.5M/33.9M [00:19<00:04, 2.24MB/s]\n",
      "\n",
      "\n",
      "\n",
      "sub-control01_task-nonmusic_run-4_bold.nii.gz:  28%|██▊       | 9.46M/33.9M [00:20<00:20, 1.23MB/s]\u001b[A\u001b[A\u001b[A\u001b[A\n",
      "sub-control01_task-nonmusic_run-5_bold.nii.gz:  73%|███████▎  | 24.7M/33.9M [00:19<00:04, 2.13MB/s]\n",
      "\n",
      "\n",
      "\n",
      "sub-control01_task-nonmusic_run-4_bold.nii.gz:  28%|██▊       | 9.59M/33.9M [00:21<00:27, 915kB/s] \u001b[A\u001b[A\u001b[A\u001b[A\n",
      "sub-control01_task-music_run-1_bold.nii.gz:  71%|███████▏  | 24.2M/33.8M [00:22<00:07, 1.40MB/s]\u001b[A\n",
      "\n",
      "\n",
      "\n",
      "sub-control01_task-nonmusic_run-4_bold.nii.gz:  29%|██▊       | 9.72M/33.9M [00:21<00:24, 1.02MB/s]\u001b[A\u001b[A\u001b[A\u001b[A\n",
      "sub-control01_task-music_run-1_bold.nii.gz:  72%|███████▏  | 24.4M/33.8M [00:22<00:06, 1.60MB/s]\u001b[A\n",
      "\n",
      "\n",
      "\n",
      "sub-control01_task-nonmusic_run-4_bold.nii.gz:  29%|██▉       | 9.87M/33.9M [00:21<00:22, 1.11MB/s]\u001b[A\u001b[A\u001b[A\u001b[A\n",
      "sub-control01_task-nonmusic_run-5_bold.nii.gz:  73%|███████▎  | 24.9M/33.9M [00:20<00:08, 1.05MB/s]\n",
      "\n",
      "\n",
      "\n",
      "sub-control01_task-nonmusic_run-4_bold.nii.gz:  30%|██▉       | 10.0M/33.9M [00:21<00:21, 1.16MB/s]\u001b[A\u001b[A\u001b[A\u001b[A\n",
      "sub-control01_task-nonmusic_run-5_bold.nii.gz:  75%|███████▌  | 25.5M/33.9M [00:20<00:04, 1.83MB/s]\n",
      "\n",
      "\n",
      "\n",
      "sub-control01_task-nonmusic_run-4_bold.nii.gz:  30%|██▉       | 10.1M/33.9M [00:21<00:20, 1.20MB/s]\u001b[A\u001b[A\u001b[A\u001b[A\n",
      "sub-control01_task-music_run-1_bold.nii.gz:  74%|███████▍  | 25.1M/33.8M [00:22<00:04, 1.96MB/s]\u001b[A\n",
      "\n",
      "\n",
      "\n",
      "sub-control01_task-nonmusic_run-5_bold.nii.gz:  76%|███████▌  | 25.7M/33.9M [00:20<00:04, 1.93MB/s]\u001b[A\u001b[A\u001b[A\u001b[A\n",
      "sub-control01_task-music_run-1_bold.nii.gz:  75%|███████▍  | 25.3M/33.8M [00:22<00:04, 1.95MB/s]\u001b[A\n",
      "\n",
      "\n",
      "\n",
      "sub-control01_task-nonmusic_run-5_bold.nii.gz:  77%|███████▋  | 26.0M/33.9M [00:20<00:04, 1.98MB/s]\u001b[A\u001b[A\u001b[A\u001b[A\n",
      "sub-control01_task-music_run-1_bold.nii.gz:  75%|███████▌  | 25.5M/33.8M [00:23<00:04, 1.86MB/s]\u001b[A\n",
      "\n",
      "\n",
      "\n",
      "sub-control01_task-nonmusic_run-5_bold.nii.gz:  77%|███████▋  | 26.3M/33.9M [00:20<00:03, 2.01MB/s]\u001b[A\u001b[A\u001b[A\u001b[A\n",
      "sub-control01_task-music_run-1_bold.nii.gz:  76%|███████▌  | 25.7M/33.8M [00:23<00:04, 1.85MB/s]\u001b[A\n",
      "\n",
      "\n",
      "\n",
      "sub-control01_task-nonmusic_run-5_bold.nii.gz:  78%|███████▊  | 26.5M/33.9M [00:20<00:03, 2.02MB/s]\u001b[A\u001b[A\u001b[A\u001b[A\n",
      "sub-control01_task-music_run-1_bold.nii.gz:  76%|███████▋  | 25.9M/33.8M [00:23<00:04, 1.84MB/s]\u001b[A\n",
      "\n",
      "\n",
      "\n",
      "sub-control01_task-nonmusic_run-5_bold.nii.gz:  79%|███████▉  | 26.7M/33.9M [00:20<00:03, 1.99MB/s]\u001b[A\u001b[A\u001b[A\u001b[A\n",
      "sub-control01_task-music_run-1_bold.nii.gz:  77%|███████▋  | 26.1M/33.8M [00:23<00:04, 1.90MB/s]\u001b[A\n",
      "\n",
      "\n",
      "\n",
      "sub-control01_task-nonmusic_run-5_bold.nii.gz:  79%|███████▉  | 26.9M/33.9M [00:20<00:04, 1.81MB/s]\u001b[A\u001b[A\u001b[A\u001b[A\n",
      "sub-control01_task-music_run-1_bold.nii.gz:  78%|███████▊  | 26.3M/33.8M [00:23<00:04, 1.72MB/s]\u001b[A\n",
      "\n",
      "\n",
      "\n",
      "sub-control01_task-nonmusic_run-5_bold.nii.gz:  80%|████████  | 27.1M/33.9M [00:21<00:04, 1.69MB/s][A\u001b[A\u001b[A\u001b[A\n",
      "sub-control01_task-music_run-1_bold.nii.gz:  78%|███████▊  | 26.5M/33.8M [00:23<00:04, 1.58MB/s]\u001b[A\n",
      "\n",
      "\n",
      "\n",
      "sub-control01_task-nonmusic_run-5_bold.nii.gz:  81%|████████  | 27.4M/33.9M [00:21<00:03, 1.85MB/s][A\u001b[A\u001b[A\u001b[A\n",
      "\n",
      "\n",
      "\n",
      "sub-control01_task-nonmusic_run-4_bold.nii.gz:  33%|███▎      | 11.2M/33.9M [00:22<00:23, 1.00MB/s]\u001b[A\u001b[A\u001b[A\u001b[A\n",
      "sub-control01_task-nonmusic_run-5_bold.nii.gz:  81%|████████▏ | 27.6M/33.9M [00:21<00:03, 1.93MB/s]\n",
      "\n",
      "\n",
      "\n",
      "sub-control01_task-nonmusic_run-4_bold.nii.gz:  33%|███▎      | 11.3M/33.9M [00:22<00:21, 1.10MB/s]\u001b[A\u001b[A\u001b[A\u001b[A\n",
      "sub-control01_task-nonmusic_run-5_bold.nii.gz:  82%|████████▏ | 27.8M/33.9M [00:21<00:03, 1.96MB/s]\n",
      "\n",
      "\n",
      "\n",
      "sub-control01_task-nonmusic_run-4_bold.nii.gz:  34%|███▍      | 11.5M/33.9M [00:22<00:20, 1.16MB/s]\u001b[A\u001b[A\u001b[A\u001b[A\n",
      "sub-control01_task-nonmusic_run-5_bold.nii.gz:  83%|████████▎ | 28.0M/33.9M [00:21<00:02, 2.06MB/s]\n",
      "\n",
      "\n",
      "\n",
      "sub-control01_task-nonmusic_run-4_bold.nii.gz:  34%|███▍      | 11.6M/33.9M [00:23<00:19, 1.18MB/s]\u001b[A\u001b[A\u001b[A\u001b[A\n",
      "sub-control01_task-nonmusic_run-5_bold.nii.gz:  83%|████████▎ | 28.3M/33.9M [00:21<00:02, 2.07MB/s]\n",
      "\n",
      "\n",
      "\n",
      "sub-control01_task-nonmusic_run-4_bold.nii.gz:  35%|███▍      | 11.7M/33.9M [00:23<00:19, 1.16MB/s]\u001b[A\u001b[A\u001b[A\u001b[A\n",
      "sub-control01_task-nonmusic_run-5_bold.nii.gz:  84%|████████▍ | 28.5M/33.9M [00:21<00:02, 2.03MB/s]\n",
      "\n",
      "\n",
      "\n",
      "sub-control01_task-nonmusic_run-4_bold.nii.gz:  35%|███▍      | 11.8M/33.9M [00:23<00:19, 1.18MB/s]\u001b[A\u001b[A\u001b[A\u001b[A\n",
      "sub-control01_task-nonmusic_run-5_bold.nii.gz:  85%|████████▍ | 28.7M/33.9M [00:21<00:02, 2.14MB/s]\n",
      "\n",
      "\n",
      "\n",
      "sub-control01_task-nonmusic_run-4_bold.nii.gz:  35%|███▌      | 12.0M/33.9M [00:23<00:18, 1.23MB/s]\u001b[A\u001b[A\u001b[A\u001b[A\n",
      "sub-control01_task-nonmusic_run-5_bold.nii.gz:  85%|████████▌ | 28.9M/33.9M [00:21<00:02, 2.05MB/s]\n",
      "\n",
      "\n",
      "\n",
      "sub-control01_task-nonmusic_run-4_bold.nii.gz:  36%|███▌      | 12.1M/33.9M [00:23<00:18, 1.26MB/s]\u001b[A\u001b[A\u001b[A\u001b[A\n",
      "sub-control01_task-nonmusic_run-5_bold.nii.gz:  86%|████████▌ | 29.1M/33.9M [00:22<00:02, 2.06MB/s]\n",
      "\n",
      "\n",
      "\n",
      "sub-control01_task-nonmusic_run-4_bold.nii.gz:  36%|███▌      | 12.2M/33.9M [00:23<00:17, 1.27MB/s]\u001b[A\u001b[A\u001b[A\u001b[A\n",
      "sub-control01_task-nonmusic_run-5_bold.nii.gz:  87%|████████▋ | 29.4M/33.9M [00:22<00:02, 2.03MB/s]\n",
      "\n",
      "\n",
      "\n",
      "sub-control01_task-nonmusic_run-4_bold.nii.gz:  37%|███▋      | 12.4M/33.9M [00:23<00:17, 1.28MB/s]\u001b[A\u001b[A\u001b[A\u001b[A\n",
      "sub-control01_task-nonmusic_run-5_bold.nii.gz:  87%|████████▋ | 29.6M/33.9M [00:22<00:02, 2.06MB/s]\n",
      "\n",
      "\n",
      "\n",
      "sub-control01_task-nonmusic_run-4_bold.nii.gz:  37%|███▋      | 12.5M/33.9M [00:23<00:17, 1.28MB/s]\u001b[A\u001b[A\u001b[A\u001b[A\n",
      "sub-control01_task-nonmusic_run-5_bold.nii.gz:  88%|████████▊ | 29.8M/33.9M [00:22<00:01, 2.20MB/s]\n",
      "\n",
      "\n",
      "\n",
      "sub-control01_task-nonmusic_run-4_bold.nii.gz:  37%|███▋      | 12.7M/33.9M [00:23<00:17, 1.31MB/s]\u001b[A\u001b[A\u001b[A\u001b[A\n",
      "sub-control01_task-nonmusic_run-5_bold.nii.gz:  89%|████████▊ | 30.0M/33.9M [00:22<00:01, 2.04MB/s]\n",
      "\n",
      "\n",
      "\n",
      "sub-control01_task-nonmusic_run-4_bold.nii.gz:  38%|███▊      | 12.8M/33.9M [00:24<00:16, 1.30MB/s]\u001b[A\u001b[A\u001b[A\u001b[A\n",
      "sub-control01_task-music_run-1_bold.nii.gz:  86%|████████▌ | 29.1M/33.8M [00:25<00:02, 1.88MB/s]\u001b[A\n",
      "\n",
      "\n",
      "\n",
      "sub-control01_task-nonmusic_run-5_bold.nii.gz:  89%|████████▉ | 30.3M/33.9M [00:22<00:01, 1.90MB/s]\u001b[A\u001b[A\u001b[A\u001b[A\n",
      "sub-control01_task-music_run-1_bold.nii.gz:  87%|████████▋ | 29.3M/33.8M [00:25<00:02, 1.79MB/s]\u001b[A\n",
      "\n",
      "\n",
      "\n",
      "sub-control01_task-nonmusic_run-4_bold.nii.gz:  39%|███▊      | 13.1M/33.9M [00:24<00:17, 1.28MB/s]\u001b[A\u001b[A\u001b[A\u001b[A\n",
      "sub-control01_task-nonmusic_run-5_bold.nii.gz:  90%|█████████ | 30.5M/33.9M [00:22<00:01, 2.06MB/s]\n",
      "\n",
      "\n",
      "\n",
      "sub-control01_task-nonmusic_run-4_bold.nii.gz:  39%|███▉      | 13.2M/33.9M [00:24<00:17, 1.21MB/s]\u001b[A\u001b[A\u001b[A\u001b[A\n",
      "sub-control01_task-nonmusic_run-5_bold.nii.gz:  91%|█████████▏| 31.0M/33.9M [00:22<00:01, 2.15MB/s]\n",
      "sub-control01_task-music_run-1_bold.nii.gz:  89%|████████▊ | 30.0M/33.8M [00:25<00:02, 1.98MB/s]\u001b[A\n",
      "\n",
      "\n",
      "\n",
      "sub-control01_task-nonmusic_run-4_bold.nii.gz:  39%|███▉      | 13.3M/33.9M [00:24<00:17, 1.20MB/s]\u001b[A\u001b[A\u001b[A\u001b[A\n",
      "sub-control01_task-nonmusic_run-5_bold.nii.gz:  92%|█████████▏| 31.2M/33.9M [00:23<00:01, 2.06MB/s]\n",
      "\n",
      "\n",
      "\n",
      "sub-control01_task-nonmusic_run-5_bold.nii.gz:  93%|█████████▎| 31.4M/33.9M [00:23<00:01, 2.10MB/s]\u001b[A\u001b[A\u001b[A\u001b[A\n",
      "sub-control01_task-music_run-1_bold.nii.gz:  90%|████████▉ | 30.4M/33.8M [00:25<00:01, 2.02MB/s]\u001b[A\n",
      "\n",
      "\n",
      "\n",
      "sub-control01_task-nonmusic_run-4_bold.nii.gz:  40%|████      | 13.6M/33.9M [00:24<00:16, 1.29MB/s]\u001b[A\u001b[A\u001b[A\u001b[A\n",
      "sub-control01_task-nonmusic_run-5_bold.nii.gz:  93%|█████████▎| 31.7M/33.9M [00:23<00:01, 2.21MB/s]\n",
      "\n",
      "\n",
      "\n",
      "sub-control01_task-nonmusic_run-4_bold.nii.gz:  41%|████      | 13.8M/33.9M [00:24<00:14, 1.41MB/s]\u001b[A\u001b[A\u001b[A\u001b[A\n",
      "sub-control01_task-nonmusic_run-5_bold.nii.gz:  94%|█████████▍| 31.9M/33.9M [00:23<00:00, 2.24MB/s]\n",
      "\n",
      "\n",
      "\n",
      "sub-control01_task-nonmusic_run-4_bold.nii.gz:  41%|████▏     | 14.0M/33.9M [00:24<00:14, 1.46MB/s]\u001b[A\u001b[A\u001b[A\u001b[A\n",
      "sub-control01_task-nonmusic_run-5_bold.nii.gz:  95%|█████████▍| 32.1M/33.9M [00:23<00:00, 2.21MB/s]\n",
      "\n",
      "\n",
      "\n",
      "sub-control01_task-nonmusic_run-5_bold.nii.gz:  95%|█████████▌| 32.3M/33.9M [00:23<00:00, 2.18MB/s]\u001b[A\u001b[A\u001b[A\u001b[A\n",
      "sub-control01_task-music_run-1_bold.nii.gz:  92%|█████████▏| 31.3M/33.8M [00:26<00:01, 2.07MB/s]\u001b[A\n",
      "\n",
      "\n",
      "\n",
      "sub-control01_task-nonmusic_run-5_bold.nii.gz:  96%|█████████▌| 32.6M/33.9M [00:23<00:00, 1.94MB/s]\u001b[A\u001b[A\u001b[A\u001b[A\n",
      "sub-control01_task-music_run-1_bold.nii.gz:  93%|█████████▎| 31.5M/33.8M [00:26<00:01, 1.78MB/s]\u001b[A\n",
      "\n",
      "\n",
      "\n",
      "sub-control01_task-nonmusic_run-5_bold.nii.gz:  97%|█████████▋| 32.8M/33.9M [00:23<00:00, 1.55MB/s]\u001b[A\u001b[A\u001b[A\u001b[A\n",
      "sub-control01_task-music_run-1_bold.nii.gz:  94%|█████████▎| 31.6M/33.8M [00:26<00:01, 1.41MB/s]\u001b[A\n",
      "\n",
      "\n",
      "\n",
      "sub-control01_task-nonmusic_run-5_bold.nii.gz:  97%|█████████▋| 32.9M/33.9M [00:24<00:00, 1.49MB/s]\u001b[A\u001b[A\u001b[A\u001b[A\n",
      "sub-control01_task-music_run-1_bold.nii.gz:  94%|█████████▍| 31.8M/33.8M [00:26<00:01, 1.40MB/s]\u001b[A\n",
      "\n",
      "\n",
      "\n",
      "sub-control01_task-nonmusic_run-5_bold.nii.gz:  98%|█████████▊| 33.1M/33.9M [00:24<00:00, 1.28MB/s]\u001b[A\u001b[A\u001b[A\u001b[A\n",
      "sub-control01_task-music_run-1_bold.nii.gz:  94%|█████████▍| 31.9M/33.8M [00:26<00:01, 1.20MB/s]\u001b[A\n",
      "\n",
      "\n",
      "\n",
      "sub-control01_task-nonmusic_run-4_bold.nii.gz:  44%|████▍     | 14.8M/33.9M [00:25<00:19, 1.00MB/s]\u001b[A\u001b[A\u001b[A\u001b[A\n",
      "sub-control01_task-nonmusic_run-5_bold.nii.gz:  99%|█████████▉| 33.6M/33.9M [00:24<00:00, 1.73MB/s]\n",
      "\n",
      "\n",
      "\n",
      "sub-control01_task-nonmusic_run-4_bold.nii.gz:  44%|████▍     | 15.0M/33.9M [00:26<00:16, 1.21MB/s]\u001b[A\u001b[A\u001b[A\u001b[A\n",
      "sub-control01_task-nonmusic_run-5_bold.nii.gz: 100%|█████████▉| 33.8M/33.9M [00:24<00:00, 1.84MB/s]\n",
      "sub-control01_task-music_run-1_bold.nii.gz:  96%|█████████▋| 32.6M/33.8M [00:27<00:00, 1.80MB/s]\u001b[A\n",
      "\n",
      "\n",
      "\n",
      "                                                                                                   \u001b[A\u001b[A\u001b[A\u001b[A\n",
      "sub-control01_task-music_run-1_bold.nii.gz:  97%|█████████▋| 32.9M/33.8M [00:27<00:00, 2.04MB/s]\u001b[A\n",
      "\n",
      "\n",
      "\n",
      "sub-control01_task-nonmusic_run-4_bold.nii.gz:  46%|████▌     | 15.4M/33.9M [00:26<00:12, 1.53MB/s]\u001b[A\u001b[A\u001b[A\u001b[A\n",
      "sub-control01_task-music_run-1_bold.nii.gz:  98%|█████████▊| 33.1M/33.8M [00:27<00:00, 1.93MB/s]\u001b[A\n",
      "\n",
      "\n",
      "\n",
      "sub-control01_task-nonmusic_run-4_bold.nii.gz:  46%|████▌     | 15.6M/33.9M [00:26<00:13, 1.43MB/s]\u001b[A\u001b[A\u001b[A\u001b[A\n",
      "sub-control01_task-music_run-1_bold.nii.gz:  99%|█████████▉| 33.5M/33.8M [00:27<00:00, 2.41MB/s]\u001b[A\n",
      "\n",
      "\n",
      "\n",
      "sub-control01_task-nonmusic_run-4_bold.nii.gz:  47%|████▋     | 15.9M/33.9M [00:26<00:10, 1.83MB/s]\u001b[A\u001b[A\u001b[A\u001b[A\n",
      "sub-control01_task-music_run-1_bold.nii.gz: 100%|█████████▉| 33.7M/33.8M [00:27<00:00, 2.42MB/s]\u001b[A\n",
      "                                                                                                \u001b[A\n",
      "\n",
      "\n",
      "\n",
      "sub-control01_task-nonmusic_run-4_bold.nii.gz:  48%|████▊     | 16.2M/33.9M [00:26<00:09, 1.98MB/s]\u001b[A\u001b[A\u001b[A\u001b[A\n",
      "\n",
      "\n",
      "\n",
      "sub-control01_task-nonmusic_run-4_bold.nii.gz:  49%|████▊     | 16.4M/33.9M [00:26<00:08, 2.18MB/s]\u001b[A\u001b[A\u001b[A\u001b[A\n",
      "\n",
      "\n",
      "\n",
      "sub-control01_task-nonmusic_run-4_bold.nii.gz:  49%|████▉     | 16.7M/33.9M [00:26<00:08, 2.24MB/s]\u001b[A\u001b[A\u001b[A\u001b[A\n",
      "\n",
      "\n",
      "\n",
      "sub-control01_task-nonmusic_run-4_bold.nii.gz:  50%|█████     | 17.0M/33.9M [00:26<00:07, 2.38MB/s]\u001b[A\u001b[A\u001b[A\u001b[A\n",
      "\n",
      "\n",
      "\n",
      "sub-control01_task-nonmusic_run-4_bold.nii.gz:  51%|█████     | 17.2M/33.9M [00:27<00:07, 2.46MB/s]\u001b[A\u001b[A\u001b[A\u001b[A\n",
      "\n",
      "\n",
      "\n",
      "sub-control01_task-nonmusic_run-4_bold.nii.gz:  52%|█████▏    | 17.5M/33.9M [00:27<00:07, 2.44MB/s]\u001b[A\u001b[A\u001b[A\u001b[A\n",
      "\n",
      "\n",
      "\n",
      "sub-control01_task-nonmusic_run-4_bold.nii.gz:  52%|█████▏    | 17.8M/33.9M [00:27<00:07, 2.27MB/s]\u001b[A\u001b[A\u001b[A\u001b[A\n",
      "\n",
      "\n",
      "\n",
      "sub-control01_task-nonmusic_run-4_bold.nii.gz:  53%|█████▎    | 18.0M/33.9M [00:27<00:06, 2.38MB/s]\u001b[A\u001b[A\u001b[A\u001b[A\n",
      "\n",
      "\n",
      "\n",
      "sub-control01_task-nonmusic_run-4_bold.nii.gz:  54%|█████▍    | 18.3M/33.9M [00:27<00:06, 2.53MB/s]\u001b[A\u001b[A\u001b[A\u001b[A\n",
      "\n",
      "\n",
      "\n",
      "sub-control01_task-nonmusic_run-4_bold.nii.gz:  55%|█████▍    | 18.6M/33.9M [00:27<00:06, 2.65MB/s]\u001b[A\u001b[A\u001b[A\u001b[A\n",
      "\n",
      "\n",
      "\n",
      "sub-control01_task-nonmusic_run-4_bold.nii.gz:  56%|█████▌    | 18.9M/33.9M [00:27<00:05, 2.69MB/s]\u001b[A\u001b[A\u001b[A\u001b[A\n",
      "\n",
      "\n",
      "\n",
      "sub-control01_task-nonmusic_run-4_bold.nii.gz:  57%|█████▋    | 19.2M/33.9M [00:27<00:05, 2.82MB/s]\u001b[A\u001b[A\u001b[A\u001b[A\n",
      "\n",
      "\n",
      "\n",
      "sub-control01_task-nonmusic_run-4_bold.nii.gz:  57%|█████▋    | 19.5M/33.9M [00:27<00:05, 2.86MB/s]\u001b[A\u001b[A\u001b[A\u001b[A\n",
      "\n",
      "\n",
      "\n",
      "sub-control01_task-nonmusic_run-4_bold.nii.gz:  58%|█████▊    | 19.8M/33.9M [00:28<00:05, 2.88MB/s]\u001b[A\u001b[A\u001b[A\u001b[A\n",
      "\n",
      "\n",
      "\n",
      "sub-control01_task-nonmusic_run-4_bold.nii.gz:  59%|█████▉    | 20.1M/33.9M [00:28<00:04, 3.14MB/s]\u001b[A\u001b[A\u001b[A\u001b[A\n",
      "\n",
      "\n",
      "\n",
      "sub-control01_task-nonmusic_run-4_bold.nii.gz:  60%|██████    | 20.4M/33.9M [00:28<00:04, 3.19MB/s]\u001b[A\u001b[A\u001b[A\u001b[A\n",
      "\n",
      "\n",
      "\n",
      "sub-control01_task-nonmusic_run-4_bold.nii.gz:  61%|██████▏   | 20.8M/33.9M [00:28<00:04, 3.27MB/s]\u001b[A\u001b[A\u001b[A\u001b[A\n",
      "\n",
      "\n",
      "\n",
      "sub-control01_task-nonmusic_run-4_bold.nii.gz:  62%|██████▏   | 21.1M/33.9M [00:28<00:03, 3.42MB/s]\u001b[A\u001b[A\u001b[A\u001b[A\n",
      "\n",
      "\n",
      "\n",
      "sub-control01_task-nonmusic_run-4_bold.nii.gz:  63%|██████▎   | 21.5M/33.9M [00:28<00:03, 3.41MB/s]\u001b[A\u001b[A\u001b[A\u001b[A\n",
      "\n",
      "\n",
      "\n",
      "sub-control01_task-nonmusic_run-4_bold.nii.gz:  64%|██████▍   | 21.8M/33.9M [00:28<00:03, 3.46MB/s]\u001b[A\u001b[A\u001b[A\u001b[A\n",
      "\n",
      "\n",
      "\n",
      "sub-control01_task-nonmusic_run-4_bold.nii.gz:  66%|██████▌   | 22.2M/33.9M [00:28<00:03, 3.56MB/s]\u001b[A\u001b[A\u001b[A\u001b[A\n",
      "\n",
      "\n",
      "\n",
      "sub-control01_task-nonmusic_run-4_bold.nii.gz:  67%|██████▋   | 22.5M/33.9M [00:28<00:03, 3.42MB/s]\u001b[A\u001b[A\u001b[A\u001b[A\n",
      "\n",
      "\n",
      "\n",
      "sub-control01_task-nonmusic_run-4_bold.nii.gz:  68%|██████▊   | 22.9M/33.9M [00:28<00:03, 3.37MB/s]\u001b[A\u001b[A\u001b[A\u001b[A\n",
      "\n",
      "\n",
      "\n",
      "sub-control01_task-nonmusic_run-4_bold.nii.gz:  69%|██████▊   | 23.2M/33.9M [00:29<00:04, 2.77MB/s]\u001b[A\u001b[A\u001b[A\u001b[A\n",
      "\n",
      "\n",
      "\n",
      "sub-control01_task-nonmusic_run-4_bold.nii.gz:  70%|███████   | 23.8M/33.9M [00:29<00:02, 3.58MB/s]\u001b[A\u001b[A\u001b[A\u001b[A\n",
      "\n",
      "\n",
      "\n",
      "sub-control01_task-nonmusic_run-4_bold.nii.gz:  71%|███████▏  | 24.2M/33.9M [00:29<00:04, 2.45MB/s]\u001b[A\u001b[A\u001b[A\u001b[A\n",
      "\n",
      "\n",
      "\n",
      "sub-control01_task-nonmusic_run-4_bold.nii.gz:  72%|███████▏  | 24.5M/33.9M [00:29<00:03, 2.51MB/s]\u001b[A\u001b[A\u001b[A\u001b[A\n",
      "\n",
      "\n",
      "\n",
      "sub-control01_task-nonmusic_run-4_bold.nii.gz:  73%|███████▎  | 24.8M/33.9M [00:29<00:03, 2.69MB/s]\u001b[A\u001b[A\u001b[A\u001b[A\n",
      "\n",
      "\n",
      "\n",
      "sub-control01_task-nonmusic_run-4_bold.nii.gz:  74%|███████▍  | 25.2M/33.9M [00:29<00:03, 2.94MB/s]\u001b[A\u001b[A\u001b[A\u001b[A\n",
      "\n",
      "\n",
      "\n",
      "sub-control01_task-nonmusic_run-4_bold.nii.gz:  75%|███████▌  | 25.5M/33.9M [00:29<00:02, 2.93MB/s]\u001b[A\u001b[A\u001b[A\u001b[A\n",
      "\n",
      "\n",
      "\n",
      "sub-control01_task-nonmusic_run-4_bold.nii.gz:  76%|███████▌  | 25.8M/33.9M [00:30<00:02, 2.99MB/s]\u001b[A\u001b[A\u001b[A\u001b[A\n",
      "\n",
      "\n",
      "\n",
      "sub-control01_task-nonmusic_run-4_bold.nii.gz:  77%|███████▋  | 26.1M/33.9M [00:30<00:02, 3.01MB/s]\u001b[A\u001b[A\u001b[A\u001b[A\n",
      "\n",
      "\n",
      "\n",
      "sub-control01_task-nonmusic_run-4_bold.nii.gz:  78%|███████▊  | 26.4M/33.9M [00:30<00:02, 3.01MB/s]\u001b[A\u001b[A\u001b[A\u001b[A\n",
      "\n",
      "\n",
      "\n",
      "sub-control01_task-nonmusic_run-4_bold.nii.gz:  79%|███████▉  | 26.7M/33.9M [00:30<00:02, 2.95MB/s]\u001b[A\u001b[A\u001b[A\u001b[A\n",
      "\n",
      "\n",
      "\n",
      "sub-control01_task-nonmusic_run-4_bold.nii.gz:  80%|███████▉  | 27.0M/33.9M [00:30<00:02, 2.95MB/s]\u001b[A\u001b[A\u001b[A\u001b[A\n",
      "\n",
      "\n",
      "\n",
      "sub-control01_task-nonmusic_run-4_bold.nii.gz:  81%|████████  | 27.4M/33.9M [00:30<00:02, 3.19MB/s]\u001b[A\u001b[A\u001b[A\u001b[A\n",
      "\n",
      "\n",
      "\n",
      "sub-control01_task-nonmusic_run-4_bold.nii.gz:  82%|████████▏ | 27.8M/33.9M [00:30<00:01, 3.34MB/s]\u001b[A\u001b[A\u001b[A\u001b[A\n",
      "\n",
      "\n",
      "\n",
      "sub-control01_task-nonmusic_run-4_bold.nii.gz:  83%|████████▎ | 28.1M/33.9M [00:30<00:01, 3.47MB/s]\u001b[A\u001b[A\u001b[A\u001b[A\n",
      "\n",
      "\n",
      "\n",
      "sub-control01_task-nonmusic_run-4_bold.nii.gz:  84%|████████▍ | 28.5M/33.9M [00:30<00:01, 3.45MB/s]\u001b[A\u001b[A\u001b[A\u001b[A\n",
      "\n",
      "\n",
      "\n",
      "sub-control01_task-nonmusic_run-4_bold.nii.gz:  85%|████████▌ | 28.8M/33.9M [00:31<00:01, 3.51MB/s]\u001b[A\u001b[A\u001b[A\u001b[A\n",
      "\n",
      "\n",
      "\n",
      "sub-control01_task-nonmusic_run-4_bold.nii.gz:  86%|████████▌ | 29.2M/33.9M [00:31<00:01, 3.48MB/s]\u001b[A\u001b[A\u001b[A\u001b[A\n",
      "\n",
      "\n",
      "\n",
      "sub-control01_task-nonmusic_run-4_bold.nii.gz:  87%|████████▋ | 29.5M/33.9M [00:31<00:01, 3.28MB/s]\u001b[A\u001b[A\u001b[A\u001b[A\n",
      "\n",
      "\n",
      "\n",
      "sub-control01_task-nonmusic_run-4_bold.nii.gz:  88%|████████▊ | 29.9M/33.9M [00:31<00:01, 3.51MB/s]\u001b[A\u001b[A\u001b[A\u001b[A\n",
      "\n",
      "\n",
      "\n",
      "sub-control01_task-nonmusic_run-4_bold.nii.gz:  90%|████████▉ | 30.3M/33.9M [00:31<00:01, 3.64MB/s]\u001b[A\u001b[A\u001b[A\u001b[A\n",
      "\n",
      "\n",
      "\n",
      "sub-control01_task-nonmusic_run-4_bold.nii.gz:  91%|█████████ | 30.7M/33.9M [00:31<00:00, 3.75MB/s]\u001b[A\u001b[A\u001b[A\u001b[A\n",
      "\n",
      "\n",
      "\n",
      "sub-control01_task-nonmusic_run-4_bold.nii.gz:  92%|█████████▏| 31.1M/33.9M [00:31<00:00, 3.82MB/s]\u001b[A\u001b[A\u001b[A\u001b[A\n",
      "\n",
      "\n",
      "\n",
      "sub-control01_task-nonmusic_run-4_bold.nii.gz:  93%|█████████▎| 31.5M/33.9M [00:31<00:00, 3.92MB/s]\u001b[A\u001b[A\u001b[A\u001b[A\n",
      "\n",
      "\n",
      "\n",
      "sub-control01_task-nonmusic_run-4_bold.nii.gz:  94%|█████████▍| 31.9M/33.9M [00:31<00:00, 4.02MB/s]\u001b[A\u001b[A\u001b[A\u001b[A\n",
      "\n",
      "\n",
      "\n",
      "sub-control01_task-nonmusic_run-4_bold.nii.gz:  95%|█████████▌| 32.3M/33.9M [00:31<00:00, 4.04MB/s]\u001b[A\u001b[A\u001b[A\u001b[A\n",
      "\n",
      "\n",
      "\n",
      "sub-control01_task-nonmusic_run-4_bold.nii.gz:  97%|█████████▋| 32.7M/33.9M [00:32<00:00, 3.94MB/s]\u001b[A\u001b[A\u001b[A\u001b[A\n",
      "\n",
      "\n",
      "\n",
      "sub-control01_task-nonmusic_run-4_bold.nii.gz:  98%|█████████▊| 33.1M/33.9M [00:32<00:00, 3.91MB/s]\u001b[A\u001b[A\u001b[A\u001b[A"
     ]
    },
    {
     "name": "stdout",
     "output_type": "stream",
     "text": [
      "✅ Finished downloading ds000171.\n",
      " \n",
      "🧠 Please enjoy your brains.\n",
      " \n"
     ]
    },
    {
     "name": "stderr",
     "output_type": "stream",
     "text": [
      "\n",
      "\n",
      "\n",
      "\n",
      "sub-control01_task-nonmusic_run-4_bold.nii.gz:  99%|█████████▉| 33.5M/33.9M [00:32<00:00, 3.89MB/s]\u001b[A\u001b[A\u001b[A\u001b[A\n",
      "\n",
      "\n",
      "\n",
      "sub-control01_task-nonmusic_run-4_bold.nii.gz: 100%|█████████▉| 33.9M/33.9M [00:32<00:00, 3.91MB/s]\u001b[A\u001b[A\u001b[A\u001b[A\n",
      "\n",
      "\n",
      "\n",
      "                                                                                                   \u001b[A\u001b[A\u001b[A\u001b[A"
     ]
    }
   ],
   "source": [
    "%%capture\n",
    "subprocess.run([\"openneuro-py\", \"download\", \"--dataset\", dataset_id, \n",
    "                \"--target-dir\", bids_root, \n",
    "                \"--include\", op.join(subject_dir, '*'),    \n",
    "               ], check=False) \n",
    "os.makedirs(op.join(bids_root, 'derivatives'), exist_ok=True)\n",
    "preproc_root = op.join(bids_root, 'derivatives', 'preprocessed_data') \n",
    "os.makedirs(op.join(preproc_root, subject_dir), exist_ok=True)\n",
    "os.makedirs(op.join(preproc_root, subject_dir, 'anat'), exist_ok=True)\n",
    "os.makedirs(op.join(preproc_root, subject_dir, 'func'), exist_ok=True)\n",
    "os.makedirs(op.join(preproc_root, subject_dir, 'fmap'), exist_ok=True)"
   ]
  },
  {
   "cell_type": "code",
   "execution_count": 5,
   "metadata": {},
   "outputs": [],
   "source": [
    "%%capture\n",
    "fsleyesDisplay.resetOverlays()\n",
    "fsleyesDisplay.load(op.join(bids_root, 'sub-control01', 'anat', 'sub-control01_T1w.nii.gz')) "
   ]
  },
  {
   "cell_type": "markdown",
   "metadata": {},
   "source": [
    "# Initial preprocessing"
   ]
  },
  {
   "cell_type": "markdown",
   "metadata": {},
   "source": [
    "## Skull stripping"
   ]
  },
  {
   "cell_type": "code",
   "execution_count": 6,
   "metadata": {},
   "outputs": [],
   "source": [
    "resulting_mask_path = op.join(preproc_root, subject_dir, 'anat', 'sub-{}_T1w_mask'.format(subject_id) ) "
   ]
  },
  {
   "cell_type": "code",
   "execution_count": 7,
   "metadata": {},
   "outputs": [
    {
     "name": "stdout",
     "output_type": "stream",
     "text": [
      "Done with BET.\n"
     ]
    }
   ],
   "source": [
    "get_skull_stripped_anatomical(bids_root, preproc_root, \"control01\", robust=True)"
   ]
  },
  {
   "cell_type": "code",
   "execution_count": 8,
   "metadata": {},
   "outputs": [],
   "source": [
    "fsleyesDisplay.resetOverlays()\n",
    "fsleyesDisplay.load(op.join(bids_root, 'sub-control01', 'anat', 'sub-control01_T1w.nii.gz'))\n",
    "fsleyesDisplay.load(resulting_mask_path)"
   ]
  },
  {
   "cell_type": "code",
   "execution_count": 9,
   "metadata": {},
   "outputs": [],
   "source": [
    "anatomical_path = op.join(bids_root, 'sub-control01', 'anat', 'sub-control01_T1w.nii.gz')\n",
    "betted_brain_path = op.join(preproc_root, 'sub-control01', 'anat', 'sub-control01_T1w.nii.gz') \n",
    "resulting_mask_path = op.join(preproc_root, 'sub-control01', 'anat', 'sub-control01_T1w_mask.nii.gz') "
   ]
  },
  {
   "cell_type": "code",
   "execution_count": 10,
   "metadata": {},
   "outputs": [],
   "source": [
    "apply_python_mask_approach(anatomical_path, resulting_mask_path, betted_brain_path)"
   ]
  },
  {
   "cell_type": "code",
   "execution_count": 11,
   "metadata": {},
   "outputs": [],
   "source": [
    "fsleyesDisplay.resetOverlays()\n",
    "fsleyesDisplay.load(betted_brain_path)"
   ]
  },
  {
   "cell_type": "markdown",
   "metadata": {},
   "source": [
    "## Tissue segmentation"
   ]
  },
  {
   "cell_type": "code",
   "execution_count": 12,
   "metadata": {},
   "outputs": [],
   "source": [
    "betted_brain_path = op.join(preproc_root, 'sub-control01', 'anat', 'sub-control01_T1w')"
   ]
  },
  {
   "cell_type": "code",
   "execution_count": 13,
   "metadata": {},
   "outputs": [],
   "source": [
    "[os.remove(f) for f in glob.glob(op.join(preproc_root, 'sub-control01', 'anat', '*fast*'))]\n",
    "segmentation_path = op.join(preproc_root, 'sub-control01', 'anat', 'sub-control01_T1w_fast')\n",
    "fast(imgs=[betted_brain_path], out=segmentation_path, n_classes=3);"
   ]
  },
  {
   "cell_type": "markdown",
   "metadata": {},
   "source": [
    "The pve files correspond to our segmented tissues. We have exactly three files, because we set n_classes to 3 above:\n",
    "```python\n",
    "fast(..., n_classes=3)\n"
   ]
  },
  {
   "cell_type": "markdown",
   "metadata": {},
   "source": [
    "Display colors\n",
    "- pve_0 in <span style=\"color:red;\">red</span>\n",
    "- pve_1 in <span style=\"color:green;\">green</span>\n",
    "- pve_2 in <span style=\"color:blue;\">blue</span>"
   ]
  },
  {
   "cell_type": "code",
   "execution_count": 14,
   "metadata": {},
   "outputs": [],
   "source": [
    "fsleyesDisplay.resetOverlays()\n",
    "fsleyesDisplay.load(betted_brain_path)\n",
    "# CSF\n",
    "fsleyesDisplay.load(glob.glob(op.join(preproc_root, 'sub-control01', 'anat','*pve_0*'))[0])\n",
    "# GM\n",
    "fsleyesDisplay.load(glob.glob(op.join(preproc_root, 'sub-control01', 'anat','*pve_1*'))[0])\n",
    "# WM\n",
    "fsleyesDisplay.load(glob.glob(op.join(preproc_root, 'sub-control01', 'anat','*pve_2*'))[0])\n",
    "\n",
    "fsleyesDisplay.displayCtx.getOpts(fsleyesDisplay.overlayList[1]).cmap = 'Red'\n",
    "fsleyesDisplay.displayCtx.getOpts(fsleyesDisplay.overlayList[2]).cmap = 'Green'\n",
    "fsleyesDisplay.displayCtx.getOpts(fsleyesDisplay.overlayList[3]).cmap = 'Blue'\n"
   ]
  },
  {
   "cell_type": "markdown",
   "metadata": {},
   "source": [
    "# Coregistration MNI-T1"
   ]
  },
  {
   "cell_type": "markdown",
   "metadata": {},
   "source": [
    "### Linear normalization"
   ]
  },
  {
   "cell_type": "code",
   "execution_count": 15,
   "metadata": {},
   "outputs": [],
   "source": [
    "subject_id = 'control01' \n",
    "subject_anatomical = op.join(preproc_root, 'sub-{}'.format(subject_id), 'anat', 'sub-control01_T1w')\n",
    "mni_template = op.expandvars(op.join('$FSLDIR', 'data', 'standard', 'MNI152_T1_1mm_brain'))\n",
    "\n",
    "target = subject_anatomical \n",
    "reference = mni_template \n",
    "result = op.join(preproc_root, 'sub-{}'.format(subject_id), 'anat', 'sub-{}_T1w_mni'.format(subject_id))\n",
    "anat_2_mni_trans = op.join(preproc_root, 'sub-{}'.format(subject_id), 'anat', 'sub-{}_T1w_mni_lin.mat'.format(subject_id))"
   ]
  },
  {
   "cell_type": "code",
   "execution_count": 16,
   "metadata": {},
   "outputs": [
    {
     "name": "stdout",
     "output_type": "stream",
     "text": [
      "\n",
      "Final result: \n",
      "0.003341 0.005724 -1.116060 204.820462 \n",
      "-0.933200 0.500882 0.006703 178.661677 \n",
      "0.501569 1.049029 -0.003770 -149.723790 \n",
      "0.000000 0.000000 0.000000 1.000000 \n",
      "\n"
     ]
    },
    {
     "data": {
      "text/plain": [
       "{}"
      ]
     },
     "execution_count": 16,
     "metadata": {},
     "output_type": "execute_result"
    }
   ],
   "source": [
    "flirt(target, reference, out=result)\n",
    "flirt(betted_brain_path, mni_template, out=result, omat = anat_2_mni_trans)"
   ]
  },
  {
   "cell_type": "code",
   "execution_count": 17,
   "metadata": {},
   "outputs": [],
   "source": [
    "fsleyesDisplay.resetOverlays()\n",
    "fsleyesDisplay.load(reference) \n",
    "fsleyesDisplay.load(result)"
   ]
  },
  {
   "cell_type": "code",
   "execution_count": 18,
   "metadata": {},
   "outputs": [],
   "source": [
    "possible_costs = ['mutualinfo', 'corratio', 'normcorr', 'normmi', 'leastsq', 'labeldiff']\n",
    "costs_to_consider = ['leastsq', 'normcorr'] \n",
    "# FIXME: ISSUE WITH THE LEASTSQ COST RESULT"
   ]
  },
  {
   "cell_type": "code",
   "execution_count": 19,
   "metadata": {},
   "outputs": [
    {
     "name": "stdout",
     "output_type": "stream",
     "text": [
      "\n",
      "Final result: \n",
      "3.458371 1.648305 3.627273 -990.534765 \n",
      "-2.861950 1.235282 4.578044 -54.943603 \n",
      "0.433791 -5.372595 2.300280 588.875671 \n",
      "0.000000 0.000000 0.000000 1.000000 \n",
      "\n",
      "\n",
      "Final result: \n",
      "0.003107 0.005315 -1.116440 204.932830 \n",
      "-0.935071 0.500262 0.007008 178.944986 \n",
      "0.501467 1.049276 -0.004127 -149.788866 \n",
      "0.000000 0.000000 0.000000 1.000000 \n",
      "\n"
     ]
    }
   ],
   "source": [
    "for c in costs_to_consider:\n",
    "    flirt(target, reference, out=result + '_' + c, cost=c)"
   ]
  },
  {
   "cell_type": "code",
   "execution_count": 20,
   "metadata": {},
   "outputs": [],
   "source": [
    "for c in costs_to_consider:\n",
    "    fsleyesDisplay.load(result + '_' + c)"
   ]
  },
  {
   "cell_type": "markdown",
   "metadata": {},
   "source": [
    "## Non linear normalization"
   ]
  },
  {
   "cell_type": "markdown",
   "metadata": {},
   "source": [
    "*FNIRT does NOT expect the input data to be skull-stripped.*"
   ]
  },
  {
   "cell_type": "code",
   "execution_count": 21,
   "metadata": {},
   "outputs": [],
   "source": [
    "moving_image = ants.image_read(target + '.nii.gz')\n",
    "fixed_image = ants.image_read(reference + '.nii.gz')\n",
    "warp_field_path = op.join(preproc_root, 'sub-{}'.format(subject_id), 'anat', 'sub-{}_T1w_mni_SyN_warp.nii.gz'.format(subject_id))\n",
    "resultAnts = op.join(preproc_root, 'sub-{}'.format(subject_id), 'anat', 'sub-{}_T1w_mni_SyN.nii.gz'.format(subject_id))\n",
    "transformation = ants.registration(fixed=fixed_image, moving=moving_image, type_of_transform='SyN')\n",
    "warpedImage = ants.apply_transforms(fixed=fixed_image, moving=moving_image, transformlist=transformation['fwdtransforms'])\n",
    "ants.image_write(warpedImage, resultAnts)\n",
    "\n",
    "warp_field = ants.image_read(transformation['fwdtransforms'][0])\n",
    "nifti_warp_field = nib.Nifti1Image(warp_field.numpy(), affine=nib.load(transformation['fwdtransforms'][0]).affine)\n",
    "nib.save(nifti_warp_field, warp_field_path)\n"
   ]
  },
  {
   "cell_type": "code",
   "execution_count": 22,
   "metadata": {},
   "outputs": [],
   "source": [
    "fsleyesDisplay.resetOverlays()\n",
    "fsleyesDisplay.load(reference)\n",
    "fsleyesDisplay.load(resultAnts)\n",
    "fsleyesDisplay.load(warp_field_path)"
   ]
  },
  {
   "cell_type": "markdown",
   "metadata": {},
   "source": [
    "# Volume removal\n"
   ]
  },
  {
   "cell_type": "code",
   "execution_count": 23,
   "metadata": {},
   "outputs": [],
   "source": [
    "fsleyesDisplay.resetOverlays()\n",
    "fsleyesDisplay.load(op.join(bids_root, 'sub-control01', 'func', 'sub-control01_task-music_run-2_bold.nii.gz'))"
   ]
  },
  {
   "cell_type": "markdown",
   "metadata": {},
   "source": [
    "### Field stabilization"
   ]
  },
  {
   "cell_type": "code",
   "execution_count": 24,
   "metadata": {},
   "outputs": [
    {
     "data": {
      "text/plain": [
       "Text(0, 0.5, 'Mean voxel intensity')"
      ]
     },
     "execution_count": 24,
     "metadata": {},
     "output_type": "execute_result"
    },
    {
     "data": {
      "image/png": "[encoded data removed]",
      "text/plain": [
       "<Figure size 640x480 with 1 Axes>"
      ]
     },
     "metadata": {},
     "output_type": "display_data"
    }
   ],
   "source": [
    "import matplotlib.pyplot as plt\n",
    "import nibabel as nib\n",
    "for run in range(1, 4):\n",
    "    bold_path = op.join(bids_root, 'sub-control01', 'func', 'sub-control01_task-music_run-{}_bold.nii.gz'.format(run))\n",
    "    bold_img = nib.load(bold_path)\n",
    "    bold_data = bold_img.get_fdata()\n",
    "    mean_data = bold_data.mean(axis=(0, 1, 2))\n",
    "    plt.plot(mean_data, label='Run {}'.format(run))\n",
    "plt.legend()\n",
    "plt.xlabel('Time (volume)')\n",
    "plt.ylabel('Mean voxel intensity')"
   ]
  },
  {
   "cell_type": "code",
   "execution_count": 26,
   "metadata": {},
   "outputs": [],
   "source": [
    "import matplotlib.pyplot as plt\n",
    "import nibabel as nib\n",
    "processed_functional_path = op.join(preproc_root, 'sub-control01', 'func')\n",
    "functional_path = op.join(bids_root, 'sub-control01', 'func')"
   ]
  },
  {
   "cell_type": "markdown",
   "metadata": {},
   "source": [
    "<h3>Correction of slice 17 in second run</h3>"
   ]
  },
  {
   "cell_type": "code",
   "execution_count": 27,
   "metadata": {},
   "outputs": [],
   "source": [
    "path_normalized_output_1 = op.join(processed_functional_path, 'sub-control01_task-music_run-1_bold_norm.nii.gz')\n",
    "path_normalized_output_2 = op.join(processed_functional_path, 'sub-control01_task-music_run-2_bold_norm_.nii.gz')\n",
    "path_normalized_output_3 = op.join(processed_functional_path, 'sub-control01_task-music_run-3_bold_norm_.nii.gz')\n",
    "functional_1_path = op.join(functional_path, 'sub-control01_task-music_run-1_bold.nii.gz')\n",
    "functional_2_path = op.join(functional_path, 'sub-control01_task-music_run-2_bold.nii.gz')\n",
    "functional_3_path = op.join(functional_path, 'sub-control01_task-music_run-3_bold.nii.gz')"
   ]
  },
  {
   "cell_type": "code",
   "execution_count": 28,
   "metadata": {},
   "outputs": [],
   "source": [
    "img = nib.load(functional_2_path)\n",
    "data = img.get_fdata()\n",
    "data[:, :, 47, 17] = np.mean(data[:, :, 46, 17])\n",
    "data = data[:, :, :, 1:]\n",
    "img_out = nib.Nifti1Image(data,img.affine, img.header)\n",
    "nib.save(img_out, op.join(functional_path, 'sub-control01_task-music_run-2_bold.nii.gz'))"
   ]
  },
  {
   "cell_type": "code",
   "execution_count": 29,
   "metadata": {},
   "outputs": [
    {
     "data": {
      "text/plain": [
       "Text(0, 0.5, 'Mean voxel intensity')"
      ]
     },
     "execution_count": 29,
     "metadata": {},
     "output_type": "execute_result"
    },
    {
     "data": {
      "image/png": "[encoded data removed]",
      "text/plain": [
       "<Figure size 640x480 with 1 Axes>"
      ]
     },
     "metadata": {},
     "output_type": "display_data"
    }
   ],
   "source": [
    "import matplotlib.pyplot as plt\n",
    "import nibabel as nib\n",
    "for run in range(1, 4):\n",
    "    bold_path = op.join(bids_root, 'sub-control01', 'func', 'sub-control01_task-music_run-{}_bold.nii.gz'.format(run))\n",
    "    bold_img = nib.load(bold_path)\n",
    "    bold_data = bold_img.get_fdata()\n",
    "    mean_data = bold_data.mean(axis=(0, 1, 2))\n",
    "    plt.plot(mean_data, label='Run {}'.format(run))\n",
    "plt.legend()\n",
    "plt.xlabel('Time (volume)')\n",
    "plt.ylabel('Mean voxel intensity')"
   ]
  },
  {
   "cell_type": "code",
   "execution_count": 30,
   "metadata": {},
   "outputs": [],
   "source": [
    "normalize_fMRI(functional_1_path, path_normalized_output_1, 200)\n",
    "normalize_fMRI(functional_2_path, path_normalized_output_2, 200)\n",
    "normalize_fMRI(functional_3_path, path_normalized_output_3, 200)"
   ]
  },
  {
   "cell_type": "code",
   "execution_count": 31,
   "metadata": {},
   "outputs": [
    {
     "data": {
      "image/png": "[encoded data removed]",
      "text/plain": [
       "<Figure size 640x480 with 1 Axes>"
      ]
     },
     "metadata": {},
     "output_type": "display_data"
    }
   ],
   "source": [
    "plt.plot(nib.load(path_normalized_output_1).get_fdata().mean(axis=(0,1,2)), label='Run 1')\n",
    "plt.plot(nib.load(path_normalized_output_2).get_fdata().mean(axis=(0,1,2)), label='Run 2')\n",
    "plt.plot(nib.load(path_normalized_output_3).get_fdata().mean(axis=(0,1,2)), label='Run 3')\n",
    "plt.xlabel('Time (volume)')\n",
    "plt.ylabel('Mean voxel intensity')\n",
    "plt.legend()\n",
    "plt.show()"
   ]
  },
  {
   "cell_type": "code",
   "execution_count": 32,
   "metadata": {},
   "outputs": [],
   "source": [
    "fsleyesDisplay.resetOverlays()\n",
    "fsleyesDisplay.load(functional_2_path)\n",
    "fsleyesDisplay.load(path_normalized_output_2)"
   ]
  },
  {
   "cell_type": "markdown",
   "metadata": {},
   "source": [
    "<h2>Concatenation of data</h2>"
   ]
  },
  {
   "cell_type": "code",
   "execution_count": 33,
   "metadata": {},
   "outputs": [],
   "source": [
    "img_1 = nib.load(path_normalized_output_1)\n",
    "data_1 = img_1.get_fdata()\n",
    "img_2 = nib.load(path_normalized_output_2)\n",
    "data_2 = img_2.get_fdata()\n",
    "img_3 = nib.load(path_normalized_output_3)\n",
    "data_3 = img_3.get_fdata()"
   ]
  },
  {
   "cell_type": "code",
   "execution_count": 34,
   "metadata": {},
   "outputs": [
    {
     "data": {
      "text/plain": [
       "((80, 80, 50, 105), (80, 80, 50, 104), (80, 80, 50, 105))"
      ]
     },
     "execution_count": 34,
     "metadata": {},
     "output_type": "execute_result"
    }
   ],
   "source": [
    "img_1.shape, img_2.shape, img_3.shape"
   ]
  },
  {
   "cell_type": "code",
   "execution_count": 35,
   "metadata": {},
   "outputs": [],
   "source": [
    "data = np.concatenate((data_1, data_2, data_3), axis = 3)"
   ]
  },
  {
   "cell_type": "code",
   "execution_count": 36,
   "metadata": {},
   "outputs": [],
   "source": [
    "functional_concatenated= op.join(functional_path, 'sub-control01_task-music_concat_bold.nii.gz')"
   ]
  },
  {
   "cell_type": "code",
   "execution_count": 37,
   "metadata": {},
   "outputs": [],
   "source": [
    "img_out = nib.Nifti1Image(data,img_1.affine, img_1.header)\n",
    "nib.save(img_out, functional_concatenated)"
   ]
  },
  {
   "cell_type": "code",
   "execution_count": 38,
   "metadata": {},
   "outputs": [],
   "source": [
    "fsleyesDisplay.resetOverlays()\n",
    "fsleyesDisplay.load(functional_concatenated)"
   ]
  },
  {
   "cell_type": "markdown",
   "metadata": {},
   "source": [
    "## Motion correction"
   ]
  },
  {
   "cell_type": "code",
   "execution_count": 39,
   "metadata": {},
   "outputs": [],
   "source": [
    "path_moco_data = op.join(preproc_root, 'sub-control01', 'func', 'sub-control01_task-music_concat_bold_moco.nii.gz')\n",
    "mcflirt(\n",
    "    infile=functional_concatenated,  # The input file (original BOLD data)\n",
    "    o=path_moco_data,           # The output file (motion-corrected data)\n",
    "    plots=True,                 # Generate plots for visualizing motion correction.\n",
    "    report=True,                # Generate a report on the motion correction process.\n",
    "    dof=6,                      # Set degrees of freedom to 6 for rigid-body transformation.\n",
    "    mats=True                   # Save the transformation matrices.\n",
    ")"
   ]
  },
  {
   "cell_type": "code",
   "execution_count": 40,
   "metadata": {},
   "outputs": [],
   "source": [
    "fsleyesDisplay.resetOverlays() \n",
    "fsleyesDisplay.load(functional_concatenated)\n",
    "fsleyesDisplay.load(path_moco_data) "
   ]
  },
  {
   "cell_type": "code",
   "execution_count": 41,
   "metadata": {},
   "outputs": [
    {
     "data": {
      "text/html": [
       "<div>\n",
       "<style scoped>\n",
       "    .dataframe tbody tr th:only-of-type {\n",
       "        vertical-align: middle;\n",
       "    }\n",
       "\n",
       "    .dataframe tbody tr th {\n",
       "        vertical-align: top;\n",
       "    }\n",
       "\n",
       "    .dataframe thead th {\n",
       "        text-align: right;\n",
       "    }\n",
       "</style>\n",
       "<table border=\"1\" class=\"dataframe\">\n",
       "  <thead>\n",
       "    <tr style=\"text-align: right;\">\n",
       "      <th></th>\n",
       "      <th>Rotation x</th>\n",
       "      <th>Rotation y</th>\n",
       "      <th>Rotation z</th>\n",
       "      <th>Translation x</th>\n",
       "      <th>Translation y</th>\n",
       "      <th>Translation z</th>\n",
       "    </tr>\n",
       "  </thead>\n",
       "  <tbody>\n",
       "    <tr>\n",
       "      <th>0</th>\n",
       "      <td>-0.002822</td>\n",
       "      <td>0.002768</td>\n",
       "      <td>0.000250</td>\n",
       "      <td>-0.068321</td>\n",
       "      <td>-0.539596</td>\n",
       "      <td>-0.540155</td>\n",
       "    </tr>\n",
       "    <tr>\n",
       "      <th>1</th>\n",
       "      <td>-0.003246</td>\n",
       "      <td>0.002395</td>\n",
       "      <td>0.000126</td>\n",
       "      <td>-0.086187</td>\n",
       "      <td>-0.514215</td>\n",
       "      <td>-0.557525</td>\n",
       "    </tr>\n",
       "    <tr>\n",
       "      <th>2</th>\n",
       "      <td>-0.002460</td>\n",
       "      <td>0.002727</td>\n",
       "      <td>0.000194</td>\n",
       "      <td>-0.066710</td>\n",
       "      <td>-0.480824</td>\n",
       "      <td>-0.535785</td>\n",
       "    </tr>\n",
       "    <tr>\n",
       "      <th>3</th>\n",
       "      <td>-0.002714</td>\n",
       "      <td>0.002677</td>\n",
       "      <td>0.000153</td>\n",
       "      <td>-0.074225</td>\n",
       "      <td>-0.495533</td>\n",
       "      <td>-0.550236</td>\n",
       "    </tr>\n",
       "    <tr>\n",
       "      <th>4</th>\n",
       "      <td>-0.002514</td>\n",
       "      <td>0.002576</td>\n",
       "      <td>0.000211</td>\n",
       "      <td>-0.088803</td>\n",
       "      <td>-0.499913</td>\n",
       "      <td>-0.568994</td>\n",
       "    </tr>\n",
       "    <tr>\n",
       "      <th>...</th>\n",
       "      <td>...</td>\n",
       "      <td>...</td>\n",
       "      <td>...</td>\n",
       "      <td>...</td>\n",
       "      <td>...</td>\n",
       "      <td>...</td>\n",
       "    </tr>\n",
       "    <tr>\n",
       "      <th>309</th>\n",
       "      <td>0.009593</td>\n",
       "      <td>-0.000060</td>\n",
       "      <td>-0.001486</td>\n",
       "      <td>-0.097600</td>\n",
       "      <td>0.373963</td>\n",
       "      <td>0.161444</td>\n",
       "    </tr>\n",
       "    <tr>\n",
       "      <th>310</th>\n",
       "      <td>0.010114</td>\n",
       "      <td>-0.000524</td>\n",
       "      <td>-0.001859</td>\n",
       "      <td>-0.098202</td>\n",
       "      <td>0.365516</td>\n",
       "      <td>0.147373</td>\n",
       "    </tr>\n",
       "    <tr>\n",
       "      <th>311</th>\n",
       "      <td>0.010016</td>\n",
       "      <td>-0.000606</td>\n",
       "      <td>-0.001797</td>\n",
       "      <td>-0.099236</td>\n",
       "      <td>0.375929</td>\n",
       "      <td>0.141203</td>\n",
       "    </tr>\n",
       "    <tr>\n",
       "      <th>312</th>\n",
       "      <td>0.010114</td>\n",
       "      <td>-0.001014</td>\n",
       "      <td>-0.001852</td>\n",
       "      <td>-0.102328</td>\n",
       "      <td>0.366555</td>\n",
       "      <td>0.131498</td>\n",
       "    </tr>\n",
       "    <tr>\n",
       "      <th>313</th>\n",
       "      <td>0.009724</td>\n",
       "      <td>-0.000377</td>\n",
       "      <td>-0.002144</td>\n",
       "      <td>-0.134522</td>\n",
       "      <td>0.341246</td>\n",
       "      <td>0.118891</td>\n",
       "    </tr>\n",
       "  </tbody>\n",
       "</table>\n",
       "<p>314 rows × 6 columns</p>\n",
       "</div>"
      ],
      "text/plain": [
       "     Rotation x  Rotation y  Rotation z  Translation x  Translation y  \\\n",
       "0     -0.002822    0.002768    0.000250      -0.068321      -0.539596   \n",
       "1     -0.003246    0.002395    0.000126      -0.086187      -0.514215   \n",
       "2     -0.002460    0.002727    0.000194      -0.066710      -0.480824   \n",
       "3     -0.002714    0.002677    0.000153      -0.074225      -0.495533   \n",
       "4     -0.002514    0.002576    0.000211      -0.088803      -0.499913   \n",
       "..          ...         ...         ...            ...            ...   \n",
       "309    0.009593   -0.000060   -0.001486      -0.097600       0.373963   \n",
       "310    0.010114   -0.000524   -0.001859      -0.098202       0.365516   \n",
       "311    0.010016   -0.000606   -0.001797      -0.099236       0.375929   \n",
       "312    0.010114   -0.001014   -0.001852      -0.102328       0.366555   \n",
       "313    0.009724   -0.000377   -0.002144      -0.134522       0.341246   \n",
       "\n",
       "     Translation z  \n",
       "0        -0.540155  \n",
       "1        -0.557525  \n",
       "2        -0.535785  \n",
       "3        -0.550236  \n",
       "4        -0.568994  \n",
       "..             ...  \n",
       "309       0.161444  \n",
       "310       0.147373  \n",
       "311       0.141203  \n",
       "312       0.131498  \n",
       "313       0.118891  \n",
       "\n",
       "[314 rows x 6 columns]"
      ]
     },
     "execution_count": 41,
     "metadata": {},
     "output_type": "execute_result"
    }
   ],
   "source": [
    "mot_params = load_mot_params_fsl_6_dof(op.join(preproc_root, 'sub-control01', 'func', 'sub-control01_task-music_concat_bold_moco.nii.gz.par')) \n",
    "mot_params"
   ]
  },
  {
   "cell_type": "markdown",
   "metadata": {},
   "source": [
    "Based on **translation on X alone**, can you find perhaps a volume which exceeds with respect to the **preceding volume** a 0.2 mm displacement?"
   ]
  },
  {
   "cell_type": "code",
   "execution_count": 42,
   "metadata": {},
   "outputs": [
    {
     "data": {
      "image/png": "[encoded data removed]",
      "text/plain": [
       "<Figure size 640x480 with 1 Axes>"
      ]
     },
     "metadata": {},
     "output_type": "display_data"
    }
   ],
   "source": [
    "trans_x = mot_params[\"Translation x\"] # Getting the translation on X\n",
    "# Now, we want a 0.2mm with respect to previous frame:\n",
    "disp_x = np.diff(trans_x) # Getting the displacement on X. We use np.diff to calculate the difference between consecutive elements in the translation on X.\n",
    "# Lastly, we can ask for displacements (in absolute value) above 0.2mm and plot it to be clear:\n",
    "threshold=0.2 \n",
    "plt.plot(np.abs(disp_x))\n",
    "plt.hlines(threshold, 0, len(disp_x),colors='black', linestyles='dashed', label='FD threshold')\n",
    "plt.xlabel(\"Volumes\")\n",
    "plt.ylabel(\"Framewise translation displacement (mm)\")\n",
    "plt.show()"
   ]
  },
  {
   "cell_type": "markdown",
   "metadata": {},
   "source": [
    "Now, we can use the code below to extract an aggregate measure of motion for all volumes. "
   ]
  },
  {
   "cell_type": "code",
   "execution_count": 43,
   "metadata": {},
   "outputs": [],
   "source": [
    "fd = compute_FD_power(mot_params).to_numpy()"
   ]
  },
  {
   "cell_type": "code",
   "execution_count": 44,
   "metadata": {},
   "outputs": [],
   "source": [
    "threshold = np.quantile(fd,0.75) + 1.5*(np.quantile(fd,0.75) - np.quantile(fd,0.25))"
   ]
  },
  {
   "cell_type": "code",
   "execution_count": 45,
   "metadata": {},
   "outputs": [
    {
     "data": {
      "application/vnd.plotly.v1+json": {
       "config": {
        "plotlyServerURL": "https://plot.ly"
       },
       "data": [
        {
         "hovertemplate": "Volume=%{x}<br>FD displacement (mm)=%{y}<extra></extra>",
         "legendgroup": "",
         "line": {
          "color": "#636efa",
          "dash": "solid"
         },
         "marker": {
          "symbol": "circle"
         },
         "mode": "lines",
         "name": "",
         "orientation": "v",
         "showlegend": false,
         "type": "scatter",
         "x": [
          1,
          2,
          3,
          4,
          5,
          6,
          7,
          8,
          9,
          10,
          11,
          12,
          13,
          14,
          15,
          16,
          17,
          18,
          19,
          20,
          21,
          22,
          23,
          24,
          25,
          26,
          27,
          28,
          29,
          30,
          31,
          32,
          33,
          34,
          35,
          36,
          37,
          38,
          39,
          40,
          41,
          42,
          43,
          44,
          45,
          46,
          47,
          48,
          49,
          50,
          51,
          52,
          53,
          54,
          55,
          56,
          57,
          58,
          59,
          60,
          61,
          62,
          63,
          64,
          65,
          66,
          67,
          68,
          69,
          70,
          71,
          72,
          73,
          74,
          75,
          76,
          77,
          78,
          79,
          80,
          81,
          82,
          83,
          84,
          85,
          86,
          87,
          88,
          89,
          90,
          91,
          92,
          93,
          94,
          95,
          96,
          97,
          98,
          99,
          100,
          101,
          102,
          103,
          104,
          105,
          106,
          107,
          108,
          109,
          110,
          111,
          112,
          113,
          114,
          115,
          116,
          117,
          118,
          119,
          120,
          121,
          122,
          123,
          124,
          125,
          126,
          127,
          128,
          129,
          130,
          131,
          132,
          133,
          134,
          135,
          136,
          137,
          138,
          139,
          140,
          141,
          142,
          143,
          144,
          145,
          146,
          147,
          148,
          149,
          150,
          151,
          152,
          153,
          154,
          155,
          156,
          157,
          158,
          159,
          160,
          161,
          162,
          163,
          164,
          165,
          166,
          167,
          168,
          169,
          170,
          171,
          172,
          173,
          174,
          175,
          176,
          177,
          178,
          179,
          180,
          181,
          182,
          183,
          184,
          185,
          186,
          187,
          188,
          189,
          190,
          191,
          192,
          193,
          194,
          195,
          196,
          197,
          198,
          199,
          200,
          201,
          202,
          203,
          204,
          205,
          206,
          207,
          208,
          209,
          210,
          211,
          212,
          213,
          214,
          215,
          216,
          217,
          218,
          219,
          220,
          221,
          222,
          223,
          224,
          225,
          226,
          227,
          228,
          229,
          230,
          231,
          232,
          233,
          234,
          235,
          236,
          237,
          238,
          239,
          240,
          241,
          242,
          243,
          244,
          245,
          246,
          247,
          248,
          249,
          250,
          251,
          252,
          253,
          254,
          255,
          256,
          257,
          258,
          259,
          260,
          261,
          262,
          263,
          264,
          265,
          266,
          267,
          268,
          269,
          270,
          271,
          272,
          273,
          274,
          275,
          276,
          277,
          278,
          279,
          280,
          281,
          282,
          283,
          284,
          285,
          286,
          287,
          288,
          289,
          290,
          291,
          292,
          293,
          294,
          295,
          296,
          297,
          298,
          299,
          300,
          301,
          302,
          303,
          304,
          305,
          306,
          307,
          308,
          309,
          310,
          311,
          312,
          313
         ],
         "xaxis": "x",
         "y": [
          0.10664909999999998,
          0.13388380000000014,
          0.053891550000000024,
          0.05562715000000004,
          0.0723056499999999,
          0.11635465,
          0.15208755000000013,
          0.1043158,
          0.15099819999999997,
          0.05002975000000001,
          0.10652160000000001,
          0.06974734000000002,
          0.12019271000000004,
          0.07065564999999999,
          0.06280425000000006,
          0.09308045000000001,
          0.07286200000000001,
          0.07570525,
          0.14171795000000006,
          0.11317099999999998,
          0.08122680000000002,
          0.0962892,
          0.08804435000000005,
          0.06518319999999991,
          0.08550345000000001,
          0.13633545,
          0.08615409999999996,
          0.10524820000000001,
          0.15751730000000005,
          0.14861035000000003,
          0.03897159999999998,
          0.11305468000000003,
          0.08528097000000004,
          0.053316480000000006,
          0.07392832000000002,
          0.06966054999999999,
          0.09402699999999994,
          0.021005730000000042,
          0.10463132000000001,
          0.12927895,
          0.09774045,
          0.08166890000000006,
          0.0570128,
          0.1226108,
          0.06657709999999997,
          0.07418034999999995,
          0.09006910000000003,
          0.10852250000000008,
          0.09921130000000003,
          0.09559970000000001,
          0.031698500000000025,
          0.03215615000000002,
          0.10485979999999998,
          0.05068905,
          0.09257405000000005,
          0.13688290000000009,
          0.06454360000000005,
          0.07788235000000009,
          0.04224759999999999,
          0.07429680000000004,
          0.06297765,
          0.10633754999999998,
          0.10175430000000002,
          0.0661227,
          0.053158800000000006,
          0.08704905000000004,
          0.04232504999999994,
          0.06067360000000003,
          0.07531035,
          0.08951595000000001,
          0.18264360000000002,
          0.1208925,
          0.08463030000000005,
          0.10326819999999998,
          0.06748990000000005,
          0.082942,
          0.10321235000000002,
          0.07857625000000003,
          0.033395299999999975,
          0.0580673,
          0.03464905,
          0.06006014999999999,
          0.07467044999999994,
          0.10307510000000002,
          0.0803602,
          0.11002585000000002,
          0.0848312,
          0.07154865000000005,
          0.08671430000000008,
          0.05860339999999995,
          0.04744039999999998,
          0.08338029999999996,
          0.08397034999999997,
          0.09812580000000001,
          0.06587700000000002,
          0.07752724999999999,
          0.059291299999999984,
          0.0257972,
          0.09494205,
          0.07864184999999996,
          0.10417749999999998,
          0.08509189999999997,
          0.07881065000000001,
          0.08265145000000003,
          0.3246363,
          0.10109065,
          0.10681934999999998,
          0.11814670000000002,
          0.067347225,
          0.05092162600000003,
          0.03901022900000006,
          0.13739166499999997,
          0.13558704499999996,
          0.06986623,
          0.06704213000000005,
          0.06794069999999997,
          0.06653769999999996,
          0.08002420000000002,
          0.06509195000000001,
          0.09143480000000001,
          0.11205365000000003,
          0.054695599999999976,
          0.09961175,
          0.11483474999999999,
          0.09394183999999994,
          0.06593486,
          0.09574625,
          0.06686254999999997,
          0.09049545000000003,
          0.1268224005,
          0.0582814505,
          0.07306855000000004,
          0.10740460000000002,
          0.12227770000000004,
          0.11431079999999995,
          0.07270673499999997,
          0.08346526499999997,
          0.06679245000000002,
          0.06842151400000002,
          0.09977646400000001,
          0.09262153500000002,
          0.07782874000000002,
          0.09906127500000002,
          0.11065554999999999,
          0.062363550000000004,
          0.07838565,
          0.02735850000000002,
          0.06729234999999997,
          0.099645621,
          0.059895321,
          0.05922439999999998,
          0.04060229499999998,
          0.012692865000000005,
          0.09661500053,
          0.05597373342999999,
          0.10112115290000001,
          0.14595112999999998,
          0.07873310359999999,
          0.0764480514,
          0.0700184011,
          0.04676998450000001,
          0.1273915984,
          0.08576939478000001,
          0.17353326582000003,
          0.07368656739999999,
          0.10480542940000001,
          0.04505486260000001,
          0.14136029,
          0.0843091391,
          0.016206744700000008,
          0.0651522194,
          0.15397197499999998,
          0.1446731787,
          0.06633469772999999,
          0.05516418472999998,
          0.03431834169999999,
          0.070472485,
          0.0764611248,
          0.04897934979999999,
          0.0445695,
          0.1104368,
          0.11420602810000001,
          0.09670176080000001,
          0.1296510827,
          0.14520634999999998,
          0.09967265499999999,
          0.07735619,
          0.10461316499999998,
          0.14281821,
          0.10433935,
          0.10358476999999999,
          0.12077072999999998,
          0.12549651500000003,
          0.11185005,
          0.126776157,
          0.10903168200000002,
          0.026259445000000006,
          0.08626498999999997,
          0.16332682999999998,
          0.03892122499999999,
          0.106000715,
          0.06043425999999996,
          0.11369503499999999,
          0.12033032,
          0.05930067999999997,
          0.0690608,
          0.04401229000000001,
          0.07764229000000003,
          0.8506802600000001,
          0.07649585,
          0.09075955000000001,
          0.10619405000000001,
          0.12719545000000004,
          0.09581535000000001,
          0.04940775,
          0.14022157400000002,
          0.07488146600000005,
          0.15489234000000002,
          0.11311774999999996,
          0.09658122999999998,
          0.05756278000000004,
          0.11258837400000003,
          0.14256217599999998,
          0.18794634999999998,
          0.11544559999999998,
          0.0924026,
          0.14542509999999997,
          0.1817737,
          0.10647806999999998,
          0.071465933,
          0.08273879800000002,
          0.07930029900000002,
          0.08259054999999998,
          0.11017745,
          0.12119975,
          0.16033265000000005,
          0.07117445000000008,
          0.07772245,
          0.059865100000000025,
          0.12155145000000006,
          0.06673879999999996,
          0.09742875,
          0.08531615000000002,
          0.0333246,
          0.054338849999999994,
          0.05134830000000001,
          0.04049640000000003,
          0.0823826,
          0.04993564999999999,
          0.06987630000000002,
          0.08185494999999995,
          0.06784499999999997,
          0.11530710000000001,
          0.08144575000000001,
          0.10464844999999998,
          0.12492975,
          0.08395085000000002,
          0.14338455,
          0.12878085000000003,
          0.07462629999999999,
          0.09629690000000005,
          0.07870470000000003,
          0.08139715000000003,
          0.06755795,
          0.08995385,
          0.046210700000000035,
          0.09263201,
          0.23224004000000004,
          0.20201610000000003,
          0.08058730000000004,
          0.17210399999999998,
          0.09610164999999998,
          0.10045389999999993,
          0.22849224999999992,
          0.142401,
          0.08903350000000002,
          0.14780306,
          0.10886506000000001,
          0.05944934000000004,
          0.11791853999999997,
          0.14472659999999998,
          0.12790600000000002,
          0.12423490000000004,
          0.08452780000000007,
          0.11095100000000006,
          0.07854230000000004,
          0.0978046,
          0.04937659999999999,
          0.05533450000000001,
          0.09348389999999991,
          0.08681750000000005,
          0.043706800000000066,
          0.17908509999999997,
          0.13391309999999995,
          0.042118900000000056,
          0.0690424,
          0.06141389999999998,
          0.11396330000000002,
          0.0859831,
          0.13486940000000003,
          0.17543860000000003,
          0.09770009999999994,
          0.050370449999999956,
          0.11479900000000001,
          0.12387254999999991,
          0.13004369999999998,
          0.102396,
          0.1151430999999999,
          0.1347759949999999,
          0.09104014500000006,
          0.02974980000000002,
          0.05030515000000001,
          0.13605730000000008
         ],
         "yaxis": "y"
        }
       ],
       "layout": {
        "annotations": [
         {
          "showarrow": false,
          "text": "FD threshold",
          "x": 1,
          "xanchor": "right",
          "xref": "x domain",
          "y": 0.18090774,
          "yanchor": "top",
          "yref": "y"
         }
        ],
        "legend": {
         "tracegroupgap": 0
        },
        "margin": {
         "t": 60
        },
        "shapes": [
         {
          "line": {
           "dash": "dash"
          },
          "type": "line",
          "x0": 0,
          "x1": 1,
          "xref": "x domain",
          "y0": 0.18090774,
          "y1": 0.18090774,
          "yref": "y"
         }
        ],
        "template": {
         "data": {
          "bar": [
           {
            "error_x": {
             "color": "#2a3f5f"
            },
            "error_y": {
             "color": "#2a3f5f"
            },
            "marker": {
             "line": {
              "color": "#E5ECF6",
              "width": 0.5
             },
             "pattern": {
              "fillmode": "overlay",
              "size": 10,
              "solidity": 0.2
             }
            },
            "type": "bar"
           }
          ],
          "barpolar": [
           {
            "marker": {
             "line": {
              "color": "#E5ECF6",
              "width": 0.5
             },
             "pattern": {
              "fillmode": "overlay",
              "size": 10,
              "solidity": 0.2
             }
            },
            "type": "barpolar"
           }
          ],
          "carpet": [
           {
            "aaxis": {
             "endlinecolor": "#2a3f5f",
             "gridcolor": "white",
             "linecolor": "white",
             "minorgridcolor": "white",
             "startlinecolor": "#2a3f5f"
            },
            "baxis": {
             "endlinecolor": "#2a3f5f",
             "gridcolor": "white",
             "linecolor": "white",
             "minorgridcolor": "white",
             "startlinecolor": "#2a3f5f"
            },
            "type": "carpet"
           }
          ],
          "choropleth": [
           {
            "colorbar": {
             "outlinewidth": 0,
             "ticks": ""
            },
            "type": "choropleth"
           }
          ],
          "contour": [
           {
            "colorbar": {
             "outlinewidth": 0,
             "ticks": ""
            },
            "colorscale": [
             [
              0,
              "#0d0887"
             ],
             [
              0.1111111111111111,
              "#46039f"
             ],
             [
              0.2222222222222222,
              "#7201a8"
             ],
             [
              0.3333333333333333,
              "#9c179e"
             ],
             [
              0.4444444444444444,
              "#bd3786"
             ],
             [
              0.5555555555555556,
              "#d8576b"
             ],
             [
              0.6666666666666666,
              "#ed7953"
             ],
             [
              0.7777777777777778,
              "#fb9f3a"
             ],
             [
              0.8888888888888888,
              "#fdca26"
             ],
             [
              1,
              "#f0f921"
             ]
            ],
            "type": "contour"
           }
          ],
          "contourcarpet": [
           {
            "colorbar": {
             "outlinewidth": 0,
             "ticks": ""
            },
            "type": "contourcarpet"
           }
          ],
          "heatmap": [
           {
            "colorbar": {
             "outlinewidth": 0,
             "ticks": ""
            },
            "colorscale": [
             [
              0,
              "#0d0887"
             ],
             [
              0.1111111111111111,
              "#46039f"
             ],
             [
              0.2222222222222222,
              "#7201a8"
             ],
             [
              0.3333333333333333,
              "#9c179e"
             ],
             [
              0.4444444444444444,
              "#bd3786"
             ],
             [
              0.5555555555555556,
              "#d8576b"
             ],
             [
              0.6666666666666666,
              "#ed7953"
             ],
             [
              0.7777777777777778,
              "#fb9f3a"
             ],
             [
              0.8888888888888888,
              "#fdca26"
             ],
             [
              1,
              "#f0f921"
             ]
            ],
            "type": "heatmap"
           }
          ],
          "heatmapgl": [
           {
            "colorbar": {
             "outlinewidth": 0,
             "ticks": ""
            },
            "colorscale": [
             [
              0,
              "#0d0887"
             ],
             [
              0.1111111111111111,
              "#46039f"
             ],
             [
              0.2222222222222222,
              "#7201a8"
             ],
             [
              0.3333333333333333,
              "#9c179e"
             ],
             [
              0.4444444444444444,
              "#bd3786"
             ],
             [
              0.5555555555555556,
              "#d8576b"
             ],
             [
              0.6666666666666666,
              "#ed7953"
             ],
             [
              0.7777777777777778,
              "#fb9f3a"
             ],
             [
              0.8888888888888888,
              "#fdca26"
             ],
             [
              1,
              "#f0f921"
             ]
            ],
            "type": "heatmapgl"
           }
          ],
          "histogram": [
           {
            "marker": {
             "pattern": {
              "fillmode": "overlay",
              "size": 10,
              "solidity": 0.2
             }
            },
            "type": "histogram"
           }
          ],
          "histogram2d": [
           {
            "colorbar": {
             "outlinewidth": 0,
             "ticks": ""
            },
            "colorscale": [
             [
              0,
              "#0d0887"
             ],
             [
              0.1111111111111111,
              "#46039f"
             ],
             [
              0.2222222222222222,
              "#7201a8"
             ],
             [
              0.3333333333333333,
              "#9c179e"
             ],
             [
              0.4444444444444444,
              "#bd3786"
             ],
             [
              0.5555555555555556,
              "#d8576b"
             ],
             [
              0.6666666666666666,
              "#ed7953"
             ],
             [
              0.7777777777777778,
              "#fb9f3a"
             ],
             [
              0.8888888888888888,
              "#fdca26"
             ],
             [
              1,
              "#f0f921"
             ]
            ],
            "type": "histogram2d"
           }
          ],
          "histogram2dcontour": [
           {
            "colorbar": {
             "outlinewidth": 0,
             "ticks": ""
            },
            "colorscale": [
             [
              0,
              "#0d0887"
             ],
             [
              0.1111111111111111,
              "#46039f"
             ],
             [
              0.2222222222222222,
              "#7201a8"
             ],
             [
              0.3333333333333333,
              "#9c179e"
             ],
             [
              0.4444444444444444,
              "#bd3786"
             ],
             [
              0.5555555555555556,
              "#d8576b"
             ],
             [
              0.6666666666666666,
              "#ed7953"
             ],
             [
              0.7777777777777778,
              "#fb9f3a"
             ],
             [
              0.8888888888888888,
              "#fdca26"
             ],
             [
              1,
              "#f0f921"
             ]
            ],
            "type": "histogram2dcontour"
           }
          ],
          "mesh3d": [
           {
            "colorbar": {
             "outlinewidth": 0,
             "ticks": ""
            },
            "type": "mesh3d"
           }
          ],
          "parcoords": [
           {
            "line": {
             "colorbar": {
              "outlinewidth": 0,
              "ticks": ""
             }
            },
            "type": "parcoords"
           }
          ],
          "pie": [
           {
            "automargin": true,
            "type": "pie"
           }
          ],
          "scatter": [
           {
            "fillpattern": {
             "fillmode": "overlay",
             "size": 10,
             "solidity": 0.2
            },
            "type": "scatter"
           }
          ],
          "scatter3d": [
           {
            "line": {
             "colorbar": {
              "outlinewidth": 0,
              "ticks": ""
             }
            },
            "marker": {
             "colorbar": {
              "outlinewidth": 0,
              "ticks": ""
             }
            },
            "type": "scatter3d"
           }
          ],
          "scattercarpet": [
           {
            "marker": {
             "colorbar": {
              "outlinewidth": 0,
              "ticks": ""
             }
            },
            "type": "scattercarpet"
           }
          ],
          "scattergeo": [
           {
            "marker": {
             "colorbar": {
              "outlinewidth": 0,
              "ticks": ""
             }
            },
            "type": "scattergeo"
           }
          ],
          "scattergl": [
           {
            "marker": {
             "colorbar": {
              "outlinewidth": 0,
              "ticks": ""
             }
            },
            "type": "scattergl"
           }
          ],
          "scattermapbox": [
           {
            "marker": {
             "colorbar": {
              "outlinewidth": 0,
              "ticks": ""
             }
            },
            "type": "scattermapbox"
           }
          ],
          "scatterpolar": [
           {
            "marker": {
             "colorbar": {
              "outlinewidth": 0,
              "ticks": ""
             }
            },
            "type": "scatterpolar"
           }
          ],
          "scatterpolargl": [
           {
            "marker": {
             "colorbar": {
              "outlinewidth": 0,
              "ticks": ""
             }
            },
            "type": "scatterpolargl"
           }
          ],
          "scatterternary": [
           {
            "marker": {
             "colorbar": {
              "outlinewidth": 0,
              "ticks": ""
             }
            },
            "type": "scatterternary"
           }
          ],
          "surface": [
           {
            "colorbar": {
             "outlinewidth": 0,
             "ticks": ""
            },
            "colorscale": [
             [
              0,
              "#0d0887"
             ],
             [
              0.1111111111111111,
              "#46039f"
             ],
             [
              0.2222222222222222,
              "#7201a8"
             ],
             [
              0.3333333333333333,
              "#9c179e"
             ],
             [
              0.4444444444444444,
              "#bd3786"
             ],
             [
              0.5555555555555556,
              "#d8576b"
             ],
             [
              0.6666666666666666,
              "#ed7953"
             ],
             [
              0.7777777777777778,
              "#fb9f3a"
             ],
             [
              0.8888888888888888,
              "#fdca26"
             ],
             [
              1,
              "#f0f921"
             ]
            ],
            "type": "surface"
           }
          ],
          "table": [
           {
            "cells": {
             "fill": {
              "color": "#EBF0F8"
             },
             "line": {
              "color": "white"
             }
            },
            "header": {
             "fill": {
              "color": "#C8D4E3"
             },
             "line": {
              "color": "white"
             }
            },
            "type": "table"
           }
          ]
         },
         "layout": {
          "annotationdefaults": {
           "arrowcolor": "#2a3f5f",
           "arrowhead": 0,
           "arrowwidth": 1
          },
          "autotypenumbers": "strict",
          "coloraxis": {
           "colorbar": {
            "outlinewidth": 0,
            "ticks": ""
           }
          },
          "colorscale": {
           "diverging": [
            [
             0,
             "#8e0152"
            ],
            [
             0.1,
             "#c51b7d"
            ],
            [
             0.2,
             "#de77ae"
            ],
            [
             0.3,
             "#f1b6da"
            ],
            [
             0.4,
             "#fde0ef"
            ],
            [
             0.5,
             "#f7f7f7"
            ],
            [
             0.6,
             "#e6f5d0"
            ],
            [
             0.7,
             "#b8e186"
            ],
            [
             0.8,
             "#7fbc41"
            ],
            [
             0.9,
             "#4d9221"
            ],
            [
             1,
             "#276419"
            ]
           ],
           "sequential": [
            [
             0,
             "#0d0887"
            ],
            [
             0.1111111111111111,
             "#46039f"
            ],
            [
             0.2222222222222222,
             "#7201a8"
            ],
            [
             0.3333333333333333,
             "#9c179e"
            ],
            [
             0.4444444444444444,
             "#bd3786"
            ],
            [
             0.5555555555555556,
             "#d8576b"
            ],
            [
             0.6666666666666666,
             "#ed7953"
            ],
            [
             0.7777777777777778,
             "#fb9f3a"
            ],
            [
             0.8888888888888888,
             "#fdca26"
            ],
            [
             1,
             "#f0f921"
            ]
           ],
           "sequentialminus": [
            [
             0,
             "#0d0887"
            ],
            [
             0.1111111111111111,
             "#46039f"
            ],
            [
             0.2222222222222222,
             "#7201a8"
            ],
            [
             0.3333333333333333,
             "#9c179e"
            ],
            [
             0.4444444444444444,
             "#bd3786"
            ],
            [
             0.5555555555555556,
             "#d8576b"
            ],
            [
             0.6666666666666666,
             "#ed7953"
            ],
            [
             0.7777777777777778,
             "#fb9f3a"
            ],
            [
             0.8888888888888888,
             "#fdca26"
            ],
            [
             1,
             "#f0f921"
            ]
           ]
          },
          "colorway": [
           "#636efa",
           "#EF553B",
           "#00cc96",
           "#ab63fa",
           "#FFA15A",
           "#19d3f3",
           "#FF6692",
           "#B6E880",
           "#FF97FF",
           "#FECB52"
          ],
          "font": {
           "color": "#2a3f5f"
          },
          "geo": {
           "bgcolor": "white",
           "lakecolor": "white",
           "landcolor": "#E5ECF6",
           "showlakes": true,
           "showland": true,
           "subunitcolor": "white"
          },
          "hoverlabel": {
           "align": "left"
          },
          "hovermode": "closest",
          "mapbox": {
           "style": "light"
          },
          "paper_bgcolor": "white",
          "plot_bgcolor": "#E5ECF6",
          "polar": {
           "angularaxis": {
            "gridcolor": "white",
            "linecolor": "white",
            "ticks": ""
           },
           "bgcolor": "#E5ECF6",
           "radialaxis": {
            "gridcolor": "white",
            "linecolor": "white",
            "ticks": ""
           }
          },
          "scene": {
           "xaxis": {
            "backgroundcolor": "#E5ECF6",
            "gridcolor": "white",
            "gridwidth": 2,
            "linecolor": "white",
            "showbackground": true,
            "ticks": "",
            "zerolinecolor": "white"
           },
           "yaxis": {
            "backgroundcolor": "#E5ECF6",
            "gridcolor": "white",
            "gridwidth": 2,
            "linecolor": "white",
            "showbackground": true,
            "ticks": "",
            "zerolinecolor": "white"
           },
           "zaxis": {
            "backgroundcolor": "#E5ECF6",
            "gridcolor": "white",
            "gridwidth": 2,
            "linecolor": "white",
            "showbackground": true,
            "ticks": "",
            "zerolinecolor": "white"
           }
          },
          "shapedefaults": {
           "line": {
            "color": "#2a3f5f"
           }
          },
          "ternary": {
           "aaxis": {
            "gridcolor": "white",
            "linecolor": "white",
            "ticks": ""
           },
           "baxis": {
            "gridcolor": "white",
            "linecolor": "white",
            "ticks": ""
           },
           "bgcolor": "#E5ECF6",
           "caxis": {
            "gridcolor": "white",
            "linecolor": "white",
            "ticks": ""
           }
          },
          "title": {
           "x": 0.05
          },
          "xaxis": {
           "automargin": true,
           "gridcolor": "white",
           "linecolor": "white",
           "ticks": "",
           "title": {
            "standoff": 15
           },
           "zerolinecolor": "white",
           "zerolinewidth": 2
          },
          "yaxis": {
           "automargin": true,
           "gridcolor": "white",
           "linecolor": "white",
           "ticks": "",
           "title": {
            "standoff": 15
           },
           "zerolinecolor": "white",
           "zerolinewidth": 2
          }
         }
        },
        "xaxis": {
         "anchor": "y",
         "domain": [
          0,
          1
         ],
         "title": {
          "text": "Volume"
         }
        },
        "yaxis": {
         "anchor": "x",
         "domain": [
          0,
          1
         ],
         "title": {
          "text": "FD displacement (mm)"
         }
        }
       }
      }
     },
     "metadata": {},
     "output_type": "display_data"
    }
   ],
   "source": [
    "import plotly.express as px\n",
    "\n",
    "fig = px.line(x=list(range(1, fd.size+1)), y=fd, labels={'x': 'Volume', 'y': 'FD displacement (mm)'})\n",
    "fig.add_hline(y=threshold, line_dash=\"dash\", annotation_text=\"FD threshold\", annotation_position=\"bottom right\")\n",
    "fig.show()"
   ]
  },
  {
   "cell_type": "code",
   "execution_count": 46,
   "metadata": {},
   "outputs": [
    {
     "data": {
      "text/plain": [
       "array([ 71, 105, 209, 224, 228, 268, 269, 274])"
      ]
     },
     "execution_count": 46,
     "metadata": {},
     "output_type": "execute_result"
    }
   ],
   "source": [
    "# Volume indices where FD is above the threshold\n",
    "np.where(fd > threshold)[0] + 1 "
   ]
  },
  {
   "cell_type": "code",
   "execution_count": 47,
   "metadata": {},
   "outputs": [],
   "source": [
    "#FIXME THERE ARE VOLUMES TO BE REMOVED"
   ]
  },
  {
   "cell_type": "markdown",
   "metadata": {},
   "source": [
    "# Coregistration of functional to anatomical"
   ]
  },
  {
   "cell_type": "code",
   "execution_count": 5,
   "metadata": {},
   "outputs": [],
   "source": [
    "from fsl.wrappers import epi_reg\n",
    "\n",
    "\n",
    "epi_target = op.join(preproc_root, 'sub-control01', 'func', 'sub-control01_task-music_concat_bold_moco.nii.gz')\n",
    "whole_t1 = op.join(bids_root, 'sub-control01', 'anat', 'sub-control01_T1w')\n",
    "skull_stripped_t1 = op.join(preproc_root, 'sub-control01', 'anat', 'sub-control01_T1w') \n",
    "output_path = op.join(preproc_root, 'sub-control01', 'func', 'sub-control01_task-music_concat_bold_moco_bbr')\n",
    "ref_vol_name = op.join(preproc_root, 'sub-control01', 'func', 'sub-control01_task-music_concat_bold_moco_vol_middle') "
   ]
  },
  {
   "cell_type": "code",
   "execution_count": 49,
   "metadata": {},
   "outputs": [
    {
     "data": {
      "text/plain": [
       "CompletedProcess(args=['fslsplit', './data/ds000171/derivatives/preprocessed_data/sub-control01/func/sub-control01_task-music_concat_bold_moco.nii.gz', './data/ds000171/derivatives/preprocessed_data/sub-control01/func/splits/sub-control01_task-music_concat_bold_moco_split', '-t'], returncode=-6)"
      ]
     },
     "execution_count": 49,
     "metadata": {},
     "output_type": "execute_result"
    }
   ],
   "source": [
    "split_target = op.join(preproc_root, 'sub-control01', 'func', 'sub-control01_task-music_concat_bold_moco.nii.gz')\n",
    "split_name = op.join(preproc_root, 'sub-control01', 'func', 'splits','sub-control01_task-music_concat_bold_moco_split')\n",
    "subprocess.run(['fslsplit', split_target, split_name, '-t'])"
   ]
  },
  {
   "cell_type": "code",
   "execution_count": 50,
   "metadata": {},
   "outputs": [
    {
     "name": "stdout",
     "output_type": "stream",
     "text": [
      "Running FAST segmentation\n",
      "FLIRT pre-alignment\n",
      "Running BBR\n",
      "0.253728 0.999301 -0.037346 -0.001768 0.000000 0.037357 0.999281 0.006432 0.000000 0.001527 -0.006493 0.999978 0.000000 -5.102015 8.856446 -0.825358 1.000000 \n"
     ]
    }
   ],
   "source": [
    "use_single_vol = True\n",
    "\n",
    "if use_single_vol:\n",
    "\n",
    "    fslroi(epi_target, ref_vol_name, str(150), str(1))\n",
    "    \n",
    "    # Run epi_reg to register the extracted middle EPI volume to the T1-weighted anatomical image.\n",
    "    subprocess.run([\n",
    "        'epi_reg',\n",
    "        '--epi={}'.format(ref_vol_name),  # The EPI image (middle volume) to be registered.\n",
    "        '--t1={}'.format(whole_t1),       # The whole, non-skull-stripped T1-weighted image.\n",
    "        '--t1brain={}'.format(skull_stripped_t1),  # The skull-stripped T1-weighted image.\n",
    "        '--out={}'.format(output_path)    # The output path where the registered image will be saved.\n",
    "    ])\n",
    "else:\n",
    "    # If not using a single volume, register the entire motion-corrected EPI series to the T1-weighted anatomical image.\n",
    "    subprocess.run([\n",
    "        'epi_reg',\n",
    "        '--epi={}'.format(epi_target),    # The full motion-corrected EPI image (all volumes).\n",
    "        '--t1={}'.format(whole_t1),       # The whole, non-skull-stripped T1-weighted image.\n",
    "        '--t1brain={}'.format(skull_stripped_t1),  # The skull-stripped T1-weighted image.\n",
    "        '--out={}'.format(output_path),    # The output path where the registered image will be saved.\n",
    "    ])\n"
   ]
  },
  {
   "cell_type": "code",
   "execution_count": 117,
   "metadata": {},
   "outputs": [
    {
     "data": {
      "text/plain": [
       "'./data/ds000171/derivatives/preprocessed_data/sub-control01/func/sub-control01_task-music_concat_bold_moco.nii.gz'"
      ]
     },
     "execution_count": 117,
     "metadata": {},
     "output_type": "execute_result"
    }
   ],
   "source": [
    "epi_target"
   ]
  },
  {
   "cell_type": "code",
   "execution_count": 7,
   "metadata": {},
   "outputs": [],
   "source": [
    "fsleyesDisplay.resetOverlays()\n",
    "fsleyesDisplay.load(skull_stripped_t1)\n",
    "fsleyesDisplay.load(epi_target)\n",
    "fsleyesDisplay.load(output_path)\n",
    "fsleyesDisplay.load(resultAnts)\n"
   ]
  },
  {
   "cell_type": "code",
   "execution_count": 6,
   "metadata": {},
   "outputs": [
    {
     "name": "stderr",
     "output_type": "stream",
     "text": [
      "\n",
      "(ipykernel_launcher.py:268948): Gtk-WARNING **: 00:23:08.723: Negative content width -1 (allocation 1, extents 1x1) while allocating gadget (node spinbutton, owner GtkSpinButton)\n",
      "\n",
      "(ipykernel_launcher.py:268948): Gtk-WARNING **: 00:23:08.723: for_size smaller than min-size (1 < 32) while measuring gadget (node entry, owner GtkSpinButton)\n",
      "\n",
      "(ipykernel_launcher.py:268948): Gtk-WARNING **: 00:23:08.723: for_size smaller than min-size (1 < 16) while measuring gadget (node button, owner GtkSpinButton)\n",
      "\n",
      "(ipykernel_launcher.py:268948): Gtk-WARNING **: 00:23:08.723: for_size smaller than min-size (1 < 16) while measuring gadget (node button, owner GtkSpinButton)\n",
      "\n",
      "(ipykernel_launcher.py:268948): Gtk-WARNING **: 00:23:08.765: Negative content width -1 (allocation 1, extents 1x1) while allocating gadget (node spinbutton, owner GtkSpinButton)\n",
      "\n",
      "(ipykernel_launcher.py:268948): Gtk-WARNING **: 00:23:08.765: for_size smaller than min-size (1 < 32) while measuring gadget (node entry, owner GtkSpinButton)\n",
      "\n",
      "(ipykernel_launcher.py:268948): Gtk-WARNING **: 00:23:08.765: for_size smaller than min-size (1 < 16) while measuring gadget (node button, owner GtkSpinButton)\n",
      "\n",
      "(ipykernel_launcher.py:268948): Gtk-WARNING **: 00:23:08.765: for_size smaller than min-size (1 < 16) while measuring gadget (node button, owner GtkSpinButton)\n",
      "\n",
      "(ipykernel_launcher.py:268948): Gtk-CRITICAL **: 00:24:15.507: gtk_combo_box_text_insert: assertion 'GTK_IS_COMBO_BOX_TEXT (combo_box)' failed\n",
      "\n",
      "(ipykernel_launcher.py:268948): Gtk-CRITICAL **: 00:24:15.527: gtk_combo_box_text_insert: assertion 'GTK_IS_COMBO_BOX_TEXT (combo_box)' failed\n",
      "\n",
      "(ipykernel_launcher.py:268948): Gtk-CRITICAL **: 00:24:17.902: gtk_combo_box_text_insert: assertion 'GTK_IS_COMBO_BOX_TEXT (combo_box)' failed\n",
      "\n",
      "(ipykernel_launcher.py:268948): Gtk-CRITICAL **: 00:24:17.923: gtk_combo_box_text_insert: assertion 'GTK_IS_COMBO_BOX_TEXT (combo_box)' failed\n",
      "\n",
      "(ipykernel_launcher.py:268948): Gtk-CRITICAL **: 00:24:18.211: gtk_combo_box_text_insert: assertion 'GTK_IS_COMBO_BOX_TEXT (combo_box)' failed\n",
      "\n",
      "(ipykernel_launcher.py:268948): Gtk-CRITICAL **: 00:24:18.231: gtk_combo_box_text_insert: assertion 'GTK_IS_COMBO_BOX_TEXT (combo_box)' failed\n",
      "\n",
      "(ipykernel_launcher.py:268948): Gtk-CRITICAL **: 00:24:18.608: gtk_combo_box_text_insert: assertion 'GTK_IS_COMBO_BOX_TEXT (combo_box)' failed\n",
      "\n",
      "(ipykernel_launcher.py:268948): Gtk-CRITICAL **: 00:24:18.630: gtk_combo_box_text_insert: assertion 'GTK_IS_COMBO_BOX_TEXT (combo_box)' failed\n",
      "\n",
      "(ipykernel_launcher.py:268948): Gtk-WARNING **: 00:24:18.713: Negative content width -1 (allocation 1, extents 1x1) while allocating gadget (node spinbutton, owner GtkSpinButton)\n",
      "\n",
      "(ipykernel_launcher.py:268948): Gtk-WARNING **: 00:24:18.713: for_size smaller than min-size (1 < 32) while measuring gadget (node entry, owner GtkSpinButton)\n",
      "\n",
      "(ipykernel_launcher.py:268948): Gtk-WARNING **: 00:24:18.713: for_size smaller than min-size (1 < 16) while measuring gadget (node button, owner GtkSpinButton)\n",
      "\n",
      "(ipykernel_launcher.py:268948): Gtk-WARNING **: 00:24:18.713: for_size smaller than min-size (1 < 16) while measuring gadget (node button, owner GtkSpinButton)\n",
      "\n",
      "(ipykernel_launcher.py:268948): Gtk-CRITICAL **: 00:24:27.232: gtk_combo_box_text_insert: assertion 'GTK_IS_COMBO_BOX_TEXT (combo_box)' failed\n",
      "\n",
      "(ipykernel_launcher.py:268948): Gtk-CRITICAL **: 00:24:27.250: gtk_combo_box_text_insert: assertion 'GTK_IS_COMBO_BOX_TEXT (combo_box)' failed\n"
     ]
    }
   ],
   "source": [
    "warp_field_path = op.join(preproc_root, 'sub-control01', 'func', 'sub-control01_task-music_concat_bold_moco_bbr_warp.nii.gz')\n",
    "resultAnts = op.join(preproc_root, 'sub-control01', 'func', 'sub-control01_task-music_concat_bold_moco_bbr_SyN.nii.gz')\n",
    "moving_image = ants.image_read(output_path + '.nii.gz')\n",
    "fixed_image = ants.image_read(whole_t1+\".nii.gz\")  # The T1-weighted anatomical image as the fixed reference\n",
    "\n",
    "# Step 2: Use ANTs for finer SyN registration from EPI to T1\n",
    "transformation = ants.registration(fixed=fixed_image, moving=moving_image, type_of_transform='SyN')\n",
    "warpedImage = ants.apply_transforms(fixed=fixed_image, moving=moving_image, transformlist=transformation['fwdtransforms'])\n",
    "\n",
    "# Save the refined output and transformation warp field\n",
    "ants.image_write(warpedImage, resultAnts)\n",
    "\n",
    "# Save the warp field as a NIfTI file for future reference\n",
    "warp_field = ants.image_read(transformation['fwdtransforms'][0])\n",
    "nifti_warp_field = nib.Nifti1Image(warp_field.numpy(), affine=nib.load(transformation['fwdtransforms'][0]).affine)\n",
    "nib.save(nifti_warp_field, warp_field_path)\n"
   ]
  },
  {
   "cell_type": "code",
   "execution_count": 108,
   "metadata": {},
   "outputs": [
    {
     "data": {
      "text/plain": [
       "CompletedProcess(args=['convertwarp', '--ref=/data/fsl//data/standard/MNI152_T1_1mm_brain', '--premat=/home/nicolasrr/Desktop/NeuroDesk/NSSP/data/ds000171/derivatives/preprocessed_data/sub-control01/func/sub-control01_task-music_concat_bold_moco.nii.gz.mat/MAT_0150', '--midmat=./data/ds000171/derivatives/preprocessed_data/sub-control01/func/sub-control01_task-music_concat_bold_moco_bbr.mat', '--postmat=./data/ds000171/derivatives/preprocessed_data/sub-control01/anat/sub-control01_T1w_mni_lin.mat', '--out=./data/ds000171/derivatives/preprocessed_data/sub-control01/func/sub-control01_task-music_concat_bold_moco_bbr_test_warp.nii.gz'], returncode=0)"
      ]
     },
     "execution_count": 108,
     "metadata": {},
     "output_type": "execute_result"
    }
   ],
   "source": [
    "# Convert the transformation matrix to a warp field\n",
    "transform1 = '/home/nicolasrr/Desktop/NeuroDesk/NSSP/data/ds000171/derivatives/preprocessed_data/sub-control01/func/sub-control01_task-music_concat_bold_moco.nii.gz.mat/MAT_0150'\n",
    "transform2 = output_path+'.mat'\n",
    "# Let's combine the different transforms EXCEPT motion correction!\n",
    "warp_name_test = op.join(preproc_root, 'sub-control01', 'func', 'sub-control01_task-music_concat_bold_moco_bbr_test_warp.nii.gz')\n",
    "subprocess.run([\n",
    "    'convertwarp',\n",
    "    '--ref={}'.format(mni_template),\n",
    "    '--premat={}'.format(transform1),\n",
    "    '--midmat={}'.format(transform2),\n",
    "    '--postmat={}'.format(anat_2_mni_trans),\n",
    "    '--out={}'.format(warp_name_test)\n",
    "])    "
   ]
  },
  {
   "cell_type": "code",
   "execution_count": 67,
   "metadata": {},
   "outputs": [],
   "source": [
    "from scipy.ndimage import affine_transform\n",
    "\n",
    "\n",
    "transform_matrix = np.loadtxt(transform1)  # replace 'your_matrix_name' with the key in your .mat file\n",
    "\n",
    "# Load the NIfTI image\n",
    "nifti_img = nib.load(ref_vol_name+'.nii.gz')\n",
    "nifti_data = nifti_img.get_fdata()\n",
    "affine = nifti_img.affine\n",
    "\n",
    "# Apply the transformation to the image data\n",
    "# Adjust the inverse of the affine if necessary to account for the spatial orientation of the image\n",
    "transformed_data = affine_transform(nifti_data, transform_matrix, offset=0)\n",
    "transformed_img = nib.Nifti1Image(transformed_data, affine)\n",
    "nib.save(transformed_img, 'test.nii.gz')"
   ]
  },
  {
   "cell_type": "code",
   "execution_count": 110,
   "metadata": {},
   "outputs": [
    {
     "data": {
      "text/plain": [
       "{}"
      ]
     },
     "execution_count": 110,
     "metadata": {},
     "output_type": "execute_result"
    }
   ],
   "source": [
    "from fsl.wrappers import applywarp\n",
    "out_vol = \"test.nii.gz\"\n",
    "applywarp(ref_vol_name,mni_template, out_vol, w=warp_name_test, rel=False)"
   ]
  },
  {
   "cell_type": "markdown",
   "metadata": {},
   "source": [
    "Let's overlay the two (EPI and anatomical) on top of each other to visualize the quality of the coregistration!"
   ]
  },
  {
   "cell_type": "code",
   "execution_count": 111,
   "metadata": {},
   "outputs": [],
   "source": [
    "fsleyesDisplay.resetOverlays()\n",
    "fsleyesDisplay.load(mni_template)\n",
    "# fsleyesDisplay.load(skull_stripped_t1)\n",
    "# fsleyesDisplay.load(output_path)\n",
    "# fsleyesDisplay.load(ref_vol_name)\n",
    "fsleyesDisplay.load(out_vol)"
   ]
  },
  {
   "cell_type": "markdown",
   "metadata": {},
   "source": [
    "- Is the functional in the right orientation?\n",
    "- Are the ventricles correctly aligned?\n",
    "- Are the boundaries of the EPI more or less matching the anatomical?\n",
    "\n",
    "➡️ You can also check how the white matter of the EPI matches your anatomical's white matter provided you have sufficient resolution"
   ]
  },
  {
   "cell_type": "markdown",
   "metadata": {},
   "source": [
    "#### Some cleanup\n",
    "If you have a look, you might notice that perhaps your directory got filled with many files. These are temporary files, created but uncorrectly not eliminated by epi_reg. The following should help:\n"
   ]
  },
  {
   "cell_type": "code",
   "execution_count": null,
   "metadata": {},
   "outputs": [],
   "source": [
    "def cleanup_epi_reg(path_to_clean):\n",
    "    patterns = ['*_fast_*', '*_fieldmap*']\n",
    "    for p in patterns:\n",
    "        files = glob.glob(op.join(path_to_clean, p))\n",
    "        for f in files:\n",
    "            os.remove(f)"
   ]
  },
  {
   "cell_type": "code",
   "execution_count": null,
   "metadata": {},
   "outputs": [],
   "source": [
    "cleanup_epi_reg(op.join(preproc_root, 'sub-control01', 'func'))"
   ]
  },
  {
   "cell_type": "code",
   "execution_count": null,
   "metadata": {},
   "outputs": [],
   "source": [
    "print_dir_tree(bids_root, max_depth=5)"
   ]
  },
  {
   "cell_type": "markdown",
   "metadata": {},
   "source": [
    "#### Smoothing"
   ]
  },
  {
   "cell_type": "markdown",
   "metadata": {},
   "source": [
    "All these transforms are not exactly perfect. As you've seen in class, a step of smoothing is typically applied, with the size of the smoothing being dependent on your application, starting resolution etc.\n",
    "The idea of smoothing is really that, as you're averaging, hopefully you increase the signal to noise ratio. <br>\n",
    "A side-effect is that finest patterns of activation will be lost in the averaging (we can't have everything: there's no free lunch).\n",
    "\n",
    "With FSL, smoothing is rather easy to do. However, one thing which is important is the size of your filter.\n",
    "Different softwares might use different conventions. For MRI, it is typical to talk about FWHM (Full-width at half maximum), expressed in mms.\n",
    "\n",
    "FSL, however, takes as input in sigma instead of FWHM. The conversion is easy fortunately:\n",
    "\n",
    "$$ \\sigma = \\frac{FWHM}{2.3548}$$\n",
    "\n",
    "Here for example would be the smoothing command for 6mm FWHM smoothing:"
   ]
  },
  {
   "cell_type": "code",
   "execution_count": null,
   "metadata": {},
   "outputs": [],
   "source": [
    "# Define the path where the output will be saved (same as input).\n",
    "# output_path = op.join(preproc_root, 'sub-001', 'func', 'sub-001_task-sitrep_run-01_bold_bbr') # ....\n",
    "\n",
    "cmd = 'fslmaths {} -s {} {}_smoothed-6mm'.format(output_path, 6/2.3548, output_path)\n",
    "# This line constructs a command string using 'fslmaths' to apply spatial smoothing to the image.\n",
    "# - 'fslmaths' is the FSL command used for mathematical manipulation of images.\n",
    "# - '{}': Placeholder for 'output_path', which is the path to the image that needs smoothing.\n",
    "# - '-s': This option applies a Gaussian kernel smoothing with a given standard deviation (sigma).\n",
    "# - '6/2.3548': The value (6 mm divided by 2.3548) converts the full width at half maximum (FWHM) to sigma.\n",
    "# - '{}_smoothed-6mm': This specifies the output file name, indicating that it has been smoothed with a 6 mm FWHM kernel.\n",
    "\n",
    "subprocess.run(['fslmaths', output_path, '-s', str(6/2.3548), '{}_smoothed-6mm'.format(output_path)])\n",
    "# This line runs the 'fslmaths' command directly as a subprocess.\n",
    "# - 'fslmaths': The command to manipulate the image.\n",
    "# - 'output_path': The input file path of the image to be smoothed.\n",
    "# - '-s': The option for applying Gaussian smoothing.\n",
    "# - 'str(6/2.3548)': The sigma value calculated by converting the 6 mm FWHM value to standard deviation.\n",
    "# - '{}_smoothed-6mm'.format(output_path)': The output path where the smoothed image will be saved, named with a suffix '_smoothed-6mm'.\n",
    "\n",
    "\n"
   ]
  },
  {
   "cell_type": "code",
   "execution_count": null,
   "metadata": {},
   "outputs": [],
   "source": [
    "fsleyesDisplay.load(output_path + '_smoothed-6mm')"
   ]
  },
  {
   "cell_type": "code",
   "execution_count": null,
   "metadata": {},
   "outputs": [],
   "source": [
    "cmd = 'fslmaths {} -s {} {}_smoothed-6mm'.format(epi_target, 6/2.3548, epi_target)\n",
    "# This line constructs a command string using 'fslmaths' to apply spatial smoothing to the image.\n",
    "# - 'fslmaths' is the FSL command used for mathematical manipulation of images.\n",
    "# - '{}': Placeholder for 'output_path', which is the path to the image that needs smoothing.\n",
    "# - '-s': This option applies a Gaussian kernel smoothing with a given standard deviation (sigma).\n",
    "# - '6/2.3548': The value (6 mm divided by 2.3548) converts the full width at half maximum (FWHM) to sigma.\n",
    "# - '{}_smoothed-6mm': This specifies the output file name, indicating that it has been smoothed with a 6 mm FWHM kernel.\n",
    "\n",
    "subprocess.run(['fslmaths', epi_target, '-s', str(6/2.3548), '{}_smoothed-6mm'.format(epi_target.replace('.nii.gz', '')])"
   ]
  },
  {
   "cell_type": "markdown",
   "metadata": {},
   "source": [
    "Let's observe what we have now:"
   ]
  },
  {
   "cell_type": "code",
   "execution_count": null,
   "metadata": {},
   "outputs": [],
   "source": [
    "fsleyesDisplay.resetOverlays()\n",
    "fsleyesDisplay.load(epi_target + '_smoothed-6mm')"
   ]
  },
  {
   "cell_type": "code",
   "execution_count": null,
   "metadata": {},
   "outputs": [],
   "source": [
    "import time\n",
    "from fsl.wrappers import applywarp\n",
    "ref=mni_template\n",
    "\n",
    "# We show this one when selecting the first EPI (volume 0000)\n",
    "target_epi = op.join(preproc_root, 'sub-control01', 'func', 'sub-control01_task-music_concat_bold_first-vol')\n",
    "split_nbr = '0000'\n",
    "\n",
    "# We will name its warp as split0000\n",
    "warp_name = op.join(preproc_root, 'sub-control01', 'func', 'sub-control01_split' + split_nbr + '_epi_2_std_warp')\n",
    "\n",
    "# Get the transformation matrix of this volume (this one is actually the unit matrix, \n",
    "# since this volume is the reference)\n",
    "\n",
    "\n",
    "# -- Step 1: Combine the transformations, that is :\n",
    "#    EPI -> Motion correction -> Coregistration to anatomical -> Normalization to standard\n",
    "#    EPI -> Motion correction is given by the matrix in sub-control01_task-music_concat_bold_moco.mat/MAT_{vol_nbr}, where {vol_nbr} is the volume number of the volume of interest\n",
    "#    EPI -> Coreg to anatomical, this is the _warp.nii.gz file in func/ folder\n",
    "#    Anatomical > Template is saved by flirt when doing the anatomical to template coregistration, in anat/ folder\n",
    "func_2_anat= op.join(preproc_root, 'sub-control01', 'func', 'sub-control01_task-music_concat_bold_anat-space_warp.nii.gz')\n",
    "epi_moco = op.join(preproc_root, 'sub-control01', 'func', 'sub-control01_task-music_concat_bold_moco.mat/', 'MAT_' + split_nbr)\n",
    "\n",
    "s0 = time.time()\n",
    "combine_all_transforms(ref, warp_name,  True, epi_2_moco=epi_moco, epi_2_anat_warp=func_2_anat, anat_2_standard_warp=anat_2_mni_trans)\n",
    "s1 = time.time()\n",
    "\n",
    "out_vol= op.join(preproc_root, 'sub-control01', 'func', 'sub-control01_task-music_concat_bold_std_vol' + split_nbr)\n",
    "\n",
    "# -- Step 2: Apply the transformation to our EPI\n",
    "applywarp(target_epi,ref, out_vol, w=warp_name, rel=False)\n",
    "s2 = time.time()"
   ]
  },
  {
   "cell_type": "code",
   "execution_count": 6,
   "metadata": {},
   "outputs": [],
   "source": [
    "split_target =  './data/ds000171/derivatives/preprocessed_data/sub-control01/func/sub-control01_task-music_concat_bold_smoothed-6mm.nii.gz'"
   ]
  },
  {
   "cell_type": "code",
   "execution_count": null,
   "metadata": {},
   "outputs": [],
   "source": [
    "# We will split our starting EPI volume across time \n",
    "split_name = op.join(preproc_root, 'sub-control01', 'func', 'splits','sub-control01_task-music_concat_bold_bbr_smoothed-6mm_split')\n",
    "\n",
    "subprocess.run(['fslsplit', split_target, split_name, '-t'])"
   ]
  },
  {
   "cell_type": "markdown",
   "metadata": {},
   "source": [
    "Let's have a look at our folder structure now."
   ]
  },
  {
   "cell_type": "code",
   "execution_count": null,
   "metadata": {},
   "outputs": [],
   "source": [
    "print_dir_tree(bids_root,max_depth=5)"
   ]
  },
  {
   "cell_type": "markdown",
   "metadata": {},
   "source": [
    "As you can see, a lot of new volumes have appeared. These are the split, individual volumes of our EPI.\n",
    "\n",
    "Great, let's now combine the different transforms EXCEPT motion correction, with method 2."
   ]
  },
  {
   "cell_type": "code",
   "execution_count": null,
   "metadata": {},
   "outputs": [],
   "source": [
    "split_vols = sorted(glob.glob(op.join(preproc_root, 'sub-control01', 'func', 'splits','*split*')))\n",
    "split_vols[0]"
   ]
  },
  {
   "cell_type": "code",
   "execution_count": null,
   "metadata": {},
   "outputs": [],
   "source": [
    "warp_name = \"/home/nicolasrr/Desktop/NeuroDesk/NSSP/data/ds000171/derivatives/preprocessed_data/sub-control01/func/sub-control01_task-music_concat_bold_bbr.nii.gz\"\n",
    "\n",
    "nib.load(warp_name)"
   ]
  },
  {
   "cell_type": "code",
   "execution_count": null,
   "metadata": {},
   "outputs": [],
   "source": [
    "fsleyesDisplay.resetOverlays()\n",
    "fsleyesDisplay.load(split_vols[0])\n",
    "#nib.load(warp_name)"
   ]
  },
  {
   "cell_type": "code",
   "execution_count": null,
   "metadata": {},
   "outputs": [],
   "source": [
    "from fsl.wrappers import applywarp\n",
    "applywarp(split_vols[0],mni_template, \"test.nii.gz\", w=warp_name, rel=True)"
   ]
  },
  {
   "cell_type": "code",
   "execution_count": null,
   "metadata": {},
   "outputs": [],
   "source": [
    "subprocess.run(['applywarp', '-i', split_vols[0], '-r', mni_template, '-o', \"test.nii.gz\", '-w', warp_name, '--abs'])"
   ]
  },
  {
   "cell_type": "code",
   "execution_count": null,
   "metadata": {},
   "outputs": [],
   "source": [
    "import concurrent.futures\n",
    "from tqdm import tqdm\n",
    "mni_template = op.expandvars(op.join('$FSLDIR', 'data', 'standard', 'MNI152_T1_1mm_brain'))\n",
    "\n",
    "\n",
    "# Let's combine the different transforms EXCEPT motion correction!\n",
    "warp_name = \"/home/nicolasrr/Desktop/NeuroDesk/NSSP/data/ds000171/derivatives/preprocessed_data/sub-control01/func/sub-control01_task-music_concat_bold_bbr.nii.gz\"\n",
    "split_vols = sorted(glob.glob(op.join(preproc_root, 'sub-control01', 'func', 'splits','*split*')))\n",
    "\n",
    "\n",
    "# Define a function that wraps subprocess.run()\n",
    "def run_subprocess(split_vol, vol_nbr):\n",
    "    \"\"\"\n",
    "    SAFETY GOGGLES ON\n",
    "    This function launches applywarp in parallel to reach complete result quicker\n",
    "\n",
    "    Parameters\n",
    "    -----------\n",
    "    split_vol: str\n",
    "        Path to the volume on which to apply the transformation\n",
    "    vol_nbr: str\n",
    "        Number of the volume in the timeserie. Useful to reorder volumes after the fact, since parallelisation does not honour order.\n",
    "\n",
    "    Returns\n",
    "    -------\n",
    "    out_vol: str\n",
    "        Path to the transformed volume\n",
    "    vol_nbr: str\n",
    "        Number of the volume in the timeserie. Useful to reorder volumes after the fact.\n",
    "    \"\"\"\n",
    "    try:\n",
    "        split_nbr = split_vol.split('_')[-1].split('.')[0].split('split')[1]\n",
    "        out_vol= op.join(preproc_root, 'sub-control01', 'func', 'splits', 'sub-control01_task-music_concat_bold_bbr_smoothed-6mm_split' + split_nbr)\n",
    "        result = subprocess.run(['applywarp', '-i', split_vol, '-r', mni_template, '-o', out_vol, '-w', warp_name, '--abs'])\n",
    "        return out_vol, vol_nbr\n",
    "    except subprocess.CalledProcessError as e:\n",
    "        return f\"applywarp for volume '{split_vol}' failed with error: {e.stderr.decode('utf-8')}\"\n",
    "\n",
    "\n",
    "produced_vols = [None]*len(split_vols)\n",
    "# Initialize ThreadPoolExecutor and the progress bar\n",
    "with concurrent.futures.ThreadPoolExecutor() as executor:\n",
    "    # Use tqdm to wrap the futures\n",
    "    with tqdm(total=len(split_vols)) as progress:\n",
    "        # Launch subprocesses in parallel\n",
    "        futures = {executor.submit(run_subprocess, vol,i): vol for i,vol in enumerate(split_vols)}\n",
    "\n",
    "        # Process completed tasks\n",
    "        for future in concurrent.futures.as_completed(futures):\n",
    "            out_vol, vol_nbr = future.result()  # Get the result of the subprocess\n",
    "            produced_vols[vol_nbr] = out_vol\n",
    "            # Update the progress bar for each completed task\n",
    "            progress.update(1)\n",
    "            break"
   ]
  },
  {
   "cell_type": "markdown",
   "metadata": {},
   "source": [
    "Why does it matter? Well, just applying a back-of the envelope calculation, the first method takes 122s per volume, while the second method takes 87 seconds to combine **once** the transforms excluding motion correction, and 4 seconds per volume to apply the transforms including motion correction. If we plot the two with an increasing number of volumes, we can see why this quickly becomes relevant:"
   ]
  },
  {
   "cell_type": "markdown",
   "metadata": {},
   "source": [
    "## Slice correction \n",
    "\n",
    "#### Application to real data\n",
    "\n",
    "We have shown you the basic principle, but the application to real data requires some specific informations.\n",
    "You need the following ingredients:\n",
    "- When was each slice acquired in the sequence: **(Slice timing)**\n",
    "- Along which axis were the slices acquired: **Phase direction**\n",
    "- How much time we take to acquire all slices: **TR**\n"
   ]
  },
  {
   "cell_type": "code",
   "execution_count": null,
   "metadata": {},
   "outputs": [],
   "source": [
    "data = get_json_from_file(op.join(bids_root, 'sub-001', 'func', 'sub-001_task-sitrep_run-01_bold.json'))\n",
    "data"
   ]
  },
  {
   "cell_type": "markdown",
   "metadata": {},
   "source": [
    "This data is actually a dictionary. We can thus extract the slice timing as an array directly from it. For example, to extract TaskName, we would use:\n",
    "```python\n",
    "data['TaskName']\n",
    "```\n",
    "\n"
   ]
  },
  {
   "cell_type": "code",
   "execution_count": null,
   "metadata": {},
   "outputs": [],
   "source": [
    "slice_timing = data['SliceTiming'] # Replace with the appropriate key (have a look above!)"
   ]
  },
  {
   "cell_type": "markdown",
   "metadata": {},
   "source": [
    "Now, we might want to know where our slices are, ie along which axis, right? Typically it is along the z-direction, but we're better off if we check! Using FSLeyes, determine how many slices each axis has **for the functional data of interest**. You should thus open the relevant functional file in FSLeyes to answer this question.\n",
    "\n",
    "\n",
    "<div class=\"warning\" style='background-color:#90EE90; color: #112A46; border-left: solid #805AD5 4px; border-radius: 4px; padding:0.7em;'>\n",
    "<span>\n",
    "<p style='margin-top:1em; text-align:center'><b>Using FSL command line</b></p>\n",
    "<p style='text-indent: 10px;'>To figure out the dimensions of an MRI image, a faster option - if you have FSL installed directly - is to run the command line command:\n",
    "    <blockquote>fslhd [your_volume]</blockquote>\n",
    "This will give you all informations contained within the header of the NIfti file. For example, running the command for our volume will easily allow us to access the slice informations:\n",
    "    <img src=\"imgs/fslhd_capture.png\"></p>\n",
    "</span>\n",
    "</div>\n",
    "Let's compare now with the amount of slices we have in our acquisition. We can consider simply the number of timings for this"
   ]
  },
  {
   "cell_type": "code",
   "execution_count": null,
   "metadata": {},
   "outputs": [],
   "source": [
    "fsleyesDisplay.resetOverlays()\n",
    "fsleyesDisplay.load(op.join(bids_root, 'sub-001', 'func', 'sub-001_task-sitrep_run-01_bold.nii.gz'))"
   ]
  },
  {
   "cell_type": "code",
   "execution_count": null,
   "metadata": {},
   "outputs": [],
   "source": [
    "len(slice_timing)"
   ]
  },
  {
   "cell_type": "markdown",
   "metadata": {},
   "source": [
    "Great, so we know which axis we want, we know the slice timings, but we still need to know the TR. This information is also in the JSON sidecar! Extract it now!"
   ]
  },
  {
   "cell_type": "code",
   "execution_count": null,
   "metadata": {},
   "outputs": [],
   "source": [
    "tr = data['RepetitionTime'] # Extract the TR from the sidecar's appropriate field\n",
    "tr"
   ]
  },
  {
   "cell_type": "markdown",
   "metadata": {},
   "source": [
    "To now perform the correction, we need to apply FSL's slicetimer command. For this, we need to save the timings first to their own separate file! Instead of giving the slice timings, we will provide instead the slice **order** (ie which slice was done in which order) and let FSL figure out how to best correct based on this information.\n",
    "\n",
    "Let's do it."
   ]
  },
  {
   "cell_type": "code",
   "execution_count": null,
   "metadata": {},
   "outputs": [],
   "source": [
    "slice_order = np.argsort(slice_timing) + 1\n",
    "\n",
    "# Write to a file the corresponding sorted timings :)\n",
    "timing_path = op.join(preproc_root,  'sub-001', 'func', 'sub-001_task-sitrep_run-01_slice-timings.txt')\n",
    "file = open(timing_path, mode='w')\n",
    "for t in slice_order:\n",
    "    file.write(str(t) + '\\n')\n",
    "file.close()"
   ]
  },
  {
   "cell_type": "markdown",
   "metadata": {},
   "source": [
    "Finally we can call slicetimer from a terminal!"
   ]
  },
  {
   "cell_type": "code",
   "execution_count": null,
   "metadata": {},
   "outputs": [],
   "source": [
    "file_to_realign = op.join(bids_root, 'sub-001', 'func', 'sub-001_task-sitrep_run-01_bold')\n",
    "output_target = op.join(preproc_root, 'sub-001', 'func', 'sub-001_task-sitrep_run-01_bold_slice-corr')\n",
    "\n",
    "subprocess.run(['slicetimer', '-i', file_to_realign, '-o', output_target, '-r', str(tr), '-d', str(3), '--ocustom={}'.format(timing_path)])\n",
    "#cmd = 'slicetimer -i ' + file_to_realign + ' -o ' + output_target + ' -r ' + str(tr) + ' -d 3 --ocustom=' + timing_path\n",
    "#os.system(cmd)"
   ]
  },
  {
   "cell_type": "code",
   "execution_count": null,
   "metadata": {},
   "outputs": [],
   "source": [
    "fsleyesDisplay.resetOverlays()\n",
    "fsleyesDisplay.load(file_to_realign)\n",
    "fsleyesDisplay.load(output_target)"
   ]
  }
 ],
 "metadata": {
  "kernelspec": {
   "display_name": "base",
   "language": "python",
   "name": "python3"
  },
  "language_info": {
   "codemirror_mode": {
    "name": "ipython",
    "version": 3
   },
   "file_extension": ".py",
   "mimetype": "text/x-python",
   "name": "python",
   "nbconvert_exporter": "python",
   "pygments_lexer": "ipython3",
   "version": "3.11.9"
  }
 },
 "nbformat": 4,
 "nbformat_minor": 2
}
