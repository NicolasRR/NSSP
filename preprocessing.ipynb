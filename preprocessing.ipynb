{
 "cells": [
  {
   "cell_type": "markdown",
   "metadata": {},
   "source": [
    "# Utilities"
   ]
  },
  {
   "cell_type": "code",
   "execution_count": 1,
   "metadata": {},
   "outputs": [],
   "source": [
    "%gui wx\n",
    "import os\n",
    "from utils import loadFSL, FSLeyesServer, mkdir_no_exist, DownloadProgressBar, download_url, direct_file_download_open_neuro, get_json_from_file\n",
    "os.environ[\"DIPY_HOME\"] = \"./data/\"\n",
    "loadFSL()\n",
    "import fsl.wrappers\n",
    "from fsl.wrappers import fslmaths, mcflirt\n",
    "import mne_nirs\n",
    "import nilearn\n",
    "from nilearn.datasets import fetch_development_fmri\n",
    "import mne\n",
    "import mne_nirs\n",
    "import dipy\n",
    "from dipy.data import fetch_bundles_2_subjects, read_bundles_2_subjects\n",
    "import xml.etree.ElementTree as ET\n",
    "import os.path as op\n",
    "import nibabel as nib\n",
    "import glob\n",
    "import ants\n",
    "import openneuro\n",
    "from mne.datasets import sample\n",
    "from mne_bids import BIDSPath, read_raw_bids, print_dir_tree, make_report\n",
    "import requests\n",
    "import urllib.request\n",
    "from tqdm import tqdm\n",
    "from fsl.wrappers import fast, bet\n",
    "from fsl.wrappers.misc import fslroi\n",
    "from fsl.wrappers import flirt\n",
    "import glob\n",
    "import pandas as pd\n",
    "import numpy as np\n",
    "import json\n",
    "import subprocess\n",
    "import matplotlib.pyplot as plt"
   ]
  },
  {
   "cell_type": "code",
   "execution_count": 2,
   "metadata": {},
   "outputs": [],
   "source": [
    "%load_ext autoreload\n",
    "%autoreload 2\n",
    "from utilities import get_skull_stripped_anatomical, apply_python_mask_approach, launch_freeview, fsl_anat_wrapped, load_mot_params_fsl_6_dof, compute_FD_power"
   ]
  },
  {
   "cell_type": "code",
   "execution_count": 3,
   "metadata": {},
   "outputs": [
    {
     "name": "stderr",
     "output_type": "stream",
     "text": [
      "\n",
      "(ipykernel_launcher.py:67123): Gtk-WARNING **: 15:32:35.562: Negative content width -1 (allocation 1, extents 1x1) while allocating gadget (node spinbutton, owner GtkSpinButton)\n",
      "\n",
      "(ipykernel_launcher.py:67123): Gtk-WARNING **: 15:32:35.562: for_size smaller than min-size (1 < 32) while measuring gadget (node entry, owner GtkSpinButton)\n",
      "\n",
      "(ipykernel_launcher.py:67123): Gtk-WARNING **: 15:32:35.562: for_size smaller than min-size (1 < 16) while measuring gadget (node button, owner GtkSpinButton)\n",
      "\n",
      "(ipykernel_launcher.py:67123): Gtk-WARNING **: 15:32:35.562: for_size smaller than min-size (1 < 16) while measuring gadget (node button, owner GtkSpinButton)\n"
     ]
    }
   ],
   "source": [
    "%%capture\n",
    "fsleyesDisplay = FSLeyesServer()\n",
    "fsleyesDisplay.show()"
   ]
  },
  {
   "cell_type": "markdown",
   "metadata": {},
   "source": [
    "# Folders"
   ]
  },
  {
   "cell_type": "code",
   "execution_count": 4,
   "metadata": {},
   "outputs": [],
   "source": [
    "dataset_id = 'ds000171' \n",
    "subject_id = 'control01'    \n",
    "sample_path = \"./data/\" \n",
    "os.makedirs(sample_path, exist_ok=True)\n",
    "bids_root = op.join(sample_path, dataset_id)\n",
    "deriv_root = op.join(bids_root, 'derivatives') \n",
    "preproc_root = op.join(bids_root, 'derivatives', 'preprocessed_data') \n",
    "os.makedirs(bids_root, exist_ok=True)\n",
    "subject_dir = 'sub-{}'.format(subject_id)"
   ]
  },
  {
   "cell_type": "markdown",
   "metadata": {},
   "source": [
    "## Download"
   ]
  },
  {
   "cell_type": "code",
   "execution_count": 7,
   "metadata": {},
   "outputs": [
    {
     "name": "stdout",
     "output_type": "stream",
     "text": [
      "\n",
      "👋 Hello! This is openneuro-py 2024.2.0. Great to see you! 🤗\n",
      "\n",
      "   👉 Please report problems 🤯 and bugs 🪲 at\n",
      "      https://github.com/hoechenberger/openneuro-py/issues\n",
      "\n",
      "🌍 Preparing to download ds000171 …\n"
     ]
    },
    {
     "name": "stderr",
     "output_type": "stream",
     "text": [
      "📁 Traversing directories for ds000171 : 436 entities [00:35, 12.17 entities/s]\n"
     ]
    },
    {
     "name": "stdout",
     "output_type": "stream",
     "text": [
      "📥 Retrieving up to 15 files (5 concurrent downloads). \n"
     ]
    },
    {
     "name": "stderr",
     "output_type": "stream",
     "text": [
      "sub-control01_T1w.nii.gz:   0%|          | 24.2k/8.77M [00:00<00:37, 245kB/s]\n",
      "sub-control01_task-music_run-1_bold.nii.gz:   0%|          | 0.00/33.8M [00:00<?, ?B/s]\u001b[A\n",
      "\n",
      "sub-control01_task-music_run-2_events.tsv:   0%|          | 0.00/339 [00:00<?, ?B/s]\u001b[A\u001b[A\n",
      "\n",
      "sub-control01_T1w.nii.gz:   1%|          | 74.2k/8.77M [00:00<00:24, 377kB/s]       \u001b[A\u001b[A\n",
      "\n",
      "sub-control01_task-music_run-3_bold.nii.gz:   0%|          | 0.00/33.9M [00:00<?, ?B/s]\u001b[A\u001b[A\n",
      "\n",
      "\n",
      "sub-control01_task-music_run-2_bold.nii.gz:   0%|          | 0.00/33.9M [00:00<?, ?B/s]\u001b[A\u001b[A\u001b[A\n",
      "sub-control01_T1w.nii.gz:   2%|▏         | 155k/8.77M [00:00<00:15, 572kB/s] 00<01:48, 327kB/s]\u001b[A\n",
      "\n",
      "sub-control01_task-music_run-3_bold.nii.gz:   0%|          | 32.6k/33.9M [00:00<01:51, 318kB/s]\u001b[A\u001b[A\n",
      "\n",
      "\n",
      "sub-control01_task-music_run-2_bold.nii.gz:   0%|          | 32.6k/33.9M [00:00<01:57, 301kB/s]\u001b[A\u001b[A\u001b[A\n",
      "sub-control01_task-music_run-1_bold.nii.gz:   0%|          | 66.5k/33.8M [00:00<01:47, 331kB/s]\u001b[A\n",
      "\n",
      "sub-control01_task-music_run-3_bold.nii.gz:   0%|          | 83.6k/33.9M [00:00<01:22, 430kB/s]\u001b[A\u001b[A\n",
      "\n",
      "\n",
      "sub-control01_task-music_run-2_bold.nii.gz:   0%|          | 67.6k/33.9M [00:00<01:46, 333kB/s]\u001b[A\u001b[A\u001b[A\n",
      "sub-control01_T1w.nii.gz:   2%|▏         | 223k/8.77M [00:00<00:19, 458kB/s]00<01:25, 412kB/s] \u001b[A\n",
      "\n",
      "sub-control01_task-music_run-3_bold.nii.gz:   0%|          | 152k/33.9M [00:00<01:05, 538kB/s] \u001b[A\u001b[A\n",
      "\n",
      "\n",
      "sub-control01_task-music_run-2_bold.nii.gz:   0%|          | 101k/33.9M [00:00<01:52, 315kB/s] \u001b[A\u001b[A\u001b[A\n",
      "sub-control01_task-music_run-1_bold.nii.gz:   0%|          | 172k/33.8M [00:00<01:16, 460kB/s]\u001b[A\n",
      "\n",
      "\n",
      "\n",
      "sub-control01_task-music_run-3_events.tsv:   0%|          | 0.00/339 [00:00<?, ?B/s]\u001b[A\u001b[A\u001b[A\u001b[A\n",
      "\n",
      "\n",
      "\n",
      "                                                                                    \u001b[A\u001b[A\u001b[A\u001b[A\n",
      "\n",
      "sub-control01_T1w.nii.gz:   3%|▎         | 291k/8.77M [00:00<00:18, 487kB/s]00<00:37, 931kB/s]\u001b[A\u001b[A\n",
      "\n",
      "\n",
      "sub-control01_task-music_run-2_bold.nii.gz:   1%|          | 186k/33.9M [00:00<01:17, 457kB/s]\u001b[A\u001b[A\u001b[A\n",
      "sub-control01_task-music_run-1_bold.nii.gz:   1%|          | 218k/33.8M [00:00<01:25, 413kB/s]\u001b[A\n",
      "\n",
      "sub-control01_T1w.nii.gz:   4%|▍         | 359k/8.77M [00:00<00:16, 541kB/s]00<00:20, 1.71MB/s]\u001b[A\u001b[A\n",
      "\n",
      "sub-control01_task-music_run-3_bold.nii.gz:   3%|▎         | 1.08M/33.9M [00:00<00:12, 2.81MB/s]\u001b[A\u001b[A\n",
      "\n",
      "\n",
      "sub-control01_task-music_run-2_bold.nii.gz:   1%|          | 339k/33.9M [00:00<00:52, 676kB/s]\u001b[A\u001b[A\u001b[A\n",
      "sub-control01_T1w.nii.gz:   5%|▍         | 427k/8.77M [00:00<00:18, 480kB/s]00<01:34, 371kB/s]\u001b[A\n",
      "\n",
      "sub-control01_task-music_run-3_bold.nii.gz:   4%|▍         | 1.38M/33.9M [00:00<00:11, 2.91MB/s]\u001b[A\u001b[A\n",
      "\n",
      "\n",
      "sub-control01_task-music_run-2_bold.nii.gz:   2%|▏         | 645k/33.9M [00:00<00:34, 999kB/s]\u001b[A\u001b[A\u001b[A\n",
      "sub-control01_task-music_run-1_bold.nii.gz:   1%|          | 319k/33.8M [00:00<01:59, 293kB/s]\u001b[A\n",
      "\n",
      "\n",
      "sub-control01_T1w.nii.gz:   5%|▌         | 478k/8.77M [00:01<00:25, 344kB/s]:00<00:17, 1.98MB/s]\u001b[A\u001b[A\u001b[A\n",
      "\n",
      "sub-control01_task-music_run-3_bold.nii.gz:   6%|▌         | 2.04M/33.9M [00:01<00:14, 2.26MB/s]\u001b[A\u001b[A\n",
      "\n",
      "\n",
      "sub-control01_T1w.nii.gz:   6%|▌         | 529k/8.77M [00:01<00:27, 318kB/s]:01<00:18, 1.81MB/s]\u001b[A\u001b[A\u001b[A\n",
      "sub-control01_task-music_run-1_bold.nii.gz:   1%|          | 370k/33.8M [00:01<02:19, 253kB/s]\u001b[A\n",
      "\n",
      "sub-control01_task-music_run-3_bold.nii.gz:   7%|▋         | 2.44M/33.9M [00:01<00:13, 2.46MB/s]\u001b[A\u001b[A\n",
      "\n",
      "sub-control01_task-music_run-3_bold.nii.gz:  10%|█         | 3.41M/33.9M [00:01<00:07, 4.03MB/s]\u001b[A\u001b[A\n",
      "\n",
      "\n",
      "sub-control01_task-music_run-2_bold.nii.gz:   5%|▌         | 1.81M/33.9M [00:01<00:21, 1.55MB/s]\u001b[A\u001b[A\u001b[A\n",
      "\n",
      "sub-control01_task-music_run-3_bold.nii.gz:  11%|█▏        | 3.88M/33.9M [00:01<00:08, 3.64MB/s]\u001b[A\u001b[A\n",
      "\n",
      "\n",
      "sub-control01_task-music_run-2_bold.nii.gz:   6%|▌         | 1.99M/33.9M [00:01<00:21, 1.58MB/s]\u001b[A\u001b[A\u001b[A\n",
      "sub-control01_task-music_run-1_bold.nii.gz:   1%|          | 421k/33.8M [00:01<03:15, 179kB/s]\u001b[A\n",
      "\n",
      "\n",
      "sub-control01_T1w.nii.gz:   6%|▋         | 580k/8.77M [00:01<00:43, 198kB/s]:01<00:06, 4.74MB/s]\u001b[A\u001b[A\u001b[A\n",
      "\n",
      "sub-control01_task-music_run-3_bold.nii.gz:  13%|█▎        | 4.44M/33.9M [00:01<00:09, 3.17MB/s]\u001b[A\u001b[A\n",
      "sub-control01_task-music_run-1_bold.nii.gz:   1%|▏         | 472k/33.8M [00:01<02:39, 219kB/s]\u001b[A\n",
      "\n",
      "sub-control01_T1w.nii.gz:   7%|▋         | 631k/8.77M [00:02<00:38, 222kB/s]:01<00:07, 4.05MB/s]\u001b[A\u001b[A\n",
      "\n",
      "\n",
      "\n",
      "sub-control01_task-nonmusic_run-4_bold.nii.gz:   0%|          | 0.00/33.9M [00:00<?, ?B/s]\u001b[A\u001b[A\u001b[A\u001b[A\n",
      "sub-control01_T1w.nii.gz:   7%|▋         | 665k/8.77M [00:02<00:38, 221kB/s]02<02:33, 227kB/s]\u001b[A\n",
      "\n",
      "sub-control01_task-music_run-3_bold.nii.gz:  17%|█▋        | 5.71M/33.9M [00:02<00:09, 3.06MB/s]\u001b[A\u001b[A\n",
      "sub-control01_T1w.nii.gz:   8%|▊         | 699k/8.77M [00:02<00:37, 226kB/s]02<02:36, 223kB/s]\u001b[A\n",
      "\n",
      "sub-control01_task-music_run-3_bold.nii.gz:  19%|█▉        | 6.40M/33.9M [00:02<00:07, 3.80MB/s]\u001b[A\u001b[A\n",
      "sub-control01_task-music_run-1_bold.nii.gz:   2%|▏         | 608k/33.8M [00:02<02:20, 248kB/s]\u001b[A\n",
      "\n",
      "\n",
      "sub-control01_T1w.nii.gz:   8%|▊         | 750k/8.77M [00:02<00:34, 246kB/s]:02<00:12, 2.38MB/s]\u001b[A\u001b[A\u001b[A\n",
      "\n",
      "\n",
      "\n",
      "sub-control01_task-nonmusic_run-4_bold.nii.gz:   0%|          | 7.45k/33.9M [00:00<37:50, 15.6kB/s]\u001b[A\u001b[A\u001b[A\u001b[A\n",
      "\n",
      "\n",
      "sub-control01_task-music_run-2_bold.nii.gz:  18%|█▊        | 5.94M/33.9M [00:02<00:07, 4.10MB/s]\u001b[A\u001b[A\u001b[A\n",
      "sub-control01_T1w.nii.gz:   9%|▉         | 801k/8.77M [00:02<00:29, 285kB/s]02<02:06, 276kB/s]\u001b[A\n",
      "\n",
      "\n",
      "\n",
      "sub-control01_T1w.nii.gz:   9%|▉         | 852k/8.77M [00:02<00:29, 278kB/s][00:00<13:12, 44.8kB/s]\u001b[A\u001b[A\u001b[A\u001b[A\n",
      "sub-control01_task-music_run-1_bold.nii.gz:   2%|▏         | 710k/33.8M [00:02<02:09, 269kB/s]\u001b[A\n",
      "\n",
      "\n",
      "\n",
      "sub-control01_task-nonmusic_run-4_bold.nii.gz:   0%|          | 40.5k/33.9M [00:00<09:53, 59.8kB/s]\u001b[A\u001b[A\u001b[A\u001b[A\n",
      "\n",
      "\n",
      "sub-control01_task-music_run-2_bold.nii.gz:  20%|█▉        | 6.67M/33.9M [00:02<00:08, 3.53MB/s]\u001b[A\u001b[A\u001b[A\n",
      "\n",
      "sub-control01_T1w.nii.gz:  10%|█         | 903k/8.77M [00:02<00:26, 308kB/s]:02<00:13, 2.15MB/s]\u001b[A\u001b[A\n",
      "sub-control01_task-music_run-1_bold.nii.gz:   2%|▏         | 761k/33.8M [00:02<01:55, 300kB/s]\u001b[A\n",
      "\n",
      "\n",
      "\n",
      "sub-control01_task-nonmusic_run-4_bold.nii.gz:   0%|          | 57.5k/33.9M [00:00<07:27, 79.2kB/s]\u001b[A\u001b[A\u001b[A\u001b[A\n",
      "\n",
      "\n",
      "sub-control01_T1w.nii.gz:  11%|█         | 954k/8.77M [00:03<00:24, 331kB/s]:02<00:06, 4.18MB/s]\u001b[A\u001b[A\u001b[A\n",
      "sub-control01_task-music_run-1_bold.nii.gz:   2%|▏         | 813k/33.8M [00:02<01:46, 326kB/s]\u001b[A\n",
      "\n",
      "\n",
      "\n",
      "sub-control01_task-nonmusic_run-4_bold.nii.gz:   0%|          | 77.0k/33.9M [00:01<06:09, 95.8kB/s]\u001b[A\u001b[A\u001b[A\u001b[A\n",
      "\n",
      "sub-control01_T1w.nii.gz:  11%|█         | 0.98M/8.77M [00:03<00:23, 349kB/s]03<00:13, 1.99MB/s]\u001b[A\u001b[A\n",
      "sub-control01_task-music_run-1_bold.nii.gz:   3%|▎         | 880k/33.8M [00:03<01:31, 376kB/s]\u001b[A\n",
      "\n",
      "\n",
      "sub-control01_task-music_run-2_bold.nii.gz:  24%|██▍       | 8.17M/33.9M [00:03<00:06, 4.06MB/s]\u001b[A\u001b[A\u001b[A\n",
      "\n",
      "sub-control01_task-music_run-3_bold.nii.gz:  22%|██▏       | 7.58M/33.9M [00:03<00:12, 2.18MB/s]\u001b[A\u001b[A\n",
      "\n",
      "\n",
      "\n",
      "sub-control01_task-nonmusic_run-4_bold.nii.gz:   0%|          | 94.0k/33.9M [00:01<05:37, 105kB/s] \u001b[A\u001b[A\u001b[A\u001b[A\n",
      "\n",
      "\n",
      "sub-control01_T1w.nii.gz:  12%|█▏        | 1.05M/8.77M [00:03<00:20, 399kB/s]03<00:06, 4.23MB/s]\u001b[A\u001b[A\u001b[A\n",
      "sub-control01_task-music_run-1_bold.nii.gz:   3%|▎         | 931k/33.8M [00:03<01:30, 381kB/s]\u001b[A\n",
      "\n",
      "\n",
      "\n",
      "sub-control01_task-nonmusic_run-4_bold.nii.gz:   0%|          | 111k/33.9M [00:01<05:17, 111kB/s] \u001b[A\u001b[A\u001b[A\u001b[A\n",
      "\n",
      "sub-control01_T1w.nii.gz:  13%|█▎        | 1.10M/8.77M [00:03<00:19, 412kB/s]03<00:12, 2.16MB/s]\u001b[A\u001b[A\n",
      "\n",
      "\n",
      "sub-control01_task-music_run-2_bold.nii.gz:  27%|██▋       | 9.25M/33.9M [00:03<00:06, 4.25MB/s]\u001b[A\u001b[A\u001b[A\n",
      "sub-control01_task-music_run-1_bold.nii.gz:   3%|▎         | 982k/33.8M [00:03<01:29, 384kB/s]\u001b[A\n",
      "\n",
      "\n",
      "\n",
      "sub-control01_task-nonmusic_run-4_bold.nii.gz:   0%|          | 131k/33.9M [00:01<04:43, 125kB/s]\u001b[A\u001b[A\u001b[A\u001b[A\n",
      "\n",
      "sub-control01_T1w.nii.gz:  13%|█▎        | 1.15M/8.77M [00:03<00:19, 416kB/s]03<00:12, 2.13MB/s]\u001b[A\u001b[A\n",
      "sub-control01_task-music_run-1_bold.nii.gz:   3%|▎         | 1.01M/33.8M [00:03<01:23, 414kB/s]\u001b[A\n",
      "\n",
      "\n",
      "sub-control01_task-music_run-2_bold.nii.gz:  29%|██▉       | 9.82M/33.9M [00:03<00:05, 4.34MB/s]\u001b[A\u001b[A\u001b[A\n",
      "\n",
      "\n",
      "\n",
      "sub-control01_task-nonmusic_run-4_bold.nii.gz:   0%|          | 147k/33.9M [00:01<04:41, 126kB/s]\u001b[A\u001b[A\u001b[A\u001b[A\n",
      "\n",
      "\n",
      "sub-control01_task-music_run-2_bold.nii.gz:  30%|███       | 10.3M/33.9M [00:03<00:05, 4.44MB/s]\u001b[A\u001b[A\u001b[A\n",
      "\n",
      "sub-control01_T1w.nii.gz:  14%|█▍        | 1.21M/8.77M [00:03<00:18, 432kB/s]03<00:13, 2.03MB/s]\u001b[A\u001b[A\n",
      "sub-control01_task-music_run-1_bold.nii.gz:   3%|▎         | 1.08M/33.8M [00:03<01:22, 415kB/s]\u001b[A\n",
      "\n",
      "\n",
      "sub-control01_task-music_run-2_bold.nii.gz:  32%|███▏      | 10.8M/33.9M [00:03<00:05, 4.50MB/s]\u001b[A\u001b[A\u001b[A\n",
      "\n",
      "sub-control01_task-music_run-3_bold.nii.gz:  25%|██▌       | 8.63M/33.9M [00:03<00:13, 1.99MB/s]\u001b[A\u001b[A\n",
      "\n",
      "\n",
      "\n",
      "sub-control01_T1w.nii.gz:  15%|█▍        | 1.28M/8.77M [00:03<00:20, 389kB/s]0:01<03:54, 151kB/s]\u001b[A\u001b[A\u001b[A\u001b[A\n",
      "sub-control01_task-music_run-1_bold.nii.gz:   3%|▎         | 1.13M/33.8M [00:03<01:35, 359kB/s]\u001b[A\n",
      "\n",
      "\n",
      "\n",
      "sub-control01_task-nonmusic_run-4_bold.nii.gz:   1%|          | 200k/33.9M [00:01<03:48, 154kB/s]\u001b[A\u001b[A\u001b[A\u001b[A\n",
      "\n",
      "sub-control01_task-music_run-3_bold.nii.gz:  26%|██▌       | 8.85M/33.9M [00:03<00:13, 1.89MB/s]\u001b[A\u001b[A\n",
      "\n",
      "\n",
      "sub-control01_T1w.nii.gz:  15%|█▌        | 1.35M/8.77M [00:04<00:18, 422kB/s]03<00:06, 3.53MB/s]\u001b[A\u001b[A\u001b[A\n",
      "sub-control01_task-music_run-1_bold.nii.gz:   4%|▎         | 1.19M/33.8M [00:03<01:25, 398kB/s]\u001b[A\n",
      "\n",
      "\n",
      "\n",
      "sub-control01_T1w.nii.gz:  16%|█▌        | 1.41M/8.77M [00:04<00:17, 451kB/s]0:02<04:01, 146kB/s]\u001b[A\u001b[A\u001b[A\u001b[A\n",
      "sub-control01_task-music_run-1_bold.nii.gz:   4%|▎         | 1.24M/33.8M [00:04<01:25, 399kB/s]\u001b[A\n",
      "\n",
      "\n",
      "\n",
      "sub-control01_task-nonmusic_run-4_bold.nii.gz:   1%|          | 234k/33.9M [00:02<03:50, 153kB/s]\u001b[A\u001b[A\u001b[A\u001b[A\n",
      "\n",
      "\n",
      "sub-control01_task-music_run-2_bold.nii.gz:  34%|███▍      | 11.6M/33.9M [00:04<00:07, 2.99MB/s]\u001b[A\u001b[A\u001b[A\n",
      "\n",
      "sub-control01_task-music_run-3_bold.nii.gz:  27%|██▋       | 9.05M/33.9M [00:04<00:19, 1.36MB/s]\u001b[A\u001b[A\n",
      "\n",
      "\n",
      "sub-control01_T1w.nii.gz:  17%|█▋        | 1.48M/8.77M [00:04<00:17, 440kB/s]04<00:07, 3.21MB/s]\u001b[A\u001b[A\u001b[A\n",
      "sub-control01_task-music_run-1_bold.nii.gz:   4%|▍         | 1.31M/33.8M [00:04<01:24, 406kB/s]\u001b[A\n",
      "\n",
      "sub-control01_task-music_run-3_bold.nii.gz:  27%|██▋       | 9.27M/33.9M [00:04<00:17, 1.50MB/s]\u001b[A\u001b[A\n",
      "\n",
      "\n",
      "\n",
      "sub-control01_task-nonmusic_run-4_bold.nii.gz:   1%|          | 268k/33.9M [00:02<03:32, 166kB/s]\u001b[A\u001b[A\u001b[A\u001b[A\n",
      "\n",
      "\n",
      "sub-control01_task-music_run-2_bold.nii.gz:  37%|███▋      | 12.4M/33.9M [00:04<00:06, 3.27MB/s]\u001b[A\u001b[A\u001b[A\n",
      "\n",
      "sub-control01_T1w.nii.gz:  18%|█▊        | 1.55M/8.77M [00:04<00:18, 412kB/s]04<00:16, 1.51MB/s]\u001b[A\u001b[A\n",
      "\n",
      "\n",
      "\n",
      "sub-control01_task-nonmusic_run-4_bold.nii.gz:   1%|          | 285k/33.9M [00:02<03:58, 147kB/s]\u001b[A\u001b[A\u001b[A\u001b[A\n",
      "sub-control01_task-music_run-1_bold.nii.gz:   4%|▍         | 1.37M/33.8M [00:04<01:28, 386kB/s]\u001b[A\n",
      "\n",
      "\n",
      "sub-control01_task-music_run-2_bold.nii.gz:  38%|███▊      | 12.8M/33.9M [00:04<00:07, 3.05MB/s]\u001b[A\u001b[A\u001b[A\n",
      "\n",
      "sub-control01_task-music_run-3_bold.nii.gz:  29%|██▉       | 9.74M/33.9M [00:04<00:15, 1.67MB/s]\u001b[A\u001b[A\n",
      "\n",
      "\n",
      "\n",
      "sub-control01_T1w.nii.gz:  18%|█▊        | 1.61M/8.77M [00:04<00:17, 430kB/s]0:02<04:11, 140kB/s]\u001b[A\u001b[A\u001b[A\u001b[A\n",
      "sub-control01_task-music_run-1_bold.nii.gz:   4%|▍         | 1.42M/33.8M [00:04<01:29, 379kB/s]\u001b[A\n",
      "\n",
      "\n",
      "sub-control01_task-music_run-2_bold.nii.gz:  39%|███▉      | 13.2M/33.9M [00:04<00:07, 2.95MB/s]\u001b[A\u001b[A\u001b[A\n",
      "\n",
      "sub-control01_T1w.nii.gz:  19%|█▉        | 1.68M/8.77M [00:04<00:15, 472kB/s]04<00:13, 1.80MB/s]\u001b[A\u001b[A\n",
      "\n",
      "\n",
      "\n",
      "sub-control01_task-nonmusic_run-4_bold.nii.gz:   1%|          | 336k/33.9M [00:02<03:27, 169kB/s]\u001b[A\u001b[A\u001b[A\u001b[A\n",
      "sub-control01_task-music_run-1_bold.nii.gz:   4%|▍         | 1.49M/33.8M [00:04<01:23, 407kB/s]\u001b[A\n",
      "\n",
      "sub-control01_task-music_run-3_bold.nii.gz:  30%|██▉       | 10.1M/33.9M [00:04<00:13, 1.79MB/s]\u001b[A\u001b[A\n",
      "\n",
      "\n",
      "sub-control01_T1w.nii.gz:  20%|█▉        | 1.75M/8.77M [00:05<00:14, 494kB/s]04<00:06, 3.08MB/s]\u001b[A\u001b[A\u001b[A\n",
      "\n",
      "\n",
      "\n",
      "sub-control01_task-nonmusic_run-4_bold.nii.gz:   1%|          | 353k/33.9M [00:02<03:33, 165kB/s]\u001b[A\u001b[A\u001b[A\u001b[A\n",
      "sub-control01_task-music_run-1_bold.nii.gz:   5%|▍         | 1.54M/33.8M [00:04<01:21, 415kB/s]\u001b[A\n",
      "\n",
      "sub-control01_task-music_run-3_bold.nii.gz:  31%|███       | 10.3M/33.9M [00:04<00:13, 1.81MB/s]\u001b[A\u001b[A\n",
      "\n",
      "\n",
      "sub-control01_T1w.nii.gz:  21%|██        | 1.81M/8.77M [00:05<00:14, 503kB/s]04<00:06, 3.27MB/s]\u001b[A\u001b[A\u001b[A\n",
      "\n",
      "\n",
      "\n",
      "sub-control01_task-nonmusic_run-4_bold.nii.gz:   1%|          | 387k/33.9M [00:03<03:08, 186kB/s]\u001b[A\u001b[A\u001b[A\u001b[A\n",
      "sub-control01_T1w.nii.gz:  21%|██▏       | 1.88M/8.77M [00:05<00:13, 534kB/s]05<01:17, 436kB/s]\u001b[A\n",
      "\n",
      "sub-control01_task-music_run-3_bold.nii.gz:  31%|███       | 10.5M/33.9M [00:05<00:19, 1.27MB/s]\u001b[A\u001b[A\n",
      "sub-control01_task-music_run-1_bold.nii.gz:   5%|▍         | 1.67M/33.8M [00:05<01:16, 439kB/s]\u001b[A\n",
      "\n",
      "\n",
      "sub-control01_task-music_run-2_bold.nii.gz:  43%|████▎     | 14.4M/33.9M [00:05<00:08, 2.33MB/s]\u001b[A\u001b[A\u001b[A\n",
      "\n",
      "\n",
      "\n",
      "sub-control01_task-nonmusic_run-4_bold.nii.gz:   1%|          | 421k/33.9M [00:03<03:12, 183kB/s]\u001b[A\u001b[A\u001b[A\u001b[A\n",
      "\n",
      "sub-control01_T1w.nii.gz:  22%|██▏       | 1.96M/8.77M [00:05<00:13, 513kB/s]05<00:15, 1.61MB/s]\u001b[A\u001b[A\n",
      "sub-control01_task-music_run-1_bold.nii.gz:   5%|▌         | 1.72M/33.8M [00:05<01:18, 427kB/s]\u001b[A\n",
      "\n",
      "\n",
      "sub-control01_task-music_run-2_bold.nii.gz:  44%|████▍     | 15.1M/33.9M [00:05<00:06, 3.00MB/s]\u001b[A\u001b[A\u001b[A\n",
      "\n",
      "sub-control01_task-music_run-3_bold.nii.gz:  32%|███▏      | 11.0M/33.9M [00:05<00:14, 1.62MB/s]\u001b[A\u001b[A\n",
      "\n",
      "\n",
      "\n",
      "sub-control01_T1w.nii.gz:  23%|██▎       | 2.03M/8.77M [00:05<00:13, 534kB/s]0:03<03:05, 189kB/s]\u001b[A\u001b[A\u001b[A\u001b[A\n",
      "sub-control01_task-music_run-1_bold.nii.gz:   5%|▌         | 1.79M/33.8M [00:05<01:12, 461kB/s]\u001b[A\n",
      "\n",
      "\n",
      "sub-control01_task-music_run-2_bold.nii.gz:  45%|████▌     | 15.4M/33.9M [00:05<00:06, 2.98MB/s]\u001b[A\u001b[A\u001b[A\n",
      "\n",
      "sub-control01_T1w.nii.gz:  24%|██▍       | 2.09M/8.77M [00:05<00:13, 539kB/s]05<00:15, 1.58MB/s]\u001b[A\u001b[A\n",
      "\n",
      "\n",
      "\n",
      "sub-control01_task-nonmusic_run-4_bold.nii.gz:   1%|▏         | 489k/33.9M [00:03<02:47, 209kB/s]\u001b[A\u001b[A\u001b[A\u001b[A\n",
      "sub-control01_task-music_run-1_bold.nii.gz:   5%|▌         | 1.86M/33.8M [00:05<01:07, 497kB/s]\u001b[A\n",
      "\n",
      "\n",
      "sub-control01_task-music_run-2_bold.nii.gz:  46%|████▋     | 15.7M/33.9M [00:05<00:06, 2.98MB/s]\u001b[A\u001b[A\u001b[A\n",
      "\n",
      "sub-control01_T1w.nii.gz:  25%|██▍       | 2.16M/8.77M [00:05<00:12, 545kB/s]05<00:15, 1.56MB/s]\u001b[A\u001b[A\n",
      "sub-control01_task-music_run-1_bold.nii.gz:   6%|▌         | 1.91M/33.8M [00:05<01:08, 488kB/s]\u001b[A\n",
      "\n",
      "\n",
      "sub-control01_task-music_run-2_bold.nii.gz:  47%|████▋     | 16.0M/33.9M [00:05<00:06, 2.97MB/s]\u001b[A\u001b[A\u001b[A\n",
      "\n",
      "\n",
      "\n",
      "sub-control01_task-nonmusic_run-4_bold.nii.gz:   2%|▏         | 523k/33.9M [00:03<02:48, 207kB/s]\u001b[A\u001b[A\u001b[A\u001b[A\n",
      "\n",
      "sub-control01_T1w.nii.gz:  25%|██▌       | 2.23M/8.77M [00:05<00:12, 531kB/s]05<00:15, 1.49MB/s]\u001b[A\u001b[A\n",
      "\n",
      "\n",
      "sub-control01_task-music_run-2_bold.nii.gz:  48%|████▊     | 16.4M/33.9M [00:05<00:06, 2.87MB/s]\u001b[A\u001b[A\u001b[A\n",
      "sub-control01_task-music_run-1_bold.nii.gz:   6%|▌         | 1.97M/33.8M [00:05<01:08, 490kB/s]\u001b[A\n",
      "\n",
      "sub-control01_task-music_run-3_bold.nii.gz:  34%|███▍      | 11.7M/33.9M [00:05<00:15, 1.52MB/s]\u001b[A\u001b[A\n",
      "\n",
      "\n",
      "\n",
      "sub-control01_T1w.nii.gz:  26%|██▋       | 2.31M/8.77M [00:06<00:11, 580kB/s]0:03<03:00, 193kB/s]\u001b[A\u001b[A\u001b[A\u001b[A\n",
      "sub-control01_task-music_run-1_bold.nii.gz:   6%|▌         | 2.02M/33.8M [00:05<01:08, 487kB/s]\u001b[A\n",
      "\n",
      "\n",
      "sub-control01_task-music_run-2_bold.nii.gz:  49%|████▉     | 16.7M/33.9M [00:05<00:06, 2.77MB/s]\u001b[A\u001b[A\u001b[A\n",
      "\n",
      "sub-control01_task-music_run-3_bold.nii.gz:  35%|███▍      | 11.9M/33.9M [00:05<00:14, 1.56MB/s]\u001b[A\u001b[A\n",
      "\n",
      "\n",
      "\n",
      "sub-control01_T1w.nii.gz:  27%|██▋       | 2.38M/8.77M [00:06<00:11, 587kB/s]0:04<02:42, 214kB/s]\u001b[A\u001b[A\u001b[A\u001b[A\n",
      "\n",
      "\n",
      "sub-control01_task-music_run-2_bold.nii.gz:  50%|█████     | 17.0M/33.9M [00:05<00:06, 2.83MB/s]\u001b[A\u001b[A\u001b[A\n",
      "sub-control01_task-music_run-1_bold.nii.gz:   6%|▌         | 2.09M/33.8M [00:06<01:04, 516kB/s]\u001b[A\n",
      "\n",
      "sub-control01_task-music_run-3_bold.nii.gz:  36%|███▌      | 12.0M/33.9M [00:06<00:14, 1.57MB/s]\u001b[A\u001b[A\n",
      "\n",
      "\n",
      "\n",
      "sub-control01_T1w.nii.gz:  28%|██▊       | 2.44M/8.77M [00:06<00:11, 603kB/s]0:04<02:25, 239kB/s]\u001b[A\u001b[A\u001b[A\u001b[A\n",
      "\n",
      "\n",
      "sub-control01_task-music_run-2_bold.nii.gz:  51%|█████     | 17.3M/33.9M [00:06<00:05, 2.98MB/s]\u001b[A\u001b[A\u001b[A\n",
      "sub-control01_task-music_run-1_bold.nii.gz:   6%|▋         | 2.15M/33.8M [00:06<01:04, 514kB/s]\u001b[A\n",
      "\n",
      "sub-control01_task-music_run-3_bold.nii.gz:  36%|███▌      | 12.2M/33.9M [00:06<00:14, 1.55MB/s]\u001b[A\u001b[A\n",
      "\n",
      "\n",
      "\n",
      "sub-control01_T1w.nii.gz:  29%|██▊       | 2.51M/8.77M [00:06<00:11, 592kB/s]0:04<02:18, 252kB/s]\u001b[A\u001b[A\u001b[A\u001b[A\n",
      "\n",
      "\n",
      "sub-control01_task-music_run-2_bold.nii.gz:  52%|█████▏    | 17.6M/33.9M [00:06<00:06, 2.63MB/s]\u001b[A\u001b[A\u001b[A\n",
      "sub-control01_task-music_run-1_bold.nii.gz:   7%|▋         | 2.20M/33.8M [00:06<01:08, 485kB/s]\u001b[A\n",
      "\n",
      "sub-control01_task-music_run-3_bold.nii.gz:  37%|███▋      | 12.4M/33.9M [00:06<00:13, 1.65MB/s]\u001b[A\u001b[A\n",
      "\n",
      "\n",
      "\n",
      "sub-control01_T1w.nii.gz:  29%|██▉       | 2.58M/8.77M [00:06<00:10, 598kB/s]0:04<02:11, 264kB/s]\u001b[A\u001b[A\u001b[A\u001b[A\n",
      "\n",
      "\n",
      "sub-control01_task-music_run-2_bold.nii.gz:  53%|█████▎    | 17.9M/33.9M [00:06<00:06, 2.61MB/s]\u001b[A\u001b[A\u001b[A\n",
      "sub-control01_task-music_run-1_bold.nii.gz:   7%|▋         | 2.27M/33.8M [00:06<01:08, 481kB/s]\u001b[A\n",
      "\n",
      "sub-control01_T1w.nii.gz:  30%|███       | 2.64M/8.77M [00:06<00:10, 589kB/s]06<00:13, 1.67MB/s]\u001b[A\u001b[A\n",
      "\n",
      "\n",
      "sub-control01_task-music_run-2_bold.nii.gz:  54%|█████▎    | 18.1M/33.9M [00:06<00:06, 2.61MB/s]\u001b[A\u001b[A\u001b[A\n",
      "\n",
      "sub-control01_task-music_run-3_bold.nii.gz:  38%|███▊      | 12.8M/33.9M [00:06<00:13, 1.64MB/s]\u001b[A\u001b[A\n",
      "\n",
      "\n",
      "\n",
      "sub-control01_task-nonmusic_run-4_bold.nii.gz:   2%|▏         | 727k/33.9M [00:04<02:33, 227kB/s]\u001b[A\u001b[A\u001b[A\u001b[A\n",
      "sub-control01_T1w.nii.gz:  31%|███       | 2.71M/8.77M [00:06<00:10, 590kB/s]06<01:06, 499kB/s]\u001b[A\n",
      "\n",
      "\n",
      "sub-control01_task-music_run-2_bold.nii.gz:  54%|█████▍    | 18.4M/33.9M [00:06<00:06, 2.62MB/s]\u001b[A\u001b[A\u001b[A\n",
      "\n",
      "\n",
      "\n",
      "sub-control01_task-nonmusic_run-4_bold.nii.gz:   2%|▏         | 761k/33.9M [00:04<02:19, 249kB/s]\u001b[A\u001b[A\u001b[A\u001b[A\n",
      "\n",
      "sub-control01_task-music_run-3_bold.nii.gz:  38%|███▊      | 12.9M/33.9M [00:06<00:13, 1.63MB/s]\u001b[A\u001b[A\n",
      "sub-control01_T1w.nii.gz:  32%|███▏      | 2.77M/8.77M [00:06<00:10, 591kB/s]06<01:02, 530kB/s]\u001b[A\n",
      "\n",
      "\n",
      "sub-control01_task-music_run-2_bold.nii.gz:  55%|█████▌    | 18.7M/33.9M [00:06<00:05, 2.69MB/s]\u001b[A\u001b[A\u001b[A\n",
      "\n",
      "\n",
      "\n",
      "sub-control01_task-nonmusic_run-4_bold.nii.gz:   2%|▏         | 795k/33.9M [00:04<02:13, 259kB/s]\u001b[A\u001b[A\u001b[A\u001b[A\n",
      "sub-control01_task-music_run-1_bold.nii.gz:   7%|▋         | 2.47M/33.8M [00:06<01:00, 547kB/s]\u001b[A\n",
      "\n",
      "sub-control01_T1w.nii.gz:  32%|███▏      | 2.84M/8.77M [00:06<00:10, 612kB/s]06<00:14, 1.53MB/s]\u001b[A\u001b[A\n",
      "\n",
      "\n",
      "sub-control01_task-music_run-2_bold.nii.gz:  56%|█████▋    | 19.1M/33.9M [00:06<00:05, 2.88MB/s]\u001b[A\u001b[A\u001b[A\n",
      "\n",
      "\n",
      "\n",
      "sub-control01_task-nonmusic_run-4_bold.nii.gz:   2%|▏         | 829k/33.9M [00:04<02:09, 267kB/s]\u001b[A\u001b[A\u001b[A\u001b[A\n",
      "sub-control01_task-music_run-1_bold.nii.gz:   7%|▋         | 2.54M/33.8M [00:06<00:58, 557kB/s]\u001b[A\n",
      "\n",
      "sub-control01_task-music_run-3_bold.nii.gz:  39%|███▉      | 13.3M/33.9M [00:06<00:14, 1.49MB/s]\u001b[A\u001b[A\n",
      "\n",
      "\n",
      "sub-control01_T1w.nii.gz:  33%|███▎      | 2.91M/8.77M [00:07<00:10, 589kB/s]06<00:05, 2.89MB/s]\u001b[A\u001b[A\u001b[A\n",
      "\n",
      "\n",
      "\n",
      "sub-control01_task-nonmusic_run-4_bold.nii.gz:   2%|▏         | 863k/33.9M [00:05<02:08, 269kB/s]\u001b[A\u001b[A\u001b[A\u001b[A\n",
      "sub-control01_task-music_run-1_bold.nii.gz:   8%|▊         | 2.60M/33.8M [00:07<00:59, 553kB/s]\u001b[A\n",
      "\n",
      "\n",
      "sub-control01_task-music_run-2_bold.nii.gz:  58%|█████▊    | 19.7M/33.9M [00:06<00:05, 2.86MB/s]\u001b[A\u001b[A\u001b[A\n",
      "\n",
      "sub-control01_T1w.nii.gz:  34%|███▍      | 2.99M/8.77M [00:07<00:10, 600kB/s]07<00:15, 1.37MB/s]\u001b[A\u001b[A\n",
      "sub-control01_task-music_run-1_bold.nii.gz:   8%|▊         | 2.67M/33.8M [00:07<00:57, 566kB/s]\u001b[A\n",
      "\n",
      "\n",
      "sub-control01_task-music_run-2_bold.nii.gz:  59%|█████▉    | 20.0M/33.9M [00:07<00:04, 2.91MB/s]\u001b[A\u001b[A\u001b[A\n",
      "\n",
      "sub-control01_task-music_run-3_bold.nii.gz:  40%|████      | 13.6M/33.9M [00:07<00:15, 1.40MB/s]\u001b[A\u001b[A\n",
      "\n",
      "\n",
      "\n",
      "sub-control01_T1w.nii.gz:  35%|███▍      | 3.06M/8.77M [00:07<00:10, 581kB/s]0:05<02:12, 262kB/s]\u001b[A\u001b[A\u001b[A\u001b[A\n",
      "sub-control01_task-music_run-1_bold.nii.gz:   8%|▊         | 2.74M/33.8M [00:07<00:56, 579kB/s]\u001b[A\n",
      "\n",
      "\n",
      "sub-control01_task-music_run-2_bold.nii.gz:  60%|██████    | 20.4M/33.9M [00:07<00:04, 3.01MB/s]\u001b[A\u001b[A\u001b[A\n",
      "\n",
      "sub-control01_task-music_run-3_bold.nii.gz:  41%|████      | 13.7M/33.9M [00:07<00:14, 1.43MB/s]\u001b[A\u001b[A\n",
      "\n",
      "\n",
      "\n",
      "sub-control01_T1w.nii.gz:  36%|███▌      | 3.12M/8.77M [00:07<00:09, 594kB/s]0:05<02:05, 276kB/s]\u001b[A\u001b[A\u001b[A\u001b[A\n",
      "\n",
      "\n",
      "sub-control01_task-music_run-2_bold.nii.gz:  61%|██████    | 20.7M/33.9M [00:07<00:04, 3.01MB/s]\u001b[A\u001b[A\u001b[A\n",
      "sub-control01_task-music_run-1_bold.nii.gz:   8%|▊         | 2.80M/33.8M [00:07<00:55, 582kB/s]\u001b[A\n",
      "\n",
      "sub-control01_task-music_run-3_bold.nii.gz:  41%|████      | 13.9M/33.9M [00:07<00:14, 1.41MB/s]\u001b[A\u001b[A\n",
      "\n",
      "\n",
      "\n",
      "sub-control01_T1w.nii.gz:  36%|███▋      | 3.19M/8.77M [00:07<00:09, 607kB/s]0:05<02:01, 285kB/s]\u001b[A\u001b[A\u001b[A\u001b[A\n",
      "\n",
      "\n",
      "sub-control01_task-music_run-2_bold.nii.gz:  62%|██████▏   | 21.0M/33.9M [00:07<00:04, 3.03MB/s]\u001b[A\u001b[A\u001b[A\n",
      "\n",
      "sub-control01_task-music_run-3_bold.nii.gz:  42%|████▏     | 14.1M/33.9M [00:07<00:14, 1.42MB/s]\u001b[A\u001b[A\n",
      "\n",
      "\n",
      "\n",
      "sub-control01_T1w.nii.gz:  37%|███▋      | 3.26M/8.77M [00:07<00:09, 600kB/s]00:05<01:47, 321kB/s]\u001b[A\u001b[A\u001b[A\u001b[A\n",
      "sub-control01_task-music_run-1_bold.nii.gz:   8%|▊         | 2.87M/33.8M [00:07<01:01, 525kB/s]\u001b[A\n",
      "\n",
      "sub-control01_task-music_run-3_bold.nii.gz:  42%|████▏     | 14.2M/33.9M [00:07<00:14, 1.41MB/s]\u001b[A\u001b[A\n",
      "\n",
      "\n",
      "sub-control01_task-music_run-2_bold.nii.gz:  63%|██████▎   | 21.3M/33.9M [00:07<00:04, 2.75MB/s]\u001b[A\u001b[A\u001b[A\n",
      "\n",
      "\n",
      "\n",
      "sub-control01_T1w.nii.gz:  38%|███▊      | 3.32M/8.77M [00:07<00:09, 604kB/s]00:05<01:54, 301kB/s]\u001b[A\u001b[A\u001b[A\u001b[A\n",
      "sub-control01_task-music_run-1_bold.nii.gz:   9%|▊         | 2.93M/33.8M [00:07<01:00, 539kB/s]\u001b[A\n",
      "\n",
      "sub-control01_task-music_run-3_bold.nii.gz:  42%|████▏     | 14.3M/33.9M [00:07<00:14, 1.39MB/s]\u001b[A\u001b[A\n",
      "\n",
      "\n",
      "sub-control01_task-music_run-2_bold.nii.gz:  64%|██████▍   | 21.6M/33.9M [00:07<00:04, 2.87MB/s]\u001b[A\u001b[A\u001b[A\n",
      "\n",
      "\n",
      "\n",
      "sub-control01_T1w.nii.gz:  39%|███▉      | 3.41M/8.77M [00:07<00:08, 628kB/s]00:05<01:54, 299kB/s]\u001b[A\u001b[A\u001b[A\u001b[A\n",
      "sub-control01_task-music_run-1_bold.nii.gz:   9%|▉         | 3.00M/33.8M [00:07<00:58, 549kB/s]\u001b[A\n",
      "\n",
      "sub-control01_task-music_run-3_bold.nii.gz:  43%|████▎     | 14.5M/33.9M [00:07<00:14, 1.39MB/s]\u001b[A\u001b[A\n",
      "\n",
      "\n",
      "sub-control01_task-music_run-2_bold.nii.gz:  65%|██████▍   | 22.0M/33.9M [00:07<00:04, 2.97MB/s]\u001b[A\u001b[A\u001b[A\n",
      "\n",
      "\n",
      "\n",
      "sub-control01_T1w.nii.gz:  40%|███▉      | 3.47M/8.77M [00:08<00:08, 623kB/s]00:05<01:51, 309kB/s]\u001b[A\u001b[A\u001b[A\u001b[A\n",
      "sub-control01_task-music_run-1_bold.nii.gz:   9%|▉         | 3.07M/33.8M [00:07<00:56, 566kB/s]\u001b[A\n",
      "\n",
      "sub-control01_task-music_run-3_bold.nii.gz:  43%|████▎     | 14.6M/33.9M [00:07<00:14, 1.35MB/s]\u001b[A\u001b[A\n",
      "\n",
      "\n",
      "sub-control01_task-music_run-2_bold.nii.gz:  66%|██████▌   | 22.3M/33.9M [00:07<00:04, 3.02MB/s]\u001b[A\u001b[A\u001b[A\n",
      "\n",
      "\n",
      "\n",
      "sub-control01_T1w.nii.gz:  40%|████      | 3.54M/8.77M [00:08<00:08, 627kB/s]00:06<01:48, 316kB/s]\u001b[A\u001b[A\u001b[A\u001b[A\n",
      "sub-control01_task-music_run-1_bold.nii.gz:   9%|▉         | 3.13M/33.8M [00:08<00:54, 588kB/s]\u001b[A\n",
      "\n",
      "sub-control01_task-music_run-3_bold.nii.gz:  44%|████▎     | 14.8M/33.9M [00:08<00:14, 1.42MB/s]\u001b[A\u001b[A\n",
      "\n",
      "\n",
      "sub-control01_task-music_run-2_bold.nii.gz:  67%|██████▋   | 22.7M/33.9M [00:08<00:03, 3.14MB/s]\u001b[A\u001b[A\u001b[A\n",
      "\n",
      "\n",
      "\n",
      "sub-control01_T1w.nii.gz:  41%|████      | 3.61M/8.77M [00:08<00:08, 626kB/s]00:06<01:46, 323kB/s]\u001b[A\u001b[A\u001b[A\u001b[A\n",
      "sub-control01_task-music_run-1_bold.nii.gz:   9%|▉         | 3.20M/33.8M [00:08<00:54, 592kB/s]\u001b[A\n",
      "\n",
      "sub-control01_task-music_run-3_bold.nii.gz:  44%|████▍     | 14.9M/33.9M [00:08<00:13, 1.46MB/s]\u001b[A\u001b[A\n",
      "\n",
      "\n",
      "sub-control01_task-music_run-2_bold.nii.gz:  68%|██████▊   | 23.0M/33.9M [00:08<00:03, 3.11MB/s]\u001b[A\u001b[A\u001b[A\n",
      "\n",
      "\n",
      "\n",
      "sub-control01_T1w.nii.gz:  42%|████▏     | 3.67M/8.77M [00:08<00:08, 639kB/s]00:06<01:51, 307kB/s]\u001b[A\u001b[A\u001b[A\u001b[A\n",
      "sub-control01_task-music_run-1_bold.nii.gz:  10%|▉         | 3.27M/33.8M [00:08<00:54, 589kB/s]\u001b[A\n",
      "\n",
      "sub-control01_task-music_run-3_bold.nii.gz:  45%|████▍     | 15.1M/33.9M [00:08<00:13, 1.47MB/s]\u001b[A\u001b[A\n",
      "\n",
      "\n",
      "sub-control01_T1w.nii.gz:  43%|████▎     | 3.74M/8.77M [00:08<00:08, 628kB/s]08<00:03, 3.12MB/s]\u001b[A\u001b[A\u001b[A\n",
      "\n",
      "\n",
      "\n",
      "sub-control01_task-nonmusic_run-4_bold.nii.gz:   4%|▎         | 1.24M/33.9M [00:06<01:42, 333kB/s]\u001b[A\u001b[A\u001b[A\u001b[A\n",
      "sub-control01_task-music_run-1_bold.nii.gz:  10%|▉         | 3.33M/33.8M [00:08<00:53, 602kB/s]\u001b[A\n",
      "\n",
      "sub-control01_task-music_run-3_bold.nii.gz:  45%|████▌     | 15.3M/33.9M [00:08<00:13, 1.46MB/s]\u001b[A\u001b[A\n",
      "\n",
      "\n",
      "sub-control01_T1w.nii.gz:  44%|████▎     | 3.82M/8.77M [00:08<00:07, 675kB/s]08<00:03, 3.04MB/s]\u001b[A\u001b[A\u001b[A\n",
      "\n",
      "\n",
      "\n",
      "sub-control01_task-nonmusic_run-4_bold.nii.gz:   4%|▍         | 1.29M/33.9M [00:06<01:32, 369kB/s]\u001b[A\u001b[A\u001b[A\u001b[A\n",
      "sub-control01_task-music_run-1_bold.nii.gz:  10%|█         | 3.40M/33.8M [00:08<00:52, 609kB/s]\u001b[A\n",
      "\n",
      "sub-control01_task-music_run-3_bold.nii.gz:  46%|████▌     | 15.4M/33.9M [00:08<00:12, 1.50MB/s]\u001b[A\u001b[A\n",
      "\n",
      "\n",
      "sub-control01_T1w.nii.gz:  44%|████▍     | 3.89M/8.77M [00:08<00:07, 644kB/s]08<00:03, 2.79MB/s]\u001b[A\u001b[A\u001b[A\n",
      "sub-control01_task-music_run-1_bold.nii.gz:  10%|█         | 3.47M/33.8M [00:08<00:52, 606kB/s]\u001b[A\n",
      "\n",
      "\n",
      "\n",
      "sub-control01_task-nonmusic_run-4_bold.nii.gz:   4%|▍         | 1.34M/33.9M [00:06<01:28, 386kB/s]\u001b[A\u001b[A\u001b[A\u001b[A\n",
      "\n",
      "sub-control01_task-music_run-3_bold.nii.gz:  46%|████▌     | 15.6M/33.9M [00:08<00:12, 1.48MB/s]\u001b[A\u001b[A\n",
      "\n",
      "\n",
      "sub-control01_T1w.nii.gz:  45%|████▌     | 3.97M/8.77M [00:08<00:07, 669kB/s]08<00:03, 2.93MB/s]\u001b[A\u001b[A\u001b[A\n",
      "sub-control01_task-music_run-1_bold.nii.gz:  10%|█         | 3.53M/33.8M [00:08<00:52, 602kB/s]\u001b[A\n",
      "\n",
      "sub-control01_task-music_run-3_bold.nii.gz:  47%|████▋     | 15.8M/33.9M [00:08<00:12, 1.51MB/s]\u001b[A\u001b[A\n",
      "\n",
      "\n",
      "\n",
      "sub-control01_task-nonmusic_run-4_bold.nii.gz:   4%|▍         | 1.39M/33.9M [00:06<01:36, 352kB/s]\u001b[A\u001b[A\u001b[A\u001b[A\n",
      "\n",
      "\n",
      "sub-control01_task-music_run-2_bold.nii.gz:  73%|███████▎  | 24.6M/33.9M [00:08<00:03, 3.05MB/s]\u001b[A\u001b[A\u001b[A\n",
      "sub-control01_T1w.nii.gz:  46%|████▌     | 4.05M/8.77M [00:09<00:07, 661kB/s]08<00:51, 613kB/s]\u001b[A\n",
      "\n",
      "\n",
      "sub-control01_task-music_run-2_bold.nii.gz:  74%|███████▎  | 24.9M/33.9M [00:08<00:03, 2.97MB/s]\u001b[A\u001b[A\u001b[A\n",
      "\n",
      "\n",
      "\n",
      "sub-control01_task-nonmusic_run-4_bold.nii.gz:   4%|▍         | 1.44M/33.9M [00:06<01:30, 377kB/s]\u001b[A\u001b[A\u001b[A\u001b[A\n",
      "\n",
      "sub-control01_task-music_run-3_bold.nii.gz:  47%|████▋     | 15.9M/33.9M [00:08<00:14, 1.26MB/s]\u001b[A\u001b[A\n",
      "sub-control01_T1w.nii.gz:  47%|████▋     | 4.14M/8.77M [00:09<00:07, 685kB/s]08<00:52, 602kB/s]\u001b[A\n",
      "\n",
      "\n",
      "sub-control01_task-music_run-2_bold.nii.gz:  74%|███████▍  | 25.2M/33.9M [00:08<00:03, 2.98MB/s]\u001b[A\u001b[A\u001b[A\n",
      "\n",
      "sub-control01_T1w.nii.gz:  48%|████▊     | 4.20M/8.77M [00:09<00:07, 675kB/s]09<00:14, 1.25MB/s]\u001b[A\u001b[A\n",
      "\n",
      "\n",
      "\n",
      "sub-control01_task-nonmusic_run-4_bold.nii.gz:   4%|▍         | 1.49M/33.9M [00:07<01:37, 347kB/s]\u001b[A\u001b[A\u001b[A\u001b[A\n",
      "sub-control01_task-music_run-1_bold.nii.gz:  11%|█         | 3.75M/33.8M [00:09<00:50, 625kB/s]\u001b[A\n",
      "\n",
      "\n",
      "sub-control01_task-music_run-2_bold.nii.gz:  75%|███████▌  | 25.5M/33.9M [00:09<00:02, 3.06MB/s]\u001b[A\u001b[A\u001b[A\n",
      "\n",
      "sub-control01_task-music_run-3_bold.nii.gz:  48%|████▊     | 16.2M/33.9M [00:09<00:14, 1.28MB/s]\u001b[A\u001b[A\n",
      "\n",
      "\n",
      "\n",
      "sub-control01_T1w.nii.gz:  49%|████▉     | 4.29M/8.77M [00:09<00:06, 679kB/s]00:07<01:31, 370kB/s]\u001b[A\u001b[A\u001b[A\u001b[A\n",
      "sub-control01_task-music_run-1_bold.nii.gz:  11%|█▏        | 3.83M/33.8M [00:09<00:48, 650kB/s]\u001b[A\n",
      "\n",
      "\n",
      "sub-control01_task-music_run-2_bold.nii.gz:  76%|███████▋  | 25.8M/33.9M [00:09<00:02, 2.97MB/s]\u001b[A\u001b[A\u001b[A\n",
      "\n",
      "sub-control01_task-music_run-3_bold.nii.gz:  48%|████▊     | 16.4M/33.9M [00:09<00:13, 1.35MB/s]\u001b[A\u001b[A\n",
      "\n",
      "\n",
      "\n",
      "sub-control01_T1w.nii.gz:  50%|████▉     | 4.37M/8.77M [00:09<00:06, 676kB/s]00:07<01:28, 384kB/s]\u001b[A\u001b[A\u001b[A\u001b[A\n",
      "sub-control01_task-music_run-1_bold.nii.gz:  12%|█▏        | 3.91M/33.8M [00:09<00:48, 650kB/s]\u001b[A\n",
      "\n",
      "\n",
      "sub-control01_task-music_run-2_bold.nii.gz:  77%|███████▋  | 26.2M/33.9M [00:09<00:02, 2.97MB/s]\u001b[A\u001b[A\u001b[A\n",
      "\n",
      "sub-control01_task-music_run-3_bold.nii.gz:  49%|████▉     | 16.6M/33.9M [00:09<00:12, 1.40MB/s]\u001b[A\u001b[A\n",
      "\n",
      "\n",
      "\n",
      "sub-control01_T1w.nii.gz:  51%|█████     | 4.45M/8.77M [00:09<00:06, 702kB/s]00:07<01:23, 406kB/s]\u001b[A\u001b[A\u001b[A\u001b[A\n",
      "sub-control01_task-music_run-1_bold.nii.gz:  12%|█▏        | 4.00M/33.8M [00:09<00:48, 644kB/s]\u001b[A\n",
      "\n",
      "\n",
      "sub-control01_task-music_run-2_bold.nii.gz:  78%|███████▊  | 26.5M/33.9M [00:09<00:02, 2.86MB/s]\u001b[A\u001b[A\u001b[A\n",
      "\n",
      "sub-control01_task-music_run-3_bold.nii.gz:  49%|████▉     | 16.7M/33.9M [00:09<00:12, 1.43MB/s]\u001b[A\u001b[A\n",
      "\n",
      "\n",
      "\n",
      "sub-control01_T1w.nii.gz:  52%|█████▏    | 4.53M/8.77M [00:09<00:06, 717kB/s]00:07<01:21, 414kB/s]\u001b[A\u001b[A\u001b[A\u001b[A\n",
      "sub-control01_task-music_run-1_bold.nii.gz:  12%|█▏        | 4.08M/33.8M [00:09<00:48, 649kB/s]\u001b[A\n",
      "\n",
      "\n",
      "sub-control01_task-music_run-2_bold.nii.gz:  79%|███████▉  | 26.9M/33.9M [00:09<00:02, 2.80MB/s]\u001b[A\u001b[A\u001b[A\n",
      "\n",
      "sub-control01_task-music_run-3_bold.nii.gz:  50%|████▉     | 16.9M/33.9M [00:09<00:12, 1.48MB/s]\u001b[A\u001b[A\n",
      "\n",
      "\n",
      "\n",
      "sub-control01_T1w.nii.gz:  53%|█████▎    | 4.62M/8.77M [00:09<00:06, 693kB/s]00:07<01:15, 445kB/s]\u001b[A\u001b[A\u001b[A\u001b[A\n",
      "sub-control01_task-music_run-1_bold.nii.gz:  12%|█▏        | 4.18M/33.8M [00:09<00:42, 731kB/s]\u001b[A\n",
      "\n",
      "\n",
      "sub-control01_task-music_run-2_bold.nii.gz:  81%|████████  | 27.3M/33.9M [00:09<00:02, 2.97MB/s]\u001b[A\u001b[A\u001b[A\n",
      "\n",
      "sub-control01_task-music_run-3_bold.nii.gz:  50%|█████     | 17.1M/33.9M [00:09<00:11, 1.53MB/s]\u001b[A\u001b[A\n",
      "\n",
      "\n",
      "\n",
      "sub-control01_T1w.nii.gz:  54%|█████▎    | 4.70M/8.77M [00:09<00:05, 715kB/s]00:07<01:08, 488kB/s]\u001b[A\u001b[A\u001b[A\u001b[A\n",
      "sub-control01_task-music_run-1_bold.nii.gz:  13%|█▎        | 4.28M/33.8M [00:09<00:40, 762kB/s]\u001b[A\n",
      "\n",
      "sub-control01_task-music_run-3_bold.nii.gz:  51%|█████     | 17.2M/33.9M [00:09<00:11, 1.53MB/s]\u001b[A\u001b[A\n",
      "\n",
      "\n",
      "sub-control01_task-music_run-2_bold.nii.gz:  82%|████████▏ | 27.6M/33.9M [00:09<00:02, 2.99MB/s]\u001b[A\u001b[A\u001b[A\n",
      "\n",
      "\n",
      "\n",
      "sub-control01_T1w.nii.gz:  55%|█████▍    | 4.80M/8.77M [00:10<00:05, 752kB/s]00:07<01:10, 473kB/s]\u001b[A\u001b[A\u001b[A\u001b[A\n",
      "sub-control01_task-music_run-1_bold.nii.gz:  13%|█▎        | 4.36M/33.8M [00:09<00:40, 767kB/s]\u001b[A\n",
      "\n",
      "\n",
      "sub-control01_task-music_run-2_bold.nii.gz:  83%|████████▎ | 28.0M/33.9M [00:09<00:01, 3.13MB/s]\u001b[A\u001b[A\u001b[A\n",
      "\n",
      "sub-control01_task-music_run-3_bold.nii.gz:  51%|█████▏    | 17.4M/33.9M [00:09<00:11, 1.49MB/s]\u001b[A\u001b[A\n",
      "\n",
      "\n",
      "\n",
      "sub-control01_T1w.nii.gz:  56%|█████▌    | 4.90M/8.77M [00:10<00:05, 776kB/s]00:08<01:05, 511kB/s]\u001b[A\u001b[A\u001b[A\u001b[A\n",
      "sub-control01_task-music_run-1_bold.nii.gz:  13%|█▎        | 4.46M/33.8M [00:10<00:37, 820kB/s]\u001b[A\n",
      "\n",
      "\n",
      "sub-control01_task-music_run-2_bold.nii.gz:  83%|████████▎ | 28.3M/33.9M [00:10<00:01, 3.05MB/s]\u001b[A\u001b[A\u001b[A\n",
      "\n",
      "sub-control01_task-music_run-3_bold.nii.gz:  52%|█████▏    | 17.5M/33.9M [00:10<00:11, 1.46MB/s]\u001b[A\u001b[A\n",
      "\n",
      "\n",
      "\n",
      "sub-control01_T1w.nii.gz:  57%|█████▋    | 4.98M/8.77M [00:10<00:05, 762kB/s]00:08<00:57, 578kB/s]\u001b[A\u001b[A\u001b[A\u001b[A\n",
      "\n",
      "\n",
      "sub-control01_task-music_run-2_bold.nii.gz:  84%|████████▍ | 28.6M/33.9M [00:10<00:01, 3.01MB/s]\u001b[A\u001b[A\u001b[A\n",
      "\n",
      "sub-control01_task-music_run-3_bold.nii.gz:  52%|█████▏    | 17.7M/33.9M [00:10<00:11, 1.45MB/s]\u001b[A\u001b[A\n",
      "sub-control01_task-music_run-1_bold.nii.gz:  14%|█▎        | 4.58M/33.8M [00:10<00:37, 825kB/s]\u001b[A\n",
      "\n",
      "\n",
      "\n",
      "sub-control01_T1w.nii.gz:  58%|█████▊    | 5.08M/8.77M [00:10<00:04, 799kB/s]00:08<00:56, 588kB/s]\u001b[A\u001b[A\u001b[A\u001b[A\n",
      "\n",
      "\n",
      "sub-control01_task-music_run-2_bold.nii.gz:  85%|████████▌ | 29.0M/33.9M [00:10<00:01, 3.05MB/s]\u001b[A\u001b[A\u001b[A\n",
      "\n",
      "sub-control01_task-music_run-3_bold.nii.gz:  53%|█████▎    | 17.9M/33.9M [00:10<00:11, 1.49MB/s]\u001b[A\u001b[A\n",
      "sub-control01_task-music_run-1_bold.nii.gz:  14%|█▍        | 4.68M/33.8M [00:10<00:35, 864kB/s]\u001b[A\n",
      "\n",
      "\n",
      "\n",
      "sub-control01_T1w.nii.gz:  59%|█████▉    | 5.18M/8.77M [00:10<00:04, 845kB/s]00:08<00:51, 642kB/s]\u001b[A\u001b[A\u001b[A\u001b[A\n",
      "\n",
      "\n",
      "sub-control01_task-music_run-2_bold.nii.gz:  87%|████████▋ | 29.3M/33.9M [00:10<00:01, 3.18MB/s]\u001b[A\u001b[A\u001b[A\n",
      "\n",
      "sub-control01_task-music_run-3_bold.nii.gz:  53%|█████▎    | 18.0M/33.9M [00:10<00:11, 1.47MB/s]\u001b[A\u001b[A\n",
      "sub-control01_task-music_run-1_bold.nii.gz:  14%|█▍        | 4.79M/33.8M [00:10<00:33, 904kB/s]\u001b[A\n",
      "\n",
      "\n",
      "\n",
      "sub-control01_task-nonmusic_run-4_bold.nii.gz:   7%|▋         | 2.25M/33.9M [00:08<00:49, 669kB/s]\u001b[A\u001b[A\u001b[A\u001b[A\n",
      "\n",
      "sub-control01_T1w.nii.gz:  60%|██████    | 5.30M/8.77M [00:10<00:04, 788kB/s]10<00:12, 1.33MB/s]\u001b[A\u001b[A\n",
      "sub-control01_task-music_run-1_bold.nii.gz:  15%|█▍        | 4.91M/33.8M [00:10<00:35, 863kB/s]\u001b[A\n",
      "\n",
      "\n",
      "sub-control01_task-music_run-2_bold.nii.gz:  87%|████████▋ | 29.6M/33.9M [00:10<00:01, 2.51MB/s]\u001b[A\u001b[A\u001b[A\n",
      "\n",
      "\n",
      "\n",
      "sub-control01_task-nonmusic_run-4_bold.nii.gz:   7%|▋         | 2.34M/33.9M [00:08<00:51, 648kB/s]\u001b[A\u001b[A\u001b[A\u001b[A\n",
      "\n",
      "sub-control01_task-music_run-3_bold.nii.gz:  54%|█████▍    | 18.3M/33.9M [00:10<00:11, 1.39MB/s]\u001b[A\u001b[A\n",
      "\n",
      "\n",
      "sub-control01_task-music_run-2_bold.nii.gz:  88%|████████▊ | 30.0M/33.9M [00:10<00:01, 2.64MB/s]\u001b[A\u001b[A\u001b[A\n",
      "sub-control01_task-music_run-1_bold.nii.gz:  15%|█▍        | 4.99M/33.8M [00:10<00:40, 745kB/s]\u001b[A\n",
      "\n",
      "\n",
      "\n",
      "sub-control01_task-nonmusic_run-4_bold.nii.gz:   7%|▋         | 2.44M/33.9M [00:08<00:46, 704kB/s]\u001b[A\u001b[A\u001b[A\u001b[A\n",
      "\n",
      "sub-control01_T1w.nii.gz:  62%|██████▏   | 5.40M/8.77M [00:10<00:05, 656kB/s]10<00:11, 1.46MB/s]\u001b[A\u001b[A\n",
      "\n",
      "\n",
      "sub-control01_task-music_run-2_bold.nii.gz:  90%|████████▉ | 30.3M/33.9M [00:10<00:01, 2.78MB/s]\u001b[A\u001b[A\u001b[A\n",
      "sub-control01_task-music_run-1_bold.nii.gz:  15%|█▌        | 5.16M/33.8M [00:10<00:31, 953kB/s]\u001b[A\n",
      "\n",
      "\n",
      "\n",
      "sub-control01_task-nonmusic_run-4_bold.nii.gz:   7%|▋         | 2.54M/33.9M [00:08<00:44, 743kB/s]\u001b[A\u001b[A\u001b[A\u001b[A\n",
      "\n",
      "sub-control01_T1w.nii.gz:  63%|██████▎   | 5.55M/8.77M [00:11<00:04, 801kB/s]10<00:11, 1.42MB/s]\u001b[A\u001b[A\n",
      "\n",
      "\n",
      "sub-control01_task-music_run-2_bold.nii.gz:  91%|█████████ | 30.7M/33.9M [00:10<00:01, 2.86MB/s]\u001b[A\u001b[A\u001b[A\n",
      "sub-control01_task-music_run-1_bold.nii.gz:  16%|█▌        | 5.26M/33.8M [00:10<00:32, 929kB/s]\u001b[A\n",
      "\n",
      "\n",
      "\n",
      "sub-control01_task-nonmusic_run-4_bold.nii.gz:   8%|▊         | 2.64M/33.9M [00:09<00:41, 781kB/s]\u001b[A\u001b[A\u001b[A\u001b[A\n",
      "\n",
      "sub-control01_T1w.nii.gz:  64%|██████▍   | 5.63M/8.77M [00:11<00:04, 780kB/s]10<00:10, 1.45MB/s]\u001b[A\u001b[A\n",
      "\n",
      "\n",
      "sub-control01_task-music_run-2_bold.nii.gz:  91%|█████████▏| 31.0M/33.9M [00:11<00:01, 2.91MB/s]\u001b[A\u001b[A\u001b[A\n",
      "sub-control01_task-music_run-1_bold.nii.gz:  16%|█▌        | 5.36M/33.8M [00:11<00:32, 922kB/s]\u001b[A\n",
      "\n",
      "\n",
      "\n",
      "sub-control01_task-nonmusic_run-4_bold.nii.gz:   8%|▊         | 2.74M/33.9M [00:09<00:40, 806kB/s]\u001b[A\u001b[A\u001b[A\u001b[A\n",
      "\n",
      "sub-control01_T1w.nii.gz:  65%|██████▌   | 5.71M/8.77M [00:11<00:04, 754kB/s]11<00:10, 1.49MB/s]\u001b[A\u001b[A\n",
      "\n",
      "\n",
      "sub-control01_task-music_run-2_bold.nii.gz:  92%|█████████▏| 31.3M/33.9M [00:11<00:01, 2.59MB/s]\u001b[A\u001b[A\u001b[A\n",
      "sub-control01_task-music_run-1_bold.nii.gz:  16%|█▌        | 5.46M/33.8M [00:11<00:35, 843kB/s]\u001b[A\n",
      "\n",
      "sub-control01_task-music_run-3_bold.nii.gz:  57%|█████▋    | 19.1M/33.9M [00:11<00:10, 1.44MB/s]\u001b[A\u001b[A\n",
      "\n",
      "\n",
      "\n",
      "sub-control01_T1w.nii.gz:  66%|██████▌   | 5.80M/8.77M [00:11<00:04, 727kB/s]00:09<00:39, 830kB/s]\u001b[A\u001b[A\u001b[A\u001b[A\n",
      "\n",
      "\n",
      "sub-control01_task-music_run-2_bold.nii.gz:  93%|█████████▎| 31.6M/33.9M [00:11<00:00, 2.59MB/s]\u001b[A\u001b[A\u001b[A\n",
      "\n",
      "sub-control01_task-music_run-3_bold.nii.gz:  57%|█████▋    | 19.3M/33.9M [00:11<00:10, 1.41MB/s]\u001b[A\u001b[A\n",
      "sub-control01_task-music_run-1_bold.nii.gz:  16%|█▋        | 5.54M/33.8M [00:11<00:37, 783kB/s]\u001b[A\n",
      "\n",
      "\n",
      "\n",
      "sub-control01_T1w.nii.gz:  67%|██████▋   | 5.88M/8.77M [00:11<00:04, 695kB/s]00:09<00:36, 894kB/s]\u001b[A\u001b[A\u001b[A\u001b[A\n",
      "\n",
      "sub-control01_task-music_run-3_bold.nii.gz:  57%|█████▋    | 19.4M/33.9M [00:11<00:10, 1.43MB/s]\u001b[A\u001b[A\n",
      "sub-control01_task-music_run-1_bold.nii.gz:  17%|█▋        | 5.62M/33.8M [00:11<00:43, 685kB/s]\u001b[A\n",
      "\n",
      "\n",
      "sub-control01_task-music_run-2_bold.nii.gz:  94%|█████████▍| 32.0M/33.9M [00:11<00:00, 2.37MB/s]\u001b[A\u001b[A\u001b[A\n",
      "\n",
      "\n",
      "\n",
      "sub-control01_T1w.nii.gz:  68%|██████▊   | 5.96M/8.77M [00:11<00:05, 564kB/s]00:09<00:38, 832kB/s]\u001b[A\u001b[A\u001b[A\u001b[A\n",
      "\n",
      "\n",
      "\n",
      "sub-control01_task-nonmusic_run-4_bold.nii.gz:   9%|▉         | 3.18M/33.9M [00:09<00:38, 829kB/s]\u001b[A\u001b[A\u001b[A\u001b[A\n",
      "\n",
      "\n",
      "sub-control01_task-music_run-2_bold.nii.gz:  95%|█████████▌| 32.2M/33.9M [00:11<00:00, 2.30MB/s]\u001b[A\u001b[A\u001b[A\n",
      "\n",
      "sub-control01_T1w.nii.gz:  69%|██████▊   | 6.03M/8.77M [00:11<00:04, 580kB/s]11<00:13, 1.10MB/s]\u001b[A\u001b[A\n",
      "sub-control01_task-music_run-1_bold.nii.gz:  17%|█▋        | 5.71M/33.8M [00:11<00:52, 565kB/s]\u001b[A\n",
      "\n",
      "\n",
      "\n",
      "sub-control01_task-nonmusic_run-4_bold.nii.gz:  10%|▉         | 3.27M/33.9M [00:09<00:42, 761kB/s]\u001b[A\u001b[A\u001b[A\u001b[A\n",
      "\n",
      "\n",
      "sub-control01_task-music_run-2_bold.nii.gz:  96%|█████████▌| 32.5M/33.9M [00:11<00:00, 1.90MB/s]\u001b[A\u001b[A\u001b[A\n",
      "sub-control01_task-music_run-1_bold.nii.gz:  17%|█▋        | 5.77M/33.8M [00:11<00:51, 569kB/s]\u001b[A\n",
      "\n",
      "sub-control01_T1w.nii.gz:  69%|██████▉   | 6.10M/8.77M [00:12<00:05, 554kB/s]11<00:15, 931kB/s] \u001b[A\u001b[A\n",
      "\n",
      "\n",
      "sub-control01_task-music_run-2_bold.nii.gz:  96%|█████████▋| 32.7M/33.9M [00:11<00:00, 1.90MB/s]\u001b[A\u001b[A\u001b[A\n",
      "\n",
      "\n",
      "\n",
      "sub-control01_task-nonmusic_run-4_bold.nii.gz:  10%|▉         | 3.35M/33.9M [00:10<00:48, 655kB/s]\u001b[A\u001b[A\u001b[A\u001b[A\n",
      "sub-control01_task-music_run-1_bold.nii.gz:  17%|█▋        | 5.84M/33.8M [00:12<00:51, 569kB/s]\u001b[A\n",
      "\n",
      "sub-control01_task-music_run-3_bold.nii.gz:  59%|█████▊    | 19.8M/33.9M [00:11<00:15, 927kB/s]\u001b[A\u001b[A\n",
      "\n",
      "\n",
      "\n",
      "sub-control01_task-nonmusic_run-4_bold.nii.gz:  10%|█         | 3.42M/33.9M [00:10<00:48, 654kB/s]\u001b[A\u001b[A\u001b[A\u001b[A\n",
      "\n",
      "\n",
      "sub-control01_T1w.nii.gz:  70%|███████   | 6.16M/8.77M [00:12<00:05, 461kB/s]12<00:00, 1.83MB/s]\u001b[A\u001b[A\u001b[A\n",
      "\n",
      "sub-control01_task-music_run-3_bold.nii.gz:  59%|█████▉    | 19.9M/33.9M [00:12<00:18, 809kB/s]\u001b[A\u001b[A\n",
      "\n",
      "\n",
      "\n",
      "sub-control01_T1w.nii.gz:  71%|███████   | 6.21M/8.77M [00:12<00:05, 464kB/s]00:10<00:48, 657kB/s]\u001b[A\u001b[A\u001b[A\u001b[A\n",
      "sub-control01_task-music_run-1_bold.nii.gz:  17%|█▋        | 5.91M/33.8M [00:12<01:09, 419kB/s]\u001b[A\n",
      "\n",
      "\n",
      "sub-control01_task-music_run-2_bold.nii.gz:  98%|█████████▊| 33.1M/33.9M [00:12<00:00, 1.50MB/s]\u001b[A\u001b[A\u001b[A\n",
      "\n",
      "sub-control01_task-music_run-3_bold.nii.gz:  59%|█████▉    | 20.0M/33.9M [00:12<00:18, 800kB/s]\u001b[A\u001b[A\n",
      "\n",
      "\n",
      "\n",
      "sub-control01_T1w.nii.gz:  71%|███████▏  | 6.26M/8.77M [00:12<00:06, 402kB/s]00:10<00:52, 604kB/s]\u001b[A\u001b[A\u001b[A\u001b[A\n",
      "sub-control01_task-music_run-1_bold.nii.gz:  18%|█▊        | 5.99M/33.8M [00:12<01:00, 481kB/s]\u001b[A\n",
      "\n",
      "\n",
      "sub-control01_task-music_run-2_bold.nii.gz:  98%|█████████▊| 33.3M/33.9M [00:12<00:00, 1.56MB/s]\u001b[A\u001b[A\u001b[A\n",
      "\n",
      "sub-control01_task-music_run-3_bold.nii.gz:  59%|█████▉    | 20.1M/33.9M [00:12<00:19, 724kB/s]\u001b[A\u001b[A\n",
      "\n",
      "\n",
      "\n",
      "sub-control01_T1w.nii.gz:  72%|███████▏  | 6.31M/8.77M [00:12<00:06, 417kB/s]00:10<00:49, 642kB/s]\u001b[A\u001b[A\u001b[A\u001b[A\n",
      "sub-control01_task-music_run-1_bold.nii.gz:  18%|█▊        | 6.06M/33.8M [00:12<00:58, 501kB/s]\u001b[A\n",
      "\n",
      "\n",
      "sub-control01_task-music_run-2_bold.nii.gz:  99%|█████████▊| 33.4M/33.9M [00:12<00:00, 1.38MB/s]\u001b[A\u001b[A\u001b[A\n",
      "\n",
      "sub-control01_task-music_run-3_bold.nii.gz:  60%|█████▉    | 20.2M/33.9M [00:12<00:20, 710kB/s]\u001b[A\u001b[A\n",
      "\n",
      "\n",
      "\n",
      "sub-control01_T1w.nii.gz:  72%|███████▏  | 6.36M/8.77M [00:12<00:05, 431kB/s]00:10<00:44, 706kB/s]\u001b[A\u001b[A\u001b[A\u001b[A\n",
      "\n",
      "\n",
      "sub-control01_task-music_run-2_bold.nii.gz:  99%|█████████▉| 33.6M/33.9M [00:12<00:00, 1.16MB/s]\u001b[A\u001b[A\u001b[A\n",
      "\n",
      "\n",
      "\n",
      "sub-control01_task-nonmusic_run-4_bold.nii.gz:  11%|█▏        | 3.85M/33.9M [00:10<00:52, 603kB/s]\u001b[A\u001b[A\u001b[A\u001b[A\n",
      "\n",
      "sub-control01_T1w.nii.gz:  73%|███████▎  | 6.41M/8.77M [00:13<00:06, 365kB/s]12<00:23, 596kB/s]\u001b[A\u001b[A\n",
      "\n",
      "\n",
      "sub-control01_task-music_run-2_bold.nii.gz: 100%|█████████▉| 33.7M/33.9M [00:12<00:00, 980kB/s] \u001b[A\u001b[A\u001b[A\n",
      "sub-control01_task-music_run-1_bold.nii.gz:  18%|█▊        | 6.12M/33.8M [00:13<01:38, 295kB/s]\u001b[A\n",
      "\n",
      "\n",
      "\n",
      "sub-control01_task-nonmusic_run-4_bold.nii.gz:  12%|█▏        | 3.91M/33.9M [00:11<01:03, 495kB/s]\u001b[A\u001b[A\u001b[A\u001b[A\n",
      "\n",
      "sub-control01_task-music_run-3_bold.nii.gz:  60%|██████    | 20.3M/33.9M [00:13<00:29, 487kB/s]\u001b[A\u001b[A\n",
      "\n",
      "\n",
      "                                                                                               \u001b[A\u001b[A\u001b[A\n",
      "\n",
      "sub-control01_task-music_run-3_bold.nii.gz:  60%|██████    | 20.5M/33.9M [00:13<00:25, 546kB/s]\u001b[A\u001b[A\n",
      "sub-control01_task-music_run-1_bold.nii.gz:  18%|█▊        | 6.24M/33.8M [00:13<01:23, 348kB/s]\u001b[A\n",
      "\n",
      "\n",
      "\n",
      "sub-control01_task-nonmusic_run-4_bold.nii.gz:  12%|█▏        | 3.98M/33.9M [00:11<01:19, 393kB/s]\u001b[A\u001b[A\u001b[A\u001b[A\n",
      "sub-control01_task-music_run-1_bold.nii.gz:  19%|█▊        | 6.34M/33.8M [00:13<01:13, 393kB/s]\u001b[A\n",
      "\n",
      "\n",
      "\n",
      "sub-control01_task-nonmusic_run-4_bold.nii.gz:  12%|█▏        | 4.03M/33.9M [00:11<01:23, 373kB/s]\u001b[A\u001b[A\u001b[A\u001b[A\n",
      "\n",
      "sub-control01_T1w.nii.gz:  74%|███████▎  | 6.46M/8.77M [00:13<00:13, 180kB/s]13<00:25, 544kB/s]\u001b[A\u001b[A\n",
      "\n",
      "sub-control01_task-music_run-3_bold.nii.gz:  61%|██████    | 20.7M/33.9M [00:13<00:25, 549kB/s]\u001b[A\u001b[A\n",
      "sub-control01_task-music_run-1_bold.nii.gz:  19%|█▉        | 6.44M/33.8M [00:13<01:08, 418kB/s]\u001b[A\n",
      "\n",
      "\n",
      "\n",
      "sub-control01_T1w.nii.gz:  75%|███████▌  | 6.61M/8.77M [00:13<00:07, 306kB/s]00:11<00:47, 647kB/s]\u001b[A\u001b[A\u001b[A\u001b[A\n",
      "\n",
      "sub-control01_task-music_run-3_bold.nii.gz:  62%|██████▏   | 20.9M/33.9M [00:13<00:18, 738kB/s]\u001b[A\u001b[A\n",
      "\n",
      "\n",
      "\n",
      "sub-control01_task-nonmusic_run-4_bold.nii.gz:  13%|█▎        | 4.43M/33.9M [00:11<00:38, 792kB/s]\u001b[A\u001b[A\u001b[A\u001b[A\n",
      "sub-control01_T1w.nii.gz:  76%|███████▋  | 6.69M/8.77M [00:14<00:06, 352kB/s]13<00:57, 497kB/s]\u001b[A\n",
      "\n",
      "sub-control01_task-music_run-3_bold.nii.gz:  62%|██████▏   | 21.0M/33.9M [00:13<00:14, 913kB/s]\u001b[A\u001b[A\n",
      "\n",
      "\n",
      "sub-control01_task-nonmusic_run-4_events.tsv:   0%|          | 0.00/351 [00:00<?, ?B/s]\u001b[A\u001b[A\u001b[A\n",
      "\n",
      "\n",
      "                                                                                       \u001b[A\u001b[A\u001b[A\n",
      "\n",
      "\n",
      "\n",
      "sub-control01_task-nonmusic_run-4_bold.nii.gz:  14%|█▎        | 4.61M/33.9M [00:12<00:41, 740kB/s]\u001b[A\u001b[A\u001b[A\u001b[A\n",
      "sub-control01_task-music_run-1_bold.nii.gz:  20%|█▉        | 6.69M/33.8M [00:14<00:55, 512kB/s]\u001b[A\n",
      "\n",
      "sub-control01_T1w.nii.gz:  77%|███████▋  | 6.78M/8.77M [00:14<00:05, 350kB/s]14<00:17, 783kB/s]\u001b[A\u001b[A\n",
      "\n",
      "\n",
      "\n",
      "sub-control01_T1w.nii.gz:  78%|███████▊  | 6.84M/8.77M [00:14<00:05, 359kB/s]00:12<00:42, 722kB/s]\u001b[A\u001b[A\u001b[A\u001b[A\n",
      "sub-control01_task-music_run-1_bold.nii.gz:  20%|█▉        | 6.75M/33.8M [00:14<01:00, 468kB/s]\u001b[A\n",
      "\n",
      "sub-control01_task-music_run-3_bold.nii.gz:  63%|██████▎   | 21.2M/33.9M [00:14<00:19, 683kB/s]\u001b[A\u001b[A\n",
      "\n",
      "\n",
      "\n",
      "sub-control01_task-nonmusic_run-4_bold.nii.gz:  14%|█▍        | 4.86M/33.9M [00:12<00:44, 686kB/s]\u001b[A\u001b[A\u001b[A\u001b[A\n",
      "sub-control01_task-music_run-1_bold.nii.gz:  20%|██        | 6.80M/33.8M [00:14<01:09, 410kB/s]\u001b[A\n",
      "\n",
      "sub-control01_task-music_run-3_bold.nii.gz:  63%|██████▎   | 21.3M/33.9M [00:14<00:20, 629kB/s]\u001b[A\u001b[A\n",
      "\n",
      "\n",
      "\n",
      "sub-control01_T1w.nii.gz:  79%|███████▊  | 6.89M/8.77M [00:14<00:08, 245kB/s]00:12<00:48, 631kB/s]\u001b[A\u001b[A\u001b[A\u001b[A\n",
      "\n",
      "sub-control01_task-music_run-3_bold.nii.gz:  63%|██████▎   | 21.4M/33.9M [00:14<00:31, 421kB/s]\u001b[A\u001b[A\n",
      "\n",
      "\n",
      "\n",
      "sub-control01_T1w.nii.gz:  79%|███████▉  | 6.93M/8.77M [00:15<00:08, 239kB/s]00:13<00:45, 667kB/s]\u001b[A\u001b[A\u001b[A\u001b[A\n",
      "sub-control01_task-music_run-1_bold.nii.gz:  20%|██        | 6.85M/33.8M [00:14<01:41, 279kB/s]\u001b[A\n",
      "\n",
      "\n",
      "sub-control01_T1w.nii.gz:  80%|███████▉  | 7.01M/8.77M [00:15<00:06, 287kB/s]0:00<?, ?B/s]\u001b[A\u001b[A\u001b[A\n",
      "\n",
      "sub-control01_task-music_run-3_bold.nii.gz:  64%|██████▎   | 21.6M/33.9M [00:15<00:23, 558kB/s]\u001b[A\u001b[A\n",
      "sub-control01_task-music_run-1_bold.nii.gz:  21%|██        | 7.02M/33.8M [00:15<01:07, 419kB/s]\u001b[A\n",
      "\n",
      "\n",
      "\n",
      "sub-control01_task-nonmusic_run-4_bold.nii.gz:  16%|█▌        | 5.29M/33.9M [00:13<00:40, 736kB/s]\u001b[A\u001b[A\u001b[A\u001b[A\n",
      "\n",
      "\n",
      "\n",
      "sub-control01_task-nonmusic_run-4_bold.nii.gz:  16%|█▌        | 5.41M/33.9M [00:13<00:42, 706kB/s]\u001b[A\u001b[A\u001b[A\u001b[A\n",
      "sub-control01_task-music_run-1_bold.nii.gz:  21%|██        | 7.08M/33.8M [00:15<01:09, 401kB/s]\u001b[A\n",
      "\n",
      "sub-control01_T1w.nii.gz:  80%|████████  | 7.04M/8.77M [00:15<00:07, 254kB/s]15<00:22, 558kB/s]\u001b[A\u001b[A\n",
      "\n",
      "\n",
      "sub-control01_task-nonmusic_run-5_bold.nii.gz:   0%|          | 33.5k/33.9M [00:00<04:01, 147kB/s]\u001b[A\u001b[A\u001b[A\n",
      "\n",
      "sub-control01_task-music_run-3_bold.nii.gz:  64%|██████▍   | 21.8M/33.9M [00:15<00:22, 558kB/s]\u001b[A\u001b[A\n",
      "\n",
      "\n",
      "\n",
      "sub-control01_task-nonmusic_run-4_bold.nii.gz:  16%|█▋        | 5.54M/33.9M [00:13<00:42, 692kB/s]\u001b[A\u001b[A\u001b[A\u001b[A\n",
      "sub-control01_T1w.nii.gz:  81%|████████  | 7.11M/8.77M [00:15<00:06, 269kB/s]15<01:18, 359kB/s]\u001b[A\n",
      "\n",
      "\n",
      "sub-control01_task-nonmusic_run-5_bold.nii.gz:   0%|          | 49.5k/33.9M [00:00<05:40, 104kB/s]\u001b[A\u001b[A\u001b[A\n",
      "\n",
      "sub-control01_task-music_run-3_bold.nii.gz:  65%|██████▍   | 21.9M/33.9M [00:15<00:24, 510kB/s]\u001b[A\u001b[A\n",
      "\n",
      "\n",
      "\n",
      "sub-control01_T1w.nii.gz:  81%|████████▏ | 7.14M/8.77M [00:15<00:06, 247kB/s]00:13<00:40, 734kB/s]\u001b[A\u001b[A\u001b[A\u001b[A\n",
      "sub-control01_T1w.nii.gz:  82%|████████▏ | 7.17M/8.77M [00:16<00:07, 227kB/s]15<01:16, 367kB/s]\u001b[A\n",
      "\n",
      "sub-control01_task-music_run-3_bold.nii.gz:  65%|██████▍   | 22.0M/33.9M [00:15<00:24, 500kB/s]\u001b[A\u001b[A\n",
      "\n",
      "\n",
      "\n",
      "sub-control01_task-nonmusic_run-4_bold.nii.gz:  17%|█▋        | 5.87M/33.9M [00:14<00:38, 765kB/s]\u001b[A\u001b[A\u001b[A\u001b[A\n",
      "\n",
      "\n",
      "sub-control01_task-nonmusic_run-5_bold.nii.gz:   0%|          | 67.5k/33.9M [00:00<08:19, 71.1kB/s]\u001b[A\u001b[A\u001b[A\n",
      "sub-control01_task-music_run-1_bold.nii.gz:  22%|██▏       | 7.28M/33.8M [00:15<01:17, 360kB/s]\u001b[A\n",
      "\n",
      "\n",
      "\n",
      "sub-control01_T1w.nii.gz:  82%|████████▏ | 7.22M/8.77M [00:16<00:06, 234kB/s]00:14<00:42, 693kB/s]\u001b[A\u001b[A\u001b[A\u001b[A\n",
      "sub-control01_task-music_run-1_bold.nii.gz:  22%|██▏       | 7.33M/33.8M [00:16<01:23, 335kB/s]\u001b[A\n",
      "\n",
      "sub-control01_task-music_run-3_bold.nii.gz:  65%|██████▌   | 22.1M/33.9M [00:16<00:24, 513kB/s]\u001b[A\u001b[A\n",
      "\n",
      "\n",
      "sub-control01_task-nonmusic_run-5_bold.nii.gz:   0%|          | 100k/33.9M [00:01<06:14, 94.7kB/s] \u001b[A\u001b[A\u001b[A\n",
      "\n",
      "sub-control01_task-music_run-3_bold.nii.gz:  65%|██████▌   | 22.2M/33.9M [00:16<00:25, 482kB/s]\u001b[A\u001b[A\n",
      "sub-control01_task-music_run-1_bold.nii.gz:  22%|██▏       | 7.40M/33.8M [00:16<01:22, 335kB/s]\u001b[A\n",
      "\n",
      "\n",
      "\n",
      "sub-control01_T1w.nii.gz:  83%|████████▎ | 7.27M/8.77M [00:16<00:06, 236kB/s]00:14<00:39, 730kB/s]\u001b[A\u001b[A\u001b[A\u001b[A\n",
      "\n",
      "sub-control01_task-music_run-3_bold.nii.gz:  66%|██████▌   | 22.3M/33.9M [00:16<00:25, 478kB/s]\u001b[A\u001b[A\n",
      "\n",
      "\n",
      "\n",
      "sub-control01_T1w.nii.gz:  83%|████████▎ | 7.31M/8.77M [00:16<00:07, 216kB/s]00:14<00:40, 715kB/s]\u001b[A\u001b[A\u001b[A\u001b[A\n",
      "sub-control01_task-music_run-1_bold.nii.gz:  22%|██▏       | 7.48M/33.8M [00:16<01:18, 351kB/s]\u001b[A\n",
      "\n",
      "\n",
      "sub-control01_T1w.nii.gz:  84%|████████▍ | 7.36M/8.77M [00:16<00:06, 233kB/s]0:01<08:03, 73.2kB/s]\u001b[A\u001b[A\u001b[A\n",
      "\n",
      "\n",
      "\n",
      "sub-control01_task-nonmusic_run-4_bold.nii.gz:  19%|█▉        | 6.39M/33.9M [00:14<00:42, 680kB/s]\u001b[A\u001b[A\u001b[A\u001b[A\n",
      "sub-control01_task-music_run-1_bold.nii.gz:  22%|██▏       | 7.52M/33.8M [00:16<01:29, 308kB/s]\u001b[A\n",
      "\n",
      "sub-control01_task-music_run-3_bold.nii.gz:  66%|██████▌   | 22.4M/33.9M [00:16<00:24, 495kB/s]\u001b[A\u001b[A\n",
      "\n",
      "sub-control01_task-music_run-3_bold.nii.gz:  66%|██████▋   | 22.4M/33.9M [00:16<00:25, 474kB/s]\u001b[A\u001b[A\n",
      "\n",
      "\n",
      "\n",
      "sub-control01_task-nonmusic_run-4_bold.nii.gz:  19%|█▉        | 6.55M/33.9M [00:15<00:39, 728kB/s]\u001b[A\u001b[A\u001b[A\u001b[A\n",
      "sub-control01_T1w.nii.gz:  84%|████████▍ | 7.39M/8.77M [00:17<00:06, 209kB/s]17<01:21, 340kB/s]\u001b[A\n",
      "\n",
      "\n",
      "sub-control01_task-nonmusic_run-5_bold.nii.gz:   0%|          | 147k/33.9M [00:01<07:58, 74.0kB/s]\u001b[A\u001b[A\u001b[A\n",
      "\n",
      "\n",
      "\n",
      "sub-control01_task-nonmusic_run-4_bold.nii.gz:  20%|█▉        | 6.67M/33.9M [00:15<00:41, 684kB/s]\u001b[A\u001b[A\u001b[A\u001b[A\n",
      "sub-control01_task-music_run-1_bold.nii.gz:  23%|██▎       | 7.67M/33.8M [00:17<01:21, 337kB/s]\u001b[A\n",
      "\n",
      "sub-control01_T1w.nii.gz:  85%|████████▍ | 7.44M/8.77M [00:17<00:06, 217kB/s]17<00:24, 492kB/s]\u001b[A\u001b[A\n",
      "\n",
      "\n",
      "sub-control01_task-nonmusic_run-5_bold.nii.gz:   1%|          | 179k/33.9M [00:02<06:33, 89.9kB/s]\u001b[A\u001b[A\u001b[A\n",
      "sub-control01_task-music_run-1_bold.nii.gz:  23%|██▎       | 7.73M/33.8M [00:17<01:21, 338kB/s]\u001b[A\n",
      "\n",
      "\n",
      "\n",
      "sub-control01_task-nonmusic_run-4_bold.nii.gz:  20%|██        | 6.80M/33.9M [00:15<00:41, 678kB/s]\u001b[A\u001b[A\u001b[A\u001b[A\n",
      "\n",
      "sub-control01_T1w.nii.gz:  85%|████████▌ | 7.49M/8.77M [00:17<00:05, 231kB/s]17<00:24, 486kB/s]\u001b[A\u001b[A\n",
      "sub-control01_task-music_run-1_bold.nii.gz:  23%|██▎       | 7.82M/33.8M [00:17<01:14, 364kB/s]\u001b[A\n",
      "\n",
      "\n",
      "\n",
      "sub-control01_task-nonmusic_run-4_bold.nii.gz:  20%|██        | 6.94M/33.9M [00:15<00:41, 678kB/s]\u001b[A\u001b[A\u001b[A\u001b[A\n",
      "\n",
      "sub-control01_T1w.nii.gz:  86%|████████▌ | 7.52M/8.77M [00:17<00:06, 209kB/s]17<00:24, 481kB/s]\u001b[A\u001b[A\n",
      "\n",
      "\n",
      "sub-control01_T1w.nii.gz:  86%|████████▋ | 7.57M/8.77M [00:18<00:05, 228kB/s]0:02<06:26, 91.4kB/s]\u001b[A\u001b[A\u001b[A\n",
      "sub-control01_task-music_run-1_bold.nii.gz:  23%|██▎       | 7.87M/33.8M [00:17<01:22, 329kB/s]\u001b[A\n",
      "\n",
      "\n",
      "\n",
      "sub-control01_task-nonmusic_run-4_bold.nii.gz:  21%|██        | 7.08M/33.9M [00:15<00:40, 695kB/s]\u001b[A\u001b[A\u001b[A\u001b[A\n",
      "\n",
      "\n",
      "sub-control01_task-nonmusic_run-5_bold.nii.gz:   1%|          | 233k/33.9M [00:02<06:26, 91.2kB/s]\u001b[A\u001b[A\u001b[A\n",
      "\n",
      "sub-control01_task-music_run-3_bold.nii.gz:  68%|██████▊   | 22.9M/33.9M [00:17<00:21, 527kB/s]\u001b[A\u001b[A\n",
      "\n",
      "\n",
      "sub-control01_task-nonmusic_run-5_bold.nii.gz:   1%|          | 249k/33.9M [00:02<06:37, 88.8kB/s]\u001b[A\u001b[A\u001b[A\n",
      "\n",
      "\n",
      "\n",
      "sub-control01_task-nonmusic_run-4_bold.nii.gz:  21%|██▏       | 7.23M/33.9M [00:16<00:38, 718kB/s]\u001b[A\u001b[A\u001b[A\u001b[A\n",
      "sub-control01_T1w.nii.gz:  87%|████████▋ | 7.61M/8.77M [00:18<00:05, 207kB/s]18<01:16, 355kB/s]\u001b[A\n",
      "\n",
      "sub-control01_task-music_run-3_bold.nii.gz:  68%|██████▊   | 23.0M/33.9M [00:18<00:22, 508kB/s]\u001b[A\u001b[A\n",
      "\n",
      "sub-control01_task-music_run-3_bold.nii.gz:  68%|██████▊   | 23.1M/33.9M [00:18<00:22, 504kB/s]\u001b[A\u001b[A\n",
      "\n",
      "\n",
      "\n",
      "sub-control01_task-nonmusic_run-4_bold.nii.gz:  22%|██▏       | 7.33M/33.9M [00:16<00:42, 649kB/s]\u001b[A\u001b[A\u001b[A\u001b[A\n",
      "sub-control01_T1w.nii.gz:  87%|████████▋ | 7.66M/8.77M [00:18<00:05, 215kB/s]18<01:18, 345kB/s]\u001b[A\n",
      "\n",
      "\n",
      "sub-control01_task-nonmusic_run-5_bold.nii.gz:   1%|          | 267k/33.9M [00:03<06:57, 84.6kB/s]\u001b[A\u001b[A\u001b[A\n",
      "\n",
      "sub-control01_task-music_run-3_bold.nii.gz:  68%|██████▊   | 23.1M/33.9M [00:18<00:23, 470kB/s]\u001b[A\u001b[A\n",
      "\n",
      "\n",
      "\n",
      "sub-control01_T1w.nii.gz:  88%|████████▊ | 7.69M/8.77M [00:18<00:05, 204kB/s]00:16<00:41, 674kB/s]\u001b[A\u001b[A\u001b[A\u001b[A\n",
      "sub-control01_task-music_run-1_bold.nii.gz:  24%|██▍       | 8.08M/33.8M [00:18<01:19, 340kB/s]\u001b[A\n",
      "\n",
      "\n",
      "sub-control01_task-nonmusic_run-5_bold.nii.gz:   1%|          | 300k/33.9M [00:03<05:28, 107kB/s] \u001b[A\u001b[A\u001b[A\n",
      "\n",
      "sub-control01_T1w.nii.gz:  88%|████████▊ | 7.76M/8.77M [00:18<00:03, 287kB/s]18<00:16, 691kB/s]\u001b[A\u001b[A\n",
      "sub-control01_task-music_run-1_bold.nii.gz:  24%|██▍       | 8.20M/33.8M [00:18<00:55, 481kB/s]\u001b[A\n",
      "\n",
      "\n",
      "\n",
      "sub-control01_task-nonmusic_run-4_bold.nii.gz:  23%|██▎       | 7.72M/33.9M [00:16<00:29, 926kB/s]\u001b[A\u001b[A\u001b[A\u001b[A\n",
      "\n",
      "\n",
      "sub-control01_task-nonmusic_run-5_bold.nii.gz:   1%|          | 334k/33.9M [00:03<04:20, 135kB/s]\u001b[A\u001b[A\u001b[A\n",
      "\n",
      "sub-control01_task-music_run-3_bold.nii.gz:  69%|██████▉   | 23.4M/33.9M [00:18<00:14, 775kB/s]\u001b[A\u001b[A\n",
      "sub-control01_T1w.nii.gz:  89%|████████▉ | 7.82M/8.77M [00:18<00:02, 350kB/s]18<00:43, 620kB/s]\u001b[A\n",
      "\n",
      "\n",
      "\n",
      "sub-control01_task-nonmusic_run-4_bold.nii.gz:  23%|██▎       | 7.95M/33.9M [00:16<00:22, 1.18MB/s]\u001b[A\u001b[A\u001b[A\u001b[A\n",
      "\n",
      "sub-control01_task-music_run-3_bold.nii.gz:  70%|██████▉   | 23.6M/33.9M [00:18<00:11, 936kB/s]\u001b[A\u001b[A\n",
      "sub-control01_task-music_run-1_bold.nii.gz:  25%|██▍       | 8.40M/33.8M [00:18<00:41, 649kB/s]\u001b[A\n",
      "\n",
      "\n",
      "sub-control01_task-nonmusic_run-5_bold.nii.gz:   1%|          | 385k/33.9M [00:03<03:18, 177kB/s]\u001b[A\u001b[A\u001b[A\n",
      "\n",
      "\n",
      "\n",
      "sub-control01_T1w.nii.gz:  90%|████████▉ | 7.89M/8.77M [00:18<00:02, 398kB/s]00:16<00:20, 1.33MB/s]\u001b[A\u001b[A\u001b[A\u001b[A\n",
      "\n",
      "sub-control01_task-music_run-3_bold.nii.gz:  70%|███████   | 23.7M/33.9M [00:18<00:09, 1.12MB/s]\u001b[A\u001b[A\n",
      "sub-control01_task-music_run-1_bold.nii.gz:  25%|██▌       | 8.50M/33.8M [00:18<00:36, 735kB/s]\u001b[A\n",
      "\n",
      "\n",
      "\n",
      "sub-control01_task-nonmusic_run-4_bold.nii.gz:  25%|██▍       | 8.35M/33.9M [00:16<00:17, 1.50MB/s]\u001b[A\u001b[A\u001b[A\u001b[A\n",
      "\n",
      "\n",
      "sub-control01_T1w.nii.gz:  91%|█████████ | 7.95M/8.77M [00:19<00:01, 442kB/s]0:03<02:33, 229kB/s]\u001b[A\u001b[A\u001b[A\n",
      "\n",
      "sub-control01_task-music_run-3_bold.nii.gz:  71%|███████   | 23.9M/33.9M [00:18<00:08, 1.28MB/s]\u001b[A\u001b[A\n",
      "\n",
      "\n",
      "\n",
      "sub-control01_task-nonmusic_run-4_bold.nii.gz:  25%|██▌       | 8.55M/33.9M [00:17<00:16, 1.63MB/s]\u001b[A\u001b[A\u001b[A\u001b[A\n",
      "sub-control01_task-music_run-1_bold.nii.gz:  25%|██▌       | 8.63M/33.8M [00:19<00:31, 842kB/s]\u001b[A\n",
      "\n",
      "\n",
      "sub-control01_T1w.nii.gz:  92%|█████████▏| 8.04M/8.77M [00:19<00:01, 516kB/s]0:03<02:21, 248kB/s]\u001b[A\u001b[A\u001b[A\n",
      "\n",
      "sub-control01_task-music_run-3_bold.nii.gz:  71%|███████   | 24.1M/33.9M [00:19<00:07, 1.34MB/s]\u001b[A\u001b[A\n",
      "\n",
      "\n",
      "\n",
      "sub-control01_task-nonmusic_run-4_bold.nii.gz:  26%|██▌       | 8.76M/33.9M [00:17<00:14, 1.78MB/s]\u001b[A\u001b[A\u001b[A\u001b[A\n",
      "\n",
      "\n",
      "sub-control01_task-nonmusic_run-5_bold.nii.gz:   2%|▏         | 521k/33.9M [00:04<01:55, 303kB/s]\u001b[A\u001b[A\u001b[A\n",
      "sub-control01_T1w.nii.gz:  92%|█████████▏| 8.10M/8.77M [00:19<00:01, 549kB/s]19<00:27, 943kB/s]\u001b[A\n",
      "\n",
      "sub-control01_task-music_run-3_bold.nii.gz:  72%|███████▏  | 24.2M/33.9M [00:19<00:07, 1.37MB/s]\u001b[A\u001b[A\n",
      "\n",
      "\n",
      "\n",
      "sub-control01_task-nonmusic_run-4_bold.nii.gz:  26%|██▋       | 8.96M/33.9M [00:17<00:14, 1.86MB/s]\u001b[A\u001b[A\u001b[A\u001b[A\n",
      "sub-control01_task-music_run-1_bold.nii.gz:  26%|██▌       | 8.88M/33.8M [00:19<00:26, 1.00MB/s]\u001b[A\n",
      "\n",
      "\n",
      "sub-control01_T1w.nii.gz:  93%|█████████▎| 8.17M/8.77M [00:19<00:01, 574kB/s]0:04<01:40, 348kB/s]\u001b[A\u001b[A\u001b[A\n",
      "\n",
      "sub-control01_task-music_run-3_bold.nii.gz:  72%|███████▏  | 24.4M/33.9M [00:19<00:07, 1.29MB/s]\u001b[A\u001b[A\n",
      "\n",
      "\n",
      "\n",
      "sub-control01_task-nonmusic_run-4_bold.nii.gz:  27%|██▋       | 9.16M/33.9M [00:17<00:16, 1.61MB/s]\u001b[A\u001b[A\u001b[A\u001b[A\n",
      "sub-control01_task-music_run-1_bold.nii.gz:  27%|██▋       | 8.98M/33.8M [00:19<00:29, 877kB/s] \u001b[A\n",
      "\n",
      "\n",
      "sub-control01_T1w.nii.gz:  94%|█████████▍| 8.24M/8.77M [00:19<00:01, 544kB/s]0:04<01:45, 329kB/s]\u001b[A\u001b[A\u001b[A\n",
      "\n",
      "sub-control01_task-music_run-3_bold.nii.gz:  73%|███████▎  | 24.6M/33.9M [00:19<00:08, 1.18MB/s]\u001b[A\u001b[A\n",
      "\n",
      "\n",
      "sub-control01_T1w.nii.gz:  95%|█████████▍| 8.32M/8.77M [00:19<00:00, 564kB/s]0:04<01:39, 349kB/s]\u001b[A\u001b[A\u001b[A\n",
      "sub-control01_task-music_run-1_bold.nii.gz:  27%|██▋       | 9.08M/33.8M [00:19<00:34, 750kB/s]\u001b[A\n",
      "\n",
      "\n",
      "\n",
      "sub-control01_task-nonmusic_run-4_bold.nii.gz:  28%|██▊       | 9.33M/33.9M [00:17<00:19, 1.30MB/s]\u001b[A\u001b[A\u001b[A\u001b[A\n",
      "\n",
      "sub-control01_task-music_run-3_bold.nii.gz:  73%|███████▎  | 24.7M/33.9M [00:19<00:07, 1.34MB/s]\u001b[A\u001b[A\n",
      "\n",
      "\n",
      "sub-control01_T1w.nii.gz:  96%|█████████▌| 8.39M/8.77M [00:19<00:00, 580kB/s]0:04<01:24, 411kB/s]\u001b[A\u001b[A\u001b[A\n",
      "sub-control01_task-music_run-1_bold.nii.gz:  27%|██▋       | 9.24M/33.8M [00:19<00:27, 947kB/s]\u001b[A\n",
      "\n",
      "\n",
      "\n",
      "sub-control01_task-nonmusic_run-4_bold.nii.gz:  29%|██▊       | 9.69M/33.9M [00:17<00:13, 1.83MB/s]\u001b[A\u001b[A\u001b[A\u001b[A\n",
      "\n",
      "sub-control01_task-music_run-3_bold.nii.gz:  73%|███████▎  | 24.9M/33.9M [00:19<00:07, 1.30MB/s]\u001b[A\u001b[A\n",
      "\n",
      "\n",
      "sub-control01_T1w.nii.gz:  97%|█████████▋| 8.47M/8.77M [00:19<00:00, 618kB/s]0:04<01:19, 437kB/s]\u001b[A\u001b[A\u001b[A\n",
      "sub-control01_task-music_run-1_bold.nii.gz:  28%|██▊       | 9.34M/33.8M [00:19<00:28, 915kB/s]\u001b[A\n",
      "\n",
      "\n",
      "\n",
      "sub-control01_task-nonmusic_run-4_bold.nii.gz:  29%|██▉       | 9.91M/33.9M [00:17<00:14, 1.73MB/s]\u001b[A\u001b[A\u001b[A\u001b[A\n",
      "\n",
      "\n",
      "sub-control01_task-nonmusic_run-5_bold.nii.gz:   2%|▏         | 861k/33.9M [00:04<01:09, 496kB/s]\u001b[A\u001b[A\u001b[A\n",
      "\n",
      "sub-control01_T1w.nii.gz:  97%|█████████▋| 8.54M/8.77M [00:20<00:00, 617kB/s]19<00:07, 1.28MB/s]\u001b[A\u001b[A\n",
      "sub-control01_task-music_run-1_bold.nii.gz:  28%|██▊       | 9.44M/33.8M [00:19<00:30, 851kB/s]\u001b[A\n",
      "\n",
      "\n",
      "\n",
      "sub-control01_task-nonmusic_run-4_bold.nii.gz:  30%|██▉       | 10.1M/33.9M [00:18<00:14, 1.73MB/s]\u001b[A\u001b[A\u001b[A\u001b[A\n",
      "\n",
      "\n",
      "sub-control01_task-nonmusic_run-5_bold.nii.gz:   3%|▎         | 929k/33.9M [00:04<01:04, 538kB/s]\u001b[A\u001b[A\u001b[A\n",
      "\n",
      "sub-control01_T1w.nii.gz:  98%|█████████▊| 8.62M/8.77M [00:20<00:00, 676kB/s]19<00:07, 1.28MB/s]\u001b[A\u001b[A\n",
      "\n",
      "\n",
      "sub-control01_task-nonmusic_run-5_bold.nii.gz:   3%|▎         | 997k/33.9M [00:04<01:00, 569kB/s]\u001b[A\u001b[A\u001b[A\n",
      "\n",
      "\n",
      "\n",
      "sub-control01_task-nonmusic_run-4_bold.nii.gz:  30%|███       | 10.3M/33.9M [00:18<00:14, 1.71MB/s]\u001b[A\u001b[A\u001b[A\u001b[A\n",
      "sub-control01_task-music_run-1_bold.nii.gz:  28%|██▊       | 9.54M/33.8M [00:20<00:29, 852kB/s]\u001b[A\n",
      "\n",
      "sub-control01_T1w.nii.gz:  99%|█████████▉| 8.69M/8.77M [00:20<00:00, 675kB/s]20<00:07, 1.27MB/s]\u001b[A\u001b[A\n",
      "\n",
      "sub-control01_task-music_run-3_bold.nii.gz:  75%|███████▌  | 25.4M/33.9M [00:20<00:06, 1.27MB/s]\u001b[A\u001b[A\n",
      "\n",
      "\n",
      "\n",
      "sub-control01_task-nonmusic_run-4_bold.nii.gz:  31%|███       | 10.5M/33.9M [00:18<00:14, 1.68MB/s]\u001b[A\u001b[A\u001b[A\u001b[A\n",
      "\n",
      "\n",
      "sub-control01_task-nonmusic_run-5_bold.nii.gz:   3%|▎         | 1.06M/33.9M [00:05<00:55, 615kB/s]\u001b[A\u001b[A\u001b[A\n",
      "                                                                             20<00:29, 858kB/s]\u001b[A\n",
      "\n",
      "sub-control01_task-music_run-3_bold.nii.gz:  75%|███████▌  | 25.5M/33.9M [00:20<00:06, 1.25MB/s]\u001b[A\u001b[A\n",
      "\n",
      "\n",
      "sub-control01_task-nonmusic_run-5_bold.nii.gz:   3%|▎         | 1.12M/33.9M [00:05<00:54, 631kB/s]\u001b[A\u001b[A\u001b[A\n",
      "\n",
      "\n",
      "\n",
      "sub-control01_task-nonmusic_run-4_bold.nii.gz:  31%|███▏      | 10.6M/33.9M [00:18<00:14, 1.66MB/s]\u001b[A\u001b[A\u001b[A\u001b[A\n",
      "sub-control01_task-music_run-1_bold.nii.gz:  29%|██▉       | 9.74M/33.8M [00:20<00:30, 831kB/s]\u001b[A\n",
      "\n",
      "sub-control01_task-music_run-3_bold.nii.gz:  76%|███████▌  | 25.7M/33.9M [00:20<00:06, 1.29MB/s]\u001b[A\u001b[A\n",
      "\n",
      "\n",
      "\n",
      "sub-control01_task-nonmusic_run-4_bold.nii.gz:  32%|███▏      | 10.8M/33.9M [00:18<00:14, 1.66MB/s]\u001b[A\u001b[A\u001b[A\u001b[A\n",
      "\n",
      "\n",
      "sub-control01_task-nonmusic_run-5_bold.nii.gz:   4%|▎         | 1.21M/33.9M [00:05<00:54, 629kB/s]\u001b[A\u001b[A\u001b[A\n",
      "sub-control01_task-music_run-1_bold.nii.gz:  29%|██▉       | 9.84M/33.8M [00:20<00:29, 849kB/s]\u001b[A\n",
      "\n",
      "\n",
      "\n",
      "sub-control01_task-nonmusic_run-4_bold.nii.gz:  32%|███▏      | 11.0M/33.9M [00:18<00:14, 1.68MB/s]\u001b[A\u001b[A\u001b[A\u001b[A\n",
      "\n",
      "sub-control01_task-music_run-3_bold.nii.gz:  76%|███████▋  | 25.8M/33.9M [00:20<00:06, 1.30MB/s]\u001b[A\u001b[A\n",
      "\n",
      "\n",
      "sub-control01_task-nonmusic_run-5_bold.nii.gz:   4%|▍         | 1.29M/33.9M [00:05<00:51, 661kB/s]\u001b[A\u001b[A\u001b[A\n",
      "sub-control01_task-music_run-1_bold.nii.gz:  29%|██▉       | 9.94M/33.8M [00:20<00:29, 852kB/s]\u001b[A\n",
      "\n",
      "\n",
      "\n",
      "                                                                                       4, 1.67MB/s]\u001b[A\u001b[A\u001b[A\u001b[A\n",
      "\n",
      "sub-control01_task-music_run-3_bold.nii.gz:  77%|███████▋  | 26.0M/33.9M [00:20<00:06, 1.32MB/s]\u001b[A\u001b[A\n",
      "\n",
      "\n",
      "sub-control01_task-nonmusic_run-5_bold.nii.gz:   4%|▍         | 1.39M/33.9M [00:05<00:47, 715kB/s]\u001b[A\u001b[A\u001b[A\n",
      "sub-control01_task-music_run-1_bold.nii.gz:  30%|██▉       | 10.1M/33.8M [00:20<00:28, 869kB/s]\u001b[A\n",
      "\n",
      "\n",
      "\n",
      "sub-control01_task-nonmusic_run-4_bold.nii.gz:  33%|███▎      | 11.3M/33.9M [00:18<00:14, 1.64MB/s]\u001b[A\u001b[A\u001b[A\u001b[A\n",
      "\n",
      "sub-control01_task-music_run-3_bold.nii.gz:  77%|███████▋  | 26.1M/33.9M [00:20<00:06, 1.30MB/s]\u001b[A\u001b[A\n",
      "\n",
      "\n",
      "sub-control01_task-nonmusic_run-5_bold.nii.gz:   4%|▍         | 1.49M/33.9M [00:05<00:43, 772kB/s]\u001b[A\u001b[A\u001b[A\n",
      "sub-control01_task-music_run-1_bold.nii.gz:  30%|███       | 10.2M/33.8M [00:20<00:27, 917kB/s]\u001b[A\n",
      "\n",
      "\n",
      "\n",
      "sub-control01_task-nonmusic_run-4_bold.nii.gz:  34%|███▍      | 11.5M/33.9M [00:18<00:13, 1.68MB/s]\u001b[A\u001b[A\u001b[A\u001b[A\n",
      "\n",
      "sub-control01_task-music_run-3_bold.nii.gz:  78%|███████▊  | 26.3M/33.9M [00:20<00:05, 1.33MB/s]\u001b[A\u001b[A\n",
      "\n",
      "\n",
      "sub-control01_task-nonmusic_run-5_bold.nii.gz:   5%|▍         | 1.59M/33.9M [00:05<00:40, 827kB/s]\u001b[A\u001b[A\u001b[A\n",
      "\n",
      "\n",
      "\n",
      "sub-control01_task-nonmusic_run-4_bold.nii.gz:  34%|███▍      | 11.7M/33.9M [00:19<00:13, 1.69MB/s]\u001b[A\u001b[A\u001b[A\u001b[A\n",
      "sub-control01_task-music_run-1_bold.nii.gz:  30%|███       | 10.3M/33.8M [00:20<00:26, 917kB/s]\u001b[A\n",
      "\n",
      "sub-control01_task-music_run-3_bold.nii.gz:  78%|███████▊  | 26.4M/33.9M [00:20<00:05, 1.34MB/s]\u001b[A\u001b[A\n",
      "\n",
      "\n",
      "sub-control01_task-nonmusic_run-5_bold.nii.gz:   5%|▍         | 1.69M/33.9M [00:05<00:38, 873kB/s]\u001b[A\u001b[A\u001b[A\n",
      "\n",
      "\n",
      "\n",
      "sub-control01_task-nonmusic_run-4_bold.nii.gz:  35%|███▍      | 11.8M/33.9M [00:19<00:13, 1.70MB/s]\u001b[A\u001b[A\u001b[A\u001b[A\n",
      "sub-control01_task-music_run-1_bold.nii.gz:  31%|███       | 10.4M/33.8M [00:21<00:27, 904kB/s]\u001b[A\n",
      "\n",
      "sub-control01_task-music_run-3_bold.nii.gz:  78%|███████▊  | 26.5M/33.9M [00:21<00:05, 1.37MB/s]\u001b[A\u001b[A\n",
      "\n",
      "\n",
      "sub-control01_task-nonmusic_run-5_bold.nii.gz:   5%|▌         | 1.79M/33.9M [00:06<00:37, 889kB/s]\u001b[A\u001b[A\u001b[A\n",
      "\n",
      "\n",
      "\n",
      "sub-control01_task-nonmusic_run-4_bold.nii.gz:  36%|███▌      | 12.0M/33.9M [00:19<00:13, 1.72MB/s]\u001b[A\u001b[A\u001b[A\u001b[A\n",
      "\n",
      "sub-control01_task-music_run-3_bold.nii.gz:  79%|███████▉  | 26.7M/33.9M [00:21<00:05, 1.33MB/s]\u001b[A\u001b[A\n",
      "sub-control01_task-music_run-1_bold.nii.gz:  31%|███       | 10.5M/33.8M [00:21<00:27, 907kB/s]\u001b[A\n",
      "\n",
      "\n",
      "sub-control01_task-nonmusic_run-5_bold.nii.gz:   6%|▌         | 1.90M/33.9M [00:06<00:36, 914kB/s]\u001b[A\u001b[A\u001b[A\n",
      "\n",
      "\n",
      "\n",
      "sub-control01_task-nonmusic_run-4_bold.nii.gz:  36%|███▌      | 12.2M/33.9M [00:19<00:12, 1.79MB/s]\u001b[A\u001b[A\u001b[A\u001b[A\n",
      "\n",
      "sub-control01_task-music_run-3_bold.nii.gz:  79%|███████▉  | 26.8M/33.9M [00:21<00:05, 1.27MB/s]\u001b[A\u001b[A\n",
      "sub-control01_task-music_run-1_bold.nii.gz:  31%|███▏      | 10.6M/33.8M [00:21<00:26, 916kB/s]\u001b[A\n",
      "\n",
      "\n",
      "sub-control01_task-nonmusic_run-5_bold.nii.gz:   6%|▌         | 2.02M/33.9M [00:06<00:34, 982kB/s]\u001b[A\u001b[A\u001b[A\n",
      "\n",
      "\n",
      "\n",
      "sub-control01_task-nonmusic_run-4_bold.nii.gz:  37%|███▋      | 12.4M/33.9M [00:19<00:12, 1.82MB/s]\u001b[A\u001b[A\u001b[A\u001b[A\n",
      "\n",
      "sub-control01_task-music_run-3_bold.nii.gz:  80%|███████▉  | 27.0M/33.9M [00:21<00:05, 1.36MB/s]\u001b[A\u001b[A\n",
      "sub-control01_task-music_run-1_bold.nii.gz:  32%|███▏      | 10.7M/33.8M [00:21<00:24, 972kB/s]\u001b[A\n",
      "\n",
      "\n",
      "sub-control01_task-nonmusic_run-5_bold.nii.gz:   6%|▋         | 2.14M/33.9M [00:06<00:32, 1.01MB/s]\u001b[A\u001b[A\u001b[A\n",
      "\n",
      "\n",
      "\n",
      "sub-control01_task-nonmusic_run-4_bold.nii.gz:  37%|███▋      | 12.6M/33.9M [00:19<00:12, 1.78MB/s]\u001b[A\u001b[A\u001b[A\u001b[A\n",
      "\n",
      "sub-control01_task-music_run-3_bold.nii.gz:  80%|████████  | 27.1M/33.9M [00:21<00:04, 1.43MB/s]\u001b[A\u001b[A\n",
      "sub-control01_task-music_run-1_bold.nii.gz:  32%|███▏      | 10.8M/33.8M [00:21<00:24, 987kB/s]\u001b[A\n",
      "\n",
      "\n",
      "sub-control01_task-nonmusic_run-5_bold.nii.gz:   7%|▋         | 2.27M/33.9M [00:06<00:30, 1.07MB/s]\u001b[A\u001b[A\u001b[A\n",
      "\n",
      "\n",
      "\n",
      "sub-control01_task-nonmusic_run-4_bold.nii.gz:  38%|███▊      | 12.8M/33.9M [00:19<00:12, 1.81MB/s]\u001b[A\u001b[A\u001b[A\u001b[A\n",
      "\n",
      "sub-control01_task-music_run-3_bold.nii.gz:  81%|████████  | 27.3M/33.9M [00:21<00:04, 1.41MB/s]\u001b[A\u001b[A\n",
      "sub-control01_task-music_run-1_bold.nii.gz:  32%|███▏      | 11.0M/33.8M [00:21<00:23, 1.03MB/s]\u001b[A\n",
      "\n",
      "\n",
      "\n",
      "sub-control01_task-nonmusic_run-4_bold.nii.gz:  38%|███▊      | 13.0M/33.9M [00:19<00:12, 1.82MB/s]\u001b[A\u001b[A\u001b[A\u001b[A\n",
      "\n",
      "\n",
      "sub-control01_task-nonmusic_run-5_bold.nii.gz:   7%|▋         | 2.42M/33.9M [00:06<00:28, 1.14MB/s]\u001b[A\u001b[A\u001b[A\n",
      "\n",
      "sub-control01_task-music_run-3_bold.nii.gz:  81%|████████  | 27.4M/33.9M [00:21<00:04, 1.41MB/s]\u001b[A\u001b[A\n",
      "sub-control01_task-music_run-1_bold.nii.gz:  33%|███▎      | 11.1M/33.8M [00:21<00:23, 1.02MB/s]\u001b[A\n",
      "\n",
      "\n",
      "\n",
      "sub-control01_task-nonmusic_run-4_bold.nii.gz:  39%|███▉      | 13.2M/33.9M [00:19<00:11, 1.84MB/s]\u001b[A\u001b[A\u001b[A\u001b[A\n",
      "\n",
      "\n",
      "sub-control01_task-nonmusic_run-5_bold.nii.gz:   8%|▊         | 2.57M/33.9M [00:06<00:27, 1.20MB/s]\u001b[A\u001b[A\u001b[A\n",
      "\n",
      "sub-control01_task-music_run-3_bold.nii.gz:  81%|████████▏ | 27.6M/33.9M [00:21<00:04, 1.43MB/s]\u001b[A\u001b[A\n",
      "sub-control01_task-music_run-1_bold.nii.gz:  33%|███▎      | 11.2M/33.8M [00:21<00:22, 1.04MB/s]\u001b[A\n",
      "\n",
      "\n",
      "\n",
      "sub-control01_task-nonmusic_run-4_bold.nii.gz:  40%|███▉      | 13.4M/33.9M [00:20<00:11, 1.87MB/s]\u001b[A\u001b[A\u001b[A\u001b[A\n",
      "\n",
      "\n",
      "sub-control01_task-nonmusic_run-5_bold.nii.gz:   8%|▊         | 2.72M/33.9M [00:06<00:26, 1.26MB/s]\u001b[A\u001b[A\u001b[A\n",
      "\n",
      "sub-control01_task-music_run-3_bold.nii.gz:  82%|████████▏ | 27.8M/33.9M [00:21<00:04, 1.52MB/s]\u001b[A\u001b[A\n",
      "sub-control01_task-music_run-1_bold.nii.gz:  33%|███▎      | 11.3M/33.8M [00:22<00:22, 1.04MB/s]\u001b[A\n",
      "\n",
      "\n",
      "\n",
      "sub-control01_task-nonmusic_run-4_bold.nii.gz:  40%|████      | 13.6M/33.9M [00:20<00:11, 1.87MB/s]\u001b[A\u001b[A\u001b[A\u001b[A\n",
      "\n",
      "\n",
      "sub-control01_task-nonmusic_run-5_bold.nii.gz:   8%|▊         | 2.87M/33.9M [00:06<00:24, 1.31MB/s]\u001b[A\u001b[A\u001b[A\n",
      "\n",
      "sub-control01_task-music_run-3_bold.nii.gz:  82%|████████▏ | 27.9M/33.9M [00:22<00:04, 1.52MB/s]\u001b[A\u001b[A\n",
      "sub-control01_task-music_run-1_bold.nii.gz:  34%|███▎      | 11.4M/33.8M [00:22<00:21, 1.09MB/s]\u001b[A\n",
      "\n",
      "\n",
      "\n",
      "sub-control01_task-nonmusic_run-4_bold.nii.gz:  41%|████      | 13.7M/33.9M [00:20<00:11, 1.82MB/s]\u001b[A\u001b[A\u001b[A\u001b[A\n",
      "\n",
      "\n",
      "sub-control01_task-nonmusic_run-5_bold.nii.gz:   9%|▉         | 3.05M/33.9M [00:07<00:23, 1.38MB/s]\u001b[A\u001b[A\u001b[A\n",
      "\n",
      "sub-control01_task-music_run-3_bold.nii.gz:  83%|████████▎ | 28.1M/33.9M [00:22<00:04, 1.47MB/s]\u001b[A\u001b[A\n",
      "\n",
      "\n",
      "\n",
      "sub-control01_task-nonmusic_run-4_bold.nii.gz:  41%|████      | 14.0M/33.9M [00:20<00:11, 1.83MB/s]\u001b[A\u001b[A\u001b[A\u001b[A\n",
      "sub-control01_task-music_run-1_bold.nii.gz:  34%|███▍      | 11.5M/33.8M [00:22<00:23, 983kB/s] \u001b[A\n",
      "\n",
      "\n",
      "sub-control01_task-nonmusic_run-5_bold.nii.gz:   9%|▉         | 3.21M/33.9M [00:07<00:23, 1.39MB/s]\u001b[A\u001b[A\u001b[A\n",
      "\n",
      "sub-control01_task-music_run-3_bold.nii.gz:  83%|████████▎ | 28.2M/33.9M [00:22<00:04, 1.46MB/s]\u001b[A\u001b[A\n",
      "\n",
      "\n",
      "\n",
      "sub-control01_task-nonmusic_run-4_bold.nii.gz:  42%|████▏     | 14.2M/33.9M [00:20<00:10, 1.91MB/s]\u001b[A\u001b[A\u001b[A\u001b[A\n",
      "\n",
      "\n",
      "sub-control01_task-nonmusic_run-5_bold.nii.gz:  10%|█         | 3.40M/33.9M [00:07<00:22, 1.40MB/s]\u001b[A\u001b[A\u001b[A\n",
      "sub-control01_task-music_run-1_bold.nii.gz:  34%|███▍      | 11.7M/33.8M [00:22<00:24, 935kB/s]\u001b[A\n",
      "\n",
      "sub-control01_task-music_run-3_bold.nii.gz:  84%|████████▍ | 28.4M/33.9M [00:22<00:04, 1.35MB/s]\u001b[A\u001b[A\n",
      "\n",
      "\n",
      "\n",
      "sub-control01_task-nonmusic_run-4_bold.nii.gz:  42%|████▏     | 14.4M/33.9M [00:20<00:11, 1.81MB/s]\u001b[A\u001b[A\u001b[A\u001b[A\n",
      "\n",
      "\n",
      "sub-control01_task-nonmusic_run-5_bold.nii.gz:  11%|█         | 3.58M/33.9M [00:07<00:21, 1.49MB/s]\u001b[A\u001b[A\u001b[A\n",
      "sub-control01_task-music_run-1_bold.nii.gz:  35%|███▍      | 11.8M/33.8M [00:22<00:23, 976kB/s]\u001b[A\n",
      "\n",
      "sub-control01_task-music_run-3_bold.nii.gz:  84%|████████▍ | 28.5M/33.9M [00:22<00:04, 1.36MB/s]\u001b[A\u001b[A\n",
      "\n",
      "\n",
      "\n",
      "sub-control01_task-nonmusic_run-4_bold.nii.gz:  43%|████▎     | 14.5M/33.9M [00:20<00:11, 1.82MB/s]\u001b[A\u001b[A\u001b[A\u001b[A\n",
      "\n",
      "\n",
      "sub-control01_task-nonmusic_run-5_bold.nii.gz:  11%|█         | 3.75M/33.9M [00:07<00:20, 1.55MB/s]\u001b[A\u001b[A\u001b[A\n",
      "sub-control01_task-music_run-1_bold.nii.gz:  35%|███▌      | 11.9M/33.8M [00:22<00:22, 1.01MB/s]\u001b[A\n",
      "\n",
      "sub-control01_task-music_run-3_bold.nii.gz:  85%|████████▍ | 28.7M/33.9M [00:22<00:03, 1.45MB/s]\u001b[A\u001b[A\n",
      "\n",
      "\n",
      "\n",
      "sub-control01_task-nonmusic_run-4_bold.nii.gz:  43%|████▎     | 14.7M/33.9M [00:20<00:11, 1.82MB/s]\u001b[A\u001b[A\u001b[A\u001b[A\n",
      "\n",
      "\n",
      "sub-control01_task-nonmusic_run-5_bold.nii.gz:  12%|█▏        | 3.91M/33.9M [00:07<00:19, 1.60MB/s]\u001b[A\u001b[A\u001b[A\n",
      "\n",
      "sub-control01_task-music_run-3_bold.nii.gz:  85%|████████▌ | 28.9M/33.9M [00:22<00:03, 1.50MB/s]\u001b[A\u001b[A\n",
      "sub-control01_task-music_run-1_bold.nii.gz:  36%|███▌      | 12.0M/33.8M [00:22<00:22, 1.04MB/s]\u001b[A\n",
      "\n",
      "\n",
      "\n",
      "sub-control01_task-nonmusic_run-4_bold.nii.gz:  44%|████▍     | 14.9M/33.9M [00:20<00:10, 1.88MB/s]\u001b[A\u001b[A\u001b[A\u001b[A\n",
      "\n",
      "\n",
      "sub-control01_task-nonmusic_run-5_bold.nii.gz:  12%|█▏        | 4.09M/33.9M [00:07<00:18, 1.66MB/s]\u001b[A\u001b[A\u001b[A\n",
      "\n",
      "sub-control01_task-music_run-3_bold.nii.gz:  86%|████████▌ | 29.0M/33.9M [00:22<00:03, 1.45MB/s]\u001b[A\u001b[A\n",
      "sub-control01_task-music_run-1_bold.nii.gz:  36%|███▌      | 12.1M/33.8M [00:22<00:22, 994kB/s] \u001b[A\n",
      "\n",
      "\n",
      "\n",
      "sub-control01_task-nonmusic_run-4_bold.nii.gz:  45%|████▍     | 15.1M/33.9M [00:21<00:10, 1.85MB/s]\u001b[A\u001b[A\u001b[A\u001b[A\n",
      "\n",
      "\n",
      "sub-control01_task-nonmusic_run-5_bold.nii.gz:  13%|█▎        | 4.29M/33.9M [00:07<00:18, 1.72MB/s]\u001b[A\u001b[A\u001b[A\n",
      "\n",
      "sub-control01_task-music_run-3_bold.nii.gz:  86%|████████▌ | 29.2M/33.9M [00:22<00:03, 1.44MB/s]\u001b[A\u001b[A\n",
      "\n",
      "\n",
      "\n",
      "sub-control01_task-nonmusic_run-4_bold.nii.gz:  45%|████▌     | 15.3M/33.9M [00:21<00:10, 1.79MB/s]\u001b[A\u001b[A\u001b[A\u001b[A\n",
      "sub-control01_task-music_run-1_bold.nii.gz:  36%|███▌      | 12.3M/33.8M [00:23<00:23, 981kB/s]\u001b[A\n",
      "\n",
      "\n",
      "sub-control01_task-nonmusic_run-5_bold.nii.gz:  13%|█▎        | 4.49M/33.9M [00:07<00:16, 1.82MB/s]\u001b[A\u001b[A\u001b[A\n",
      "\n",
      "sub-control01_task-music_run-3_bold.nii.gz:  87%|████████▋ | 29.3M/33.9M [00:23<00:03, 1.37MB/s]\u001b[A\u001b[A\n",
      "\n",
      "\n",
      "\n",
      "sub-control01_task-nonmusic_run-4_bold.nii.gz:  46%|████▌     | 15.5M/33.9M [00:21<00:10, 1.90MB/s]\u001b[A\u001b[A\u001b[A\u001b[A\n",
      "\n",
      "\n",
      "sub-control01_task-nonmusic_run-5_bold.nii.gz:  14%|█▍        | 4.69M/33.9M [00:08<00:16, 1.89MB/s]\u001b[A\u001b[A\u001b[A\n",
      "sub-control01_task-music_run-1_bold.nii.gz:  37%|███▋      | 12.4M/33.8M [00:23<00:22, 1.00MB/s]\u001b[A\n",
      "\n",
      "sub-control01_task-music_run-3_bold.nii.gz:  87%|████████▋ | 29.5M/33.9M [00:23<00:03, 1.33MB/s]\u001b[A\u001b[A\n",
      "\n",
      "\n",
      "\n",
      "sub-control01_task-nonmusic_run-4_bold.nii.gz:  46%|████▋     | 15.7M/33.9M [00:21<00:10, 1.88MB/s]\u001b[A\u001b[A\u001b[A\u001b[A\n",
      "\n",
      "\n",
      "sub-control01_task-nonmusic_run-5_bold.nii.gz:  14%|█▍        | 4.91M/33.9M [00:08<00:15, 1.97MB/s]\u001b[A\u001b[A\u001b[A\n",
      "sub-control01_task-music_run-1_bold.nii.gz:  37%|███▋      | 12.5M/33.8M [00:23<00:21, 1.02MB/s]\u001b[A\n",
      "\n",
      "\n",
      "\n",
      "sub-control01_task-nonmusic_run-4_bold.nii.gz:  47%|████▋     | 15.9M/33.9M [00:21<00:10, 1.84MB/s]\u001b[A\u001b[A\u001b[A\u001b[A\n",
      "\n",
      "sub-control01_task-music_run-3_bold.nii.gz:  88%|████████▊ | 29.6M/33.9M [00:23<00:03, 1.29MB/s]\u001b[A\u001b[A\n",
      "\n",
      "\n",
      "sub-control01_task-nonmusic_run-5_bold.nii.gz:  15%|█▌        | 5.11M/33.9M [00:08<00:16, 1.82MB/s]\u001b[A\u001b[A\u001b[A\n",
      "sub-control01_task-music_run-1_bold.nii.gz:  37%|███▋      | 12.6M/33.8M [00:23<00:22, 969kB/s] \u001b[A\n",
      "\n",
      "\n",
      "\n",
      "sub-control01_task-nonmusic_run-4_bold.nii.gz:  48%|████▊     | 16.1M/33.9M [00:21<00:10, 1.75MB/s]\u001b[A\u001b[A\u001b[A\u001b[A\n",
      "\n",
      "\n",
      "sub-control01_task-nonmusic_run-5_bold.nii.gz:  16%|█▌        | 5.34M/33.9M [00:08<00:15, 1.99MB/s]\u001b[A\u001b[A\u001b[A\n",
      "\n",
      "sub-control01_task-music_run-3_bold.nii.gz:  88%|████████▊ | 29.8M/33.9M [00:23<00:03, 1.35MB/s]\u001b[A\u001b[A\n",
      "sub-control01_task-music_run-1_bold.nii.gz:  38%|███▊      | 12.7M/33.8M [00:23<00:23, 930kB/s]\u001b[A\n",
      "\n",
      "\n",
      "\n",
      "sub-control01_task-nonmusic_run-4_bold.nii.gz:  48%|████▊     | 16.3M/33.9M [00:21<00:10, 1.75MB/s]\u001b[A\u001b[A\u001b[A\u001b[A\n",
      "sub-control01_task-music_run-1_bold.nii.gz:  38%|███▊      | 12.8M/33.8M [00:23<00:25, 853kB/s]\u001b[A\n",
      "\n",
      "sub-control01_task-music_run-3_bold.nii.gz:  88%|████████▊ | 29.9M/33.9M [00:23<00:04, 1.02MB/s]\u001b[A\u001b[A\n",
      "sub-control01_task-music_run-1_bold.nii.gz:  38%|███▊      | 13.0M/33.8M [00:23<00:22, 980kB/s]\u001b[A\n",
      "\n",
      "sub-control01_task-music_run-3_bold.nii.gz:  89%|████████▉ | 30.3M/33.9M [00:23<00:02, 1.47MB/s]\u001b[A\u001b[A\n",
      "\n",
      "\n",
      "sub-control01_task-nonmusic_run-5_bold.nii.gz:  16%|█▋        | 5.59M/33.9M [00:08<00:23, 1.24MB/s]\u001b[A\u001b[A\u001b[A\n",
      "\n",
      "\n",
      "\n",
      "sub-control01_task-nonmusic_run-4_bold.nii.gz:  49%|████▊     | 16.5M/33.9M [00:22<00:16, 1.12MB/s]\u001b[A\u001b[A\u001b[A\u001b[A\n",
      "sub-control01_task-music_run-1_bold.nii.gz:  39%|███▊      | 13.1M/33.8M [00:23<00:22, 975kB/s]\u001b[A\n",
      "\n",
      "\n",
      "sub-control01_task-nonmusic_run-5_bold.nii.gz:  19%|█▉        | 6.39M/33.9M [00:08<00:11, 2.57MB/s]\u001b[A\u001b[A\u001b[A\n",
      "\n",
      "sub-control01_task-music_run-3_bold.nii.gz:  90%|████████▉ | 30.4M/33.9M [00:23<00:02, 1.47MB/s]\u001b[A\u001b[A\n",
      "\n",
      "\n",
      "\n",
      "sub-control01_task-nonmusic_run-4_bold.nii.gz:  50%|█████     | 17.0M/33.9M [00:22<00:09, 1.93MB/s]\u001b[A\u001b[A\u001b[A\u001b[A\n",
      "sub-control01_task-music_run-1_bold.nii.gz:  39%|███▉      | 13.2M/33.8M [00:24<00:22, 959kB/s]\u001b[A\n",
      "\n",
      "sub-control01_task-music_run-3_bold.nii.gz:  90%|█████████ | 30.6M/33.9M [00:24<00:02, 1.41MB/s]\u001b[A\u001b[A\n",
      "\n",
      "\n",
      "\n",
      "sub-control01_task-nonmusic_run-4_bold.nii.gz:  51%|█████     | 17.2M/33.9M [00:22<00:09, 1.83MB/s]\u001b[A\u001b[A\u001b[A\u001b[A\n",
      "sub-control01_task-music_run-1_bold.nii.gz:  39%|███▉      | 13.3M/33.8M [00:24<00:21, 1.01MB/s]\u001b[A\n",
      "\n",
      "\n",
      "sub-control01_task-nonmusic_run-5_bold.nii.gz:  20%|█▉        | 6.73M/33.9M [00:09<00:13, 2.17MB/s]\u001b[A\u001b[A\u001b[A\n",
      "\n",
      "sub-control01_task-music_run-3_bold.nii.gz:  91%|█████████ | 30.8M/33.9M [00:24<00:02, 1.33MB/s]\u001b[A\u001b[A\n",
      "\n",
      "\n",
      "sub-control01_task-nonmusic_run-5_bold.nii.gz:  21%|██        | 7.08M/33.9M [00:09<00:11, 2.45MB/s]\u001b[A\u001b[A\u001b[A\n",
      "sub-control01_task-music_run-1_bold.nii.gz:  40%|███▉      | 13.4M/33.8M [00:24<00:22, 944kB/s] \u001b[A\n",
      "\n",
      "\n",
      "\n",
      "sub-control01_task-nonmusic_run-4_bold.nii.gz:  51%|█████▏    | 17.4M/33.9M [00:22<00:09, 1.73MB/s]\u001b[A\u001b[A\u001b[A\u001b[A\n",
      "\n",
      "sub-control01_task-music_run-3_bold.nii.gz:  91%|█████████▏| 30.9M/33.9M [00:24<00:02, 1.36MB/s]\u001b[A\u001b[A\n",
      "sub-control01_task-music_run-1_bold.nii.gz:  40%|████      | 13.6M/33.8M [00:24<00:21, 974kB/s]\u001b[A\n",
      "\n",
      "\n",
      "sub-control01_task-nonmusic_run-5_bold.nii.gz:  22%|██▏       | 7.40M/33.9M [00:09<00:12, 2.21MB/s]\u001b[A\u001b[A\u001b[A\n",
      "\n",
      "\n",
      "\n",
      "sub-control01_task-nonmusic_run-4_bold.nii.gz:  52%|█████▏    | 17.6M/33.9M [00:22<00:11, 1.53MB/s]\u001b[A\u001b[A\u001b[A\u001b[A\n",
      "\n",
      "sub-control01_task-music_run-3_bold.nii.gz:  92%|█████████▏| 31.1M/33.9M [00:24<00:02, 1.38MB/s]\u001b[A\u001b[A\n",
      "sub-control01_task-music_run-1_bold.nii.gz:  40%|████      | 13.7M/33.8M [00:24<00:21, 968kB/s]\u001b[A\n",
      "\n",
      "\n",
      "\n",
      "sub-control01_task-nonmusic_run-4_bold.nii.gz:  53%|█████▎    | 17.9M/33.9M [00:22<00:09, 1.77MB/s]\u001b[A\u001b[A\u001b[A\u001b[A\n",
      "\n",
      "\n",
      "sub-control01_task-nonmusic_run-5_bold.nii.gz:  23%|██▎       | 7.66M/33.9M [00:09<00:12, 2.20MB/s]\u001b[A\u001b[A\u001b[A\n",
      "\n",
      "sub-control01_task-music_run-3_bold.nii.gz:  92%|█████████▏| 31.3M/33.9M [00:24<00:01, 1.38MB/s]\u001b[A\u001b[A\n",
      "sub-control01_task-music_run-1_bold.nii.gz:  41%|████      | 13.8M/33.8M [00:24<00:21, 963kB/s]\u001b[A\n",
      "\n",
      "\n",
      "sub-control01_task-nonmusic_run-5_bold.nii.gz:  23%|██▎       | 7.91M/33.9M [00:09<00:12, 2.26MB/s]\u001b[A\u001b[A\u001b[A\n",
      "\n",
      "sub-control01_task-music_run-3_bold.nii.gz:  93%|█████████▎| 31.4M/33.9M [00:24<00:01, 1.41MB/s]\u001b[A\u001b[A\n",
      "\n",
      "\n",
      "\n",
      "sub-control01_task-nonmusic_run-4_bold.nii.gz:  53%|█████▎    | 18.1M/33.9M [00:22<00:10, 1.64MB/s]\u001b[A\u001b[A\u001b[A\u001b[A\n",
      "sub-control01_task-music_run-1_bold.nii.gz:  41%|████      | 13.9M/33.8M [00:24<00:20, 1.02MB/s]\u001b[A\n",
      "\n",
      "\n",
      "sub-control01_task-nonmusic_run-5_bold.nii.gz:  24%|██▍       | 8.16M/33.9M [00:09<00:11, 2.28MB/s]\u001b[A\u001b[A\u001b[A\n",
      "\n",
      "sub-control01_task-music_run-3_bold.nii.gz:  93%|█████████▎| 31.6M/33.9M [00:24<00:01, 1.45MB/s]\u001b[A\u001b[A\n",
      "\n",
      "\n",
      "\n",
      "sub-control01_task-nonmusic_run-4_bold.nii.gz:  54%|█████▍    | 18.3M/33.9M [00:22<00:10, 1.59MB/s]\u001b[A\u001b[A\u001b[A\u001b[A\n",
      "sub-control01_task-music_run-1_bold.nii.gz:  41%|████▏     | 14.0M/33.8M [00:24<00:19, 1.06MB/s]\u001b[A\n",
      "\n",
      "\n",
      "sub-control01_task-nonmusic_run-5_bold.nii.gz:  25%|██▍       | 8.43M/33.9M [00:09<00:11, 2.38MB/s]\u001b[A\u001b[A\u001b[A\n",
      "\n",
      "sub-control01_task-music_run-3_bold.nii.gz:  94%|█████████▍| 31.8M/33.9M [00:24<00:01, 1.46MB/s]\u001b[A\u001b[A\n",
      "\n",
      "\n",
      "\n",
      "sub-control01_task-nonmusic_run-4_bold.nii.gz:  54%|█████▍    | 18.4M/33.9M [00:23<00:10, 1.57MB/s]\u001b[A\u001b[A\u001b[A\u001b[A\n",
      "sub-control01_task-music_run-1_bold.nii.gz:  42%|████▏     | 14.1M/33.8M [00:25<00:19, 1.06MB/s]\u001b[A\n",
      "\n",
      "\n",
      "sub-control01_task-nonmusic_run-5_bold.nii.gz:  26%|██▌       | 8.68M/33.9M [00:09<00:11, 2.40MB/s]\u001b[A\u001b[A\u001b[A\n",
      "\n",
      "sub-control01_task-music_run-3_bold.nii.gz:  94%|█████████▍| 31.9M/33.9M [00:25<00:01, 1.50MB/s]\u001b[A\u001b[A\n",
      "\n",
      "\n",
      "\n",
      "sub-control01_task-nonmusic_run-4_bold.nii.gz:  55%|█████▍    | 18.6M/33.9M [00:23<00:10, 1.57MB/s]\u001b[A\u001b[A\u001b[A\u001b[A\n",
      "sub-control01_task-music_run-1_bold.nii.gz:  42%|████▏     | 14.3M/33.8M [00:25<00:19, 1.05MB/s]\u001b[A\n",
      "\n",
      "\n",
      "sub-control01_task-nonmusic_run-5_bold.nii.gz:  26%|██▋       | 8.93M/33.9M [00:10<00:11, 2.27MB/s]\u001b[A\u001b[A\u001b[A\n",
      "\n",
      "\n",
      "\n",
      "sub-control01_task-nonmusic_run-4_bold.nii.gz:  55%|█████▌    | 18.8M/33.9M [00:23<00:10, 1.50MB/s]\u001b[A\u001b[A\u001b[A\u001b[A\n",
      "\n",
      "sub-control01_task-music_run-3_bold.nii.gz:  95%|█████████▍| 32.1M/33.9M [00:25<00:01, 1.38MB/s]\u001b[A\u001b[A\n",
      "\n",
      "\n",
      "sub-control01_task-nonmusic_run-5_bold.nii.gz:  27%|██▋       | 9.16M/33.9M [00:10<00:11, 2.22MB/s]\u001b[A\u001b[A\u001b[A\n",
      "sub-control01_task-music_run-1_bold.nii.gz:  42%|████▏     | 14.4M/33.8M [00:25<00:21, 941kB/s] \u001b[A\n",
      "\n",
      "\n",
      "\n",
      "sub-control01_task-nonmusic_run-4_bold.nii.gz:  56%|█████▌    | 18.9M/33.9M [00:23<00:10, 1.51MB/s]\u001b[A\u001b[A\u001b[A\u001b[A\n",
      "\n",
      "sub-control01_task-music_run-3_bold.nii.gz:  95%|█████████▌| 32.3M/33.9M [00:25<00:01, 1.45MB/s]\u001b[A\u001b[A\n",
      "\n",
      "\n",
      "sub-control01_task-nonmusic_run-5_bold.nii.gz:  28%|██▊       | 9.44M/33.9M [00:10<00:10, 2.33MB/s]\u001b[A\u001b[A\u001b[A\n",
      "sub-control01_task-music_run-1_bold.nii.gz:  43%|████▎     | 14.5M/33.8M [00:25<00:21, 957kB/s]\u001b[A\n",
      "\n",
      "\n",
      "\n",
      "sub-control01_task-nonmusic_run-4_bold.nii.gz:  56%|█████▋    | 19.1M/33.9M [00:23<00:10, 1.42MB/s]\u001b[A\u001b[A\u001b[A\u001b[A\n",
      "\n",
      "sub-control01_task-music_run-3_bold.nii.gz:  96%|█████████▌| 32.4M/33.9M [00:25<00:01, 1.41MB/s]\u001b[A\u001b[A\n",
      "\n",
      "\n",
      "sub-control01_task-nonmusic_run-5_bold.nii.gz:  29%|██▊       | 9.67M/33.9M [00:10<00:11, 2.30MB/s]\u001b[A\u001b[A\u001b[A\n",
      "sub-control01_task-music_run-1_bold.nii.gz:  43%|████▎     | 14.6M/33.8M [00:25<00:20, 973kB/s]\u001b[A\n",
      "\n",
      "\n",
      "\n",
      "sub-control01_task-nonmusic_run-4_bold.nii.gz:  57%|█████▋    | 19.2M/33.9M [00:23<00:10, 1.46MB/s]\u001b[A\u001b[A\u001b[A\u001b[A\n",
      "\n",
      "\n",
      "sub-control01_task-nonmusic_run-5_bold.nii.gz:  29%|██▉       | 9.92M/33.9M [00:10<00:10, 2.39MB/s]\u001b[A\u001b[A\u001b[A\n",
      "\n",
      "sub-control01_task-music_run-3_bold.nii.gz:  96%|█████████▋| 32.6M/33.9M [00:25<00:00, 1.41MB/s]\u001b[A\u001b[A\n",
      "sub-control01_task-music_run-1_bold.nii.gz:  43%|████▎     | 14.7M/33.8M [00:25<00:20, 986kB/s]\u001b[A\n",
      "\n",
      "\n",
      "\n",
      "sub-control01_task-nonmusic_run-4_bold.nii.gz:  57%|█████▋    | 19.4M/33.9M [00:23<00:10, 1.49MB/s]\u001b[A\u001b[A\u001b[A\u001b[A\n",
      "\n",
      "\n",
      "sub-control01_task-nonmusic_run-5_bold.nii.gz:  30%|███       | 10.2M/33.9M [00:10<00:10, 2.44MB/s]\u001b[A\u001b[A\u001b[A\n",
      "sub-control01_task-music_run-1_bold.nii.gz:  44%|████▎     | 14.8M/33.8M [00:25<00:20, 997kB/s]\u001b[A\n",
      "\n",
      "sub-control01_task-music_run-3_bold.nii.gz:  97%|█████████▋| 32.8M/33.9M [00:25<00:00, 1.43MB/s]\u001b[A\u001b[A\n",
      "\n",
      "\n",
      "sub-control01_task-nonmusic_run-5_bold.nii.gz:  31%|███       | 10.4M/33.9M [00:10<00:09, 2.48MB/s]\u001b[A\u001b[A\u001b[A\n",
      "\n",
      "\n",
      "\n",
      "sub-control01_task-nonmusic_run-4_bold.nii.gz:  58%|█████▊    | 19.6M/33.9M [00:23<00:09, 1.58MB/s]\u001b[A\u001b[A\u001b[A\u001b[A\n",
      "sub-control01_task-music_run-1_bold.nii.gz:  44%|████▍     | 14.9M/33.8M [00:25<00:19, 1.02MB/s]\u001b[A\n",
      "\n",
      "sub-control01_task-music_run-3_bold.nii.gz:  97%|█████████▋| 33.0M/33.9M [00:25<00:00, 1.38MB/s]\u001b[A\u001b[A\n",
      "\n",
      "\n",
      "\n",
      "sub-control01_task-nonmusic_run-4_bold.nii.gz:  58%|█████▊    | 19.8M/33.9M [00:24<00:09, 1.55MB/s]\u001b[A\u001b[A\u001b[A\u001b[A\n",
      "\n",
      "\n",
      "sub-control01_task-nonmusic_run-5_bold.nii.gz:  31%|███▏      | 10.7M/33.9M [00:10<00:10, 2.33MB/s]\u001b[A\u001b[A\u001b[A\n",
      "sub-control01_task-music_run-1_bold.nii.gz:  44%|████▍     | 15.0M/33.8M [00:26<00:20, 959kB/s] \u001b[A\n",
      "\n",
      "sub-control01_task-music_run-3_bold.nii.gz:  98%|█████████▊| 33.1M/33.9M [00:25<00:00, 1.40MB/s]\u001b[A\u001b[A\n",
      "\n",
      "\n",
      "sub-control01_task-nonmusic_run-5_bold.nii.gz:  32%|███▏      | 11.0M/33.9M [00:10<00:09, 2.47MB/s]\u001b[A\u001b[A\u001b[A\n",
      "\n",
      "\n",
      "\n",
      "sub-control01_task-nonmusic_run-4_bold.nii.gz:  59%|█████▉    | 20.0M/33.9M [00:24<00:09, 1.61MB/s]\u001b[A\u001b[A\u001b[A\u001b[A\n",
      "sub-control01_task-music_run-1_bold.nii.gz:  45%|████▍     | 15.1M/33.8M [00:26<00:21, 930kB/s]\u001b[A\n",
      "\n",
      "sub-control01_task-music_run-3_bold.nii.gz:  98%|█████████▊| 33.3M/33.9M [00:26<00:00, 1.38MB/s]\u001b[A\u001b[A\n",
      "\n",
      "\n",
      "\n",
      "sub-control01_task-nonmusic_run-4_bold.nii.gz:  59%|█████▉    | 20.1M/33.9M [00:24<00:08, 1.63MB/s]\u001b[A\u001b[A\u001b[A\u001b[A\n",
      "\n",
      "\n",
      "sub-control01_task-nonmusic_run-5_bold.nii.gz:  33%|███▎      | 11.2M/33.9M [00:11<00:09, 2.40MB/s]\u001b[A\u001b[A\u001b[A\n",
      "sub-control01_task-music_run-1_bold.nii.gz:  45%|████▌     | 15.2M/33.8M [00:26<00:19, 999kB/s]\u001b[A\n",
      "\n",
      "sub-control01_task-music_run-3_bold.nii.gz:  99%|█████████▉| 33.5M/33.9M [00:26<00:00, 1.43MB/s]\u001b[A\u001b[A\n",
      "\n",
      "\n",
      "\n",
      "sub-control01_task-nonmusic_run-4_bold.nii.gz:  60%|█████▉    | 20.3M/33.9M [00:24<00:08, 1.60MB/s]\u001b[A\u001b[A\u001b[A\u001b[A\n",
      "\n",
      "\n",
      "sub-control01_task-nonmusic_run-5_bold.nii.gz:  34%|███▍      | 11.5M/33.9M [00:11<00:09, 2.53MB/s]\u001b[A\u001b[A\u001b[A\n",
      "sub-control01_task-music_run-1_bold.nii.gz:  45%|████▌     | 15.4M/33.8M [00:26<00:18, 1.04MB/s]\u001b[A\n",
      "\n",
      "sub-control01_task-music_run-3_bold.nii.gz:  99%|█████████▉| 33.6M/33.9M [00:26<00:00, 1.45MB/s]\u001b[A\u001b[A\n",
      "\n",
      "\n",
      "sub-control01_task-nonmusic_run-5_bold.nii.gz:  35%|███▍      | 11.7M/33.9M [00:11<00:09, 2.54MB/s]\u001b[A\u001b[A\u001b[A\n",
      "\n",
      "\n",
      "\n",
      "sub-control01_task-nonmusic_run-4_bold.nii.gz:  60%|██████    | 20.4M/33.9M [00:24<00:08, 1.57MB/s]\u001b[A\u001b[A\u001b[A\u001b[A\n",
      "sub-control01_task-music_run-1_bold.nii.gz:  46%|████▌     | 15.5M/33.8M [00:26<00:19, 991kB/s] \u001b[A\n",
      "\n",
      "sub-control01_task-music_run-3_bold.nii.gz: 100%|█████████▉| 33.8M/33.9M [00:26<00:00, 1.47MB/s]\u001b[A\u001b[A\n",
      "\n",
      "\n",
      "sub-control01_task-nonmusic_run-5_bold.nii.gz:  35%|███▌      | 12.0M/33.9M [00:11<00:08, 2.60MB/s]\u001b[A\u001b[A\u001b[A\n",
      "\n",
      "\n",
      "\n",
      "sub-control01_task-nonmusic_run-4_bold.nii.gz:  61%|██████    | 20.6M/33.9M [00:24<00:08, 1.64MB/s]\u001b[A\u001b[A\u001b[A\u001b[A\n",
      "sub-control01_task-music_run-1_bold.nii.gz:  46%|████▌     | 15.6M/33.8M [00:26<00:18, 1.02MB/s]\u001b[A\n",
      "\n",
      "                                                                                                \u001b[A\u001b[A\n",
      "\n",
      "\n",
      "sub-control01_task-nonmusic_run-5_bold.nii.gz:  36%|███▌      | 12.3M/33.9M [00:11<00:08, 2.63MB/s]\u001b[A\u001b[A\u001b[A\n",
      "\n",
      "\n",
      "\n",
      "sub-control01_task-nonmusic_run-4_bold.nii.gz:  62%|██████▏   | 20.8M/33.9M [00:24<00:08, 1.70MB/s]\u001b[A\u001b[A\u001b[A\u001b[A\n",
      "sub-control01_task-music_run-1_bold.nii.gz:  46%|████▋     | 15.7M/33.8M [00:26<00:18, 1.04MB/s]\u001b[A\n",
      "\n",
      "\n",
      "sub-control01_task-nonmusic_run-5_bold.nii.gz:  37%|███▋      | 12.6M/33.9M [00:11<00:08, 2.71MB/s]\u001b[A\u001b[A\u001b[A\n",
      "\n",
      "\n",
      "\n",
      "sub-control01_task-nonmusic_run-4_bold.nii.gz:  62%|██████▏   | 21.0M/33.9M [00:24<00:07, 1.75MB/s]\u001b[A\u001b[A\u001b[A\u001b[A\n",
      "sub-control01_task-music_run-1_bold.nii.gz:  47%|████▋     | 15.8M/33.8M [00:26<00:16, 1.12MB/s]\u001b[A\n",
      "\n",
      "\n",
      "sub-control01_task-nonmusic_run-5_bold.nii.gz:  38%|███▊      | 12.8M/33.9M [00:11<00:08, 2.71MB/s]\u001b[A\u001b[A\u001b[A\n",
      "\n",
      "\n",
      "\n",
      "sub-control01_task-nonmusic_run-4_bold.nii.gz:  63%|██████▎   | 21.2M/33.9M [00:24<00:07, 1.81MB/s]\u001b[A\u001b[A\u001b[A\u001b[A\n",
      "sub-control01_task-music_run-1_bold.nii.gz:  47%|████▋     | 16.0M/33.8M [00:26<00:15, 1.17MB/s]\u001b[A\n",
      "\n",
      "\n",
      "sub-control01_task-nonmusic_run-5_bold.nii.gz:  39%|███▊      | 13.1M/33.9M [00:11<00:07, 2.79MB/s]\u001b[A\u001b[A\u001b[A\n",
      "\n",
      "\n",
      "\n",
      "sub-control01_task-nonmusic_run-4_bold.nii.gz:  63%|██████▎   | 21.4M/33.9M [00:25<00:07, 1.80MB/s]\u001b[A\u001b[A\u001b[A\u001b[A\n",
      "sub-control01_task-music_run-1_bold.nii.gz:  47%|████▋     | 16.1M/33.8M [00:27<00:16, 1.12MB/s]\u001b[A\n",
      "\n",
      "\n",
      "sub-control01_task-nonmusic_run-5_bold.nii.gz:  40%|███▉      | 13.4M/33.9M [00:11<00:07, 2.93MB/s]\u001b[A\u001b[A\u001b[A\n",
      "\n",
      "\n",
      "\n",
      "sub-control01_task-nonmusic_run-4_bold.nii.gz:  64%|██████▍   | 21.6M/33.9M [00:25<00:06, 1.89MB/s]\u001b[A\u001b[A\u001b[A\u001b[A\n",
      "\n",
      "\n",
      "sub-control01_task-nonmusic_run-5_bold.nii.gz:  41%|████      | 13.7M/33.9M [00:11<00:07, 2.99MB/s]\u001b[A\u001b[A\u001b[A\n",
      "sub-control01_task-music_run-1_bold.nii.gz:  48%|████▊     | 16.2M/33.8M [00:27<00:16, 1.12MB/s]\u001b[A\n",
      "\n",
      "\n",
      "\n",
      "sub-control01_task-nonmusic_run-4_bold.nii.gz:  65%|██████▍   | 21.9M/33.9M [00:25<00:06, 1.96MB/s]\u001b[A\u001b[A\u001b[A\u001b[A\n",
      "\n",
      "\n",
      "sub-control01_task-nonmusic_run-5_bold.nii.gz:  41%|████▏     | 14.0M/33.9M [00:12<00:06, 2.98MB/s]\u001b[A\u001b[A\u001b[A\n",
      "sub-control01_task-music_run-1_bold.nii.gz:  48%|████▊     | 16.3M/33.8M [00:27<00:16, 1.14MB/s]\u001b[A\n",
      "\n",
      "\n",
      "\n",
      "sub-control01_task-nonmusic_run-4_bold.nii.gz:  65%|██████▌   | 22.1M/33.9M [00:25<00:06, 1.94MB/s]\u001b[A\u001b[A\u001b[A\u001b[A\n",
      "\n",
      "\n",
      "sub-control01_task-nonmusic_run-5_bold.nii.gz:  42%|████▏     | 14.4M/33.9M [00:12<00:06, 3.05MB/s]\u001b[A\u001b[A\u001b[A\n",
      "sub-control01_task-music_run-1_bold.nii.gz:  49%|████▊     | 16.4M/33.8M [00:27<00:15, 1.15MB/s]\u001b[A\n",
      "\n",
      "\n",
      "\n",
      "sub-control01_task-nonmusic_run-4_bold.nii.gz:  66%|██████▌   | 22.3M/33.9M [00:25<00:06, 1.94MB/s]\u001b[A\u001b[A\u001b[A\u001b[A\n",
      "sub-control01_task-music_run-1_bold.nii.gz:  49%|████▉     | 16.5M/33.8M [00:27<00:14, 1.21MB/s]\u001b[A\n",
      "\n",
      "\n",
      "sub-control01_task-nonmusic_run-5_bold.nii.gz:  43%|████▎     | 14.7M/33.9M [00:12<00:06, 2.98MB/s]\u001b[A\u001b[A\u001b[A\n",
      "\n",
      "\n",
      "\n",
      "sub-control01_task-nonmusic_run-4_bold.nii.gz:  66%|██████▋   | 22.5M/33.9M [00:25<00:06, 1.91MB/s]\u001b[A\u001b[A\u001b[A\u001b[A\n",
      "sub-control01_task-music_run-1_bold.nii.gz:  49%|████▉     | 16.7M/33.8M [00:27<00:15, 1.16MB/s]\u001b[A\n",
      "\n",
      "\n",
      "sub-control01_task-nonmusic_run-5_bold.nii.gz:  44%|████▍     | 15.0M/33.9M [00:12<00:06, 2.86MB/s]\u001b[A\u001b[A\u001b[A\n",
      "\n",
      "\n",
      "\n",
      "sub-control01_task-nonmusic_run-4_bold.nii.gz:  67%|██████▋   | 22.6M/33.9M [00:25<00:06, 1.89MB/s]\u001b[A\u001b[A\u001b[A\u001b[A\n",
      "sub-control01_task-music_run-1_bold.nii.gz:  50%|████▉     | 16.8M/33.8M [00:27<00:15, 1.18MB/s]\u001b[A\n",
      "\n",
      "\n",
      "sub-control01_task-nonmusic_run-5_bold.nii.gz:  45%|████▌     | 15.3M/33.9M [00:12<00:06, 2.93MB/s]\u001b[A\u001b[A\u001b[A\n",
      "\n",
      "\n",
      "\n",
      "sub-control01_task-nonmusic_run-4_bold.nii.gz:  67%|██████▋   | 22.8M/33.9M [00:25<00:05, 1.94MB/s]\u001b[A\u001b[A\u001b[A\u001b[A\n",
      "sub-control01_task-music_run-1_bold.nii.gz:  50%|████▉     | 16.9M/33.8M [00:27<00:14, 1.19MB/s]\u001b[A\n",
      "\n",
      "\n",
      "sub-control01_task-nonmusic_run-5_bold.nii.gz:  46%|████▌     | 15.5M/33.9M [00:12<00:07, 2.58MB/s]\u001b[A\u001b[A\u001b[A\n",
      "\n",
      "\n",
      "\n",
      "sub-control01_task-nonmusic_run-4_bold.nii.gz:  68%|██████▊   | 23.0M/33.9M [00:25<00:06, 1.73MB/s]\u001b[A\u001b[A\u001b[A\u001b[A\n",
      "sub-control01_task-music_run-1_bold.nii.gz:  50%|█████     | 17.0M/33.8M [00:27<00:16, 1.09MB/s]\u001b[A\n",
      "\n",
      "\n",
      "sub-control01_task-nonmusic_run-5_bold.nii.gz:  47%|████▋     | 15.9M/33.9M [00:12<00:06, 2.76MB/s]\u001b[A\u001b[A\u001b[A\n",
      "\n",
      "\n",
      "\n",
      "sub-control01_task-nonmusic_run-4_bold.nii.gz:  69%|██████▊   | 23.2M/33.9M [00:26<00:06, 1.66MB/s]\u001b[A\u001b[A\u001b[A\u001b[A\n",
      "sub-control01_task-music_run-1_bold.nii.gz:  51%|█████     | 17.1M/33.8M [00:28<00:17, 1.02MB/s]\u001b[A\n",
      "\n",
      "\n",
      "sub-control01_task-nonmusic_run-5_bold.nii.gz:  48%|████▊     | 16.2M/33.9M [00:12<00:06, 2.70MB/s]\u001b[A\u001b[A\u001b[A\n",
      "\n",
      "\n",
      "\n",
      "sub-control01_task-nonmusic_run-4_bold.nii.gz:  69%|██████▉   | 23.4M/33.9M [00:26<00:06, 1.78MB/s]\u001b[A\u001b[A\u001b[A\u001b[A\n",
      "\n",
      "\n",
      "sub-control01_task-nonmusic_run-5_bold.nii.gz:  49%|████▊     | 16.4M/33.9M [00:13<00:06, 2.77MB/s]\u001b[A\u001b[A\u001b[A\n",
      "sub-control01_task-music_run-1_bold.nii.gz:  51%|█████     | 17.3M/33.8M [00:28<00:16, 1.08MB/s]\u001b[A\n",
      "\n",
      "\n",
      "\n",
      "sub-control01_task-nonmusic_run-4_bold.nii.gz:  70%|██████▉   | 23.7M/33.9M [00:26<00:05, 1.90MB/s]\u001b[A\u001b[A\u001b[A\u001b[A\n",
      "\n",
      "\n",
      "sub-control01_task-nonmusic_run-5_bold.nii.gz:  49%|████▉     | 16.7M/33.9M [00:13<00:06, 2.81MB/s]\u001b[A\u001b[A\u001b[A\n",
      "sub-control01_task-music_run-1_bold.nii.gz:  51%|█████▏    | 17.4M/33.8M [00:28<00:16, 1.07MB/s]\u001b[A\n",
      "\n",
      "\n",
      "\n",
      "sub-control01_task-nonmusic_run-4_bold.nii.gz:  70%|███████   | 23.9M/33.9M [00:26<00:05, 1.80MB/s]\u001b[A\u001b[A\u001b[A\u001b[A\n",
      "\n",
      "\n",
      "sub-control01_task-nonmusic_run-5_bold.nii.gz:  50%|█████     | 17.0M/33.9M [00:13<00:06, 2.71MB/s]\u001b[A\u001b[A\u001b[A\n",
      "sub-control01_task-music_run-1_bold.nii.gz:  52%|█████▏    | 17.6M/33.8M [00:28<00:14, 1.18MB/s]\u001b[A\n",
      "\n",
      "\n",
      "\n",
      "sub-control01_task-nonmusic_run-4_bold.nii.gz:  71%|███████   | 24.1M/33.9M [00:26<00:05, 1.83MB/s]\u001b[A\u001b[A\u001b[A\u001b[A\n",
      "\n",
      "\n",
      "sub-control01_task-nonmusic_run-5_bold.nii.gz:  51%|█████     | 17.3M/33.9M [00:13<00:06, 2.75MB/s]\u001b[A\u001b[A\u001b[A\n",
      "sub-control01_task-music_run-1_bold.nii.gz:  52%|█████▏    | 17.7M/33.8M [00:28<00:13, 1.24MB/s]\u001b[A\n",
      "\n",
      "\n",
      "\n",
      "sub-control01_task-nonmusic_run-4_bold.nii.gz:  72%|███████▏  | 24.2M/33.9M [00:26<00:05, 1.84MB/s]\u001b[A\u001b[A\u001b[A\u001b[A\n",
      "\n",
      "\n",
      "sub-control01_task-nonmusic_run-5_bold.nii.gz:  52%|█████▏    | 17.6M/33.9M [00:13<00:05, 2.86MB/s]\u001b[A\u001b[A\u001b[A\n",
      "\n",
      "\n",
      "\n",
      "sub-control01_task-nonmusic_run-4_bold.nii.gz:  72%|███████▏  | 24.4M/33.9M [00:26<00:05, 1.90MB/s]\u001b[A\u001b[A\u001b[A\u001b[A\n",
      "sub-control01_task-music_run-1_bold.nii.gz:  53%|█████▎    | 17.9M/33.8M [00:28<00:12, 1.30MB/s]\u001b[A\n",
      "\n",
      "\n",
      "sub-control01_task-nonmusic_run-5_bold.nii.gz:  53%|█████▎    | 18.0M/33.9M [00:13<00:05, 3.04MB/s]\u001b[A\u001b[A\u001b[A\n",
      "\n",
      "\n",
      "\n",
      "sub-control01_task-nonmusic_run-4_bold.nii.gz:  73%|███████▎  | 24.6M/33.9M [00:26<00:05, 1.91MB/s]\u001b[A\u001b[A\u001b[A\u001b[A\n",
      "sub-control01_task-music_run-1_bold.nii.gz:  53%|█████▎    | 18.1M/33.8M [00:28<00:12, 1.35MB/s]\u001b[A\n",
      "\n",
      "\n",
      "sub-control01_task-nonmusic_run-5_bold.nii.gz:  54%|█████▍    | 18.3M/33.9M [00:13<00:05, 3.06MB/s]\u001b[A\u001b[A\u001b[A\n",
      "\n",
      "\n",
      "\n",
      "sub-control01_task-nonmusic_run-4_bold.nii.gz:  73%|███████▎  | 24.8M/33.9M [00:26<00:04, 1.99MB/s]\u001b[A\u001b[A\u001b[A\u001b[A\n",
      "sub-control01_task-music_run-1_bold.nii.gz:  54%|█████▍    | 18.2M/33.8M [00:28<00:11, 1.38MB/s]\u001b[A\n",
      "\n",
      "\n",
      "sub-control01_task-nonmusic_run-5_bold.nii.gz:  55%|█████▍    | 18.6M/33.9M [00:13<00:05, 3.06MB/s]\u001b[A\u001b[A\u001b[A\n",
      "\n",
      "\n",
      "\n",
      "sub-control01_task-nonmusic_run-4_bold.nii.gz:  74%|███████▍  | 25.0M/33.9M [00:27<00:04, 1.99MB/s]\u001b[A\u001b[A\u001b[A\u001b[A\n",
      "sub-control01_task-music_run-1_bold.nii.gz:  54%|█████▍    | 18.4M/33.8M [00:28<00:11, 1.41MB/s]\u001b[A\n",
      "\n",
      "\n",
      "sub-control01_task-nonmusic_run-5_bold.nii.gz:  56%|█████▌    | 18.9M/33.9M [00:13<00:05, 3.05MB/s]\u001b[A\u001b[A\u001b[A\n",
      "\n",
      "\n",
      "\n",
      "sub-control01_task-nonmusic_run-4_bold.nii.gz:  75%|███████▍  | 25.2M/33.9M [00:27<00:04, 1.98MB/s]\u001b[A\u001b[A\u001b[A\u001b[A\n",
      "sub-control01_task-music_run-1_bold.nii.gz:  55%|█████▍    | 18.5M/33.8M [00:29<00:10, 1.48MB/s]\u001b[A\n",
      "\n",
      "\n",
      "sub-control01_task-nonmusic_run-5_bold.nii.gz:  57%|█████▋    | 19.2M/33.9M [00:13<00:05, 3.01MB/s]\u001b[A\u001b[A\u001b[A\n",
      "\n",
      "\n",
      "\n",
      "sub-control01_task-nonmusic_run-4_bold.nii.gz:  75%|███████▌  | 25.4M/33.9M [00:27<00:04, 1.95MB/s]\u001b[A\u001b[A\u001b[A\u001b[A\n",
      "sub-control01_task-music_run-1_bold.nii.gz:  55%|█████▌    | 18.7M/33.8M [00:29<00:11, 1.42MB/s]\u001b[A\n",
      "\n",
      "\n",
      "sub-control01_task-nonmusic_run-5_bold.nii.gz:  57%|█████▋    | 19.5M/33.9M [00:14<00:05, 2.87MB/s]\u001b[A\u001b[A\u001b[A\n",
      "\n",
      "\n",
      "\n",
      "sub-control01_task-nonmusic_run-4_bold.nii.gz:  76%|███████▌  | 25.6M/33.9M [00:27<00:04, 1.98MB/s]\u001b[A\u001b[A\u001b[A\u001b[A\n",
      "sub-control01_task-music_run-1_bold.nii.gz:  56%|█████▌    | 18.8M/33.8M [00:29<00:10, 1.44MB/s]\u001b[A\n",
      "\n",
      "\n",
      "sub-control01_task-nonmusic_run-5_bold.nii.gz:  58%|█████▊    | 19.8M/33.9M [00:14<00:04, 3.03MB/s]\u001b[A\u001b[A\u001b[A\n",
      "\n",
      "\n",
      "\n",
      "sub-control01_task-nonmusic_run-4_bold.nii.gz:  76%|███████▋  | 25.8M/33.9M [00:27<00:04, 1.92MB/s]\u001b[A\u001b[A\u001b[A\u001b[A\n",
      "sub-control01_task-music_run-1_bold.nii.gz:  56%|█████▌    | 19.0M/33.8M [00:29<00:10, 1.47MB/s]\u001b[A\n",
      "\n",
      "\n",
      "sub-control01_task-nonmusic_run-5_bold.nii.gz:  59%|█████▉    | 20.1M/33.9M [00:14<00:04, 3.08MB/s]\u001b[A\u001b[A\u001b[A\n",
      "\n",
      "\n",
      "\n",
      "sub-control01_task-nonmusic_run-4_bold.nii.gz:  77%|███████▋  | 26.0M/33.9M [00:27<00:05, 1.61MB/s]\u001b[A\u001b[A\u001b[A\u001b[A\n",
      "sub-control01_task-music_run-1_bold.nii.gz:  57%|█████▋    | 19.1M/33.8M [00:29<00:12, 1.26MB/s]\u001b[A\n",
      "\n",
      "\n",
      "sub-control01_task-nonmusic_run-5_bold.nii.gz:  60%|██████    | 20.4M/33.9M [00:14<00:05, 2.57MB/s]\u001b[A\u001b[A\u001b[A\n",
      "\n",
      "\n",
      "\n",
      "sub-control01_task-nonmusic_run-4_bold.nii.gz:  77%|███████▋  | 26.2M/33.9M [00:27<00:06, 1.23MB/s]\u001b[A\u001b[A\u001b[A\u001b[A\n",
      "\n",
      "\n",
      "sub-control01_task-nonmusic_run-5_bold.nii.gz:  61%|██████    | 20.7M/33.9M [00:14<00:06, 1.99MB/s]\u001b[A\u001b[A\u001b[A\n",
      "sub-control01_task-music_run-1_bold.nii.gz:  57%|█████▋    | 19.3M/33.8M [00:29<00:16, 921kB/s] \u001b[A\n",
      "\n",
      "\n",
      "\n",
      "sub-control01_task-nonmusic_run-4_bold.nii.gz:  78%|███████▊  | 26.6M/33.9M [00:27<00:04, 1.75MB/s]\u001b[A\u001b[A\u001b[A\u001b[A\n",
      "\n",
      "\n",
      "sub-control01_task-nonmusic_run-5_bold.nii.gz:  62%|██████▏   | 21.2M/33.9M [00:14<00:05, 2.57MB/s]\u001b[A\u001b[A\u001b[A\n",
      "sub-control01_task-music_run-1_bold.nii.gz:  58%|█████▊    | 19.6M/33.8M [00:29<00:11, 1.30MB/s]\u001b[A\n",
      "\n",
      "\n",
      "\n",
      "sub-control01_task-nonmusic_run-4_bold.nii.gz:  79%|███████▉  | 26.8M/33.9M [00:28<00:04, 1.68MB/s]\u001b[A\u001b[A\u001b[A\u001b[A\n",
      "\n",
      "\n",
      "sub-control01_task-nonmusic_run-5_bold.nii.gz:  63%|██████▎   | 21.5M/33.9M [00:14<00:05, 2.50MB/s]\u001b[A\u001b[A\u001b[A\n",
      "sub-control01_task-music_run-1_bold.nii.gz:  58%|█████▊    | 19.7M/33.8M [00:30<00:11, 1.29MB/s]\u001b[A\n",
      "\n",
      "\n",
      "\n",
      "sub-control01_task-nonmusic_run-4_bold.nii.gz:  80%|███████▉  | 26.9M/33.9M [00:28<00:04, 1.67MB/s]\u001b[A\u001b[A\u001b[A\u001b[A\n",
      "\n",
      "\n",
      "sub-control01_task-nonmusic_run-5_bold.nii.gz:  64%|██████▍   | 21.7M/33.9M [00:15<00:05, 2.46MB/s]\u001b[A\u001b[A\u001b[A\n",
      "sub-control01_task-music_run-1_bold.nii.gz:  59%|█████▊    | 19.9M/33.8M [00:30<00:12, 1.22MB/s]\u001b[A\n",
      "\n",
      "\n",
      "\n",
      "sub-control01_task-nonmusic_run-4_bold.nii.gz:  80%|████████  | 27.1M/33.9M [00:28<00:04, 1.63MB/s]\u001b[A\u001b[A\u001b[A\u001b[A\n",
      "\n",
      "\n",
      "sub-control01_task-nonmusic_run-5_bold.nii.gz:  65%|██████▍   | 22.0M/33.9M [00:15<00:05, 2.43MB/s]\u001b[A\u001b[A\u001b[A\n",
      "sub-control01_task-music_run-1_bold.nii.gz:  59%|█████▉    | 20.0M/33.8M [00:30<00:11, 1.28MB/s]\u001b[A\n",
      "\n",
      "\n",
      "\n",
      "sub-control01_task-nonmusic_run-4_bold.nii.gz:  81%|████████  | 27.3M/33.9M [00:28<00:04, 1.57MB/s]\u001b[A\u001b[A\u001b[A\u001b[A\n",
      "\n",
      "\n",
      "sub-control01_task-nonmusic_run-5_bold.nii.gz:  66%|██████▌   | 22.2M/33.9M [00:15<00:05, 2.35MB/s]\u001b[A\u001b[A\u001b[A\n",
      "sub-control01_task-music_run-1_bold.nii.gz:  60%|█████▉    | 20.2M/33.8M [00:30<00:10, 1.33MB/s]\u001b[A\n",
      "\n",
      "\n",
      "\n",
      "sub-control01_task-nonmusic_run-4_bold.nii.gz:  81%|████████  | 27.5M/33.9M [00:28<00:04, 1.56MB/s]\u001b[A\u001b[A\u001b[A\u001b[A\n",
      "\n",
      "\n",
      "sub-control01_task-nonmusic_run-5_bold.nii.gz:  66%|██████▋   | 22.5M/33.9M [00:15<00:05, 2.38MB/s]\u001b[A\u001b[A\u001b[A\n",
      "sub-control01_task-music_run-1_bold.nii.gz:  60%|█████▉    | 20.3M/33.8M [00:30<00:11, 1.27MB/s]\u001b[A\n",
      "\n",
      "\n",
      "\n",
      "sub-control01_task-nonmusic_run-4_bold.nii.gz:  82%|████████▏ | 27.6M/33.9M [00:28<00:04, 1.62MB/s]\u001b[A\u001b[A\u001b[A\u001b[A\n",
      "\n",
      "\n",
      "sub-control01_task-nonmusic_run-5_bold.nii.gz:  67%|██████▋   | 22.8M/33.9M [00:15<00:04, 2.44MB/s]\u001b[A\u001b[A\u001b[A\n",
      "sub-control01_task-music_run-1_bold.nii.gz:  60%|██████    | 20.5M/33.8M [00:30<00:10, 1.32MB/s]\u001b[A\n",
      "\n",
      "\n",
      "\n",
      "sub-control01_task-nonmusic_run-4_bold.nii.gz:  82%|████████▏ | 27.8M/33.9M [00:28<00:03, 1.63MB/s]\u001b[A\u001b[A\u001b[A\u001b[A\n",
      "\n",
      "\n",
      "sub-control01_task-nonmusic_run-5_bold.nii.gz:  68%|██████▊   | 23.1M/33.9M [00:15<00:04, 2.51MB/s]\u001b[A\u001b[A\u001b[A\n",
      "sub-control01_task-music_run-1_bold.nii.gz:  61%|██████    | 20.6M/33.8M [00:30<00:10, 1.32MB/s]\u001b[A\n",
      "\n",
      "\n",
      "\n",
      "sub-control01_task-nonmusic_run-4_bold.nii.gz:  83%|████████▎ | 28.0M/33.9M [00:28<00:03, 1.64MB/s]\u001b[A\u001b[A\u001b[A\u001b[A\n",
      "sub-control01_task-music_run-1_bold.nii.gz:  61%|██████▏   | 20.8M/33.8M [00:30<00:10, 1.36MB/s]\u001b[A\n",
      "\n",
      "\n",
      "\n",
      "sub-control01_task-nonmusic_run-4_bold.nii.gz:  83%|████████▎ | 28.2M/33.9M [00:29<00:03, 1.69MB/s]\u001b[A\u001b[A\u001b[A\u001b[A\n",
      "\n",
      "\n",
      "sub-control01_task-nonmusic_run-5_bold.nii.gz:  69%|██████▉   | 23.3M/33.9M [00:15<00:05, 2.00MB/s]\u001b[A\u001b[A\u001b[A\n",
      "sub-control01_task-music_run-1_bold.nii.gz:  62%|██████▏   | 21.0M/33.8M [00:31<00:09, 1.43MB/s]\u001b[A\n",
      "\n",
      "\n",
      "sub-control01_task-nonmusic_run-5_bold.nii.gz:  70%|██████▉   | 23.7M/33.9M [00:15<00:04, 2.42MB/s]\u001b[A\u001b[A\u001b[A\n",
      "\n",
      "\n",
      "\n",
      "sub-control01_task-nonmusic_run-4_bold.nii.gz:  84%|████████▎ | 28.4M/33.9M [00:29<00:03, 1.71MB/s]\u001b[A\u001b[A\u001b[A\u001b[A\n",
      "sub-control01_task-music_run-1_bold.nii.gz:  62%|██████▏   | 21.1M/33.8M [00:31<00:08, 1.49MB/s]\u001b[A\n",
      "\n",
      "\n",
      "\n",
      "sub-control01_task-nonmusic_run-4_bold.nii.gz:  84%|████████▍ | 28.6M/33.9M [00:29<00:03, 1.77MB/s]\u001b[A\u001b[A\u001b[A\u001b[A\n",
      "\n",
      "\n",
      "sub-control01_task-nonmusic_run-5_bold.nii.gz:  71%|███████   | 24.0M/33.9M [00:16<00:04, 2.26MB/s]\u001b[A\u001b[A\u001b[A\n",
      "sub-control01_task-music_run-1_bold.nii.gz:  63%|██████▎   | 21.3M/33.8M [00:31<00:09, 1.43MB/s]\u001b[A\n",
      "\n",
      "\n",
      "\n",
      "sub-control01_task-nonmusic_run-4_bold.nii.gz:  85%|████████▍ | 28.7M/33.9M [00:29<00:03, 1.69MB/s]\u001b[A\u001b[A\u001b[A\u001b[A\n",
      "\n",
      "\n",
      "sub-control01_task-nonmusic_run-5_bold.nii.gz:  71%|███████▏  | 24.2M/33.9M [00:16<00:04, 2.12MB/s]\u001b[A\u001b[A\u001b[A\n",
      "\n",
      "\n",
      "\n",
      "sub-control01_task-nonmusic_run-4_bold.nii.gz:  85%|████████▌ | 28.9M/33.9M [00:29<00:03, 1.57MB/s]\u001b[A\u001b[A\u001b[A\u001b[A\n",
      "sub-control01_task-music_run-1_bold.nii.gz:  63%|██████▎   | 21.5M/33.8M [00:31<00:09, 1.34MB/s]\u001b[A\n",
      "\n",
      "\n",
      "sub-control01_task-nonmusic_run-5_bold.nii.gz:  72%|███████▏  | 24.4M/33.9M [00:16<00:05, 1.96MB/s]\u001b[A\u001b[A\u001b[A\n",
      "\n",
      "\n",
      "\n",
      "sub-control01_task-nonmusic_run-4_bold.nii.gz:  86%|████████▌ | 29.1M/33.9M [00:29<00:03, 1.57MB/s]\u001b[A\u001b[A\u001b[A\u001b[A\n",
      "sub-control01_task-music_run-1_bold.nii.gz:  64%|██████▍   | 21.6M/33.8M [00:31<00:09, 1.40MB/s]\u001b[A\n",
      "\n",
      "\n",
      "sub-control01_task-nonmusic_run-5_bold.nii.gz:  73%|███████▎  | 24.6M/33.9M [00:16<00:05, 1.91MB/s]\u001b[A\u001b[A\u001b[A\n",
      "\n",
      "\n",
      "\n",
      "sub-control01_task-nonmusic_run-4_bold.nii.gz:  86%|████████▋ | 29.3M/33.9M [00:29<00:02, 1.68MB/s]\u001b[A\u001b[A\u001b[A\u001b[A\n",
      "sub-control01_task-music_run-1_bold.nii.gz:  64%|██████▍   | 21.8M/33.8M [00:31<00:08, 1.46MB/s]\u001b[A\n",
      "\n",
      "\n",
      "sub-control01_task-nonmusic_run-5_bold.nii.gz:  73%|███████▎  | 24.8M/33.9M [00:16<00:05, 1.81MB/s]\u001b[A\u001b[A\u001b[A\n",
      "\n",
      "\n",
      "\n",
      "sub-control01_task-nonmusic_run-4_bold.nii.gz:  87%|████████▋ | 29.4M/33.9M [00:29<00:02, 1.67MB/s]\u001b[A\u001b[A\u001b[A\u001b[A\n",
      "sub-control01_task-music_run-1_bold.nii.gz:  65%|██████▌   | 22.0M/33.8M [00:31<00:08, 1.54MB/s]\u001b[A\n",
      "\n",
      "\n",
      "sub-control01_task-nonmusic_run-5_bold.nii.gz:  74%|███████▍  | 25.0M/33.9M [00:16<00:04, 1.91MB/s]\u001b[A\u001b[A\u001b[A\n",
      "\n",
      "\n",
      "\n",
      "sub-control01_task-nonmusic_run-4_bold.nii.gz:  87%|████████▋ | 29.6M/33.9M [00:29<00:02, 1.67MB/s]\u001b[A\u001b[A\u001b[A\u001b[A\n",
      "sub-control01_task-music_run-1_bold.nii.gz:  66%|██████▌   | 22.2M/33.8M [00:31<00:07, 1.57MB/s]\u001b[A\n",
      "\n",
      "\n",
      "sub-control01_task-nonmusic_run-5_bold.nii.gz:  74%|███████▍  | 25.2M/33.9M [00:16<00:04, 1.99MB/s]\u001b[A\u001b[A\u001b[A\n",
      "\n",
      "\n",
      "\n",
      "sub-control01_task-nonmusic_run-4_bold.nii.gz:  88%|████████▊ | 29.8M/33.9M [00:30<00:02, 1.77MB/s]\u001b[A\u001b[A\u001b[A\u001b[A\n",
      "sub-control01_task-music_run-1_bold.nii.gz:  66%|██████▌   | 22.4M/33.8M [00:32<00:07, 1.55MB/s]\u001b[A\n",
      "\n",
      "\n",
      "sub-control01_task-nonmusic_run-5_bold.nii.gz:  75%|███████▌  | 25.4M/33.9M [00:16<00:04, 1.97MB/s]\u001b[A\u001b[A\u001b[A\n",
      "\n",
      "\n",
      "\n",
      "sub-control01_task-nonmusic_run-4_bold.nii.gz:  89%|████████▊ | 30.0M/33.9M [00:30<00:02, 1.84MB/s]\u001b[A\u001b[A\u001b[A\u001b[A\n",
      "\n",
      "\n",
      "sub-control01_task-nonmusic_run-5_bold.nii.gz:  76%|███████▌  | 25.6M/33.9M [00:17<00:04, 1.91MB/s]\u001b[A\u001b[A\u001b[A\n",
      "sub-control01_task-music_run-1_bold.nii.gz:  67%|██████▋   | 22.6M/33.8M [00:32<00:07, 1.52MB/s]\u001b[A\n",
      "\n",
      "\n",
      "\n",
      "sub-control01_task-nonmusic_run-4_bold.nii.gz:  89%|████████▉ | 30.2M/33.9M [00:30<00:01, 1.91MB/s]\u001b[A\u001b[A\u001b[A\u001b[A\n",
      "\n",
      "\n",
      "sub-control01_task-nonmusic_run-5_bold.nii.gz:  76%|███████▋  | 25.8M/33.9M [00:17<00:04, 1.93MB/s]\u001b[A\u001b[A\u001b[A\n",
      "sub-control01_task-music_run-1_bold.nii.gz:  67%|██████▋   | 22.8M/33.8M [00:32<00:07, 1.57MB/s]\u001b[A\n",
      "\n",
      "\n",
      "\n",
      "sub-control01_task-nonmusic_run-4_bold.nii.gz:  90%|████████▉ | 30.4M/33.9M [00:30<00:01, 1.95MB/s]\u001b[A\u001b[A\u001b[A\u001b[A\n",
      "\n",
      "\n",
      "sub-control01_task-nonmusic_run-5_bold.nii.gz:  77%|███████▋  | 26.1M/33.9M [00:17<00:04, 2.03MB/s]\u001b[A\u001b[A\u001b[A\n",
      "\n",
      "\n",
      "\n",
      "sub-control01_task-nonmusic_run-4_bold.nii.gz:  90%|█████████ | 30.6M/33.9M [00:30<00:01, 1.95MB/s]\u001b[A\u001b[A\u001b[A\u001b[A\n",
      "sub-control01_task-music_run-1_bold.nii.gz:  68%|██████▊   | 23.0M/33.8M [00:32<00:07, 1.59MB/s]\u001b[A\n",
      "\n",
      "\n",
      "sub-control01_task-nonmusic_run-5_bold.nii.gz:  78%|███████▊  | 26.3M/33.9M [00:17<00:03, 2.01MB/s]\u001b[A\u001b[A\u001b[A\n",
      "\n",
      "\n",
      "\n",
      "sub-control01_task-nonmusic_run-4_bold.nii.gz:  91%|█████████ | 30.9M/33.9M [00:30<00:01, 2.02MB/s]\u001b[A\u001b[A\u001b[A\u001b[A\n",
      "sub-control01_task-music_run-1_bold.nii.gz:  68%|██████▊   | 23.1M/33.8M [00:32<00:07, 1.54MB/s]\u001b[A\n",
      "\n",
      "\n",
      "sub-control01_task-nonmusic_run-5_bold.nii.gz:  78%|███████▊  | 26.5M/33.9M [00:17<00:03, 1.99MB/s]\u001b[A\u001b[A\u001b[A\n",
      "\n",
      "\n",
      "\n",
      "sub-control01_task-nonmusic_run-4_bold.nii.gz:  92%|█████████▏| 31.1M/33.9M [00:30<00:01, 1.94MB/s]\u001b[A\u001b[A\u001b[A\u001b[A\n",
      "sub-control01_task-music_run-1_bold.nii.gz:  69%|██████▉   | 23.3M/33.8M [00:32<00:06, 1.57MB/s]\u001b[A\n",
      "\n",
      "\n",
      "sub-control01_task-nonmusic_run-5_bold.nii.gz:  79%|███████▉  | 26.7M/33.9M [00:17<00:03, 2.04MB/s]\u001b[A\u001b[A\u001b[A\n",
      "\n",
      "\n",
      "\n",
      "sub-control01_task-nonmusic_run-4_bold.nii.gz:  92%|█████████▏| 31.3M/33.9M [00:30<00:01, 1.93MB/s]\u001b[A\u001b[A\u001b[A\u001b[A\n",
      "sub-control01_task-music_run-1_bold.nii.gz:  70%|██████▉   | 23.5M/33.8M [00:32<00:06, 1.58MB/s]\u001b[A\n",
      "\n",
      "\n",
      "sub-control01_task-nonmusic_run-5_bold.nii.gz:  79%|███████▉  | 26.9M/33.9M [00:17<00:03, 2.09MB/s]\u001b[A\u001b[A\u001b[A\n",
      "\n",
      "\n",
      "\n",
      "sub-control01_task-nonmusic_run-4_bold.nii.gz:  93%|█████████▎| 31.5M/33.9M [00:30<00:01, 1.84MB/s]\u001b[A\u001b[A\u001b[A\u001b[A\n",
      "sub-control01_task-music_run-1_bold.nii.gz:  70%|███████   | 23.7M/33.8M [00:32<00:06, 1.67MB/s]\u001b[A\n",
      "\n",
      "\n",
      "sub-control01_task-nonmusic_run-5_bold.nii.gz:  80%|████████  | 27.2M/33.9M [00:17<00:03, 2.19MB/s]\u001b[A\u001b[A\u001b[A\n",
      "\n",
      "\n",
      "\n",
      "sub-control01_task-nonmusic_run-4_bold.nii.gz:  93%|█████████▎| 31.6M/33.9M [00:31<00:01, 1.81MB/s]\u001b[A\u001b[A\u001b[A\u001b[A\n",
      "sub-control01_task-music_run-1_bold.nii.gz:  71%|███████   | 23.9M/33.8M [00:33<00:06, 1.73MB/s]\u001b[A\n",
      "\n",
      "\n",
      "sub-control01_task-nonmusic_run-5_bold.nii.gz:  81%|████████  | 27.4M/33.9M [00:17<00:03, 2.18MB/s]\u001b[A\u001b[A\u001b[A\n",
      "\n",
      "\n",
      "\n",
      "sub-control01_task-nonmusic_run-4_bold.nii.gz:  94%|█████████▍| 31.8M/33.9M [00:31<00:01, 1.83MB/s]\u001b[A\u001b[A\u001b[A\u001b[A\n",
      "\n",
      "\n",
      "sub-control01_task-nonmusic_run-5_bold.nii.gz:  81%|████████▏ | 27.6M/33.9M [00:17<00:03, 2.11MB/s]\u001b[A\u001b[A\u001b[A\n",
      "sub-control01_task-music_run-1_bold.nii.gz:  71%|███████   | 24.1M/33.8M [00:33<00:05, 1.73MB/s]\u001b[A\n",
      "\n",
      "\n",
      "\n",
      "sub-control01_task-nonmusic_run-4_bold.nii.gz:  95%|█████████▍| 32.0M/33.9M [00:31<00:01, 1.88MB/s]\u001b[A\u001b[A\u001b[A\u001b[A\n",
      "\n",
      "\n",
      "sub-control01_task-nonmusic_run-5_bold.nii.gz:  82%|████████▏ | 27.8M/33.9M [00:18<00:03, 2.06MB/s]\u001b[A\u001b[A\u001b[A\n",
      "sub-control01_task-music_run-1_bold.nii.gz:  72%|███████▏  | 24.3M/33.8M [00:33<00:05, 1.73MB/s]\u001b[A\n",
      "\n",
      "\n",
      "\n",
      "sub-control01_task-nonmusic_run-4_bold.nii.gz:  95%|█████████▌| 32.3M/33.9M [00:31<00:00, 1.98MB/s]\u001b[A\u001b[A\u001b[A\u001b[A\n",
      "sub-control01_task-music_run-1_bold.nii.gz:  72%|███████▏  | 24.5M/33.8M [00:33<00:05, 1.76MB/s]\u001b[A\n",
      "\n",
      "\n",
      "sub-control01_task-nonmusic_run-5_bold.nii.gz:  83%|████████▎ | 28.0M/33.9M [00:18<00:03, 2.01MB/s]\u001b[A\u001b[A\u001b[A\n",
      "\n",
      "\n",
      "\n",
      "sub-control01_task-nonmusic_run-4_bold.nii.gz:  96%|█████████▌| 32.5M/33.9M [00:31<00:00, 2.01MB/s]\u001b[A\u001b[A\u001b[A\u001b[A\n",
      "\n",
      "\n",
      "sub-control01_task-nonmusic_run-5_bold.nii.gz:  83%|████████▎ | 28.2M/33.9M [00:18<00:02, 2.00MB/s]\u001b[A\u001b[A\u001b[A\n",
      "sub-control01_task-music_run-1_bold.nii.gz:  73%|███████▎  | 24.7M/33.8M [00:33<00:05, 1.75MB/s]\u001b[A\n",
      "\n",
      "\n",
      "\n",
      "sub-control01_task-nonmusic_run-4_bold.nii.gz:  96%|█████████▋| 32.7M/33.9M [00:31<00:00, 2.02MB/s]\u001b[A\u001b[A\u001b[A\u001b[A\n",
      "\n",
      "\n",
      "sub-control01_task-nonmusic_run-5_bold.nii.gz:  84%|████████▍ | 28.4M/33.9M [00:18<00:02, 2.04MB/s]\u001b[A\u001b[A\u001b[A\n",
      "sub-control01_task-music_run-1_bold.nii.gz:  74%|███████▎  | 24.9M/33.8M [00:33<00:05, 1.73MB/s]\u001b[A\n",
      "\n",
      "\n",
      "\n",
      "sub-control01_task-nonmusic_run-4_bold.nii.gz:  97%|█████████▋| 32.9M/33.9M [00:31<00:00, 1.99MB/s]\u001b[A\u001b[A\u001b[A\u001b[A\n",
      "\n",
      "\n",
      "sub-control01_task-nonmusic_run-5_bold.nii.gz:  85%|████████▍ | 28.6M/33.9M [00:18<00:02, 2.15MB/s]\u001b[A\u001b[A\u001b[A\n",
      "\n",
      "\n",
      "\n",
      "sub-control01_task-nonmusic_run-4_bold.nii.gz:  98%|█████████▊| 33.1M/33.9M [00:31<00:00, 2.00MB/s]\u001b[A\u001b[A\u001b[A\u001b[A\n",
      "sub-control01_task-music_run-1_bold.nii.gz:  74%|███████▍  | 25.1M/33.8M [00:33<00:05, 1.68MB/s]\u001b[A\n",
      "\n",
      "\n",
      "sub-control01_task-nonmusic_run-5_bold.nii.gz:  85%|████████▌ | 28.9M/33.9M [00:18<00:02, 2.14MB/s]\u001b[A\u001b[A\u001b[A\n",
      "\n",
      "\n",
      "\n",
      "sub-control01_task-nonmusic_run-4_bold.nii.gz:  98%|█████████▊| 33.3M/33.9M [00:31<00:00, 1.94MB/s]\u001b[A\u001b[A\u001b[A\u001b[A\n",
      "sub-control01_task-music_run-1_bold.nii.gz:  75%|███████▍  | 25.3M/33.8M [00:33<00:05, 1.69MB/s]\u001b[A\n",
      "\n",
      "\n",
      "sub-control01_task-nonmusic_run-5_bold.nii.gz:  86%|████████▌ | 29.1M/33.9M [00:18<00:02, 2.08MB/s]\u001b[A\u001b[A\u001b[A\n",
      "\n",
      "\n",
      "\n",
      "sub-control01_task-nonmusic_run-4_bold.nii.gz:  99%|█████████▉| 33.5M/33.9M [00:32<00:00, 1.90MB/s]\u001b[A\u001b[A\u001b[A\u001b[A\n",
      "sub-control01_task-music_run-1_bold.nii.gz:  75%|███████▌  | 25.5M/33.8M [00:33<00:05, 1.70MB/s]\u001b[A\n",
      "\n",
      "\n",
      "sub-control01_task-nonmusic_run-5_bold.nii.gz:  87%|████████▋ | 29.4M/33.9M [00:18<00:02, 2.13MB/s]\u001b[A\u001b[A\u001b[A\n",
      "\n",
      "\n",
      "\n",
      "sub-control01_task-nonmusic_run-4_bold.nii.gz:  99%|█████████▉| 33.7M/33.9M [00:32<00:00, 1.91MB/s]\u001b[A\u001b[A\u001b[A\u001b[A\n",
      "sub-control01_task-music_run-1_bold.nii.gz:  76%|███████▌  | 25.7M/33.8M [00:34<00:04, 1.72MB/s]\u001b[A\n",
      "\n",
      "\n",
      "sub-control01_task-nonmusic_run-5_bold.nii.gz:  87%|████████▋ | 29.6M/33.9M [00:19<00:02, 2.20MB/s]\u001b[A\u001b[A\u001b[A\n",
      "\n",
      "\n",
      "\n",
      "                                                                                                   \u001b[A\u001b[A\u001b[A\u001b[A\n",
      "sub-control01_task-music_run-1_bold.nii.gz:  76%|███████▋  | 25.9M/33.8M [00:34<00:04, 1.75MB/s]\u001b[A\n",
      "\n",
      "\n",
      "sub-control01_task-nonmusic_run-5_bold.nii.gz:  88%|████████▊ | 29.8M/33.9M [00:19<00:01, 2.26MB/s]\u001b[A\u001b[A\u001b[A\n",
      "sub-control01_task-music_run-1_bold.nii.gz:  77%|███████▋  | 26.1M/33.8M [00:34<00:04, 1.78MB/s]\u001b[A\n",
      "\n",
      "\n",
      "sub-control01_task-nonmusic_run-5_bold.nii.gz:  89%|████████▊ | 30.1M/33.9M [00:19<00:01, 2.21MB/s]\u001b[A\u001b[A\u001b[A\n",
      "sub-control01_task-music_run-1_bold.nii.gz:  78%|███████▊  | 26.3M/33.8M [00:34<00:04, 1.81MB/s]\u001b[A\n",
      "\n",
      "\n",
      "sub-control01_task-nonmusic_run-5_bold.nii.gz:  89%|████████▉ | 30.3M/33.9M [00:19<00:01, 2.26MB/s]\u001b[A\u001b[A\u001b[A\n",
      "sub-control01_task-music_run-1_bold.nii.gz:  78%|███████▊  | 26.5M/33.8M [00:34<00:04, 1.85MB/s]\u001b[A\n",
      "\n",
      "\n",
      "sub-control01_task-nonmusic_run-5_bold.nii.gz:  90%|█████████ | 30.5M/33.9M [00:19<00:01, 2.23MB/s]\u001b[A\u001b[A\u001b[A\n",
      "sub-control01_task-music_run-1_bold.nii.gz:  79%|███████▉  | 26.7M/33.8M [00:34<00:03, 1.92MB/s]\u001b[A\n",
      "\n",
      "\n",
      "sub-control01_task-nonmusic_run-5_bold.nii.gz:  91%|█████████ | 30.7M/33.9M [00:19<00:01, 2.19MB/s]\u001b[A\u001b[A\u001b[A\n",
      "sub-control01_task-music_run-1_bold.nii.gz:  79%|███████▉  | 26.9M/33.8M [00:34<00:03, 1.90MB/s]\u001b[A\n",
      "\n",
      "\n",
      "sub-control01_task-nonmusic_run-5_bold.nii.gz:  91%|█████████▏| 30.9M/33.9M [00:19<00:01, 2.19MB/s]\u001b[A\u001b[A\u001b[A\n",
      "sub-control01_task-music_run-1_bold.nii.gz:  80%|███████▉  | 27.1M/33.8M [00:34<00:03, 1.95MB/s]\u001b[A\n",
      "\n",
      "\n",
      "sub-control01_task-nonmusic_run-5_bold.nii.gz:  92%|█████████▏| 31.2M/33.9M [00:19<00:01, 2.30MB/s]\u001b[A\u001b[A\u001b[A\n",
      "sub-control01_task-music_run-1_bold.nii.gz:  81%|████████  | 27.3M/33.8M [00:34<00:03, 1.89MB/s]\u001b[A\n",
      "\n",
      "\n",
      "sub-control01_task-nonmusic_run-5_bold.nii.gz:  93%|█████████▎| 31.4M/33.9M [00:19<00:01, 2.32MB/s]\u001b[A\u001b[A\u001b[A\n",
      "sub-control01_task-music_run-1_bold.nii.gz:  81%|████████  | 27.4M/33.8M [00:35<00:03, 1.86MB/s]\u001b[A\n",
      "\n",
      "\n",
      "sub-control01_task-nonmusic_run-5_bold.nii.gz:  93%|█████████▎| 31.7M/33.9M [00:19<00:01, 2.30MB/s]\u001b[A\u001b[A\u001b[A\n",
      "sub-control01_task-music_run-1_bold.nii.gz:  82%|████████▏ | 27.6M/33.8M [00:35<00:03, 1.83MB/s]\u001b[A\n",
      "\n",
      "\n",
      "sub-control01_task-nonmusic_run-5_bold.nii.gz:  94%|█████████▍| 31.9M/33.9M [00:20<00:00, 2.28MB/s]\u001b[A\u001b[A\u001b[A\n",
      "sub-control01_task-music_run-1_bold.nii.gz:  82%|████████▏ | 27.8M/33.8M [00:35<00:03, 1.83MB/s]\u001b[A\n",
      "\n",
      "\n",
      "sub-control01_task-nonmusic_run-5_bold.nii.gz:  95%|█████████▍| 32.1M/33.9M [00:20<00:00, 2.31MB/s]\u001b[A\u001b[A\u001b[A\n",
      "\n",
      "\n",
      "sub-control01_task-nonmusic_run-5_bold.nii.gz:  96%|█████████▌| 32.4M/33.9M [00:20<00:00, 2.31MB/s]\u001b[A\u001b[A\u001b[A\n",
      "sub-control01_task-music_run-1_bold.nii.gz:  83%|████████▎ | 28.0M/33.8M [00:35<00:03, 1.83MB/s]\u001b[A\n",
      "\n",
      "\n",
      "sub-control01_task-nonmusic_run-5_bold.nii.gz:  96%|█████████▌| 32.6M/33.9M [00:20<00:00, 2.32MB/s]\u001b[A\u001b[A\u001b[A\n",
      "sub-control01_task-music_run-1_bold.nii.gz:  83%|████████▎ | 28.2M/33.8M [00:35<00:03, 1.84MB/s]\u001b[A\n",
      "\n",
      "\n",
      "sub-control01_task-nonmusic_run-5_bold.nii.gz:  97%|█████████▋| 32.8M/33.9M [00:20<00:00, 2.29MB/s]\u001b[A\u001b[A\u001b[A\n",
      "sub-control01_task-music_run-1_bold.nii.gz:  84%|████████▍ | 28.4M/33.8M [00:35<00:03, 1.84MB/s]\u001b[A\n",
      "\n",
      "\n",
      "sub-control01_task-nonmusic_run-5_bold.nii.gz:  98%|█████████▊| 33.1M/33.9M [00:20<00:00, 2.27MB/s]\u001b[A\u001b[A\u001b[A\n",
      "sub-control01_task-music_run-1_bold.nii.gz:  84%|████████▍ | 28.6M/33.8M [00:35<00:03, 1.74MB/s]\u001b[A\n",
      "\n",
      "\n",
      "sub-control01_task-nonmusic_run-5_bold.nii.gz:  98%|█████████▊| 33.3M/33.9M [00:20<00:00, 2.34MB/s]\u001b[A\u001b[A\u001b[A\n",
      "sub-control01_task-music_run-1_bold.nii.gz:  85%|████████▌ | 28.8M/33.8M [00:35<00:02, 1.78MB/s]\u001b[A\n",
      "\n",
      "\n",
      "sub-control01_task-nonmusic_run-5_bold.nii.gz:  99%|█████████▉| 33.6M/33.9M [00:20<00:00, 2.36MB/s]\u001b[A\u001b[A\u001b[A\n",
      "sub-control01_task-music_run-1_bold.nii.gz:  86%|████████▌ | 29.0M/33.8M [00:35<00:02, 1.85MB/s]\u001b[A\n",
      "\n",
      "\n",
      "sub-control01_task-nonmusic_run-5_bold.nii.gz: 100%|█████████▉| 33.8M/33.9M [00:20<00:00, 2.37MB/s]\u001b[A\u001b[A\u001b[A\n",
      "sub-control01_task-music_run-1_bold.nii.gz:  86%|████████▌ | 29.2M/33.8M [00:36<00:02, 1.89MB/s]\u001b[A\n",
      "\n",
      "\n",
      "                                                                                                   \u001b[A\u001b[A\u001b[A\n",
      "sub-control01_task-music_run-1_bold.nii.gz:  87%|████████▋ | 29.4M/33.8M [00:36<00:02, 1.95MB/s]\u001b[A\n",
      "sub-control01_task-music_run-1_bold.nii.gz:  87%|████████▋ | 29.6M/33.8M [00:36<00:02, 1.96MB/s]\u001b[A\n",
      "sub-control01_task-music_run-1_bold.nii.gz:  88%|████████▊ | 29.8M/33.8M [00:36<00:02, 1.95MB/s]\u001b[A\n",
      "sub-control01_task-music_run-1_bold.nii.gz:  89%|████████▊ | 30.0M/33.8M [00:36<00:02, 1.97MB/s]\u001b[A\n",
      "sub-control01_task-music_run-1_bold.nii.gz:  89%|████████▉ | 30.2M/33.8M [00:36<00:01, 1.96MB/s]\u001b[A\n",
      "sub-control01_task-music_run-1_bold.nii.gz:  90%|████████▉ | 30.4M/33.8M [00:36<00:01, 1.96MB/s]\u001b[A\n",
      "sub-control01_task-music_run-1_bold.nii.gz:  90%|█████████ | 30.6M/33.8M [00:36<00:01, 1.95MB/s]\u001b[A\n",
      "sub-control01_task-music_run-1_bold.nii.gz:  91%|█████████ | 30.8M/33.8M [00:36<00:01, 1.96MB/s]\u001b[A\n",
      "sub-control01_task-music_run-1_bold.nii.gz:  91%|█████████▏| 31.0M/33.8M [00:37<00:01, 1.96MB/s]\u001b[A\n",
      "sub-control01_task-music_run-1_bold.nii.gz:  92%|█████████▏| 31.2M/33.8M [00:37<00:01, 1.96MB/s]\u001b[A\n",
      "sub-control01_task-music_run-1_bold.nii.gz:  93%|█████████▎| 31.4M/33.8M [00:37<00:01, 1.97MB/s]\u001b[A\n",
      "sub-control01_task-music_run-1_bold.nii.gz:  93%|█████████▎| 31.6M/33.8M [00:37<00:01, 1.96MB/s]\u001b[A\n",
      "sub-control01_task-music_run-1_bold.nii.gz:  94%|█████████▍| 31.8M/33.8M [00:37<00:01, 2.00MB/s]\u001b[A\n",
      "sub-control01_task-music_run-1_bold.nii.gz:  94%|█████████▍| 32.0M/33.8M [00:37<00:00, 2.04MB/s]\u001b[A\n",
      "sub-control01_task-music_run-1_bold.nii.gz:  95%|█████████▌| 32.2M/33.8M [00:37<00:00, 2.10MB/s]\u001b[A\n",
      "sub-control01_task-music_run-1_bold.nii.gz:  96%|█████████▌| 32.4M/33.8M [00:37<00:00, 2.12MB/s]\u001b[A\n",
      "sub-control01_task-music_run-1_bold.nii.gz:  96%|█████████▋| 32.6M/33.8M [00:37<00:00, 2.10MB/s]\u001b[A\n",
      "sub-control01_task-music_run-1_bold.nii.gz:  97%|█████████▋| 32.8M/33.8M [00:37<00:00, 2.02MB/s]\u001b[A\n",
      "sub-control01_task-music_run-1_bold.nii.gz:  98%|█████████▊| 33.0M/33.8M [00:38<00:00, 2.07MB/s]\u001b[A\n",
      "sub-control01_task-music_run-1_bold.nii.gz:  98%|█████████▊| 33.3M/33.8M [00:38<00:00, 2.12MB/s]\u001b[A\n",
      "sub-control01_task-music_run-1_bold.nii.gz:  99%|█████████▉| 33.5M/33.8M [00:38<00:00, 2.01MB/s]\u001b[A"
     ]
    },
    {
     "name": "stdout",
     "output_type": "stream",
     "text": [
      "✅ Finished downloading ds000171.\n",
      " \n",
      "🧠 Please enjoy your brains.\n",
      " \n"
     ]
    },
    {
     "name": "stderr",
     "output_type": "stream",
     "text": [
      "\n",
      "sub-control01_task-music_run-1_bold.nii.gz: 100%|█████████▉| 33.7M/33.8M [00:38<00:00, 2.02MB/s]\u001b[A\n",
      "                                                                                                \u001b[A"
     ]
    }
   ],
   "source": [
    "subprocess.run([\"openneuro-py\", \"download\", \"--dataset\", dataset_id, \n",
    "                \"--target-dir\", bids_root, \n",
    "                \"--include\", op.join(subject_dir, '*'),    \n",
    "               ], check=False) \n",
    "os.makedirs(op.join(bids_root, 'derivatives'), exist_ok=True)\n",
    "preproc_root = op.join(bids_root, 'derivatives', 'preprocessed_data') \n",
    "os.makedirs(op.join(preproc_root, subject_dir), exist_ok=True)\n",
    "os.makedirs(op.join(preproc_root, subject_dir, 'anat'), exist_ok=True)\n",
    "os.makedirs(op.join(preproc_root, subject_dir, 'func'), exist_ok=True)\n",
    "os.makedirs(op.join(preproc_root, subject_dir, 'fmap'), exist_ok=True)"
   ]
  },
  {
   "cell_type": "code",
   "execution_count": 5,
   "metadata": {},
   "outputs": [
    {
     "name": "stderr",
     "output_type": "stream",
     "text": [
      "\n",
      "(ipykernel_launcher.py:76222): Gtk-CRITICAL **: 22:25:30.011: gtk_combo_box_text_insert: assertion 'GTK_IS_COMBO_BOX_TEXT (combo_box)' failed\n",
      "\n",
      "(ipykernel_launcher.py:76222): Gtk-CRITICAL **: 22:25:30.039: gtk_combo_box_text_insert: assertion 'GTK_IS_COMBO_BOX_TEXT (combo_box)' failed\n"
     ]
    },
    {
     "name": "stderr",
     "output_type": "stream",
     "text": [
      "\n",
      "(ipykernel_launcher.py:76222): Gtk-WARNING **: 22:25:30.097: Negative content width -1 (allocation 1, extents 1x1) while allocating gadget (node spinbutton, owner GtkSpinButton)\n",
      "\n",
      "(ipykernel_launcher.py:76222): Gtk-WARNING **: 22:25:30.097: for_size smaller than min-size (1 < 32) while measuring gadget (node entry, owner GtkSpinButton)\n",
      "\n",
      "(ipykernel_launcher.py:76222): Gtk-WARNING **: 22:25:30.097: for_size smaller than min-size (1 < 16) while measuring gadget (node button, owner GtkSpinButton)\n",
      "\n",
      "(ipykernel_launcher.py:76222): Gtk-WARNING **: 22:25:30.097: for_size smaller than min-size (1 < 16) while measuring gadget (node button, owner GtkSpinButton)\n"
     ]
    }
   ],
   "source": [
    "%%capture\n",
    "fsleyesDisplay.resetOverlays()\n",
    "fsleyesDisplay.load(op.join(bids_root, 'sub-control01', 'anat', 'sub-control01_T1w.nii.gz')) "
   ]
  },
  {
   "cell_type": "markdown",
   "metadata": {},
   "source": [
    "# Skull stripping\n",
    "\n",
    "###  Preprocessing and BIDs\n",
    "An important part of **anatomical** preprocessing is to remove the skull around the brain.\n",
    "To adhere to the BIDs format, all modified files should be put in a new folder, called derivatives, such that you always have clean data in the source directory. The derivatives folder can be used for different preprocessing and treatments, each needing their own subfolders. In our case, we've created a single folder, preprocessed_data, hence the following structure:"
   ]
  },
  {
   "cell_type": "code",
   "execution_count": 5,
   "metadata": {},
   "outputs": [],
   "source": [
    "resulting_mask_path = op.join(preproc_root, subject_dir, 'anat', 'sub-{}_T1w_mask'.format(subject_id) ) "
   ]
  },
  {
   "cell_type": "code",
   "execution_count": null,
   "metadata": {},
   "outputs": [],
   "source": [
    "get_skull_stripped_anatomical(bids_root, preproc_root, \"control01\") "
   ]
  },
  {
   "cell_type": "code",
   "execution_count": 7,
   "metadata": {},
   "outputs": [
    {
     "name": "stderr",
     "output_type": "stream",
     "text": [
      "\n",
      "(ipykernel_launcher.py:76222): Gtk-CRITICAL **: 22:25:46.225: gtk_combo_box_text_insert: assertion 'GTK_IS_COMBO_BOX_TEXT (combo_box)' failed\n",
      "\n",
      "(ipykernel_launcher.py:76222): Gtk-CRITICAL **: 22:25:46.245: gtk_combo_box_text_insert: assertion 'GTK_IS_COMBO_BOX_TEXT (combo_box)' failed\n"
     ]
    }
   ],
   "source": [
    "fsleyesDisplay.load(resulting_mask_path)"
   ]
  },
  {
   "cell_type": "markdown",
   "metadata": {},
   "source": [
    "### Improving the fit\n",
    "If you look a bit into bet's documentation, you'll quickly find that there are parameters with which you can play; robust brain centre estimation and fractional intensity threshold. To demonstrate the importance and impact of these parameters, let's use a robust brain center estimation."
   ]
  },
  {
   "cell_type": "code",
   "execution_count": null,
   "metadata": {},
   "outputs": [],
   "source": [
    "get_skull_stripped_anatomical(bids_root, preproc_root, \"control01\", robust=True)"
   ]
  },
  {
   "cell_type": "code",
   "execution_count": 10,
   "metadata": {},
   "outputs": [
    {
     "name": "stderr",
     "output_type": "stream",
     "text": [
      "\n",
      "(ipykernel_launcher.py:76222): Gtk-CRITICAL **: 22:26:16.239: gtk_combo_box_text_insert: assertion 'GTK_IS_COMBO_BOX_TEXT (combo_box)' failed\n",
      "\n",
      "(ipykernel_launcher.py:76222): Gtk-CRITICAL **: 22:26:16.260: gtk_combo_box_text_insert: assertion 'GTK_IS_COMBO_BOX_TEXT (combo_box)' failed\n",
      "\n",
      "(ipykernel_launcher.py:76222): Gtk-CRITICAL **: 22:26:16.422: gtk_combo_box_text_insert: assertion 'GTK_IS_COMBO_BOX_TEXT (combo_box)' failed\n",
      "\n",
      "(ipykernel_launcher.py:76222): Gtk-CRITICAL **: 22:26:16.446: gtk_combo_box_text_insert: assertion 'GTK_IS_COMBO_BOX_TEXT (combo_box)' failed\n"
     ]
    },
    {
     "name": "stderr",
     "output_type": "stream",
     "text": [
      "\n",
      "(ipykernel_launcher.py:76222): Gtk-WARNING **: 22:26:16.508: Negative content width -1 (allocation 1, extents 1x1) while allocating gadget (node spinbutton, owner GtkSpinButton)\n",
      "\n",
      "(ipykernel_launcher.py:76222): Gtk-WARNING **: 22:26:16.508: for_size smaller than min-size (1 < 32) while measuring gadget (node entry, owner GtkSpinButton)\n",
      "\n",
      "(ipykernel_launcher.py:76222): Gtk-WARNING **: 22:26:16.508: for_size smaller than min-size (1 < 16) while measuring gadget (node button, owner GtkSpinButton)\n",
      "\n",
      "(ipykernel_launcher.py:76222): Gtk-WARNING **: 22:26:16.508: for_size smaller than min-size (1 < 16) while measuring gadget (node button, owner GtkSpinButton)\n"
     ]
    }
   ],
   "source": [
    "fsleyesDisplay.resetOverlays()\n",
    "fsleyesDisplay.load(op.join(bids_root, 'sub-control01', 'anat', 'sub-control01_T1w.nii.gz'))\n",
    "fsleyesDisplay.load(resulting_mask_path)"
   ]
  },
  {
   "cell_type": "markdown",
   "metadata": {},
   "source": [
    "### 1.1.4 Manual corrections\n",
    "If you really want good fit, you might want to resort to **manually correcting the mask**. Run the code above to check whether the result is satisfactory or not. \n",
    "\n",
    "FSLeyes readily allows you to do such things! While on FSLeyes, press **Alt + E** to open the editing interface.\n",
    "\n",
    ">Edit\n",
    "\n",
    "\n",
    "You can then escape back to the non-edit mode by pressing again **Alt + E**\n"
   ]
  },
  {
   "cell_type": "code",
   "execution_count": 9,
   "metadata": {},
   "outputs": [],
   "source": [
    "anatomical_path = op.join(bids_root, 'sub-control01', 'anat', 'sub-control01_T1w.nii.gz')\n",
    "betted_brain_path = op.join(preproc_root, 'sub-control01', 'anat', 'sub-control01_T1w.nii.gz') \n",
    "resulting_mask_path = op.join(preproc_root, 'sub-control01', 'anat', 'sub-control01_T1w_mask.nii.gz') "
   ]
  },
  {
   "cell_type": "code",
   "execution_count": 6,
   "metadata": {},
   "outputs": [],
   "source": [
    "apply_python_mask_approach(anatomical_path, resulting_mask_path, betted_brain_path)"
   ]
  },
  {
   "cell_type": "code",
   "execution_count": 12,
   "metadata": {},
   "outputs": [
    {
     "name": "stderr",
     "output_type": "stream",
     "text": [
      "\n",
      "(ipykernel_launcher.py:76222): Gtk-CRITICAL **: 22:26:31.668: gtk_combo_box_text_insert: assertion 'GTK_IS_COMBO_BOX_TEXT (combo_box)' failed\n",
      "\n",
      "(ipykernel_launcher.py:76222): Gtk-CRITICAL **: 22:26:31.689: gtk_combo_box_text_insert: assertion 'GTK_IS_COMBO_BOX_TEXT (combo_box)' failed\n",
      "\n",
      "(ipykernel_launcher.py:76222): Gtk-CRITICAL **: 22:26:32.527: gtk_combo_box_text_insert: assertion 'GTK_IS_COMBO_BOX_TEXT (combo_box)' failed\n",
      "\n",
      "(ipykernel_launcher.py:76222): Gtk-CRITICAL **: 22:26:32.547: gtk_combo_box_text_insert: assertion 'GTK_IS_COMBO_BOX_TEXT (combo_box)' failed\n"
     ]
    },
    {
     "name": "stderr",
     "output_type": "stream",
     "text": [
      "\n",
      "(ipykernel_launcher.py:76222): Gtk-WARNING **: 22:26:32.605: Negative content width -1 (allocation 1, extents 1x1) while allocating gadget (node spinbutton, owner GtkSpinButton)\n",
      "\n",
      "(ipykernel_launcher.py:76222): Gtk-WARNING **: 22:26:32.605: for_size smaller than min-size (1 < 32) while measuring gadget (node entry, owner GtkSpinButton)\n",
      "\n",
      "(ipykernel_launcher.py:76222): Gtk-WARNING **: 22:26:32.605: for_size smaller than min-size (1 < 16) while measuring gadget (node button, owner GtkSpinButton)\n",
      "\n",
      "(ipykernel_launcher.py:76222): Gtk-WARNING **: 22:26:32.605: for_size smaller than min-size (1 < 16) while measuring gadget (node button, owner GtkSpinButton)\n"
     ]
    }
   ],
   "source": [
    "fsleyesDisplay.resetOverlays()\n",
    "fsleyesDisplay.load(betted_brain_path)"
   ]
  },
  {
   "cell_type": "markdown",
   "metadata": {},
   "source": [
    "## 1.2 Tissue segmentation\n",
    "\n",
    "For the purpose of analysis, it can be useful to separate the tissues into tissue classes; in particular extracting the white matter, grey matter and cerebrospinal fluid (abreviated as CSF) is very interesting in fMRI analysis\n",
    "\n",
    "It is perfectly possible (even likely) that FSLeyes will stop responding over the course of this lab. This is perfectly normal! Simply wait for whichever function (such as FAST) to finish and it should start responding again, don't worry too quickly, be patient :)</p>\n",
    "\n",
    "\n",
    "Note that FAST will take one or two minutes to run, this is expected, do not panic :)"
   ]
  },
  {
   "cell_type": "code",
   "execution_count": 10,
   "metadata": {},
   "outputs": [],
   "source": [
    "betted_brain_path = op.join(preproc_root, 'sub-control01', 'anat', 'sub-control01_T1w')\n",
    "fast_target = betted_brain_path "
   ]
  },
  {
   "cell_type": "code",
   "execution_count": null,
   "metadata": {},
   "outputs": [],
   "source": [
    "\n",
    "[os.remove(f) for f in glob.glob(op.join(preproc_root, 'sub-control01', 'anat', '*fast*'))]\n",
    "segmentation_path = op.join(preproc_root, 'sub-control01', 'anat', 'sub-control01_T1w_fast')\n",
    "fast(imgs=[fast_target], out=segmentation_path, n_classes=3)"
   ]
  },
  {
   "cell_type": "markdown",
   "metadata": {},
   "source": [
    "Let's check the quality of the segmentation, shall we?\n",
    "We want to extract 3 tissue types here: the white matter, the grey matter and the csf. How well did fast perform?"
   ]
  },
  {
   "cell_type": "code",
   "execution_count": null,
   "metadata": {},
   "outputs": [],
   "source": [
    "print_dir_tree(bids_root, max_depth=5)"
   ]
  },
  {
   "cell_type": "markdown",
   "metadata": {},
   "source": [
    "The pve files correspond to our segmented tissues. We have exactly three files, because we set n_classes to 3 above:\n",
    "```python\n",
    "fast(..., n_classes=3)\n"
   ]
  },
  {
   "cell_type": "markdown",
   "metadata": {},
   "source": [
    "To make it easier on you, we will display:\n",
    "\n",
    "- pve_0 in <span style=\"color:red;\">red</span>\n",
    "- pve_1 in <span style=\"color:green;\">green</span>\n",
    "- pve_2 in <span style=\"color:blue;\">blue</span>"
   ]
  },
  {
   "cell_type": "code",
   "execution_count": 14,
   "metadata": {},
   "outputs": [
    {
     "name": "stderr",
     "output_type": "stream",
     "text": [
      "\n",
      "(ipykernel_launcher.py:76222): Gtk-CRITICAL **: 22:26:55.981: gtk_combo_box_text_insert: assertion 'GTK_IS_COMBO_BOX_TEXT (combo_box)' failed\n",
      "\n",
      "(ipykernel_launcher.py:76222): Gtk-CRITICAL **: 22:26:56.005: gtk_combo_box_text_insert: assertion 'GTK_IS_COMBO_BOX_TEXT (combo_box)' failed\n",
      "\n",
      "(ipykernel_launcher.py:76222): Gtk-CRITICAL **: 22:26:56.234: gtk_combo_box_text_insert: assertion 'GTK_IS_COMBO_BOX_TEXT (combo_box)' failed\n",
      "\n",
      "(ipykernel_launcher.py:76222): Gtk-CRITICAL **: 22:26:56.257: gtk_combo_box_text_insert: assertion 'GTK_IS_COMBO_BOX_TEXT (combo_box)' failed\n",
      "\n",
      "(ipykernel_launcher.py:76222): Gtk-CRITICAL **: 22:26:56.507: gtk_combo_box_text_insert: assertion 'GTK_IS_COMBO_BOX_TEXT (combo_box)' failed\n",
      "\n",
      "(ipykernel_launcher.py:76222): Gtk-CRITICAL **: 22:26:56.530: gtk_combo_box_text_insert: assertion 'GTK_IS_COMBO_BOX_TEXT (combo_box)' failed\n",
      "\n",
      "(ipykernel_launcher.py:76222): Gtk-CRITICAL **: 22:26:56.765: gtk_combo_box_text_insert: assertion 'GTK_IS_COMBO_BOX_TEXT (combo_box)' failed\n",
      "\n",
      "(ipykernel_launcher.py:76222): Gtk-CRITICAL **: 22:26:56.789: gtk_combo_box_text_insert: assertion 'GTK_IS_COMBO_BOX_TEXT (combo_box)' failed\n"
     ]
    },
    {
     "name": "stderr",
     "output_type": "stream",
     "text": [
      "\n",
      "(ipykernel_launcher.py:76222): Gtk-WARNING **: 22:26:56.874: Negative content width -1 (allocation 1, extents 1x1) while allocating gadget (node spinbutton, owner GtkSpinButton)\n",
      "\n",
      "(ipykernel_launcher.py:76222): Gtk-WARNING **: 22:26:56.874: for_size smaller than min-size (1 < 32) while measuring gadget (node entry, owner GtkSpinButton)\n",
      "\n",
      "(ipykernel_launcher.py:76222): Gtk-WARNING **: 22:26:56.874: for_size smaller than min-size (1 < 16) while measuring gadget (node button, owner GtkSpinButton)\n",
      "\n",
      "(ipykernel_launcher.py:76222): Gtk-WARNING **: 22:26:56.874: for_size smaller than min-size (1 < 16) while measuring gadget (node button, owner GtkSpinButton)\n"
     ]
    }
   ],
   "source": [
    "fsleyesDisplay.resetOverlays()\n",
    "fsleyesDisplay.load(betted_brain_path)\n",
    "# CSF\n",
    "fsleyesDisplay.load(glob.glob(op.join(preproc_root, 'sub-control01', 'anat','*pve_0*'))[0])\n",
    "# GM\n",
    "fsleyesDisplay.load(glob.glob(op.join(preproc_root, 'sub-control01', 'anat','*pve_1*'))[0])\n",
    "# WM\n",
    "fsleyesDisplay.load(glob.glob(op.join(preproc_root, 'sub-control01', 'anat','*pve_2*'))[0])\n",
    "\n",
    "fsleyesDisplay.displayCtx.getOpts(fsleyesDisplay.overlayList[1]).cmap = 'Red'\n",
    "fsleyesDisplay.displayCtx.getOpts(fsleyesDisplay.overlayList[2]).cmap = 'Green'\n",
    "fsleyesDisplay.displayCtx.getOpts(fsleyesDisplay.overlayList[3]).cmap = 'Blue'\n"
   ]
  },
  {
   "cell_type": "markdown",
   "metadata": {},
   "source": [
    "# Coregistration of images, a critical preprocessing step"
   ]
  },
  {
   "cell_type": "markdown",
   "metadata": {},
   "source": [
    "In principle, it could be done manually"
   ]
  },
  {
   "cell_type": "code",
   "execution_count": 15,
   "metadata": {},
   "outputs": [
    {
     "name": "stdout",
     "output_type": "stream",
     "text": [
      "Freeview is running in a separate thread.\n"
     ]
    },
    {
     "name": "stderr",
     "output_type": "stream",
     "text": [
      "--------------------------------------------------------------------------\n",
      "ERROR: FreeSurfer license file /usr/local/freesurfer/7.4.1-1//.license not found.\n",
      "  If you are outside the NMR-Martinos Center,\n",
      "  go to http://surfer.nmr.mgh.harvard.edu/registration.html to \n",
      "  get a valid license file (it's free).\n",
      "  If you are inside the NMR-Martinos Center,\n",
      "  make sure to source the standard environment.\n",
      "  A path to an alternative license file can also be\n",
      "  specified with the FS_LICENSE environmental variable.\n",
      "--------------------------------------------------------------------------\n"
     ]
    }
   ],
   "source": [
    "import threading\n",
    "\n",
    "\n",
    "# List of images to load in Freeview. \n",
    "# img_list contains paths to neuroimaging files you want to visualize:\n",
    "# A standard anatomical template (MNI152) for reference.\n",
    "# A subject-specific anatomical image with a specific colormap (greyscale).\n",
    "imgList = [\n",
    "    op.expandvars('$FSLDIR/data/standard/MNI152_T1_1mm.nii.gz'), # Path to the standard MNI template image\n",
    "    op.join(preproc_root, \"sub-control01\", \"anat\", \"sub-control01_T1w.nii.gz:colormap=greyscale\") # Path to the subject's anatomical image with colormap set to greyscale\n",
    "    # You can modify this list to add any other images you want to view in .nii.gz format\n",
    "]\n",
    "\n",
    "# Create a new thread to run Freeview with the list of images\n",
    "# We pass the target function (launch_freeview) and the arguments (imgList,)\n",
    "# The comma is necessary to pass a tuple to 'args' so threading works correctly\n",
    "freeview_thread = threading.Thread(target=launch_freeview, args=(imgList,))\n",
    "\n",
    "# Start the thread to launch Freeview in the background\n",
    "freeview_thread.start()\n",
    "\n",
    "# Print a message indicating that Freeview is running in a separate thread\n",
    "print(\"Freeview is running in a separate thread.\")\n"
   ]
  },
  {
   "cell_type": "markdown",
   "metadata": {},
   "source": [
    "Wait, we can't see anything apart from the top brain. No worries! Simply set the background to be transparent by ticking the Clear Background option, as in the picture below:\n"
   ]
  },
  {
   "cell_type": "markdown",
   "metadata": {},
   "source": [
    "### Manual approach"
   ]
  },
  {
   "cell_type": "markdown",
   "metadata": {},
   "source": [
    "Let's start with a straightforward approach: you will align the images manually. In Freeview, click in Tools > Transform Volume.\n",
    "You should get the following panel:\n",
    "\n",
    "Now, play with the sliders of translation and rotation to align the anatomical to the reference. </b> Try to align the two brains as best you can.</p>\n"
   ]
  },
  {
   "cell_type": "markdown",
   "metadata": {},
   "source": [
    "The MRI and the template are not very well aligned, but we can try to make them more aligned. Specifically, we would like to find a transformation such that we can align our anatomical to the MNI template. This is the so-called normalization step."
   ]
  },
  {
   "cell_type": "markdown",
   "metadata": {},
   "source": [
    "### Types of normalization\n",
    "\n",
    "So, you now know that you need a transformation and a reference. Great. Now, the transformation you allow can be of two types: it can be linear, meaning whatever you apply will be the same across the entire image, or non linear, where each voxel gets a separate treatment\n",
    "\n",
    "(ducky linear and non linear)\n",
    "\n",
    "\n",
    "\n",
    "## Actually doing it: Linear normalization\n",
    "\n",
    "To perform linear normalization, the idea is simple. The transformation we want should be linear - ie, affine.\n",
    "Such a matching is usually called in image processing **image registration**. Here, we're dealing with 3D data, so the problem is a bit more complicated. Fortunately all of this has been coded by very smart people, and to our rescue comes a tool specifically to register volumes to each other.\n",
    "\n",
    "This tool can allow many registrations and is extremely powerful. In its most basic form, it expects:\n",
    "- An input volume, the volume you want to register (Ducky's sunglasses)\n",
    "- A reference volume, to which the input is registered (Ducky's body)\n",
    "- An output volume, the result of the transformation (Ducky's sunglasses once they are on Ducky's beak)\n",
    "\n",
    "Here is how you can call it to register the patient's anatomical to some reference sitting in another space (here the MNI152 template):\n",
    "```python\n",
    "flirt()\n",
    "```\n",
    "💡 Pay attention! 💡\n",
    "    FLIRT expects the anatomical to be skull stripped to maximize normalization. Luckily, you already did it before with BET.</p>\n"
   ]
  },
  {
   "cell_type": "code",
   "execution_count": 11,
   "metadata": {},
   "outputs": [],
   "source": [
    "subject_id = 'control01' \n",
    "subject_anatomical = op.join(preproc_root, 'sub-{}'.format(subject_id), 'anat', 'sub-control01_T1w')\n",
    "mni_template = op.expandvars(op.join('$FSLDIR', 'data', 'standard', 'MNI152_T1_1mm_brain'))\n",
    "\n",
    "target = subject_anatomical \n",
    "reference = mni_template \n",
    "result = op.join(preproc_root, 'sub-{}'.format(subject_id), 'anat', 'sub-{}_T1w_mni'.format(subject_id))"
   ]
  },
  {
   "cell_type": "code",
   "execution_count": null,
   "metadata": {},
   "outputs": [],
   "source": [
    "\n",
    "flirt(target, reference, out=result)"
   ]
  },
  {
   "cell_type": "markdown",
   "metadata": {},
   "source": [
    "Visualize the result of flirt on top of the reference. What do you think of alignment?"
   ]
  },
  {
   "cell_type": "code",
   "execution_count": 17,
   "metadata": {},
   "outputs": [
    {
     "name": "stderr",
     "output_type": "stream",
     "text": [
      "\n",
      "(ipykernel_launcher.py:76222): Gtk-CRITICAL **: 22:28:24.119: gtk_combo_box_text_insert: assertion 'GTK_IS_COMBO_BOX_TEXT (combo_box)' failed\n",
      "\n",
      "(ipykernel_launcher.py:76222): Gtk-CRITICAL **: 22:28:24.145: gtk_combo_box_text_insert: assertion 'GTK_IS_COMBO_BOX_TEXT (combo_box)' failed\n",
      "\n",
      "(ipykernel_launcher.py:76222): Gtk-CRITICAL **: 22:28:24.281: gtk_combo_box_text_insert: assertion 'GTK_IS_COMBO_BOX_TEXT (combo_box)' failed\n",
      "\n",
      "(ipykernel_launcher.py:76222): Gtk-CRITICAL **: 22:28:24.305: gtk_combo_box_text_insert: assertion 'GTK_IS_COMBO_BOX_TEXT (combo_box)' failed\n",
      "\n",
      "(ipykernel_launcher.py:76222): Gtk-CRITICAL **: 22:28:24.403: gtk_combo_box_text_insert: assertion 'GTK_IS_COMBO_BOX_TEXT (combo_box)' failed\n",
      "\n",
      "(ipykernel_launcher.py:76222): Gtk-CRITICAL **: 22:28:24.427: gtk_combo_box_text_insert: assertion 'GTK_IS_COMBO_BOX_TEXT (combo_box)' failed\n",
      "\n",
      "(ipykernel_launcher.py:76222): Gtk-CRITICAL **: 22:28:25.577: gtk_combo_box_text_insert: assertion 'GTK_IS_COMBO_BOX_TEXT (combo_box)' failed\n",
      "\n",
      "(ipykernel_launcher.py:76222): Gtk-CRITICAL **: 22:28:25.601: gtk_combo_box_text_insert: assertion 'GTK_IS_COMBO_BOX_TEXT (combo_box)' failed\n",
      "\n",
      "(ipykernel_launcher.py:76222): Gtk-CRITICAL **: 22:28:25.805: gtk_combo_box_text_insert: assertion 'GTK_IS_COMBO_BOX_TEXT (combo_box)' failed\n",
      "\n",
      "(ipykernel_launcher.py:76222): Gtk-CRITICAL **: 22:28:25.829: gtk_combo_box_text_insert: assertion 'GTK_IS_COMBO_BOX_TEXT (combo_box)' failed\n"
     ]
    },
    {
     "name": "stderr",
     "output_type": "stream",
     "text": [
      "\n",
      "(ipykernel_launcher.py:76222): Gtk-WARNING **: 22:28:25.892: Negative content width -1 (allocation 1, extents 1x1) while allocating gadget (node spinbutton, owner GtkSpinButton)\n",
      "\n",
      "(ipykernel_launcher.py:76222): Gtk-WARNING **: 22:28:25.892: for_size smaller than min-size (1 < 32) while measuring gadget (node entry, owner GtkSpinButton)\n",
      "\n",
      "(ipykernel_launcher.py:76222): Gtk-WARNING **: 22:28:25.892: for_size smaller than min-size (1 < 16) while measuring gadget (node button, owner GtkSpinButton)\n",
      "\n",
      "(ipykernel_launcher.py:76222): Gtk-WARNING **: 22:28:25.892: for_size smaller than min-size (1 < 16) while measuring gadget (node button, owner GtkSpinButton)\n",
      "\n",
      "(ipykernel_launcher.py:76222): Gtk-CRITICAL **: 22:28:30.039: gtk_combo_box_text_insert: assertion 'GTK_IS_COMBO_BOX_TEXT (combo_box)' failed\n",
      "\n",
      "(ipykernel_launcher.py:76222): Gtk-CRITICAL **: 22:28:30.060: gtk_combo_box_text_insert: assertion 'GTK_IS_COMBO_BOX_TEXT (combo_box)' failed\n"
     ]
    }
   ],
   "source": [
    "fsleyesDisplay.resetOverlays()\n",
    "fsleyesDisplay.load(reference) \n",
    "fsleyesDisplay.load(result)"
   ]
  },
  {
   "cell_type": "markdown",
   "metadata": {},
   "source": [
    "Which cost should we use? If you were in a pure void, there would be no right or wrong answer from the get-go. No choice but to experiment and find out!\n",
    "\n",
    "Hopefully, <a href=\"https://fsl.fmrib.ox.ac.uk/fsl/docs/#/registration/flirt/user_guide?id=flirt\">the documentation</a> should give you some pointers. What you want here is to register a T1 to a T1: this is a <u>within</u> modality registration, so you should restrict yourself only to costs appropriate to this type of modality! \n",
    "\n",
    "To help you, we've set up a cell that will run the different coregistrations for you. Simply fill in the different costs to consider :)"
   ]
  },
  {
   "cell_type": "code",
   "execution_count": 12,
   "metadata": {},
   "outputs": [],
   "source": [
    "possible_costs = ['mutualinfo', 'corratio', 'normcorr', 'normmi', 'leastsq', 'labeldiff']\n",
    "# Define a list of all possible cost functions supported by FLIRT. These include:\n",
    "# - 'mutualinfo': Mutual information (cross-modalities).\n",
    "# - 'corratio': Correlation ratio (can work across or within modalities).\n",
    "# - 'normcorr': Normalized correlation (within-modalities).\n",
    "# - 'normmi': Normalized mutual information (cross-modalities).\n",
    "# - 'leastsq': Least squares (within-modalities).\n",
    "# - 'labeldiff': Label difference (special cases, such as segmentation images).\n",
    "\n",
    "costs_to_consider = ['leastsq', 'normcorr'] \n",
    "# Select the relevant cost functions for within-modalities (T1-to-T1 alignment):\n",
    "# - 'leastsq': Uses least squares, suitable for aligning images of the same modality.\n",
    "# - 'normcorr': Uses normalized correlation, also suitable for within-modality alignment.\n",
    "# FIXME: ISSUE WITH THE LEASTSQ COST RESULT\n"
   ]
  },
  {
   "cell_type": "code",
   "execution_count": null,
   "metadata": {},
   "outputs": [],
   "source": [
    "for c in costs_to_consider:\n",
    "    flirt(target, reference, out=result + '_' + c, cost=c)"
   ]
  },
  {
   "cell_type": "code",
   "execution_count": 19,
   "metadata": {},
   "outputs": [
    {
     "name": "stderr",
     "output_type": "stream",
     "text": [
      "\n",
      "(ipykernel_launcher.py:76222): Gtk-CRITICAL **: 22:35:49.361: gtk_combo_box_text_insert: assertion 'GTK_IS_COMBO_BOX_TEXT (combo_box)' failed\n",
      "\n",
      "(ipykernel_launcher.py:76222): Gtk-CRITICAL **: 22:35:49.382: gtk_combo_box_text_insert: assertion 'GTK_IS_COMBO_BOX_TEXT (combo_box)' failed\n",
      "\n",
      "(ipykernel_launcher.py:76222): Gtk-CRITICAL **: 22:35:49.626: gtk_combo_box_text_insert: assertion 'GTK_IS_COMBO_BOX_TEXT (combo_box)' failed\n",
      "\n",
      "(ipykernel_launcher.py:76222): Gtk-CRITICAL **: 22:35:49.648: gtk_combo_box_text_insert: assertion 'GTK_IS_COMBO_BOX_TEXT (combo_box)' failed\n"
     ]
    },
    {
     "name": "stderr",
     "output_type": "stream",
     "text": [
      "\n",
      "(ipykernel_launcher.py:76222): Gtk-CRITICAL **: 22:35:53.843: gtk_combo_box_text_insert: assertion 'GTK_IS_COMBO_BOX_TEXT (combo_box)' failed\n",
      "\n",
      "(ipykernel_launcher.py:76222): Gtk-CRITICAL **: 22:35:53.863: gtk_combo_box_text_insert: assertion 'GTK_IS_COMBO_BOX_TEXT (combo_box)' failed\n",
      "\n",
      "(ipykernel_launcher.py:76222): Gtk-CRITICAL **: 22:35:57.128: gtk_combo_box_text_insert: assertion 'GTK_IS_COMBO_BOX_TEXT (combo_box)' failed\n",
      "\n",
      "(ipykernel_launcher.py:76222): Gtk-CRITICAL **: 22:35:57.148: gtk_combo_box_text_insert: assertion 'GTK_IS_COMBO_BOX_TEXT (combo_box)' failed\n",
      "\n",
      "(ipykernel_launcher.py:76222): Gtk-CRITICAL **: 22:35:59.572: gtk_combo_box_text_insert: assertion 'GTK_IS_COMBO_BOX_TEXT (combo_box)' failed\n",
      "\n",
      "(ipykernel_launcher.py:76222): Gtk-CRITICAL **: 22:35:59.593: gtk_combo_box_text_insert: assertion 'GTK_IS_COMBO_BOX_TEXT (combo_box)' failed\n",
      "\n",
      "(ipykernel_launcher.py:76222): Gtk-CRITICAL **: 22:36:00.935: gtk_combo_box_text_insert: assertion 'GTK_IS_COMBO_BOX_TEXT (combo_box)' failed\n",
      "\n",
      "(ipykernel_launcher.py:76222): Gtk-CRITICAL **: 22:36:00.960: gtk_combo_box_text_insert: assertion 'GTK_IS_COMBO_BOX_TEXT (combo_box)' failed\n",
      "\n",
      "(ipykernel_launcher.py:76222): Gtk-CRITICAL **: 22:36:01.854: gtk_combo_box_text_insert: assertion 'GTK_IS_COMBO_BOX_TEXT (combo_box)' failed\n",
      "\n",
      "(ipykernel_launcher.py:76222): Gtk-CRITICAL **: 22:36:01.876: gtk_combo_box_text_insert: assertion 'GTK_IS_COMBO_BOX_TEXT (combo_box)' failed\n",
      "\n",
      "(ipykernel_launcher.py:76222): Gtk-CRITICAL **: 22:36:02.499: gtk_combo_box_text_insert: assertion 'GTK_IS_COMBO_BOX_TEXT (combo_box)' failed\n",
      "\n",
      "(ipykernel_launcher.py:76222): Gtk-CRITICAL **: 22:36:02.519: gtk_combo_box_text_insert: assertion 'GTK_IS_COMBO_BOX_TEXT (combo_box)' failed\n",
      "\n",
      "(ipykernel_launcher.py:76222): Gtk-CRITICAL **: 22:36:04.135: gtk_combo_box_text_insert: assertion 'GTK_IS_COMBO_BOX_TEXT (combo_box)' failed\n",
      "\n",
      "(ipykernel_launcher.py:76222): Gtk-CRITICAL **: 22:36:04.157: gtk_combo_box_text_insert: assertion 'GTK_IS_COMBO_BOX_TEXT (combo_box)' failed\n",
      "\n",
      "(ipykernel_launcher.py:76222): Gtk-CRITICAL **: 22:36:04.634: gtk_combo_box_text_insert: assertion 'GTK_IS_COMBO_BOX_TEXT (combo_box)' failed\n",
      "\n",
      "(ipykernel_launcher.py:76222): Gtk-CRITICAL **: 22:36:04.660: gtk_combo_box_text_insert: assertion 'GTK_IS_COMBO_BOX_TEXT (combo_box)' failed\n",
      "\n",
      "(ipykernel_launcher.py:76222): Gtk-CRITICAL **: 22:36:05.712: gtk_combo_box_text_insert: assertion 'GTK_IS_COMBO_BOX_TEXT (combo_box)' failed\n",
      "\n",
      "(ipykernel_launcher.py:76222): Gtk-CRITICAL **: 22:36:05.738: gtk_combo_box_text_insert: assertion 'GTK_IS_COMBO_BOX_TEXT (combo_box)' failed\n",
      "\n",
      "(ipykernel_launcher.py:76222): Gtk-CRITICAL **: 22:36:06.180: gtk_combo_box_text_insert: assertion 'GTK_IS_COMBO_BOX_TEXT (combo_box)' failed\n",
      "\n",
      "(ipykernel_launcher.py:76222): Gtk-CRITICAL **: 22:36:06.204: gtk_combo_box_text_insert: assertion 'GTK_IS_COMBO_BOX_TEXT (combo_box)' failed\n",
      "\n",
      "(ipykernel_launcher.py:76222): Gtk-CRITICAL **: 22:36:06.699: gtk_combo_box_text_insert: assertion 'GTK_IS_COMBO_BOX_TEXT (combo_box)' failed\n",
      "\n",
      "(ipykernel_launcher.py:76222): Gtk-CRITICAL **: 22:36:06.722: gtk_combo_box_text_insert: assertion 'GTK_IS_COMBO_BOX_TEXT (combo_box)' failed\n",
      "\n",
      "(ipykernel_launcher.py:76222): Gtk-CRITICAL **: 22:36:07.196: gtk_combo_box_text_insert: assertion 'GTK_IS_COMBO_BOX_TEXT (combo_box)' failed\n",
      "\n",
      "(ipykernel_launcher.py:76222): Gtk-CRITICAL **: 22:36:07.217: gtk_combo_box_text_insert: assertion 'GTK_IS_COMBO_BOX_TEXT (combo_box)' failed\n",
      "\n",
      "(ipykernel_launcher.py:76222): Gtk-CRITICAL **: 22:36:08.282: gtk_combo_box_text_insert: assertion 'GTK_IS_COMBO_BOX_TEXT (combo_box)' failed\n",
      "\n",
      "(ipykernel_launcher.py:76222): Gtk-CRITICAL **: 22:36:08.305: gtk_combo_box_text_insert: assertion 'GTK_IS_COMBO_BOX_TEXT (combo_box)' failed\n",
      "\n",
      "(ipykernel_launcher.py:76222): Gtk-CRITICAL **: 22:36:12.674: gtk_combo_box_text_insert: assertion 'GTK_IS_COMBO_BOX_TEXT (combo_box)' failed\n",
      "\n",
      "(ipykernel_launcher.py:76222): Gtk-CRITICAL **: 22:36:12.695: gtk_combo_box_text_insert: assertion 'GTK_IS_COMBO_BOX_TEXT (combo_box)' failed\n",
      "\n",
      "(ipykernel_launcher.py:76222): Gtk-CRITICAL **: 22:36:15.893: gtk_combo_box_text_insert: assertion 'GTK_IS_COMBO_BOX_TEXT (combo_box)' failed\n",
      "\n",
      "(ipykernel_launcher.py:76222): Gtk-CRITICAL **: 22:36:15.914: gtk_combo_box_text_insert: assertion 'GTK_IS_COMBO_BOX_TEXT (combo_box)' failed\n",
      "\n",
      "(ipykernel_launcher.py:76222): Gtk-CRITICAL **: 22:36:17.700: gtk_combo_box_text_insert: assertion 'GTK_IS_COMBO_BOX_TEXT (combo_box)' failed\n",
      "\n",
      "(ipykernel_launcher.py:76222): Gtk-CRITICAL **: 22:36:17.721: gtk_combo_box_text_insert: assertion 'GTK_IS_COMBO_BOX_TEXT (combo_box)' failed\n",
      "\n",
      "(ipykernel_launcher.py:76222): Gtk-CRITICAL **: 22:36:29.494: gtk_combo_box_text_insert: assertion 'GTK_IS_COMBO_BOX_TEXT (combo_box)' failed\n",
      "\n",
      "(ipykernel_launcher.py:76222): Gtk-CRITICAL **: 22:36:29.517: gtk_combo_box_text_insert: assertion 'GTK_IS_COMBO_BOX_TEXT (combo_box)' failed\n"
     ]
    }
   ],
   "source": [
    "for c in costs_to_consider:\n",
    "    fsleyesDisplay.load(result + '_' + c)"
   ]
  },
  {
   "cell_type": "markdown",
   "metadata": {},
   "source": [
    "## Non linear normalization\n",
    "\n",
    "So, you know how to do it linearly.  What if we wanted to do it non-linearly?\n",
    "\n",
    "With FLIRT, <i>it's painfully hard</i>. To do it, you can use *FNIRT*. \n",
    "\n",
    "But, there are other tools available, one of them being <a href=\"https://github.com/ANTsX/ANTs\">ANTs (Advanced Normalization Tools)</a>.\n",
    "For completeness, we will show you now how to use it (very succinctly) so that you know how to do it.\n"
   ]
  },
  {
   "cell_type": "markdown",
   "metadata": {},
   "source": [
    "💡 Pay attention! 💡\n",
    "\n",
    "FNIRT does NOT expect the input data to be skull-stripped.</p>"
   ]
  },
  {
   "cell_type": "code",
   "execution_count": 14,
   "metadata": {},
   "outputs": [],
   "source": [
    "moving_image = ants.image_read(target + '.nii.gz')\n",
    "fixed_image = ants.image_read(reference + '.nii.gz')\n",
    "resultAnts = op.join(preproc_root, 'sub-{}'.format(subject_id), 'anat', 'sub-{}_T1w_mni_SyN.nii.gz'.format(subject_id))"
   ]
  },
  {
   "cell_type": "code",
   "execution_count": 11,
   "metadata": {},
   "outputs": [],
   "source": [
    "transformation = ants.registration(fixed=fixed_image, moving=moving_image, type_of_transform='SyN')\n",
    "warpedImage = ants.apply_transforms(fixed=fixed_image, moving=moving_image, transformlist=transformation['fwdtransforms'])\n",
    "ants.image_write(warpedImage, resultAnts)"
   ]
  },
  {
   "cell_type": "markdown",
   "metadata": {},
   "source": [
    "Look at the results and compare it against the linear coregistration. Which one do you prefer? Why?"
   ]
  },
  {
   "cell_type": "code",
   "execution_count": 14,
   "metadata": {},
   "outputs": [
    {
     "name": "stderr",
     "output_type": "stream",
     "text": [
      "\n",
      "(ipykernel_launcher.py:161839): Gtk-CRITICAL **: 22:59:38.318: gtk_combo_box_text_insert: assertion 'GTK_IS_COMBO_BOX_TEXT (combo_box)' failed\n",
      "\n",
      "(ipykernel_launcher.py:161839): Gtk-CRITICAL **: 22:59:38.340: gtk_combo_box_text_insert: assertion 'GTK_IS_COMBO_BOX_TEXT (combo_box)' failed\n",
      "\n",
      "(ipykernel_launcher.py:161839): Gtk-CRITICAL **: 22:59:38.538: gtk_combo_box_text_insert: assertion 'GTK_IS_COMBO_BOX_TEXT (combo_box)' failed\n",
      "\n",
      "(ipykernel_launcher.py:161839): Gtk-CRITICAL **: 22:59:38.559: gtk_combo_box_text_insert: assertion 'GTK_IS_COMBO_BOX_TEXT (combo_box)' failed\n",
      "\n",
      "(ipykernel_launcher.py:161839): Gtk-CRITICAL **: 22:59:38.753: gtk_combo_box_text_insert: assertion 'GTK_IS_COMBO_BOX_TEXT (combo_box)' failed\n",
      "\n",
      "(ipykernel_launcher.py:161839): Gtk-CRITICAL **: 22:59:38.776: gtk_combo_box_text_insert: assertion 'GTK_IS_COMBO_BOX_TEXT (combo_box)' failed\n"
     ]
    },
    {
     "name": "stderr",
     "output_type": "stream",
     "text": [
      "\n",
      "(ipykernel_launcher.py:161839): Gtk-WARNING **: 22:59:38.841: Negative content width -1 (allocation 1, extents 1x1) while allocating gadget (node spinbutton, owner GtkSpinButton)\n",
      "\n",
      "(ipykernel_launcher.py:161839): Gtk-WARNING **: 22:59:38.841: for_size smaller than min-size (1 < 32) while measuring gadget (node entry, owner GtkSpinButton)\n",
      "\n",
      "(ipykernel_launcher.py:161839): Gtk-WARNING **: 22:59:38.841: for_size smaller than min-size (1 < 16) while measuring gadget (node button, owner GtkSpinButton)\n",
      "\n",
      "(ipykernel_launcher.py:161839): Gtk-WARNING **: 22:59:38.841: for_size smaller than min-size (1 < 16) while measuring gadget (node button, owner GtkSpinButton)\n"
     ]
    }
   ],
   "source": [
    "fsleyesDisplay.resetOverlays()\n",
    "fsleyesDisplay.load(reference)\n",
    "fsleyesDisplay.load(result)\n",
    "fsleyesDisplay.load(resultAnts)"
   ]
  },
  {
   "cell_type": "markdown",
   "metadata": {},
   "source": [
    "\n",
    "As a final note, all these steps (<u>including</u> non linear normalization!) can be done automatically for you with a single command: <a href=\"https://web.mit.edu/fsl_v5.0.10/fsl/doc/wiki/fsl_anat.html\">fsl_anat</a>. So you might want to use this command, instead of running all of the above when conducting preprocessing."
   ]
  },
  {
   "cell_type": "markdown",
   "metadata": {},
   "source": [
    "We provide it here for convenience, but beware: it takes <b>several minutes</b> to complete, so you will need some patience!\n"
   ]
  },
  {
   "cell_type": "code",
   "execution_count": null,
   "metadata": {},
   "outputs": [],
   "source": [
    "fsl_anat_wrapped(anatomical_path, op.join(preproc_root, 'sub-001', 'anat'))"
   ]
  },
  {
   "cell_type": "markdown",
   "metadata": {},
   "source": [
    "<div class=\"warning\" style='background-color:#C1ECFA; color: #112A46; border-left: solid darkblue 4px; border-radius: 4px; padding:0.7em;'>\n",
    "<span>\n",
    "<p style='margin-top:1em; text-align:center'><b> 💡 Careful ! 💡</b></p>\n",
    "<p style='text-indent: 10px;'>\n",
    "    Some of the fMRI preprocessing you will see below leverage the anatomical MRI being preprocessed.\n",
    "</div>"
   ]
  },
  {
   "cell_type": "markdown",
   "metadata": {},
   "source": [
    "# fMRI preprocessing"
   ]
  },
  {
   "cell_type": "markdown",
   "metadata": {},
   "source": [
    "Note that one assumption with fMRI preprocessing is that you've already conducted the anatomical preprocessing. In particular, the two main steps you will need today (repeat it from lab 2) before launching the lab:\n",
    "- T1 skull-stripping (use BET)\n",
    "- T1 segmentation (use FAST)"
   ]
  },
  {
   "cell_type": "markdown",
   "metadata": {},
   "source": [
    "## Problematic volumes removal\n",
    "\n",
    "To open one particular volume, run the cell below:"
   ]
  },
  {
   "cell_type": "code",
   "execution_count": 15,
   "metadata": {},
   "outputs": [
    {
     "name": "stderr",
     "output_type": "stream",
     "text": [
      "\n",
      "(ipykernel_launcher.py:161839): Gtk-CRITICAL **: 22:59:48.183: gtk_combo_box_text_insert: assertion 'GTK_IS_COMBO_BOX_TEXT (combo_box)' failed\n",
      "\n",
      "(ipykernel_launcher.py:161839): Gtk-CRITICAL **: 22:59:48.205: gtk_combo_box_text_insert: assertion 'GTK_IS_COMBO_BOX_TEXT (combo_box)' failed\n",
      "\n",
      "(ipykernel_launcher.py:161839): Gtk-CRITICAL **: 22:59:48.318: gtk_combo_box_text_insert: assertion 'GTK_IS_COMBO_BOX_TEXT (combo_box)' failed\n",
      "\n",
      "(ipykernel_launcher.py:161839): Gtk-CRITICAL **: 22:59:48.341: gtk_combo_box_text_insert: assertion 'GTK_IS_COMBO_BOX_TEXT (combo_box)' failed\n",
      "\n",
      "(ipykernel_launcher.py:161839): Gtk-CRITICAL **: 22:59:49.501: gtk_combo_box_text_insert: assertion 'GTK_IS_COMBO_BOX_TEXT (combo_box)' failed\n",
      "\n",
      "(ipykernel_launcher.py:161839): Gtk-CRITICAL **: 22:59:49.522: gtk_combo_box_text_insert: assertion 'GTK_IS_COMBO_BOX_TEXT (combo_box)' failed\n"
     ]
    },
    {
     "name": "stderr",
     "output_type": "stream",
     "text": [
      "\n",
      "(ipykernel_launcher.py:161839): Gtk-WARNING **: 22:59:49.579: Negative content width -1 (allocation 1, extents 1x1) while allocating gadget (node spinbutton, owner GtkSpinButton)\n",
      "\n",
      "(ipykernel_launcher.py:161839): Gtk-WARNING **: 22:59:49.579: for_size smaller than min-size (1 < 32) while measuring gadget (node entry, owner GtkSpinButton)\n",
      "\n",
      "(ipykernel_launcher.py:161839): Gtk-WARNING **: 22:59:49.579: for_size smaller than min-size (1 < 16) while measuring gadget (node button, owner GtkSpinButton)\n",
      "\n",
      "(ipykernel_launcher.py:161839): Gtk-WARNING **: 22:59:49.579: for_size smaller than min-size (1 < 16) while measuring gadget (node button, owner GtkSpinButton)\n"
     ]
    }
   ],
   "source": [
    "fsleyesDisplay.resetOverlays()\n",
    "fsleyesDisplay.load(op.join(bids_root, 'sub-control01', 'func', 'sub-control01_task-music_run-2_bold.nii.gz'))"
   ]
  },
  {
   "cell_type": "markdown",
   "metadata": {},
   "source": [
    "### Field stabilization\n",
    "\n",
    "The scanner's field takes some time to settle. You probably noticed that the initial volume had a high contrast that quickly decayed to some baseline? It is precisely caused by the scanner's field settling.\n",
    "\n",
    "These scans are called *non-stationary volumes*, because they are acquired while the B0 field is not yet not stable.\n",
    "\n",
    "There's little to be done in this regard; we can only throw away the volumes that are contaminated in this specific case, to ensure this change in global signal does not drive our analysis.\n",
    "\n",
    "If we're being really formal, a higher overall contrast can be detected by looking at the mean voxel value in each volume, like so:"
   ]
  },
  {
   "cell_type": "code",
   "execution_count": 14,
   "metadata": {},
   "outputs": [
    {
     "data": {
      "text/plain": [
       "['sub-control01_task-music_run-1_events.tsv',\n",
       " 'sub-control01_task-music_run-2_events.tsv',\n",
       " 'sub-control01_task-music_run-1_bold.nii.gz',\n",
       " 'sub-control01_task-music_run-3_bold.nii.gz',\n",
       " 'sub-control01_task-music_run-2_bold.nii.gz',\n",
       " 'sub-control01_task-music_run-3_events.tsv',\n",
       " 'sub-control01_task-nonmusic_run-4_bold.nii.gz',\n",
       " 'sub-control01_task-nonmusic_run-4_events.tsv',\n",
       " 'sub-control01_task-nonmusic_run-5_bold.nii.gz',\n",
       " 'sub-control01_task-nonmusic_run-5_events.tsv']"
      ]
     },
     "execution_count": 14,
     "metadata": {},
     "output_type": "execute_result"
    }
   ],
   "source": [
    "os.listdir(op.join(bids_root, 'sub-control01', 'func'))"
   ]
  },
  {
   "cell_type": "code",
   "execution_count": 30,
   "metadata": {},
   "outputs": [
    {
     "data": {
      "text/plain": [
       "Text(0, 0.5, 'Mean voxel intensity')"
      ]
     },
     "execution_count": 30,
     "metadata": {},
     "output_type": "execute_result"
    },
    {
     "data": {
      "image/png": "[encoded data removed]",
      "text/plain": [
       "<Figure size 640x480 with 1 Axes>"
      ]
     },
     "metadata": {},
     "output_type": "display_data"
    }
   ],
   "source": [
    "import matplotlib.pyplot as plt\n",
    "import nibabel as nib\n",
    "for run in range(1, 4):\n",
    "    bold_path = op.join(bids_root, 'sub-control01', 'func', 'sub-control01_task-music_run-{}_bold.nii.gz'.format(run))\n",
    "    bold_img = nib.load(bold_path)\n",
    "    bold_data = bold_img.get_fdata()\n",
    "    mean_data = bold_data.mean(axis=(0, 1, 2))\n",
    "    plt.plot(mean_data, label='Run {}'.format(run))\n",
    "plt.legend()\n",
    "plt.xlabel('Time (volume)')\n",
    "plt.ylabel('Mean voxel intensity')"
   ]
  },
  {
   "cell_type": "code",
   "execution_count": 17,
   "metadata": {},
   "outputs": [],
   "source": [
    "import matplotlib.pyplot as plt\n",
    "import nibabel as nib\n",
    "processed_functional_path = op.join(preproc_root, 'sub-control01', 'func')\n",
    "functional_path = op.join(bids_root, 'sub-control01', 'func')"
   ]
  },
  {
   "cell_type": "code",
   "execution_count": 17,
   "metadata": {},
   "outputs": [],
   "source": [
    "def normalize_fMRI(source, output, threshold):\n",
    "    img = nib.load(source)\n",
    "    data = img.get_fdata()\n",
    "    mask = data>=threshold\n",
    "    masked_data = data[mask]\n",
    "    mean = masked_data.mean()\n",
    "    std = masked_data.std()\n",
    "    normalized = (data - mean)/std\n",
    "    img_out = nib.Nifti1Image(normalized,img.affine, img.header)\n",
    "    nib.save(img_out, output)"
   ]
  },
  {
   "cell_type": "markdown",
   "metadata": {},
   "source": [
    "<h3>Correction of slice 17 in second run</h3>"
   ]
  },
  {
   "cell_type": "code",
   "execution_count": 18,
   "metadata": {},
   "outputs": [],
   "source": [
    "path_normalized_output_1 = op.join(processed_functional_path, 'sub-control01_task-music_run-1_bold_norm.nii.gz')\n",
    "path_normalized_output_2 = op.join(processed_functional_path, 'sub-control01_task-music_run-2_bold_norm_.nii.gz')\n",
    "path_normalized_output_3 = op.join(processed_functional_path, 'sub-control01_task-music_run-3_bold_norm_.nii.gz')\n",
    "functional_1_path = op.join(functional_path, 'sub-control01_task-music_run-1_bold.nii.gz')\n",
    "functional_2_path = op.join(functional_path, 'sub-control01_task-music_run-2_bold.nii.gz')\n",
    "functional_3_path = op.join(functional_path, 'sub-control01_task-music_run-3_bold.nii.gz')"
   ]
  },
  {
   "cell_type": "code",
   "execution_count": 28,
   "metadata": {},
   "outputs": [],
   "source": [
    "img = nib.load(functional_2_path)\n",
    "data = img.get_fdata()\n",
    "data[:, :, 47, 17] = np.mean(data[:, :, 46, 17])\n",
    "data = data[:, :, :, 1:]\n",
    "img_out = nib.Nifti1Image(data,img.affine, img.header)\n",
    "nib.save(img_out, op.join(functional_path, 'sub-control01_task-music_run-2_bold.nii.gz'))"
   ]
  },
  {
   "cell_type": "code",
   "execution_count": null,
   "metadata": {},
   "outputs": [],
   "source": [
    "import matplotlib.pyplot as plt\n",
    "import nibabel as nib\n",
    "for run in range(1, 4):\n",
    "    bold_path = op.join(bids_root, 'sub-control01', 'func', 'sub-control01_task-music_run-{}_bold.nii.gz'.format(run))\n",
    "    bold_img = nib.load(bold_path)\n",
    "    bold_data = bold_img.get_fdata()\n",
    "    mean_data = bold_data.mean(axis=(0, 1, 2))\n",
    "    plt.plot(mean_data, label='Run {}'.format(run))\n",
    "plt.legend()\n",
    "plt.xlabel('Time (volume)')\n",
    "plt.ylabel('Mean voxel intensity')"
   ]
  },
  {
   "cell_type": "code",
   "execution_count": 31,
   "metadata": {},
   "outputs": [],
   "source": [
    "normalize_fMRI(functional_1_path, path_normalized_output_1, 200)\n",
    "normalize_fMRI(functional_2_path, path_normalized_output_2, 200)\n",
    "normalize_fMRI(functional_3_path, path_normalized_output_3, 200)"
   ]
  },
  {
   "cell_type": "code",
   "execution_count": 32,
   "metadata": {},
   "outputs": [
    {
     "data": {
      "image/png": "[encoded data removed]",
      "text/plain": [
       "<Figure size 640x480 with 1 Axes>"
      ]
     },
     "metadata": {},
     "output_type": "display_data"
    }
   ],
   "source": [
    "plt.plot(nib.load(path_normalized_output_1).get_fdata().mean(axis=(0,1,2)), label='Run 1')\n",
    "plt.plot(nib.load(path_normalized_output_2).get_fdata().mean(axis=(0,1,2)), label='Run 2')\n",
    "plt.plot(nib.load(path_normalized_output_3).get_fdata().mean(axis=(0,1,2)), label='Run 3')\n",
    "plt.xlabel('Time (volume)')\n",
    "plt.ylabel('Mean voxel intensity')\n",
    "plt.legend()\n",
    "plt.show()"
   ]
  },
  {
   "cell_type": "code",
   "execution_count": 34,
   "metadata": {},
   "outputs": [
    {
     "name": "stderr",
     "output_type": "stream",
     "text": [
      "\n",
      "(ipykernel_launcher.py:161839): Gtk-CRITICAL **: 23:20:53.558: gtk_combo_box_text_insert: assertion 'GTK_IS_COMBO_BOX_TEXT (combo_box)' failed\n",
      "\n",
      "(ipykernel_launcher.py:161839): Gtk-CRITICAL **: 23:20:53.582: gtk_combo_box_text_insert: assertion 'GTK_IS_COMBO_BOX_TEXT (combo_box)' failed\n"
     ]
    },
    {
     "name": "stderr",
     "output_type": "stream",
     "text": [
      "\n",
      "(ipykernel_launcher.py:161839): Gtk-CRITICAL **: 23:20:57.124: gtk_combo_box_text_insert: assertion 'GTK_IS_COMBO_BOX_TEXT (combo_box)' failed\n",
      "\n",
      "(ipykernel_launcher.py:161839): Gtk-CRITICAL **: 23:20:57.148: gtk_combo_box_text_insert: assertion 'GTK_IS_COMBO_BOX_TEXT (combo_box)' failed\n",
      "\n",
      "(ipykernel_launcher.py:161839): Gtk-CRITICAL **: 23:20:59.104: gtk_combo_box_text_insert: assertion 'GTK_IS_COMBO_BOX_TEXT (combo_box)' failed\n",
      "\n",
      "(ipykernel_launcher.py:161839): Gtk-CRITICAL **: 23:20:59.126: gtk_combo_box_text_insert: assertion 'GTK_IS_COMBO_BOX_TEXT (combo_box)' failed\n",
      "\n",
      "(ipykernel_launcher.py:161839): Gtk-CRITICAL **: 23:21:02.035: gtk_combo_box_text_insert: assertion 'GTK_IS_COMBO_BOX_TEXT (combo_box)' failed\n",
      "\n",
      "(ipykernel_launcher.py:161839): Gtk-CRITICAL **: 23:21:02.058: gtk_combo_box_text_insert: assertion 'GTK_IS_COMBO_BOX_TEXT (combo_box)' failed\n"
     ]
    }
   ],
   "source": [
    "fsleyesDisplay.resetOverlays()\n",
    "fsleyesDisplay.load(functional_2_path)\n",
    "fsleyesDisplay.load(path_normalized_output_2)"
   ]
  },
  {
   "cell_type": "markdown",
   "metadata": {},
   "source": [
    "<h2>Concatenation of data</h2>"
   ]
  },
  {
   "cell_type": "code",
   "execution_count": 19,
   "metadata": {},
   "outputs": [],
   "source": [
    "img_1 = nib.load(path_normalized_output_1)\n",
    "data_1 = img_1.get_fdata()\n",
    "img_2 = nib.load(path_normalized_output_2)\n",
    "data_2 = img_2.get_fdata()\n",
    "img_3 = nib.load(path_normalized_output_3)\n",
    "data_3 = img_3.get_fdata()"
   ]
  },
  {
   "cell_type": "code",
   "execution_count": 20,
   "metadata": {},
   "outputs": [
    {
     "data": {
      "text/plain": [
       "((80, 80, 50, 105), (80, 80, 50, 105), (80, 80, 50, 105))"
      ]
     },
     "execution_count": 20,
     "metadata": {},
     "output_type": "execute_result"
    }
   ],
   "source": [
    "img_1.shape, img_2.shape, img_3.shape"
   ]
  },
  {
   "cell_type": "code",
   "execution_count": 37,
   "metadata": {},
   "outputs": [],
   "source": [
    "data = np.concatenate((data_1, data_2, data_3), axis = 3)"
   ]
  },
  {
   "cell_type": "code",
   "execution_count": 38,
   "metadata": {},
   "outputs": [],
   "source": [
    "functional_concatenated= op.join(functional_path, 'sub-control01_task-music_concat_bold.nii.gz')"
   ]
  },
  {
   "cell_type": "code",
   "execution_count": 39,
   "metadata": {},
   "outputs": [],
   "source": [
    "img_out = nib.Nifti1Image(data,img_1.affine, img_1.header)\n",
    "nib.save(img_out, functional_concatenated)"
   ]
  },
  {
   "cell_type": "code",
   "execution_count": 40,
   "metadata": {},
   "outputs": [
    {
     "name": "stderr",
     "output_type": "stream",
     "text": [
      "\n",
      "(ipykernel_launcher.py:161839): Gtk-CRITICAL **: 23:22:13.419: gtk_combo_box_text_insert: assertion 'GTK_IS_COMBO_BOX_TEXT (combo_box)' failed\n",
      "\n",
      "(ipykernel_launcher.py:161839): Gtk-CRITICAL **: 23:22:13.443: gtk_combo_box_text_insert: assertion 'GTK_IS_COMBO_BOX_TEXT (combo_box)' failed\n",
      "\n",
      "(ipykernel_launcher.py:161839): Gtk-CRITICAL **: 23:22:13.513: gtk_combo_box_text_insert: assertion 'GTK_IS_COMBO_BOX_TEXT (combo_box)' failed\n",
      "\n",
      "(ipykernel_launcher.py:161839): Gtk-CRITICAL **: 23:22:13.536: gtk_combo_box_text_insert: assertion 'GTK_IS_COMBO_BOX_TEXT (combo_box)' failed\n",
      "\n",
      "(ipykernel_launcher.py:161839): Gtk-CRITICAL **: 23:22:18.889: gtk_combo_box_text_insert: assertion 'GTK_IS_COMBO_BOX_TEXT (combo_box)' failed\n",
      "\n",
      "(ipykernel_launcher.py:161839): Gtk-CRITICAL **: 23:22:18.910: gtk_combo_box_text_insert: assertion 'GTK_IS_COMBO_BOX_TEXT (combo_box)' failed\n"
     ]
    },
    {
     "name": "stderr",
     "output_type": "stream",
     "text": [
      "\n",
      "(ipykernel_launcher.py:161839): Gtk-WARNING **: 23:22:18.966: Negative content width -1 (allocation 1, extents 1x1) while allocating gadget (node spinbutton, owner GtkSpinButton)\n",
      "\n",
      "(ipykernel_launcher.py:161839): Gtk-WARNING **: 23:22:18.966: for_size smaller than min-size (1 < 32) while measuring gadget (node entry, owner GtkSpinButton)\n",
      "\n",
      "(ipykernel_launcher.py:161839): Gtk-WARNING **: 23:22:18.966: for_size smaller than min-size (1 < 16) while measuring gadget (node button, owner GtkSpinButton)\n",
      "\n",
      "(ipykernel_launcher.py:161839): Gtk-WARNING **: 23:22:18.966: for_size smaller than min-size (1 < 16) while measuring gadget (node button, owner GtkSpinButton)\n"
     ]
    }
   ],
   "source": [
    "fsleyesDisplay.resetOverlays()\n",
    "fsleyesDisplay.load(functional_concatenated)"
   ]
  },
  {
   "cell_type": "markdown",
   "metadata": {},
   "source": [
    "## Motion correction\n",
    "\n",
    "In FSL, we use <a href=\"https://fsl.fmrib.ox.ac.uk/fsl/fslwiki/MCFLIRT\">MCFLIRT</a> to perform this correction.\n",
    "\n",
    "By default, MCFLIRT selects the middle volume of the EPI serie as reference to which other volumes are realigned.</p>\n"
   ]
  },
  {
   "cell_type": "code",
   "execution_count": 41,
   "metadata": {},
   "outputs": [
    {
     "name": "stderr",
     "output_type": "stream",
     "text": [
      "Processed data will be saved as ./data/ds000171/derivatives/preprocessed_data/sub-control01/func/sub-control01_task-music_concat_bold.nii.gz\n",
      "\n",
      "McFLIRT v 2.0 - FMRI motion correction\n",
      "\n",
      "Reading time series... \n",
      "first iteration - 8mm scaling, set tolerance\n",
      "Rescaling reference volume [157] to 8 mm pixels\n",
      "Registering volumes ... [158][159][160][161][162][163][164][165][166][167][168][169][170][171][172][173][174][175][176][177][178][179][180][181][182][183][184][185][186][187][188][189][190][191][192][193][194][195][196][197][198][199][200][201][202][203][204][205][206][207][208][209][210][211][212][213][214][215][216][217][218][219][220][221][222][223][224][225][226][227][228][229][230][231][232][233][234][235][236][237][238][239][240][241][242][243][244][245][246][247][248][249][250][251][252][253][254][255][256][257][258][259][260][261][262][263][264][265][266][267][268][269][270][271][272][273][274][275][276][277][278][279][280][281][282][283][284][285][286][287][288][289][290][291][292][293][294][295][296][297][298][299][300][301][302][303][304][305][306][307][308][309][310][311][312][313][314][156][155][154][153][152][151][150][149][148][147][146][145][144][143][142][141][140][139][138][137][136][135][134][133][132][131][130][129][128][127][126][125][124][123][122][121][120][119][118][117][116][115][114][113][112][111][110][109][108][107][106][105][104][103][102][101][100][99][98][97][96][95][94][93][92][91][90][89][88][87][86][85][84][83][82][81][80][79][78][77][76][75][74][73][72][71][70][69][68][67][66][65][64][63][62][61][60][59][58][57][56][55][54][53][52][51][50][49][48][47][46][45][44][43][42][41][40][39][38][37][36][35][34][33][32][31][30][29][28][27][26][25][24][23][22][21][20][19][18][17][16][15][14][13][12][11][10][9][8][7][6][5][4][3][2][1][0]\n",
      "second iteration - drop to 4mm scaling\n",
      "Rescaling reference volume [157] to 4 mm pixels\n",
      "Registering volumes ... [158][159][160][161][162][163][164][165][166][167][168][169][170][171][172][173][174][175][176][177][178][179][180][181][182][183][184][185][186][187][188][189][190][191][192][193][194][195][196][197][198][199][200][201][202][203][204][205][206][207][208][209][210][211][212][213][214][215][216][217][218][219][220][221][222][223][224][225][226][227][228][229][230][231][232][233][234][235][236][237][238][239][240][241][242][243][244][245][246][247][248][249][250][251][252][253][254][255][256][257][258][259][260][261][262][263][264][265][266][267][268][269][270][271][272][273][274][275][276][277][278][279][280][281][282][283][284][285][286][287][288][289][290][291][292][293][294][295][296][297][298][299][300][301][302][303][304][305][306][307][308][309][310][311][312][313][314][156][155][154][153][152][151][150][149][148][147][146][145][144][143][142][141][140][139][138][137][136][135][134][133][132][131][130][129][128][127][126][125][124][123][122][121][120][119][118][117][116][115][114][113][112][111][110][109][108][107][106][105][104][103][102][101][100][99][98][97][96][95][94][93][92][91][90][89][88][87][86][85][84][83][82][81][80][79][78][77][76][75][74][73][72][71][70][69][68][67][66][65][64][63][62][61][60][59][58][57][56][55][54][53][52][51][50][49][48][47][46][45][44][43][42][41][40][39][38][37][36][35][34][33][32][31][30][29][28][27][26][25][24][23][22][21][20][19][18][17][16][15][14][13][12][11][10][9][8][7][6][5][4][3][2][1][0]\n",
      "third iteration - 4mm scaling, eighth tolerance\n"
     ]
    },
    {
     "name": "stdout",
     "output_type": "stream",
     "text": [
      "refnum = 157\n",
      "Original_refvol = -1\n"
     ]
    },
    {
     "name": "stderr",
     "output_type": "stream",
     "text": [
      "Registering volumes ... [158][159][160][161][162][163][164][165][166][167][168][169][170][171][172][173][174][175][176][177][178][179][180][181][182][183][184][185][186][187][188][189][190][191][192][193][194][195][196][197][198][199][200][201][202][203][204][205][206][207][208][209][210][211][212][213][214][215][216][217][218][219][220][221][222][223][224][225][226][227][228][229][230][231][232][233][234][235][236][237][238][239][240][241][242][243][244][245][246][247][248][249][250][251][252][253][254][255][256][257][258][259][260][261][262][263][264][265][266][267][268][269][270][271][272][273][274][275][276][277][278][279][280][281][282][283][284][285][286][287][288][289][290][291][292][293][294][295][296][297][298][299][300][301][302][303][304][305][306][307][308][309][310][311][312][313][314][156][155][154][153][152][151][150][149][148][147][146][145][144][143][142][141][140][139][138][137][136][135][134][133][132][131][130][129][128][127][126][125][124][123][122][121][120][119][118][117][116][115][114][113][112][111][110][109][108][107][106][105][104][103][102][101][100][99][98][97][96][95][94][93][92][91][90][89][88][87][86][85][84][83][82][81][80][79][78][77][76][75][74][73][72][71][70][69][68][67][66][65][64][63][62][61][60][59][58][57][56][55][54][53][52][51][50][49][48][47][46][45][44][43][42][41][40][39][38][37][36][35][34][33][32][31][30][29][28][27][26][25][24][23][22][21][20][19][18][17][16][15][14][13][12][11][10][9][8][7][6][5][4][3][2][1][0]\n",
      "Saving motion corrected time series... \n"
     ]
    },
    {
     "data": {
      "text/plain": [
       "{}"
      ]
     },
     "execution_count": 41,
     "metadata": {},
     "output_type": "execute_result"
    }
   ],
   "source": [
    "# path_original_data = os.path.join(bids_root, 'sub-control01', 'func', 'sub-control01_task-music_run-1_bold')\n",
    "# path_moco_data = os.path.join(preproc_root, 'sub-control01', 'func', 'sub-control01_task-music_run-1_bold_moco')\n",
    "path_moco_data = op.join(preproc_root, 'sub-control01', 'func', 'sub-control01_task-music_concat_bold.nii.gz')\n",
    "mcflirt(\n",
    "    infile=functional_concatenated,  # The input file (original BOLD data)\n",
    "    o=path_moco_data,           # The output file (motion-corrected data)\n",
    "    plots=True,                 # Generate plots for visualizing motion correction.\n",
    "    report=True,                # Generate a report on the motion correction process.\n",
    "    dof=6,                      # Set degrees of freedom to 6 for rigid-body transformation.\n",
    "    mats=True                   # Save the transformation matrices.\n",
    ")"
   ]
  },
  {
   "cell_type": "code",
   "execution_count": 53,
   "metadata": {},
   "outputs": [
    {
     "name": "stderr",
     "output_type": "stream",
     "text": [
      "\n",
      "(ipykernel_launcher.py:161839): Gtk-CRITICAL **: 23:36:02.985: gtk_combo_box_text_insert: assertion 'GTK_IS_COMBO_BOX_TEXT (combo_box)' failed\n",
      "\n",
      "(ipykernel_launcher.py:161839): Gtk-CRITICAL **: 23:36:03.007: gtk_combo_box_text_insert: assertion 'GTK_IS_COMBO_BOX_TEXT (combo_box)' failed\n",
      "\n",
      "(ipykernel_launcher.py:161839): Gtk-CRITICAL **: 23:36:03.069: gtk_combo_box_text_insert: assertion 'GTK_IS_COMBO_BOX_TEXT (combo_box)' failed\n",
      "\n",
      "(ipykernel_launcher.py:161839): Gtk-CRITICAL **: 23:36:03.094: gtk_combo_box_text_insert: assertion 'GTK_IS_COMBO_BOX_TEXT (combo_box)' failed\n",
      "\n",
      "(ipykernel_launcher.py:161839): Gtk-CRITICAL **: 23:36:09.403: gtk_combo_box_text_insert: assertion 'GTK_IS_COMBO_BOX_TEXT (combo_box)' failed\n",
      "\n",
      "(ipykernel_launcher.py:161839): Gtk-CRITICAL **: 23:36:09.423: gtk_combo_box_text_insert: assertion 'GTK_IS_COMBO_BOX_TEXT (combo_box)' failed\n",
      "\n",
      "(ipykernel_launcher.py:161839): Gtk-CRITICAL **: 23:36:11.808: gtk_combo_box_text_insert: assertion 'GTK_IS_COMBO_BOX_TEXT (combo_box)' failed\n",
      "\n",
      "(ipykernel_launcher.py:161839): Gtk-CRITICAL **: 23:36:11.829: gtk_combo_box_text_insert: assertion 'GTK_IS_COMBO_BOX_TEXT (combo_box)' failed\n"
     ]
    },
    {
     "name": "stderr",
     "output_type": "stream",
     "text": [
      "\n",
      "(ipykernel_launcher.py:161839): Gtk-WARNING **: 23:36:11.883: Negative content width -1 (allocation 1, extents 1x1) while allocating gadget (node spinbutton, owner GtkSpinButton)\n",
      "\n",
      "(ipykernel_launcher.py:161839): Gtk-WARNING **: 23:36:11.883: for_size smaller than min-size (1 < 32) while measuring gadget (node entry, owner GtkSpinButton)\n",
      "\n",
      "(ipykernel_launcher.py:161839): Gtk-WARNING **: 23:36:11.883: for_size smaller than min-size (1 < 16) while measuring gadget (node button, owner GtkSpinButton)\n",
      "\n",
      "(ipykernel_launcher.py:161839): Gtk-WARNING **: 23:36:11.883: for_size smaller than min-size (1 < 16) while measuring gadget (node button, owner GtkSpinButton)\n",
      "\n",
      "(ipykernel_launcher.py:161839): Gtk-CRITICAL **: 23:36:14.274: gtk_combo_box_text_insert: assertion 'GTK_IS_COMBO_BOX_TEXT (combo_box)' failed\n",
      "\n",
      "(ipykernel_launcher.py:161839): Gtk-CRITICAL **: 23:36:14.298: gtk_combo_box_text_insert: assertion 'GTK_IS_COMBO_BOX_TEXT (combo_box)' failed\n"
     ]
    }
   ],
   "source": [
    "fsleyesDisplay.resetOverlays() # Reset the overlays in FSLeyes\n",
    "fsleyesDisplay.load(functional_concatenated) # Load the original data in FSLeyes\n",
    "fsleyesDisplay.load(path_moco_data) # Load the motion corrected data in FSLeyes"
   ]
  },
  {
   "cell_type": "markdown",
   "metadata": {},
   "source": [
    "The motion parameters are stored in the .par file produced by MCFLIRT. Notice that since each volume moved differently, we have one transformation per volume, thus one set of motion parameters per volume as well. We provide you with a way to load these parameters:"
   ]
  },
  {
   "cell_type": "code",
   "execution_count": 43,
   "metadata": {},
   "outputs": [
    {
     "data": {
      "text/html": [
       "<div>\n",
       "<style scoped>\n",
       "    .dataframe tbody tr th:only-of-type {\n",
       "        vertical-align: middle;\n",
       "    }\n",
       "\n",
       "    .dataframe tbody tr th {\n",
       "        vertical-align: top;\n",
       "    }\n",
       "\n",
       "    .dataframe thead th {\n",
       "        text-align: right;\n",
       "    }\n",
       "</style>\n",
       "<table border=\"1\" class=\"dataframe\">\n",
       "  <thead>\n",
       "    <tr style=\"text-align: right;\">\n",
       "      <th></th>\n",
       "      <th>Rotation x</th>\n",
       "      <th>Rotation y</th>\n",
       "      <th>Rotation z</th>\n",
       "      <th>Translation x</th>\n",
       "      <th>Translation y</th>\n",
       "      <th>Translation z</th>\n",
       "    </tr>\n",
       "  </thead>\n",
       "  <tbody>\n",
       "    <tr>\n",
       "      <th>0</th>\n",
       "      <td>-0.002818</td>\n",
       "      <td>0.003264</td>\n",
       "      <td>0.000221</td>\n",
       "      <td>-0.053649</td>\n",
       "      <td>-0.513064</td>\n",
       "      <td>-0.467908</td>\n",
       "    </tr>\n",
       "    <tr>\n",
       "      <th>1</th>\n",
       "      <td>-0.003541</td>\n",
       "      <td>0.003037</td>\n",
       "      <td>-0.000225</td>\n",
       "      <td>-0.072016</td>\n",
       "      <td>-0.496912</td>\n",
       "      <td>-0.468315</td>\n",
       "    </tr>\n",
       "    <tr>\n",
       "      <th>2</th>\n",
       "      <td>-0.003485</td>\n",
       "      <td>0.003264</td>\n",
       "      <td>-0.000187</td>\n",
       "      <td>-0.061120</td>\n",
       "      <td>-0.476346</td>\n",
       "      <td>-0.456379</td>\n",
       "    </tr>\n",
       "    <tr>\n",
       "      <th>3</th>\n",
       "      <td>-0.003376</td>\n",
       "      <td>0.003264</td>\n",
       "      <td>-0.000248</td>\n",
       "      <td>-0.065329</td>\n",
       "      <td>-0.477160</td>\n",
       "      <td>-0.464982</td>\n",
       "    </tr>\n",
       "    <tr>\n",
       "      <th>4</th>\n",
       "      <td>-0.002496</td>\n",
       "      <td>0.003192</td>\n",
       "      <td>-0.000324</td>\n",
       "      <td>-0.079537</td>\n",
       "      <td>-0.473894</td>\n",
       "      <td>-0.502713</td>\n",
       "    </tr>\n",
       "    <tr>\n",
       "      <th>...</th>\n",
       "      <td>...</td>\n",
       "      <td>...</td>\n",
       "      <td>...</td>\n",
       "      <td>...</td>\n",
       "      <td>...</td>\n",
       "      <td>...</td>\n",
       "    </tr>\n",
       "    <tr>\n",
       "      <th>310</th>\n",
       "      <td>0.009169</td>\n",
       "      <td>0.000209</td>\n",
       "      <td>-0.001822</td>\n",
       "      <td>-0.085127</td>\n",
       "      <td>0.392705</td>\n",
       "      <td>0.227226</td>\n",
       "    </tr>\n",
       "    <tr>\n",
       "      <th>311</th>\n",
       "      <td>0.009169</td>\n",
       "      <td>0.000177</td>\n",
       "      <td>-0.001978</td>\n",
       "      <td>-0.091338</td>\n",
       "      <td>0.375835</td>\n",
       "      <td>0.224750</td>\n",
       "    </tr>\n",
       "    <tr>\n",
       "      <th>312</th>\n",
       "      <td>0.009314</td>\n",
       "      <td>-0.000353</td>\n",
       "      <td>-0.002065</td>\n",
       "      <td>-0.106357</td>\n",
       "      <td>0.406376</td>\n",
       "      <td>0.223947</td>\n",
       "    </tr>\n",
       "    <tr>\n",
       "      <th>313</th>\n",
       "      <td>0.008867</td>\n",
       "      <td>-0.000445</td>\n",
       "      <td>-0.002248</td>\n",
       "      <td>-0.106405</td>\n",
       "      <td>0.361294</td>\n",
       "      <td>0.210964</td>\n",
       "    </tr>\n",
       "    <tr>\n",
       "      <th>314</th>\n",
       "      <td>0.009138</td>\n",
       "      <td>-0.000575</td>\n",
       "      <td>-0.002550</td>\n",
       "      <td>-0.126578</td>\n",
       "      <td>0.350340</td>\n",
       "      <td>0.205946</td>\n",
       "    </tr>\n",
       "  </tbody>\n",
       "</table>\n",
       "<p>315 rows × 6 columns</p>\n",
       "</div>"
      ],
      "text/plain": [
       "     Rotation x  Rotation y  Rotation z  Translation x  Translation y  \\\n",
       "0     -0.002818    0.003264    0.000221      -0.053649      -0.513064   \n",
       "1     -0.003541    0.003037   -0.000225      -0.072016      -0.496912   \n",
       "2     -0.003485    0.003264   -0.000187      -0.061120      -0.476346   \n",
       "3     -0.003376    0.003264   -0.000248      -0.065329      -0.477160   \n",
       "4     -0.002496    0.003192   -0.000324      -0.079537      -0.473894   \n",
       "..          ...         ...         ...            ...            ...   \n",
       "310    0.009169    0.000209   -0.001822      -0.085127       0.392705   \n",
       "311    0.009169    0.000177   -0.001978      -0.091338       0.375835   \n",
       "312    0.009314   -0.000353   -0.002065      -0.106357       0.406376   \n",
       "313    0.008867   -0.000445   -0.002248      -0.106405       0.361294   \n",
       "314    0.009138   -0.000575   -0.002550      -0.126578       0.350340   \n",
       "\n",
       "     Translation z  \n",
       "0        -0.467908  \n",
       "1        -0.468315  \n",
       "2        -0.456379  \n",
       "3        -0.464982  \n",
       "4        -0.502713  \n",
       "..             ...  \n",
       "310       0.227226  \n",
       "311       0.224750  \n",
       "312       0.223947  \n",
       "313       0.210964  \n",
       "314       0.205946  \n",
       "\n",
       "[315 rows x 6 columns]"
      ]
     },
     "execution_count": 43,
     "metadata": {},
     "output_type": "execute_result"
    }
   ],
   "source": [
    "mot_params = load_mot_params_fsl_6_dof(op.join(preproc_root, 'sub-control01', 'func', 'sub-control01_task-music_concat_bold.nii.gz.par')) \n",
    "mot_params # It returns a dataframe with the motion parameters "
   ]
  },
  {
   "cell_type": "markdown",
   "metadata": {},
   "source": [
    "Based on **translation on X alone**, can you find perhaps a volume which exceeds with respect to the **preceding volume** a 0.2 mm displacement?"
   ]
  },
  {
   "cell_type": "code",
   "execution_count": 44,
   "metadata": {},
   "outputs": [
    {
     "data": {
      "image/png": "[encoded data removed]",
      "text/plain": [
       "<Figure size 640x480 with 1 Axes>"
      ]
     },
     "metadata": {},
     "output_type": "display_data"
    }
   ],
   "source": [
    "trans_x = mot_params[\"Translation x\"] # Getting the translation on X\n",
    "# Now, we want a 0.2mm with respect to previous frame:\n",
    "disp_x = np.diff(trans_x) # Getting the displacement on X. We use np.diff to calculate the difference between consecutive elements in the translation on X.\n",
    "# Lastly, we can ask for displacements (in absolute value) above 0.2mm and plot it to be clear:\n",
    "threshold=0.2 \n",
    "plt.plot(np.abs(disp_x))\n",
    "plt.hlines(threshold, 0, len(disp_x),colors='black', linestyles='dashed', label='FD threshold')\n",
    "plt.xlabel(\"Volumes\")\n",
    "plt.ylabel(\"Framewise translation displacement (mm)\")\n",
    "plt.show()"
   ]
  },
  {
   "cell_type": "markdown",
   "metadata": {},
   "source": [
    "Now, we can use the code below to extract an aggregate measure of motion for all volumes. "
   ]
  },
  {
   "cell_type": "code",
   "execution_count": 45,
   "metadata": {},
   "outputs": [],
   "source": [
    "fd = compute_FD_power(mot_params).to_numpy()"
   ]
  },
  {
   "cell_type": "code",
   "execution_count": 46,
   "metadata": {},
   "outputs": [],
   "source": [
    "threshold = np.quantile(fd,0.75) + 1.5*(np.quantile(fd,0.75) - np.quantile(fd,0.25))"
   ]
  },
  {
   "cell_type": "code",
   "execution_count": 61,
   "metadata": {},
   "outputs": [
    {
     "data": {
      "application/vnd.plotly.v1+json": {
       "config": {
        "plotlyServerURL": "https://plot.ly"
       },
       "data": [
        {
         "hovertemplate": "Volume=%{x}<br>FD displacement (mm)=%{y}<extra></extra>",
         "legendgroup": "",
         "line": {
          "color": "#636efa",
          "dash": "solid"
         },
         "marker": {
          "symbol": "circle"
         },
         "mode": "lines",
         "name": "",
         "orientation": "v",
         "showlegend": false,
         "type": "scatter",
         "x": [
          1,
          2,
          3,
          4,
          5,
          6,
          7,
          8,
          9,
          10,
          11,
          12,
          13,
          14,
          15,
          16,
          17,
          18,
          19,
          20,
          21,
          22,
          23,
          24,
          25,
          26,
          27,
          28,
          29,
          30,
          31,
          32,
          33,
          34,
          35,
          36,
          37,
          38,
          39,
          40,
          41,
          42,
          43,
          44,
          45,
          46,
          47,
          48,
          49,
          50,
          51,
          52,
          53,
          54,
          55,
          56,
          57,
          58,
          59,
          60,
          61,
          62,
          63,
          64,
          65,
          66,
          67,
          68,
          69,
          70,
          71,
          72,
          73,
          74,
          75,
          76,
          77,
          78,
          79,
          80,
          81,
          82,
          83,
          84,
          85,
          86,
          87,
          88,
          89,
          90,
          91,
          92,
          93,
          94,
          95,
          96,
          97,
          98,
          99,
          100,
          101,
          102,
          103,
          104,
          105,
          106,
          107,
          108,
          109,
          110,
          111,
          112,
          113,
          114,
          115,
          116,
          117,
          118,
          119,
          120,
          121,
          122,
          123,
          124,
          125,
          126,
          127,
          128,
          129,
          130,
          131,
          132,
          133,
          134,
          135,
          136,
          137,
          138,
          139,
          140,
          141,
          142,
          143,
          144,
          145,
          146,
          147,
          148,
          149,
          150,
          151,
          152,
          153,
          154,
          155,
          156,
          157,
          158,
          159,
          160,
          161,
          162,
          163,
          164,
          165,
          166,
          167,
          168,
          169,
          170,
          171,
          172,
          173,
          174,
          175,
          176,
          177,
          178,
          179,
          180,
          181,
          182,
          183,
          184,
          185,
          186,
          187,
          188,
          189,
          190,
          191,
          192,
          193,
          194,
          195,
          196,
          197,
          198,
          199,
          200,
          201,
          202,
          203,
          204,
          205,
          206,
          207,
          208,
          209,
          210,
          211,
          212,
          213,
          214,
          215,
          216,
          217,
          218,
          219,
          220,
          221,
          222,
          223,
          224,
          225,
          226,
          227,
          228,
          229,
          230,
          231,
          232,
          233,
          234,
          235,
          236,
          237,
          238,
          239,
          240,
          241,
          242,
          243,
          244,
          245,
          246,
          247,
          248,
          249,
          250,
          251,
          252,
          253,
          254,
          255,
          256,
          257,
          258,
          259,
          260,
          261,
          262,
          263,
          264,
          265,
          266,
          267,
          268,
          269,
          270,
          271,
          272,
          273,
          274,
          275,
          276,
          277,
          278,
          279,
          280,
          281,
          282,
          283,
          284,
          285,
          286,
          287,
          288,
          289,
          290,
          291,
          292,
          293,
          294,
          295,
          296,
          297,
          298,
          299,
          300,
          301,
          302,
          303,
          304,
          305,
          306,
          307,
          308,
          309,
          310,
          311,
          312,
          313,
          314
         ],
         "xaxis": "x",
         "y": [
          0.10467494999999993,
          0.05943015000000002,
          0.02208450000000001,
          0.10663974999999995,
          0.11859539999999995,
          0.06282904999999993,
          0.08593009999999998,
          0.0684637,
          0.09218565000000004,
          0.04618434999999999,
          0.10413071500000001,
          0.050958509999999985,
          0.0962335,
          0.07571817500000003,
          0.036660394999999985,
          0.06682999500000002,
          0.07747320000000002,
          0.1598991,
          0.11277299999999996,
          0.12030719999999996,
          0.11453740000000001,
          0.05082580000000003,
          0.042060099999999996,
          0.05060865000000002,
          0.0866771,
          0.10526870000000003,
          0.04297319999999996,
          0.06628020000000001,
          0.05367550000000002,
          0.05952000000000002,
          0.07143904999999998,
          0.07470125,
          0.04473348500000001,
          0.021884600000000008,
          0.09293273500000004,
          0.06940675,
          0.09852865,
          0.03970230000000003,
          0.069811,
          0.09950820000000002,
          0.10087775000000002,
          0.08316109999999993,
          0.06300514999999993,
          0.09349410000000002,
          0.06536280000000005,
          0.05119480000000004,
          0.08020350000000002,
          0.08329530000000004,
          0.04495200000000002,
          0.05812739500000004,
          0.023709994999999904,
          0.05710754999999993,
          0.08401694999999995,
          0.040762199999999964,
          0.062380299999999986,
          0.12773275,
          0.06430070000000002,
          0.038242200000000025,
          0.05493000000000006,
          0.0930823,
          0.05727380000000001,
          0.11424520000000002,
          0.10577714999999999,
          0.07177870000000004,
          0.08089390000000005,
          0.0660984,
          0.04821840000000003,
          0.058042940000000015,
          0.09254214000000001,
          0.044672199999999954,
          0.09931760000000003,
          0.06853659999999996,
          0.105481645,
          0.06691414499999998,
          0.027822700000000013,
          0.16304835499999998,
          0.11034597500000001,
          0.07783243000000001,
          0.0953097500000001,
          0.08376100000000003,
          0.02973649999999994,
          0.07743706499999997,
          0.05315841500000007,
          0.12903825000000005,
          0.09460379999999996,
          0.14427529499999997,
          0.04645669500000002,
          0.045904650000000026,
          0.03446834999999997,
          0.10535685000000003,
          0.08994880000000008,
          0.04142444999999998,
          0.09118744999999995,
          0.07566994999999999,
          0.07763509999999998,
          0.06920475000000004,
          0.04874314999999996,
          0.05856924999999993,
          0.08576635000000006,
          0.09802955000000002,
          0.11135935,
          0.1377161,
          0.0931965,
          0.07691335000000005,
          0.37006095,
          0.1107127,
          0.05690654999999999,
          0.11426355000000002,
          0.05422975000000001,
          0.04260375000000003,
          0.056495700000000024,
          0.05067409999999997,
          0.17261312185,
          0.10990097815000001,
          0.08504845000000003,
          0.04801940000000003,
          0.03449995000000005,
          0.041098550000000005,
          0.04848495,
          0.02358805000000002,
          0.08100520000000003,
          0.06697335000000001,
          0.03008450999999998,
          0.06014429949999997,
          0.04495798950000002,
          0.04320559999999999,
          0.04706279999999996,
          0.08818395000000004,
          0.05570490000000006,
          0.13140425,
          0.1587214,
          0.09202285,
          0.10503517000000004,
          0.09356445599999998,
          0.154434731,
          0.07049635,
          0.030181749999999993,
          0.025553075,
          0.004992149999999999,
          0.04658514999999999,
          0.07989075500000001,
          0.091285555,
          0.10336265,
          0.07866647500000001,
          0.08625711999999998,
          0.11214020300000001,
          0.06847419200000002,
          0.12110079499999998,
          0.121885475,
          0.146596715,
          0.065876625,
          0.1463687669,
          0.1714307033,
          0.061784557500000004,
          0.09519955978000001,
          0.10885442208000001,
          0.041189,
          0.12291847786,
          0.13838690494,
          0.05271415,
          0.06889060500000001,
          0.087289905,
          0.19702531,
          0.10910935,
          0.18462037,
          0.16518282,
          0.08407649999999998,
          0.12015585,
          0.05846515000000001,
          0.08082067000000001,
          0.06375678999999998,
          0.09022741000000001,
          0.12173545,
          0.09257479999999998,
          0.0416904,
          0.045760499999999996,
          0.04721488500000001,
          0.056486434999999995,
          0.053690600000000005,
          0.028181149999999995,
          0.03378494999999999,
          0.0912958,
          0.06615084999999998,
          0.06080290000000001,
          0.14887255,
          0.19862625,
          0.11792385,
          0.0769564,
          0.0785978,
          0.09589375000000001,
          0.1850442,
          0.14091130000000002,
          0.14029711500000003,
          0.10379585,
          0.13535471500000001,
          0.04157479999999999,
          0.06712334999999998,
          0.036347399999999995,
          0.09277125,
          0.08164599999999998,
          0.081278,
          0.12592659999999997,
          0.01377089999999998,
          0.058126910999999976,
          0.05595939900000002,
          0.06453666999999998,
          0.06337372000000001,
          0.20728542,
          0.04312729000000001,
          0.86974989,
          0.11152420000000005,
          0.06408665000000004,
          0.07853555,
          0.09030456,
          0.06031275999999999,
          0.042458930000000006,
          0.07514423000000002,
          0.1361837,
          0.08712559999999997,
          0.020548699999999975,
          0.08496994299999999,
          0.037418406999999994,
          0.06709214999999999,
          0.051412849999999975,
          0.09229468499999996,
          0.11562392400000002,
          0.136264511,
          0.11084727,
          0.0964747,
          0.14041960000000003,
          0.08450640000000001,
          0.07096736199999998,
          0.091169062,
          0.11139859999999999,
          0.09395217,
          0.09243794000000002,
          0.1440356,
          0.07825563000000002,
          0.10846535000000002,
          0.04431584999999998,
          0.12817680999999997,
          0.12732770999999996,
          0.060170449999999986,
          0.09948120000000002,
          0.10014569999999999,
          0.11938460000000001,
          0.06269660000000005,
          0.023345480000000036,
          0.04482356999999998,
          0.047733130000000026,
          0.06085327999999998,
          0.15231114999999998,
          0.10386789999999999,
          0.1584778,
          0.06345309999999994,
          0.07574856999999993,
          0.09100086999999996,
          0.03459938000000002,
          0.10970035000000004,
          0.10733252000000004,
          0.12113209999999999,
          0.09362119999999996,
          0.10238254999999996,
          0.07230720000000003,
          0.0970126,
          0.12902357000000003,
          0.15296911999999993,
          0.09865865000000007,
          0.22118110000000005,
          0.1159575,
          0.14954295000000006,
          0.11830200000000002,
          0.08012499999999999,
          0.10106811999999994,
          0.25637742,
          0.18853380000000008,
          0.07469200000000005,
          0.11118170000000005,
          0.04918890000000002,
          0.06748165,
          0.07256140000000001,
          0.15773200000000007,
          0.11531649999999993,
          0.05423499999999999,
          0.10608600000000001,
          0.09776699999999999,
          0.05715130000000006,
          0.06280989999999999,
          0.10554489999999997,
          0.03850100000000006,
          0.09635799999999993,
          0.12025549999999993,
          0.11365149999999996,
          0.0990559,
          0.12846085000000002,
          0.10140184999999996,
          0.07836030000000005,
          0.06206185000000001,
          0.11568264999999991,
          0.10894764999999997,
          0.11622820500000003,
          0.05179743000000005,
          0.06127163500000004,
          0.08175799999999994,
          0.0652026,
          0.17199970500000003,
          0.11541569000000006,
          0.042875999999999984,
          0.07662191499999998,
          0.09277459,
          0.03495815000000006,
          0.0844409000000001,
          0.09422675000000001,
          0.07133840000000005
         ],
         "yaxis": "y"
        }
       ],
       "layout": {
        "annotations": [
         {
          "showarrow": false,
          "text": "FD threshold",
          "x": 1,
          "xanchor": "right",
          "xref": "x domain",
          "y": 0.18611173004999992,
          "yanchor": "top",
          "yref": "y"
         }
        ],
        "legend": {
         "tracegroupgap": 0
        },
        "margin": {
         "t": 60
        },
        "shapes": [
         {
          "line": {
           "dash": "dash"
          },
          "type": "line",
          "x0": 0,
          "x1": 1,
          "xref": "x domain",
          "y0": 0.18611173004999992,
          "y1": 0.18611173004999992,
          "yref": "y"
         }
        ],
        "template": {
         "data": {
          "bar": [
           {
            "error_x": {
             "color": "#2a3f5f"
            },
            "error_y": {
             "color": "#2a3f5f"
            },
            "marker": {
             "line": {
              "color": "#E5ECF6",
              "width": 0.5
             },
             "pattern": {
              "fillmode": "overlay",
              "size": 10,
              "solidity": 0.2
             }
            },
            "type": "bar"
           }
          ],
          "barpolar": [
           {
            "marker": {
             "line": {
              "color": "#E5ECF6",
              "width": 0.5
             },
             "pattern": {
              "fillmode": "overlay",
              "size": 10,
              "solidity": 0.2
             }
            },
            "type": "barpolar"
           }
          ],
          "carpet": [
           {
            "aaxis": {
             "endlinecolor": "#2a3f5f",
             "gridcolor": "white",
             "linecolor": "white",
             "minorgridcolor": "white",
             "startlinecolor": "#2a3f5f"
            },
            "baxis": {
             "endlinecolor": "#2a3f5f",
             "gridcolor": "white",
             "linecolor": "white",
             "minorgridcolor": "white",
             "startlinecolor": "#2a3f5f"
            },
            "type": "carpet"
           }
          ],
          "choropleth": [
           {
            "colorbar": {
             "outlinewidth": 0,
             "ticks": ""
            },
            "type": "choropleth"
           }
          ],
          "contour": [
           {
            "colorbar": {
             "outlinewidth": 0,
             "ticks": ""
            },
            "colorscale": [
             [
              0,
              "#0d0887"
             ],
             [
              0.1111111111111111,
              "#46039f"
             ],
             [
              0.2222222222222222,
              "#7201a8"
             ],
             [
              0.3333333333333333,
              "#9c179e"
             ],
             [
              0.4444444444444444,
              "#bd3786"
             ],
             [
              0.5555555555555556,
              "#d8576b"
             ],
             [
              0.6666666666666666,
              "#ed7953"
             ],
             [
              0.7777777777777778,
              "#fb9f3a"
             ],
             [
              0.8888888888888888,
              "#fdca26"
             ],
             [
              1,
              "#f0f921"
             ]
            ],
            "type": "contour"
           }
          ],
          "contourcarpet": [
           {
            "colorbar": {
             "outlinewidth": 0,
             "ticks": ""
            },
            "type": "contourcarpet"
           }
          ],
          "heatmap": [
           {
            "colorbar": {
             "outlinewidth": 0,
             "ticks": ""
            },
            "colorscale": [
             [
              0,
              "#0d0887"
             ],
             [
              0.1111111111111111,
              "#46039f"
             ],
             [
              0.2222222222222222,
              "#7201a8"
             ],
             [
              0.3333333333333333,
              "#9c179e"
             ],
             [
              0.4444444444444444,
              "#bd3786"
             ],
             [
              0.5555555555555556,
              "#d8576b"
             ],
             [
              0.6666666666666666,
              "#ed7953"
             ],
             [
              0.7777777777777778,
              "#fb9f3a"
             ],
             [
              0.8888888888888888,
              "#fdca26"
             ],
             [
              1,
              "#f0f921"
             ]
            ],
            "type": "heatmap"
           }
          ],
          "heatmapgl": [
           {
            "colorbar": {
             "outlinewidth": 0,
             "ticks": ""
            },
            "colorscale": [
             [
              0,
              "#0d0887"
             ],
             [
              0.1111111111111111,
              "#46039f"
             ],
             [
              0.2222222222222222,
              "#7201a8"
             ],
             [
              0.3333333333333333,
              "#9c179e"
             ],
             [
              0.4444444444444444,
              "#bd3786"
             ],
             [
              0.5555555555555556,
              "#d8576b"
             ],
             [
              0.6666666666666666,
              "#ed7953"
             ],
             [
              0.7777777777777778,
              "#fb9f3a"
             ],
             [
              0.8888888888888888,
              "#fdca26"
             ],
             [
              1,
              "#f0f921"
             ]
            ],
            "type": "heatmapgl"
           }
          ],
          "histogram": [
           {
            "marker": {
             "pattern": {
              "fillmode": "overlay",
              "size": 10,
              "solidity": 0.2
             }
            },
            "type": "histogram"
           }
          ],
          "histogram2d": [
           {
            "colorbar": {
             "outlinewidth": 0,
             "ticks": ""
            },
            "colorscale": [
             [
              0,
              "#0d0887"
             ],
             [
              0.1111111111111111,
              "#46039f"
             ],
             [
              0.2222222222222222,
              "#7201a8"
             ],
             [
              0.3333333333333333,
              "#9c179e"
             ],
             [
              0.4444444444444444,
              "#bd3786"
             ],
             [
              0.5555555555555556,
              "#d8576b"
             ],
             [
              0.6666666666666666,
              "#ed7953"
             ],
             [
              0.7777777777777778,
              "#fb9f3a"
             ],
             [
              0.8888888888888888,
              "#fdca26"
             ],
             [
              1,
              "#f0f921"
             ]
            ],
            "type": "histogram2d"
           }
          ],
          "histogram2dcontour": [
           {
            "colorbar": {
             "outlinewidth": 0,
             "ticks": ""
            },
            "colorscale": [
             [
              0,
              "#0d0887"
             ],
             [
              0.1111111111111111,
              "#46039f"
             ],
             [
              0.2222222222222222,
              "#7201a8"
             ],
             [
              0.3333333333333333,
              "#9c179e"
             ],
             [
              0.4444444444444444,
              "#bd3786"
             ],
             [
              0.5555555555555556,
              "#d8576b"
             ],
             [
              0.6666666666666666,
              "#ed7953"
             ],
             [
              0.7777777777777778,
              "#fb9f3a"
             ],
             [
              0.8888888888888888,
              "#fdca26"
             ],
             [
              1,
              "#f0f921"
             ]
            ],
            "type": "histogram2dcontour"
           }
          ],
          "mesh3d": [
           {
            "colorbar": {
             "outlinewidth": 0,
             "ticks": ""
            },
            "type": "mesh3d"
           }
          ],
          "parcoords": [
           {
            "line": {
             "colorbar": {
              "outlinewidth": 0,
              "ticks": ""
             }
            },
            "type": "parcoords"
           }
          ],
          "pie": [
           {
            "automargin": true,
            "type": "pie"
           }
          ],
          "scatter": [
           {
            "fillpattern": {
             "fillmode": "overlay",
             "size": 10,
             "solidity": 0.2
            },
            "type": "scatter"
           }
          ],
          "scatter3d": [
           {
            "line": {
             "colorbar": {
              "outlinewidth": 0,
              "ticks": ""
             }
            },
            "marker": {
             "colorbar": {
              "outlinewidth": 0,
              "ticks": ""
             }
            },
            "type": "scatter3d"
           }
          ],
          "scattercarpet": [
           {
            "marker": {
             "colorbar": {
              "outlinewidth": 0,
              "ticks": ""
             }
            },
            "type": "scattercarpet"
           }
          ],
          "scattergeo": [
           {
            "marker": {
             "colorbar": {
              "outlinewidth": 0,
              "ticks": ""
             }
            },
            "type": "scattergeo"
           }
          ],
          "scattergl": [
           {
            "marker": {
             "colorbar": {
              "outlinewidth": 0,
              "ticks": ""
             }
            },
            "type": "scattergl"
           }
          ],
          "scattermapbox": [
           {
            "marker": {
             "colorbar": {
              "outlinewidth": 0,
              "ticks": ""
             }
            },
            "type": "scattermapbox"
           }
          ],
          "scatterpolar": [
           {
            "marker": {
             "colorbar": {
              "outlinewidth": 0,
              "ticks": ""
             }
            },
            "type": "scatterpolar"
           }
          ],
          "scatterpolargl": [
           {
            "marker": {
             "colorbar": {
              "outlinewidth": 0,
              "ticks": ""
             }
            },
            "type": "scatterpolargl"
           }
          ],
          "scatterternary": [
           {
            "marker": {
             "colorbar": {
              "outlinewidth": 0,
              "ticks": ""
             }
            },
            "type": "scatterternary"
           }
          ],
          "surface": [
           {
            "colorbar": {
             "outlinewidth": 0,
             "ticks": ""
            },
            "colorscale": [
             [
              0,
              "#0d0887"
             ],
             [
              0.1111111111111111,
              "#46039f"
             ],
             [
              0.2222222222222222,
              "#7201a8"
             ],
             [
              0.3333333333333333,
              "#9c179e"
             ],
             [
              0.4444444444444444,
              "#bd3786"
             ],
             [
              0.5555555555555556,
              "#d8576b"
             ],
             [
              0.6666666666666666,
              "#ed7953"
             ],
             [
              0.7777777777777778,
              "#fb9f3a"
             ],
             [
              0.8888888888888888,
              "#fdca26"
             ],
             [
              1,
              "#f0f921"
             ]
            ],
            "type": "surface"
           }
          ],
          "table": [
           {
            "cells": {
             "fill": {
              "color": "#EBF0F8"
             },
             "line": {
              "color": "white"
             }
            },
            "header": {
             "fill": {
              "color": "#C8D4E3"
             },
             "line": {
              "color": "white"
             }
            },
            "type": "table"
           }
          ]
         },
         "layout": {
          "annotationdefaults": {
           "arrowcolor": "#2a3f5f",
           "arrowhead": 0,
           "arrowwidth": 1
          },
          "autotypenumbers": "strict",
          "coloraxis": {
           "colorbar": {
            "outlinewidth": 0,
            "ticks": ""
           }
          },
          "colorscale": {
           "diverging": [
            [
             0,
             "#8e0152"
            ],
            [
             0.1,
             "#c51b7d"
            ],
            [
             0.2,
             "#de77ae"
            ],
            [
             0.3,
             "#f1b6da"
            ],
            [
             0.4,
             "#fde0ef"
            ],
            [
             0.5,
             "#f7f7f7"
            ],
            [
             0.6,
             "#e6f5d0"
            ],
            [
             0.7,
             "#b8e186"
            ],
            [
             0.8,
             "#7fbc41"
            ],
            [
             0.9,
             "#4d9221"
            ],
            [
             1,
             "#276419"
            ]
           ],
           "sequential": [
            [
             0,
             "#0d0887"
            ],
            [
             0.1111111111111111,
             "#46039f"
            ],
            [
             0.2222222222222222,
             "#7201a8"
            ],
            [
             0.3333333333333333,
             "#9c179e"
            ],
            [
             0.4444444444444444,
             "#bd3786"
            ],
            [
             0.5555555555555556,
             "#d8576b"
            ],
            [
             0.6666666666666666,
             "#ed7953"
            ],
            [
             0.7777777777777778,
             "#fb9f3a"
            ],
            [
             0.8888888888888888,
             "#fdca26"
            ],
            [
             1,
             "#f0f921"
            ]
           ],
           "sequentialminus": [
            [
             0,
             "#0d0887"
            ],
            [
             0.1111111111111111,
             "#46039f"
            ],
            [
             0.2222222222222222,
             "#7201a8"
            ],
            [
             0.3333333333333333,
             "#9c179e"
            ],
            [
             0.4444444444444444,
             "#bd3786"
            ],
            [
             0.5555555555555556,
             "#d8576b"
            ],
            [
             0.6666666666666666,
             "#ed7953"
            ],
            [
             0.7777777777777778,
             "#fb9f3a"
            ],
            [
             0.8888888888888888,
             "#fdca26"
            ],
            [
             1,
             "#f0f921"
            ]
           ]
          },
          "colorway": [
           "#636efa",
           "#EF553B",
           "#00cc96",
           "#ab63fa",
           "#FFA15A",
           "#19d3f3",
           "#FF6692",
           "#B6E880",
           "#FF97FF",
           "#FECB52"
          ],
          "font": {
           "color": "#2a3f5f"
          },
          "geo": {
           "bgcolor": "white",
           "lakecolor": "white",
           "landcolor": "#E5ECF6",
           "showlakes": true,
           "showland": true,
           "subunitcolor": "white"
          },
          "hoverlabel": {
           "align": "left"
          },
          "hovermode": "closest",
          "mapbox": {
           "style": "light"
          },
          "paper_bgcolor": "white",
          "plot_bgcolor": "#E5ECF6",
          "polar": {
           "angularaxis": {
            "gridcolor": "white",
            "linecolor": "white",
            "ticks": ""
           },
           "bgcolor": "#E5ECF6",
           "radialaxis": {
            "gridcolor": "white",
            "linecolor": "white",
            "ticks": ""
           }
          },
          "scene": {
           "xaxis": {
            "backgroundcolor": "#E5ECF6",
            "gridcolor": "white",
            "gridwidth": 2,
            "linecolor": "white",
            "showbackground": true,
            "ticks": "",
            "zerolinecolor": "white"
           },
           "yaxis": {
            "backgroundcolor": "#E5ECF6",
            "gridcolor": "white",
            "gridwidth": 2,
            "linecolor": "white",
            "showbackground": true,
            "ticks": "",
            "zerolinecolor": "white"
           },
           "zaxis": {
            "backgroundcolor": "#E5ECF6",
            "gridcolor": "white",
            "gridwidth": 2,
            "linecolor": "white",
            "showbackground": true,
            "ticks": "",
            "zerolinecolor": "white"
           }
          },
          "shapedefaults": {
           "line": {
            "color": "#2a3f5f"
           }
          },
          "ternary": {
           "aaxis": {
            "gridcolor": "white",
            "linecolor": "white",
            "ticks": ""
           },
           "baxis": {
            "gridcolor": "white",
            "linecolor": "white",
            "ticks": ""
           },
           "bgcolor": "#E5ECF6",
           "caxis": {
            "gridcolor": "white",
            "linecolor": "white",
            "ticks": ""
           }
          },
          "title": {
           "x": 0.05
          },
          "xaxis": {
           "automargin": true,
           "gridcolor": "white",
           "linecolor": "white",
           "ticks": "",
           "title": {
            "standoff": 15
           },
           "zerolinecolor": "white",
           "zerolinewidth": 2
          },
          "yaxis": {
           "automargin": true,
           "gridcolor": "white",
           "linecolor": "white",
           "ticks": "",
           "title": {
            "standoff": 15
           },
           "zerolinecolor": "white",
           "zerolinewidth": 2
          }
         }
        },
        "xaxis": {
         "anchor": "y",
         "domain": [
          0,
          1
         ],
         "title": {
          "text": "Volume"
         }
        },
        "yaxis": {
         "anchor": "x",
         "domain": [
          0,
          1
         ],
         "title": {
          "text": "FD displacement (mm)"
         }
        }
       }
      }
     },
     "metadata": {},
     "output_type": "display_data"
    }
   ],
   "source": [
    "import plotly.express as px\n",
    "\n",
    "fig = px.line(x=list(range(1, fd.size+1)), y=fd, labels={'x': 'Volume', 'y': 'FD displacement (mm)'})\n",
    "fig.add_hline(y=threshold, line_dash=\"dash\", annotation_text=\"FD threshold\", annotation_position=\"bottom right\")\n",
    "fig.show()"
   ]
  },
  {
   "cell_type": "code",
   "execution_count": 47,
   "metadata": {},
   "outputs": [
    {
     "data": {
      "image/png": "[encoded data removed]",
      "text/plain": [
       "<Figure size 640x480 with 1 Axes>"
      ]
     },
     "metadata": {},
     "output_type": "display_data"
    }
   ],
   "source": [
    "#%matplotlib inline\n",
    "plt.plot(list(range(1, fd.size+1)), fd)\n",
    "plt.xlabel('Volume')\n",
    "plt.ylabel('FD displacement (mm)')\n",
    "plt.hlines(threshold, 0, len(fd),colors='black', linestyles='dashed', label='FD threshold')\n",
    "plt.legend()\n",
    "plt.show()"
   ]
  },
  {
   "cell_type": "markdown",
   "metadata": {},
   "source": [
    "Okay great, but what if we want to know which volumes are actually above threshold? Simply run the cell below!"
   ]
  },
  {
   "cell_type": "code",
   "execution_count": 48,
   "metadata": {},
   "outputs": [
    {
     "data": {
      "text/plain": [
       "array([105, 163, 186, 208, 210, 269, 275, 276])"
      ]
     },
     "execution_count": 48,
     "metadata": {},
     "output_type": "execute_result"
    }
   ],
   "source": [
    "np.where(fd > threshold)[0] + 1 "
   ]
  },
  {
   "cell_type": "code",
   "execution_count": 49,
   "metadata": {},
   "outputs": [],
   "source": [
    "#FIXME THERE ARE VOLUMES TO BE REMOVED"
   ]
  },
  {
   "cell_type": "markdown",
   "metadata": {},
   "source": [
    "## Coregistration of functional to anatomical\n",
    "\n",
    "You have seen coregistration last week, when you were trying to align the T1 to MNI152, both manually and algorithmically. In the specific case of putting a T1 anatomical in a template space (such as MNI), we call it <b>normalization</b>, because we...Normalize it !\n",
    "\n",
    "You've also seen above with motion-correction coregistration of EPI volumes (functional data) to each other to correct motion.\n",
    "\n",
    "But what if you wanted to put the functional data overlayed on the anatomy, to know more precisely which parts of the brain are activated? (**coregistration between functional and anatomical**)\n",
    "\n",
    "Computing the fMRI space to anatomical transformation is precisely the goal of coregistration.\n",
    "<br><br>\n",
    "To do this step, we will use : <a href=\"https://web.mit.edu/fsl_v5.0.10/fsl/doc/wiki/FLIRT(2f)UserGuide.html#epi_reg\">epi_reg</a> ! \n",
    "\n",
    "### Using epi_reg to do the EPI registration\n",
    "\n"
   ]
  },
  {
   "cell_type": "markdown",
   "metadata": {},
   "source": [
    "<div class=\"warning\" style='background-color:#C1ECFA; color: #112A46; border-left: solid darkblue 4px; border-radius: 4px; padding:0.7em;'>\n",
    "<span>\n",
    "<p style='margin-top:1em; text-align:center'><b> 💡 Pay attention ! 💡</b></p>\n",
    "<p style='text-indent: 10px;'>\n",
    "    Make sure that the whole head T1 and the skull-stripped T1 have the same orientation.\n",
    "For example, if you ran fsl_anat to extract the brain (which is fine), FSL will change in the headers the orientation of the T1 before skull-stripping. As a consequence, the brain-extracted T1 no longer has the same orientation as the original T1. If you display them on top of each other, they are perfectly matched, but not from the perspective of the <b>headers</b>, which can play nasty tricks on you when performing coregistration.</p>\n",
    "</span>\n",
    "</div>"
   ]
  },
  {
   "cell_type": "markdown",
   "metadata": {},
   "source": [
    "Note that if parallel acceleration is used in the EPI acquisition then the *effective echo spacing* is the actual echo spacing between acquired lines in k-space divided by the acceleration factor."
   ]
  },
  {
   "cell_type": "markdown",
   "metadata": {},
   "source": [
    "epi_reg has one peculiarity. If you launch it on a 4D volume, it will truncate your result to the first volume, because it expects a *single* EPI volume. We should thus first extract a single volume from our EPI, and then call epi_reg on it. We do that for you below.\n",
    "\n",
    "If you want to run with 4D volume to see the result and the warning, set use_single_vol to False"
   ]
  },
  {
   "cell_type": "code",
   "execution_count": 6,
   "metadata": {},
   "outputs": [
    {
     "name": "stderr",
     "output_type": "stream",
     "text": [
      "\n",
      "(ipykernel_launcher.py:67123): Gtk-WARNING **: 15:32:35.772: Negative content width -1 (allocation 1, extents 1x1) while allocating gadget (node spinbutton, owner GtkSpinButton)\n",
      "\n",
      "(ipykernel_launcher.py:67123): Gtk-WARNING **: 15:32:35.772: for_size smaller than min-size (1 < 32) while measuring gadget (node entry, owner GtkSpinButton)\n",
      "\n",
      "(ipykernel_launcher.py:67123): Gtk-WARNING **: 15:32:35.772: for_size smaller than min-size (1 < 16) while measuring gadget (node button, owner GtkSpinButton)\n",
      "\n",
      "(ipykernel_launcher.py:67123): Gtk-WARNING **: 15:32:35.772: for_size smaller than min-size (1 < 16) while measuring gadget (node button, owner GtkSpinButton)\n"
     ]
    }
   ],
   "source": [
    "from fsl.wrappers import epi_reg\n",
    "\n",
    "#################\n",
    "# Solution\n",
    "# We use the motion-corrected EPI\n",
    "##################\n",
    "\n",
    "# Define the path to the motion-corrected EPI (functional) image.\n",
    "epi_target = op.join(preproc_root, 'sub-control01', 'func', 'sub-control01_task-music_concat_bold.nii.gz')\n",
    "\n",
    "# Define the path to the whole (unprocessed) T1-weighted anatomical image.\n",
    "whole_t1 = op.join(bids_root, 'sub-control01', 'anat', 'sub-control01_T1w')\n",
    "\n",
    "# Define the path to the skull-stripped T1-weighted anatomical image.\n",
    "skull_stripped_t1 = op.join(preproc_root, 'sub-control01', 'anat', 'sub-control01_T1w') # ...\n",
    "\n",
    "# Define the path where the output of the epi_reg process will be saved.\n",
    "output_path = op.join(preproc_root, 'sub-control01', 'func', 'sub-control01_task-music_concat_bold_bbr') # ....\n",
    "\n",
    "# Define the path for the middle volume of the motion-corrected EPI file, which will be extracted as a reference.\n",
    "ref_vol_name = op.join(preproc_root, 'sub-control01', 'func', 'sub-control01_task-music_concat_bold_moco_vol_middle') \n"
   ]
  },
  {
   "cell_type": "code",
   "execution_count": 7,
   "metadata": {},
   "outputs": [
    {
     "name": "stdout",
     "output_type": "stream",
     "text": [
      "Running FAST segmentation\n",
      "FLIRT pre-alignment\n",
      "Running BBR\n",
      "0.259556 0.999249 -0.038650 0.002612 0.000000 0.038627 0.999220 0.008267 0.000000 -0.002930 -0.008160 0.999962 0.000000 -4.812857 9.250519 -1.929274 1.000000 \n"
     ]
    },
    {
     "name": "stderr",
     "output_type": "stream",
     "text": [
      "\n",
      "(ipykernel_launcher.py:67123): Gtk-WARNING **: 15:36:20.802: Negative content width -1 (allocation 1, extents 1x1) while allocating gadget (node spinbutton, owner GtkSpinButton)\n",
      "\n",
      "(ipykernel_launcher.py:67123): Gtk-WARNING **: 15:36:20.802: for_size smaller than min-size (1 < 32) while measuring gadget (node entry, owner GtkSpinButton)\n",
      "\n",
      "(ipykernel_launcher.py:67123): Gtk-WARNING **: 15:36:20.802: for_size smaller than min-size (1 < 16) while measuring gadget (node button, owner GtkSpinButton)\n",
      "\n",
      "(ipykernel_launcher.py:67123): Gtk-WARNING **: 15:36:20.802: for_size smaller than min-size (1 < 16) while measuring gadget (node button, owner GtkSpinButton)\n"
     ]
    }
   ],
   "source": [
    "\n",
    "# Set whether to use a single volume as a reference. This can be useful for registration purposes.\n",
    "use_single_vol = True\n",
    "\n",
    "if use_single_vol:\n",
    "    # Extract the middle volume of the EPI image using fslroi. This extracts a single volume from the time series.\n",
    "    # '182' is the index of the middle volume (assuming the total number of volumes is known). # To change \n",
    "    # '1' indicates that only one volume will be extracted.\n",
    "    fslroi(epi_target, ref_vol_name, str(150), str(1))\n",
    "    \n",
    "    # Run epi_reg to register the extracted middle EPI volume to the T1-weighted anatomical image.\n",
    "    subprocess.run([\n",
    "        'epi_reg',\n",
    "        '--epi={}'.format(ref_vol_name),  # The EPI image (middle volume) to be registered.\n",
    "        '--t1={}'.format(whole_t1),       # The whole, non-skull-stripped T1-weighted image.\n",
    "        '--t1brain={}'.format(skull_stripped_t1),  # The skull-stripped T1-weighted image.\n",
    "        '--out={}'.format(output_path)    # The output path where the registered image will be saved.\n",
    "    ])\n",
    "else:\n",
    "    # If not using a single volume, register the entire motion-corrected EPI series to the T1-weighted anatomical image.\n",
    "    subprocess.run([\n",
    "        'epi_reg',\n",
    "        '--epi={}'.format(epi_target),    # The full motion-corrected EPI image (all volumes).\n",
    "        '--t1={}'.format(whole_t1),       # The whole, non-skull-stripped T1-weighted image.\n",
    "        '--t1brain={}'.format(skull_stripped_t1),  # The skull-stripped T1-weighted image.\n",
    "        '--out={}'.format(output_path)    # The output path where the registered image will be saved.\n",
    "    ])\n"
   ]
  },
  {
   "cell_type": "code",
   "execution_count": 8,
   "metadata": {},
   "outputs": [
    {
     "name": "stderr",
     "output_type": "stream",
     "text": [
      "\n",
      "(ipykernel_launcher.py:36937): Gtk-CRITICAL **: 15:08:50.016: gtk_combo_box_text_insert: assertion 'GTK_IS_COMBO_BOX_TEXT (combo_box)' failed\n",
      "\n",
      "(ipykernel_launcher.py:36937): Gtk-CRITICAL **: 15:08:50.042: gtk_combo_box_text_insert: assertion 'GTK_IS_COMBO_BOX_TEXT (combo_box)' failed\n",
      "\n",
      "(ipykernel_launcher.py:36937): Gtk-CRITICAL **: 15:08:50.476: gtk_combo_box_text_insert: assertion 'GTK_IS_COMBO_BOX_TEXT (combo_box)' failed\n",
      "\n",
      "(ipykernel_launcher.py:36937): Gtk-CRITICAL **: 15:08:50.496: gtk_combo_box_text_insert: assertion 'GTK_IS_COMBO_BOX_TEXT (combo_box)' failed\n"
     ]
    },
    {
     "name": "stderr",
     "output_type": "stream",
     "text": [
      "\n",
      "(ipykernel_launcher.py:36937): Gtk-WARNING **: 15:08:50.550: Negative content width -1 (allocation 1, extents 1x1) while allocating gadget (node spinbutton, owner GtkSpinButton)\n",
      "\n",
      "(ipykernel_launcher.py:36937): Gtk-WARNING **: 15:08:50.550: for_size smaller than min-size (1 < 32) while measuring gadget (node entry, owner GtkSpinButton)\n",
      "\n",
      "(ipykernel_launcher.py:36937): Gtk-WARNING **: 15:08:50.550: for_size smaller than min-size (1 < 16) while measuring gadget (node button, owner GtkSpinButton)\n",
      "\n",
      "(ipykernel_launcher.py:36937): Gtk-WARNING **: 15:08:50.550: for_size smaller than min-size (1 < 16) while measuring gadget (node button, owner GtkSpinButton)\n",
      "\n",
      "(ipykernel_launcher.py:36937): Gtk-CRITICAL **: 15:08:55.509: gtk_combo_box_text_insert: assertion 'GTK_IS_COMBO_BOX_TEXT (combo_box)' failed\n",
      "\n",
      "(ipykernel_launcher.py:36937): Gtk-CRITICAL **: 15:08:55.528: gtk_combo_box_text_insert: assertion 'GTK_IS_COMBO_BOX_TEXT (combo_box)' failed\n"
     ]
    }
   ],
   "source": [
    "fsleyesDisplay.resetOverlays()\n",
    "fsleyesDisplay.load(skull_stripped_t1)\n",
    "fsleyesDisplay.load(output_path)"
   ]
  },
  {
   "cell_type": "markdown",
   "metadata": {},
   "source": [
    "Let's overlay the two (EPI and anatomical) on top of each other to visualize the quality of the coregistration!"
   ]
  },
  {
   "cell_type": "code",
   "execution_count": null,
   "metadata": {},
   "outputs": [],
   "source": [
    "fsleyesDisplay.resetOverlays()\n",
    "fsleyesDisplay.load(skull_stripped_t1)\n",
    "fsleyesDisplay.load(output_path)\n"
   ]
  },
  {
   "cell_type": "markdown",
   "metadata": {},
   "source": [
    "- Is the functional in the right orientation?\n",
    "- Are the ventricles correctly aligned?\n",
    "- Are the boundaries of the EPI more or less matching the anatomical?\n",
    "\n",
    "➡️ You can also check how the white matter of the EPI matches your anatomical's white matter provided you have sufficient resolution"
   ]
  },
  {
   "cell_type": "markdown",
   "metadata": {},
   "source": [
    "#### Some cleanup\n",
    "If you have a look, you might notice that perhaps your directory got filled with many files. These are temporary files, created but uncorrectly not eliminated by epi_reg. The following should help:\n"
   ]
  },
  {
   "cell_type": "code",
   "execution_count": null,
   "metadata": {},
   "outputs": [],
   "source": [
    "def cleanup_epi_reg(path_to_clean):\n",
    "    patterns = ['*_fast_*', '*_fieldmap*']\n",
    "    for p in patterns:\n",
    "        files = glob.glob(op.join(path_to_clean, p))\n",
    "        for f in files:\n",
    "            os.remove(f)"
   ]
  },
  {
   "cell_type": "code",
   "execution_count": null,
   "metadata": {},
   "outputs": [],
   "source": [
    "cleanup_epi_reg(op.join(preproc_root, 'sub-control01', 'func'))"
   ]
  },
  {
   "cell_type": "code",
   "execution_count": null,
   "metadata": {},
   "outputs": [],
   "source": [
    "print_dir_tree(bids_root, max_depth=5)"
   ]
  },
  {
   "cell_type": "markdown",
   "metadata": {},
   "source": [
    "#### Smoothing"
   ]
  },
  {
   "cell_type": "markdown",
   "metadata": {},
   "source": [
    "All these transforms are not exactly perfect. As you've seen in class, a step of smoothing is typically applied, with the size of the smoothing being dependent on your application, starting resolution etc.\n",
    "The idea of smoothing is really that, as you're averaging, hopefully you increase the signal to noise ratio. <br>\n",
    "A side-effect is that finest patterns of activation will be lost in the averaging (we can't have everything: there's no free lunch).\n",
    "\n",
    "With FSL, smoothing is rather easy to do. However, one thing which is important is the size of your filter.\n",
    "Different softwares might use different conventions. For MRI, it is typical to talk about FWHM (Full-width at half maximum), expressed in mms.\n",
    "\n",
    "FSL, however, takes as input in sigma instead of FWHM. The conversion is easy fortunately:\n",
    "\n",
    "$$ \\sigma = \\frac{FWHM}{2.3548}$$\n",
    "\n",
    "Here for example would be the smoothing command for 6mm FWHM smoothing:"
   ]
  },
  {
   "cell_type": "code",
   "execution_count": 58,
   "metadata": {},
   "outputs": [
    {
     "data": {
      "text/plain": [
       "CompletedProcess(args=['fslmaths', './data/ds000171/derivatives/preprocessed_data/sub-control01/func/sub-control01_task-music_concat_bold_bbr', '-s', '2.547987090198743', './data/ds000171/derivatives/preprocessed_data/sub-control01/func/sub-control01_task-music_concat_bold_bbr_smoothed-6mm'], returncode=0)"
      ]
     },
     "execution_count": 58,
     "metadata": {},
     "output_type": "execute_result"
    }
   ],
   "source": [
    "# Define the path where the output will be saved (same as input).\n",
    "# output_path = op.join(preproc_root, 'sub-001', 'func', 'sub-001_task-sitrep_run-01_bold_bbr') # ....\n",
    "\n",
    "cmd = 'fslmaths {} -s {} {}_smoothed-6mm'.format(output_path, 6/2.3548, output_path)\n",
    "# This line constructs a command string using 'fslmaths' to apply spatial smoothing to the image.\n",
    "# - 'fslmaths' is the FSL command used for mathematical manipulation of images.\n",
    "# - '{}': Placeholder for 'output_path', which is the path to the image that needs smoothing.\n",
    "# - '-s': This option applies a Gaussian kernel smoothing with a given standard deviation (sigma).\n",
    "# - '6/2.3548': The value (6 mm divided by 2.3548) converts the full width at half maximum (FWHM) to sigma.\n",
    "# - '{}_smoothed-6mm': This specifies the output file name, indicating that it has been smoothed with a 6 mm FWHM kernel.\n",
    "\n",
    "subprocess.run(['fslmaths', output_path, '-s', str(6/2.3548), '{}_smoothed-6mm'.format(output_path)])\n",
    "# This line runs the 'fslmaths' command directly as a subprocess.\n",
    "# - 'fslmaths': The command to manipulate the image.\n",
    "# - 'output_path': The input file path of the image to be smoothed.\n",
    "# - '-s': The option for applying Gaussian smoothing.\n",
    "# - 'str(6/2.3548)': The sigma value calculated by converting the 6 mm FWHM value to standard deviation.\n",
    "# - '{}_smoothed-6mm'.format(output_path)': The output path where the smoothed image will be saved, named with a suffix '_smoothed-6mm'.\n",
    "\n",
    "\n"
   ]
  },
  {
   "cell_type": "markdown",
   "metadata": {},
   "source": [
    "Let's observe what we have now:"
   ]
  },
  {
   "cell_type": "code",
   "execution_count": 59,
   "metadata": {},
   "outputs": [
    {
     "name": "stderr",
     "output_type": "stream",
     "text": [
      "\n",
      "(ipykernel_launcher.py:161839): Gtk-CRITICAL **: 23:47:13.118: gtk_combo_box_text_insert: assertion 'GTK_IS_COMBO_BOX_TEXT (combo_box)' failed\n",
      "\n",
      "(ipykernel_launcher.py:161839): Gtk-CRITICAL **: 23:47:13.140: gtk_combo_box_text_insert: assertion 'GTK_IS_COMBO_BOX_TEXT (combo_box)' failed\n"
     ]
    },
    {
     "name": "stderr",
     "output_type": "stream",
     "text": [
      "\n",
      "(ipykernel_launcher.py:161839): Gtk-CRITICAL **: 23:47:17.026: gtk_combo_box_text_insert: assertion 'GTK_IS_COMBO_BOX_TEXT (combo_box)' failed\n",
      "\n",
      "(ipykernel_launcher.py:161839): Gtk-CRITICAL **: 23:47:17.049: gtk_combo_box_text_insert: assertion 'GTK_IS_COMBO_BOX_TEXT (combo_box)' failed\n",
      "\n",
      "(ipykernel_launcher.py:161839): Gtk-CRITICAL **: 23:50:24.869: gtk_combo_box_text_insert: assertion 'GTK_IS_COMBO_BOX_TEXT (combo_box)' failed\n",
      "\n",
      "(ipykernel_launcher.py:161839): Gtk-CRITICAL **: 23:50:24.891: gtk_combo_box_text_insert: assertion 'GTK_IS_COMBO_BOX_TEXT (combo_box)' failed\n",
      "\n",
      "(ipykernel_launcher.py:161839): Gtk-CRITICAL **: 23:51:21.370: gtk_combo_box_text_insert: assertion 'GTK_IS_COMBO_BOX_TEXT (combo_box)' failed\n",
      "\n",
      "(ipykernel_launcher.py:161839): Gtk-CRITICAL **: 23:51:21.395: gtk_combo_box_text_insert: assertion 'GTK_IS_COMBO_BOX_TEXT (combo_box)' failed\n",
      "\n",
      "(ipykernel_launcher.py:161839): Gtk-CRITICAL **: 00:02:37.046: gtk_combo_box_text_insert: assertion 'GTK_IS_COMBO_BOX_TEXT (combo_box)' failed\n",
      "\n",
      "(ipykernel_launcher.py:161839): Gtk-CRITICAL **: 00:02:37.067: gtk_combo_box_text_insert: assertion 'GTK_IS_COMBO_BOX_TEXT (combo_box)' failed\n"
     ]
    }
   ],
   "source": [
    "fsleyesDisplay.load(output_path + '_smoothed-6mm')"
   ]
  },
  {
   "cell_type": "markdown",
   "metadata": {},
   "source": [
    "Why does it matter? Well, just applying a back-of the envelope calculation, the first method takes 122s per volume, while the second method takes 87 seconds to combine **once** the transforms excluding motion correction, and 4 seconds per volume to apply the transforms including motion correction. If we plot the two with an increasing number of volumes, we can see why this quickly becomes relevant:"
   ]
  },
  {
   "cell_type": "markdown",
   "metadata": {},
   "source": [
    "## Slice correction \n",
    "\n",
    "#### Application to real data\n",
    "\n",
    "We have shown you the basic principle, but the application to real data requires some specific informations.\n",
    "You need the following ingredients:\n",
    "- When was each slice acquired in the sequence: **(Slice timing)**\n",
    "- Along which axis were the slices acquired: **Phase direction**\n",
    "- How much time we take to acquire all slices: **TR**\n"
   ]
  },
  {
   "cell_type": "code",
   "execution_count": null,
   "metadata": {},
   "outputs": [],
   "source": [
    "data = get_json_from_file(op.join(bids_root, 'sub-001', 'func', 'sub-001_task-sitrep_run-01_bold.json'))\n",
    "data"
   ]
  },
  {
   "cell_type": "markdown",
   "metadata": {},
   "source": [
    "This data is actually a dictionary. We can thus extract the slice timing as an array directly from it. For example, to extract TaskName, we would use:\n",
    "```python\n",
    "data['TaskName']\n",
    "```\n",
    "\n"
   ]
  },
  {
   "cell_type": "code",
   "execution_count": null,
   "metadata": {},
   "outputs": [],
   "source": [
    "slice_timing = data['SliceTiming'] # Replace with the appropriate key (have a look above!)"
   ]
  },
  {
   "cell_type": "markdown",
   "metadata": {},
   "source": [
    "Now, we might want to know where our slices are, ie along which axis, right? Typically it is along the z-direction, but we're better off if we check! Using FSLeyes, determine how many slices each axis has **for the functional data of interest**. You should thus open the relevant functional file in FSLeyes to answer this question.\n",
    "\n",
    "\n",
    "<div class=\"warning\" style='background-color:#90EE90; color: #112A46; border-left: solid #805AD5 4px; border-radius: 4px; padding:0.7em;'>\n",
    "<span>\n",
    "<p style='margin-top:1em; text-align:center'><b>Using FSL command line</b></p>\n",
    "<p style='text-indent: 10px;'>To figure out the dimensions of an MRI image, a faster option - if you have FSL installed directly - is to run the command line command:\n",
    "    <blockquote>fslhd [your_volume]</blockquote>\n",
    "This will give you all informations contained within the header of the NIfti file. For example, running the command for our volume will easily allow us to access the slice informations:\n",
    "    <img src=\"imgs/fslhd_capture.png\"></p>\n",
    "</span>\n",
    "</div>\n",
    "Let's compare now with the amount of slices we have in our acquisition. We can consider simply the number of timings for this"
   ]
  },
  {
   "cell_type": "code",
   "execution_count": null,
   "metadata": {},
   "outputs": [],
   "source": [
    "fsleyesDisplay.resetOverlays()\n",
    "fsleyesDisplay.load(op.join(bids_root, 'sub-001', 'func', 'sub-001_task-sitrep_run-01_bold.nii.gz'))"
   ]
  },
  {
   "cell_type": "code",
   "execution_count": null,
   "metadata": {},
   "outputs": [],
   "source": [
    "len(slice_timing)"
   ]
  },
  {
   "cell_type": "markdown",
   "metadata": {},
   "source": [
    "Great, so we know which axis we want, we know the slice timings, but we still need to know the TR. This information is also in the JSON sidecar! Extract it now!"
   ]
  },
  {
   "cell_type": "code",
   "execution_count": null,
   "metadata": {},
   "outputs": [],
   "source": [
    "tr = data['RepetitionTime'] # Extract the TR from the sidecar's appropriate field\n",
    "tr"
   ]
  },
  {
   "cell_type": "markdown",
   "metadata": {},
   "source": [
    "To now perform the correction, we need to apply FSL's slicetimer command. For this, we need to save the timings first to their own separate file! Instead of giving the slice timings, we will provide instead the slice **order** (ie which slice was done in which order) and let FSL figure out how to best correct based on this information.\n",
    "\n",
    "Let's do it."
   ]
  },
  {
   "cell_type": "code",
   "execution_count": null,
   "metadata": {},
   "outputs": [],
   "source": [
    "slice_order = np.argsort(slice_timing) + 1\n",
    "\n",
    "# Write to a file the corresponding sorted timings :)\n",
    "timing_path = op.join(preproc_root,  'sub-001', 'func', 'sub-001_task-sitrep_run-01_slice-timings.txt')\n",
    "file = open(timing_path, mode='w')\n",
    "for t in slice_order:\n",
    "    file.write(str(t) + '\\n')\n",
    "file.close()"
   ]
  },
  {
   "cell_type": "markdown",
   "metadata": {},
   "source": [
    "Finally we can call slicetimer from a terminal!"
   ]
  },
  {
   "cell_type": "code",
   "execution_count": null,
   "metadata": {},
   "outputs": [],
   "source": [
    "file_to_realign = op.join(bids_root, 'sub-001', 'func', 'sub-001_task-sitrep_run-01_bold')\n",
    "output_target = op.join(preproc_root, 'sub-001', 'func', 'sub-001_task-sitrep_run-01_bold_slice-corr')\n",
    "\n",
    "subprocess.run(['slicetimer', '-i', file_to_realign, '-o', output_target, '-r', str(tr), '-d', str(3), '--ocustom={}'.format(timing_path)])\n",
    "#cmd = 'slicetimer -i ' + file_to_realign + ' -o ' + output_target + ' -r ' + str(tr) + ' -d 3 --ocustom=' + timing_path\n",
    "#os.system(cmd)"
   ]
  },
  {
   "cell_type": "code",
   "execution_count": null,
   "metadata": {},
   "outputs": [],
   "source": [
    "fsleyesDisplay.resetOverlays()\n",
    "fsleyesDisplay.load(file_to_realign)\n",
    "fsleyesDisplay.load(output_target)"
   ]
  }
 ],
 "metadata": {
  "kernelspec": {
   "display_name": "base",
   "language": "python",
   "name": "python3"
  },
  "language_info": {
   "codemirror_mode": {
    "name": "ipython",
    "version": 3
   },
   "file_extension": ".py",
   "mimetype": "text/x-python",
   "name": "python",
   "nbconvert_exporter": "python",
   "pygments_lexer": "ipython3",
   "version": "3.11.9"
  }
 },
 "nbformat": 4,
 "nbformat_minor": 2
}
