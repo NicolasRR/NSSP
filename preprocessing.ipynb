{
 "cells": [
  {
   "cell_type": "markdown",
   "metadata": {},
   "source": [
    "# Utilities"
   ]
  },
  {
   "cell_type": "code",
   "execution_count": 1,
   "metadata": {},
   "outputs": [],
   "source": [
    "%gui wx\n",
    "import os\n",
    "from utils import loadFSL, FSLeyesServer, mkdir_no_exist, DownloadProgressBar, download_url, direct_file_download_open_neuro, get_json_from_file\n",
    "os.environ[\"DIPY_HOME\"] = \"./data/\"\n",
    "loadFSL()\n",
    "import fsl.wrappers\n",
    "from fsl.wrappers import fslmaths, mcflirt\n",
    "import mne_nirs\n",
    "import nilearn\n",
    "from nilearn.datasets import fetch_development_fmri\n",
    "import mne\n",
    "import mne_nirs\n",
    "import shutil\n",
    "import dipy\n",
    "from dipy.data import fetch_bundles_2_subjects, read_bundles_2_subjects\n",
    "import xml.etree.ElementTree as ET\n",
    "import os.path as op\n",
    "import nibabel as nib\n",
    "import glob\n",
    "import ants\n",
    "import openneuro\n",
    "from mne.datasets import sample\n",
    "from mne_bids import BIDSPath, read_raw_bids, print_dir_tree, make_report\n",
    "import requests\n",
    "import urllib.request\n",
    "from tqdm import tqdm\n",
    "from fsl.wrappers import fast, bet\n",
    "from fsl.wrappers.misc import fslroi\n",
    "from fsl.wrappers import flirt\n",
    "import glob\n",
    "import pandas as pd\n",
    "import numpy as np\n",
    "import json\n",
    "import subprocess\n",
    "import matplotlib.pyplot as plt\n",
    "import os\n",
    "import sys\n",
    "\n",
    "sys.stderr = open(os.devnull, 'w')\n",
    "os.environ['G_DEBUG'] = 'fatal-warnings'"
   ]
  },
  {
   "cell_type": "code",
   "execution_count": 2,
   "metadata": {},
   "outputs": [],
   "source": [
    "%load_ext autoreload\n",
    "%autoreload 2\n",
    "from utilities import get_skull_stripped_anatomical, apply_python_mask_approach, launch_freeview, fsl_anat_wrapped, load_mot_params_fsl_6_dof, compute_FD_power, apply_transform, combine_all_transforms, normalize_fMRI,run_subprocess, merge_to_mni, smooth_volume, normalize_fMRI_mean_std, normalize_fMRI_minmax"
   ]
  },
  {
   "cell_type": "code",
   "execution_count": 3,
   "metadata": {},
   "outputs": [],
   "source": [
    "%%capture\n",
    "fsleyesDisplay = FSLeyesServer()\n",
    "fsleyesDisplay.show()"
   ]
  },
  {
   "cell_type": "code",
   "execution_count": 4,
   "metadata": {},
   "outputs": [],
   "source": [
    "display = False"
   ]
  },
  {
   "cell_type": "markdown",
   "metadata": {},
   "source": [
    "# Folders"
   ]
  },
  {
   "cell_type": "code",
   "execution_count": 5,
   "metadata": {},
   "outputs": [
    {
     "name": "stderr",
     "output_type": "stream",
     "text": [
      "\n",
      "(ipykernel_launcher.py:340324): Gtk-WARNING **: 20:07:40.679: Negative content width -1 (allocation 1, extents 1x1) while allocating gadget (node spinbutton, owner GtkSpinButton)\n",
      "\n",
      "(ipykernel_launcher.py:340324): Gtk-WARNING **: 20:07:40.679: for_size smaller than min-size (1 < 32) while measuring gadget (node entry, owner GtkSpinButton)\n",
      "\n",
      "(ipykernel_launcher.py:340324): Gtk-WARNING **: 20:07:40.679: for_size smaller than min-size (1 < 16) while measuring gadget (node button, owner GtkSpinButton)\n",
      "\n",
      "(ipykernel_launcher.py:340324): Gtk-WARNING **: 20:07:40.679: for_size smaller than min-size (1 < 16) while measuring gadget (node button, owner GtkSpinButton)\n",
      "\n",
      "(ipykernel_launcher.py:340324): Gtk-WARNING **: 20:07:40.817: Negative content width -1 (allocation 1, extents 1x1) while allocating gadget (node spinbutton, owner GtkSpinButton)\n",
      "\n",
      "(ipykernel_launcher.py:340324): Gtk-WARNING **: 20:07:40.817: for_size smaller than min-size (1 < 32) while measuring gadget (node entry, owner GtkSpinButton)\n",
      "\n",
      "(ipykernel_launcher.py:340324): Gtk-WARNING **: 20:07:40.817: for_size smaller than min-size (1 < 16) while measuring gadget (node button, owner GtkSpinButton)\n",
      "\n",
      "(ipykernel_launcher.py:340324): Gtk-WARNING **: 20:07:40.817: for_size smaller than min-size (1 < 16) while measuring gadget (node button, owner GtkSpinButton)\n"
     ]
    }
   ],
   "source": [
    "dataset_id = 'ds000171' \n",
    "subject_id = 'control01'    \n",
    "sample_path = \"./data/\" \n",
    "os.makedirs(sample_path, exist_ok=True)\n",
    "bids_root = op.join(sample_path, dataset_id)\n",
    "deriv_root = op.join(bids_root, 'derivatives') \n",
    "preproc_root = op.join(bids_root, 'derivatives', 'preprocessed_data') \n",
    "os.makedirs(bids_root, exist_ok=True)\n",
    "subject_dir = 'sub-{}'.format(subject_id)\n",
    "mni_template = op.expandvars(op.join('$FSLDIR', 'data', 'standard', 'MNI152_T1_1mm_brain'))"
   ]
  },
  {
   "cell_type": "code",
   "execution_count": 6,
   "metadata": {},
   "outputs": [],
   "source": [
    "anatomical_path = op.join(bids_root, 'sub-control01', 'anat', 'sub-control01_T1w.nii.gz')\n",
    "betted_brain_path = op.join(preproc_root, 'sub-control01', 'anat', 'sub-control01_T1w.nii.gz') \n",
    "resulting_mask_path = op.join(preproc_root, 'sub-control01', 'anat', 'sub-control01_T1w_mask.nii.gz') \n",
    "segmentation_path = op.join(preproc_root, 'sub-control01', 'anat', 'sub-control01_T1w_fast')\n",
    "mni_template = op.expandvars(op.join('$FSLDIR', 'data', 'standard', 'MNI152_T1_1mm_brain'))\n",
    "flirt_path = op.join(preproc_root, 'sub-{}'.format(subject_id), 'anat', 'sub-{}_T1w_mni'.format(subject_id))\n",
    "flirt_matrix_path = op.join(preproc_root, 'sub-{}'.format(subject_id), 'anat', 'sub-{}_T1w_mni_lin.mat'.format(subject_id))\n",
    "ants_t1_mni_path = op.join(preproc_root, 'sub-{}'.format(subject_id), 'anat', 'sub-{}_T1w_mni_SyN'.format(subject_id))\n",
    "ants_t1_mni_path_warp = ants_t1_mni_path+\"_warp.nii.gz\"\n",
    "\n",
    "\n",
    "functional_concatenated= op.join(preproc_root,\"sub-control01/func\", 'sub-control01_task-music_concat_bold.nii.gz')\n",
    "path_moco_data = op.join(preproc_root, 'sub-control01', 'func', 'sub-control01_task-music_concat_bold_moco')"
   ]
  },
  {
   "cell_type": "markdown",
   "metadata": {},
   "source": [
    "## Download"
   ]
  },
  {
   "cell_type": "code",
   "execution_count": null,
   "metadata": {},
   "outputs": [],
   "source": [
    "%%capture\n",
    "subprocess.run([\"openneuro-py\", \"download\", \"--dataset\", dataset_id, \n",
    "                \"--target-dir\", bids_root, \n",
    "                \"--include\", op.join(subject_dir, '*'),    \n",
    "               ], check=False) \n",
    "os.makedirs(op.join(bids_root, 'derivatives'), exist_ok=True)\n",
    "preproc_root = op.join(bids_root, 'derivatives', 'preprocessed_data') \n",
    "os.makedirs(op.join(preproc_root, subject_dir), exist_ok=True)\n",
    "os.makedirs(op.join(preproc_root, subject_dir, 'anat'), exist_ok=True)\n",
    "os.makedirs(op.join(preproc_root, subject_dir, 'func'), exist_ok=True)\n",
    "os.makedirs(op.join(preproc_root, subject_dir, 'fmap'), exist_ok=True)"
   ]
  },
  {
   "cell_type": "code",
   "execution_count": 9,
   "metadata": {},
   "outputs": [],
   "source": [
    "if display:\n",
    "    fsleyesDisplay.resetOverlays()\n",
    "    fsleyesDisplay.load(op.join(bids_root, 'sub-control01', 'anat', 'sub-control01_T1w.nii.gz')) "
   ]
  },
  {
   "cell_type": "markdown",
   "metadata": {},
   "source": [
    "## Skull stripping"
   ]
  },
  {
   "cell_type": "code",
   "execution_count": 8,
   "metadata": {},
   "outputs": [
    {
     "name": "stdout",
     "output_type": "stream",
     "text": [
      "Done with BET.\n"
     ]
    }
   ],
   "source": [
    "get_skull_stripped_anatomical(bids_root, preproc_root, \"control01\", robust=True)"
   ]
  },
  {
   "cell_type": "code",
   "execution_count": 10,
   "metadata": {},
   "outputs": [],
   "source": [
    "if display:\n",
    "    fsleyesDisplay.resetOverlays()\n",
    "    fsleyesDisplay.load(op.join(bids_root, 'sub-control01', 'anat', 'sub-control01_T1w.nii.gz'))\n",
    "    fsleyesDisplay.load(resulting_mask_path)"
   ]
  },
  {
   "cell_type": "code",
   "execution_count": 11,
   "metadata": {},
   "outputs": [],
   "source": [
    "apply_python_mask_approach(anatomical_path, resulting_mask_path, betted_brain_path)"
   ]
  },
  {
   "cell_type": "code",
   "execution_count": 12,
   "metadata": {},
   "outputs": [],
   "source": [
    "if display:\n",
    "    fsleyesDisplay.resetOverlays()\n",
    "    fsleyesDisplay.load(betted_brain_path)"
   ]
  },
  {
   "cell_type": "markdown",
   "metadata": {},
   "source": [
    "## Tissue segmentation"
   ]
  },
  {
   "cell_type": "code",
   "execution_count": 13,
   "metadata": {},
   "outputs": [],
   "source": [
    "[os.remove(f) for f in glob.glob(op.join(preproc_root, 'sub-control01', 'anat', '*fast*'))]\n",
    "fast(imgs=[betted_brain_path], out=segmentation_path, n_classes=3);"
   ]
  },
  {
   "cell_type": "markdown",
   "metadata": {},
   "source": [
    "Let's check the quality of the segmentation, shall we?\n",
    "We want to extract 3 tissue types here: the white matter, the grey matter and the csf. How well did fast perform?"
   ]
  },
  {
   "cell_type": "code",
   "execution_count": 14,
   "metadata": {},
   "outputs": [
    {
     "name": "stdout",
     "output_type": "stream",
     "text": [
      "|ds000171/\n",
      "|--- CHANGES\n",
      "|--- README\n",
      "|--- dataset_description.json\n",
      "|--- participants.tsv\n",
      "|--- derivatives/\n",
      "|------ preprocessed_data/\n",
      "|--------- sub-control01/\n",
      "|------------ anat/\n",
      "|--------------- sub-control01_T1w.nii.gz\n",
      "|--------------- sub-control01_T1w_fast_mixeltype.nii.gz\n",
      "|--------------- sub-control01_T1w_fast_pve_0.nii.gz\n",
      "|--------------- sub-control01_T1w_fast_pve_1.nii.gz\n",
      "|--------------- sub-control01_T1w_fast_pve_2.nii.gz\n",
      "|--------------- sub-control01_T1w_fast_pveseg.nii.gz\n",
      "|--------------- sub-control01_T1w_fast_seg.nii.gz\n",
      "|--------------- sub-control01_T1w_mask.nii.gz\n",
      "|------------ fmap/\n",
      "|------------ func/\n",
      "|--- sub-control01/\n",
      "|------ anat/\n",
      "|--------- sub-control01_T1w.nii.gz\n",
      "|------ func/\n",
      "|--------- sub-control01_task-music_run-1_bold.nii.gz\n",
      "|--------- sub-control01_task-music_run-1_events.tsv\n",
      "|--------- sub-control01_task-music_run-2_bold.nii.gz\n",
      "|--------- sub-control01_task-music_run-2_events.tsv\n",
      "|--------- sub-control01_task-music_run-3_bold.nii.gz\n",
      "|--------- sub-control01_task-music_run-3_events.tsv\n",
      "|--------- sub-control01_task-nonmusic_run-4_bold.nii.gz\n",
      "|--------- sub-control01_task-nonmusic_run-4_events.tsv\n",
      "|--------- sub-control01_task-nonmusic_run-5_bold.nii.gz\n",
      "|--------- sub-control01_task-nonmusic_run-5_events.tsv\n"
     ]
    }
   ],
   "source": [
    "print_dir_tree(bids_root, max_depth=5)"
   ]
  },
  {
   "cell_type": "markdown",
   "metadata": {},
   "source": [
    "The pve files correspond to our segmented tissues. We have exactly three files, because we set n_classes to 3 above:\n",
    "```python\n",
    "fast(..., n_classes=3)\n"
   ]
  },
  {
   "cell_type": "markdown",
   "metadata": {},
   "source": [
    "Display colors\n",
    "- pve_0 in <span style=\"color:red;\">red</span>\n",
    "- pve_1 in <span style=\"color:green;\">green</span>\n",
    "- pve_2 in <span style=\"color:blue;\">blue</span>"
   ]
  },
  {
   "cell_type": "code",
   "execution_count": 15,
   "metadata": {},
   "outputs": [],
   "source": [
    "if display:\n",
    "    fsleyesDisplay.resetOverlays()\n",
    "    fsleyesDisplay.load(betted_brain_path)\n",
    "    # CSF\n",
    "    fsleyesDisplay.load(glob.glob(op.join(preproc_root, 'sub-control01', 'anat','*pve_0*'))[0])\n",
    "    # GM\n",
    "    fsleyesDisplay.load(glob.glob(op.join(preproc_root, 'sub-control01', 'anat','*pve_1*'))[0])\n",
    "    # WM\n",
    "    fsleyesDisplay.load(glob.glob(op.join(preproc_root, 'sub-control01', 'anat','*pve_2*'))[0])\n",
    "\n",
    "    fsleyesDisplay.displayCtx.getOpts(fsleyesDisplay.overlayList[1]).cmap = 'Red'\n",
    "    fsleyesDisplay.displayCtx.getOpts(fsleyesDisplay.overlayList[2]).cmap = 'Green'\n",
    "    fsleyesDisplay.displayCtx.getOpts(fsleyesDisplay.overlayList[3]).cmap = 'Blue'\n"
   ]
  },
  {
   "cell_type": "markdown",
   "metadata": {},
   "source": [
    "# Coregistration MNI-T1"
   ]
  },
  {
   "cell_type": "markdown",
   "metadata": {},
   "source": [
    "### Linear normalization"
   ]
  },
  {
   "cell_type": "code",
   "execution_count": 16,
   "metadata": {},
   "outputs": [
    {
     "data": {
      "text/plain": [
       "{}"
      ]
     },
     "execution_count": 16,
     "metadata": {},
     "output_type": "execute_result"
    }
   ],
   "source": [
    "flirt(betted_brain_path, mni_template, out=flirt_path, omat = flirt_matrix_path)"
   ]
  },
  {
   "cell_type": "markdown",
   "metadata": {},
   "source": [
    "Visualize the result of flirt on top of the reference. What do you think of alignment?"
   ]
  },
  {
   "cell_type": "code",
   "execution_count": 17,
   "metadata": {},
   "outputs": [],
   "source": [
    "if display:\n",
    "    fsleyesDisplay.resetOverlays()\n",
    "    fsleyesDisplay.load(mni_template) \n",
    "    fsleyesDisplay.load(flirt_path)"
   ]
  },
  {
   "cell_type": "markdown",
   "metadata": {},
   "source": [
    "Which cost should we use? If you were in a pure void, there would be no right or wrong answer from the get-go. No choice but to experiment and find out!\n",
    "\n",
    "Hopefully, <a href=\"https://fsl.fmrib.ox.ac.uk/fsl/docs/#/registration/flirt/user_guide?id=flirt\">the documentation</a> should give you some pointers. What you want here is to register a T1 to a T1: this is a <u>within</u> modality registration, so you should restrict yourself only to costs appropriate to this type of modality! \n",
    "\n",
    "To help you, we've set up a cell that will run the different coregistrations for you. Simply fill in the different costs to consider :)"
   ]
  },
  {
   "cell_type": "code",
   "execution_count": 18,
   "metadata": {},
   "outputs": [],
   "source": [
    "possible_costs = ['mutualinfo', 'corratio', 'normcorr', 'normmi', 'leastsq', 'labeldiff']\n",
    "costs_to_consider = ['leastsq', 'normcorr'] \n",
    "# FIXME: ISSUE WITH THE LEASTSQ COST RESULT"
   ]
  },
  {
   "cell_type": "code",
   "execution_count": 19,
   "metadata": {},
   "outputs": [
    {
     "name": "stdout",
     "output_type": "stream",
     "text": [
      "\n",
      "Final result: \n",
      "3.458371 1.648305 3.627273 -990.534765 \n",
      "-2.861950 1.235282 4.578044 -54.943603 \n",
      "0.433791 -5.372595 2.300280 588.875671 \n",
      "0.000000 0.000000 0.000000 1.000000 \n",
      "\n",
      "\n",
      "Final result: \n",
      "0.003107 0.005315 -1.116440 204.932830 \n",
      "-0.935071 0.500262 0.007008 178.944986 \n",
      "0.501467 1.049276 -0.004127 -149.788866 \n",
      "0.000000 0.000000 0.000000 1.000000 \n",
      "\n"
     ]
    }
   ],
   "source": [
    "for c in costs_to_consider:\n",
    "    flirt(betted_brain_path, mni_template, out=flirt_path + '_' + c, cost=c)"
   ]
  },
  {
   "cell_type": "code",
   "execution_count": 20,
   "metadata": {},
   "outputs": [],
   "source": [
    "if display:\n",
    "    for c in costs_to_consider:\n",
    "        fsleyesDisplay.load(flirt_path + '_' + c)"
   ]
  },
  {
   "cell_type": "markdown",
   "metadata": {},
   "source": [
    "## Non linear normalization"
   ]
  },
  {
   "cell_type": "markdown",
   "metadata": {},
   "source": [
    "*FNIRT does NOT expect the input data to be skull-stripped.*"
   ]
  },
  {
   "cell_type": "code",
   "execution_count": 9,
   "metadata": {},
   "outputs": [],
   "source": [
    "moving_image = ants.image_read(betted_brain_path)\n",
    "fixed_image = ants.image_read(mni_template + '.nii.gz')\n",
    "transformation = ants.registration(fixed=fixed_image, moving=moving_image, type_of_transform='SyN')\n",
    "warpedImage = ants.apply_transforms(fixed=fixed_image, moving=moving_image, transformlist=transformation['fwdtransforms'])\n",
    "ants.image_write(warpedImage, ants_t1_mni_path + '.nii.gz')\n",
    "warp_field = ants.image_read(transformation['fwdtransforms'][0])\n",
    "nifti_warp_field = nib.Nifti1Image(warp_field.numpy(), affine=nib.load(transformation['fwdtransforms'][0]).affine)\n",
    "nib.save(nifti_warp_field, ants_t1_mni_path_warp)"
   ]
  },
  {
   "cell_type": "markdown",
   "metadata": {},
   "source": [
    "Look at the results and compare it against the linear coregistration. Which one do you prefer? Why?"
   ]
  },
  {
   "cell_type": "code",
   "execution_count": 37,
   "metadata": {},
   "outputs": [],
   "source": [
    "if display:\n",
    "\n",
    "    fsleyesDisplay.resetOverlays()\n",
    "    fsleyesDisplay.load(mni_template)\n",
    "    fsleyesDisplay.load(betted_brain_path)\n",
    "    fsleyesDisplay.load(ants_t1_mni_path + '.nii.gz')\n",
    "    fsleyesDisplay.load(ants_t1_mni_path_warp)"
   ]
  },
  {
   "cell_type": "markdown",
   "metadata": {},
   "source": [
    "# Volume removal\n"
   ]
  },
  {
   "cell_type": "code",
   "execution_count": 28,
   "metadata": {},
   "outputs": [],
   "source": [
    "if display:\n",
    "    fsleyesDisplay.resetOverlays()\n",
    "    fsleyesDisplay.load(op.join(bids_root, 'sub-control01', 'func', 'sub-control01_task-music_run-2_bold.nii.gz'))"
   ]
  },
  {
   "cell_type": "markdown",
   "metadata": {},
   "source": [
    "### Field stabilization"
   ]
  },
  {
   "cell_type": "code",
   "execution_count": 29,
   "metadata": {},
   "outputs": [
    {
     "data": {
      "text/plain": [
       "['sub-control01_task-music_run-1_events.tsv',\n",
       " 'sub-control01_task-music_run-2_events.tsv',\n",
       " 'sub-control01_task-music_run-2_bold.nii.gz',\n",
       " 'sub-control01_task-music_run-3_bold.nii.gz',\n",
       " 'sub-control01_task-music_run-1_bold.nii.gz',\n",
       " 'sub-control01_task-music_run-3_events.tsv',\n",
       " 'sub-control01_task-nonmusic_run-4_events.tsv',\n",
       " 'sub-control01_task-nonmusic_run-5_bold.nii.gz',\n",
       " 'sub-control01_task-nonmusic_run-4_bold.nii.gz',\n",
       " 'sub-control01_task-nonmusic_run-5_events.tsv']"
      ]
     },
     "execution_count": 29,
     "metadata": {},
     "output_type": "execute_result"
    }
   ],
   "source": [
    "os.listdir(op.join(bids_root, 'sub-control01', 'func'))"
   ]
  },
  {
   "cell_type": "code",
   "execution_count": 30,
   "metadata": {},
   "outputs": [
    {
     "data": {
      "text/plain": [
       "Text(0, 0.5, 'Mean voxel intensity')"
      ]
     },
     "execution_count": 30,
     "metadata": {},
     "output_type": "execute_result"
    },
    {
     "data": {
      "image/png": "[encoded data removed]",
      "text/plain": [
       "<Figure size 640x480 with 1 Axes>"
      ]
     },
     "metadata": {},
     "output_type": "display_data"
    }
   ],
   "source": [
    "import matplotlib.pyplot as plt\n",
    "import nibabel as nib\n",
    "for run in range(1, 4):\n",
    "    bold_path = op.join(bids_root, 'sub-control01', 'func', 'sub-control01_task-music_run-{}_bold.nii.gz'.format(run))\n",
    "    bold_img = nib.load(bold_path)\n",
    "    bold_data = bold_img.get_fdata()\n",
    "    mean_data = bold_data.mean(axis=(0, 1, 2))\n",
    "    plt.plot(mean_data, label='Run {}'.format(run))\n",
    "plt.legend()\n",
    "plt.xlabel('Time (volume)')\n",
    "plt.ylabel('Mean voxel intensity')"
   ]
  },
  {
   "cell_type": "code",
   "execution_count": 31,
   "metadata": {},
   "outputs": [],
   "source": [
    "import matplotlib.pyplot as plt\n",
    "import nibabel as nib\n"
   ]
  },
  {
   "cell_type": "markdown",
   "metadata": {},
   "source": [
    "<h3>Correction of slice 17 in second run</h3>"
   ]
  },
  {
   "cell_type": "code",
   "execution_count": 32,
   "metadata": {},
   "outputs": [],
   "source": [
    "functional_2_path = op.join(bids_root, 'sub-control01', 'func', 'sub-control01_task-music_run-2_bold.nii.gz')"
   ]
  },
  {
   "cell_type": "code",
   "execution_count": 33,
   "metadata": {},
   "outputs": [],
   "source": [
    "img = nib.load(functional_2_path)\n",
    "data = img.get_fdata()\n",
    "data[:, :, 47, 17] = data[:, :, 46, 17]\n",
    "img_out = nib.Nifti1Image(data,img.affine, img.header)\n",
    "nib.save(img_out, op.join(bids_root, 'sub-control01', 'func', 'sub-control01_task-music_run-2_bold.nii.gz'))"
   ]
  },
  {
   "cell_type": "code",
   "execution_count": 34,
   "metadata": {},
   "outputs": [
    {
     "data": {
      "text/plain": [
       "Text(0, 0.5, 'Mean voxel intensity')"
      ]
     },
     "execution_count": 34,
     "metadata": {},
     "output_type": "execute_result"
    },
    {
     "data": {
      "image/png": "[encoded data removed]",
      "text/plain": [
       "<Figure size 640x480 with 1 Axes>"
      ]
     },
     "metadata": {},
     "output_type": "display_data"
    }
   ],
   "source": [
    "import matplotlib.pyplot as plt\n",
    "import nibabel as nib\n",
    "for run in range(1, 4):\n",
    "    bold_path = op.join(bids_root, 'sub-control01', 'func', 'sub-control01_task-music_run-{}_bold.nii.gz'.format(run))\n",
    "    bold_img = nib.load(bold_path)\n",
    "    bold_data = bold_img.get_fdata()\n",
    "    mean_data = bold_data.mean(axis=(0, 1, 2))\n",
    "    plt.plot(mean_data, label='Run {}'.format(run))\n",
    "plt.legend()\n",
    "plt.xlabel('Time (volume)')\n",
    "plt.ylabel('Mean voxel intensity')"
   ]
  },
  {
   "cell_type": "code",
   "execution_count": 35,
   "metadata": {},
   "outputs": [],
   "source": [
    "for run in range(1, 4):\n",
    "    bold_path = op.join(bids_root, 'sub-control01', 'func', 'sub-control01_task-music_run-{}_bold.nii.gz'.format(run))\n",
    "    out_path = op.join(bids_root, 'sub-control01', 'func', 'sub-control01_task-music_run-{}_bold_norm.nii.gz'.format(run))\n",
    "    normalize_fMRI_mean_std(bold_path, out_path)\n"
   ]
  },
  {
   "cell_type": "code",
   "execution_count": 36,
   "metadata": {},
   "outputs": [
    {
     "data": {
      "image/png": "[encoded data removed]",
      "text/plain": [
       "<Figure size 640x480 with 1 Axes>"
      ]
     },
     "metadata": {},
     "output_type": "display_data"
    }
   ],
   "source": [
    "for run in range(1, 4):\n",
    "    out_path = op.join(bids_root, 'sub-control01', 'func', 'sub-control01_task-music_run-{}_bold_norm.nii.gz'.format(run))\n",
    "    plt.plot(nib.load(out_path).get_fdata().mean(axis=(0,1,2)), label='Run 1')\n",
    "\n",
    "plt.xlabel('Time (volume)')\n",
    "plt.ylabel('Mean voxel intensity')\n",
    "plt.legend()\n",
    "plt.show()"
   ]
  },
  {
   "cell_type": "markdown",
   "metadata": {},
   "source": [
    "<h2>Concatenation of data</h2>"
   ]
  },
  {
   "cell_type": "code",
   "execution_count": 37,
   "metadata": {},
   "outputs": [
    {
     "name": "stdout",
     "output_type": "stream",
     "text": [
      "(80, 80, 50, 105)\n",
      "(80, 80, 50, 105)\n",
      "(80, 80, 50, 105)\n"
     ]
    }
   ],
   "source": [
    "data = []\n",
    "aff = []\n",
    "headers = []\n",
    "for run in range(1, 4):\n",
    "    out_path = op.join(bids_root, 'sub-control01', 'func', 'sub-control01_task-music_run-{}_bold_norm.nii.gz'.format(run))\n",
    "    img = nib.load(out_path)\n",
    "    aff.append(img.affine)\n",
    "    headers.append(img.header)\n",
    "    img = img.get_fdata()\n",
    "    print(img.shape)\n",
    "    data.append(img)\n",
    "data = np.concatenate((data), axis = 3)"
   ]
  },
  {
   "cell_type": "code",
   "execution_count": 38,
   "metadata": {},
   "outputs": [],
   "source": [
    "img_out = nib.Nifti1Image(data,aff[0],headers[0])\n",
    "nib.save(img_out, functional_concatenated)"
   ]
  },
  {
   "cell_type": "code",
   "execution_count": 39,
   "metadata": {},
   "outputs": [],
   "source": [
    "if display:\n",
    "    fsleyesDisplay.resetOverlays()\n",
    "    fsleyesDisplay.load(functional_concatenated)"
   ]
  },
  {
   "cell_type": "markdown",
   "metadata": {},
   "source": [
    "## Motion correction"
   ]
  },
  {
   "cell_type": "code",
   "execution_count": 40,
   "metadata": {},
   "outputs": [
    {
     "name": "stdout",
     "output_type": "stream",
     "text": [
      "refnum = 157\n",
      "Original_refvol = -1\n"
     ]
    },
    {
     "data": {
      "text/plain": [
       "{}"
      ]
     },
     "execution_count": 40,
     "metadata": {},
     "output_type": "execute_result"
    }
   ],
   "source": [
    "mcflirt(\n",
    "    infile=functional_concatenated,  # The input file (original BOLD data)\n",
    "    o=path_moco_data,           # The output file (motion-corrected data)\n",
    "    plots=True,                 # Generate plots for visualizing motion correction.\n",
    "    report=True,                # Generate a report on the motion correction process.\n",
    "    dof=6,                      # Set degrees of freedom to 6 for rigid-body transformation.\n",
    "    mats=True                   # Save the transformation matrices.\n",
    ")"
   ]
  },
  {
   "cell_type": "code",
   "execution_count": 41,
   "metadata": {},
   "outputs": [],
   "source": [
    "if True:\n",
    "    fsleyesDisplay.resetOverlays() \n",
    "    fsleyesDisplay.load(functional_concatenated)\n",
    "    fsleyesDisplay.load(path_moco_data) "
   ]
  },
  {
   "cell_type": "markdown",
   "metadata": {},
   "source": [
    "The motion parameters are stored in the .par file produced by MCFLIRT. Notice that since each volume moved differently, we have one transformation per volume, thus one set of motion parameters per volume as well. We provide you with a way to load these parameters:"
   ]
  },
  {
   "cell_type": "code",
   "execution_count": 42,
   "metadata": {},
   "outputs": [
    {
     "data": {
      "text/html": [
       "<div>\n",
       "<style scoped>\n",
       "    .dataframe tbody tr th:only-of-type {\n",
       "        vertical-align: middle;\n",
       "    }\n",
       "\n",
       "    .dataframe tbody tr th {\n",
       "        vertical-align: top;\n",
       "    }\n",
       "\n",
       "    .dataframe thead th {\n",
       "        text-align: right;\n",
       "    }\n",
       "</style>\n",
       "<table border=\"1\" class=\"dataframe\">\n",
       "  <thead>\n",
       "    <tr style=\"text-align: right;\">\n",
       "      <th></th>\n",
       "      <th>Rotation x</th>\n",
       "      <th>Rotation y</th>\n",
       "      <th>Rotation z</th>\n",
       "      <th>Translation x</th>\n",
       "      <th>Translation y</th>\n",
       "      <th>Translation z</th>\n",
       "    </tr>\n",
       "  </thead>\n",
       "  <tbody>\n",
       "    <tr>\n",
       "      <th>0</th>\n",
       "      <td>-0.003101</td>\n",
       "      <td>0.002890</td>\n",
       "      <td>0.000050</td>\n",
       "      <td>-0.059681</td>\n",
       "      <td>-0.505024</td>\n",
       "      <td>-0.474087</td>\n",
       "    </tr>\n",
       "    <tr>\n",
       "      <th>1</th>\n",
       "      <td>-0.003409</td>\n",
       "      <td>0.002985</td>\n",
       "      <td>-0.000223</td>\n",
       "      <td>-0.075688</td>\n",
       "      <td>-0.496053</td>\n",
       "      <td>-0.468015</td>\n",
       "    </tr>\n",
       "    <tr>\n",
       "      <th>2</th>\n",
       "      <td>-0.003248</td>\n",
       "      <td>0.003255</td>\n",
       "      <td>-0.000007</td>\n",
       "      <td>-0.059906</td>\n",
       "      <td>-0.472818</td>\n",
       "      <td>-0.447025</td>\n",
       "    </tr>\n",
       "    <tr>\n",
       "      <th>3</th>\n",
       "      <td>-0.003113</td>\n",
       "      <td>0.003255</td>\n",
       "      <td>-0.000379</td>\n",
       "      <td>-0.067450</td>\n",
       "      <td>-0.475013</td>\n",
       "      <td>-0.464442</td>\n",
       "    </tr>\n",
       "    <tr>\n",
       "      <th>4</th>\n",
       "      <td>-0.002636</td>\n",
       "      <td>0.003175</td>\n",
       "      <td>-0.000322</td>\n",
       "      <td>-0.075511</td>\n",
       "      <td>-0.468718</td>\n",
       "      <td>-0.497440</td>\n",
       "    </tr>\n",
       "    <tr>\n",
       "      <th>...</th>\n",
       "      <td>...</td>\n",
       "      <td>...</td>\n",
       "      <td>...</td>\n",
       "      <td>...</td>\n",
       "      <td>...</td>\n",
       "      <td>...</td>\n",
       "    </tr>\n",
       "    <tr>\n",
       "      <th>310</th>\n",
       "      <td>0.009093</td>\n",
       "      <td>-0.000049</td>\n",
       "      <td>-0.001989</td>\n",
       "      <td>-0.087196</td>\n",
       "      <td>0.403374</td>\n",
       "      <td>0.240701</td>\n",
       "    </tr>\n",
       "    <tr>\n",
       "      <th>311</th>\n",
       "      <td>0.009021</td>\n",
       "      <td>-0.000006</td>\n",
       "      <td>-0.001911</td>\n",
       "      <td>-0.089705</td>\n",
       "      <td>0.366443</td>\n",
       "      <td>0.218155</td>\n",
       "    </tr>\n",
       "    <tr>\n",
       "      <th>312</th>\n",
       "      <td>0.009277</td>\n",
       "      <td>-0.000406</td>\n",
       "      <td>-0.002078</td>\n",
       "      <td>-0.083098</td>\n",
       "      <td>0.403868</td>\n",
       "      <td>0.225614</td>\n",
       "    </tr>\n",
       "    <tr>\n",
       "      <th>313</th>\n",
       "      <td>0.008966</td>\n",
       "      <td>-0.000457</td>\n",
       "      <td>-0.002099</td>\n",
       "      <td>-0.101778</td>\n",
       "      <td>0.370720</td>\n",
       "      <td>0.213751</td>\n",
       "    </tr>\n",
       "    <tr>\n",
       "      <th>314</th>\n",
       "      <td>0.009085</td>\n",
       "      <td>-0.000463</td>\n",
       "      <td>-0.002521</td>\n",
       "      <td>-0.133864</td>\n",
       "      <td>0.363753</td>\n",
       "      <td>0.209525</td>\n",
       "    </tr>\n",
       "  </tbody>\n",
       "</table>\n",
       "<p>315 rows × 6 columns</p>\n",
       "</div>"
      ],
      "text/plain": [
       "     Rotation x  Rotation y  Rotation z  Translation x  Translation y  \\\n",
       "0     -0.003101    0.002890    0.000050      -0.059681      -0.505024   \n",
       "1     -0.003409    0.002985   -0.000223      -0.075688      -0.496053   \n",
       "2     -0.003248    0.003255   -0.000007      -0.059906      -0.472818   \n",
       "3     -0.003113    0.003255   -0.000379      -0.067450      -0.475013   \n",
       "4     -0.002636    0.003175   -0.000322      -0.075511      -0.468718   \n",
       "..          ...         ...         ...            ...            ...   \n",
       "310    0.009093   -0.000049   -0.001989      -0.087196       0.403374   \n",
       "311    0.009021   -0.000006   -0.001911      -0.089705       0.366443   \n",
       "312    0.009277   -0.000406   -0.002078      -0.083098       0.403868   \n",
       "313    0.008966   -0.000457   -0.002099      -0.101778       0.370720   \n",
       "314    0.009085   -0.000463   -0.002521      -0.133864       0.363753   \n",
       "\n",
       "     Translation z  \n",
       "0        -0.474087  \n",
       "1        -0.468015  \n",
       "2        -0.447025  \n",
       "3        -0.464442  \n",
       "4        -0.497440  \n",
       "..             ...  \n",
       "310       0.240701  \n",
       "311       0.218155  \n",
       "312       0.225614  \n",
       "313       0.213751  \n",
       "314       0.209525  \n",
       "\n",
       "[315 rows x 6 columns]"
      ]
     },
     "execution_count": 42,
     "metadata": {},
     "output_type": "execute_result"
    }
   ],
   "source": [
    "mot_params = load_mot_params_fsl_6_dof(op.join(preproc_root, 'sub-control01', 'func', 'sub-control01_task-music_concat_bold_moco.par')) \n",
    "mot_params"
   ]
  },
  {
   "cell_type": "markdown",
   "metadata": {},
   "source": [
    "Based on **translation on X alone**, can you find perhaps a volume which exceeds with respect to the **preceding volume** a 0.2 mm displacement?"
   ]
  },
  {
   "cell_type": "code",
   "execution_count": 43,
   "metadata": {},
   "outputs": [
    {
     "data": {
      "image/png": "[encoded data removed]",
      "text/plain": [
       "<Figure size 640x480 with 1 Axes>"
      ]
     },
     "metadata": {},
     "output_type": "display_data"
    }
   ],
   "source": [
    "trans_x = mot_params[\"Translation x\"] # Getting the translation on X\n",
    "# Now, we want a 0.2mm with respect to previous frame:\n",
    "disp_x = np.diff(trans_x) # Getting the displacement on X. We use np.diff to calculate the difference between consecutive elements in the translation on X.\n",
    "# Lastly, we can ask for displacements (in absolute value) above 0.2mm and plot it to be clear:\n",
    "threshold=0.2 \n",
    "plt.plot(np.abs(disp_x))\n",
    "plt.hlines(threshold, 0, len(disp_x),colors='black', linestyles='dashed', label='FD threshold')\n",
    "plt.xlabel(\"Volumes\")\n",
    "plt.ylabel(\"Framewise translation displacement (mm)\")\n",
    "plt.show()"
   ]
  },
  {
   "cell_type": "markdown",
   "metadata": {},
   "source": [
    "Now, we can use the code below to extract an aggregate measure of motion for all volumes. "
   ]
  },
  {
   "cell_type": "code",
   "execution_count": 44,
   "metadata": {},
   "outputs": [],
   "source": [
    "fd = compute_FD_power(mot_params).to_numpy()"
   ]
  },
  {
   "cell_type": "code",
   "execution_count": 45,
   "metadata": {},
   "outputs": [],
   "source": [
    "threshold = np.quantile(fd,0.75) + 1.5*(np.quantile(fd,0.75) - np.quantile(fd,0.25))"
   ]
  },
  {
   "cell_type": "code",
   "execution_count": 46,
   "metadata": {},
   "outputs": [
    {
     "data": {
      "application/vnd.plotly.v1+json": {
       "config": {
        "plotlyServerURL": "https://plot.ly"
       },
       "data": [
        {
         "hovertemplate": "Volume=%{x}<br>FD displacement (mm)=%{y}<extra></extra>",
         "legendgroup": "",
         "line": {
          "color": "#636efa",
          "dash": "solid"
         },
         "marker": {
          "symbol": "circle"
         },
         "mode": "lines",
         "name": "",
         "orientation": "v",
         "showlegend": false,
         "type": "scatter",
         "x": [
          1,
          2,
          3,
          4,
          5,
          6,
          7,
          8,
          9,
          10,
          11,
          12,
          13,
          14,
          15,
          16,
          17,
          18,
          19,
          20,
          21,
          22,
          23,
          24,
          25,
          26,
          27,
          28,
          29,
          30,
          31,
          32,
          33,
          34,
          35,
          36,
          37,
          38,
          39,
          40,
          41,
          42,
          43,
          44,
          45,
          46,
          47,
          48,
          49,
          50,
          51,
          52,
          53,
          54,
          55,
          56,
          57,
          58,
          59,
          60,
          61,
          62,
          63,
          64,
          65,
          66,
          67,
          68,
          69,
          70,
          71,
          72,
          73,
          74,
          75,
          76,
          77,
          78,
          79,
          80,
          81,
          82,
          83,
          84,
          85,
          86,
          87,
          88,
          89,
          90,
          91,
          92,
          93,
          94,
          95,
          96,
          97,
          98,
          99,
          100,
          101,
          102,
          103,
          104,
          105,
          106,
          107,
          108,
          109,
          110,
          111,
          112,
          113,
          114,
          115,
          116,
          117,
          118,
          119,
          120,
          121,
          122,
          123,
          124,
          125,
          126,
          127,
          128,
          129,
          130,
          131,
          132,
          133,
          134,
          135,
          136,
          137,
          138,
          139,
          140,
          141,
          142,
          143,
          144,
          145,
          146,
          147,
          148,
          149,
          150,
          151,
          152,
          153,
          154,
          155,
          156,
          157,
          158,
          159,
          160,
          161,
          162,
          163,
          164,
          165,
          166,
          167,
          168,
          169,
          170,
          171,
          172,
          173,
          174,
          175,
          176,
          177,
          178,
          179,
          180,
          181,
          182,
          183,
          184,
          185,
          186,
          187,
          188,
          189,
          190,
          191,
          192,
          193,
          194,
          195,
          196,
          197,
          198,
          199,
          200,
          201,
          202,
          203,
          204,
          205,
          206,
          207,
          208,
          209,
          210,
          211,
          212,
          213,
          214,
          215,
          216,
          217,
          218,
          219,
          220,
          221,
          222,
          223,
          224,
          225,
          226,
          227,
          228,
          229,
          230,
          231,
          232,
          233,
          234,
          235,
          236,
          237,
          238,
          239,
          240,
          241,
          242,
          243,
          244,
          245,
          246,
          247,
          248,
          249,
          250,
          251,
          252,
          253,
          254,
          255,
          256,
          257,
          258,
          259,
          260,
          261,
          262,
          263,
          264,
          265,
          266,
          267,
          268,
          269,
          270,
          271,
          272,
          273,
          274,
          275,
          276,
          277,
          278,
          279,
          280,
          281,
          282,
          283,
          284,
          285,
          286,
          287,
          288,
          289,
          290,
          291,
          292,
          293,
          294,
          295,
          296,
          297,
          298,
          299,
          300,
          301,
          302,
          303,
          304,
          305,
          306,
          307,
          308,
          309,
          310,
          311,
          312,
          313,
          314
         ],
         "xaxis": "x",
         "y": [
          0.06481062999999998,
          0.09237033149999999,
          0.052501731500000016,
          0.07807469999999994,
          0.08008659999999998,
          0.06398764999999997,
          0.08304090499999998,
          0.060136665000000006,
          0.11545296999999997,
          0.06609940000000003,
          0.11241432500000006,
          0.06798482499999998,
          0.09060709999999991,
          0.07297100000000001,
          0.04941629999999999,
          0.03482970000000006,
          0.09372814999999998,
          0.14013970000000003,
          0.10568965000000001,
          0.12285484999999996,
          0.13053074999999992,
          0.05286849999999999,
          0.04355130000000002,
          0.05409680000000003,
          0.07231349999999998,
          0.09676195,
          0.05101059999999996,
          0.05510889999999995,
          0.05796425000000001,
          0.07770004999999996,
          0.06259695000000007,
          0.07179375000000007,
          0.028013899999999932,
          0.038010049999999976,
          0.07376465000000003,
          0.06555939999999998,
          0.1095885,
          0.03774404999999997,
          0.03978010000000003,
          0.0644164,
          0.06619929999999999,
          0.04049944999999996,
          0.0273336,
          0.11559183499999998,
          0.09056048499999997,
          0.03729545499999998,
          0.06697430500000004,
          0.09219730000000001,
          0.07532367499999995,
          0.06971008499999992,
          0.04730796000000004,
          0.05833460000000005,
          0.08652709999999998,
          0.048241350000000016,
          0.0336597,
          0.09146710000000004,
          0.07284339999999992,
          0.03562320000000007,
          0.08968520000000002,
          0.051949699999999946,
          0.07193179999999993,
          0.07543495000000004,
          0.08279015000000003,
          0.07461760000000005,
          0.07185174999999999,
          0.07999895000000001,
          0.05840170000000003,
          0.06757189999999999,
          0.05037365,
          0.06750845,
          0.06216985000000002,
          0.06161979999999997,
          0.049967300000000006,
          0.07150800000000002,
          0.028342899999999935,
          0.13444240000000002,
          0.08783650000000004,
          0.051315299999999966,
          0.13837624999999995,
          0.11175684999999995,
          0.06561120000000002,
          0.04183159999999997,
          0.04453859999999999,
          0.1063606,
          0.08754839999999996,
          0.10387119999999997,
          0.045792650000000004,
          0.052476749999999975,
          0.05015475,
          0.1164014,
          0.05860095000000004,
          0.06307489999999995,
          0.06965155000000006,
          0.04368779999999998,
          0.0522411,
          0.06460045000000006,
          0.058024399999999976,
          0.04986810000000001,
          0.07800734999999999,
          0.09952739999999997,
          0.11349954999999998,
          0.11656559999999999,
          0.07378555,
          0.07860630000000003,
          0.40560452150000004,
          0.12304852150000001,
          0.07088385000000003,
          0.12227040000000002,
          0.052935999999999955,
          0.04765235000000001,
          0.05507630000000001,
          0.06620849999999998,
          0.10810739999999995,
          0.09643739999999996,
          0.06247810000000002,
          0.03628700000000004,
          0.05198996500000003,
          0.035712914999999984,
          0.05259685000000001,
          0.025775185000000037,
          0.10078513500000003,
          0.08486178499999997,
          0.043124150000000014,
          0.06393289999999993,
          0.05021085000000003,
          0.022393699999999968,
          0.03815688500000003,
          0.07692713499999998,
          0.033185950000000033,
          0.08578888499999995,
          0.14005525,
          0.08500273499999998,
          0.07210965999999999,
          0.07588562000000001,
          0.15279442000000004,
          0.095667475,
          0.07242228499999999,
          0.056270635,
          0.06478091,
          0.05762829,
          0.10154015000000002,
          0.085781515,
          0.08874816,
          0.072736455,
          0.0809749,
          0.08232451999999998,
          0.10642772,
          0.0660191883,
          0.0808576283,
          0.07568405,
          0.025143899999999997,
          0.18123926,
          0.18694427000000002,
          0.0681254147,
          0.09941504799999999,
          0.08746284208,
          0.04295794062,
          0.12712093800000002,
          0.08302458799999998,
          0.09256510000000001,
          0.0832455,
          0.0929933,
          0.178735671,
          0.077562879,
          0.16092032,
          0.088721831,
          0.09147855099999999,
          0.10359200000000002,
          0.05743789999999999,
          0.06721795000000001,
          0.023618769999999994,
          0.064626058,
          0.114953878,
          0.07504439999999998,
          0.11709251000000001,
          0.06552426,
          0.0306533,
          0.08873405,
          0.09463105,
          0.027459050000000002,
          0.05326005,
          0.09043195000000001,
          0.07481570000000001,
          0.115218,
          0.14646129000000002,
          0.15218750999999997,
          0.12000204999999999,
          0.08540975000000002,
          0.06408875,
          0.08219312000000001,
          0.16412866999999998,
          0.13027989999999998,
          0.07633654499999999,
          0.09434049,
          0.13042149999999997,
          0.08533735499999998,
          0.09933219999999998,
          0.026191150000000007,
          0.07950457999999999,
          0.16492558,
          0.0810786,
          0.08554900000000001,
          0.06662284999999998,
          0.05792224,
          0.07855778999999999,
          0.05701381999999998,
          0.07267487800000003,
          0.167041152,
          0.04595627999999999,
          0.8249994999999999,
          0.07856055,
          0.050093250000000006,
          0.08478311999999999,
          0.07786660999999999,
          0.08320696,
          0.04793223,
          0.09515596500000002,
          0.07616129999999999,
          0.06077575499999999,
          0.057430690000000006,
          0.04513441000000001,
          0.04863747999999998,
          0.0482285,
          0.055850770000000036,
          0.11587667,
          0.08939373999999997,
          0.10850491000000001,
          0.09542971,
          0.07616405,
          0.08789075,
          0.06690869999999999,
          0.06602275,
          0.05595685000000002,
          0.12771375000000001,
          0.09791745500000001,
          0.08068355500000002,
          0.11984121000000003,
          0.08616251,
          0.08611135,
          0.054148450000000035,
          0.11581400000000006,
          0.09041680000000002,
          0.0504859,
          0.10282474999999999,
          0.06896805000000003,
          0.14636943000000002,
          0.04629603000000001,
          0.03684906999999999,
          0.045575259999999965,
          0.06882652999999997,
          0.04618868,
          0.12090961999999994,
          0.08906346999999995,
          0.12749617000000002,
          0.08223630000000004,
          0.09022790000000001,
          0.06048625000000002,
          0.053181919999999994,
          0.14218358000000003,
          0.10469635000000001,
          0.09595066,
          0.04351283000000003,
          0.08760454000000001,
          0.035299000000000046,
          0.0729854,
          0.09478130000000001,
          0.08649294999999994,
          0.08458665000000001,
          0.21865064999999995,
          0.1037437,
          0.1113381,
          0.10079985000000001,
          0.05600614999999998,
          0.07109810000000003,
          0.23378545000000003,
          0.15644,
          0.04600074999999998,
          0.08972734999999996,
          0.06149099999999998,
          0.05294955000000008,
          0.07783084999999997,
          0.1306569999999999,
          0.07644810000000002,
          0.07332320000000003,
          0.09735914999999992,
          0.09730350000000001,
          0.0693902499999999,
          0.0659150999999999,
          0.12126610000000002,
          0.055445999999999995,
          0.06453149999999999,
          0.07726849999999989,
          0.11825399999999997,
          0.11526769999999996,
          0.14486710000000003,
          0.08203579999999994,
          0.0668958999999999,
          0.043136499999999973,
          0.09222615000000006,
          0.12383005000000005,
          0.10270910000000007,
          0.07003814999999998,
          0.04111745000000001,
          0.10349949999999997,
          0.03774579999999991,
          0.13796345000000007,
          0.11630584999999993,
          0.048805736499999905,
          0.11568701350000003,
          0.12361374000000003,
          0.07165408500000002,
          0.09266267500000006,
          0.08279335000000002,
          0.07065225000000003
         ],
         "yaxis": "y"
        }
       ],
       "layout": {
        "annotations": [
         {
          "showarrow": false,
          "text": "FD threshold",
          "x": 1,
          "xanchor": "right",
          "xref": "x domain",
          "y": 0.156024975,
          "yanchor": "top",
          "yref": "y"
         }
        ],
        "legend": {
         "tracegroupgap": 0
        },
        "margin": {
         "t": 60
        },
        "shapes": [
         {
          "line": {
           "dash": "dash"
          },
          "type": "line",
          "x0": 0,
          "x1": 1,
          "xref": "x domain",
          "y0": 0.156024975,
          "y1": 0.156024975,
          "yref": "y"
         }
        ],
        "template": {
         "data": {
          "bar": [
           {
            "error_x": {
             "color": "#2a3f5f"
            },
            "error_y": {
             "color": "#2a3f5f"
            },
            "marker": {
             "line": {
              "color": "#E5ECF6",
              "width": 0.5
             },
             "pattern": {
              "fillmode": "overlay",
              "size": 10,
              "solidity": 0.2
             }
            },
            "type": "bar"
           }
          ],
          "barpolar": [
           {
            "marker": {
             "line": {
              "color": "#E5ECF6",
              "width": 0.5
             },
             "pattern": {
              "fillmode": "overlay",
              "size": 10,
              "solidity": 0.2
             }
            },
            "type": "barpolar"
           }
          ],
          "carpet": [
           {
            "aaxis": {
             "endlinecolor": "#2a3f5f",
             "gridcolor": "white",
             "linecolor": "white",
             "minorgridcolor": "white",
             "startlinecolor": "#2a3f5f"
            },
            "baxis": {
             "endlinecolor": "#2a3f5f",
             "gridcolor": "white",
             "linecolor": "white",
             "minorgridcolor": "white",
             "startlinecolor": "#2a3f5f"
            },
            "type": "carpet"
           }
          ],
          "choropleth": [
           {
            "colorbar": {
             "outlinewidth": 0,
             "ticks": ""
            },
            "type": "choropleth"
           }
          ],
          "contour": [
           {
            "colorbar": {
             "outlinewidth": 0,
             "ticks": ""
            },
            "colorscale": [
             [
              0,
              "#0d0887"
             ],
             [
              0.1111111111111111,
              "#46039f"
             ],
             [
              0.2222222222222222,
              "#7201a8"
             ],
             [
              0.3333333333333333,
              "#9c179e"
             ],
             [
              0.4444444444444444,
              "#bd3786"
             ],
             [
              0.5555555555555556,
              "#d8576b"
             ],
             [
              0.6666666666666666,
              "#ed7953"
             ],
             [
              0.7777777777777778,
              "#fb9f3a"
             ],
             [
              0.8888888888888888,
              "#fdca26"
             ],
             [
              1,
              "#f0f921"
             ]
            ],
            "type": "contour"
           }
          ],
          "contourcarpet": [
           {
            "colorbar": {
             "outlinewidth": 0,
             "ticks": ""
            },
            "type": "contourcarpet"
           }
          ],
          "heatmap": [
           {
            "colorbar": {
             "outlinewidth": 0,
             "ticks": ""
            },
            "colorscale": [
             [
              0,
              "#0d0887"
             ],
             [
              0.1111111111111111,
              "#46039f"
             ],
             [
              0.2222222222222222,
              "#7201a8"
             ],
             [
              0.3333333333333333,
              "#9c179e"
             ],
             [
              0.4444444444444444,
              "#bd3786"
             ],
             [
              0.5555555555555556,
              "#d8576b"
             ],
             [
              0.6666666666666666,
              "#ed7953"
             ],
             [
              0.7777777777777778,
              "#fb9f3a"
             ],
             [
              0.8888888888888888,
              "#fdca26"
             ],
             [
              1,
              "#f0f921"
             ]
            ],
            "type": "heatmap"
           }
          ],
          "heatmapgl": [
           {
            "colorbar": {
             "outlinewidth": 0,
             "ticks": ""
            },
            "colorscale": [
             [
              0,
              "#0d0887"
             ],
             [
              0.1111111111111111,
              "#46039f"
             ],
             [
              0.2222222222222222,
              "#7201a8"
             ],
             [
              0.3333333333333333,
              "#9c179e"
             ],
             [
              0.4444444444444444,
              "#bd3786"
             ],
             [
              0.5555555555555556,
              "#d8576b"
             ],
             [
              0.6666666666666666,
              "#ed7953"
             ],
             [
              0.7777777777777778,
              "#fb9f3a"
             ],
             [
              0.8888888888888888,
              "#fdca26"
             ],
             [
              1,
              "#f0f921"
             ]
            ],
            "type": "heatmapgl"
           }
          ],
          "histogram": [
           {
            "marker": {
             "pattern": {
              "fillmode": "overlay",
              "size": 10,
              "solidity": 0.2
             }
            },
            "type": "histogram"
           }
          ],
          "histogram2d": [
           {
            "colorbar": {
             "outlinewidth": 0,
             "ticks": ""
            },
            "colorscale": [
             [
              0,
              "#0d0887"
             ],
             [
              0.1111111111111111,
              "#46039f"
             ],
             [
              0.2222222222222222,
              "#7201a8"
             ],
             [
              0.3333333333333333,
              "#9c179e"
             ],
             [
              0.4444444444444444,
              "#bd3786"
             ],
             [
              0.5555555555555556,
              "#d8576b"
             ],
             [
              0.6666666666666666,
              "#ed7953"
             ],
             [
              0.7777777777777778,
              "#fb9f3a"
             ],
             [
              0.8888888888888888,
              "#fdca26"
             ],
             [
              1,
              "#f0f921"
             ]
            ],
            "type": "histogram2d"
           }
          ],
          "histogram2dcontour": [
           {
            "colorbar": {
             "outlinewidth": 0,
             "ticks": ""
            },
            "colorscale": [
             [
              0,
              "#0d0887"
             ],
             [
              0.1111111111111111,
              "#46039f"
             ],
             [
              0.2222222222222222,
              "#7201a8"
             ],
             [
              0.3333333333333333,
              "#9c179e"
             ],
             [
              0.4444444444444444,
              "#bd3786"
             ],
             [
              0.5555555555555556,
              "#d8576b"
             ],
             [
              0.6666666666666666,
              "#ed7953"
             ],
             [
              0.7777777777777778,
              "#fb9f3a"
             ],
             [
              0.8888888888888888,
              "#fdca26"
             ],
             [
              1,
              "#f0f921"
             ]
            ],
            "type": "histogram2dcontour"
           }
          ],
          "mesh3d": [
           {
            "colorbar": {
             "outlinewidth": 0,
             "ticks": ""
            },
            "type": "mesh3d"
           }
          ],
          "parcoords": [
           {
            "line": {
             "colorbar": {
              "outlinewidth": 0,
              "ticks": ""
             }
            },
            "type": "parcoords"
           }
          ],
          "pie": [
           {
            "automargin": true,
            "type": "pie"
           }
          ],
          "scatter": [
           {
            "fillpattern": {
             "fillmode": "overlay",
             "size": 10,
             "solidity": 0.2
            },
            "type": "scatter"
           }
          ],
          "scatter3d": [
           {
            "line": {
             "colorbar": {
              "outlinewidth": 0,
              "ticks": ""
             }
            },
            "marker": {
             "colorbar": {
              "outlinewidth": 0,
              "ticks": ""
             }
            },
            "type": "scatter3d"
           }
          ],
          "scattercarpet": [
           {
            "marker": {
             "colorbar": {
              "outlinewidth": 0,
              "ticks": ""
             }
            },
            "type": "scattercarpet"
           }
          ],
          "scattergeo": [
           {
            "marker": {
             "colorbar": {
              "outlinewidth": 0,
              "ticks": ""
             }
            },
            "type": "scattergeo"
           }
          ],
          "scattergl": [
           {
            "marker": {
             "colorbar": {
              "outlinewidth": 0,
              "ticks": ""
             }
            },
            "type": "scattergl"
           }
          ],
          "scattermapbox": [
           {
            "marker": {
             "colorbar": {
              "outlinewidth": 0,
              "ticks": ""
             }
            },
            "type": "scattermapbox"
           }
          ],
          "scatterpolar": [
           {
            "marker": {
             "colorbar": {
              "outlinewidth": 0,
              "ticks": ""
             }
            },
            "type": "scatterpolar"
           }
          ],
          "scatterpolargl": [
           {
            "marker": {
             "colorbar": {
              "outlinewidth": 0,
              "ticks": ""
             }
            },
            "type": "scatterpolargl"
           }
          ],
          "scatterternary": [
           {
            "marker": {
             "colorbar": {
              "outlinewidth": 0,
              "ticks": ""
             }
            },
            "type": "scatterternary"
           }
          ],
          "surface": [
           {
            "colorbar": {
             "outlinewidth": 0,
             "ticks": ""
            },
            "colorscale": [
             [
              0,
              "#0d0887"
             ],
             [
              0.1111111111111111,
              "#46039f"
             ],
             [
              0.2222222222222222,
              "#7201a8"
             ],
             [
              0.3333333333333333,
              "#9c179e"
             ],
             [
              0.4444444444444444,
              "#bd3786"
             ],
             [
              0.5555555555555556,
              "#d8576b"
             ],
             [
              0.6666666666666666,
              "#ed7953"
             ],
             [
              0.7777777777777778,
              "#fb9f3a"
             ],
             [
              0.8888888888888888,
              "#fdca26"
             ],
             [
              1,
              "#f0f921"
             ]
            ],
            "type": "surface"
           }
          ],
          "table": [
           {
            "cells": {
             "fill": {
              "color": "#EBF0F8"
             },
             "line": {
              "color": "white"
             }
            },
            "header": {
             "fill": {
              "color": "#C8D4E3"
             },
             "line": {
              "color": "white"
             }
            },
            "type": "table"
           }
          ]
         },
         "layout": {
          "annotationdefaults": {
           "arrowcolor": "#2a3f5f",
           "arrowhead": 0,
           "arrowwidth": 1
          },
          "autotypenumbers": "strict",
          "coloraxis": {
           "colorbar": {
            "outlinewidth": 0,
            "ticks": ""
           }
          },
          "colorscale": {
           "diverging": [
            [
             0,
             "#8e0152"
            ],
            [
             0.1,
             "#c51b7d"
            ],
            [
             0.2,
             "#de77ae"
            ],
            [
             0.3,
             "#f1b6da"
            ],
            [
             0.4,
             "#fde0ef"
            ],
            [
             0.5,
             "#f7f7f7"
            ],
            [
             0.6,
             "#e6f5d0"
            ],
            [
             0.7,
             "#b8e186"
            ],
            [
             0.8,
             "#7fbc41"
            ],
            [
             0.9,
             "#4d9221"
            ],
            [
             1,
             "#276419"
            ]
           ],
           "sequential": [
            [
             0,
             "#0d0887"
            ],
            [
             0.1111111111111111,
             "#46039f"
            ],
            [
             0.2222222222222222,
             "#7201a8"
            ],
            [
             0.3333333333333333,
             "#9c179e"
            ],
            [
             0.4444444444444444,
             "#bd3786"
            ],
            [
             0.5555555555555556,
             "#d8576b"
            ],
            [
             0.6666666666666666,
             "#ed7953"
            ],
            [
             0.7777777777777778,
             "#fb9f3a"
            ],
            [
             0.8888888888888888,
             "#fdca26"
            ],
            [
             1,
             "#f0f921"
            ]
           ],
           "sequentialminus": [
            [
             0,
             "#0d0887"
            ],
            [
             0.1111111111111111,
             "#46039f"
            ],
            [
             0.2222222222222222,
             "#7201a8"
            ],
            [
             0.3333333333333333,
             "#9c179e"
            ],
            [
             0.4444444444444444,
             "#bd3786"
            ],
            [
             0.5555555555555556,
             "#d8576b"
            ],
            [
             0.6666666666666666,
             "#ed7953"
            ],
            [
             0.7777777777777778,
             "#fb9f3a"
            ],
            [
             0.8888888888888888,
             "#fdca26"
            ],
            [
             1,
             "#f0f921"
            ]
           ]
          },
          "colorway": [
           "#636efa",
           "#EF553B",
           "#00cc96",
           "#ab63fa",
           "#FFA15A",
           "#19d3f3",
           "#FF6692",
           "#B6E880",
           "#FF97FF",
           "#FECB52"
          ],
          "font": {
           "color": "#2a3f5f"
          },
          "geo": {
           "bgcolor": "white",
           "lakecolor": "white",
           "landcolor": "#E5ECF6",
           "showlakes": true,
           "showland": true,
           "subunitcolor": "white"
          },
          "hoverlabel": {
           "align": "left"
          },
          "hovermode": "closest",
          "mapbox": {
           "style": "light"
          },
          "paper_bgcolor": "white",
          "plot_bgcolor": "#E5ECF6",
          "polar": {
           "angularaxis": {
            "gridcolor": "white",
            "linecolor": "white",
            "ticks": ""
           },
           "bgcolor": "#E5ECF6",
           "radialaxis": {
            "gridcolor": "white",
            "linecolor": "white",
            "ticks": ""
           }
          },
          "scene": {
           "xaxis": {
            "backgroundcolor": "#E5ECF6",
            "gridcolor": "white",
            "gridwidth": 2,
            "linecolor": "white",
            "showbackground": true,
            "ticks": "",
            "zerolinecolor": "white"
           },
           "yaxis": {
            "backgroundcolor": "#E5ECF6",
            "gridcolor": "white",
            "gridwidth": 2,
            "linecolor": "white",
            "showbackground": true,
            "ticks": "",
            "zerolinecolor": "white"
           },
           "zaxis": {
            "backgroundcolor": "#E5ECF6",
            "gridcolor": "white",
            "gridwidth": 2,
            "linecolor": "white",
            "showbackground": true,
            "ticks": "",
            "zerolinecolor": "white"
           }
          },
          "shapedefaults": {
           "line": {
            "color": "#2a3f5f"
           }
          },
          "ternary": {
           "aaxis": {
            "gridcolor": "white",
            "linecolor": "white",
            "ticks": ""
           },
           "baxis": {
            "gridcolor": "white",
            "linecolor": "white",
            "ticks": ""
           },
           "bgcolor": "#E5ECF6",
           "caxis": {
            "gridcolor": "white",
            "linecolor": "white",
            "ticks": ""
           }
          },
          "title": {
           "x": 0.05
          },
          "xaxis": {
           "automargin": true,
           "gridcolor": "white",
           "linecolor": "white",
           "ticks": "",
           "title": {
            "standoff": 15
           },
           "zerolinecolor": "white",
           "zerolinewidth": 2
          },
          "yaxis": {
           "automargin": true,
           "gridcolor": "white",
           "linecolor": "white",
           "ticks": "",
           "title": {
            "standoff": 15
           },
           "zerolinecolor": "white",
           "zerolinewidth": 2
          }
         }
        },
        "xaxis": {
         "anchor": "y",
         "domain": [
          0,
          1
         ],
         "title": {
          "text": "Volume"
         }
        },
        "yaxis": {
         "anchor": "x",
         "domain": [
          0,
          1
         ],
         "title": {
          "text": "FD displacement (mm)"
         }
        }
       }
      }
     },
     "metadata": {},
     "output_type": "display_data"
    }
   ],
   "source": [
    "import plotly.express as px\n",
    "\n",
    "fig = px.line(x=list(range(1, fd.size+1)), y=fd, labels={'x': 'Volume', 'y': 'FD displacement (mm)'})\n",
    "fig.add_hline(y=threshold, line_dash=\"dash\", annotation_text=\"FD threshold\", annotation_position=\"bottom right\")\n",
    "fig.show()"
   ]
  },
  {
   "cell_type": "code",
   "execution_count": 47,
   "metadata": {},
   "outputs": [
    {
     "data": {
      "image/png": "[encoded data removed]",
      "text/plain": [
       "<Figure size 640x480 with 1 Axes>"
      ]
     },
     "metadata": {},
     "output_type": "display_data"
    }
   ],
   "source": [
    "#%matplotlib inline\n",
    "plt.plot(list(range(1, fd.size+1)), fd)\n",
    "plt.xlabel('Volume')\n",
    "plt.ylabel('FD displacement (mm)')\n",
    "plt.hlines(threshold, 0, len(fd),colors='black', linestyles='dashed', label='FD threshold')\n",
    "plt.legend()\n",
    "plt.show()"
   ]
  },
  {
   "cell_type": "markdown",
   "metadata": {},
   "source": [
    "Okay great, but what if we want to know which volumes are actually above threshold? Simply run the cell below!"
   ]
  },
  {
   "cell_type": "code",
   "execution_count": 48,
   "metadata": {},
   "outputs": [
    {
     "data": {
      "text/plain": [
       "array([105, 152, 153, 163, 165, 191, 200, 208, 210, 269, 275, 276])"
      ]
     },
     "execution_count": 48,
     "metadata": {},
     "output_type": "execute_result"
    }
   ],
   "source": [
    "# Volume indices where FD is above the threshold\n",
    "np.where(fd > threshold)[0] + 1 "
   ]
  },
  {
   "cell_type": "code",
   "execution_count": 49,
   "metadata": {},
   "outputs": [],
   "source": [
    "#FIXME THERE ARE VOLUMES TO BE REMOVED"
   ]
  },
  {
   "cell_type": "markdown",
   "metadata": {},
   "source": [
    "# Coregistration of functional to anatomical"
   ]
  },
  {
   "cell_type": "code",
   "execution_count": 8,
   "metadata": {},
   "outputs": [],
   "source": [
    "from fsl.wrappers import epi_reg\n",
    "\n",
    "\n",
    "epi_target = op.join(preproc_root, 'sub-control01', 'func', 'sub-control01_task-music_concat_bold.nii.gz')\n",
    "whole_t1 = op.join(bids_root, 'sub-control01', 'anat', 'sub-control01_T1w')\n",
    "skull_stripped_t1 = op.join(preproc_root, 'sub-control01', 'anat', 'sub-control01_T1w') \n",
    "epi_output_path = op.join(preproc_root, 'sub-control01', 'func', 'sub-control01_task-music_concat_bold_bbr')\n",
    "ref_vol_name = op.join(preproc_root, 'sub-control01', 'func', 'sub-control01_task-music_concat_bold_vol_middle') "
   ]
  },
  {
   "cell_type": "code",
   "execution_count": 51,
   "metadata": {},
   "outputs": [
    {
     "data": {
      "text/plain": [
       "CompletedProcess(args=['fslsplit', './data/ds000171/derivatives/preprocessed_data/sub-control01/func/sub-control01_task-music_concat_bold.nii.gz', './data/ds000171/derivatives/preprocessed_data/sub-control01/func/splits/sub-control01_task-music_concat_bold_split', '-t'], returncode=0)"
      ]
     },
     "execution_count": 51,
     "metadata": {},
     "output_type": "execute_result"
    }
   ],
   "source": [
    "mkdir_no_exist(op.join(preproc_root, 'sub-control01', 'func', 'splits',))\n",
    "split_name = op.join(preproc_root, 'sub-control01', 'func', 'splits','sub-control01_task-music_concat_bold_split')\n",
    "subprocess.run(['fslsplit', epi_target, split_name, '-t'])"
   ]
  },
  {
   "cell_type": "code",
   "execution_count": 52,
   "metadata": {},
   "outputs": [
    {
     "name": "stdout",
     "output_type": "stream",
     "text": [
      "Running FAST segmentation\n",
      "FLIRT pre-alignment\n",
      "Running BBR\n",
      "0.305493 0.999344 -0.035761 -0.005757 0.000000 0.035821 0.999302 0.010628 0.000000 0.005373 -0.010827 0.999927 0.000000 -5.225244 9.054111 -0.793166 1.000000 \n"
     ]
    }
   ],
   "source": [
    "use_single_vol = True\n",
    "\n",
    "if use_single_vol:\n",
    "\n",
    "    fslroi(epi_target, ref_vol_name, str(150), str(1))\n",
    "    \n",
    "    # Run epi_reg to register the extracted middle EPI volume to the T1-weighted anatomical image.\n",
    "    subprocess.run([\n",
    "        'epi_reg',\n",
    "        '--epi={}'.format(ref_vol_name),  # The EPI image (middle volume) to be registered.\n",
    "        '--t1={}'.format(whole_t1),       # The whole, non-skull-stripped T1-weighted image.\n",
    "        '--t1brain={}'.format(skull_stripped_t1),  # The skull-stripped T1-weighted image.\n",
    "        '--out={}'.format(epi_output_path)    # The output path where the registered image will be saved.\n",
    "    ])\n",
    "else:\n",
    "    # If not using a single volume, register the entire motion-corrected EPI series to the T1-weighted anatomical image.\n",
    "    subprocess.run([\n",
    "        'epi_reg',\n",
    "        '--epi={}'.format(epi_target),    # The full motion-corrected EPI image (all volumes).\n",
    "        '--t1={}'.format(whole_t1),       # The whole, non-skull-stripped T1-weighted image.\n",
    "        '--t1brain={}'.format(skull_stripped_t1),  # The skull-stripped T1-weighted image.\n",
    "        '--out={}'.format(epi_output_path),    # The output path where the registered image will be saved.\n",
    "    ])\n"
   ]
  },
  {
   "cell_type": "code",
   "execution_count": 53,
   "metadata": {},
   "outputs": [],
   "source": [
    "if display:\n",
    "\n",
    "    fsleyesDisplay.resetOverlays()\n",
    "    fsleyesDisplay.load(skull_stripped_t1)\n",
    "    fsleyesDisplay.load(epi_output_path)"
   ]
  },
  {
   "cell_type": "code",
   "execution_count": 54,
   "metadata": {},
   "outputs": [
    {
     "data": {
      "text/plain": [
       "CompletedProcess(args=['convertwarp', '--ref=/data/fsl//data/standard/MNI152_T1_1mm_brain', '--premat=./data/ds000171/derivatives/preprocessed_data/sub-control01/func/sub-control01_task-music_concat_bold_bbr.mat', '--postmat=./data/ds000171/derivatives/preprocessed_data/sub-control01/anat/sub-control01_T1w_mni_lin.mat', '--out=./data/ds000171/derivatives/preprocessed_data/sub-control01/func/sub-control01_task-music_concat_bold_bbr_linear_combined_warp.nii.gz'], returncode=0)"
      ]
     },
     "execution_count": 54,
     "metadata": {},
     "output_type": "execute_result"
    }
   ],
   "source": [
    "warp_name_linear = op.join(preproc_root, 'sub-control01', 'func', 'sub-control01_task-music_concat_bold_bbr_linear_combined_warp.nii.gz')\n",
    "subprocess.run([\n",
    "    'convertwarp',\n",
    "    '--ref={}'.format(mni_template),\n",
    "    '--premat={}'.format(epi_output_path+'.mat'),\n",
    "    '--postmat={}'.format(flirt_matrix_path),\n",
    "    '--out={}'.format(warp_name_linear)\n",
    "])    "
   ]
  },
  {
   "cell_type": "code",
   "execution_count": 55,
   "metadata": {},
   "outputs": [
    {
     "data": {
      "text/plain": [
       "{}"
      ]
     },
     "execution_count": 55,
     "metadata": {},
     "output_type": "execute_result"
    }
   ],
   "source": [
    "from fsl.wrappers import applywarp\n",
    "out_vol = \"test.nii.gz\"\n",
    "applywarp(ref_vol_name,mni_template, out_vol, w=warp_name_linear, rel=False)"
   ]
  },
  {
   "cell_type": "code",
   "execution_count": 56,
   "metadata": {},
   "outputs": [],
   "source": [
    "if True:\n",
    "    fsleyesDisplay.resetOverlays()\n",
    "    fsleyesDisplay.load(mni_template)\n",
    "    fsleyesDisplay.load(out_vol)"
   ]
  },
  {
   "cell_type": "code",
   "execution_count": 53,
   "metadata": {},
   "outputs": [],
   "source": [
    "# moving_image = ants.image_read(ref_vol_name+'.nii.gz')\n",
    "# fixed_image = ants.image_read(whole_t1+'.nii.gz')\n",
    "# transformation = ants.registration(\n",
    "#     fixed=fixed_image, \n",
    "#     moving=moving_image, \n",
    "#     type_of_transform='SyN'\n",
    "# )\n",
    "\n",
    "# # Apply the transformation to the moving image\n",
    "# warped_image = ants.apply_transforms(\n",
    "#     fixed=fixed_image, \n",
    "#     moving=moving_image, \n",
    "#     transformlist=transformation['fwdtransforms']\n",
    "# )\n",
    "# resultAnts = op.join(preproc_root, 'sub-control01', 'func', 'sub-control01_task-music_concat_bold_bbr_SyN.nii.gz')\n",
    "# ants.image_write(warped_image, resultAnts)\n",
    "# warp_field_path = op.join(preproc_root, 'sub-control01', 'func', 'sub-control01_task-music_concat_bold_bbr_SyN_warp.nii.gz')\n",
    "# warp_field = ants.image_read(transformation['fwdtransforms'][0])\n",
    "# nifti_warp_field = nib.Nifti1Image(warp_field.numpy(), affine=nib.load(transformation['fwdtransforms'][0]).affine)\n",
    "# nib.save(nifti_warp_field, warp_field_path)"
   ]
  },
  {
   "cell_type": "code",
   "execution_count": 57,
   "metadata": {},
   "outputs": [],
   "source": [
    "fsleyesDisplay.resetOverlays()\n",
    "fsleyesDisplay.load(mni_template)\n",
    "fsleyesDisplay.load(flirt_path)\n",
    "fsleyesDisplay.load(ants_t1_mni_path)\n"
   ]
  },
  {
   "cell_type": "code",
   "execution_count": 58,
   "metadata": {},
   "outputs": [
    {
     "data": {
      "text/plain": [
       "CompletedProcess(args=['convertwarp', '--ref=/data/fsl//data/standard/MNI152_T1_1mm_brain', '--premat=./data/ds000171/derivatives/preprocessed_data/sub-control01/func/sub-control01_task-music_concat_bold_bbr.mat', '--warp1=./data/ds000171/derivatives/preprocessed_data/sub-control01/anat/sub-control01_T1w_mni_SyN_warp.nii.gz', '--out=./data/ds000171/derivatives/preprocessed_data/sub-control01/func/sub-control01_task-music_concat_bold_bbr_SyN_combined_warp.nii.gz'], returncode=0)"
      ]
     },
     "execution_count": 58,
     "metadata": {},
     "output_type": "execute_result"
    }
   ],
   "source": [
    "warp_name_syn = op.join(preproc_root, 'sub-control01', 'func', 'sub-control01_task-music_concat_bold_bbr_SyN_combined_warp.nii.gz')\n",
    "subprocess.run([\n",
    "    'convertwarp',\n",
    "    '--ref={}'.format(mni_template),\n",
    "    '--premat={}'.format(epi_output_path+'.mat'),\n",
    "    '--warp1={}'.format(ants_t1_mni_path_warp),\n",
    "    '--out={}'.format(warp_name_syn)\n",
    "])    "
   ]
  },
  {
   "cell_type": "code",
   "execution_count": 59,
   "metadata": {},
   "outputs": [
    {
     "data": {
      "text/plain": [
       "{}"
      ]
     },
     "execution_count": 59,
     "metadata": {},
     "output_type": "execute_result"
    }
   ],
   "source": [
    "from fsl.wrappers import applywarp\n",
    "out_vol = \"test.nii.gz\"\n",
    "applywarp(ref_vol_name,mni_template, out_vol, w=warp_name_syn, rel=False)"
   ]
  },
  {
   "cell_type": "markdown",
   "metadata": {},
   "source": [
    "Let's overlay the two (EPI and anatomical) on top of each other to visualize the quality of the coregistration!"
   ]
  },
  {
   "cell_type": "code",
   "execution_count": 60,
   "metadata": {},
   "outputs": [],
   "source": [
    "if True:\n",
    "\n",
    "    fsleyesDisplay.resetOverlays()\n",
    "    fsleyesDisplay.load(mni_template)\n",
    "    fsleyesDisplay.load(ants_t1_mni_path)\n",
    "    fsleyesDisplay.load(out_vol)"
   ]
  },
  {
   "cell_type": "code",
   "execution_count": 9,
   "metadata": {},
   "outputs": [],
   "source": [
    "split_std = op.join(preproc_root, 'sub-control01', 'func', 'std')\n",
    "mkdir_no_exist(split_std)\n",
    "# Notice that we are sorting the volumes here! This is important, to make sure we don't get them in random order :)\n",
    "split_dir = op.join(preproc_root, 'sub-control01', 'func', 'splits')\n",
    "split_vols = sorted([op.join(split_dir, f) for f in os.listdir(split_dir)])\n"
   ]
  },
  {
   "cell_type": "code",
   "execution_count": 62,
   "metadata": {},
   "outputs": [],
   "source": [
    "import concurrent.futures\n",
    "from tqdm import tqdm\n",
    "\n",
    "# Initialize ThreadPoolExecutor and the progress bar\n",
    "with concurrent.futures.ThreadPoolExecutor(max_workers=4) as executor:\n",
    "    # Use tqdm to wrap the futures\n",
    "    with tqdm(total=len(split_vols)) as progress:\n",
    "        # Launch subprocesses in parallel\n",
    "        futures = {executor.submit(run_subprocess, preproc_root,mni_template,warp_name_linear, vol,i,): vol for i,vol in enumerate(split_vols)}\n",
    "\n",
    "        # Process completed tasks\n",
    "        for future in concurrent.futures.as_completed(futures):\n",
    "            out_vol, vol_nbr = future.result()  # Get the result of the subprocess\n",
    "            progress.update(1)"
   ]
  },
  {
   "cell_type": "markdown",
   "metadata": {},
   "source": [
    "## Smoothing"
   ]
  },
  {
   "cell_type": "code",
   "execution_count": 10,
   "metadata": {},
   "outputs": [],
   "source": [
    "smooth_folder = op.join(preproc_root, 'sub-control01', 'func', 'smoothed')\n",
    "mkdir_no_exist(smooth_folder)\n",
    "files = sorted([f.replace(\".nii.gz\", \"\") for f in os.listdir(split_std)])"
   ]
  },
  {
   "cell_type": "code",
   "execution_count": 69,
   "metadata": {},
   "outputs": [],
   "source": [
    "import concurrent.futures\n",
    "from tqdm import tqdm\n",
    "\n",
    "\n",
    "# Initialize ThreadPoolExecutor and the progress bar\n",
    "with concurrent.futures.ThreadPoolExecutor(max_workers=4) as executor:\n",
    "    # Use tqdm to wrap the futures\n",
    "    with tqdm(total=len(files)) as progress:\n",
    "        # Launch subprocesses in parallel\n",
    "        futures = [executor.submit(smooth_volume, op.join(split_std,f), op.join(smooth_folder,f)) for f in files]\n",
    "\n",
    "        # Process completed tasks\n",
    "        for future in concurrent.futures.as_completed(futures):\n",
    "            future.result()  # Get the result of the subprocess\n",
    "            progress.update(1)"
   ]
  },
  {
   "cell_type": "markdown",
   "metadata": {},
   "source": [
    "## Merging volumes to fMRI"
   ]
  },
  {
   "cell_type": "code",
   "execution_count": 11,
   "metadata": {},
   "outputs": [],
   "source": [
    "produced_vols = sorted([op.join(smooth_folder, f) for f in os.listdir(smooth_folder)])\n",
    "merged_volumes_path = op.join(preproc_root, 'sub-control01', 'func', 'sub-control01_task-music_concat_bold_moco_bbr_std_smoothed-6mm')"
   ]
  },
  {
   "cell_type": "code",
   "execution_count": 14,
   "metadata": {},
   "outputs": [
    {
     "name": "stdout",
     "output_type": "stream",
     "text": [
      "Starting for batch 1/4\n",
      "Starting for batch 2/4\n",
      "Starting for batch 3/4\n",
      "Starting for batch 4/4\n"
     ]
    }
   ],
   "source": [
    "data_path = merge_to_mni(preproc_root, produced_vols)"
   ]
  },
  {
   "cell_type": "code",
   "execution_count": 7,
   "metadata": {},
   "outputs": [],
   "source": [
    "data_path = op.join(preproc_root, 'sub-control01', 'func', 'sub-control01_task-music_concat_bold_moco_bbr_std.dat')"
   ]
  },
  {
   "cell_type": "code",
   "execution_count": 12,
   "metadata": {},
   "outputs": [],
   "source": [
    "first_vol = nib.load(produced_vols[0])\n",
    "v_shape = first_vol.get_fdata().shape\n",
    "large_array = np.memmap(data_path, dtype=np.float32, mode='r', shape=(v_shape[0],v_shape[1],v_shape[2], len(produced_vols)))\n",
    "\n",
    "header = first_vol.header.copy()  # Copy the header of the first volume (to get right resolution, affine, Q-form etc)\n",
    "affine = first_vol.affine.copy()  # Copy the affine of the first volume\n",
    "header = first_vol.header.copy()  # Copy the header of the first volume (to get right resolution, affine, Q-form etc)\n",
    "del first_vol  # Delete the first volume to free up memory"
   ]
  },
  {
   "cell_type": "code",
   "execution_count": 13,
   "metadata": {},
   "outputs": [],
   "source": [
    "arr = np.array(large_array)"
   ]
  },
  {
   "cell_type": "code",
   "execution_count": 14,
   "metadata": {},
   "outputs": [
    {
     "name": "stdout",
     "output_type": "stream",
     "text": [
      "Done with header\n",
      "Done with image\n"
     ]
    }
   ],
   "source": [
    "\n",
    "header['dim'][0] = 4  # Specifies that this is a 4D dataset\n",
    "header['dim'][1:5] = arr.shape  # Update dimensions (x, y, z, t)\n",
    "header['pixdim'][4] = 3.0  # Set the TR in the 4th dimension. You can see the TR of the data by looking at your original EPI series with fslhd, remember ;)\n",
    "print(\"Done with header\")\n",
    "\n",
    "# Step 3: Create the Nifti1 image and save it to disk\n",
    "img = nib.Nifti1Image(arr, affine, header)\n",
    "print(\"Done with image\")\n",
    "img.to_filename(merged_volumes_path)"
   ]
  },
  {
   "cell_type": "markdown",
   "metadata": {},
   "source": [
    "# Slice correction "
   ]
  },
  {
   "cell_type": "code",
   "execution_count": 17,
   "metadata": {},
   "outputs": [],
   "source": [
    "with open(\"./task-music_bold.json\", 'r') as file:\n",
    "    data = json.load(file)"
   ]
  },
  {
   "cell_type": "code",
   "execution_count": null,
   "metadata": {},
   "outputs": [],
   "source": [
    "slice_timing = data['SliceTiming'] # Replace with the appropriate key (have a look above!)\n",
    "len(slice_timing)"
   ]
  },
  {
   "cell_type": "code",
   "execution_count": 18,
   "metadata": {},
   "outputs": [],
   "source": [
    "# Image shape (80, 80, 50, 105)\n",
    "# Slice timing length 50\n",
    "dimension = 3"
   ]
  },
  {
   "cell_type": "code",
   "execution_count": null,
   "metadata": {},
   "outputs": [],
   "source": [
    "tr = data['RepetitionTime'] # Extract the TR from the sidecar's appropriate field\n",
    "tr"
   ]
  },
  {
   "cell_type": "code",
   "execution_count": null,
   "metadata": {},
   "outputs": [],
   "source": [
    "slice_order = np.argsort(slice_timing) + 1\n",
    "\n",
    "# Write to a file the corresponding sorted timings :)\n",
    "timing_path = op.join(preproc_root, 'sub-control01', 'func', 'sub-control01_task-music_slice-timings.txt')\n",
    "file = open(timing_path, mode='w')\n",
    "for t in slice_order:\n",
    "    file.write(str(t) + '\\n')\n",
    "file.close()"
   ]
  },
  {
   "cell_type": "code",
   "execution_count": null,
   "metadata": {},
   "outputs": [],
   "source": [
    "for run in range(1,4):\n",
    "    file_to_realign = op.join(bids_root, 'sub-control01', 'func',  'sub-control01_task-music_run-{}_bold_norm'.format{run})\n",
    "    output_target = op.join(preproc_root, 'sub-control01', 'func', 'sub-control01_task-music_run-{}_bold_norm_slice-corr'.format{run})\n",
    "\n",
    "    subprocess.run(['slicetimer', '-i', file_to_realign, '-o', output_target, '-r', str(tr), '-d', str(dimension), '--ocustom={}'.format(timing_path)])\n"
   ]
  }
 ],
 "metadata": {
  "kernelspec": {
   "display_name": "base",
   "language": "python",
   "name": "python3"
  },
  "language_info": {
   "codemirror_mode": {
    "name": "ipython",
    "version": 3
   },
   "file_extension": ".py",
   "mimetype": "text/x-python",
   "name": "python",
   "nbconvert_exporter": "python",
   "pygments_lexer": "ipython3",
   "version": "3.11.9"
  }
 },
 "nbformat": 4,
 "nbformat_minor": 2
}
