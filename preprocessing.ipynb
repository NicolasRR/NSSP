{
 "cells": [
  {
   "cell_type": "markdown",
   "metadata": {},
   "source": [
    "# Utilities"
   ]
  },
  {
   "cell_type": "code",
   "execution_count": null,
   "metadata": {},
   "outputs": [],
   "source": [
    "%gui wx\n",
    "import os\n",
    "from utils import loadFSL, FSLeyesServer, mkdir_no_exist, DownloadProgressBar, download_url, direct_file_download_open_neuro, get_json_from_file\n",
    "os.environ[\"DIPY_HOME\"] = \"./data/\"\n",
    "loadFSL()\n",
    "import fsl.wrappers\n",
    "from fsl.wrappers import fslmaths, mcflirt\n",
    "import mne_nirs\n",
    "import nilearn\n",
    "from nilearn.datasets import fetch_development_fmri\n",
    "import mne\n",
    "import mne_nirs\n",
    "import shutil\n",
    "import dipy\n",
    "from dipy.data import fetch_bundles_2_subjects, read_bundles_2_subjects\n",
    "import xml.etree.ElementTree as ET\n",
    "import os.path as op\n",
    "import nibabel as nib\n",
    "import glob\n",
    "import ants\n",
    "import openneuro\n",
    "from mne.datasets import sample\n",
    "from mne_bids import BIDSPath, read_raw_bids, print_dir_tree, make_report\n",
    "import requests\n",
    "import urllib.request\n",
    "from tqdm import tqdm\n",
    "from fsl.wrappers import fast, bet\n",
    "from fsl.wrappers.misc import fslroi\n",
    "from fsl.wrappers import flirt\n",
    "import glob\n",
    "import pandas as pd\n",
    "import numpy as np\n",
    "import json\n",
    "import subprocess\n",
    "import matplotlib.pyplot as plt\n",
    "import os\n",
    "import sys\n",
    "\n",
    "sys.stderr = open(os.devnull, 'w')\n",
    "os.environ['G_DEBUG'] = 'fatal-warnings'"
   ]
  },
  {
   "cell_type": "code",
   "execution_count": 3,
   "metadata": {},
   "outputs": [],
   "source": [
    "%load_ext autoreload\n",
    "%autoreload 2\n",
    "from utilities import get_skull_stripped_anatomical, apply_python_mask_approach, launch_freeview, fsl_anat_wrapped, load_mot_params_fsl_6_dof, compute_FD_power, apply_transform, combine_all_transforms, normalize_fMRI,run_subprocess, merge_to_mni, smooth_volume, normalize_fMRI_mean_std, normalize_fMRI_minmax"
   ]
  },
  {
   "cell_type": "code",
   "execution_count": 4,
   "metadata": {},
   "outputs": [],
   "source": [
    "%%capture\n",
    "fsleyesDisplay = FSLeyesServer()\n",
    "fsleyesDisplay.show()"
   ]
  },
  {
   "cell_type": "code",
   "execution_count": 29,
   "metadata": {},
   "outputs": [],
   "source": [
    "display = True"
   ]
  },
  {
   "cell_type": "code",
   "execution_count": 70,
   "metadata": {},
   "outputs": [],
   "source": [
    "number = 2"
   ]
  },
  {
   "cell_type": "markdown",
   "metadata": {},
   "source": [
    "# Folders"
   ]
  },
  {
   "cell_type": "code",
   "execution_count": 67,
   "metadata": {},
   "outputs": [],
   "source": [
    "dataset_id = 'ds000171' \n",
    "subject_id = f'control0{number}'    \n",
    "sample_path = \"./data/\" \n",
    "os.makedirs(sample_path, exist_ok=True)\n",
    "bids_root = op.join(sample_path, dataset_id)\n",
    "deriv_root = op.join(bids_root, 'derivatives') \n",
    "preproc_root = op.join(bids_root, 'derivatives', 'preprocessed_data') \n",
    "os.makedirs(bids_root, exist_ok=True)\n",
    "subject_dir = 'sub-{}'.format(subject_id)\n",
    "mni_template = op.expandvars(op.join('$FSLDIR', 'data', 'standard', 'MNI152_T1_1mm_brain'))"
   ]
  },
  {
   "cell_type": "code",
   "execution_count": 46,
   "metadata": {},
   "outputs": [],
   "source": [
    "anatomical_path = op.join(bids_root, f'sub-control0{number}', 'anat', f'sub-control0{number}_T1w.nii.gz')\n",
    "betted_brain_path = op.join(preproc_root, f'sub-control0{number}', 'anat', f'sub-control0{number}_T1w.nii.gz') \n",
    "resulting_mask_path = op.join(preproc_root, f'sub-control0{number}', 'anat', f'sub-control0{number}_T1w_mask.nii.gz') \n",
    "segmentation_path = op.join(preproc_root, f'sub-control0{number}', 'anat', f'sub-control0{number}_T1w_fast')\n",
    "mni_template = op.expandvars(op.join('$FSLDIR', 'data', 'standard', 'MNI152_T1_1mm_brain'))\n",
    "flirt_path = op.join(preproc_root, 'sub-{}'.format(subject_id), 'anat', 'sub-{}_T1w_mni'.format(subject_id))\n",
    "flirt_matrix_path = op.join(preproc_root, 'sub-{}'.format(subject_id), 'anat', 'sub-{}_T1w_mni_lin.mat'.format(subject_id))\n",
    "ants_t1_mni_path = op.join(preproc_root, 'sub-{}'.format(subject_id), 'anat', 'sub-{}_T1w_mni_SyN'.format(subject_id))\n",
    "ants_t1_mni_path_warp = ants_t1_mni_path+\"_warp.nii.gz\"\n",
    "\n",
    "\n",
    "functional_concatenated= op.join(preproc_root,f\"sub-control0{number}/func\", f'sub-control0{number}_task-music_concat_bold.nii.gz')\n",
    "path_moco_data = op.join(preproc_root, f'sub-control0{number}', 'func', f'sub-control0{number}_task-music_concat_bold_moco')"
   ]
  },
  {
   "cell_type": "markdown",
   "metadata": {},
   "source": [
    "## Download"
   ]
  },
  {
   "cell_type": "code",
   "execution_count": 24,
   "metadata": {},
   "outputs": [
    {
     "name": "stdout",
     "output_type": "stream",
     "text": [
      "\n",
      "👋 Hello! This is openneuro-py 2024.2.0. Great to see you! 🤗\n",
      "\n",
      "   👉 Please report problems 🤯 and bugs 🪲 at\n",
      "      https://github.com/hoechenberger/openneuro-py/issues\n",
      "\n",
      "🌍 Preparing to download ds000171 …\n",
      "Cannot determine local revision of the dataset, and the target directory is not empty. If the download fails, you may want to try again with a fresh (empty) target directory.\n",
      "  Request timed out while fetching metadata, retrying …\n",
      "  Request timed out while fetching metadata, retrying …\n",
      "📥 Retrieving up to 15 files (5 concurrent downloads). \n",
      "✅ Finished downloading ds000171.\n",
      " \n",
      "🧠 Please enjoy your brains.\n",
      " \n"
     ]
    }
   ],
   "source": [
    "%%capture\n",
    "subprocess.run([\"openneuro-py\", \"download\", \"--dataset\", dataset_id, \n",
    "                \"--target-dir\", bids_root, \n",
    "                \"--include\", op.join(subject_dir, '*'),    \n",
    "               ], check=False) \n",
    "os.makedirs(op.join(bids_root, 'derivatives'), exist_ok=True)\n",
    "preproc_root = op.join(bids_root, 'derivatives', 'preprocessed_data') \n",
    "os.makedirs(op.join(preproc_root, subject_dir), exist_ok=True)\n",
    "os.makedirs(op.join(preproc_root, subject_dir, 'anat'), exist_ok=True)\n",
    "os.makedirs(op.join(preproc_root, subject_dir, 'func'), exist_ok=True)\n",
    "os.makedirs(op.join(preproc_root, subject_dir, 'fmap'), exist_ok=True)"
   ]
  },
  {
   "cell_type": "code",
   "execution_count": 30,
   "metadata": {},
   "outputs": [],
   "source": [
    "if display:\n",
    "    fsleyesDisplay.resetOverlays()\n",
    "    fsleyesDisplay.load(anatomical_path) "
   ]
  },
  {
   "cell_type": "markdown",
   "metadata": {},
   "source": [
    "## Skull stripping"
   ]
  },
  {
   "cell_type": "code",
   "execution_count": 32,
   "metadata": {},
   "outputs": [
    {
     "name": "stdout",
     "output_type": "stream",
     "text": [
      "Done with BET.\n"
     ]
    }
   ],
   "source": [
    "get_skull_stripped_anatomical(bids_root, preproc_root, \"control02\", robust=True)"
   ]
  },
  {
   "cell_type": "code",
   "execution_count": 34,
   "metadata": {},
   "outputs": [],
   "source": [
    "if display:\n",
    "    fsleyesDisplay.resetOverlays()\n",
    "    fsleyesDisplay.load(anatomical_path)\n",
    "    fsleyesDisplay.load(resulting_mask_path)"
   ]
  },
  {
   "cell_type": "code",
   "execution_count": 35,
   "metadata": {},
   "outputs": [],
   "source": [
    "apply_python_mask_approach(anatomical_path, resulting_mask_path, betted_brain_path)"
   ]
  },
  {
   "cell_type": "code",
   "execution_count": 36,
   "metadata": {},
   "outputs": [],
   "source": [
    "if display:\n",
    "    fsleyesDisplay.resetOverlays()\n",
    "    fsleyesDisplay.load(betted_brain_path)"
   ]
  },
  {
   "cell_type": "markdown",
   "metadata": {},
   "source": [
    "## Tissue segmentation"
   ]
  },
  {
   "cell_type": "code",
   "execution_count": 37,
   "metadata": {},
   "outputs": [],
   "source": [
    "[os.remove(f) for f in glob.glob(op.join(preproc_root, 'sub-control02', 'anat', '*fast*'))]\n",
    "fast(imgs=[betted_brain_path], out=segmentation_path, n_classes=3);"
   ]
  },
  {
   "cell_type": "markdown",
   "metadata": {},
   "source": [
    "Let's check the quality of the segmentation, shall we?\n",
    "We want to extract 3 tissue types here: the white matter, the grey matter and the csf. How well did fast perform?"
   ]
  },
  {
   "cell_type": "code",
   "execution_count": 68,
   "metadata": {},
   "outputs": [
    {
     "name": "stdout",
     "output_type": "stream",
     "text": [
      "|ds000171/\n",
      "|--- CHANGES\n",
      "|--- README\n",
      "|--- dataset_description.json\n",
      "|--- participants.tsv\n",
      "|--- derivatives/\n",
      "|------ preprocessed_data/\n",
      "|--------- sub-control01/\n",
      "|------------ anat/\n",
      "|--------------- sub-control01_T1w.nii.gz\n",
      "|--------------- sub-control01_T1w_fast_mixeltype.nii.gz\n",
      "|--------------- sub-control01_T1w_fast_pve_0.nii.gz\n",
      "|--------------- sub-control01_T1w_fast_pve_1.nii.gz\n",
      "|--------------- sub-control01_T1w_fast_pve_2.nii.gz\n",
      "|--------------- sub-control01_T1w_fast_pveseg.nii.gz\n",
      "|--------------- sub-control01_T1w_fast_seg.nii.gz\n",
      "|--------------- sub-control01_T1w_mask.nii.gz\n",
      "|--------------- sub-control01_T1w_mni.nii.gz\n",
      "|--------------- sub-control01_T1w_mni_SyN.nii.gz\n",
      "|--------------- sub-control01_T1w_mni_SyN_warp.nii.gz\n",
      "|--------------- sub-control01_T1w_mni_leastsq.nii.gz\n",
      "|--------------- sub-control01_T1w_mni_lin.mat\n",
      "|--------------- sub-control01_T1w_mni_normcorr.nii.gz\n",
      "|------------ fmap/\n",
      "|------------ func/\n",
      "|--------------- sub-control01_task-music_concat_bold.nii.gz\n",
      "|--------------- sub-control01_task-music_concat_bold_bbr.mat\n",
      "|--------------- sub-control01_task-music_concat_bold_bbr.nii.gz\n",
      "|--------------- sub-control01_task-music_concat_bold_bbr_SyN_combined_warp.nii.gz\n",
      "|--------------- sub-control01_task-music_concat_bold_bbr_fast_wmedge.nii.gz\n",
      "|--------------- sub-control01_task-music_concat_bold_bbr_fast_wmseg.nii.gz\n",
      "|--------------- sub-control01_task-music_concat_bold_bbr_init.mat\n",
      "|--------------- sub-control01_task-music_concat_bold_bbr_linear_combined_warp.nii.gz\n",
      "|--------------- sub-control01_task-music_concat_bold_moco.nii.gz\n",
      "|--------------- sub-control01_task-music_concat_bold_moco.par\n",
      "|--------------- sub-control01_task-music_concat_bold_moco_bbr_std.dat\n",
      "|--------------- sub-control01_task-music_concat_bold_moco_bbr_std_smoothed-6mm.nii.gz\n",
      "|--------------- sub-control01_task-music_concat_bold_vol_middle.nii.gz\n",
      "|--------------- smoothed/\n",
      "|--------------- splits/\n",
      "|--------------- std/\n",
      "|--------------- sub-control01_task-music_concat_bold_moco.mat/\n",
      "|--------- sub-control02/\n",
      "|------------ anat/\n",
      "|--------------- sub-control02_T1w.nii.gz\n",
      "|--------------- sub-control02_T1w_fast_mixeltype.nii.gz\n",
      "|--------------- sub-control02_T1w_fast_pve_0.nii.gz\n",
      "|--------------- sub-control02_T1w_fast_pve_1.nii.gz\n",
      "|--------------- sub-control02_T1w_fast_pve_2.nii.gz\n",
      "|--------------- sub-control02_T1w_fast_pveseg.nii.gz\n",
      "|--------------- sub-control02_T1w_fast_seg.nii.gz\n",
      "|--------------- sub-control02_T1w_mask.nii.gz\n",
      "|--------------- sub-control02_T1w_mni.nii.gz\n",
      "|--------------- sub-control02_T1w_mni_lin.mat\n",
      "|------------ fmap/\n",
      "|------------ func/\n",
      "|--------------- sub-control02_task-music_concat_bold.nii.gz\n",
      "|--------------- sub-control02_task-music_concat_bold_moco.nii.gz\n",
      "|--------------- sub-control02_task-music_concat_bold_moco.par\n",
      "|--------------- sub-control02_task-music_concat_bold_moco.mat/\n",
      "|--------- sub-control03/\n",
      "|------------ anat/\n",
      "|------------ fmap/\n",
      "|------------ func/\n",
      "|--------- sub-control04/\n",
      "|------------ anat/\n",
      "|------------ fmap/\n",
      "|------------ func/\n",
      "|--------- sub-control05/\n",
      "|------------ anat/\n",
      "|------------ fmap/\n",
      "|------------ func/\n",
      "|--- sub-control01/\n",
      "|------ anat/\n",
      "|--------- sub-control01_T1w.nii.gz\n",
      "|------ func/\n",
      "|--------- sub-control01_task-music_run-1_bold.nii.gz\n",
      "|--------- sub-control01_task-music_run-1_bold_norm.nii.gz\n",
      "|--------- sub-control01_task-music_run-1_events.tsv\n",
      "|--------- sub-control01_task-music_run-2_bold.nii.gz\n",
      "|--------- sub-control01_task-music_run-2_bold_norm.nii.gz\n",
      "|--------- sub-control01_task-music_run-2_events.tsv\n",
      "|--------- sub-control01_task-music_run-3_bold.nii.gz\n",
      "|--------- sub-control01_task-music_run-3_bold_norm.nii.gz\n",
      "|--------- sub-control01_task-music_run-3_events.tsv\n",
      "|--------- sub-control01_task-nonmusic_run-4_bold.nii.gz\n",
      "|--------- sub-control01_task-nonmusic_run-4_events.tsv\n",
      "|--------- sub-control01_task-nonmusic_run-5_bold.nii.gz\n",
      "|--------- sub-control01_task-nonmusic_run-5_events.tsv\n",
      "|--- sub-control02/\n",
      "|------ anat/\n",
      "|--------- sub-control02_T1w.nii.gz\n",
      "|------ func/\n",
      "|--------- sub-control02_task-music_run-1_bold.nii.gz\n",
      "|--------- sub-control02_task-music_run-1_bold_norm.nii.gz\n",
      "|--------- sub-control02_task-music_run-1_events.tsv\n",
      "|--------- sub-control02_task-music_run-2_bold.nii.gz\n",
      "|--------- sub-control02_task-music_run-2_bold_norm.nii.gz\n",
      "|--------- sub-control02_task-music_run-2_events.tsv\n",
      "|--------- sub-control02_task-music_run-3_bold.nii.gz\n",
      "|--------- sub-control02_task-music_run-3_bold_norm.nii.gz\n",
      "|--------- sub-control02_task-music_run-3_events.tsv\n",
      "|--------- sub-control02_task-nonmusic_run-4_bold.nii.gz\n",
      "|--------- sub-control02_task-nonmusic_run-4_events.tsv\n",
      "|--------- sub-control02_task-nonmusic_run-5_bold.nii.gz\n",
      "|--------- sub-control02_task-nonmusic_run-5_events.tsv\n",
      "|--- sub-control03/\n",
      "|------ anat/\n",
      "|--------- sub-control03_T1w.nii.gz\n",
      "|------ func/\n",
      "|--------- sub-control03_task-music_run-3_bold.nii.gz\n",
      "|--------- sub-control03_task-music_run-3_events.tsv\n",
      "|--------- sub-control03_task-music_run-4_bold.nii.gz\n",
      "|--------- sub-control03_task-music_run-4_events.tsv\n",
      "|--------- sub-control03_task-music_run-5_bold.nii.gz\n",
      "|--------- sub-control03_task-music_run-5_events.tsv\n",
      "|--------- sub-control03_task-nonmusic_run-1_bold.nii.gz\n",
      "|--------- sub-control03_task-nonmusic_run-1_events.tsv\n",
      "|--------- sub-control03_task-nonmusic_run-2_bold.nii.gz\n",
      "|--------- sub-control03_task-nonmusic_run-2_events.tsv\n",
      "|--- sub-control04/\n",
      "|------ anat/\n",
      "|--------- sub-control04_T1w.nii.gz\n",
      "|------ func/\n",
      "|--------- sub-control04_task-music_run-3_bold.nii.gz\n",
      "|--------- sub-control04_task-music_run-3_events.tsv\n",
      "|--------- sub-control04_task-music_run-4_bold.nii.gz\n",
      "|--------- sub-control04_task-music_run-4_events.tsv\n",
      "|--------- sub-control04_task-music_run-5_bold.nii.gz\n",
      "|--------- sub-control04_task-music_run-5_events.tsv\n",
      "|--------- sub-control04_task-nonmusic_run-1_bold.nii.gz\n",
      "|--------- sub-control04_task-nonmusic_run-1_events.tsv\n",
      "|--------- sub-control04_task-nonmusic_run-2_bold.nii.gz\n",
      "|--------- sub-control04_task-nonmusic_run-2_events.tsv\n",
      "|--- sub-control05/\n",
      "|------ anat/\n",
      "|--------- sub-control05_T1w.nii.gz\n",
      "|------ func/\n",
      "|--------- sub-control05_task-music_run-3_bold.nii.gz\n",
      "|--------- sub-control05_task-music_run-3_events.tsv\n",
      "|--------- sub-control05_task-music_run-4_bold.nii.gz\n",
      "|--------- sub-control05_task-music_run-4_events.tsv\n",
      "|--------- sub-control05_task-music_run-5_bold.nii.gz\n",
      "|--------- sub-control05_task-music_run-5_events.tsv\n",
      "|--------- sub-control05_task-nonmusic_run-1_bold.nii.gz\n",
      "|--------- sub-control05_task-nonmusic_run-1_events.tsv\n",
      "|--------- sub-control05_task-nonmusic_run-2_bold.nii.gz\n",
      "|--------- sub-control05_task-nonmusic_run-2_events.tsv\n"
     ]
    }
   ],
   "source": [
    "print_dir_tree(bids_root, max_depth=5)"
   ]
  },
  {
   "cell_type": "markdown",
   "metadata": {},
   "source": [
    "The pve files correspond to our segmented tissues. We have exactly three files, because we set n_classes to 3 above:\n",
    "```python\n",
    "fast(..., n_classes=3)\n"
   ]
  },
  {
   "cell_type": "markdown",
   "metadata": {},
   "source": [
    "Display colors\n",
    "- pve_0 in <span style=\"color:red;\">red</span>\n",
    "- pve_1 in <span style=\"color:green;\">green</span>\n",
    "- pve_2 in <span style=\"color:blue;\">blue</span>"
   ]
  },
  {
   "cell_type": "code",
   "execution_count": 15,
   "metadata": {},
   "outputs": [],
   "source": [
    "if display:\n",
    "    fsleyesDisplay.resetOverlays()\n",
    "    fsleyesDisplay.load(betted_brain_path)\n",
    "    # CSF\n",
    "    fsleyesDisplay.load(glob.glob(op.join(preproc_root, 'sub-control01', 'anat','*pve_0*'))[0])\n",
    "    # GM\n",
    "    fsleyesDisplay.load(glob.glob(op.join(preproc_root, 'sub-control01', 'anat','*pve_1*'))[0])\n",
    "    # WM\n",
    "    fsleyesDisplay.load(glob.glob(op.join(preproc_root, 'sub-control01', 'anat','*pve_2*'))[0])\n",
    "\n",
    "    fsleyesDisplay.displayCtx.getOpts(fsleyesDisplay.overlayList[1]).cmap = 'Red'\n",
    "    fsleyesDisplay.displayCtx.getOpts(fsleyesDisplay.overlayList[2]).cmap = 'Green'\n",
    "    fsleyesDisplay.displayCtx.getOpts(fsleyesDisplay.overlayList[3]).cmap = 'Blue'\n"
   ]
  },
  {
   "cell_type": "markdown",
   "metadata": {},
   "source": [
    "# Coregistration MNI-T1"
   ]
  },
  {
   "cell_type": "markdown",
   "metadata": {},
   "source": [
    "### Linear normalization"
   ]
  },
  {
   "cell_type": "code",
   "execution_count": 39,
   "metadata": {},
   "outputs": [
    {
     "data": {
      "text/plain": [
       "{}"
      ]
     },
     "execution_count": 39,
     "metadata": {},
     "output_type": "execute_result"
    }
   ],
   "source": [
    "flirt(betted_brain_path, mni_template, out=flirt_path, omat = flirt_matrix_path)"
   ]
  },
  {
   "cell_type": "markdown",
   "metadata": {},
   "source": [
    "Visualize the result of flirt on top of the reference. What do you think of alignment?"
   ]
  },
  {
   "cell_type": "code",
   "execution_count": 40,
   "metadata": {},
   "outputs": [],
   "source": [
    "if display:\n",
    "    fsleyesDisplay.resetOverlays()\n",
    "    fsleyesDisplay.load(mni_template) \n",
    "    fsleyesDisplay.load(flirt_path)"
   ]
  },
  {
   "cell_type": "markdown",
   "metadata": {},
   "source": [
    "Which cost should we use? If you were in a pure void, there would be no right or wrong answer from the get-go. No choice but to experiment and find out!\n",
    "\n",
    "Hopefully, <a href=\"https://fsl.fmrib.ox.ac.uk/fsl/docs/#/registration/flirt/user_guide?id=flirt\">the documentation</a> should give you some pointers. What you want here is to register a T1 to a T1: this is a <u>within</u> modality registration, so you should restrict yourself only to costs appropriate to this type of modality! \n",
    "\n",
    "To help you, we've set up a cell that will run the different coregistrations for you. Simply fill in the different costs to consider :)"
   ]
  },
  {
   "cell_type": "code",
   "execution_count": 18,
   "metadata": {},
   "outputs": [],
   "source": [
    "possible_costs = ['mutualinfo', 'corratio', 'normcorr', 'normmi', 'leastsq', 'labeldiff']\n",
    "costs_to_consider = ['leastsq', 'normcorr'] \n",
    "# FIXME: ISSUE WITH THE LEASTSQ COST RESULT"
   ]
  },
  {
   "cell_type": "code",
   "execution_count": 19,
   "metadata": {},
   "outputs": [
    {
     "name": "stdout",
     "output_type": "stream",
     "text": [
      "\n",
      "Final result: \n",
      "3.458371 1.648305 3.627273 -990.534765 \n",
      "-2.861950 1.235282 4.578044 -54.943603 \n",
      "0.433791 -5.372595 2.300280 588.875671 \n",
      "0.000000 0.000000 0.000000 1.000000 \n",
      "\n",
      "\n",
      "Final result: \n",
      "0.003107 0.005315 -1.116440 204.932830 \n",
      "-0.935071 0.500262 0.007008 178.944986 \n",
      "0.501467 1.049276 -0.004127 -149.788866 \n",
      "0.000000 0.000000 0.000000 1.000000 \n",
      "\n"
     ]
    }
   ],
   "source": [
    "for c in costs_to_consider:\n",
    "    flirt(betted_brain_path, mni_template, out=flirt_path + '_' + c, cost=c)"
   ]
  },
  {
   "cell_type": "code",
   "execution_count": 20,
   "metadata": {},
   "outputs": [],
   "source": [
    "if display:\n",
    "    for c in costs_to_consider:\n",
    "        fsleyesDisplay.load(flirt_path + '_' + c)"
   ]
  },
  {
   "cell_type": "markdown",
   "metadata": {},
   "source": [
    "## Non linear normalization"
   ]
  },
  {
   "cell_type": "markdown",
   "metadata": {},
   "source": [
    "*FNIRT does NOT expect the input data to be skull-stripped.*"
   ]
  },
  {
   "cell_type": "code",
   "execution_count": 9,
   "metadata": {},
   "outputs": [],
   "source": [
    "moving_image = ants.image_read(betted_brain_path)\n",
    "fixed_image = ants.image_read(mni_template + '.nii.gz')\n",
    "transformation = ants.registration(fixed=fixed_image, moving=moving_image, type_of_transform='SyN')\n",
    "warpedImage = ants.apply_transforms(fixed=fixed_image, moving=moving_image, transformlist=transformation['fwdtransforms'])\n",
    "ants.image_write(warpedImage, ants_t1_mni_path + '.nii.gz')\n",
    "warp_field = ants.image_read(transformation['fwdtransforms'][0])\n",
    "nifti_warp_field = nib.Nifti1Image(warp_field.numpy(), affine=nib.load(transformation['fwdtransforms'][0]).affine)\n",
    "nib.save(nifti_warp_field, ants_t1_mni_path_warp)"
   ]
  },
  {
   "cell_type": "markdown",
   "metadata": {},
   "source": [
    "Look at the results and compare it against the linear coregistration. Which one do you prefer? Why?"
   ]
  },
  {
   "cell_type": "code",
   "execution_count": 37,
   "metadata": {},
   "outputs": [],
   "source": [
    "if display:\n",
    "\n",
    "    fsleyesDisplay.resetOverlays()\n",
    "    fsleyesDisplay.load(mni_template)\n",
    "    fsleyesDisplay.load(betted_brain_path)\n",
    "    fsleyesDisplay.load(ants_t1_mni_path + '.nii.gz')\n",
    "    fsleyesDisplay.load(ants_t1_mni_path_warp)"
   ]
  },
  {
   "cell_type": "markdown",
   "metadata": {},
   "source": [
    "# Volume removal\n"
   ]
  },
  {
   "cell_type": "code",
   "execution_count": 28,
   "metadata": {},
   "outputs": [],
   "source": [
    "if display:\n",
    "    fsleyesDisplay.resetOverlays()\n",
    "    fsleyesDisplay.load(op.join(bids_root, 'sub-control01', 'func', 'sub-control01_task-music_run-2_bold.nii.gz'))"
   ]
  },
  {
   "cell_type": "markdown",
   "metadata": {},
   "source": [
    "### Field stabilization"
   ]
  },
  {
   "cell_type": "code",
   "execution_count": 29,
   "metadata": {},
   "outputs": [
    {
     "data": {
      "text/plain": [
       "['sub-control01_task-music_run-1_events.tsv',\n",
       " 'sub-control01_task-music_run-2_events.tsv',\n",
       " 'sub-control01_task-music_run-2_bold.nii.gz',\n",
       " 'sub-control01_task-music_run-3_bold.nii.gz',\n",
       " 'sub-control01_task-music_run-1_bold.nii.gz',\n",
       " 'sub-control01_task-music_run-3_events.tsv',\n",
       " 'sub-control01_task-nonmusic_run-4_events.tsv',\n",
       " 'sub-control01_task-nonmusic_run-5_bold.nii.gz',\n",
       " 'sub-control01_task-nonmusic_run-4_bold.nii.gz',\n",
       " 'sub-control01_task-nonmusic_run-5_events.tsv']"
      ]
     },
     "execution_count": 29,
     "metadata": {},
     "output_type": "execute_result"
    }
   ],
   "source": [
    "os.listdir(op.join(bids_root, 'sub-control01', 'func'))"
   ]
  },
  {
   "cell_type": "code",
   "execution_count": 42,
   "metadata": {},
   "outputs": [
    {
     "data": {
      "text/plain": [
       "Text(0, 0.5, 'Mean voxel intensity')"
      ]
     },
     "execution_count": 42,
     "metadata": {},
     "output_type": "execute_result"
    },
    {
     "data": {
      "image/png": "[encoded data removed]",
      "text/plain": [
       "<Figure size 640x480 with 1 Axes>"
      ]
     },
     "metadata": {},
     "output_type": "display_data"
    }
   ],
   "source": [
    "import matplotlib.pyplot as plt\n",
    "import nibabel as nib\n",
    "for run in range(1, 4):\n",
    "    bold_path = op.join(bids_root, 'sub-control02', 'func', 'sub-control02_task-music_run-{}_bold.nii.gz'.format(run))\n",
    "    bold_img = nib.load(bold_path)\n",
    "    bold_data = bold_img.get_fdata()\n",
    "    mean_data = bold_data.mean(axis=(0, 1, 2))\n",
    "    plt.plot(mean_data, label='Run {}'.format(run))\n",
    "plt.legend()\n",
    "plt.xlabel('Time (volume)')\n",
    "plt.ylabel('Mean voxel intensity')"
   ]
  },
  {
   "cell_type": "code",
   "execution_count": 31,
   "metadata": {},
   "outputs": [],
   "source": [
    "import matplotlib.pyplot as plt\n",
    "import nibabel as nib\n"
   ]
  },
  {
   "cell_type": "markdown",
   "metadata": {},
   "source": [
    "<h3>Correction of slice 17 in second run</h3>"
   ]
  },
  {
   "cell_type": "code",
   "execution_count": 32,
   "metadata": {},
   "outputs": [],
   "source": [
    "functional_2_path = op.join(bids_root, 'sub-control01', 'func', 'sub-control01_task-music_run-2_bold.nii.gz')"
   ]
  },
  {
   "cell_type": "code",
   "execution_count": 33,
   "metadata": {},
   "outputs": [],
   "source": [
    "img = nib.load(functional_2_path)\n",
    "data = img.get_fdata()\n",
    "data[:, :, 47, 17] = data[:, :, 46, 17]\n",
    "img_out = nib.Nifti1Image(data,img.affine, img.header)\n",
    "nib.save(img_out, op.join(bids_root, 'sub-control01', 'func', 'sub-control01_task-music_run-2_bold.nii.gz'))"
   ]
  },
  {
   "cell_type": "code",
   "execution_count": 34,
   "metadata": {},
   "outputs": [
    {
     "data": {
      "text/plain": [
       "Text(0, 0.5, 'Mean voxel intensity')"
      ]
     },
     "execution_count": 34,
     "metadata": {},
     "output_type": "execute_result"
    },
    {
     "data": {
      "image/png": "[encoded data removed]",
      "text/plain": [
       "<Figure size 640x480 with 1 Axes>"
      ]
     },
     "metadata": {},
     "output_type": "display_data"
    }
   ],
   "source": [
    "import matplotlib.pyplot as plt\n",
    "import nibabel as nib\n",
    "for run in range(1, 4):\n",
    "    bold_path = op.join(bids_root, 'sub-control01', 'func', 'sub-control01_task-music_run-{}_bold.nii.gz'.format(run))\n",
    "    bold_img = nib.load(bold_path)\n",
    "    bold_data = bold_img.get_fdata()\n",
    "    mean_data = bold_data.mean(axis=(0, 1, 2))\n",
    "    plt.plot(mean_data, label='Run {}'.format(run))\n",
    "plt.legend()\n",
    "plt.xlabel('Time (volume)')\n",
    "plt.ylabel('Mean voxel intensity')"
   ]
  },
  {
   "cell_type": "code",
   "execution_count": 53,
   "metadata": {},
   "outputs": [],
   "source": [
    "for run in range(1, 4):\n",
    "    bold_path = op.join(bids_root, f'sub-control0{number}', 'func', f'sub-control0{number}_task-music_run-{run}_bold.nii.gz')\n",
    "    out_path = op.join(bids_root, f'sub-control0{number}', 'func', f'sub-control0{number}_task-music_run-{run}_bold_norm.nii.gz')\n",
    "    normalize_fMRI_mean_std(bold_path, out_path)\n"
   ]
  },
  {
   "cell_type": "code",
   "execution_count": 54,
   "metadata": {},
   "outputs": [
    {
     "data": {
      "image/png": "[encoded data removed]",
      "text/plain": [
       "<Figure size 640x480 with 1 Axes>"
      ]
     },
     "metadata": {},
     "output_type": "display_data"
    }
   ],
   "source": [
    "for run in range(1, 4):\n",
    "    out_path = op.join(bids_root, f'sub-control0{number}', 'func', f'sub-control0{number}_task-music_run-{run}_bold_norm.nii.gz')\n",
    "    plt.plot(nib.load(out_path).get_fdata().mean(axis=(0,1,2)), label='Run 1')\n",
    "\n",
    "plt.xlabel('Time (volume)')\n",
    "plt.ylabel('Mean voxel intensity')\n",
    "plt.legend()\n",
    "plt.show()"
   ]
  },
  {
   "cell_type": "markdown",
   "metadata": {},
   "source": [
    "<h2>Concatenation of data</h2>"
   ]
  },
  {
   "cell_type": "code",
   "execution_count": 55,
   "metadata": {},
   "outputs": [
    {
     "name": "stdout",
     "output_type": "stream",
     "text": [
      "(80, 80, 50, 105)\n",
      "(80, 80, 50, 105)\n",
      "(80, 80, 50, 105)\n"
     ]
    }
   ],
   "source": [
    "data = []\n",
    "aff = []\n",
    "headers = []\n",
    "for run in range(1, 4):\n",
    "    out_path = op.join(bids_root, f'sub-control0{number}', 'func', f'sub-control0{number}_task-music_run-{run}_bold_norm.nii.gz')\n",
    "    img = nib.load(out_path)\n",
    "    aff.append(img.affine)\n",
    "    headers.append(img.header)\n",
    "    img = img.get_fdata()\n",
    "    print(img.shape)\n",
    "    data.append(img)\n",
    "data = np.concatenate((data), axis = 3)"
   ]
  },
  {
   "cell_type": "code",
   "execution_count": 56,
   "metadata": {},
   "outputs": [],
   "source": [
    "img_out = nib.Nifti1Image(data,aff[0],headers[0])\n",
    "nib.save(img_out, functional_concatenated)"
   ]
  },
  {
   "cell_type": "code",
   "execution_count": 57,
   "metadata": {},
   "outputs": [],
   "source": [
    "if display:\n",
    "    fsleyesDisplay.resetOverlays()\n",
    "    fsleyesDisplay.load(functional_concatenated)"
   ]
  },
  {
   "cell_type": "markdown",
   "metadata": {},
   "source": [
    "## Motion correction"
   ]
  },
  {
   "cell_type": "code",
   "execution_count": 58,
   "metadata": {},
   "outputs": [
    {
     "name": "stdout",
     "output_type": "stream",
     "text": [
      "refnum = 157\n",
      "Original_refvol = -1\n"
     ]
    },
    {
     "data": {
      "text/plain": [
       "{}"
      ]
     },
     "execution_count": 58,
     "metadata": {},
     "output_type": "execute_result"
    }
   ],
   "source": [
    "mcflirt(\n",
    "    infile=functional_concatenated,  # The input file (original BOLD data)\n",
    "    o=path_moco_data,           # The output file (motion-corrected data)\n",
    "    plots=True,                 # Generate plots for visualizing motion correction.\n",
    "    report=True,                # Generate a report on the motion correction process.\n",
    "    dof=6,                      # Set degrees of freedom to 6 for rigid-body transformation.\n",
    "    mats=True                   # Save the transformation matrices.\n",
    ")"
   ]
  },
  {
   "cell_type": "code",
   "execution_count": 41,
   "metadata": {},
   "outputs": [],
   "source": [
    "if True:\n",
    "    fsleyesDisplay.resetOverlays() \n",
    "    fsleyesDisplay.load(functional_concatenated)\n",
    "    fsleyesDisplay.load(path_moco_data) "
   ]
  },
  {
   "cell_type": "markdown",
   "metadata": {},
   "source": [
    "The motion parameters are stored in the .par file produced by MCFLIRT. Notice that since each volume moved differently, we have one transformation per volume, thus one set of motion parameters per volume as well. We provide you with a way to load these parameters:"
   ]
  },
  {
   "cell_type": "code",
   "execution_count": 59,
   "metadata": {},
   "outputs": [
    {
     "data": {
      "text/html": [
       "<div>\n",
       "<style scoped>\n",
       "    .dataframe tbody tr th:only-of-type {\n",
       "        vertical-align: middle;\n",
       "    }\n",
       "\n",
       "    .dataframe tbody tr th {\n",
       "        vertical-align: top;\n",
       "    }\n",
       "\n",
       "    .dataframe thead th {\n",
       "        text-align: right;\n",
       "    }\n",
       "</style>\n",
       "<table border=\"1\" class=\"dataframe\">\n",
       "  <thead>\n",
       "    <tr style=\"text-align: right;\">\n",
       "      <th></th>\n",
       "      <th>Rotation x</th>\n",
       "      <th>Rotation y</th>\n",
       "      <th>Rotation z</th>\n",
       "      <th>Translation x</th>\n",
       "      <th>Translation y</th>\n",
       "      <th>Translation z</th>\n",
       "    </tr>\n",
       "  </thead>\n",
       "  <tbody>\n",
       "    <tr>\n",
       "      <th>0</th>\n",
       "      <td>0.000597</td>\n",
       "      <td>0.000195</td>\n",
       "      <td>0.001017</td>\n",
       "      <td>0.131357</td>\n",
       "      <td>0.083966</td>\n",
       "      <td>0.162712</td>\n",
       "    </tr>\n",
       "    <tr>\n",
       "      <th>1</th>\n",
       "      <td>-0.000044</td>\n",
       "      <td>0.000239</td>\n",
       "      <td>0.001100</td>\n",
       "      <td>0.140391</td>\n",
       "      <td>0.113878</td>\n",
       "      <td>0.199903</td>\n",
       "    </tr>\n",
       "    <tr>\n",
       "      <th>2</th>\n",
       "      <td>0.000301</td>\n",
       "      <td>0.000342</td>\n",
       "      <td>0.001878</td>\n",
       "      <td>0.153972</td>\n",
       "      <td>0.132903</td>\n",
       "      <td>0.202706</td>\n",
       "    </tr>\n",
       "    <tr>\n",
       "      <th>3</th>\n",
       "      <td>0.000788</td>\n",
       "      <td>0.000088</td>\n",
       "      <td>0.001861</td>\n",
       "      <td>0.158027</td>\n",
       "      <td>0.143175</td>\n",
       "      <td>0.196952</td>\n",
       "    </tr>\n",
       "    <tr>\n",
       "      <th>4</th>\n",
       "      <td>0.000223</td>\n",
       "      <td>0.000094</td>\n",
       "      <td>0.001988</td>\n",
       "      <td>0.153988</td>\n",
       "      <td>0.111611</td>\n",
       "      <td>0.111218</td>\n",
       "    </tr>\n",
       "    <tr>\n",
       "      <th>...</th>\n",
       "      <td>...</td>\n",
       "      <td>...</td>\n",
       "      <td>...</td>\n",
       "      <td>...</td>\n",
       "      <td>...</td>\n",
       "      <td>...</td>\n",
       "    </tr>\n",
       "    <tr>\n",
       "      <th>310</th>\n",
       "      <td>0.003694</td>\n",
       "      <td>-0.000395</td>\n",
       "      <td>-0.002300</td>\n",
       "      <td>-0.228466</td>\n",
       "      <td>-0.012144</td>\n",
       "      <td>-0.201018</td>\n",
       "    </tr>\n",
       "    <tr>\n",
       "      <th>311</th>\n",
       "      <td>0.003956</td>\n",
       "      <td>-0.000486</td>\n",
       "      <td>-0.002412</td>\n",
       "      <td>-0.229519</td>\n",
       "      <td>-0.003337</td>\n",
       "      <td>-0.214937</td>\n",
       "    </tr>\n",
       "    <tr>\n",
       "      <th>312</th>\n",
       "      <td>0.004469</td>\n",
       "      <td>-0.000631</td>\n",
       "      <td>-0.002990</td>\n",
       "      <td>-0.270059</td>\n",
       "      <td>0.020650</td>\n",
       "      <td>-0.229949</td>\n",
       "    </tr>\n",
       "    <tr>\n",
       "      <th>313</th>\n",
       "      <td>0.003898</td>\n",
       "      <td>0.000079</td>\n",
       "      <td>-0.003612</td>\n",
       "      <td>-0.296617</td>\n",
       "      <td>-0.013850</td>\n",
       "      <td>-0.239877</td>\n",
       "    </tr>\n",
       "    <tr>\n",
       "      <th>314</th>\n",
       "      <td>0.003699</td>\n",
       "      <td>-0.000635</td>\n",
       "      <td>-0.003716</td>\n",
       "      <td>-0.296670</td>\n",
       "      <td>-0.021896</td>\n",
       "      <td>-0.225063</td>\n",
       "    </tr>\n",
       "  </tbody>\n",
       "</table>\n",
       "<p>315 rows × 6 columns</p>\n",
       "</div>"
      ],
      "text/plain": [
       "     Rotation x  Rotation y  Rotation z  Translation x  Translation y  \\\n",
       "0      0.000597    0.000195    0.001017       0.131357       0.083966   \n",
       "1     -0.000044    0.000239    0.001100       0.140391       0.113878   \n",
       "2      0.000301    0.000342    0.001878       0.153972       0.132903   \n",
       "3      0.000788    0.000088    0.001861       0.158027       0.143175   \n",
       "4      0.000223    0.000094    0.001988       0.153988       0.111611   \n",
       "..          ...         ...         ...            ...            ...   \n",
       "310    0.003694   -0.000395   -0.002300      -0.228466      -0.012144   \n",
       "311    0.003956   -0.000486   -0.002412      -0.229519      -0.003337   \n",
       "312    0.004469   -0.000631   -0.002990      -0.270059       0.020650   \n",
       "313    0.003898    0.000079   -0.003612      -0.296617      -0.013850   \n",
       "314    0.003699   -0.000635   -0.003716      -0.296670      -0.021896   \n",
       "\n",
       "     Translation z  \n",
       "0         0.162712  \n",
       "1         0.199903  \n",
       "2         0.202706  \n",
       "3         0.196952  \n",
       "4         0.111218  \n",
       "..             ...  \n",
       "310      -0.201018  \n",
       "311      -0.214937  \n",
       "312      -0.229949  \n",
       "313      -0.239877  \n",
       "314      -0.225063  \n",
       "\n",
       "[315 rows x 6 columns]"
      ]
     },
     "execution_count": 59,
     "metadata": {},
     "output_type": "execute_result"
    }
   ],
   "source": [
    "mot_params = load_mot_params_fsl_6_dof(op.join(preproc_root, f'sub-control0{number}', 'func', f'sub-control0{number}_task-music_concat_bold_moco.par')) \n",
    "mot_params"
   ]
  },
  {
   "cell_type": "markdown",
   "metadata": {},
   "source": [
    "Based on **translation on X alone**, can you find perhaps a volume which exceeds with respect to the **preceding volume** a 0.2 mm displacement?"
   ]
  },
  {
   "cell_type": "code",
   "execution_count": 60,
   "metadata": {},
   "outputs": [
    {
     "data": {
      "image/png": "[encoded data removed]",
      "text/plain": [
       "<Figure size 640x480 with 1 Axes>"
      ]
     },
     "metadata": {},
     "output_type": "display_data"
    }
   ],
   "source": [
    "trans_x = mot_params[\"Translation x\"] # Getting the translation on X\n",
    "# Now, we want a 0.2mm with respect to previous frame:\n",
    "disp_x = np.diff(trans_x) # Getting the displacement on X. We use np.diff to calculate the difference between consecutive elements in the translation on X.\n",
    "# Lastly, we can ask for displacements (in absolute value) above 0.2mm and plot it to be clear:\n",
    "threshold=0.2 \n",
    "plt.plot(np.abs(disp_x))\n",
    "plt.hlines(threshold, 0, len(disp_x),colors='black', linestyles='dashed', label='FD threshold')\n",
    "plt.xlabel(\"Volumes\")\n",
    "plt.ylabel(\"Framewise translation displacement (mm)\")\n",
    "plt.show()"
   ]
  },
  {
   "cell_type": "markdown",
   "metadata": {},
   "source": [
    "Now, we can use the code below to extract an aggregate measure of motion for all volumes. "
   ]
  },
  {
   "cell_type": "code",
   "execution_count": 61,
   "metadata": {},
   "outputs": [],
   "source": [
    "fd = compute_FD_power(mot_params).to_numpy()"
   ]
  },
  {
   "cell_type": "code",
   "execution_count": 62,
   "metadata": {},
   "outputs": [],
   "source": [
    "threshold = np.quantile(fd,0.75) + 1.5*(np.quantile(fd,0.75) - np.quantile(fd,0.25))"
   ]
  },
  {
   "cell_type": "code",
   "execution_count": 63,
   "metadata": {},
   "outputs": [
    {
     "data": {
      "application/vnd.plotly.v1+json": {
       "config": {
        "plotlyServerURL": "https://plot.ly"
       },
       "data": [
        {
         "hovertemplate": "Volume=%{x}<br>FD displacement (mm)=%{y}<extra></extra>",
         "legendgroup": "",
         "line": {
          "color": "#636efa",
          "dash": "solid"
         },
         "marker": {
          "symbol": "circle"
         },
         "mode": "lines",
         "name": "",
         "orientation": "v",
         "showlegend": false,
         "type": "scatter",
         "x": [
          1,
          2,
          3,
          4,
          5,
          6,
          7,
          8,
          9,
          10,
          11,
          12,
          13,
          14,
          15,
          16,
          17,
          18,
          19,
          20,
          21,
          22,
          23,
          24,
          25,
          26,
          27,
          28,
          29,
          30,
          31,
          32,
          33,
          34,
          35,
          36,
          37,
          38,
          39,
          40,
          41,
          42,
          43,
          44,
          45,
          46,
          47,
          48,
          49,
          50,
          51,
          52,
          53,
          54,
          55,
          56,
          57,
          58,
          59,
          60,
          61,
          62,
          63,
          64,
          65,
          66,
          67,
          68,
          69,
          70,
          71,
          72,
          73,
          74,
          75,
          76,
          77,
          78,
          79,
          80,
          81,
          82,
          83,
          84,
          85,
          86,
          87,
          88,
          89,
          90,
          91,
          92,
          93,
          94,
          95,
          96,
          97,
          98,
          99,
          100,
          101,
          102,
          103,
          104,
          105,
          106,
          107,
          108,
          109,
          110,
          111,
          112,
          113,
          114,
          115,
          116,
          117,
          118,
          119,
          120,
          121,
          122,
          123,
          124,
          125,
          126,
          127,
          128,
          129,
          130,
          131,
          132,
          133,
          134,
          135,
          136,
          137,
          138,
          139,
          140,
          141,
          142,
          143,
          144,
          145,
          146,
          147,
          148,
          149,
          150,
          151,
          152,
          153,
          154,
          155,
          156,
          157,
          158,
          159,
          160,
          161,
          162,
          163,
          164,
          165,
          166,
          167,
          168,
          169,
          170,
          171,
          172,
          173,
          174,
          175,
          176,
          177,
          178,
          179,
          180,
          181,
          182,
          183,
          184,
          185,
          186,
          187,
          188,
          189,
          190,
          191,
          192,
          193,
          194,
          195,
          196,
          197,
          198,
          199,
          200,
          201,
          202,
          203,
          204,
          205,
          206,
          207,
          208,
          209,
          210,
          211,
          212,
          213,
          214,
          215,
          216,
          217,
          218,
          219,
          220,
          221,
          222,
          223,
          224,
          225,
          226,
          227,
          228,
          229,
          230,
          231,
          232,
          233,
          234,
          235,
          236,
          237,
          238,
          239,
          240,
          241,
          242,
          243,
          244,
          245,
          246,
          247,
          248,
          249,
          250,
          251,
          252,
          253,
          254,
          255,
          256,
          257,
          258,
          259,
          260,
          261,
          262,
          263,
          264,
          265,
          266,
          267,
          268,
          269,
          270,
          271,
          272,
          273,
          274,
          275,
          276,
          277,
          278,
          279,
          280,
          281,
          282,
          283,
          284,
          285,
          286,
          287,
          288,
          289,
          290,
          291,
          292,
          293,
          294,
          295,
          296,
          297,
          298,
          299,
          300,
          301,
          302,
          303,
          304,
          305,
          306,
          307,
          308,
          309,
          310,
          311,
          312,
          313,
          314
         ],
         "xaxis": "x",
         "y": [
          0.11450790999999999,
          0.09676136000000002,
          0.05802742500000002,
          0.15623299999999996,
          0.067547525,
          0.060923099999999994,
          0.04447893999999998,
          0.06371338999999998,
          0.030505100000000007,
          0.0555229,
          0.07512079999999999,
          0.1026491,
          0.053410490000000005,
          0.056062190000000005,
          0.025538749999999985,
          0.100366,
          0.08477984999999996,
          0.19656538499999998,
          0.17577665,
          0.14739397499999998,
          0.08100054000000004,
          0.09585291500000004,
          0.058717464999999996,
          0.07623859999999999,
          0.05584545499999996,
          0.03210550500000002,
          0.07819111000000001,
          0.04114889999999999,
          0.06282159500000001,
          0.11635699499999999,
          0.04358465000000002,
          0.0954237,
          0.03682600000000001,
          0.06819585,
          0.14925510000000003,
          0.11366860000000004,
          0.15518949999999998,
          0.03963435,
          0.07847900000000002,
          0.09124629999999997,
          0.05126340000000003,
          0.11773394999999998,
          0.18168795000000004,
          0.11067891,
          0.06633739000000001,
          0.09020260500000002,
          0.07309511299999999,
          0.029849867000000002,
          0.08436247499999999,
          0.077867475,
          0.05413150000000004,
          0.08889502499999999,
          0.07392871999999996,
          0.07464672,
          0.06541725000000001,
          0.08557177499999999,
          0.08579992500000003,
          0.1584228,
          0.11203144999999998,
          0.07372749999999999,
          0.06352439999999998,
          0.08618404999999998,
          0.10722165,
          0.061792500000000014,
          0.0985204,
          0.07774530000000003,
          0.0479111,
          0.07284460000000001,
          0.04138475,
          0.054658700000000005,
          0.09292624999999999,
          0.06684250000000001,
          0.0812126,
          0.04589610000000002,
          0.0449717,
          0.06709364999999999,
          0.08567755,
          0.09803965000000002,
          0.06012645000000001,
          0.090467,
          0.10295080000000001,
          0.08729265,
          0.07295225000000001,
          0.045652599999999995,
          0.04519309999999998,
          0.052278499999999985,
          0.0996149,
          0.1651048,
          0.1231356,
          0.11849004999999997,
          0.05218114999999996,
          0.09836510000000001,
          0.08330709999999998,
          0.0840332,
          0.08109849999999996,
          0.0945329,
          0.12532790000000002,
          0.059843499999999994,
          0.09603880000000001,
          0.06247099999999999,
          0.05835980000000001,
          0.11840930000000001,
          0.07580289999999998,
          0.062354199999999985,
          0.51655125,
          0.20962409999999998,
          0.13980774999999998,
          0.07753149999999998,
          0.05311769999999999,
          0.15059855,
          0.16366085,
          0.14593365000000003,
          0.08665917000000001,
          0.057053679999999996,
          0.053080060000000005,
          0.043500819999999996,
          0.08549895,
          0.07662006000000002,
          0.05066216000000001,
          0.07212279000000002,
          0.05374884,
          0.08793075,
          0.1009778,
          0.13295985,
          0.04579899999999999,
          0.07040794,
          0.12006707,
          0.06099261,
          0.08072357,
          0.07559348,
          0.13393604,
          0.10213624000000002,
          0.13182891500000002,
          0.17370257500000003,
          0.05425455499999998,
          0.028422595000000005,
          0.14049825999999999,
          0.12696850999999998,
          0.1053153,
          0.10076851,
          0.04543462999999999,
          0.09232604,
          0.07615090000000001,
          0.09628555,
          0.064331,
          0.07688465,
          0.09519045000000001,
          0.03274085,
          0.031974350000000006,
          0.1506167,
          0.077850192,
          0.04319608136999999,
          0.07872646662999999,
          0.0380452869,
          0.034704468700000005,
          0.0552025529,
          0.0800076731,
          0.1126282,
          0.10330058,
          0.06511762000000001,
          0.03758877999999999,
          0.046606314999999995,
          0.055449315,
          0.07117314999999999,
          0.020671620000000005,
          0.10119776999999999,
          0.0215007124,
          0.043769377600000006,
          0.12268295800000001,
          0.084490492,
          0.08142235,
          0.12177553999999999,
          0.07487052999999999,
          0.06032472809999999,
          0.1826441761,
          0.16401464,
          0.14090534999999998,
          0.0862498385,
          0.0912967315,
          0.04224645000000002,
          0.08359854200000001,
          0.018908127000000018,
          0.028527815000000005,
          0.10113010000000001,
          0.05738299999999999,
          0.04516685,
          0.05895386500000002,
          0.06075391499999999,
          0.1147311,
          0.06721637999999998,
          0.06551612,
          0.1170438,
          0.11194725500000001,
          0.09031814500000002,
          0.06607728500000001,
          0.130143639,
          0.11595837800000001,
          0.09009674399999999,
          0.04394228000000001,
          0.07741107,
          0.05950488000000001,
          0.04739234000000002,
          0.06197247999999999,
          0.16970732,
          0.056407330000000006,
          0.04773098,
          0.08114777000000001,
          0.08675839,
          0.05242104199999999,
          0.529724812,
          0.07926164999999998,
          0.13525225,
          0.07509365,
          0.08482030000000002,
          0.06295500000000001,
          0.06660479999999998,
          0.07514845,
          0.08093274999999998,
          0.11400659999999999,
          0.2040599,
          0.07425984999999999,
          0.09160145000000001,
          0.07355114999999998,
          0.036950189999999994,
          0.02661821000000003,
          0.06421122999999998,
          0.0495682,
          0.11481590000000001,
          0.08866415,
          0.10725895,
          0.05796535000000002,
          0.09025425000000001,
          0.10159521,
          0.19591275999999996,
          0.18252094999999996,
          0.0500929,
          0.10860189999999997,
          0.13570730000000003,
          0.09338520000000003,
          0.06220730000000002,
          0.08051800000000002,
          0.12628975,
          0.09309825000000002,
          0.11193855,
          0.10380120000000002,
          0.05575065000000003,
          0.04959520000000002,
          0.11537090000000001,
          0.10341780000000003,
          0.08155545,
          0.11585995000000002,
          0.07134400000000002,
          0.08510980000000003,
          0.0374362,
          0.05037785799999998,
          0.028031427999999966,
          0.12797483,
          0.13793479999999994,
          0.05358669999999999,
          0.0776329,
          0.13933399999999996,
          0.10348677999999997,
          0.07835401899999998,
          0.05348443600000002,
          0.033355237000000024,
          0.09759348,
          0.14363208000000005,
          0.06134880000000008,
          0.047000150000000046,
          0.06792010999999998,
          0.09986347000000004,
          0.02005697849999995,
          0.13456411850000002,
          0.10322249,
          0.16644576,
          0.0769379,
          0.07599118200000002,
          0.09130603200000004,
          0.06275719999999999,
          0.07431085000000004,
          0.04330859999999997,
          0.10772740000000006,
          0.0922042,
          0.11876535,
          0.08483299999999996,
          0.07425879999999997,
          0.10556855999999998,
          0.10799635999999996,
          0.07990015000000003,
          0.06277665,
          0.13583964999999998,
          0.10375704999999999,
          0.04482164999999999,
          0.14191700000000004,
          0.032258049999999996,
          0.08624310000000004,
          0.18284415,
          0.13728460000000003,
          0.057483749999999986,
          0.05513840000000003,
          0.03601924000000001,
          0.020224930000000016,
          0.15208130999999997,
          0.06809332000000001,
          0.06954706999999997,
          0.0591689,
          0.18372584999999997,
          0.06745729999999993,
          0.08100495000000002,
          0.060875350000000016,
          0.047021719999999975,
          0.14134952999999995,
          0.16612859000000005,
          0.07375968999999996
         ],
         "yaxis": "y"
        }
       ],
       "layout": {
        "annotations": [
         {
          "showarrow": false,
          "text": "FD threshold",
          "x": 1,
          "xanchor": "right",
          "xref": "x domain",
          "y": 0.175370634375,
          "yanchor": "top",
          "yref": "y"
         }
        ],
        "legend": {
         "tracegroupgap": 0
        },
        "margin": {
         "t": 60
        },
        "shapes": [
         {
          "line": {
           "dash": "dash"
          },
          "type": "line",
          "x0": 0,
          "x1": 1,
          "xref": "x domain",
          "y0": 0.175370634375,
          "y1": 0.175370634375,
          "yref": "y"
         }
        ],
        "template": {
         "data": {
          "bar": [
           {
            "error_x": {
             "color": "#2a3f5f"
            },
            "error_y": {
             "color": "#2a3f5f"
            },
            "marker": {
             "line": {
              "color": "#E5ECF6",
              "width": 0.5
             },
             "pattern": {
              "fillmode": "overlay",
              "size": 10,
              "solidity": 0.2
             }
            },
            "type": "bar"
           }
          ],
          "barpolar": [
           {
            "marker": {
             "line": {
              "color": "#E5ECF6",
              "width": 0.5
             },
             "pattern": {
              "fillmode": "overlay",
              "size": 10,
              "solidity": 0.2
             }
            },
            "type": "barpolar"
           }
          ],
          "carpet": [
           {
            "aaxis": {
             "endlinecolor": "#2a3f5f",
             "gridcolor": "white",
             "linecolor": "white",
             "minorgridcolor": "white",
             "startlinecolor": "#2a3f5f"
            },
            "baxis": {
             "endlinecolor": "#2a3f5f",
             "gridcolor": "white",
             "linecolor": "white",
             "minorgridcolor": "white",
             "startlinecolor": "#2a3f5f"
            },
            "type": "carpet"
           }
          ],
          "choropleth": [
           {
            "colorbar": {
             "outlinewidth": 0,
             "ticks": ""
            },
            "type": "choropleth"
           }
          ],
          "contour": [
           {
            "colorbar": {
             "outlinewidth": 0,
             "ticks": ""
            },
            "colorscale": [
             [
              0,
              "#0d0887"
             ],
             [
              0.1111111111111111,
              "#46039f"
             ],
             [
              0.2222222222222222,
              "#7201a8"
             ],
             [
              0.3333333333333333,
              "#9c179e"
             ],
             [
              0.4444444444444444,
              "#bd3786"
             ],
             [
              0.5555555555555556,
              "#d8576b"
             ],
             [
              0.6666666666666666,
              "#ed7953"
             ],
             [
              0.7777777777777778,
              "#fb9f3a"
             ],
             [
              0.8888888888888888,
              "#fdca26"
             ],
             [
              1,
              "#f0f921"
             ]
            ],
            "type": "contour"
           }
          ],
          "contourcarpet": [
           {
            "colorbar": {
             "outlinewidth": 0,
             "ticks": ""
            },
            "type": "contourcarpet"
           }
          ],
          "heatmap": [
           {
            "colorbar": {
             "outlinewidth": 0,
             "ticks": ""
            },
            "colorscale": [
             [
              0,
              "#0d0887"
             ],
             [
              0.1111111111111111,
              "#46039f"
             ],
             [
              0.2222222222222222,
              "#7201a8"
             ],
             [
              0.3333333333333333,
              "#9c179e"
             ],
             [
              0.4444444444444444,
              "#bd3786"
             ],
             [
              0.5555555555555556,
              "#d8576b"
             ],
             [
              0.6666666666666666,
              "#ed7953"
             ],
             [
              0.7777777777777778,
              "#fb9f3a"
             ],
             [
              0.8888888888888888,
              "#fdca26"
             ],
             [
              1,
              "#f0f921"
             ]
            ],
            "type": "heatmap"
           }
          ],
          "heatmapgl": [
           {
            "colorbar": {
             "outlinewidth": 0,
             "ticks": ""
            },
            "colorscale": [
             [
              0,
              "#0d0887"
             ],
             [
              0.1111111111111111,
              "#46039f"
             ],
             [
              0.2222222222222222,
              "#7201a8"
             ],
             [
              0.3333333333333333,
              "#9c179e"
             ],
             [
              0.4444444444444444,
              "#bd3786"
             ],
             [
              0.5555555555555556,
              "#d8576b"
             ],
             [
              0.6666666666666666,
              "#ed7953"
             ],
             [
              0.7777777777777778,
              "#fb9f3a"
             ],
             [
              0.8888888888888888,
              "#fdca26"
             ],
             [
              1,
              "#f0f921"
             ]
            ],
            "type": "heatmapgl"
           }
          ],
          "histogram": [
           {
            "marker": {
             "pattern": {
              "fillmode": "overlay",
              "size": 10,
              "solidity": 0.2
             }
            },
            "type": "histogram"
           }
          ],
          "histogram2d": [
           {
            "colorbar": {
             "outlinewidth": 0,
             "ticks": ""
            },
            "colorscale": [
             [
              0,
              "#0d0887"
             ],
             [
              0.1111111111111111,
              "#46039f"
             ],
             [
              0.2222222222222222,
              "#7201a8"
             ],
             [
              0.3333333333333333,
              "#9c179e"
             ],
             [
              0.4444444444444444,
              "#bd3786"
             ],
             [
              0.5555555555555556,
              "#d8576b"
             ],
             [
              0.6666666666666666,
              "#ed7953"
             ],
             [
              0.7777777777777778,
              "#fb9f3a"
             ],
             [
              0.8888888888888888,
              "#fdca26"
             ],
             [
              1,
              "#f0f921"
             ]
            ],
            "type": "histogram2d"
           }
          ],
          "histogram2dcontour": [
           {
            "colorbar": {
             "outlinewidth": 0,
             "ticks": ""
            },
            "colorscale": [
             [
              0,
              "#0d0887"
             ],
             [
              0.1111111111111111,
              "#46039f"
             ],
             [
              0.2222222222222222,
              "#7201a8"
             ],
             [
              0.3333333333333333,
              "#9c179e"
             ],
             [
              0.4444444444444444,
              "#bd3786"
             ],
             [
              0.5555555555555556,
              "#d8576b"
             ],
             [
              0.6666666666666666,
              "#ed7953"
             ],
             [
              0.7777777777777778,
              "#fb9f3a"
             ],
             [
              0.8888888888888888,
              "#fdca26"
             ],
             [
              1,
              "#f0f921"
             ]
            ],
            "type": "histogram2dcontour"
           }
          ],
          "mesh3d": [
           {
            "colorbar": {
             "outlinewidth": 0,
             "ticks": ""
            },
            "type": "mesh3d"
           }
          ],
          "parcoords": [
           {
            "line": {
             "colorbar": {
              "outlinewidth": 0,
              "ticks": ""
             }
            },
            "type": "parcoords"
           }
          ],
          "pie": [
           {
            "automargin": true,
            "type": "pie"
           }
          ],
          "scatter": [
           {
            "fillpattern": {
             "fillmode": "overlay",
             "size": 10,
             "solidity": 0.2
            },
            "type": "scatter"
           }
          ],
          "scatter3d": [
           {
            "line": {
             "colorbar": {
              "outlinewidth": 0,
              "ticks": ""
             }
            },
            "marker": {
             "colorbar": {
              "outlinewidth": 0,
              "ticks": ""
             }
            },
            "type": "scatter3d"
           }
          ],
          "scattercarpet": [
           {
            "marker": {
             "colorbar": {
              "outlinewidth": 0,
              "ticks": ""
             }
            },
            "type": "scattercarpet"
           }
          ],
          "scattergeo": [
           {
            "marker": {
             "colorbar": {
              "outlinewidth": 0,
              "ticks": ""
             }
            },
            "type": "scattergeo"
           }
          ],
          "scattergl": [
           {
            "marker": {
             "colorbar": {
              "outlinewidth": 0,
              "ticks": ""
             }
            },
            "type": "scattergl"
           }
          ],
          "scattermapbox": [
           {
            "marker": {
             "colorbar": {
              "outlinewidth": 0,
              "ticks": ""
             }
            },
            "type": "scattermapbox"
           }
          ],
          "scatterpolar": [
           {
            "marker": {
             "colorbar": {
              "outlinewidth": 0,
              "ticks": ""
             }
            },
            "type": "scatterpolar"
           }
          ],
          "scatterpolargl": [
           {
            "marker": {
             "colorbar": {
              "outlinewidth": 0,
              "ticks": ""
             }
            },
            "type": "scatterpolargl"
           }
          ],
          "scatterternary": [
           {
            "marker": {
             "colorbar": {
              "outlinewidth": 0,
              "ticks": ""
             }
            },
            "type": "scatterternary"
           }
          ],
          "surface": [
           {
            "colorbar": {
             "outlinewidth": 0,
             "ticks": ""
            },
            "colorscale": [
             [
              0,
              "#0d0887"
             ],
             [
              0.1111111111111111,
              "#46039f"
             ],
             [
              0.2222222222222222,
              "#7201a8"
             ],
             [
              0.3333333333333333,
              "#9c179e"
             ],
             [
              0.4444444444444444,
              "#bd3786"
             ],
             [
              0.5555555555555556,
              "#d8576b"
             ],
             [
              0.6666666666666666,
              "#ed7953"
             ],
             [
              0.7777777777777778,
              "#fb9f3a"
             ],
             [
              0.8888888888888888,
              "#fdca26"
             ],
             [
              1,
              "#f0f921"
             ]
            ],
            "type": "surface"
           }
          ],
          "table": [
           {
            "cells": {
             "fill": {
              "color": "#EBF0F8"
             },
             "line": {
              "color": "white"
             }
            },
            "header": {
             "fill": {
              "color": "#C8D4E3"
             },
             "line": {
              "color": "white"
             }
            },
            "type": "table"
           }
          ]
         },
         "layout": {
          "annotationdefaults": {
           "arrowcolor": "#2a3f5f",
           "arrowhead": 0,
           "arrowwidth": 1
          },
          "autotypenumbers": "strict",
          "coloraxis": {
           "colorbar": {
            "outlinewidth": 0,
            "ticks": ""
           }
          },
          "colorscale": {
           "diverging": [
            [
             0,
             "#8e0152"
            ],
            [
             0.1,
             "#c51b7d"
            ],
            [
             0.2,
             "#de77ae"
            ],
            [
             0.3,
             "#f1b6da"
            ],
            [
             0.4,
             "#fde0ef"
            ],
            [
             0.5,
             "#f7f7f7"
            ],
            [
             0.6,
             "#e6f5d0"
            ],
            [
             0.7,
             "#b8e186"
            ],
            [
             0.8,
             "#7fbc41"
            ],
            [
             0.9,
             "#4d9221"
            ],
            [
             1,
             "#276419"
            ]
           ],
           "sequential": [
            [
             0,
             "#0d0887"
            ],
            [
             0.1111111111111111,
             "#46039f"
            ],
            [
             0.2222222222222222,
             "#7201a8"
            ],
            [
             0.3333333333333333,
             "#9c179e"
            ],
            [
             0.4444444444444444,
             "#bd3786"
            ],
            [
             0.5555555555555556,
             "#d8576b"
            ],
            [
             0.6666666666666666,
             "#ed7953"
            ],
            [
             0.7777777777777778,
             "#fb9f3a"
            ],
            [
             0.8888888888888888,
             "#fdca26"
            ],
            [
             1,
             "#f0f921"
            ]
           ],
           "sequentialminus": [
            [
             0,
             "#0d0887"
            ],
            [
             0.1111111111111111,
             "#46039f"
            ],
            [
             0.2222222222222222,
             "#7201a8"
            ],
            [
             0.3333333333333333,
             "#9c179e"
            ],
            [
             0.4444444444444444,
             "#bd3786"
            ],
            [
             0.5555555555555556,
             "#d8576b"
            ],
            [
             0.6666666666666666,
             "#ed7953"
            ],
            [
             0.7777777777777778,
             "#fb9f3a"
            ],
            [
             0.8888888888888888,
             "#fdca26"
            ],
            [
             1,
             "#f0f921"
            ]
           ]
          },
          "colorway": [
           "#636efa",
           "#EF553B",
           "#00cc96",
           "#ab63fa",
           "#FFA15A",
           "#19d3f3",
           "#FF6692",
           "#B6E880",
           "#FF97FF",
           "#FECB52"
          ],
          "font": {
           "color": "#2a3f5f"
          },
          "geo": {
           "bgcolor": "white",
           "lakecolor": "white",
           "landcolor": "#E5ECF6",
           "showlakes": true,
           "showland": true,
           "subunitcolor": "white"
          },
          "hoverlabel": {
           "align": "left"
          },
          "hovermode": "closest",
          "mapbox": {
           "style": "light"
          },
          "paper_bgcolor": "white",
          "plot_bgcolor": "#E5ECF6",
          "polar": {
           "angularaxis": {
            "gridcolor": "white",
            "linecolor": "white",
            "ticks": ""
           },
           "bgcolor": "#E5ECF6",
           "radialaxis": {
            "gridcolor": "white",
            "linecolor": "white",
            "ticks": ""
           }
          },
          "scene": {
           "xaxis": {
            "backgroundcolor": "#E5ECF6",
            "gridcolor": "white",
            "gridwidth": 2,
            "linecolor": "white",
            "showbackground": true,
            "ticks": "",
            "zerolinecolor": "white"
           },
           "yaxis": {
            "backgroundcolor": "#E5ECF6",
            "gridcolor": "white",
            "gridwidth": 2,
            "linecolor": "white",
            "showbackground": true,
            "ticks": "",
            "zerolinecolor": "white"
           },
           "zaxis": {
            "backgroundcolor": "#E5ECF6",
            "gridcolor": "white",
            "gridwidth": 2,
            "linecolor": "white",
            "showbackground": true,
            "ticks": "",
            "zerolinecolor": "white"
           }
          },
          "shapedefaults": {
           "line": {
            "color": "#2a3f5f"
           }
          },
          "ternary": {
           "aaxis": {
            "gridcolor": "white",
            "linecolor": "white",
            "ticks": ""
           },
           "baxis": {
            "gridcolor": "white",
            "linecolor": "white",
            "ticks": ""
           },
           "bgcolor": "#E5ECF6",
           "caxis": {
            "gridcolor": "white",
            "linecolor": "white",
            "ticks": ""
           }
          },
          "title": {
           "x": 0.05
          },
          "xaxis": {
           "automargin": true,
           "gridcolor": "white",
           "linecolor": "white",
           "ticks": "",
           "title": {
            "standoff": 15
           },
           "zerolinecolor": "white",
           "zerolinewidth": 2
          },
          "yaxis": {
           "automargin": true,
           "gridcolor": "white",
           "linecolor": "white",
           "ticks": "",
           "title": {
            "standoff": 15
           },
           "zerolinecolor": "white",
           "zerolinewidth": 2
          }
         }
        },
        "xaxis": {
         "anchor": "y",
         "domain": [
          0,
          1
         ],
         "title": {
          "text": "Volume"
         }
        },
        "yaxis": {
         "anchor": "x",
         "domain": [
          0,
          1
         ],
         "title": {
          "text": "FD displacement (mm)"
         }
        }
       }
      }
     },
     "metadata": {},
     "output_type": "display_data"
    }
   ],
   "source": [
    "import plotly.express as px\n",
    "\n",
    "fig = px.line(x=list(range(1, fd.size+1)), y=fd, labels={'x': 'Volume', 'y': 'FD displacement (mm)'})\n",
    "fig.add_hline(y=threshold, line_dash=\"dash\", annotation_text=\"FD threshold\", annotation_position=\"bottom right\")\n",
    "fig.show()"
   ]
  },
  {
   "cell_type": "code",
   "execution_count": 64,
   "metadata": {},
   "outputs": [
    {
     "data": {
      "image/png": "[encoded data removed]",
      "text/plain": [
       "<Figure size 640x480 with 1 Axes>"
      ]
     },
     "metadata": {},
     "output_type": "display_data"
    }
   ],
   "source": [
    "#%matplotlib inline\n",
    "plt.plot(list(range(1, fd.size+1)), fd)\n",
    "plt.xlabel('Volume')\n",
    "plt.ylabel('FD displacement (mm)')\n",
    "plt.hlines(threshold, 0, len(fd),colors='black', linestyles='dashed', label='FD threshold')\n",
    "plt.legend()\n",
    "plt.show()"
   ]
  },
  {
   "cell_type": "markdown",
   "metadata": {},
   "source": [
    "Okay great, but what if we want to know which volumes are actually above threshold? Simply run the cell below!"
   ]
  },
  {
   "cell_type": "code",
   "execution_count": 65,
   "metadata": {},
   "outputs": [
    {
     "data": {
      "text/plain": [
       "array([ 18,  19,  43, 105, 106, 175, 210, 220, 234, 235, 297, 307])"
      ]
     },
     "execution_count": 65,
     "metadata": {},
     "output_type": "execute_result"
    }
   ],
   "source": [
    "# Volume indices where FD is above the threshold\n",
    "np.where(fd > threshold)[0] + 1 "
   ]
  },
  {
   "cell_type": "code",
   "execution_count": 49,
   "metadata": {},
   "outputs": [],
   "source": [
    "#FIXME THERE ARE VOLUMES TO BE REMOVED"
   ]
  },
  {
   "cell_type": "markdown",
   "metadata": {},
   "source": [
    "# Coregistration of functional to anatomical"
   ]
  },
  {
   "cell_type": "code",
   "execution_count": null,
   "metadata": {},
   "outputs": [],
   "source": [
    "from fsl.wrappers import epi_reg\n",
    "\n",
    "\n",
    "epi_target = op.join(preproc_root, f'sub-control0{number}', 'func', f'sub-control0{number}_task-music_concat_bold.nii.gz')\n",
    "whole_t1 = op.join(bids_root, f'sub-control0{number}', 'anat', f'sub-control0{number}_T1w')\n",
    "skull_stripped_t1 = op.join(preproc_root, f'sub-control0{number}', 'anat', f'sub-control0{number}_T1w') \n",
    "epi_output_path = op.join(preproc_root, f'sub-control0{number}', 'func', f'sub-control0{number}_task-music_concat_bold_bbr')\n",
    "ref_vol_name = op.join(preproc_root, f'sub-control0{number}', 'func', f'sub-control0{number}_task-music_concat_bold_vol_middle') "
   ]
  },
  {
   "cell_type": "code",
   "execution_count": null,
   "metadata": {},
   "outputs": [
    {
     "data": {
      "text/plain": [
       "CompletedProcess(args=['fslsplit', './data/ds000171/derivatives/preprocessed_data/sub-control01/func/sub-control01_task-music_concat_bold.nii.gz', './data/ds000171/derivatives/preprocessed_data/sub-control01/func/splits/sub-control01_task-music_concat_bold_split', '-t'], returncode=0)"
      ]
     },
     "execution_count": 51,
     "metadata": {},
     "output_type": "execute_result"
    }
   ],
   "source": [
    "mkdir_no_exist(op.join(preproc_root, f'sub-control0{number}', 'func', 'splits',))\n",
    "split_name = op.join(preproc_root, f'sub-control0{number}', 'func', 'splits',f'sub-control0{number}_task-music_concat_bold_split')\n",
    "subprocess.run(['fslsplit', epi_target, split_name, '-t'])"
   ]
  },
  {
   "cell_type": "code",
   "execution_count": 52,
   "metadata": {},
   "outputs": [
    {
     "name": "stdout",
     "output_type": "stream",
     "text": [
      "Running FAST segmentation\n",
      "FLIRT pre-alignment\n",
      "Running BBR\n",
      "0.305493 0.999344 -0.035761 -0.005757 0.000000 0.035821 0.999302 0.010628 0.000000 0.005373 -0.010827 0.999927 0.000000 -5.225244 9.054111 -0.793166 1.000000 \n"
     ]
    }
   ],
   "source": [
    "use_single_vol = True\n",
    "\n",
    "if use_single_vol:\n",
    "\n",
    "    fslroi(epi_target, ref_vol_name, str(150), str(1))\n",
    "    \n",
    "    # Run epi_reg to register the extracted middle EPI volume to the T1-weighted anatomical image.\n",
    "    subprocess.run([\n",
    "        'epi_reg',\n",
    "        '--epi={}'.format(ref_vol_name),  # The EPI image (middle volume) to be registered.\n",
    "        '--t1={}'.format(whole_t1),       # The whole, non-skull-stripped T1-weighted image.\n",
    "        '--t1brain={}'.format(skull_stripped_t1),  # The skull-stripped T1-weighted image.\n",
    "        '--out={}'.format(epi_output_path)    # The output path where the registered image will be saved.\n",
    "    ])\n",
    "else:\n",
    "    # If not using a single volume, register the entire motion-corrected EPI series to the T1-weighted anatomical image.\n",
    "    subprocess.run([\n",
    "        'epi_reg',\n",
    "        '--epi={}'.format(epi_target),    # The full motion-corrected EPI image (all volumes).\n",
    "        '--t1={}'.format(whole_t1),       # The whole, non-skull-stripped T1-weighted image.\n",
    "        '--t1brain={}'.format(skull_stripped_t1),  # The skull-stripped T1-weighted image.\n",
    "        '--out={}'.format(epi_output_path),    # The output path where the registered image will be saved.\n",
    "    ])\n"
   ]
  },
  {
   "cell_type": "code",
   "execution_count": 53,
   "metadata": {},
   "outputs": [],
   "source": [
    "if display:\n",
    "\n",
    "    fsleyesDisplay.resetOverlays()\n",
    "    fsleyesDisplay.load(skull_stripped_t1)\n",
    "    fsleyesDisplay.load(epi_output_path)"
   ]
  },
  {
   "cell_type": "code",
   "execution_count": null,
   "metadata": {},
   "outputs": [
    {
     "data": {
      "text/plain": [
       "CompletedProcess(args=['convertwarp', '--ref=/data/fsl//data/standard/MNI152_T1_1mm_brain', '--premat=./data/ds000171/derivatives/preprocessed_data/sub-control01/func/sub-control01_task-music_concat_bold_bbr.mat', '--postmat=./data/ds000171/derivatives/preprocessed_data/sub-control01/anat/sub-control01_T1w_mni_lin.mat', '--out=./data/ds000171/derivatives/preprocessed_data/sub-control01/func/sub-control01_task-music_concat_bold_bbr_linear_combined_warp.nii.gz'], returncode=0)"
      ]
     },
     "execution_count": 54,
     "metadata": {},
     "output_type": "execute_result"
    }
   ],
   "source": [
    "warp_name_linear = op.join(preproc_root, f'sub-control0{number}', 'func', f'sub-control0{number}_task-music_concat_bold_bbr_linear_combined_warp.nii.gz')\n",
    "subprocess.run([\n",
    "    'convertwarp',\n",
    "    '--ref={}'.format(mni_template),\n",
    "    '--premat={}'.format(epi_output_path+'.mat'),\n",
    "    '--postmat={}'.format(flirt_matrix_path),\n",
    "    '--out={}'.format(warp_name_linear)\n",
    "])    "
   ]
  },
  {
   "cell_type": "code",
   "execution_count": 55,
   "metadata": {},
   "outputs": [
    {
     "data": {
      "text/plain": [
       "{}"
      ]
     },
     "execution_count": 55,
     "metadata": {},
     "output_type": "execute_result"
    }
   ],
   "source": [
    "from fsl.wrappers import applywarp\n",
    "out_vol = \"test.nii.gz\"\n",
    "applywarp(ref_vol_name,mni_template, out_vol, w=warp_name_linear, rel=False)"
   ]
  },
  {
   "cell_type": "code",
   "execution_count": 56,
   "metadata": {},
   "outputs": [],
   "source": [
    "if True:\n",
    "    fsleyesDisplay.resetOverlays()\n",
    "    fsleyesDisplay.load(mni_template)\n",
    "    fsleyesDisplay.load(out_vol)"
   ]
  },
  {
   "cell_type": "code",
   "execution_count": 53,
   "metadata": {},
   "outputs": [],
   "source": [
    "# moving_image = ants.image_read(ref_vol_name+'.nii.gz')\n",
    "# fixed_image = ants.image_read(whole_t1+'.nii.gz')\n",
    "# transformation = ants.registration(\n",
    "#     fixed=fixed_image, \n",
    "#     moving=moving_image, \n",
    "#     type_of_transform='SyN'\n",
    "# )\n",
    "\n",
    "# # Apply the transformation to the moving image\n",
    "# warped_image = ants.apply_transforms(\n",
    "#     fixed=fixed_image, \n",
    "#     moving=moving_image, \n",
    "#     transformlist=transformation['fwdtransforms']\n",
    "# )\n",
    "# resultAnts = op.join(preproc_root, 'sub-control01', 'func', 'sub-control01_task-music_concat_bold_bbr_SyN.nii.gz')\n",
    "# ants.image_write(warped_image, resultAnts)\n",
    "# warp_field_path = op.join(preproc_root, 'sub-control01', 'func', 'sub-control01_task-music_concat_bold_bbr_SyN_warp.nii.gz')\n",
    "# warp_field = ants.image_read(transformation['fwdtransforms'][0])\n",
    "# nifti_warp_field = nib.Nifti1Image(warp_field.numpy(), affine=nib.load(transformation['fwdtransforms'][0]).affine)\n",
    "# nib.save(nifti_warp_field, warp_field_path)"
   ]
  },
  {
   "cell_type": "code",
   "execution_count": 57,
   "metadata": {},
   "outputs": [],
   "source": [
    "fsleyesDisplay.resetOverlays()\n",
    "fsleyesDisplay.load(mni_template)\n",
    "fsleyesDisplay.load(flirt_path)\n",
    "fsleyesDisplay.load(ants_t1_mni_path)\n"
   ]
  },
  {
   "cell_type": "code",
   "execution_count": null,
   "metadata": {},
   "outputs": [
    {
     "data": {
      "text/plain": [
       "CompletedProcess(args=['convertwarp', '--ref=/data/fsl//data/standard/MNI152_T1_1mm_brain', '--premat=./data/ds000171/derivatives/preprocessed_data/sub-control01/func/sub-control01_task-music_concat_bold_bbr.mat', '--warp1=./data/ds000171/derivatives/preprocessed_data/sub-control01/anat/sub-control01_T1w_mni_SyN_warp.nii.gz', '--out=./data/ds000171/derivatives/preprocessed_data/sub-control01/func/sub-control01_task-music_concat_bold_bbr_SyN_combined_warp.nii.gz'], returncode=0)"
      ]
     },
     "execution_count": 58,
     "metadata": {},
     "output_type": "execute_result"
    }
   ],
   "source": [
    "warp_name_syn = op.join(preproc_root, f'sub-control0{number}', 'func', f'sub-control0{number}_task-music_concat_bold_bbr_SyN_combined_warp.nii.gz')\n",
    "subprocess.run([\n",
    "    'convertwarp',\n",
    "    '--ref={}'.format(mni_template),\n",
    "    '--premat={}'.format(epi_output_path+'.mat'),\n",
    "    '--warp1={}'.format(ants_t1_mni_path_warp),\n",
    "    '--out={}'.format(warp_name_syn)\n",
    "])    "
   ]
  },
  {
   "cell_type": "code",
   "execution_count": 59,
   "metadata": {},
   "outputs": [
    {
     "data": {
      "text/plain": [
       "{}"
      ]
     },
     "execution_count": 59,
     "metadata": {},
     "output_type": "execute_result"
    }
   ],
   "source": [
    "from fsl.wrappers import applywarp\n",
    "out_vol = \"test.nii.gz\"\n",
    "applywarp(ref_vol_name,mni_template, out_vol, w=warp_name_syn, rel=False)"
   ]
  },
  {
   "cell_type": "markdown",
   "metadata": {},
   "source": [
    "Let's overlay the two (EPI and anatomical) on top of each other to visualize the quality of the coregistration!"
   ]
  },
  {
   "cell_type": "code",
   "execution_count": 60,
   "metadata": {},
   "outputs": [],
   "source": [
    "if True:\n",
    "\n",
    "    fsleyesDisplay.resetOverlays()\n",
    "    fsleyesDisplay.load(mni_template)\n",
    "    fsleyesDisplay.load(ants_t1_mni_path)\n",
    "    fsleyesDisplay.load(out_vol)"
   ]
  },
  {
   "cell_type": "code",
   "execution_count": null,
   "metadata": {},
   "outputs": [],
   "source": [
    "split_std = op.join(preproc_root, f'sub-control0{number}', 'func', 'std')\n",
    "mkdir_no_exist(split_std)\n",
    "# Notice that we are sorting the volumes here! This is important, to make sure we don't get them in random order :)\n",
    "split_dir = op.join(preproc_root, f'sub-control0{number}', 'func', 'splits')\n",
    "split_vols = sorted([op.join(split_dir, f) for f in os.listdir(split_dir)])\n"
   ]
  },
  {
   "cell_type": "code",
   "execution_count": 62,
   "metadata": {},
   "outputs": [],
   "source": [
    "import concurrent.futures\n",
    "from tqdm import tqdm\n",
    "\n",
    "# Initialize ThreadPoolExecutor and the progress bar\n",
    "with concurrent.futures.ThreadPoolExecutor(max_workers=4) as executor:\n",
    "    # Use tqdm to wrap the futures\n",
    "    with tqdm(total=len(split_vols)) as progress:\n",
    "        # Launch subprocesses in parallel\n",
    "        futures = {executor.submit(run_subprocess, preproc_root,mni_template,warp_name_linear, vol,i,): vol for i,vol in enumerate(split_vols)}\n",
    "\n",
    "        # Process completed tasks\n",
    "        for future in concurrent.futures.as_completed(futures):\n",
    "            out_vol, vol_nbr = future.result()  # Get the result of the subprocess\n",
    "            progress.update(1)"
   ]
  },
  {
   "cell_type": "markdown",
   "metadata": {},
   "source": [
    "## Smoothing"
   ]
  },
  {
   "cell_type": "code",
   "execution_count": null,
   "metadata": {},
   "outputs": [],
   "source": [
    "smooth_folder = op.join(preproc_root, f'sub-control0{number}', 'func', 'smoothed')\n",
    "mkdir_no_exist(smooth_folder)\n",
    "files = sorted([f.replace(\".nii.gz\", \"\") for f in os.listdir(split_std)])"
   ]
  },
  {
   "cell_type": "code",
   "execution_count": 69,
   "metadata": {},
   "outputs": [],
   "source": [
    "import concurrent.futures\n",
    "from tqdm import tqdm\n",
    "\n",
    "\n",
    "# Initialize ThreadPoolExecutor and the progress bar\n",
    "with concurrent.futures.ThreadPoolExecutor(max_workers=4) as executor:\n",
    "    # Use tqdm to wrap the futures\n",
    "    with tqdm(total=len(files)) as progress:\n",
    "        # Launch subprocesses in parallel\n",
    "        futures = [executor.submit(smooth_volume, op.join(split_std,f), op.join(smooth_folder,f)) for f in files]\n",
    "\n",
    "        # Process completed tasks\n",
    "        for future in concurrent.futures.as_completed(futures):\n",
    "            future.result()  # Get the result of the subprocess\n",
    "            progress.update(1)"
   ]
  }
 ],
 "metadata": {
  "kernelspec": {
   "display_name": "base",
   "language": "python",
   "name": "python3"
  },
  "language_info": {
   "codemirror_mode": {
    "name": "ipython",
    "version": 3
   },
   "file_extension": ".py",
   "mimetype": "text/x-python",
   "name": "python",
   "nbconvert_exporter": "python",
   "pygments_lexer": "ipython3",
   "version": "3.11.9"
  }
 },
 "nbformat": 4,
 "nbformat_minor": 2
}
