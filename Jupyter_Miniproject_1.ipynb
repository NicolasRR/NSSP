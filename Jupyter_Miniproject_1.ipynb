{
 "cells": [
  {
   "cell_type": "markdown",
   "id": "bc533f37-010a-46a6-9563-f9ce1613290f",
   "metadata": {},
   "source": [
    "<h1 style=\"white-space: nowrap\" align=\"center\">Mini-Project 1</h1>\n",
    "<hr style=\"clear:both\"></hr>"
   ]
  },
  {
   "cell_type": "code",
   "execution_count": 1,
   "id": "944b60b5-62dd-4a9f-b691-b25e532a088a",
   "metadata": {},
   "outputs": [
    {
     "name": "stderr",
     "output_type": "stream",
     "text": [
      "Gtk-Message: 14:44:15.328: Failed to load module \"canberra-gtk-module\"\n"
     ]
    }
   ],
   "source": [
    "%gui wx\n",
    "import sys\n",
    "import os\n",
    "\n",
    "#####################\n",
    "# Import of utils.py functions\n",
    "#####################\n",
    "# Required to get utils.py and access its functions\n",
    "notebook_dir = os.path.abspath(\"\")\n",
    "parent_dir = os.path.abspath(os.path.join(notebook_dir, '..'))\n",
    "sys.path.append(parent_dir)\n",
    "sys.path.append('.')\n",
    "from utils import loadFSL, FSLeyesServer, mkdir_no_exist, interactive_MCQ\n",
    "\n",
    "####################\n",
    "# DIPY_HOME should be set prior to import of dipy to make sure all downloads point to the right folder\n",
    "####################\n",
    "os.environ[\"DIPY_HOME\"] = \"/home/jovyan/Data\"\n",
    "\n",
    "\n",
    "#############################\n",
    "# Loading fsl and freesurfer within Neurodesk\n",
    "# You can find the list of available other modules by clicking on the \"Softwares\" tab on the left\n",
    "#############################\n",
    "import lmod\n",
    "await lmod.purge(force=True)\n",
    "await lmod.load('fsl/6.0.7.4')\n",
    "await lmod.load('freesurfer/7.4.1')\n",
    "await lmod.list()\n",
    "\n",
    "####################\n",
    "# Setup FSL path\n",
    "####################\n",
    "loadFSL()\n",
    "\n",
    "###################\n",
    "# Load all relevant libraries for the lab\n",
    "##################\n",
    "import fsl.wrappers\n",
    "from fsl.wrappers import fslmaths\n",
    "\n",
    "import mne_nirs\n",
    "import nilearn\n",
    "from nilearn.datasets import fetch_development_fmri\n",
    "\n",
    "import mne\n",
    "import mne_nirs\n",
    "import dipy\n",
    "from dipy.data import fetch_bundles_2_subjects, read_bundles_2_subjects\n",
    "import xml.etree.ElementTree as ET\n",
    "import os.path as op\n",
    "import nibabel as nib\n",
    "import glob\n",
    "\n",
    "import ants\n",
    "\n",
    "import openneuro\n",
    "from mne.datasets import sample\n",
    "from mne_bids import BIDSPath, read_raw_bids, print_dir_tree, make_report\n",
    "\n",
    "\n",
    "# Useful imports to define the direct download function below\n",
    "import requests\n",
    "import urllib.request\n",
    "from tqdm import tqdm\n",
    "\n",
    "\n",
    "# FSL function wrappers which we will call from python directly\n",
    "from fsl.wrappers import fast, bet\n",
    "from fsl.wrappers.misc import fslroi\n",
    "from fsl.wrappers import flirt\n",
    "\n",
    "# General purpose imports to handle paths, files etc\n",
    "import glob\n",
    "import pandas as pd\n",
    "import numpy as np\n",
    "import json\n",
    "import subprocess"
   ]
  },
  {
   "cell_type": "code",
   "execution_count": 2,
   "id": "c1bab02d-b5db-4caa-948f-b7a6bbcb2228",
   "metadata": {},
   "outputs": [
    {
     "name": "stderr",
     "output_type": "stream",
     "text": [
      "\n",
      "(ipykernel_launcher.py:527): Gtk-CRITICAL **: 14:44:19.401: gtk_window_resize: assertion 'height > 0' failed\n"
     ]
    }
   ],
   "source": [
    "fsleyesDisplay = FSLeyesServer()\n",
    "fsleyesDisplay.show()"
   ]
  },
  {
   "cell_type": "code",
   "execution_count": 3,
   "id": "8b315e9a-abb2-4850-8519-dc6277a347f0",
   "metadata": {},
   "outputs": [],
   "source": [
    "class DownloadProgressBar(tqdm):\n",
    "    def update_to(self, b=1, bsize=1, tsize=None):\n",
    "        if tsize is not None:\n",
    "            self.total = tsize\n",
    "        self.update(b * bsize - self.n)\n",
    "\n",
    "def download_url(url, output_path):\n",
    "    with DownloadProgressBar(unit='B', unit_scale=True,\n",
    "                             miniters=1, desc=url.split('/')[-1]) as t:\n",
    "        urllib.request.urlretrieve(url, filename=output_path, reporthook=t.update_to)\n",
    "\n",
    "def direct_file_download_open_neuro(file_list, file_types, dataset_id, dataset_version, save_dirs):\n",
    "    # https://openneuro.org/crn/datasets/ds004226/snapshots/1.0.0/files/sub-001:sub-001_scans.tsv\n",
    "    for i, n in enumerate(file_list):\n",
    "        subject = n.split('_')[0]\n",
    "        download_link = 'https://openneuro.org/crn/datasets/{}/snapshots/{}/files/{}:{}:{}'.format(dataset_id, dataset_version, subject, file_types[i],n)\n",
    "        print('Attempting download from ', download_link)\n",
    "        download_url(download_link, op.join(save_dirs[i], n))\n",
    "        print('Ok')\n",
    "        \n",
    "def get_json_from_file(fname):\n",
    "    f = open(fname)\n",
    "    data = json.load(f)\n",
    "    f.close()\n",
    "    return data"
   ]
  },
  {
   "cell_type": "markdown",
   "id": "6172b095-e5e3-4693-873c-4ca2cf5594a1",
   "metadata": {},
   "source": [
    "<h2>DOWNLOAD OF FILES</h2>"
   ]
  },
  {
   "cell_type": "code",
   "execution_count": 4,
   "id": "bff8eccc-0cde-442c-8300-a214d5057fd3",
   "metadata": {},
   "outputs": [],
   "source": [
    "dataset_id = 'ds000171'\n",
    "subject = 'control01' \n",
    "\n",
    "sample_path = \"/home/jovyan/Data/dataset\"\n",
    "\n",
    "mkdir_no_exist(sample_path)\n",
    "bids_root = op.join(sample_path, dataset_id)\n",
    "deriv_root = op.join(bids_root, 'derivatives')\n",
    "preproc_root = op.join(bids_root, 'derivatives','preprocessed_data')\n",
    "\n",
    "mkdir_no_exist(bids_root)\n",
    "\n",
    "subject_dir = 'sub-{}'.format(subject)"
   ]
  },
  {
   "cell_type": "code",
   "execution_count": 5,
   "id": "14131707-6477-4d07-a41c-3de39a17a1aa",
   "metadata": {
    "scrolled": true
   },
   "outputs": [
    {
     "name": "stdout",
     "output_type": "stream",
     "text": [
      "\n",
      "👋 Hello! This is openneuro-py 2024.2.0. Great to see you! 🤗\n",
      "\n",
      "   👉 Please report problems 🤯 and bugs 🪲 at\n",
      "      https://github.com/hoechenberger/openneuro-py/issues\n",
      "\n",
      "🌍 Preparing to download ds000171 …\n"
     ]
    },
    {
     "name": "stderr",
     "output_type": "stream",
     "text": [
      "\u001b[31m╭─\u001b[0m\u001b[31m────────────────────\u001b[0m\u001b[31m \u001b[0m\u001b[1;31mTraceback \u001b[0m\u001b[1;2;31m(most recent call last)\u001b[0m\u001b[31m \u001b[0m\u001b[31m─────────────────────\u001b[0m\u001b[31m─╮\u001b[0m\n",
      "\u001b[31m│\u001b[0m \u001b[2;33m/opt/conda/lib/python3.11/site-packages/openneuro/\u001b[0m\u001b[1;33m_cli.py\u001b[0m:\u001b[94m64\u001b[0m in \u001b[92mdownload_cli\u001b[0m \u001b[31m│\u001b[0m\n",
      "\u001b[31m│\u001b[0m                                                                              \u001b[31m│\u001b[0m\n",
      "\u001b[31m│\u001b[0m   \u001b[2m 61 \u001b[0m\u001b[2m│   \u001b[0m] = \u001b[94m5\u001b[0m,                                                             \u001b[31m│\u001b[0m\n",
      "\u001b[31m│\u001b[0m   \u001b[2m 62 \u001b[0m) -> \u001b[94mNone\u001b[0m:                                                             \u001b[31m│\u001b[0m\n",
      "\u001b[31m│\u001b[0m   \u001b[2m 63 \u001b[0m\u001b[2;90m│   \u001b[0m\u001b[33m\"\"\"Download datasets from OpenNeuro.\"\"\"\u001b[0m                            \u001b[31m│\u001b[0m\n",
      "\u001b[31m│\u001b[0m \u001b[31m❱ \u001b[0m 64 \u001b[2m│   \u001b[0mdownload(                                                          \u001b[31m│\u001b[0m\n",
      "\u001b[31m│\u001b[0m   \u001b[2m 65 \u001b[0m\u001b[2m│   │   \u001b[0mdataset=dataset,                                               \u001b[31m│\u001b[0m\n",
      "\u001b[31m│\u001b[0m   \u001b[2m 66 \u001b[0m\u001b[2m│   │   \u001b[0mtag=tag,                                                       \u001b[31m│\u001b[0m\n",
      "\u001b[31m│\u001b[0m   \u001b[2m 67 \u001b[0m\u001b[2m│   │   \u001b[0mtarget_dir=target_dir,                                         \u001b[31m│\u001b[0m\n",
      "\u001b[31m│\u001b[0m                                                                              \u001b[31m│\u001b[0m\n",
      "\u001b[31m│\u001b[0m \u001b[33m╭─\u001b[0m\u001b[33m───────────────────────────\u001b[0m\u001b[33m locals \u001b[0m\u001b[33m────────────────────────────\u001b[0m\u001b[33m─╮\u001b[0m          \u001b[31m│\u001b[0m\n",
      "\u001b[31m│\u001b[0m \u001b[33m│\u001b[0m                  dataset = \u001b[33m'ds000171'\u001b[0m                           \u001b[33m│\u001b[0m          \u001b[31m│\u001b[0m\n",
      "\u001b[31m│\u001b[0m \u001b[33m│\u001b[0m                  exclude = \u001b[94mNone\u001b[0m                                 \u001b[33m│\u001b[0m          \u001b[31m│\u001b[0m\n",
      "\u001b[31m│\u001b[0m \u001b[33m│\u001b[0m                  include = \u001b[33m'sub-control01/*'\u001b[0m                    \u001b[33m│\u001b[0m          \u001b[31m│\u001b[0m\n",
      "\u001b[31m│\u001b[0m \u001b[33m│\u001b[0m max_concurrent_downloads = \u001b[94m5\u001b[0m                                    \u001b[33m│\u001b[0m          \u001b[31m│\u001b[0m\n",
      "\u001b[31m│\u001b[0m \u001b[33m│\u001b[0m              max_retries = \u001b[94m5\u001b[0m                                    \u001b[33m│\u001b[0m          \u001b[31m│\u001b[0m\n",
      "\u001b[31m│\u001b[0m \u001b[33m│\u001b[0m                      tag = \u001b[94mNone\u001b[0m                                 \u001b[33m│\u001b[0m          \u001b[31m│\u001b[0m\n",
      "\u001b[31m│\u001b[0m \u001b[33m│\u001b[0m               target_dir = \u001b[33m'/home/jovyan/Data/dataset/ds000171'\u001b[0m \u001b[33m│\u001b[0m          \u001b[31m│\u001b[0m\n",
      "\u001b[31m│\u001b[0m \u001b[33m│\u001b[0m              verify_hash = \u001b[94mTrue\u001b[0m                                 \u001b[33m│\u001b[0m          \u001b[31m│\u001b[0m\n",
      "\u001b[31m│\u001b[0m \u001b[33m│\u001b[0m              verify_size = \u001b[94mTrue\u001b[0m                                 \u001b[33m│\u001b[0m          \u001b[31m│\u001b[0m\n",
      "\u001b[31m│\u001b[0m \u001b[33m╰─────────────────────────────────────────────────────────────────╯\u001b[0m          \u001b[31m│\u001b[0m\n",
      "\u001b[31m│\u001b[0m                                                                              \u001b[31m│\u001b[0m\n",
      "\u001b[31m│\u001b[0m \u001b[2;33m/opt/conda/lib/python3.11/site-packages/openneuro/\u001b[0m\u001b[1;33m_download.py\u001b[0m:\u001b[94m803\u001b[0m in        \u001b[31m│\u001b[0m\n",
      "\u001b[31m│\u001b[0m \u001b[92mdownload\u001b[0m                                                                     \u001b[31m│\u001b[0m\n",
      "\u001b[31m│\u001b[0m                                                                              \u001b[31m│\u001b[0m\n",
      "\u001b[31m│\u001b[0m   \u001b[2m800 \u001b[0m\u001b[2m│   │   \u001b[0mtarget_dir_empty = \u001b[96mlen\u001b[0m(\u001b[96mlist\u001b[0m(target_dir.rglob(\u001b[33m\"\u001b[0m\u001b[33m*\u001b[0m\u001b[33m\"\u001b[0m))) == \u001b[94m0\u001b[0m       \u001b[31m│\u001b[0m\n",
      "\u001b[31m│\u001b[0m   \u001b[2m801 \u001b[0m\u001b[2m│   │   \u001b[0m                                                               \u001b[31m│\u001b[0m\n",
      "\u001b[31m│\u001b[0m   \u001b[2m802 \u001b[0m\u001b[2m│   │   \u001b[0m\u001b[94mif\u001b[0m \u001b[95mnot\u001b[0m target_dir_empty:                                       \u001b[31m│\u001b[0m\n",
      "\u001b[31m│\u001b[0m \u001b[31m❱ \u001b[0m803 \u001b[2m│   │   │   \u001b[0mlocal_tag = _get_local_tag(dataset_id=dataset, dataset_dir \u001b[31m│\u001b[0m\n",
      "\u001b[31m│\u001b[0m   \u001b[2m804 \u001b[0m\u001b[2m│   │   │   \u001b[0m                                                           \u001b[31m│\u001b[0m\n",
      "\u001b[31m│\u001b[0m   \u001b[2m805 \u001b[0m\u001b[2m│   │   │   \u001b[0m\u001b[94mif\u001b[0m local_tag \u001b[95mis\u001b[0m \u001b[94mNone\u001b[0m:                                      \u001b[31m│\u001b[0m\n",
      "\u001b[31m│\u001b[0m   \u001b[2m806 \u001b[0m\u001b[2m│   │   │   │   \u001b[0mtqdm.write(                                            \u001b[31m│\u001b[0m\n",
      "\u001b[31m│\u001b[0m                                                                              \u001b[31m│\u001b[0m\n",
      "\u001b[31m│\u001b[0m \u001b[33m╭─\u001b[0m\u001b[33m────────────────────────────────\u001b[0m\u001b[33m locals \u001b[0m\u001b[33m────────────────────────────────\u001b[0m\u001b[33m─╮\u001b[0m \u001b[31m│\u001b[0m\n",
      "\u001b[31m│\u001b[0m \u001b[33m│\u001b[0m                  dataset = \u001b[33m'ds000171'\u001b[0m                                    \u001b[33m│\u001b[0m \u001b[31m│\u001b[0m\n",
      "\u001b[31m│\u001b[0m \u001b[33m│\u001b[0m                  exclude = \u001b[1m[\u001b[0m\u001b[1m]\u001b[0m                                            \u001b[33m│\u001b[0m \u001b[31m│\u001b[0m\n",
      "\u001b[31m│\u001b[0m \u001b[33m│\u001b[0m                  include = \u001b[1m[\u001b[0m\u001b[33m'sub-control01/*'\u001b[0m\u001b[1m]\u001b[0m                           \u001b[33m│\u001b[0m \u001b[31m│\u001b[0m\n",
      "\u001b[31m│\u001b[0m \u001b[33m│\u001b[0m max_concurrent_downloads = \u001b[94m5\u001b[0m                                             \u001b[33m│\u001b[0m \u001b[31m│\u001b[0m\n",
      "\u001b[31m│\u001b[0m \u001b[33m│\u001b[0m              max_retries = \u001b[94m5\u001b[0m                                             \u001b[33m│\u001b[0m \u001b[31m│\u001b[0m\n",
      "\u001b[31m│\u001b[0m \u001b[33m│\u001b[0m                 metadata = \u001b[1m{\u001b[0m                                             \u001b[33m│\u001b[0m \u001b[31m│\u001b[0m\n",
      "\u001b[31m│\u001b[0m \u001b[33m│\u001b[0m                            \u001b[2m│   \u001b[0m\u001b[33m'id'\u001b[0m: \u001b[33m'ds000171:00001'\u001b[0m,                   \u001b[33m│\u001b[0m \u001b[31m│\u001b[0m\n",
      "\u001b[31m│\u001b[0m \u001b[33m│\u001b[0m                            \u001b[2m│   \u001b[0m\u001b[33m'files'\u001b[0m: \u001b[1m[\u001b[0m                                \u001b[33m│\u001b[0m \u001b[31m│\u001b[0m\n",
      "\u001b[31m│\u001b[0m \u001b[33m│\u001b[0m                            \u001b[2m│   │   \u001b[0m\u001b[1m{\u001b[0m                                     \u001b[33m│\u001b[0m \u001b[31m│\u001b[0m\n",
      "\u001b[31m│\u001b[0m \u001b[33m│\u001b[0m                            \u001b[2m│   │   │   \u001b[0m\u001b[33m'filename'\u001b[0m: \u001b[33m'CHANGES'\u001b[0m,            \u001b[33m│\u001b[0m \u001b[31m│\u001b[0m\n",
      "\u001b[31m│\u001b[0m \u001b[33m│\u001b[0m                            \u001b[2m│   │   │   \u001b[0m\u001b[33m'urls'\u001b[0m: \u001b[1m[\u001b[0m                         \u001b[33m│\u001b[0m \u001b[31m│\u001b[0m\n",
      "\u001b[31m│\u001b[0m \u001b[33m│\u001b[0m                            \u001b[2m│   │   │   │   \u001b[0m                              \u001b[33m│\u001b[0m \u001b[31m│\u001b[0m\n",
      "\u001b[31m│\u001b[0m \u001b[33m│\u001b[0m                            \u001b[33m'https://s3.amazonaws.com/openneuro.org/ds00…\u001b[0m \u001b[33m│\u001b[0m \u001b[31m│\u001b[0m\n",
      "\u001b[31m│\u001b[0m \u001b[33m│\u001b[0m                            \u001b[2m│   │   │   \u001b[0m\u001b[1m]\u001b[0m,                                \u001b[33m│\u001b[0m \u001b[31m│\u001b[0m\n",
      "\u001b[31m│\u001b[0m \u001b[33m│\u001b[0m                            \u001b[2m│   │   │   \u001b[0m\u001b[33m'size'\u001b[0m: \u001b[94m45\u001b[0m,                       \u001b[33m│\u001b[0m \u001b[31m│\u001b[0m\n",
      "\u001b[31m│\u001b[0m \u001b[33m│\u001b[0m                            \u001b[2m│   │   │   \u001b[0m\u001b[33m'directory'\u001b[0m: \u001b[94mFalse\u001b[0m,               \u001b[33m│\u001b[0m \u001b[31m│\u001b[0m\n",
      "\u001b[31m│\u001b[0m \u001b[33m│\u001b[0m                            \u001b[2m│   │   │   \u001b[0m\u001b[33m'id'\u001b[0m:                             \u001b[33m│\u001b[0m \u001b[31m│\u001b[0m\n",
      "\u001b[31m│\u001b[0m \u001b[33m│\u001b[0m                            \u001b[33m'054658647c607c9d92a7e3f3b21e8e263685bfe3'\u001b[0m    \u001b[33m│\u001b[0m \u001b[31m│\u001b[0m\n",
      "\u001b[31m│\u001b[0m \u001b[33m│\u001b[0m                            \u001b[2m│   │   \u001b[0m\u001b[1m}\u001b[0m,                                    \u001b[33m│\u001b[0m \u001b[31m│\u001b[0m\n",
      "\u001b[31m│\u001b[0m \u001b[33m│\u001b[0m                            \u001b[2m│   │   \u001b[0m\u001b[1m{\u001b[0m                                     \u001b[33m│\u001b[0m \u001b[31m│\u001b[0m\n",
      "\u001b[31m│\u001b[0m \u001b[33m│\u001b[0m                            \u001b[2m│   │   │   \u001b[0m\u001b[33m'filename'\u001b[0m: \u001b[33m'README'\u001b[0m,             \u001b[33m│\u001b[0m \u001b[31m│\u001b[0m\n",
      "\u001b[31m│\u001b[0m \u001b[33m│\u001b[0m                            \u001b[2m│   │   │   \u001b[0m\u001b[33m'urls'\u001b[0m: \u001b[1m[\u001b[0m                         \u001b[33m│\u001b[0m \u001b[31m│\u001b[0m\n",
      "\u001b[31m│\u001b[0m \u001b[33m│\u001b[0m                            \u001b[2m│   │   │   │   \u001b[0m                              \u001b[33m│\u001b[0m \u001b[31m│\u001b[0m\n",
      "\u001b[31m│\u001b[0m \u001b[33m│\u001b[0m                            \u001b[33m'https://s3.amazonaws.com/openneuro.org/ds00…\u001b[0m \u001b[33m│\u001b[0m \u001b[31m│\u001b[0m\n",
      "\u001b[31m│\u001b[0m \u001b[33m│\u001b[0m                            \u001b[2m│   │   │   \u001b[0m\u001b[1m]\u001b[0m,                                \u001b[33m│\u001b[0m \u001b[31m│\u001b[0m\n",
      "\u001b[31m│\u001b[0m \u001b[33m│\u001b[0m                            \u001b[2m│   │   │   \u001b[0m\u001b[33m'size'\u001b[0m: \u001b[94m1006\u001b[0m,                     \u001b[33m│\u001b[0m \u001b[31m│\u001b[0m\n",
      "\u001b[31m│\u001b[0m \u001b[33m│\u001b[0m                            \u001b[2m│   │   │   \u001b[0m\u001b[33m'directory'\u001b[0m: \u001b[94mFalse\u001b[0m,               \u001b[33m│\u001b[0m \u001b[31m│\u001b[0m\n",
      "\u001b[31m│\u001b[0m \u001b[33m│\u001b[0m                            \u001b[2m│   │   │   \u001b[0m\u001b[33m'id'\u001b[0m:                             \u001b[33m│\u001b[0m \u001b[31m│\u001b[0m\n",
      "\u001b[31m│\u001b[0m \u001b[33m│\u001b[0m                            \u001b[33m'03da42fd500b57034407f835d5396a61edbd49f5'\u001b[0m    \u001b[33m│\u001b[0m \u001b[31m│\u001b[0m\n",
      "\u001b[31m│\u001b[0m \u001b[33m│\u001b[0m                            \u001b[2m│   │   \u001b[0m\u001b[1m}\u001b[0m,                                    \u001b[33m│\u001b[0m \u001b[31m│\u001b[0m\n",
      "\u001b[31m│\u001b[0m \u001b[33m│\u001b[0m                            \u001b[2m│   │   \u001b[0m\u001b[1m{\u001b[0m                                     \u001b[33m│\u001b[0m \u001b[31m│\u001b[0m\n",
      "\u001b[31m│\u001b[0m \u001b[33m│\u001b[0m                            \u001b[2m│   │   │   \u001b[0m\u001b[33m'filename'\u001b[0m:                       \u001b[33m│\u001b[0m \u001b[31m│\u001b[0m\n",
      "\u001b[31m│\u001b[0m \u001b[33m│\u001b[0m                            \u001b[33m'dataset_description.json'\u001b[0m,                   \u001b[33m│\u001b[0m \u001b[31m│\u001b[0m\n",
      "\u001b[31m│\u001b[0m \u001b[33m│\u001b[0m                            \u001b[2m│   │   │   \u001b[0m\u001b[33m'urls'\u001b[0m: \u001b[1m[\u001b[0m                         \u001b[33m│\u001b[0m \u001b[31m│\u001b[0m\n",
      "\u001b[31m│\u001b[0m \u001b[33m│\u001b[0m                            \u001b[2m│   │   │   │   \u001b[0m                              \u001b[33m│\u001b[0m \u001b[31m│\u001b[0m\n",
      "\u001b[31m│\u001b[0m \u001b[33m│\u001b[0m                            \u001b[33m'https://s3.amazonaws.com/openneuro.org/ds00…\u001b[0m \u001b[33m│\u001b[0m \u001b[31m│\u001b[0m\n",
      "\u001b[31m│\u001b[0m \u001b[33m│\u001b[0m                            \u001b[2m│   │   │   \u001b[0m\u001b[1m]\u001b[0m,                                \u001b[33m│\u001b[0m \u001b[31m│\u001b[0m\n",
      "\u001b[31m│\u001b[0m \u001b[33m│\u001b[0m                            \u001b[2m│   │   │   \u001b[0m\u001b[33m'size'\u001b[0m: \u001b[94m2856\u001b[0m,                     \u001b[33m│\u001b[0m \u001b[31m│\u001b[0m\n",
      "\u001b[31m│\u001b[0m \u001b[33m│\u001b[0m                            \u001b[2m│   │   │   \u001b[0m\u001b[33m'directory'\u001b[0m: \u001b[94mFalse\u001b[0m,               \u001b[33m│\u001b[0m \u001b[31m│\u001b[0m\n",
      "\u001b[31m│\u001b[0m \u001b[33m│\u001b[0m                            \u001b[2m│   │   │   \u001b[0m\u001b[33m'id'\u001b[0m:                             \u001b[33m│\u001b[0m \u001b[31m│\u001b[0m\n",
      "\u001b[31m│\u001b[0m \u001b[33m│\u001b[0m                            \u001b[33m'34c228102bf1c19cd9cff5df66c4630904a93ce2'\u001b[0m    \u001b[33m│\u001b[0m \u001b[31m│\u001b[0m\n",
      "\u001b[31m│\u001b[0m \u001b[33m│\u001b[0m                            \u001b[2m│   │   \u001b[0m\u001b[1m}\u001b[0m,                                    \u001b[33m│\u001b[0m \u001b[31m│\u001b[0m\n",
      "\u001b[31m│\u001b[0m \u001b[33m│\u001b[0m                            \u001b[2m│   │   \u001b[0m\u001b[1m{\u001b[0m                                     \u001b[33m│\u001b[0m \u001b[31m│\u001b[0m\n",
      "\u001b[31m│\u001b[0m \u001b[33m│\u001b[0m                            \u001b[2m│   │   │   \u001b[0m\u001b[33m'filename'\u001b[0m: \u001b[33m'T1w.json'\u001b[0m,           \u001b[33m│\u001b[0m \u001b[31m│\u001b[0m\n",
      "\u001b[31m│\u001b[0m \u001b[33m│\u001b[0m                            \u001b[2m│   │   │   \u001b[0m\u001b[33m'urls'\u001b[0m: \u001b[1m[\u001b[0m                         \u001b[33m│\u001b[0m \u001b[31m│\u001b[0m\n",
      "\u001b[31m│\u001b[0m \u001b[33m│\u001b[0m                            \u001b[2m│   │   │   │   \u001b[0m                              \u001b[33m│\u001b[0m \u001b[31m│\u001b[0m\n",
      "\u001b[31m│\u001b[0m \u001b[33m│\u001b[0m                            \u001b[33m'https://s3.amazonaws.com/openneuro.org/ds00…\u001b[0m \u001b[33m│\u001b[0m \u001b[31m│\u001b[0m\n",
      "\u001b[31m│\u001b[0m \u001b[33m│\u001b[0m                            \u001b[2m│   │   │   \u001b[0m\u001b[1m]\u001b[0m,                                \u001b[33m│\u001b[0m \u001b[31m│\u001b[0m\n",
      "\u001b[31m│\u001b[0m \u001b[33m│\u001b[0m                            \u001b[2m│   │   │   \u001b[0m\u001b[33m'size'\u001b[0m: \u001b[94m215\u001b[0m,                      \u001b[33m│\u001b[0m \u001b[31m│\u001b[0m\n",
      "\u001b[31m│\u001b[0m \u001b[33m│\u001b[0m                            \u001b[2m│   │   │   \u001b[0m\u001b[33m'directory'\u001b[0m: \u001b[94mFalse\u001b[0m,               \u001b[33m│\u001b[0m \u001b[31m│\u001b[0m\n",
      "\u001b[31m│\u001b[0m \u001b[33m│\u001b[0m                            \u001b[2m│   │   │   \u001b[0m\u001b[33m'id'\u001b[0m:                             \u001b[33m│\u001b[0m \u001b[31m│\u001b[0m\n",
      "\u001b[31m│\u001b[0m \u001b[33m│\u001b[0m                            \u001b[33m'2e68953fcbe43a203e87b65898d2ed14f2bbab6e'\u001b[0m    \u001b[33m│\u001b[0m \u001b[31m│\u001b[0m\n",
      "\u001b[31m│\u001b[0m \u001b[33m│\u001b[0m                            \u001b[2m│   │   \u001b[0m\u001b[1m}\u001b[0m,                                    \u001b[33m│\u001b[0m \u001b[31m│\u001b[0m\n",
      "\u001b[31m│\u001b[0m \u001b[33m│\u001b[0m                            \u001b[2m│   │   \u001b[0m\u001b[1m{\u001b[0m                                     \u001b[33m│\u001b[0m \u001b[31m│\u001b[0m\n",
      "\u001b[31m│\u001b[0m \u001b[33m│\u001b[0m                            \u001b[2m│   │   │   \u001b[0m\u001b[33m'filename'\u001b[0m: \u001b[33m'participants.tsv'\u001b[0m,   \u001b[33m│\u001b[0m \u001b[31m│\u001b[0m\n",
      "\u001b[31m│\u001b[0m \u001b[33m│\u001b[0m                            \u001b[2m│   │   │   \u001b[0m\u001b[33m'urls'\u001b[0m: \u001b[1m[\u001b[0m                         \u001b[33m│\u001b[0m \u001b[31m│\u001b[0m\n",
      "\u001b[31m│\u001b[0m \u001b[33m│\u001b[0m                            \u001b[2m│   │   │   │   \u001b[0m                              \u001b[33m│\u001b[0m \u001b[31m│\u001b[0m\n",
      "\u001b[31m│\u001b[0m \u001b[33m│\u001b[0m                            \u001b[33m'https://s3.amazonaws.com/openneuro.org/ds00…\u001b[0m \u001b[33m│\u001b[0m \u001b[31m│\u001b[0m\n",
      "\u001b[31m│\u001b[0m \u001b[33m│\u001b[0m                            \u001b[2m│   │   │   \u001b[0m\u001b[1m]\u001b[0m,                                \u001b[33m│\u001b[0m \u001b[31m│\u001b[0m\n",
      "\u001b[31m│\u001b[0m \u001b[33m│\u001b[0m                            \u001b[2m│   │   │   \u001b[0m\u001b[33m'size'\u001b[0m: \u001b[94m1668\u001b[0m,                     \u001b[33m│\u001b[0m \u001b[31m│\u001b[0m\n",
      "\u001b[31m│\u001b[0m \u001b[33m│\u001b[0m                            \u001b[2m│   │   │   \u001b[0m\u001b[33m'directory'\u001b[0m: \u001b[94mFalse\u001b[0m,               \u001b[33m│\u001b[0m \u001b[31m│\u001b[0m\n",
      "\u001b[31m│\u001b[0m \u001b[33m│\u001b[0m                            \u001b[2m│   │   │   \u001b[0m\u001b[33m'id'\u001b[0m:                             \u001b[33m│\u001b[0m \u001b[31m│\u001b[0m\n",
      "\u001b[31m│\u001b[0m \u001b[33m│\u001b[0m                            \u001b[33m'8bbb678aec82adb20fe97cf80b72b9ee1cfee972'\u001b[0m    \u001b[33m│\u001b[0m \u001b[31m│\u001b[0m\n",
      "\u001b[31m│\u001b[0m \u001b[33m│\u001b[0m                            \u001b[2m│   │   \u001b[0m\u001b[1m}\u001b[0m,                                    \u001b[33m│\u001b[0m \u001b[31m│\u001b[0m\n",
      "\u001b[31m│\u001b[0m \u001b[33m│\u001b[0m                            \u001b[2m│   │   \u001b[0m\u001b[1m{\u001b[0m                                     \u001b[33m│\u001b[0m \u001b[31m│\u001b[0m\n",
      "\u001b[31m│\u001b[0m \u001b[33m│\u001b[0m                            \u001b[2m│   │   │   \u001b[0m\u001b[33m'filename'\u001b[0m:                       \u001b[33m│\u001b[0m \u001b[31m│\u001b[0m\n",
      "\u001b[31m│\u001b[0m \u001b[33m│\u001b[0m                            \u001b[33m'task-music_bold.json'\u001b[0m,                       \u001b[33m│\u001b[0m \u001b[31m│\u001b[0m\n",
      "\u001b[31m│\u001b[0m \u001b[33m│\u001b[0m                            \u001b[2m│   │   │   \u001b[0m\u001b[33m'urls'\u001b[0m: \u001b[1m[\u001b[0m                         \u001b[33m│\u001b[0m \u001b[31m│\u001b[0m\n",
      "\u001b[31m│\u001b[0m \u001b[33m│\u001b[0m                            \u001b[2m│   │   │   │   \u001b[0m                              \u001b[33m│\u001b[0m \u001b[31m│\u001b[0m\n",
      "\u001b[31m│\u001b[0m \u001b[33m│\u001b[0m                            \u001b[33m'https://s3.amazonaws.com/openneuro.org/ds00…\u001b[0m \u001b[33m│\u001b[0m \u001b[31m│\u001b[0m\n",
      "\u001b[31m│\u001b[0m \u001b[33m│\u001b[0m                            \u001b[2m│   │   │   \u001b[0m\u001b[1m]\u001b[0m,                                \u001b[33m│\u001b[0m \u001b[31m│\u001b[0m\n",
      "\u001b[31m│\u001b[0m \u001b[33m│\u001b[0m                            \u001b[2m│   │   │   \u001b[0m\u001b[33m'size'\u001b[0m: \u001b[94m720\u001b[0m,                      \u001b[33m│\u001b[0m \u001b[31m│\u001b[0m\n",
      "\u001b[31m│\u001b[0m \u001b[33m│\u001b[0m                            \u001b[2m│   │   │   \u001b[0m\u001b[33m'directory'\u001b[0m: \u001b[94mFalse\u001b[0m,               \u001b[33m│\u001b[0m \u001b[31m│\u001b[0m\n",
      "\u001b[31m│\u001b[0m \u001b[33m│\u001b[0m                            \u001b[2m│   │   │   \u001b[0m\u001b[33m'id'\u001b[0m:                             \u001b[33m│\u001b[0m \u001b[31m│\u001b[0m\n",
      "\u001b[31m│\u001b[0m \u001b[33m│\u001b[0m                            \u001b[33m'a42272920a5ba36c12fbd70657c9098ebad18bd1'\u001b[0m    \u001b[33m│\u001b[0m \u001b[31m│\u001b[0m\n",
      "\u001b[31m│\u001b[0m \u001b[33m│\u001b[0m                            \u001b[2m│   │   \u001b[0m\u001b[1m}\u001b[0m,                                    \u001b[33m│\u001b[0m \u001b[31m│\u001b[0m\n",
      "\u001b[31m│\u001b[0m \u001b[33m│\u001b[0m                            \u001b[2m│   │   \u001b[0m\u001b[1m{\u001b[0m                                     \u001b[33m│\u001b[0m \u001b[31m│\u001b[0m\n",
      "\u001b[31m│\u001b[0m \u001b[33m│\u001b[0m                            \u001b[2m│   │   │   \u001b[0m\u001b[33m'filename'\u001b[0m:                       \u001b[33m│\u001b[0m \u001b[31m│\u001b[0m\n",
      "\u001b[31m│\u001b[0m \u001b[33m│\u001b[0m                            \u001b[33m'task-nonmusic_bold.json'\u001b[0m,                    \u001b[33m│\u001b[0m \u001b[31m│\u001b[0m\n",
      "\u001b[31m│\u001b[0m \u001b[33m│\u001b[0m                            \u001b[2m│   │   │   \u001b[0m\u001b[33m'urls'\u001b[0m: \u001b[1m[\u001b[0m                         \u001b[33m│\u001b[0m \u001b[31m│\u001b[0m\n",
      "\u001b[31m│\u001b[0m \u001b[33m│\u001b[0m                            \u001b[2m│   │   │   │   \u001b[0m                              \u001b[33m│\u001b[0m \u001b[31m│\u001b[0m\n",
      "\u001b[31m│\u001b[0m \u001b[33m│\u001b[0m                            \u001b[33m'https://s3.amazonaws.com/openneuro.org/ds00…\u001b[0m \u001b[33m│\u001b[0m \u001b[31m│\u001b[0m\n",
      "\u001b[31m│\u001b[0m \u001b[33m│\u001b[0m                            \u001b[2m│   │   │   \u001b[0m\u001b[1m]\u001b[0m,                                \u001b[33m│\u001b[0m \u001b[31m│\u001b[0m\n",
      "\u001b[31m│\u001b[0m \u001b[33m│\u001b[0m                            \u001b[2m│   │   │   \u001b[0m\u001b[33m'size'\u001b[0m: \u001b[94m723\u001b[0m,                      \u001b[33m│\u001b[0m \u001b[31m│\u001b[0m\n",
      "\u001b[31m│\u001b[0m \u001b[33m│\u001b[0m                            \u001b[2m│   │   │   \u001b[0m\u001b[33m'directory'\u001b[0m: \u001b[94mFalse\u001b[0m,               \u001b[33m│\u001b[0m \u001b[31m│\u001b[0m\n",
      "\u001b[31m│\u001b[0m \u001b[33m│\u001b[0m                            \u001b[2m│   │   │   \u001b[0m\u001b[33m'id'\u001b[0m:                             \u001b[33m│\u001b[0m \u001b[31m│\u001b[0m\n",
      "\u001b[31m│\u001b[0m \u001b[33m│\u001b[0m                            \u001b[33m'231c9df0c7508b5b1f6731388045a4acf49137b2'\u001b[0m    \u001b[33m│\u001b[0m \u001b[31m│\u001b[0m\n",
      "\u001b[31m│\u001b[0m \u001b[33m│\u001b[0m                            \u001b[2m│   │   \u001b[0m\u001b[1m}\u001b[0m,                                    \u001b[33m│\u001b[0m \u001b[31m│\u001b[0m\n",
      "\u001b[31m│\u001b[0m \u001b[33m│\u001b[0m                            \u001b[2m│   │   \u001b[0m\u001b[1m{\u001b[0m                                     \u001b[33m│\u001b[0m \u001b[31m│\u001b[0m\n",
      "\u001b[31m│\u001b[0m \u001b[33m│\u001b[0m                            \u001b[2m│   │   │   \u001b[0m\u001b[33m'filename'\u001b[0m: \u001b[33m'sub-control01'\u001b[0m,      \u001b[33m│\u001b[0m \u001b[31m│\u001b[0m\n",
      "\u001b[31m│\u001b[0m \u001b[33m│\u001b[0m                            \u001b[2m│   │   │   \u001b[0m\u001b[33m'urls'\u001b[0m: \u001b[1m[\u001b[0m\u001b[1m]\u001b[0m,                       \u001b[33m│\u001b[0m \u001b[31m│\u001b[0m\n",
      "\u001b[31m│\u001b[0m \u001b[33m│\u001b[0m                            \u001b[2m│   │   │   \u001b[0m\u001b[33m'size'\u001b[0m: \u001b[94m0\u001b[0m,                        \u001b[33m│\u001b[0m \u001b[31m│\u001b[0m\n",
      "\u001b[31m│\u001b[0m \u001b[33m│\u001b[0m                            \u001b[2m│   │   │   \u001b[0m\u001b[33m'directory'\u001b[0m: \u001b[94mTrue\u001b[0m,                \u001b[33m│\u001b[0m \u001b[31m│\u001b[0m\n",
      "\u001b[31m│\u001b[0m \u001b[33m│\u001b[0m                            \u001b[2m│   │   │   \u001b[0m\u001b[33m'id'\u001b[0m:                             \u001b[33m│\u001b[0m \u001b[31m│\u001b[0m\n",
      "\u001b[31m│\u001b[0m \u001b[33m│\u001b[0m                            \u001b[33m'76c47218cf01324ff5f2cc0c4dc57a3f5349f4a1'\u001b[0m    \u001b[33m│\u001b[0m \u001b[31m│\u001b[0m\n",
      "\u001b[31m│\u001b[0m \u001b[33m│\u001b[0m                            \u001b[2m│   │   \u001b[0m\u001b[1m}\u001b[0m,                                    \u001b[33m│\u001b[0m \u001b[31m│\u001b[0m\n",
      "\u001b[31m│\u001b[0m \u001b[33m│\u001b[0m                            \u001b[2m│   │   \u001b[0m\u001b[1m{\u001b[0m                                     \u001b[33m│\u001b[0m \u001b[31m│\u001b[0m\n",
      "\u001b[31m│\u001b[0m \u001b[33m│\u001b[0m                            \u001b[2m│   │   │   \u001b[0m\u001b[33m'filename'\u001b[0m: \u001b[33m'sub-control02'\u001b[0m,      \u001b[33m│\u001b[0m \u001b[31m│\u001b[0m\n",
      "\u001b[31m│\u001b[0m \u001b[33m│\u001b[0m                            \u001b[2m│   │   │   \u001b[0m\u001b[33m'urls'\u001b[0m: \u001b[1m[\u001b[0m\u001b[1m]\u001b[0m,                       \u001b[33m│\u001b[0m \u001b[31m│\u001b[0m\n",
      "\u001b[31m│\u001b[0m \u001b[33m│\u001b[0m                            \u001b[2m│   │   │   \u001b[0m\u001b[33m'size'\u001b[0m: \u001b[94m0\u001b[0m,                        \u001b[33m│\u001b[0m \u001b[31m│\u001b[0m\n",
      "\u001b[31m│\u001b[0m \u001b[33m│\u001b[0m                            \u001b[2m│   │   │   \u001b[0m\u001b[33m'directory'\u001b[0m: \u001b[94mTrue\u001b[0m,                \u001b[33m│\u001b[0m \u001b[31m│\u001b[0m\n",
      "\u001b[31m│\u001b[0m \u001b[33m│\u001b[0m                            \u001b[2m│   │   │   \u001b[0m\u001b[33m'id'\u001b[0m:                             \u001b[33m│\u001b[0m \u001b[31m��\u001b[0m\n",
      "\u001b[31m│\u001b[0m \u001b[33m│\u001b[0m                            \u001b[33m'a28f358a61363d28d2298b71ae1cdaec030801eb'\u001b[0m    \u001b[33m│\u001b[0m \u001b[31m│\u001b[0m\n",
      "\u001b[31m│\u001b[0m \u001b[33m│\u001b[0m                            \u001b[2m│   │   \u001b[0m\u001b[1m}\u001b[0m,                                    \u001b[33m│\u001b[0m \u001b[31m│\u001b[0m\n",
      "\u001b[31m│\u001b[0m \u001b[33m│\u001b[0m                            \u001b[2m│   │   \u001b[0m\u001b[1m{\u001b[0m                                     \u001b[33m│\u001b[0m \u001b[31m│\u001b[0m\n",
      "\u001b[31m│\u001b[0m \u001b[33m│\u001b[0m                            \u001b[2m│   │   │   \u001b[0m\u001b[33m'filename'\u001b[0m: \u001b[33m'sub-control03'\u001b[0m,      \u001b[33m│\u001b[0m \u001b[31m│\u001b[0m\n",
      "\u001b[31m│\u001b[0m \u001b[33m│\u001b[0m                            \u001b[2m│   │   │   \u001b[0m\u001b[33m'urls'\u001b[0m: \u001b[1m[\u001b[0m\u001b[1m]\u001b[0m,                       \u001b[33m│\u001b[0m \u001b[31m│\u001b[0m\n",
      "\u001b[31m│\u001b[0m \u001b[33m│\u001b[0m                            \u001b[2m│   │   │   \u001b[0m\u001b[33m'size'\u001b[0m: \u001b[94m0\u001b[0m,                        \u001b[33m│\u001b[0m \u001b[31m│\u001b[0m\n",
      "\u001b[31m│\u001b[0m \u001b[33m│\u001b[0m                            \u001b[2m│   │   │   \u001b[0m\u001b[33m'directory'\u001b[0m: \u001b[94mTrue\u001b[0m,                \u001b[33m│\u001b[0m \u001b[31m│\u001b[0m\n",
      "\u001b[31m│\u001b[0m \u001b[33m│\u001b[0m                            \u001b[2m│   │   │   \u001b[0m\u001b[33m'id'\u001b[0m:                             \u001b[33m│\u001b[0m \u001b[31m│\u001b[0m\n",
      "\u001b[31m│\u001b[0m \u001b[33m│\u001b[0m                            \u001b[33m'72a10b497485c743855314e0a44e563e00cfdc06'\u001b[0m    \u001b[33m│\u001b[0m \u001b[31m│\u001b[0m\n",
      "\u001b[31m│\u001b[0m \u001b[33m│\u001b[0m                            \u001b[2m│   │   \u001b[0m\u001b[1m}\u001b[0m,                                    \u001b[33m│\u001b[0m \u001b[31m│\u001b[0m\n",
      "\u001b[31m│\u001b[0m \u001b[33m│\u001b[0m                            \u001b[2m│   │   \u001b[0m\u001b[33m...\u001b[0m +\u001b[94m36\u001b[0m                               \u001b[33m│\u001b[0m \u001b[31m│\u001b[0m\n",
      "\u001b[31m│\u001b[0m \u001b[33m│\u001b[0m                            \u001b[2m│   \u001b[0m\u001b[1m]\u001b[0m                                         \u001b[33m│\u001b[0m \u001b[31m│\u001b[0m\n",
      "\u001b[31m│\u001b[0m \u001b[33m│\u001b[0m                            \u001b[1m}\u001b[0m                                             \u001b[33m│\u001b[0m \u001b[31m│\u001b[0m\n",
      "\u001b[31m│\u001b[0m \u001b[33m│\u001b[0m                      msg = \u001b[33m'\\n👋 Hello! This is openneuro-py 2024.2.0. \u001b[0m  \u001b[33m│\u001b[0m \u001b[31m│\u001b[0m\n",
      "\u001b[31m│\u001b[0m \u001b[33m│\u001b[0m                            \u001b[33mGreat to see you! 🤗\\n\\n   👉 Please \u001b[0m         \u001b[33m│\u001b[0m \u001b[31m│\u001b[0m\n",
      "\u001b[31m│\u001b[0m \u001b[33m│\u001b[0m                            \u001b[33mreport'\u001b[0m+\u001b[94m85\u001b[0m                                    \u001b[33m│\u001b[0m \u001b[31m│\u001b[0m\n",
      "\u001b[31m│\u001b[0m \u001b[33m│\u001b[0m                 msg_bugs = \u001b[33m'bugs 🪲'\u001b[0m                                     \u001b[33m│\u001b[0m \u001b[31m│\u001b[0m\n",
      "\u001b[31m│\u001b[0m \u001b[33m│\u001b[0m     msg_great_to_see_you = \u001b[33m'Great to see you! 🤗'\u001b[0m                        \u001b[33m│\u001b[0m \u001b[31m│\u001b[0m\n",
      "\u001b[31m│\u001b[0m \u001b[33m│\u001b[0m                msg_hello = \u001b[33m'👋 Hello!'\u001b[0m                                   \u001b[33m│\u001b[0m \u001b[31m│\u001b[0m\n",
      "\u001b[31m│\u001b[0m \u001b[33m│\u001b[0m               msg_please = \u001b[33m'👉 Please'\u001b[0m                                   \u001b[33m│\u001b[0m \u001b[31m│\u001b[0m\n",
      "\u001b[31m│\u001b[0m \u001b[33m│\u001b[0m             msg_problems = \u001b[33m'problems 🤯'\u001b[0m                                 \u001b[33m���\u001b[0m \u001b[31m│\u001b[0m\n",
      "\u001b[31m│\u001b[0m \u001b[33m│\u001b[0m            retry_backoff = \u001b[94m0.5\u001b[0m                                           \u001b[33m│\u001b[0m \u001b[31m│\u001b[0m\n",
      "\u001b[31m│\u001b[0m \u001b[33m│\u001b[0m                      tag = \u001b[33m'00001'\u001b[0m                                       \u001b[33m│\u001b[0m \u001b[31m│\u001b[0m\n",
      "\u001b[31m│\u001b[0m \u001b[33m│\u001b[0m               target_dir = \u001b[1;35mPosixPath\u001b[0m\u001b[1m(\u001b[0m\u001b[33m'/home/jovyan/Data/dataset/ds00017…\u001b[0m \u001b[33m│\u001b[0m \u001b[31m│\u001b[0m\n",
      "\u001b[31m│\u001b[0m \u001b[33m│\u001b[0m         target_dir_empty = \u001b[94mFalse\u001b[0m                                         \u001b[33m│\u001b[0m \u001b[31m│\u001b[0m\n",
      "\u001b[31m│\u001b[0m \u001b[33m│\u001b[0m              verify_hash = \u001b[94mTrue\u001b[0m                                          \u001b[33m│\u001b[0m \u001b[31m│\u001b[0m\n",
      "\u001b[31m│\u001b[0m \u001b[33m│\u001b[0m              verify_size = \u001b[94mTrue\u001b[0m                                          \u001b[33m│\u001b[0m \u001b[31m│\u001b[0m\n",
      "\u001b[31m│\u001b[0m \u001b[33m╰────────────────────────────────────────────��─────────────────────────────╯\u001b[0m \u001b[31m│\u001b[0m\n",
      "\u001b[31m│\u001b[0m                                                                              \u001b[31m│\u001b[0m\n",
      "\u001b[31m│\u001b[0m \u001b[2;33m/opt/conda/lib/python3.11/site-packages/openneuro/\u001b[0m\u001b[1;33m_download.py\u001b[0m:\u001b[94m587\u001b[0m in        \u001b[31m│\u001b[0m\n",
      "\u001b[31m│\u001b[0m \u001b[92m_get_local_tag\u001b[0m                                                               \u001b[31m│\u001b[0m\n",
      "\u001b[31m│\u001b[0m                                                                              \u001b[31m│\u001b[0m\n",
      "\u001b[31m│\u001b[0m   \u001b[2m584 \u001b[0m\u001b[2m│   \u001b[0mlocal_json = json.loads(local_json_file_content)                   \u001b[31m│\u001b[0m\n",
      "\u001b[31m│\u001b[0m   \u001b[2m585 \u001b[0m\u001b[2m│   \u001b[0m                                                                   \u001b[31m│\u001b[0m\n",
      "\u001b[31m│\u001b[0m   \u001b[2m586 \u001b[0m\u001b[2m│   \u001b[0m\u001b[94mif\u001b[0m \u001b[33m\"\u001b[0m\u001b[33mDatasetDOI\u001b[0m\u001b[33m\"\u001b[0m \u001b[95mnot\u001b[0m \u001b[95min\u001b[0m local_json:                                 \u001b[31m│\u001b[0m\n",
      "\u001b[31m│\u001b[0m \u001b[31m❱ \u001b[0m587 \u001b[2m│   │   \u001b[0m\u001b[94mraise\u001b[0m \u001b[96mRuntimeError\u001b[0m(                                            \u001b[31m│\u001b[0m\n",
      "\u001b[31m│\u001b[0m   \u001b[2m588 \u001b[0m\u001b[2m│   │   │   \u001b[0m\u001b[33m'\u001b[0m\u001b[33mLocal \u001b[0m\u001b[33m\"\u001b[0m\u001b[33mdataset_description.json\u001b[0m\u001b[33m\"\u001b[0m\u001b[33m does not contain \u001b[0m\u001b[33m'\u001b[0m       \u001b[31m│\u001b[0m\n",
      "\u001b[31m│\u001b[0m   \u001b[2m589 \u001b[0m\u001b[2m│   │   │   \u001b[0m\u001b[33m'\u001b[0m\u001b[33m\"\u001b[0m\u001b[33mDatasetDOI\u001b[0m\u001b[33m\"\u001b[0m\u001b[33m field. Are you sure this is the \u001b[0m\u001b[33m'\u001b[0m            \u001b[31m│\u001b[0m\n",
      "\u001b[31m│\u001b[0m   \u001b[2m590 \u001b[0m\u001b[2m│   │   │   \u001b[0m\u001b[33m\"\u001b[0m\u001b[33mcorrect directory?\u001b[0m\u001b[33m\"\u001b[0m                                       \u001b[31m│\u001b[0m\n",
      "\u001b[31m│\u001b[0m                                                                              \u001b[31m│\u001b[0m\n",
      "\u001b[31m│\u001b[0m \u001b[33m╭─\u001b[0m\u001b[33m────────────────────────────────\u001b[0m\u001b[33m locals \u001b[0m\u001b[33m────────────────────────────────\u001b[0m\u001b[33m─╮\u001b[0m \u001b[31m│\u001b[0m\n",
      "\u001b[31m│\u001b[0m \u001b[33m│\u001b[0m             dataset_dir = \u001b[1;35mPosixPath\u001b[0m\u001b[1m(\u001b[0m\u001b[33m'/home/jovyan/Data/dataset/ds000171…\u001b[0m \u001b[33m│\u001b[0m \u001b[31m│\u001b[0m\n",
      "\u001b[31m│\u001b[0m \u001b[33m│\u001b[0m              dataset_id = \u001b[33m'ds000171'\u001b[0m                                     \u001b[33m│\u001b[0m \u001b[31m│\u001b[0m\n",
      "\u001b[31m│\u001b[0m \u001b[33m│\u001b[0m              local_json = \u001b[1m{\u001b[0m                                              \u001b[33m│\u001b[0m \u001b[31m│\u001b[0m\n",
      "\u001b[31m│\u001b[0m \u001b[33m│\u001b[0m                           \u001b[2m│   \u001b[0m\u001b[33m'Name'\u001b[0m: \u001b[33m'Neural Processing of Emotional \u001b[0m   \u001b[33m│\u001b[0m \u001b[31m│\u001b[0m\n",
      "\u001b[31m│\u001b[0m \u001b[33m│\u001b[0m                           \u001b[33mMusical and Nonmusical Stimuli in Depression'\u001b[0m, \u001b[33m│\u001b[0m \u001b[31m│\u001b[0m\n",
      "\u001b[31m│\u001b[0m \u001b[33m│\u001b[0m                           \u001b[2m│   \u001b[0m\u001b[33m'BIDSVersion'\u001b[0m: \u001b[33m'1.0.0-rc2'\u001b[0m,                \u001b[33m│\u001b[0m \u001b[31m│\u001b[0m\n",
      "\u001b[31m│\u001b[0m \u001b[33m│\u001b[0m                           \u001b[2m│   \u001b[0m\u001b[33m'License'\u001b[0m: \u001b[33m'PDDL'\u001b[0m,                         \u001b[33m│\u001b[0m \u001b[31m│\u001b[0m\n",
      "\u001b[31m│\u001b[0m \u001b[33m│\u001b[0m                           \u001b[2m│   \u001b[0m\u001b[33m'Authors'\u001b[0m: \u001b[1m[\u001b[0m                               \u001b[33m│\u001b[0m \u001b[31m│\u001b[0m\n",
      "\u001b[31m│\u001b[0m \u001b[33m│\u001b[0m                           \u001b[2m│   │   \u001b[0m\u001b[33m'Rebecca J. Lepping'\u001b[0m,                  \u001b[33m│\u001b[0m \u001b[31m│\u001b[0m\n",
      "\u001b[31m│\u001b[0m \u001b[33m│\u001b[0m                           \u001b[2m│   │   \u001b[0m\u001b[33m'Ruth Ann Atchley'\u001b[0m,                    \u001b[33m│\u001b[0m \u001b[31m│\u001b[0m\n",
      "\u001b[31m│\u001b[0m \u001b[33m│\u001b[0m                           \u001b[2m│   │   \u001b[0m\u001b[33m'Evangelia Chrysikou'\u001b[0m,                 \u001b[33m│\u001b[0m \u001b[31m│\u001b[0m\n",
      "\u001b[31m│\u001b[0m \u001b[33m│\u001b[0m                           \u001b[2m│   │   \u001b[0m\u001b[33m'Laura E. Martin'\u001b[0m,                     \u001b[33m│\u001b[0m \u001b[31m│\u001b[0m\n",
      "\u001b[31m│\u001b[0m \u001b[33m│\u001b[0m                           \u001b[2m│   │   \u001b[0m\u001b[33m'Alicia A. Clair'\u001b[0m,                     \u001b[33m│\u001b[0m \u001b[31m│\u001b[0m\n",
      "\u001b[31m│\u001b[0m \u001b[33m│\u001b[0m                           \u001b[2m│   │   \u001b[0m\u001b[33m'Rick E. Ingram'\u001b[0m,                      \u001b[33m│\u001b[0m \u001b[31m│\u001b[0m\n",
      "\u001b[31m│\u001b[0m \u001b[33m│\u001b[0m                           \u001b[2m│   │   \u001b[0m\u001b[33m'W. Kyle Simmons'\u001b[0m,                     \u001b[33m│\u001b[0m \u001b[31m│\u001b[0m\n",
      "\u001b[31m│\u001b[0m \u001b[33m│\u001b[0m                           \u001b[2m│   │   \u001b[0m\u001b[33m'Cary R. Savage'\u001b[0m                       \u001b[33m│\u001b[0m \u001b[31m│\u001b[0m\n",
      "\u001b[31m│\u001b[0m \u001b[33m│\u001b[0m                           \u001b[2m│   \u001b[0m\u001b[1m]\u001b[0m,                                         \u001b[33m│\u001b[0m \u001b[31m│\u001b[0m\n",
      "\u001b[31m│\u001b[0m \u001b[33m│\u001b[0m                           \u001b[2m│   \u001b[0m\u001b[33m'Acknowledgements'\u001b[0m: \u001b[33m'The authors wish to \u001b[0m  \u001b[33m│\u001b[0m \u001b[31m│\u001b[0m\n",
      "\u001b[31m│\u001b[0m \u001b[33m│\u001b[0m                           \u001b[33macknowledge Trisha Patrician and Natalie \u001b[0m      \u001b[33m│\u001b[0m \u001b[31m│\u001b[0m\n",
      "\u001b[31m│\u001b[0m \u001b[33m│\u001b[0m                           \u001b[33mStroupe for their a'\u001b[0m+\u001b[94m124\u001b[0m,                      \u001b[33m│\u001b[0m \u001b[31m│\u001b[0m\n",
      "\u001b[31m│\u001b[0m \u001b[33m│\u001b[0m                           \u001b[2m│   \u001b[0m\u001b[33m'HowToAcknowledge'\u001b[0m: \u001b[33m'Please cite the \u001b[0m      \u001b[33m│\u001b[0m \u001b[31m│\u001b[0m\n",
      "\u001b[31m│\u001b[0m \u001b[33m│\u001b[0m                           \u001b[33mpapers listed in the ReferencesAndLinks'\u001b[0m,      \u001b[33m│\u001b[0m \u001b[31m│\u001b[0m\n",
      "\u001b[31m│\u001b[0m \u001b[33m│\u001b[0m                           \u001b[2m│   \u001b[0m\u001b[33m'Funding'\u001b[0m: \u001b[33m'This work was supported by \u001b[0m    \u001b[33m│\u001b[0m \u001b[31m│\u001b[0m\n",
      "\u001b[31m│\u001b[0m \u001b[33m│\u001b[0m                           \u001b[33mfunding to RL from The Society for Education, \u001b[0m \u001b[33m│\u001b[0m \u001b[31m│\u001b[0m\n",
      "\u001b[31m│\u001b[0m \u001b[33m│\u001b[0m                           \u001b[33mMusic a'\u001b[0m+\u001b[94m676\u001b[0m,                                  \u001b[33m│\u001b[0m \u001b[31m│\u001b[0m\n",
      "\u001b[31m│\u001b[0m \u001b[33m│\u001b[0m                           \u001b[2m│   \u001b[0m\u001b[33m'ReferencesAndLinks'\u001b[0m: \u001b[1m[\u001b[0m                    \u001b[33m│\u001b[0m \u001b[31m│\u001b[0m\n",
      "\u001b[31m│\u001b[0m \u001b[33m│\u001b[0m                           \u001b[2m│   │   \u001b[0m\u001b[33m'Lepping RJ, Atchley RA, Chrysikou E, \u001b[0m \u001b[33m│\u001b[0m \u001b[31m│\u001b[0m\n",
      "\u001b[31m│\u001b[0m \u001b[33m│\u001b[0m                           \u001b[33mMartin LE, Clair AA, Ingram RE, et al. \u001b[0m        \u001b[33m│\u001b[0m \u001b[31m│\u001b[0m\n",
      "\u001b[31m│\u001b[0m \u001b[33m│\u001b[0m                           \u001b[33mNeur'\u001b[0m+\u001b[94m93\u001b[0m,                                      \u001b[33m│\u001b[0m \u001b[31m│\u001b[0m\n",
      "\u001b[31m│\u001b[0m \u001b[33m│\u001b[0m                           \u001b[2m│   │   \u001b[0m\u001b[33m'Lepping RJ, Atchley RA, Savage CR. \u001b[0m   \u001b[33m│\u001b[0m \u001b[31m│\u001b[0m\n",
      "\u001b[31m│\u001b[0m \u001b[33m│\u001b[0m                           \u001b[33mDevelopment of a Validated Emotionally \u001b[0m        \u001b[33m│\u001b[0m \u001b[31m│\u001b[0m\n",
      "\u001b[31m│\u001b[0m \u001b[33m│\u001b[0m                           \u001b[33mProvoc'\u001b[0m+\u001b[94m118\u001b[0m,                                   \u001b[33m│\u001b[0m \u001b[31m│\u001b[0m\n",
      "\u001b[31m│\u001b[0m \u001b[33m│\u001b[0m                           \u001b[2m│   │   \u001b[0m\u001b[33m'Lepping RJ, Atchley RA, Martin LE, \u001b[0m   \u001b[33m│\u001b[0m \u001b[31m│\u001b[0m\n",
      "\u001b[31m│\u001b[0m \u001b[33m│\u001b[0m                           \u001b[33mPatrician TM, Stroupe N, Brooks WM, et al. \u001b[0m    \u001b[33m│\u001b[0m \u001b[31m│\u001b[0m\n",
      "\u001b[31m│\u001b[0m \u001b[33m│\u001b[0m                           \u001b[33mLi'\u001b[0m+\u001b[94m162\u001b[0m,                                       \u001b[33m│\u001b[0m \u001b[31m│\u001b[0m\n",
      "\u001b[31m│\u001b[0m \u001b[33m│\u001b[0m                           \u001b[2m│   │   \u001b[0m\u001b[33m'Lepping RJ, Atchley RA, Martin LE, \u001b[0m   \u001b[33m│\u001b[0m \u001b[31m│\u001b[0m\n",
      "\u001b[31m│\u001b[0m \u001b[33m│\u001b[0m                           \u001b[33mBrooks WM, Clair AA, Ingram RE, et al. \u001b[0m        \u001b[33m│\u001b[0m \u001b[31m│\u001b[0m\n",
      "\u001b[31m│\u001b[0m \u001b[33m│\u001b[0m                           \u001b[33mMusica'\u001b[0m+\u001b[94m158\u001b[0m,                                   \u001b[33m│\u001b[0m \u001b[31m│\u001b[0m\n",
      "\u001b[31m│\u001b[0m \u001b[33m│\u001b[0m                           \u001b[2m│   │   \u001b[0m\u001b[33m'Lepping RJ, Atchley RA, Martin LE, \u001b[0m   \u001b[33m│\u001b[0m \u001b[31m│\u001b[0m\n",
      "\u001b[31m│\u001b[0m \u001b[33m│\u001b[0m                           \u001b[33mPatrician TM, Ingram RE, Clair AA, et al. \u001b[0m     \u001b[33m│\u001b[0m \u001b[31m│\u001b[0m\n",
      "\u001b[31m│\u001b[0m \u001b[33m│\u001b[0m                           \u001b[33mThe'\u001b[0m+\u001b[94m226\u001b[0m,                                      \u001b[33m│\u001b[0m \u001b[31m│\u001b[0m\n",
      "\u001b[31m│\u001b[0m \u001b[33m│\u001b[0m                           \u001b[2m│   │   \u001b[0m\u001b[33m'Lepping RJ, Atchley RA, Patrician TM,\u001b[0m \u001b[33m│\u001b[0m \u001b[31m│\u001b[0m\n",
      "\u001b[31m│\u001b[0m \u001b[33m│\u001b[0m                           \u001b[33mStroupe NN, Martin LE, Ingram RE, et al. \u001b[0m      \u001b[33m│\u001b[0m \u001b[31m│\u001b[0m\n",
      "\u001b[31m│\u001b[0m \u001b[33m│\u001b[0m                           \u001b[33mM'\u001b[0m+\u001b[94m186\u001b[0m                                         \u001b[33m│\u001b[0m \u001b[31m│\u001b[0m\n",
      "\u001b[31m│\u001b[0m \u001b[33m│\u001b[0m                           \u001b[2m│   \u001b[0m\u001b[1m]\u001b[0m,                                         \u001b[33m│\u001b[0m \u001b[31m│\u001b[0m\n",
      "\u001b[31m│\u001b[0m \u001b[33m│\u001b[0m                           \u001b[2m│   \u001b[0m\u001b[33m'AccessionNumber'\u001b[0m: \u001b[33m'ds000171'\u001b[0m              \u001b[33m│\u001b[0m \u001b[31m│\u001b[0m\n",
      "\u001b[31m│\u001b[0m \u001b[33m│\u001b[0m                           \u001b[1m}\u001b[0m                                              \u001b[33m│\u001b[0m \u001b[31m│\u001b[0m\n",
      "\u001b[31m│\u001b[0m \u001b[33m│\u001b[0m local_json_file_content = \u001b[33m'\u001b[0m\u001b[1;33m{\u001b[0m\u001b[33m\"Name\":\"Neural Processing of Emotional \u001b[0m      \u001b[33m│\u001b[0m \u001b[31m│\u001b[0m\n",
      "\u001b[31m│\u001b[0m \u001b[33m│\u001b[0m                           \u001b[33mMusical and Nonmusical Stimuli in Depres'\u001b[0m+\u001b[94m2776\u001b[0m \u001b[33m│\u001b[0m \u001b[31m│\u001b[0m\n",
      "\u001b[31m│\u001b[0m \u001b[33m│\u001b[0m         local_json_path = \u001b[1;35mPosixPath\u001b[0m\u001b[1m(\u001b[0m\u001b[33m'/home/jovyan/Data/dataset/ds000171…\u001b[0m \u001b[33m│\u001b[0m \u001b[31m│\u001b[0m\n",
      "\u001b[31m│\u001b[0m \u001b[33m╰──────────────────────────────────────────────────────────────────────────╯\u001b[0m \u001b[31m│\u001b[0m\n",
      "\u001b[31m╰──────────────────────────────────────────────────────────────────────────────╯\u001b[0m\n",
      "\u001b[1;91mRuntimeError: \u001b[0mLocal \u001b[32m\"dataset_description.json\"\u001b[0m does not contain \u001b[32m\"DatasetDOI\"\u001b[0m \n",
      "field. Are you sure this is the correct directory?\n"
     ]
    },
    {
     "ename": "CalledProcessError",
     "evalue": "Command '['openneuro-py', 'download', '--dataset', 'ds000171', '--target-dir', '/home/jovyan/Data/dataset/ds000171', '--include', 'sub-control01/*']' returned non-zero exit status 1.",
     "output_type": "error",
     "traceback": [
      "\u001b[0;31m---------------------------------------------------------------------------\u001b[0m",
      "\u001b[0;31mCalledProcessError\u001b[0m                        Traceback (most recent call last)",
      "Cell \u001b[0;32mIn[5], line 4\u001b[0m\n\u001b[1;32m      1\u001b[0m \u001b[38;5;66;03m###################\u001b[39;00m\n\u001b[1;32m      2\u001b[0m \u001b[38;5;66;03m# Openneuro download.\u001b[39;00m\n\u001b[1;32m      3\u001b[0m \u001b[38;5;66;03m###################\u001b[39;00m\n\u001b[0;32m----> 4\u001b[0m \u001b[43msubprocess\u001b[49m\u001b[38;5;241;43m.\u001b[39;49m\u001b[43mrun\u001b[49m\u001b[43m(\u001b[49m\u001b[43m[\u001b[49m\u001b[38;5;124;43m\"\u001b[39;49m\u001b[38;5;124;43mopenneuro-py\u001b[39;49m\u001b[38;5;124;43m\"\u001b[39;49m\u001b[43m,\u001b[49m\u001b[43m \u001b[49m\u001b[38;5;124;43m\"\u001b[39;49m\u001b[38;5;124;43mdownload\u001b[39;49m\u001b[38;5;124;43m\"\u001b[39;49m\u001b[43m,\u001b[49m\u001b[43m \u001b[49m\u001b[38;5;124;43m\"\u001b[39;49m\u001b[38;5;124;43m--dataset\u001b[39;49m\u001b[38;5;124;43m\"\u001b[39;49m\u001b[43m,\u001b[49m\u001b[43m \u001b[49m\u001b[43mdataset_id\u001b[49m\u001b[43m,\u001b[49m\u001b[43m \u001b[49m\u001b[38;5;66;43;03m# Openneuro has for each dataset a unique identifier\u001b[39;49;00m\n\u001b[1;32m      5\u001b[0m \u001b[43m                \u001b[49m\u001b[38;5;124;43m\"\u001b[39;49m\u001b[38;5;124;43m--target-dir\u001b[39;49m\u001b[38;5;124;43m\"\u001b[39;49m\u001b[43m,\u001b[49m\u001b[43m \u001b[49m\u001b[43mbids_root\u001b[49m\u001b[43m,\u001b[49m\u001b[43m  \u001b[49m\u001b[38;5;66;43;03m# The path where we want to save our data. You should save your data under /home/jovyan/Data/[your dataset ID] to be 100% fool-proof\u001b[39;49;00m\n\u001b[1;32m      6\u001b[0m \u001b[43m                \u001b[49m\u001b[38;5;124;43m\"\u001b[39;49m\u001b[38;5;124;43m--include\u001b[39;49m\u001b[38;5;124;43m\"\u001b[39;49m\u001b[43m,\u001b[49m\u001b[43m \u001b[49m\u001b[43mop\u001b[49m\u001b[38;5;241;43m.\u001b[39;49m\u001b[43mjoin\u001b[49m\u001b[43m(\u001b[49m\u001b[43msubject_dir\u001b[49m\u001b[43m,\u001b[49m\u001b[43m \u001b[49m\u001b[38;5;124;43m'\u001b[39;49m\u001b[38;5;124;43m*\u001b[39;49m\u001b[38;5;124;43m'\u001b[39;49m\u001b[43m)\u001b[49m\u001b[43m,\u001b[49m\u001b[38;5;66;43;03m# We are asking to get all files within the subject_dirt folder by using the wildcard *\u001b[39;49;00m\n\u001b[1;32m      7\u001b[0m \u001b[43m               \u001b[49m\u001b[43m]\u001b[49m\u001b[43m,\u001b[49m\u001b[43m \u001b[49m\u001b[43mcheck\u001b[49m\u001b[38;5;241;43m=\u001b[39;49m\u001b[38;5;28;43;01mTrue\u001b[39;49;00m\u001b[43m)\u001b[49m\n\u001b[1;32m      9\u001b[0m \u001b[38;5;66;03m###################\u001b[39;00m\n\u001b[1;32m     10\u001b[0m \u001b[38;5;66;03m# Create folders relevant for preprocessing.\u001b[39;00m\n\u001b[1;32m     11\u001b[0m \u001b[38;5;66;03m# In BIDs, ANYTHING we modify must go in the derivatives folder, to keep original files clean in case we make a mistake.\u001b[39;00m\n\u001b[1;32m     12\u001b[0m \u001b[38;5;66;03m###################\u001b[39;00m\n\u001b[1;32m     13\u001b[0m mkdir_no_exist(op\u001b[38;5;241m.\u001b[39mjoin(bids_root, \u001b[38;5;124m'\u001b[39m\u001b[38;5;124mderivatives\u001b[39m\u001b[38;5;124m'\u001b[39m))\n",
      "File \u001b[0;32m/opt/conda/lib/python3.11/subprocess.py:571\u001b[0m, in \u001b[0;36mrun\u001b[0;34m(input, capture_output, timeout, check, *popenargs, **kwargs)\u001b[0m\n\u001b[1;32m    569\u001b[0m     retcode \u001b[38;5;241m=\u001b[39m process\u001b[38;5;241m.\u001b[39mpoll()\n\u001b[1;32m    570\u001b[0m     \u001b[38;5;28;01mif\u001b[39;00m check \u001b[38;5;129;01mand\u001b[39;00m retcode:\n\u001b[0;32m--> 571\u001b[0m         \u001b[38;5;28;01mraise\u001b[39;00m CalledProcessError(retcode, process\u001b[38;5;241m.\u001b[39margs,\n\u001b[1;32m    572\u001b[0m                                  output\u001b[38;5;241m=\u001b[39mstdout, stderr\u001b[38;5;241m=\u001b[39mstderr)\n\u001b[1;32m    573\u001b[0m \u001b[38;5;28;01mreturn\u001b[39;00m CompletedProcess(process\u001b[38;5;241m.\u001b[39margs, retcode, stdout, stderr)\n",
      "\u001b[0;31mCalledProcessError\u001b[0m: Command '['openneuro-py', 'download', '--dataset', 'ds000171', '--target-dir', '/home/jovyan/Data/dataset/ds000171', '--include', 'sub-control01/*']' returned non-zero exit status 1."
     ]
    }
   ],
   "source": [
    "###################\n",
    "# Openneuro download.\n",
    "###################\n",
    "subprocess.run([\"openneuro-py\", \"download\", \"--dataset\", dataset_id, # Openneuro has for each dataset a unique identifier\n",
    "                \"--target-dir\", bids_root,  # The path where we want to save our data. You should save your data under /home/jovyan/Data/[your dataset ID] to be 100% fool-proof\n",
    "                \"--include\", op.join(subject_dir, '*'),# We are asking to get all files within the subject_dirt folder by using the wildcard *\n",
    "               ], check=True)\n",
    "\n",
    "###################\n",
    "# Create folders relevant for preprocessing.\n",
    "# In BIDs, ANYTHING we modify must go in the derivatives folder, to keep original files clean in case we make a mistake.\n",
    "###################\n",
    "mkdir_no_exist(op.join(bids_root, 'derivatives'))\n",
    "preproc_root = op.join(bids_root, 'derivatives','preprocessed_data')\n",
    "mkdir_no_exist(preproc_root)\n",
    "mkdir_no_exist(op.join(preproc_root, 'sub-control01'))\n",
    "mkdir_no_exist(op.join(preproc_root, 'sub-control01', 'anat'))\n",
    "mkdir_no_exist(op.join(preproc_root, 'sub-control01', 'func'))\n",
    "mkdir_no_exist(op.join(preproc_root, 'sub-control01', 'fmap'))"
   ]
  },
  {
   "cell_type": "markdown",
   "id": "d1fe5bac-805f-4f80-8927-08d1c9c0a399",
   "metadata": {},
   "source": [
    "<h3>Function used to clear the directory in case the process compromises the data and we need to download everything again :</h3>"
   ]
  },
  {
   "cell_type": "code",
   "execution_count": null,
   "id": "5b6889d0-1359-43f9-b93a-6176978d2d2f",
   "metadata": {},
   "outputs": [],
   "source": [
    "def clear_data(basis = True, deriv = True, anat = True, func = True, mask = False):\n",
    "    if basis:\n",
    "        os.remove(op.join(bids_root, 'README'))\n",
    "        os.remove(op.join(bids_root, 'CHANGES'))\n",
    "        os.remove(op.join(bids_root, 'participants.tsv'))\n",
    "        os.remove(op.join(bids_root, 'dataset_description.json'))\n",
    "    if mask:\n",
    "        os.remove(op.join(bids_root, 'derivatives', 'preprocessed_data', 'sub-control01', 'anat', 'sub-control01_T1w.nii.gz'))\n",
    "        os.remove(op.join(bids_root, 'derivatives', 'preprocessed_data', 'sub-control01', 'anat', 'sub-control01_T1w_mask.nii.gz'))\n",
    "    if deriv:\n",
    "        os.rmdir(op.join(bids_root, 'derivatives', 'preprocessed_data', 'sub-control01', 'anat'))\n",
    "        os.rmdir(op.join(bids_root, 'derivatives', 'preprocessed_data', 'sub-control01', 'fmap'))\n",
    "        os.rmdir(op.join(bids_root, 'derivatives', 'preprocessed_data', 'sub-control01', 'func'))\n",
    "    if anat:\n",
    "        os.remove(op.join(bids_root, 'sub-control01','anat', 'sub-control01_T1w.nii.gz'))\n",
    "        os.rmdir(op.join(bids_root, 'sub-control01', 'anat'))\n",
    "    if func:\n",
    "        os.remove(op.join(bids_root,'sub-control01','func', 'sub-control01_task-music_run-1_bold.nii.gz'))\n",
    "        os.remove(op.join(bids_root, 'sub-control01','func', 'sub-control01_task-music_run-2_bold.nii.gz'))\n",
    "        os.remove(op.join(bids_root,'sub-control01','func', 'sub-control01_task-music_run-3_bold.nii.gz'))\n",
    "        os.remove(op.join(bids_root,  'sub-control01','func', 'sub-control01_task-nonmusic_run-4_bold.nii.gz'))\n",
    "        os.remove(op.join(bids_root, 'sub-control01','func', 'sub-control01_task-nonmusic_run-5_bold.nii.gz'))\n",
    "        os.remove(op.join(bids_root,  'sub-control01','func', 'sub-control01_task-music_run-1_events.tsv'))\n",
    "        os.remove(op.join(bids_root, 'sub-control01','func', 'sub-control01_task-music_run-2_events.tsv'))\n",
    "        os.remove(op.join(bids_root, 'sub-control01','func', 'sub-control01_task-music_run-3_events.tsv'))\n",
    "        os.remove(op.join(bids_root,'sub-control01','func', 'sub-control01_task-nonmusic_run-4_events.tsv'))\n",
    "        os.remove(op.join(bids_root, 'sub-control01','func', 'sub-control01_task-nonmusic_run-5_events.tsv'))\n",
    "        os.rmdir(op.join(bids_root, 'sub-control01','func'))\n",
    "    os.rmdir(op.join(bids_root, 'sub-control01'))\n",
    "    os.rmdir(op.join(bids_root, 'derivatives', 'preprocessed_data', 'sub-001'))\n",
    "    os.rmdir(op.join(bids_root, 'derivatives', 'preprocessed_data'))\n",
    "    os.rmdir(op.join(bids_root, 'derivatives'))"
   ]
  },
  {
   "cell_type": "code",
   "execution_count": 6,
   "id": "f3860776-b3a0-4cc4-b815-cfbbcb05e5b9",
   "metadata": {},
   "outputs": [
    {
     "name": "stdout",
     "output_type": "stream",
     "text": [
      "|ds000171/\n",
      "|--- CHANGES\n",
      "|--- README\n",
      "|--- dataset_description.json\n",
      "|--- participants.tsv\n",
      "|--- derivatives/\n",
      "|------ preprocessed_data/\n",
      "|--------- sub-control01/\n",
      "|------------ anat/\n",
      "|------------ fmap/\n",
      "|------------ func/\n",
      "|--- sub-control01/\n",
      "|------ anat/\n",
      "|--------- sub-control01_T1w.nii.gz\n",
      "|------ func/\n",
      "|--------- sub-control01_task-music_run-1_bold.nii.gz\n",
      "|--------- sub-control01_task-music_run-1_events.tsv\n",
      "|--------- sub-control01_task-music_run-2_bold.nii.gz\n",
      "|--------- sub-control01_task-music_run-2_events.tsv\n",
      "|--------- sub-control01_task-music_run-3_bold.nii.gz\n",
      "|--------- sub-control01_task-music_run-3_events.tsv\n",
      "|--------- sub-control01_task-nonmusic_run-4_bold.nii.gz\n",
      "|--------- sub-control01_task-nonmusic_run-4_events.tsv\n",
      "|--------- sub-control01_task-nonmusic_run-5_bold.nii.gz\n",
      "|--------- sub-control01_task-nonmusic_run-5_events.tsv\n"
     ]
    }
   ],
   "source": [
    "print_dir_tree(bids_root, max_depth=5)"
   ]
  },
  {
   "cell_type": "code",
   "execution_count": 7,
   "id": "9a0a7547-efd6-4ffd-a37b-7fa3194231eb",
   "metadata": {},
   "outputs": [],
   "source": [
    "patient_path = op.join(bids_root, 'sub-control01')\n",
    "anatomical_path = op.join(patient_path, 'anat')\n",
    "anatomical_file = op.join(anatomical_path, 'sub-control01_T1w.nii.gz')\n",
    "functional_path = op.join(patient_path, 'func')"
   ]
  },
  {
   "cell_type": "markdown",
   "id": "75320d13-e46e-4674-9114-e56a861bd613",
   "metadata": {},
   "source": [
    "<h2>Skull Stripping (Here robust method is used)</h2>"
   ]
  },
  {
   "cell_type": "code",
   "execution_count": 8,
   "id": "89fa5fd4-dce1-46c6-8c4b-048b18b8a576",
   "metadata": {},
   "outputs": [
    {
     "name": "stdout",
     "output_type": "stream",
     "text": [
      "Done with BET.\n"
     ]
    }
   ],
   "source": [
    "def get_skull_stripped_anatomical(bids_root, preproc_root, subject_id, robust=False):\n",
    "    \"\"\"\n",
    "    Function to perform skull-stripping (removing the skull around the brain).\n",
    "    This is a simple wrapper around the brain extraction tool (BET) in FSL's suite\n",
    "    It assumes data to be in the BIDS format (which we will cover in the following weeks).\n",
    "    The method also saves the brain mask which was used to extract the brain.\n",
    "\n",
    "    The brain extraction is conducted only on the T1w of the participant.\n",
    "\n",
    "    Parameters\n",
    "    ----------result\n",
    "    bids_root: string\n",
    "        The root of the BIDS directory\n",
    "    preproc_root: string\n",
    "        The root of the preprocessed data, where the result of the brain extraction will be saved.\n",
    "    subject_id: string\n",
    "        Subject ID, the subject on which brain extraction should be conducted.\n",
    "    robust: bool\n",
    "        Whether to conduct robust center estimation with BET or not. Default is False.\n",
    "    \"\"\"\n",
    "    subject = 'sub-{}'.format(subject_id)\n",
    "    anat_path = op.join(bids_root, subject, 'anat', 'sub-{}_T1w.nii.gz'.format(subject_id))\n",
    "    betted_brain_path = op.join(preproc_root, subject, 'anat', 'sub-{}_T1w'.format(subject_id))\n",
    "    os.system('bet {} {} -m {}'.format(anat_path, betted_brain_path, '-R' if robust else ''))\n",
    "    print(\"Done with BET.\")\n",
    "\n",
    "resulting_mask_path = op.join(preproc_root, 'sub-control01', 'anat', 'sub-control01_T1w_mask')\n",
    "get_skull_stripped_anatomical(bids_root, preproc_root, \"control01\", True\n",
    "resulting_treated_path = op.join(preproc_root, 'sub-control01', 'anat', 'sub-control01_T1w.nii.gz')"
   ]
  },
  {
   "cell_type": "code",
   "execution_count": 9,
   "id": "dc1ffa38-8bf2-4c25-9164-949e5a77db85",
   "metadata": {},
   "outputs": [
    {
     "name": "stdout",
     "output_type": "stream",
     "text": [
      "|ds000171/\n",
      "|--- CHANGES\n",
      "|--- README\n",
      "|--- dataset_description.json\n",
      "|--- participants.tsv\n",
      "|--- derivatives/\n",
      "|------ preprocessed_data/\n",
      "|--------- sub-control01/\n",
      "|------------ anat/\n",
      "|--------------- sub-control01_T1w.nii.gz\n",
      "|--------------- sub-control01_T1w_mask.nii.gz\n",
      "|------------ fmap/\n",
      "|------------ func/\n",
      "|--- sub-control01/\n",
      "|------ anat/\n",
      "|--------- sub-control01_T1w.nii.gz\n",
      "|------ func/\n",
      "|--------- sub-control01_task-music_run-1_bold.nii.gz\n",
      "|--------- sub-control01_task-music_run-1_events.tsv\n",
      "|--------- sub-control01_task-music_run-2_bold.nii.gz\n",
      "|--------- sub-control01_task-music_run-2_events.tsv\n",
      "|--------- sub-control01_task-music_run-3_bold.nii.gz\n",
      "|--------- sub-control01_task-music_run-3_events.tsv\n",
      "|--------- sub-control01_task-nonmusic_run-4_bold.nii.gz\n",
      "|--------- sub-control01_task-nonmusic_run-4_events.tsv\n",
      "|--------- sub-control01_task-nonmusic_run-5_bold.nii.gz\n",
      "|--------- sub-control01_task-nonmusic_run-5_events.tsv\n"
     ]
    }
   ],
   "source": [
    "## TO VERIFY IF MASK WAS PROPERLY GENERATED\n",
    "print_dir_tree(bids_root, max_depth=5)"
   ]
  },
  {
   "cell_type": "code",
   "execution_count": 39,
   "id": "7c25f672-7561-47c3-a3df-a7e19cf613b6",
   "metadata": {},
   "outputs": [],
   "source": [
    "fsleyesDisplay.resetOverlays()\n",
    "fsleyesDisplay.load(anatomical_file)\n",
    "fsleyesDisplay.load(resulting_mask_path)"
   ]
  },
  {
   "cell_type": "code",
   "execution_count": 12,
   "id": "6b6d0e9b-a215-43dc-a373-a13d937ae63a",
   "metadata": {},
   "outputs": [],
   "source": [
    "fsleyesDisplay.resetOverlays()\n",
    "fsleyesDisplay.load(resulting_treated_path)"
   ]
  },
  {
   "cell_type": "code",
   "execution_count": 14,
   "id": "eb5bb667-dc82-4d5e-a90f-b507e12a7240",
   "metadata": {},
   "outputs": [],
   "source": [
    "def fsl_mask(img_path, mask_path, masked_img_path):\n",
    "    os.system('fslmaths {} -mas {} {}'.format(img_path, mask_path, masked_img_path))"
   ]
  },
  {
   "cell_type": "code",
   "execution_count": 16,
   "id": "bf7d714c-19d2-4f34-a759-cb8691a26666",
   "metadata": {},
   "outputs": [],
   "source": [
    "## IN CASE YOU WANT TO EDIT THE MASK THAT WAS GENERATED BY BET FEEL FREE TO SKIP IT ROBUST ALGORITHM SEEMS TO WORK PRETTY WELL\n",
    "fsl_mask(anatomical_file, resulting_mask_path, resulting_treated_path)"
   ]
  },
  {
   "cell_type": "code",
   "execution_count": 13,
   "id": "21c9d1ec-3c5c-4201-b9fb-cc0fe50ded0c",
   "metadata": {},
   "outputs": [],
   "source": [
    "functional_first_path = op.join(functional_path, 'sub-control01_task-music_run-1_bold.nii.gz')"
   ]
  },
  {
   "cell_type": "code",
   "execution_count": 19,
   "id": "69fc8c8a-7a95-4345-a172-2469d8aae523",
   "metadata": {},
   "outputs": [],
   "source": [
    "fsleyesDisplay.resetOverlays()\n",
    "fsleyesDisplay.load(op.join(functional_path, 'sub-control01_task-music_run-1_bold.nii.gz'))"
   ]
  },
  {
   "cell_type": "markdown",
   "id": "7927adef-8052-4b80-949f-280f197ef137",
   "metadata": {},
   "source": [
    "<h3>Use of FLIRT for alignment and organization of views</h3>"
   ]
  },
  {
   "cell_type": "code",
   "execution_count": 15,
   "id": "906cf055-8f78-45f2-bfc1-845c23c1fce1",
   "metadata": {},
   "outputs": [
    {
     "name": "stdout",
     "output_type": "stream",
     "text": [
      "\n",
      "Final result: \n",
      "0.003348 0.005721 -1.116064 204.794610 \n",
      "-0.933350 0.500887 0.005750 178.784833 \n",
      "0.501418 1.048657 -0.003251 -149.700516 \n",
      "0.000000 0.000000 0.000000 1.000000 \n",
      "\n"
     ]
    },
    {
     "data": {
      "text/plain": [
       "{}"
      ]
     },
     "execution_count": 15,
     "metadata": {},
     "output_type": "execute_result"
    }
   ],
   "source": [
    "from fsl.wrappers import flirt\n",
    "subject_id = 'control01'\n",
    "mni_template = op.expandvars(op.join('$FSLDIR', 'data', 'standard', 'MNI152_T1_1mm_brain'))\n",
    "target = resulting_treated_path # Fill me\n",
    "reference = mni_template # Fill me\n",
    "result = op.join(preproc_root, 'sub-{}'.format(subject_id), 'anat', 'sub-{}_T1w_mni'.format(subject_id))\n",
    "flirt(target, reference, out=result)"
   ]
  },
  {
   "cell_type": "code",
   "execution_count": 40,
   "id": "d6ee46db-cc5e-467b-b9de-281693edb396",
   "metadata": {},
   "outputs": [],
   "source": [
    "## VERIFY IF THE PROCESS HAPPENED CORRECTLY\n",
    "processed_volume = result\n",
    "fsleyesDisplay.resetOverlays()\n",
    "fsleyesDisplay.load(processed_volume)"
   ]
  },
  {
   "cell_type": "markdown",
   "id": "7414681e-65f7-4277-a6fb-0012ca8ea834",
   "metadata": {},
   "source": [
    "<h2>Normalization of the data</h2>"
   ]
  },
  {
   "cell_type": "code",
   "execution_count": 30,
   "id": "53bd4a3a-91c6-4b0c-8899-b5ab8359be57",
   "metadata": {},
   "outputs": [],
   "source": [
    "processed_functional_path = op.join(preproc_root, 'sub-control01', 'func')"
   ]
  },
  {
   "cell_type": "code",
   "execution_count": 37,
   "id": "e1ed6149-a498-44b5-a133-2f79e3e180ac",
   "metadata": {},
   "outputs": [],
   "source": [
    "output_3D_min = op.join(processed_functional_path, 'sub-control01_task-music_run-1_bold_min.nii.gz')\n",
    "output_3D_max = op.join(processed_functional_path, 'sub-control01_task-music_run-1_bold_max.nii.gz')\n",
    "output_4D_normalized = op.join(processed_functional_path, 'sub-control01_task-music_run-1_bold_normalized.nii.gz')"
   ]
  },
  {
   "cell_type": "code",
   "execution_count": null,
   "id": "e2fefa3f-03ef-4f41-b972-fcf1c1d39049",
   "metadata": {},
   "outputs": [],
   "source": [
    "## Commands\n",
    "## fslmaths input_4D.nii.gz -Tmin min_3D.nii.gz (find the minimum for all voxels accross time)\n",
    "## fslmaths input_4D.nii.gz -Tmax max_3D.nii.gz (find the maximum value for each voxel across time)"
   ]
  },
  {
   "cell_type": "code",
   "execution_count": 35,
   "id": "a6135cac-b82f-4dfd-81af-2824eeb68f97",
   "metadata": {},
   "outputs": [
    {
     "data": {
      "text/plain": [
       "0"
      ]
     },
     "execution_count": 35,
     "metadata": {},
     "output_type": "execute_result"
    }
   ],
   "source": [
    "os.system('fslmaths {} -Tmin {}'.format(functional_first_path, output_3D_min))\n",
    "os.system('fslmaths {} -Tmax {}'.format(functional_first_path, output_3D_max))"
   ]
  },
  {
   "cell_type": "code",
   "execution_count": 41,
   "id": "eeb6342a-5995-4242-a3af-d73d0a157050",
   "metadata": {},
   "outputs": [],
   "source": [
    "fsleyesDisplay.resetOverlays()\n",
    "fsleyesDisplay.load(output_3D_max)\n",
    "fsleyesDisplay.load(output_3D_min)"
   ]
  },
  {
   "cell_type": "code",
   "execution_count": 38,
   "id": "5ae5d64c-a89b-47e9-908a-b2c552d42874",
   "metadata": {},
   "outputs": [
    {
     "name": "stdout",
     "output_type": "stream",
     "text": [
      "\n",
      " Error in command line: unknown option \"/home/jovyan/Data/dataset/ds000171/derivatives/preprocessed_data/sub-control01/func/sub-control01_task-music_run-1_bold_min.nii.gz\"\n",
      "\n",
      "\n",
      "Usage: fslmaths [-dt <datatype>] <first_input> [operations and inputs] <output> [-odt <datatype>]\n",
      "\n",
      "Datatype information:\n",
      " -dt sets the datatype used internally for calculations (default float for all except double images)\n",
      " -odt sets the output datatype ( default is float )\n",
      " Possible datatypes are: char short int float double input\n",
      " \"input\" will set the datatype to that of the original image\n",
      "\n",
      "Binary operations:\n",
      "  (some inputs can be either an image or a number)\n",
      " -add   : add following input to current image\n",
      " -sub   : subtract following input from current image\n",
      " -mul   : multiply current image by following input\n",
      " -div   : divide current image by following input\n",
      " -rem   : modulus remainder - divide current image by following input and take remainder\n",
      " -mas   : use (following image>0) to mask current image\n",
      " -thr   : threshold below the following number (zero anything below the number)\n",
      " -thrp  : threshold below the following percentage (0-100) of ROBUST RANGE\n",
      " -thrP  : threshold below the following percentage (0-100) of the positive voxels' ROBUST RANGE\n",
      " -uthr  : upper-threshold above the following number (zero anything above the number)\n",
      " -uthrp : upper-threshold above the following percentage (0-100) of the ROBUST RANGE\n",
      " -uthrP : upper-threshold above the following percentage (0-100) of the positive voxels' ROBUST RANGE\n",
      " -max   : take maximum of following input and current image\n",
      " -min   : take minimum of following input and current image\n",
      " -seed  : seed random number generator with following number\n",
      " -restart : replace the current image with input for future processing operations\n",
      " -save : save the current working image to the input filename\n",
      "\n",
      "Basic unary operations:\n",
      " -exp   : exponential\n",
      " -log   : natural logarithm\n",
      " -sin   : sine function\n",
      " -cos   : cosine function\n",
      " -tan   : tangent function\n",
      " -asin  : arc sine function\n",
      " -acos  : arc cosine function\n",
      " -atan  : arc tangent function\n",
      " -sqr   : square\n",
      " -sqrt  : square root\n",
      " -recip : reciprocal (1/current image)\n",
      " -abs   : absolute value\n",
      " -bin   : use (current image>0) to binarise\n",
      " -binv  : binarise and invert (binarisation and logical inversion)\n",
      " -fillh : fill holes in a binary mask (holes are internal - i.e. do not touch the edge of the FOV)\n",
      " -fillh26 : fill holes using 26 connectivity\n",
      " -index : replace each nonzero voxel with a unique (subject to wrapping) index number\n",
      " -grid <value> <spacing> : add a 3D grid of intensity <value> with grid spacing <spacing>\n",
      " -edge  : edge strength\n",
      " -dog_edge <sigma1> <sigma2> : difference of gaussians edge filter. Typical sigma1 is 1.0 and sigma2 is 1.6\n",
      " -tfce <H> <E> <connectivity>: enhance with TFCE, e.g. -tfce 2 0.5 6 (maybe change 6 to 26 for skeletons)\n",
      " -tfceS <H> <E> <connectivity> <X> <Y> <Z> <tfce_thresh>: show support area for voxel (X,Y,Z)\n",
      " -nan   : replace NaNs (improper numbers) with 0\n",
      " -nanm  : make NaN (improper number) mask with 1 for NaN voxels, 0 otherwise\n",
      " -rand  : add uniform noise (range 0:1)\n",
      " -randn : add Gaussian noise (mean=0 sigma=1)\n",
      " -inm <mean> :  (-i i ip.c) intensity normalisation (per 3D volume mean)\n",
      " -ing <mean> :  (-I i ip.c) intensity normalisation, global 4D mean)\n",
      " -range : set the output calmin/max to full data range\n",
      "\n",
      "Matrix operations:\n",
      " -tensor_decomp : convert a 4D (6-timepoint )tensor image into L1,2,3,FA,MD,MO,V1,2,3 (remaining image in pipeline is FA)\n",
      "\n",
      "Kernel operations (set BEFORE filtering operation if desired):\n",
      " -kernel 3D : 3x3x3 box centered on target voxel (set as default kernel)\n",
      " -kernel 2D : 3x3x1 box centered on target voxel\n",
      " -kernel box    <size>     : all voxels in a cube of width <size> mm centered on target voxel\n",
      " -kernel boxv   <size>     : all voxels in a cube of width <size> voxels centered on target voxel, CAUTION: size should be an odd number\n",
      " -kernel boxv3  <X> <Y> <Z>: all voxels in a cuboid of dimensions X x Y x Z centered on target voxel, CAUTION: size should be an odd number\n",
      " -kernel gauss  <sigma>    : gaussian kernel (sigma in mm, not voxels)\n",
      " -kernel sphere <size>     : all voxels in a sphere of radius <size> mm centered on target voxel\n",
      " -kernel file   <filename> : use external file as kernel\n",
      "\n",
      "Spatial Filtering operations: N.B. all options apart from -s use the default kernel or that _previously_ specified by -kernel\n",
      " -dilM    : Mean Dilation of non-zero voxels\n",
      " -dilD    : Modal Dilation of non-zero voxels\n",
      " -dilF    : Maximum filtering of all voxels\n",
      " -dilall  : Apply -dilM repeatedly until the entire FOV is covered\n",
      " -ero     : Erode by zeroing non-zero voxels when zero voxels found in kernel\n",
      " -eroF    : Minimum filtering of all voxels\n",
      " -fmedian : Median Filtering \n",
      " -fmean   : Mean filtering, kernel weighted (conventionally used with gauss kernel)\n",
      " -fmeanu  : Mean filtering, kernel weighted, un-normalised (gives edge effects)\n",
      " -s <sigma> : create a gauss kernel of sigma mm and perform mean filtering\n",
      " -subsamp2  : downsamples image by a factor of 2 (keeping new voxels centred on old)\n",
      " -subsamp2offc  : downsamples image by a factor of 2 (non-centred)\n",
      "\n",
      "Dimensionality reduction operations:\n",
      "  (the \"T\" can be replaced by X, Y or Z to collapse across a different dimension)\n",
      " -Tmean   : mean across time\n",
      " -Tstd    : standard deviation across time\n",
      " -Tmax    : max across time\n",
      " -Tmaxn   : time index of max across time\n",
      " -Tmin    : min across time\n",
      " -Tmedian : median across time\n",
      " -Tperc <percentage> : nth percentile (0-100) of FULL RANGE across time\n",
      " -Tar1    : temporal AR(1) coefficient (use -odt float and probably demean first)\n",
      "\n",
      "Basic statistical operations:\n",
      " -pval    : Nonparametric uncorrected P-value, assuming timepoints are the permutations; first timepoint is actual (unpermuted) stats image\n",
      " -pval0   : Same as -pval, but treat zeros as missing data\n",
      " -cpval   : Same as -pval, but gives FWE corrected P-values\n",
      " -ztop    : Convert Z-stat to (uncorrected) P\n",
      " -ptoz    : Convert (uncorrected) P to Z\n",
      " -rank    : Convert data to ranks (over T dim)\n",
      " -ranknorm: Transform to Normal dist via ranks\n",
      "\n",
      "Multi-argument operations:\n",
      " -roi <xmin> <xsize> <ymin> <ysize> <zmin> <zsize> <tmin> <tsize> : zero outside roi (using voxel coordinates). Inputting -1 for a size will set it to the full image extent for that dimension.\n",
      " -bptf  <hp_sigma> <lp_sigma> : (-t in ip.c) Bandpass temporal filtering; nonlinear highpass and Gaussian linear lowpass (with sigmas in volumes, not seconds); set either sigma<0 to skip that filter\n",
      " -roc <AROC-thresh> <outfile> [4Dnoiseonly] <truth> : take (normally binary) truth and test current image in ROC analysis against truth. <AROC-thresh> is usually 0.05 and is limit of Area-under-ROC measure FP axis. <outfile> is a text file of the ROC curve (triplets of values: FP TP threshold). If the truth image contains negative voxels these get excluded from all calculations. If <AROC-thresh> is positive then the [4Dnoiseonly] option needs to be set, and the FP rate is determined from this noise-only data, and is set to be the fraction of timepoints where any FP (anywhere) is seen, as found in the noise-only 4d-dataset. This is then controlling the FWE rate. If <AROC-thresh> is negative the FP rate is calculated from the zero-value parts of the <truth> image, this time averaging voxelwise FP rate over all timepoints. In both cases the TP rate is the average fraction of truth=positive voxels correctly found.\n",
      "\n",
      "Combining 4D and 3D images:\n",
      " If you apply a Binary operation (one that takes the current image and a new image together), when one is 3D and the other is 4D,\n",
      " the 3D image is cloned temporally to match the temporal dimensions of the 4D image.\n",
      "\n",
      "e.g. fslmaths inputVolume -add inputVolume2 output_volume\n",
      "     fslmaths inputVolume -add 2.5 output_volume\n",
      "     fslmaths inputVolume -add 2.5 -mul inputVolume2 output_volume\n",
      "\n",
      "     fslmaths 4D_inputVolume -Tmean -mul -1 -add 4D_inputVolume demeaned_4D_inputVolume\n",
      "\n"
     ]
    },
    {
     "data": {
      "text/plain": [
       "256"
      ]
     },
     "execution_count": 38,
     "metadata": {},
     "output_type": "execute_result"
    }
   ],
   "source": []
  },
  {
   "cell_type": "code",
   "execution_count": 33,
   "id": "2c75a299-200b-4e67-9aec-ffd2f549d9e1",
   "metadata": {},
   "outputs": [
    {
     "name": "stdout",
     "output_type": "stream",
     "text": [
      "|ds000171/\n",
      "|--- CHANGES\n",
      "|--- README\n",
      "|--- dataset_description.json\n",
      "|--- participants.tsv\n",
      "|--- derivatives/\n",
      "|------ preprocessed_data/\n",
      "|--------- sub-control01/\n",
      "|------------ anat/\n",
      "|--------------- sub-control01_T1w.nii.gz\n",
      "|--------------- sub-control01_T1w_mask.nii.gz\n",
      "|--------------- sub-control01_T1w_mni.nii.gz\n",
      "|------------ fmap/\n",
      "|------------ func/\n",
      "|--------------- sub-control01_task-music_run-1_bold_max.nii.gz\n",
      "|--------------- sub-control01_task-music_run-1_bold_min.nii.gz\n",
      "|--- sub-control01/\n",
      "|------ anat/\n",
      "|--------- sub-control01_T1w.nii.gz\n",
      "|------ func/\n",
      "|--------- sub-control01_task-music_run-1_bold.nii.gz\n",
      "|--------- sub-control01_task-music_run-1_events.tsv\n",
      "|--------- sub-control01_task-music_run-2_bold.nii.gz\n",
      "|--------- sub-control01_task-music_run-2_events.tsv\n",
      "|--------- sub-control01_task-music_run-3_bold.nii.gz\n",
      "|--------- sub-control01_task-music_run-3_events.tsv\n",
      "|--------- sub-control01_task-nonmusic_run-4_bold.nii.gz\n",
      "|--------- sub-control01_task-nonmusic_run-4_events.tsv\n",
      "|--------- sub-control01_task-nonmusic_run-5_bold.nii.gz\n",
      "|--------- sub-control01_task-nonmusic_run-5_events.tsv\n"
     ]
    }
   ],
   "source": [
    "print_dir_tree(bids_root, max_depth=5)"
   ]
  },
  {
   "cell_type": "markdown",
   "id": "abdc763c-616b-4fc1-a7df-ffa99be17289",
   "metadata": {},
   "source": [
    "<h2>Movement correction of motion corrected fMRI using MCFLIRT</h2>"
   ]
  },
  {
   "cell_type": "code",
   "execution_count": 20,
   "id": "ddef890c-772e-4eaa-be55-bfe2d1605898",
   "metadata": {},
   "outputs": [],
   "source": [
    "outpath = op.join(preproc_root, 'sub-control01', 'func', 'sub-control01_task-music_run-1_bold_moco')"
   ]
  },
  {
   "cell_type": "code",
   "execution_count": 21,
   "id": "0d647c7d-e877-479c-a021-3590cb1d6261",
   "metadata": {},
   "outputs": [
    {
     "name": "stderr",
     "output_type": "stream",
     "text": [
      "Processed data will be saved as /home/jovyan/Data/dataset/ds000171/derivatives/preprocessed_data/sub-control01/func/sub-control01_task-music_run-1_bold_moco\n",
      "\n",
      "McFLIRT v 2.0 - FMRI motion correction\n",
      "\n",
      "Reading time series... \n",
      "first iteration - 8mm scaling, set tolerance\n",
      "Rescaling reference volume [52] to 8 mm pixels\n",
      "Registering volumes ... [53][54][55][56][57][58][59][60][61][62][63][64][65][66][67][68][69][70][71][72][73][74][75][76][77][78][79][80][81][82][83][84][85][86][87][88][89][90][91][92][93][94][95][96][97][98][99][100][101][102][103][104][51][50][49][48][47][46][45][44][43][42][41][40][39][38][37][36][35][34][33][32][31][30][29][28][27][26][25][24][23][22][21][20][19][18][17][16][15][14][13][12][11][10][9][8][7][6][5][4][3][2][1][0]\n",
      "second iteration - drop to 4mm scaling\n",
      "Rescaling reference volume [52] to 4 mm pixels\n",
      "Registering volumes ... [53][54][55][56][57][58][59][60][61][62][63][64][65][66][67][68][69][70][71][72][73][74][75][76][77][78][79][80][81][82][83][84][85][86][87][88][89][90][91][92][93][94][95][96][97][98][99][100][101][102][103][104][51][50][49][48][47][46][45][44][43][42][41][40][39][38][37][36][35][34][33][32][31][30][29][28][27][26][25][24][23][22][21][20][19][18][17][16][15][14][13][12][11][10][9][8][7][6][5][4][3][2][1][0]\n",
      "third iteration - 4mm scaling, eighth tolerance\n"
     ]
    },
    {
     "name": "stdout",
     "output_type": "stream",
     "text": [
      "refnum = 52\n",
      "Original_refvol = -1\n"
     ]
    },
    {
     "name": "stderr",
     "output_type": "stream",
     "text": [
      "Registering volumes ... [53][54][55][56][57][58][59][60][61][62][63][64][65][66][67][68][69][70][71][72][73][74][75][76][77][78][79][80][81][82][83][84][85][86][87][88][89][90][91][92][93][94][95][96][97][98][99][100][101][102][103][104][51][50][49][48][47][46][45][44][43][42][41][40][39][38][37][36][35][34][33][32][31][30][29][28][27][26][25][24][23][22][21][20][19][18][17][16][15][14][13][12][11][10][9][8][7][6][5][4][3][2][1][0]\n",
      "Saving motion corrected time series... \n"
     ]
    },
    {
     "data": {
      "text/plain": [
       "{}"
      ]
     },
     "execution_count": 21,
     "metadata": {},
     "output_type": "execute_result"
    }
   ],
   "source": [
    "from fsl.wrappers import mcflirt\n",
    "mcflirt(infile=functional_first_path,o=outpath, plots=True, report=True, dof=6, mats=True)"
   ]
  },
  {
   "cell_type": "code",
   "execution_count": null,
   "id": "9b842fe0-41ca-4154-b046-3125de40ce76",
   "metadata": {},
   "outputs": [],
   "source": []
  }
 ],
 "metadata": {
  "kernelspec": {
   "display_name": "Python 3 (ipykernel)",
   "language": "python",
   "name": "python3"
  },
  "language_info": {
   "codemirror_mode": {
    "name": "ipython",
    "version": 3
   },
   "file_extension": ".py",
   "mimetype": "text/x-python",
   "name": "python",
   "nbconvert_exporter": "python",
   "pygments_lexer": "ipython3",
   "version": "3.11.6"
  }
 },
 "nbformat": 4,
 "nbformat_minor": 5
}
