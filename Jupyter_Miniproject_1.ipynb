{
 "cells": [
  {
   "cell_type": "markdown",
   "id": "bc533f37-010a-46a6-9563-f9ce1613290f",
   "metadata": {},
   "source": [
    "<h1 style=\"white-space: nowrap\" align=\"center\">Mini-Project 1</h1>\n",
    "<hr style=\"clear:both\"></hr>"
   ]
  },
  {
   "cell_type": "code",
   "execution_count": 1,
   "id": "944b60b5-62dd-4a9f-b691-b25e532a088a",
   "metadata": {},
   "outputs": [
    {
     "name": "stderr",
     "output_type": "stream",
     "text": [
      "Gtk-Message: 18:02:11.339: Failed to load module \"canberra-gtk-module\"\n"
     ]
    }
   ],
   "source": [
    "%gui wx\n",
    "import sys\n",
    "import os\n",
    "\n",
    "#####################\n",
    "# Import of utils.py functions\n",
    "#####################\n",
    "# Required to get utils.py and access its functions\n",
    "notebook_dir = os.path.abspath(\"\")\n",
    "parent_dir = os.path.abspath(os.path.join(notebook_dir, '..'))\n",
    "sys.path.append(parent_dir)\n",
    "sys.path.append('.')\n",
    "from utils import loadFSL, FSLeyesServer, mkdir_no_exist, interactive_MCQ\n",
    "\n",
    "####################\n",
    "# DIPY_HOME should be set prior to import of dipy to make sure all downloads point to the right folder\n",
    "####################\n",
    "os.environ[\"DIPY_HOME\"] = \"/home/jovyan/Data\"\n",
    "\n",
    "\n",
    "#############################\n",
    "# Loading fsl and freesurfer within Neurodesk\n",
    "# You can find the list of available other modules by clicking on the \"Softwares\" tab on the left\n",
    "#############################\n",
    "import lmod\n",
    "await lmod.purge(force=True)\n",
    "await lmod.load('fsl/6.0.7.4')\n",
    "await lmod.load('freesurfer/7.4.1')\n",
    "await lmod.list()\n",
    "\n",
    "####################\n",
    "# Setup FSL path\n",
    "####################\n",
    "loadFSL()\n",
    "\n",
    "###################\n",
    "# Load all relevant libraries for the lab\n",
    "##################\n",
    "import fsl.wrappers\n",
    "from fsl.wrappers import fslmaths\n",
    "\n",
    "import mne_nirs\n",
    "import nilearn\n",
    "from nilearn.datasets import fetch_development_fmri\n",
    "\n",
    "import mne\n",
    "import mne_nirs\n",
    "import dipy\n",
    "from dipy.data import fetch_bundles_2_subjects, read_bundles_2_subjects\n",
    "import xml.etree.ElementTree as ET\n",
    "import os.path as op\n",
    "import nibabel as nib\n",
    "import glob\n",
    "\n",
    "import ants\n",
    "\n",
    "import openneuro\n",
    "from mne.datasets import sample\n",
    "from mne_bids import BIDSPath, read_raw_bids, print_dir_tree, make_report\n",
    "\n",
    "\n",
    "# Useful imports to define the direct download function below\n",
    "import requests\n",
    "import urllib.request\n",
    "from tqdm import tqdm\n",
    "\n",
    "\n",
    "# FSL function wrappers which we will call from python directly\n",
    "from fsl.wrappers import fast, bet\n",
    "from fsl.wrappers.misc import fslroi\n",
    "from fsl.wrappers import flirt\n",
    "\n",
    "# General purpose imports to handle paths, files etc\n",
    "import glob\n",
    "import pandas as pd\n",
    "import numpy as np\n",
    "import json\n",
    "import subprocess"
   ]
  },
  {
   "cell_type": "code",
   "execution_count": 2,
   "id": "c1bab02d-b5db-4caa-948f-b7a6bbcb2228",
   "metadata": {},
   "outputs": [
    {
     "name": "stderr",
     "output_type": "stream",
     "text": [
      "\n",
      "(ipykernel_launcher.py:455): Gtk-CRITICAL **: 18:02:22.599: gtk_window_resize: assertion 'height > 0' failed\n"
     ]
    }
   ],
   "source": [
    "fsleyesDisplay = FSLeyesServer()\n",
    "fsleyesDisplay.show()"
   ]
  },
  {
   "cell_type": "code",
   "execution_count": 3,
   "id": "8b315e9a-abb2-4850-8519-dc6277a347f0",
   "metadata": {},
   "outputs": [],
   "source": [
    "class DownloadProgressBar(tqdm):\n",
    "    def update_to(self, b=1, bsize=1, tsize=None):\n",
    "        if tsize is not None:\n",
    "            self.total = tsize\n",
    "        self.update(b * bsize - self.n)\n",
    "\n",
    "def download_url(url, output_path):\n",
    "    with DownloadProgressBar(unit='B', unit_scale=True,\n",
    "                             miniters=1, desc=url.split('/')[-1]) as t:\n",
    "        urllib.request.urlretrieve(url, filename=output_path, reporthook=t.update_to)\n",
    "\n",
    "def direct_file_download_open_neuro(file_list, file_types, dataset_id, dataset_version, save_dirs):\n",
    "    # https://openneuro.org/crn/datasets/ds004226/snapshots/1.0.0/files/sub-001:sub-001_scans.tsv\n",
    "    for i, n in enumerate(file_list):\n",
    "        subject = n.split('_')[0]\n",
    "        download_link = 'https://openneuro.org/crn/datasets/{}/snapshots/{}/files/{}:{}:{}'.format(dataset_id, dataset_version, subject, file_types[i],n)\n",
    "        print('Attempting download from ', download_link)\n",
    "        download_url(download_link, op.join(save_dirs[i], n))\n",
    "        print('Ok')\n",
    "        \n",
    "def get_json_from_file(fname):\n",
    "    f = open(fname)\n",
    "    data = json.load(f)\n",
    "    f.close()\n",
    "    return data"
   ]
  },
  {
   "cell_type": "markdown",
   "id": "6172b095-e5e3-4693-873c-4ca2cf5594a1",
   "metadata": {},
   "source": [
    "<h2>DOWNLOAD OF FILES</h2>"
   ]
  },
  {
   "cell_type": "code",
   "execution_count": 4,
   "id": "bff8eccc-0cde-442c-8300-a214d5057fd3",
   "metadata": {},
   "outputs": [],
   "source": [
    "dataset_id = 'ds000171'\n",
    "subject = 'control01' \n",
    "\n",
    "sample_path = \"/home/jovyan/Data/dataset\"\n",
    "\n",
    "mkdir_no_exist(sample_path)\n",
    "bids_root = op.join(sample_path, dataset_id)\n",
    "deriv_root = op.join(bids_root, 'derivatives')\n",
    "preproc_root = op.join(bids_root, 'derivatives','preprocessed_data')\n",
    "\n",
    "mkdir_no_exist(bids_root)\n",
    "\n",
    "subject_dir = 'sub-{}'.format(subject)"
   ]
  },
  {
   "cell_type": "code",
   "execution_count": 5,
   "id": "14131707-6477-4d07-a41c-3de39a17a1aa",
   "metadata": {
    "scrolled": true
   },
   "outputs": [
    {
     "name": "stdout",
     "output_type": "stream",
     "text": [
      "\n",
      "👋 Hello! This is openneuro-py 2024.2.0. Great to see you! 🤗\n",
      "\n",
      "   👉 Please report problems 🤯 and bugs 🪲 at\n",
      "      https://github.com/hoechenberger/openneuro-py/issues\n",
      "\n",
      "🌍 Preparing to download ds000171 …\n"
     ]
    },
    {
     "name": "stderr",
     "output_type": "stream",
     "text": [
      "📁 Traversing directories for ds000171 : 436 entities [00:31, 14.01 entities/s]\n"
     ]
    },
    {
     "name": "stdout",
     "output_type": "stream",
     "text": [
      "📥 Retrieving up to 15 files (5 concurrent downloads). \n"
     ]
    },
    {
     "name": "stderr",
     "output_type": "stream",
     "text": [
      "sub-control01_T1w.nii.gz:   0%|          | 0.00/8.77M [00:00<?, ?B/s]\n",
      "CHANGES:   0%|          | 0.00/45.0 [00:00<?, ?B/s]\u001b[A\n",
      "                                                   \u001b[A\n",
      "README:   0%|          | 0.00/0.98k [00:00<?, ?B/s]\u001b[A\n",
      "sub-control01_T1w.nii.gz:   0%|          | 32.6k/8.77M [00:00<00:27, 329kB/s]\n",
      "dataset_description.json:   0%|          | 0.00/2.79k [00:00<?, ?B/s]\u001b[A\n",
      "                                                                     \u001b[A\n",
      "participants.tsv:   0%|          | 0.00/1.63k [00:00<?, ?B/s]\u001b[A\n",
      "sub-control01_T1w.nii.gz:   1%|▏         | 118k/8.77M [00:00<00:20, 436kB/s] \n",
      "sub-control01_task-music_run-1_events.tsv: 0.00B [00:00, ?B/s]\u001b[A\n",
      "sub-control01_T1w.nii.gz:   2%|▏         | 186k/8.77M [00:00<00:22, 407kB/s]\n",
      "sub-control01_task-music_run-3_bold.nii.gz:   0%|          | 0.00/33.9M [00:00<?, ?B/s]\u001b[A\n",
      "\n",
      "sub-control01_task-music_run-1_bold.nii.gz:   0%|          | 0.00/33.8M [00:00<?, ?B/s]\u001b[A\u001b[A\n",
      "\n",
      "\n",
      "sub-control01_task-music_run-2_events.tsv:   0%|          | 0.00/339 [00:00<?, ?B/s]\u001b[A\u001b[A\u001b[A\n",
      "\n",
      "\n",
      "sub-control01_T1w.nii.gz:   3%|▎         | 271k/8.77M [00:00<00:20, 437kB/s]        \u001b[A\u001b[A\u001b[A\n",
      "sub-control01_task-music_run-3_bold.nii.gz:   0%|          | 75.0k/33.9M [00:00<01:24, 421kB/s]\u001b[A\n",
      "\n",
      "sub-control01_task-music_run-1_bold.nii.gz:   0%|          | 83.5k/33.8M [00:00<01:15, 466kB/s]\u001b[A\u001b[A\n",
      "\n",
      "\n",
      "sub-control01_task-music_run-2_bold.nii.gz:   0%|          | 0.00/33.9M [00:00<?, ?B/s]\u001b[A\u001b[A\u001b[A\n",
      "sub-control01_T1w.nii.gz:   4%|▍         | 356k/8.77M [00:00<00:19, 450kB/s]00<00:32, 1.08MB/s]\u001b[A\n",
      "\n",
      "sub-control01_task-music_run-1_bold.nii.gz:   1%|          | 202k/33.8M [00:00<01:00, 581kB/s] \u001b[A\u001b[A\n",
      "sub-control01_task-music_run-3_bold.nii.gz:   1%|▏         | 483k/33.9M [00:00<00:22, 1.53MB/s]\u001b[A\n",
      "\n",
      "\n",
      "sub-control01_task-music_run-2_bold.nii.gz:   0%|          | 83.6k/33.9M [00:00<01:15, 472kB/s]\u001b[A\u001b[A\u001b[A\n",
      "\n",
      "\n",
      "\n",
      "sub-control01_task-music_run-3_events.tsv:   0%|          | 0.00/339 [00:00<?, ?B/s]\u001b[A\u001b[A\u001b[A\u001b[A\n",
      "\n",
      "\n",
      "\n",
      "                                                                                    \u001b[A\u001b[A\u001b[A\u001b[A\n",
      "\n",
      "sub-control01_task-music_run-1_bold.nii.gz:   1%|▏         | 491k/33.8M [00:00<00:26, 1.32MB/s]\u001b[A\u001b[A\n",
      "sub-control01_task-music_run-3_bold.nii.gz:   2%|▏         | 857k/33.9M [00:00<00:14, 2.35MB/s]\u001b[A\n",
      "\n",
      "\n",
      "sub-control01_T1w.nii.gz:   5%|▍         | 441k/8.77M [00:01<00:19, 460kB/s]00<00:40, 880kB/s] \u001b[A\u001b[A\u001b[A\n",
      "\n",
      "sub-control01_task-music_run-1_bold.nii.gz:   3%|▎         | 985k/33.8M [00:00<00:13, 2.48MB/s]\u001b[A\u001b[A\n",
      "sub-control01_task-music_run-3_bold.nii.gz:   5%|▍         | 1.65M/33.9M [00:00<00:07, 4.42MB/s]\u001b[A\n",
      "\n",
      "\n",
      "sub-control01_T1w.nii.gz:   6%|▌         | 526k/8.77M [00:01<00:18, 473kB/s]00<00:27, 1.27MB/s]\u001b[A\u001b[A\u001b[A\n",
      "\n",
      "sub-control01_task-music_run-1_bold.nii.gz:   5%|▌         | 1.79M/33.8M [00:00<00:07, 4.37MB/s]\u001b[A\u001b[A\n",
      "sub-control01_task-music_run-3_bold.nii.gz:  10%|█         | 3.48M/33.9M [00:00<00:03, 9.21MB/s]\u001b[A\n",
      "\n",
      "\n",
      "sub-control01_T1w.nii.gz:   6%|▋         | 577k/8.77M [00:01<00:17, 482kB/s]00<00:11, 2.92MB/s]\u001b[A\u001b[A\u001b[A\n",
      "\n",
      "sub-control01_task-music_run-1_bold.nii.gz:  10%|▉         | 3.34M/33.8M [00:00<00:04, 7.95MB/s]\u001b[A\u001b[A\n",
      "sub-control01_task-music_run-3_bold.nii.gz:  19%|█▉        | 6.45M/33.9M [00:00<00:01, 16.0MB/s]\u001b[A\n",
      "\n",
      "\n",
      "sub-control01_task-music_run-2_bold.nii.gz:   5%|▍         | 1.53M/33.9M [00:00<00:08, 3.93MB/s]\u001b[A\u001b[A\u001b[A\n",
      "\n",
      "sub-control01_task-music_run-1_bold.nii.gz:  17%|█▋        | 5.78M/33.8M [00:00<00:02, 13.3MB/s]\u001b[A\u001b[A\n",
      "sub-control01_task-music_run-3_bold.nii.gz:  24%|██▍       | 8.29M/33.9M [00:00<00:01, 17.0MB/s]\u001b[A\n",
      "\n",
      "\n",
      "\n",
      "sub-control01_T1w.nii.gz:   7%|▋         | 662k/8.77M [00:01<00:17, 490kB/s]00:00<?, ?B/s]\u001b[A\u001b[A\u001b[A\u001b[A\n",
      "\n",
      "\n",
      "sub-control01_task-music_run-2_bold.nii.gz:   8%|▊         | 2.68M/33.9M [00:00<00:05, 5.63MB/s]\u001b[A\u001b[A\u001b[A\n",
      "\n",
      "sub-control01_task-music_run-1_bold.nii.gz:  26%|██▌       | 8.81M/33.8M [00:00<00:01, 18.8MB/s]\u001b[A\u001b[A\n",
      "sub-control01_task-music_run-3_bold.nii.gz:  34%|███▍      | 11.6M/33.9M [00:00<00:01, 22.3MB/s]\u001b[A\n",
      "\n",
      "\n",
      "sub-control01_T1w.nii.gz:   8%|▊         | 730k/8.77M [00:01<00:15, 532kB/s]:00<00:02, 11.1MB/s]\u001b[A\u001b[A\u001b[A\n",
      "\n",
      "\n",
      "\n",
      "sub-control01_task-nonmusic_run-4_bold.nii.gz:   0%|          | 83.6k/33.9M [00:00<01:15, 470kB/s]\u001b[A\u001b[A\u001b[A\u001b[A\n",
      "sub-control01_task-music_run-3_bold.nii.gz:  41%|████      | 13.7M/33.9M [00:01<00:00, 21.4MB/s]\u001b[A\n",
      "\n",
      "sub-control01_task-music_run-1_bold.nii.gz:  32%|███▏      | 10.7M/33.8M [00:01<00:01, 16.9MB/s]\u001b[A\u001b[A\n",
      "\n",
      "\n",
      "sub-control01_task-music_run-2_bold.nii.gz:  22%|██▏       | 7.30M/33.9M [00:00<00:01, 14.7MB/s]\u001b[A\u001b[A\u001b[A\n",
      "\n",
      "\n",
      "\n",
      "sub-control01_task-nonmusic_run-4_bold.nii.gz:   1%|          | 289k/33.9M [00:00<00:29, 1.19MB/s]\u001b[A\u001b[A\u001b[A\u001b[A\n",
      "sub-control01_task-music_run-3_bold.nii.gz:  48%|████▊     | 16.2M/33.9M [00:01<00:00, 22.6MB/s]\u001b[A\n",
      "\n",
      "sub-control01_T1w.nii.gz:   9%|▉         | 815k/8.77M [00:01<00:16, 512kB/s]:01<00:01, 18.4MB/s]\u001b[A\u001b[A\n",
      "\n",
      "\n",
      "sub-control01_task-music_run-2_bold.nii.gz:  27%|██▋       | 9.05M/33.9M [00:01<00:01, 15.7MB/s]\u001b[A\u001b[A\u001b[A\n",
      "\n",
      "\n",
      "\n",
      "sub-control01_task-nonmusic_run-4_bold.nii.gz:   2%|▏         | 612k/33.9M [00:00<00:17, 2.00MB/s]\u001b[A\u001b[A\u001b[A\u001b[A\n",
      "sub-control01_task-music_run-3_bold.nii.gz:  54%|█████▍    | 18.3M/33.9M [00:01<00:00, 22.3MB/s]\u001b[A\n",
      "\n",
      "sub-control01_task-music_run-1_bold.nii.gz:  44%|████▍     | 14.9M/33.8M [00:01<00:01, 19.3MB/s]\u001b[A\u001b[A\n",
      "\n",
      "\n",
      "\n",
      "sub-control01_task-nonmusic_run-4_bold.nii.gz:   3%|▎         | 1.06M/33.9M [00:00<00:11, 3.01MB/s]\u001b[A\u001b[A\u001b[A\u001b[A\n",
      "\n",
      "\n",
      "sub-control01_T1w.nii.gz:  10%|█         | 917k/8.77M [00:01<00:15, 532kB/s]:01<00:01, 13.7MB/s]\u001b[A\u001b[A\u001b[A\n",
      "\n",
      "sub-control01_task-music_run-1_bold.nii.gz:  51%|█████     | 17.1M/33.8M [00:01<00:00, 20.5MB/s]\u001b[A\u001b[A\n",
      "sub-control01_task-music_run-3_bold.nii.gz:  60%|██████    | 20.5M/33.9M [00:01<00:00, 20.9MB/s]\u001b[A\n",
      "\n",
      "\n",
      "\n",
      "sub-control01_task-nonmusic_run-4_bold.nii.gz:   6%|▌         | 1.94M/33.9M [00:00<00:06, 5.10MB/s]\u001b[A\u001b[A\u001b[A\u001b[A\n",
      "\n",
      "\n",
      "sub-control01_task-music_run-2_bold.nii.gz:  36%|███▌      | 12.2M/33.9M [00:01<00:01, 14.4MB/s]\u001b[A\u001b[A\u001b[A\n",
      "\n",
      "sub-control01_task-music_run-1_bold.nii.gz:  57%|█████▋    | 19.2M/33.8M [00:01<00:00, 20.0MB/s]\u001b[A\u001b[A\n",
      "sub-control01_task-music_run-3_bold.nii.gz:  66%|██████▋   | 22.5M/33.9M [00:01<00:00, 19.2MB/s]\u001b[A\n",
      "\n",
      "\n",
      "\n",
      "sub-control01_T1w.nii.gz:  11%|█▏        | 0.99M/8.77M [00:02<00:14, 545kB/s]00:00<00:03, 9.42MB/s]\u001b[A\u001b[A\u001b[A\u001b[A\n",
      "\n",
      "\n",
      "sub-control01_task-music_run-2_bold.nii.gz:  41%|████      | 13.9M/33.9M [00:01<00:01, 15.5MB/s]\u001b[A\u001b[A\u001b[A\n",
      "\n",
      "sub-control01_task-music_run-1_bold.nii.gz:  62%|██████▏   | 21.1M/33.8M [00:01<00:00, 20.1MB/s]\u001b[A\u001b[A\n",
      "sub-control01_task-music_run-3_bold.nii.gz:  72%|███████▏  | 24.4M/33.9M [00:01<00:00, 19.4MB/s]\u001b[A\n",
      "\n",
      "\n",
      "\n",
      "sub-control01_task-nonmusic_run-4_bold.nii.gz:  16%|█▌        | 5.48M/33.9M [00:00<00:02, 12.3MB/s]\u001b[A\u001b[A\u001b[A\u001b[A\n",
      "\n",
      "\n",
      "sub-control01_task-music_run-2_bold.nii.gz:  46%|████▌     | 15.5M/33.9M [00:01<00:01, 14.8MB/s]\u001b[A\u001b[A\u001b[A\n",
      "\n",
      "sub-control01_task-music_run-1_bold.nii.gz:  69%|██████▉   | 23.3M/33.8M [00:01<00:00, 20.9MB/s]\u001b[A\u001b[A\n",
      "sub-control01_task-music_run-3_bold.nii.gz:  79%|███████▉  | 26.8M/33.9M [00:01<00:00, 21.0MB/s]\u001b[A\n",
      "\n",
      "\n",
      "\n",
      "sub-control01_T1w.nii.gz:  12%|█▏        | 1.09M/8.77M [00:02<00:14, 549kB/s]00:00<00:01, 14.9MB/s]\u001b[A\u001b[A\u001b[A\u001b[A\n",
      "\n",
      "sub-control01_task-music_run-1_bold.nii.gz:  78%|███████▊  | 26.3M/33.8M [00:01<00:00, 23.3MB/s]\u001b[A\u001b[A\n",
      "\n",
      "\n",
      "\n",
      "sub-control01_task-nonmusic_run-4_bold.nii.gz:  26%|██▋       | 8.90M/33.9M [00:01<00:01, 13.1MB/s]\u001b[A\u001b[A\u001b[A\u001b[A\n",
      "\n",
      "\n",
      "sub-control01_T1w.nii.gz:  13%|█▎        | 1.18M/8.77M [00:02<00:13, 571kB/s]01<00:01, 11.9MB/s]\u001b[A\u001b[A\u001b[A\n",
      "sub-control01_task-music_run-3_bold.nii.gz:  85%|████████▌ | 28.8M/33.9M [00:01<00:00, 17.6MB/s]\u001b[A\n",
      "\n",
      "sub-control01_task-music_run-1_bold.nii.gz:  85%|████████▍ | 28.8M/33.8M [00:01<00:00, 24.1MB/s]\u001b[A\u001b[A\n",
      "\n",
      "\n",
      "\n",
      "sub-control01_task-nonmusic_run-4_bold.nii.gz:  34%|███▎      | 11.4M/33.9M [00:01<00:01, 16.8MB/s]\u001b[A\u001b[A\u001b[A\u001b[A\n",
      "sub-control01_task-music_run-3_bold.nii.gz:  91%|█████████ | 30.8M/33.9M [00:02<00:00, 18.4MB/s]\u001b[A\n",
      "\n",
      "\n",
      "sub-control01_task-music_run-2_bold.nii.gz:  54%|█████▎    | 18.2M/33.9M [00:01<00:01, 11.7MB/s]\u001b[A\u001b[A\u001b[A\n",
      "\n",
      "sub-control01_T1w.nii.gz:  14%|█▍        | 1.24M/8.77M [00:02<00:14, 557kB/s]02<00:00, 23.8MB/s]\u001b[A\u001b[A\n",
      "sub-control01_T1w.nii.gz:  15%|█▌        | 1.33M/8.77M [00:02<00:12, 626kB/s]                   \u001b[A\n",
      "\n",
      "\n",
      "\n",
      "sub-control01_task-nonmusic_run-4_bold.nii.gz:  40%|███▉      | 13.5M/33.9M [00:01<00:01, 16.3MB/s]\u001b[A\u001b[A\u001b[A\u001b[A\n",
      "\n",
      "sub-control01_task-music_run-1_bold.nii.gz:  99%|█████████▊| 33.4M/33.8M [00:02<00:00, 22.3MB/s]\u001b[A\u001b[A\n",
      "\n",
      "                                                                                                \u001b[A\u001b[A\n",
      "\n",
      "\n",
      "sub-control01_task-music_run-2_bold.nii.gz:  57%|█████▋    | 19.4M/33.9M [00:01<00:01, 10.2MB/s]\u001b[A\u001b[A\u001b[A\n",
      "\n",
      "\n",
      "\n",
      "sub-control01_T1w.nii.gz:  16%|█▌        | 1.39M/8.77M [00:02<00:14, 545kB/s]00:01<00:00, 19.5MB/s]\u001b[A\u001b[A\u001b[A\u001b[A\n",
      "\n",
      "\n",
      "sub-control01_task-music_run-2_bold.nii.gz:  60%|██████    | 20.5M/33.9M [00:02<00:01, 9.17MB/s]\u001b[A\u001b[A\u001b[A\n",
      "\n",
      "\n",
      "\n",
      "sub-control01_task-nonmusic_run-4_bold.nii.gz:  54%|█████▎    | 18.2M/33.9M [00:01<00:00, 19.4MB/s]\u001b[A\u001b[A\u001b[A\u001b[A\n",
      "sub-control01_task-nonmusic_run-4_events.tsv:   0%|          | 0.00/351 [00:00<?, ?B/s]\u001b[A\n",
      "                                                                                       \u001b[A\n",
      "\n",
      "\n",
      "\n",
      "sub-control01_task-nonmusic_run-4_bold.nii.gz:  60%|██████    | 20.5M/33.9M [00:01<00:00, 20.5MB/s]\u001b[A\u001b[A\u001b[A\u001b[A\n",
      "\n",
      "\n",
      "sub-control01_T1w.nii.gz:  17%|█▋        | 1.49M/8.77M [00:03<00:13, 564kB/s]02<00:01, 9.04MB/s]\u001b[A\u001b[A\u001b[A\n",
      "\n",
      "\n",
      "\n",
      "sub-control01_task-nonmusic_run-4_bold.nii.gz:  68%|██████▊   | 23.0M/33.9M [00:01<00:00, 22.4MB/s]\u001b[A\u001b[A\u001b[A\u001b[A\n",
      "\n",
      "\n",
      "sub-control01_T1w.nii.gz:  18%|█▊        | 1.56M/8.77M [00:03<00:12, 591kB/s]02<00:01, 9.09MB/s]\u001b[A\u001b[A\u001b[A\n",
      "sub-control01_task-nonmusic_run-5_bold.nii.gz:   0%|          | 0.00/33.9M [00:00<?, ?B/s]\u001b[A\n",
      "\n",
      "\n",
      "\n",
      "sub-control01_task-nonmusic_run-4_bold.nii.gz:  77%|███████▋  | 26.0M/33.9M [00:01<00:00, 24.7MB/s]\u001b[A\u001b[A\u001b[A\u001b[A\n",
      "\n",
      "\n",
      "sub-control01_T1w.nii.gz:  19%|█▊        | 1.64M/8.77M [00:03<00:11, 655kB/s]02<00:01, 9.09MB/s]\u001b[A\u001b[A\u001b[A\n",
      "\n",
      "\n",
      "\n",
      "sub-control01_task-nonmusic_run-4_bold.nii.gz:  84%|████████▍ | 28.4M/33.9M [00:01<00:00, 23.8MB/s]\u001b[A\u001b[A\u001b[A\u001b[A\n",
      "\n",
      "sub-control01_task-nonmusic_run-5_events.tsv:   0%|          | 0.00/351 [00:00<?, ?B/s]\u001b[A\u001b[A\n",
      "\n",
      "                                                                                       \u001b[A\u001b[A\n",
      "\n",
      "\n",
      "sub-control01_task-music_run-2_bold.nii.gz:  71%|███████   | 24.1M/33.9M [00:02<00:01, 8.23MB/s]\u001b[A\u001b[A\u001b[A\n",
      "sub-control01_T1w.nii.gz:  20%|█▉        | 1.73M/8.77M [00:03<00:12, 599kB/s]00:00<01:15, 469kB/s]\u001b[A\n",
      "\n",
      "\n",
      "\n",
      "sub-control01_task-nonmusic_run-4_bold.nii.gz:  91%|█████████▏| 30.9M/33.9M [00:02<00:00, 24.3MB/s]\u001b[A\u001b[A\u001b[A\u001b[A\n",
      "\n",
      "\n",
      "sub-control01_T1w.nii.gz:  21%|██        | 1.81M/8.77M [00:03<00:11, 660kB/s]02<00:01, 8.26MB/s]\u001b[A\u001b[A\u001b[A\n",
      "\n",
      "\n",
      "\n",
      "sub-control01_task-nonmusic_run-4_bold.nii.gz:  99%|█████████▉| 33.5M/33.9M [00:02<00:00, 25.2MB/s]\u001b[A\u001b[A\u001b[A\u001b[A\n",
      "\n",
      "\n",
      "\n",
      "                                                                                                   \u001b[A\u001b[A\u001b[A\u001b[A\n",
      "sub-control01_task-nonmusic_run-5_bold.nii.gz:   1%|          | 305k/33.9M [00:00<00:38, 922kB/s] \u001b[A\n",
      "\n",
      "\n",
      "sub-control01_task-music_run-2_bold.nii.gz:  76%|███████▌  | 25.8M/33.9M [00:02<00:00, 8.52MB/s]\u001b[A\u001b[A\u001b[A\n",
      "sub-control01_task-nonmusic_run-5_bold.nii.gz:   2%|▏         | 663k/33.9M [00:00<00:19, 1.78MB/s]\u001b[A\n",
      "\n",
      "\n",
      "sub-control01_T1w.nii.gz:  22%|██▏       | 1.89M/8.77M [00:03<00:11, 614kB/s]02<00:00, 8.65MB/s]\u001b[A\u001b[A\u001b[A\n",
      "sub-control01_T1w.nii.gz:  22%|██▏       | 1.96M/8.77M [00:03<00:11, 632kB/s]00:00<00:07, 4.31MB/s]\u001b[A\n",
      "\n",
      "\n",
      "sub-control01_task-music_run-2_bold.nii.gz:  81%|████████▏ | 27.5M/33.9M [00:03<00:00, 8.27MB/s]\u001b[A\u001b[A\u001b[A\n",
      "sub-control01_T1w.nii.gz:  23%|██▎       | 2.06M/8.77M [00:03<00:09, 729kB/s]00:00<00:03, 8.64MB/s]\u001b[A\n",
      "\n",
      "\n",
      "sub-control01_task-music_run-2_bold.nii.gz:  84%|████████▎ | 28.3M/33.9M [00:03<00:00, 7.35MB/s]\u001b[A\u001b[A\u001b[A\n",
      "sub-control01_task-nonmusic_run-5_bold.nii.gz:  17%|█▋        | 5.79M/33.9M [00:00<00:02, 13.8MB/s]\u001b[A\n",
      "\n",
      "\n",
      "sub-control01_task-music_run-2_bold.nii.gz:  86%|████████▌ | 29.1M/33.9M [00:03<00:00, 7.35MB/s]\u001b[A\u001b[A\u001b[A\n",
      "sub-control01_T1w.nii.gz:  24%|██▍       | 2.14M/8.77M [00:04<00:10, 644kB/s]00:00<00:01, 18.4MB/s]\u001b[A\n",
      "sub-control01_T1w.nii.gz:  26%|██▌       | 2.24M/8.77M [00:04<00:09, 738kB/s]00:00<00:01, 19.0MB/s]\u001b[A\n",
      "\n",
      "\n",
      "sub-control01_task-music_run-2_bold.nii.gz:  88%|████████▊ | 29.8M/33.9M [00:03<00:00, 7.02MB/s]\u001b[A\u001b[A\u001b[A\n",
      "sub-control01_task-nonmusic_run-5_bold.nii.gz:  39%|███▉      | 13.4M/33.9M [00:01<00:01, 20.5MB/s]\u001b[A\n",
      "\n",
      "\n",
      "sub-control01_T1w.nii.gz:  26%|██▋       | 2.32M/8.77M [00:04<00:09, 701kB/s]03<00:00, 6.47MB/s]\u001b[A\u001b[A\u001b[A\n",
      "sub-control01_task-nonmusic_run-5_bold.nii.gz:  49%|████▉     | 16.5M/33.9M [00:01<00:00, 24.0MB/s]\u001b[A\n",
      "\n",
      "\n",
      "sub-control01_T1w.nii.gz:  27%|██▋       | 2.41M/8.77M [00:04<00:09, 694kB/s]03<00:00, 6.49MB/s]\u001b[A\u001b[A\u001b[A\n",
      "\n",
      "\n",
      "sub-control01_task-music_run-2_bold.nii.gz:  94%|█████████▍| 31.8M/33.9M [00:03<00:00, 6.68MB/s]\u001b[A\u001b[A\u001b[A\n",
      "sub-control01_T1w.nii.gz:  29%|██▊       | 2.51M/8.77M [00:04<00:08, 779kB/s]00:01<00:00, 21.5MB/s]\u001b[A\n",
      "\n",
      "\n",
      "sub-control01_task-music_run-2_bold.nii.gz:  96%|█████████▌| 32.5M/33.9M [00:03<00:00, 6.74MB/s]\u001b[A\u001b[A\u001b[A\n",
      "sub-control01_T1w.nii.gz:  30%|██▉       | 2.59M/8.77M [00:04<00:08, 733kB/s]00:01<00:00, 23.1MB/s]\u001b[A\n",
      "\n",
      "\n",
      "sub-control01_task-music_run-2_bold.nii.gz:  98%|█████████▊| 33.1M/33.9M [00:03<00:00, 6.67MB/s]\u001b[A\u001b[A\u001b[A\n",
      "sub-control01_T1w.nii.gz:  30%|███       | 2.67M/8.77M [00:04<00:08, 716kB/s]00:01<00:00, 24.0MB/s]\u001b[A\n",
      "sub-control01_task-nonmusic_run-5_bold.nii.gz:  80%|████████  | 27.2M/33.9M [00:01<00:00, 26.5MB/s]\u001b[A\n",
      "\n",
      "\n",
      "sub-control01_task-music_run-2_bold.nii.gz: 100%|█████████▉| 33.8M/33.9M [00:04<00:00, 6.31MB/s]\u001b[A\u001b[A\u001b[A\n",
      "\n",
      "\n",
      "                                                                                                \u001b[A\u001b[A\u001b[A\n",
      "sub-control01_T1w.nii.gz:  32%|███▏      | 2.79M/8.77M [00:04<00:08, 754kB/s]00:01<00:00, 27.9MB/s]\u001b[A\n",
      "sub-control01_task-nonmusic_run-5_bold.nii.gz:  97%|█████████▋| 33.0M/33.9M [00:01<00:00, 27.7MB/s]\u001b[A\n",
      "sub-control01_T1w.nii.gz:  97%|█████████▋| 8.48M/8.77M [00:09<00:00, 2.07MB/s]                     \u001b[A"
     ]
    },
    {
     "name": "stdout",
     "output_type": "stream",
     "text": [
      "✅ Finished downloading ds000171.\n",
      " \n",
      "🧠 Please enjoy your brains.\n",
      " \n"
     ]
    },
    {
     "name": "stderr",
     "output_type": "stream",
     "text": [
      "                                                                              \r"
     ]
    }
   ],
   "source": [
    "###################\n",
    "# Openneuro download.\n",
    "###################\n",
    "subprocess.run([\"openneuro-py\", \"download\", \"--dataset\", dataset_id, # Openneuro has for each dataset a unique identifier\n",
    "                \"--target-dir\", bids_root,  # The path where we want to save our data. You should save your data under /home/jovyan/Data/[your dataset ID] to be 100% fool-proof\n",
    "                \"--include\", op.join(subject_dir, '*'),# We are asking to get all files within the subject_dirt folder by using the wildcard *\n",
    "               ], check=True)\n",
    "\n",
    "###################\n",
    "# Create folders relevant for preprocessing.\n",
    "# In BIDs, ANYTHING we modify must go in the derivatives folder, to keep original files clean in case we make a mistake.\n",
    "###################\n",
    "mkdir_no_exist(op.join(bids_root, 'derivatives'))\n",
    "preproc_root = op.join(bids_root, 'derivatives','preprocessed_data')\n",
    "mkdir_no_exist(preproc_root)\n",
    "mkdir_no_exist(op.join(preproc_root, 'sub-control01'))\n",
    "mkdir_no_exist(op.join(preproc_root, 'sub-control01', 'anat'))\n",
    "mkdir_no_exist(op.join(preproc_root, 'sub-control01', 'func'))\n",
    "mkdir_no_exist(op.join(preproc_root, 'sub-control01', 'fmap'))"
   ]
  },
  {
   "cell_type": "markdown",
   "id": "d1fe5bac-805f-4f80-8927-08d1c9c0a399",
   "metadata": {},
   "source": [
    "<h3>Function used to clear the directory in case the process compromises the data and we need to download everything again :</h3>"
   ]
  },
  {
   "cell_type": "code",
   "execution_count": 6,
   "id": "5b6889d0-1359-43f9-b93a-6176978d2d2f",
   "metadata": {},
   "outputs": [],
   "source": [
    "def clear_data(basis = True, deriv = True, anat = True, func = True, mask = False):\n",
    "    if basis:\n",
    "        os.remove(op.join(bids_root, 'README'))\n",
    "        os.remove(op.join(bids_root, 'CHANGES'))\n",
    "        os.remove(op.join(bids_root, 'participants.tsv'))\n",
    "        os.remove(op.join(bids_root, 'dataset_description.json'))\n",
    "    if mask:\n",
    "        os.remove(op.join(bids_root, 'derivatives', 'preprocessed_data', 'sub-control01', 'anat', 'sub-control01_T1w.nii.gz'))\n",
    "        os.remove(op.join(bids_root, 'derivatives', 'preprocessed_data', 'sub-control01', 'anat', 'sub-control01_T1w_mask.nii.gz'))\n",
    "    if deriv:\n",
    "        os.rmdir(op.join(bids_root, 'derivatives', 'preprocessed_data', 'sub-control01', 'anat'))\n",
    "        os.rmdir(op.join(bids_root, 'derivatives', 'preprocessed_data', 'sub-control01', 'fmap'))\n",
    "        os.rmdir(op.join(bids_root, 'derivatives', 'preprocessed_data', 'sub-control01', 'func'))\n",
    "    if anat:\n",
    "        os.remove(op.join(bids_root, 'sub-control01','anat', 'sub-control01_T1w.nii.gz'))\n",
    "        os.rmdir(op.join(bids_root, 'sub-control01', 'anat'))\n",
    "    if func:\n",
    "        os.remove(op.join(bids_root,'sub-control01','func', 'sub-control01_task-music_run-1_bold.nii.gz'))\n",
    "        os.remove(op.join(bids_root, 'sub-control01','func', 'sub-control01_task-music_run-2_bold.nii.gz'))\n",
    "        os.remove(op.join(bids_root,'sub-control01','func', 'sub-control01_task-music_run-3_bold.nii.gz'))\n",
    "        os.remove(op.join(bids_root,  'sub-control01','func', 'sub-control01_task-nonmusic_run-4_bold.nii.gz'))\n",
    "        os.remove(op.join(bids_root, 'sub-control01','func', 'sub-control01_task-nonmusic_run-5_bold.nii.gz'))\n",
    "        os.remove(op.join(bids_root,  'sub-control01','func', 'sub-control01_task-music_run-1_events.tsv'))\n",
    "        os.remove(op.join(bids_root, 'sub-control01','func', 'sub-control01_task-music_run-2_events.tsv'))\n",
    "        os.remove(op.join(bids_root, 'sub-control01','func', 'sub-control01_task-music_run-3_events.tsv'))\n",
    "        os.remove(op.join(bids_root,'sub-control01','func', 'sub-control01_task-nonmusic_run-4_events.tsv'))\n",
    "        os.remove(op.join(bids_root, 'sub-control01','func', 'sub-control01_task-nonmusic_run-5_events.tsv'))\n",
    "        os.rmdir(op.join(bids_root, 'sub-control01','func'))\n",
    "    os.rmdir(op.join(bids_root, 'sub-control01'))\n",
    "    os.rmdir(op.join(bids_root, 'derivatives', 'preprocessed_data', 'sub-001'))\n",
    "    os.rmdir(op.join(bids_root, 'derivatives', 'preprocessed_data'))\n",
    "    os.rmdir(op.join(bids_root, 'derivatives'))"
   ]
  },
  {
   "cell_type": "code",
   "execution_count": 7,
   "id": "f3860776-b3a0-4cc4-b815-cfbbcb05e5b9",
   "metadata": {},
   "outputs": [
    {
     "name": "stdout",
     "output_type": "stream",
     "text": [
      "|ds000171/\n",
      "|--- CHANGES\n",
      "|--- README\n",
      "|--- dataset_description.json\n",
      "|--- participants.tsv\n",
      "|--- derivatives/\n",
      "|------ preprocessed_data/\n",
      "|--------- sub-control01/\n",
      "|------------ anat/\n",
      "|------------ fmap/\n",
      "|------------ func/\n",
      "|--- sub-control01/\n",
      "|------ anat/\n",
      "|--------- sub-control01_T1w.nii.gz\n",
      "|------ func/\n",
      "|--------- sub-control01_task-music_run-1_bold.nii.gz\n",
      "|--------- sub-control01_task-music_run-1_events.tsv\n",
      "|--------- sub-control01_task-music_run-2_bold.nii.gz\n",
      "|--------- sub-control01_task-music_run-2_events.tsv\n",
      "|--------- sub-control01_task-music_run-3_bold.nii.gz\n",
      "|--------- sub-control01_task-music_run-3_events.tsv\n",
      "|--------- sub-control01_task-nonmusic_run-4_bold.nii.gz\n",
      "|--------- sub-control01_task-nonmusic_run-4_events.tsv\n",
      "|--------- sub-control01_task-nonmusic_run-5_bold.nii.gz\n",
      "|--------- sub-control01_task-nonmusic_run-5_events.tsv\n"
     ]
    }
   ],
   "source": [
    "print_dir_tree(bids_root, max_depth=5)"
   ]
  },
  {
   "cell_type": "code",
   "execution_count": 8,
   "id": "9a0a7547-efd6-4ffd-a37b-7fa3194231eb",
   "metadata": {},
   "outputs": [],
   "source": [
    "patient_path = op.join(bids_root, 'sub-control01')\n",
    "anatomical_path = op.join(patient_path, 'anat')\n",
    "anatomical_file = op.join(anatomical_path, 'sub-control01_T1w.nii.gz')\n",
    "functional_path = op.join(patient_path, 'func')"
   ]
  },
  {
   "cell_type": "markdown",
   "id": "75320d13-e46e-4674-9114-e56a861bd613",
   "metadata": {},
   "source": [
    "<h2>Skull Stripping (Here robust method is used)</h2>"
   ]
  },
  {
   "cell_type": "code",
   "execution_count": 10,
   "id": "89fa5fd4-dce1-46c6-8c4b-048b18b8a576",
   "metadata": {},
   "outputs": [
    {
     "name": "stdout",
     "output_type": "stream",
     "text": [
      "Done with BET.\n"
     ]
    }
   ],
   "source": [
    "def get_skull_stripped_anatomical(bids_root, preproc_root, subject_id, robust=False):\n",
    "    \"\"\"\n",
    "    Function to perform skull-stripping (removing the skull around the brain).\n",
    "    This is a simple wrapper around the brain extraction tool (BET) in FSL's suite\n",
    "    It assumes data to be in the BIDS format (which we will cover in the following weeks).\n",
    "    The method also saves the brain mask which was used to extract the brain.\n",
    "\n",
    "    The brain extraction is conducted only on the T1w of the participant.\n",
    "\n",
    "    Parameters\n",
    "    ----------result\n",
    "    bids_root: string\n",
    "        The root of the BIDS directory\n",
    "    preproc_root: string\n",
    "        The root of the preprocessed data, where the result of the brain extraction will be saved.\n",
    "    subject_id: string\n",
    "        Subject ID, the subject on which brain extraction should be conducted.\n",
    "    robust: bool\n",
    "        Whether to conduct robust center estimation with BET or not. Default is False.\n",
    "    \"\"\"\n",
    "    subject = 'sub-{}'.format(subject_id)\n",
    "    anat_path = op.join(bids_root, subject, 'anat', 'sub-{}_T1w.nii.gz'.format(subject_id))\n",
    "    betted_brain_path = op.join(preproc_root, subject, 'anat', 'sub-{}_T1w'.format(subject_id))\n",
    "    os.system('bet {} {} -m {}'.format(anat_path, betted_brain_path, '-R' if robust else ''))\n",
    "    print(\"Done with BET.\")\n",
    "\n",
    "resulting_mask_path = op.join(preproc_root, 'sub-control01', 'anat', 'sub-control01_T1w_mask')\n",
    "get_skull_stripped_anatomical(bids_root, preproc_root, \"control01\", True)\n",
    "resulting_treated_path = op.join(preproc_root, 'sub-control01', 'anat', 'sub-control01_T1w.nii.gz')"
   ]
  },
  {
   "cell_type": "code",
   "execution_count": 11,
   "id": "dc1ffa38-8bf2-4c25-9164-949e5a77db85",
   "metadata": {},
   "outputs": [
    {
     "name": "stdout",
     "output_type": "stream",
     "text": [
      "|ds000171/\n",
      "|--- CHANGES\n",
      "|--- README\n",
      "|--- dataset_description.json\n",
      "|--- participants.tsv\n",
      "|--- derivatives/\n",
      "|------ preprocessed_data/\n",
      "|--------- sub-control01/\n",
      "|------------ anat/\n",
      "|--------------- sub-control01_T1w.nii.gz\n",
      "|--------------- sub-control01_T1w_mask.nii.gz\n",
      "|------------ fmap/\n",
      "|------------ func/\n",
      "|--- sub-control01/\n",
      "|------ anat/\n",
      "|--------- sub-control01_T1w.nii.gz\n",
      "|------ func/\n",
      "|--------- sub-control01_task-music_run-1_bold.nii.gz\n",
      "|--------- sub-control01_task-music_run-1_events.tsv\n",
      "|--------- sub-control01_task-music_run-2_bold.nii.gz\n",
      "|--------- sub-control01_task-music_run-2_events.tsv\n",
      "|--------- sub-control01_task-music_run-3_bold.nii.gz\n",
      "|--------- sub-control01_task-music_run-3_events.tsv\n",
      "|--------- sub-control01_task-nonmusic_run-4_bold.nii.gz\n",
      "|--------- sub-control01_task-nonmusic_run-4_events.tsv\n",
      "|--------- sub-control01_task-nonmusic_run-5_bold.nii.gz\n",
      "|--------- sub-control01_task-nonmusic_run-5_events.tsv\n"
     ]
    }
   ],
   "source": [
    "## TO VERIFY IF MASK WAS PRO1PERLY GENERATED\n",
    "print_dir_tree(bids_root, max_depth=5)"
   ]
  },
  {
   "cell_type": "code",
   "execution_count": 12,
   "id": "7c25f672-7561-47c3-a3df-a7e19cf613b6",
   "metadata": {},
   "outputs": [
    {
     "name": "stderr",
     "output_type": "stream",
     "text": [
      "\n",
      "(ipykernel_launcher.py:455): Gdk-WARNING **: 18:04:45.280: gdkdrawable-x11.c:952 drawable is not a pixmap or window\n"
     ]
    }
   ],
   "source": [
    "fsleyesDisplay.resetOverlays()\n",
    "fsleyesDisplay.load(anatomical_file)\n",
    "fsleyesDisplay.load(resulting_mask_path)"
   ]
  },
  {
   "cell_type": "code",
   "execution_count": 13,
   "id": "6b6d0e9b-a215-43dc-a373-a13d937ae63a",
   "metadata": {},
   "outputs": [],
   "source": [
    "fsleyesDisplay.resetOverlays()\n",
    "fsleyesDisplay.load(resulting_treated_path)"
   ]
  },
  {
   "cell_type": "code",
   "execution_count": 14,
   "id": "eb5bb667-dc82-4d5e-a90f-b507e12a7240",
   "metadata": {},
   "outputs": [],
   "source": [
    "def fsl_mask(img_path, mask_path, masked_img_path):\n",
    "    os.system('fslmaths {} -mas {} {}'.format(img_path, mask_path, masked_img_path))"
   ]
  },
  {
   "cell_type": "code",
   "execution_count": 16,
   "id": "bf7d714c-19d2-4f34-a759-cb8691a26666",
   "metadata": {},
   "outputs": [],
   "source": [
    "## IN CASE YOU WANT TO EDIT THE MASK THAT WAS GENERATED BY BET FEEL FREE TO SKIP IT ROBUST ALGORITHM SEEMS TO WORK PRETTY WELL\n",
    "fsl_mask(anatomical_file, resulting_mask_path, resulting_treated_path)"
   ]
  },
  {
   "cell_type": "code",
   "execution_count": 14,
   "id": "21c9d1ec-3c5c-4201-b9fb-cc0fe50ded0c",
   "metadata": {},
   "outputs": [],
   "source": [
    "functional_first_path = op.join(functional_path, 'sub-control01_task-music_run-1_bold.nii.gz')"
   ]
  },
  {
   "cell_type": "code",
   "execution_count": 15,
   "id": "69fc8c8a-7a95-4345-a172-2469d8aae523",
   "metadata": {},
   "outputs": [],
   "source": [
    "fsleyesDisplay.resetOverlays()\n",
    "fsleyesDisplay.load(op.join(functional_path, 'sub-control01_task-music_run-1_bold.nii.gz'))"
   ]
  },
  {
   "cell_type": "markdown",
   "id": "7927adef-8052-4b80-949f-280f197ef137",
   "metadata": {},
   "source": [
    "<h3>Use of FLIRT for alignment and organization of views</h3>"
   ]
  },
  {
   "cell_type": "code",
   "execution_count": 16,
   "id": "906cf055-8f78-45f2-bfc1-845c23c1fce1",
   "metadata": {},
   "outputs": [
    {
     "name": "stdout",
     "output_type": "stream",
     "text": [
      "\n",
      "Final result: \n",
      "0.003348 0.005721 -1.116064 204.794610 \n",
      "-0.933350 0.500887 0.005750 178.784833 \n",
      "0.501418 1.048657 -0.003251 -149.700516 \n",
      "0.000000 0.000000 0.000000 1.000000 \n",
      "\n"
     ]
    },
    {
     "data": {
      "text/plain": [
       "{}"
      ]
     },
     "execution_count": 16,
     "metadata": {},
     "output_type": "execute_result"
    }
   ],
   "source": [
    "from fsl.wrappers import flirt\n",
    "subject_id = 'control01'\n",
    "mni_template = op.expandvars(op.join('$FSLDIR', 'data', 'standard', 'MNI152_T1_1mm_brain'))\n",
    "target = resulting_treated_path\n",
    "reference = mni_template\n",
    "result = op.join(preproc_root, 'sub-{}'.format(subject_id), 'anat', 'sub-{}_T1w_mni'.format(subject_id))\n",
    "flirt(target, reference, out=result)"
   ]
  },
  {
   "cell_type": "code",
   "execution_count": 17,
   "id": "d6ee46db-cc5e-467b-b9de-281693edb396",
   "metadata": {},
   "outputs": [],
   "source": [
    "## VERIFY IF THE PROCESS HAPPENED CORRECTLY\n",
    "processed_volume = result\n",
    "fsleyesDisplay.resetOverlays()\n",
    "fsleyesDisplay.load(processed_volume)"
   ]
  },
  {
   "cell_type": "markdown",
   "id": "7414681e-65f7-4277-a6fb-0012ca8ea834",
   "metadata": {},
   "source": [
    "<h2>Normalization of the data</h2>"
   ]
  },
  {
   "cell_type": "code",
   "execution_count": 18,
   "id": "53bd4a3a-91c6-4b0c-8899-b5ab8359be57",
   "metadata": {},
   "outputs": [],
   "source": [
    "import matplotlib.pyplot as plt\n",
    "import nibabel as nib\n",
    "processed_functional_path = op.join(preproc_root, 'sub-control01', 'func')"
   ]
  },
  {
   "cell_type": "code",
   "execution_count": 19,
   "id": "4aa50de2-3bbb-432a-84cc-550382a518dc",
   "metadata": {},
   "outputs": [],
   "source": [
    "def normalize_fMRI(source, output, threshold):\n",
    "    img = nib.load(source)\n",
    "    data = img.get_fdata()\n",
    "    mask = data>=threshold\n",
    "    masked_data = data[mask]\n",
    "    mean = masked_data.mean()\n",
    "    std = masked_data.std()\n",
    "    normalized = (data - mean)/std\n",
    "    img_out = nib.Nifti1Image(normalized,img.affine, img.header)\n",
    "    nib.save(img_out, output)"
   ]
  },
  {
   "cell_type": "markdown",
   "id": "942e6ade-bdf5-459f-9f61-5b1cdbd53e91",
   "metadata": {},
   "source": [
    "<h3>Correction of slice 17 in second run</h3>"
   ]
  },
  {
   "cell_type": "code",
   "execution_count": 20,
   "id": "8d849f8d-4f5b-47cf-9cff-eb74568b7537",
   "metadata": {},
   "outputs": [],
   "source": [
    "path_normalized_output_1 = op.join(processed_functional_path, 'sub-control01_task-music_run-1_bold_norm.nii.gz')\n",
    "path_normalized_output_2 = op.join(processed_functional_path, 'sub-control01_task-music_run-2_bold_norm_.nii.gz')\n",
    "path_normalized_output_3 = op.join(processed_functional_path, 'sub-control01_task-music_run-3_bold_norm_.nii.gz')\n",
    "functional_2_path = op.join(functional_path, 'sub-control01_task-music_run-2_bold.nii.gz')\n",
    "functional_3_path = op.join(functional_path, 'sub-control01_task-music_run-3_bold.nii.gz')"
   ]
  },
  {
   "cell_type": "code",
   "execution_count": 21,
   "id": "098b0863-1dda-4f7b-b806-2ba383ba3fd7",
   "metadata": {},
   "outputs": [],
   "source": [
    "img = nib.load(functional_2_path)\n",
    "data = img.get_fdata()\n",
    "data[:, :, 47, 17] = np.mean(data[:, :, 46, 17])\n",
    "img_out = nib.Nifti1Image(data,img.affine, img.header)\n",
    "nib.save(img_out, functional_2_path)"
   ]
  },
  {
   "cell_type": "code",
   "execution_count": 22,
   "id": "7423ced6-0369-489f-bde9-9afbcbbd5e25",
   "metadata": {},
   "outputs": [],
   "source": [
    "normalize_fMRI(functional_first_path, path_normalized_output_1, 200)\n",
    "normalize_fMRI(functional_2_path, path_normalized_output_2, 200)\n",
    "normalize_fMRI(functional_3_path, path_normalized_output_3, 200)"
   ]
  },
  {
   "cell_type": "code",
   "execution_count": 23,
   "id": "2c75a299-200b-4e67-9aec-ffd2f549d9e1",
   "metadata": {},
   "outputs": [
    {
     "name": "stdout",
     "output_type": "stream",
     "text": [
      "|ds000171/\n",
      "|--- CHANGES\n",
      "|--- README\n",
      "|--- dataset_description.json\n",
      "|--- participants.tsv\n",
      "|--- derivatives/\n",
      "|------ preprocessed_data/\n",
      "|--------- sub-control01/\n",
      "|------------ anat/\n",
      "|--------------- sub-control01_T1w.nii.gz\n",
      "|--------------- sub-control01_T1w_mask.nii.gz\n",
      "|--------------- sub-control01_T1w_mni.nii.gz\n",
      "|------------ fmap/\n",
      "|------------ func/\n",
      "|--------------- sub-control01_task-music_run-1_bold_norm.nii.gz\n",
      "|--------------- sub-control01_task-music_run-2_bold_norm_.nii.gz\n",
      "|--------------- sub-control01_task-music_run-3_bold_norm_.nii.gz\n",
      "|--- sub-control01/\n",
      "|------ anat/\n",
      "|--------- sub-control01_T1w.nii.gz\n",
      "|------ func/\n",
      "|--------- sub-control01_task-music_run-1_bold.nii.gz\n",
      "|--------- sub-control01_task-music_run-1_events.tsv\n",
      "|--------- sub-control01_task-music_run-2_bold.nii.gz\n",
      "|--------- sub-control01_task-music_run-2_events.tsv\n",
      "|--------- sub-control01_task-music_run-3_bold.nii.gz\n",
      "|--------- sub-control01_task-music_run-3_events.tsv\n",
      "|--------- sub-control01_task-nonmusic_run-4_bold.nii.gz\n",
      "|--------- sub-control01_task-nonmusic_run-4_events.tsv\n",
      "|--------- sub-control01_task-nonmusic_run-5_bold.nii.gz\n",
      "|--------- sub-control01_task-nonmusic_run-5_events.tsv\n"
     ]
    }
   ],
   "source": [
    "print_dir_tree(bids_root, max_depth=5)"
   ]
  },
  {
   "cell_type": "code",
   "execution_count": 24,
   "id": "aa544edb-00da-46e6-a5a3-4585e35bdf24",
   "metadata": {},
   "outputs": [
    {
     "data": {
      "image/png": "[encoded data removed]",
      "text/plain": [
       "<Figure size 640x480 with 1 Axes>"
      ]
     },
     "metadata": {},
     "output_type": "display_data"
    }
   ],
   "source": [
    "plt.plot(nib.load(path_normalized_output_1).get_fdata().mean(axis=(0,1,2)), label='Run 1')\n",
    "plt.plot(nib.load(path_normalized_output_2).get_fdata().mean(axis=(0,1,2)), label='Run 2')\n",
    "plt.plot(nib.load(path_normalized_output_3).get_fdata().mean(axis=(0,1,2)), label='Run 3')\n",
    "plt.xlabel('Time (volume)')\n",
    "plt.ylabel('Mean voxel intensity')\n",
    "plt.legend()\n",
    "plt.show()"
   ]
  },
  {
   "cell_type": "code",
   "execution_count": 25,
   "id": "8ea87d41-c92c-4016-abe9-3d78ca3a26e6",
   "metadata": {},
   "outputs": [],
   "source": [
    "fsleyesDisplay.resetOverlays()\n",
    "fsleyesDisplay.load(functional_2_path)"
   ]
  },
  {
   "cell_type": "markdown",
   "id": "7942530a-4022-4de8-8d00-bab7138378eb",
   "metadata": {},
   "source": [
    "<h2>Concatenation of data</h2>"
   ]
  },
  {
   "cell_type": "code",
   "execution_count": 26,
   "id": "80624101-f1a6-4c56-beb4-df2b148bb064",
   "metadata": {},
   "outputs": [],
   "source": [
    "img_1 = nib.load(path_normalized_output_1)\n",
    "data_1 = img_1.get_fdata()\n",
    "img_2 = nib.load(path_normalized_output_2)\n",
    "data_2 = img_2.get_fdata()\n",
    "img_3 = nib.load(path_normalized_output_3)\n",
    "data_3 = img_3.get_fdata()"
   ]
  },
  {
   "cell_type": "code",
   "execution_count": 29,
   "id": "b588238c-3136-4ba2-acdc-ee92d10cd6cc",
   "metadata": {},
   "outputs": [],
   "source": [
    "data = np.concatenate((data_1, data_2, data_3), axis = 3)"
   ]
  },
  {
   "cell_type": "code",
   "execution_count": 30,
   "id": "192d4f75-5b07-4530-a397-53393c4a5155",
   "metadata": {},
   "outputs": [],
   "source": [
    "functional_concatenated= op.join(functional_path, 'sub-control01_task-music_concat_bold.nii.gz')"
   ]
  },
  {
   "cell_type": "code",
   "execution_count": 31,
   "id": "c6c66c8b-6447-496f-b10c-585c31e4ed19",
   "metadata": {},
   "outputs": [],
   "source": [
    "img_out = nib.Nifti1Image(data,img_1.affine, img_1.header)\n",
    "nib.save(img_out, functional_concatenated)"
   ]
  },
  {
   "cell_type": "code",
   "execution_count": 32,
   "id": "8b05bc25-a4ce-4ab9-b415-e42493c120e2",
   "metadata": {},
   "outputs": [],
   "source": [
    "fsleyesDisplay.resetOverlays()\n",
    "fsleyesDisplay.load(functional_concatenated)"
   ]
  },
  {
   "cell_type": "markdown",
   "id": "abdc763c-616b-4fc1-a7df-ffa99be17289",
   "metadata": {},
   "source": [
    "<h2>Movement correction of motion corrected fMRI using MCFLIRT</h2>"
   ]
  },
  {
   "cell_type": "code",
   "execution_count": 34,
   "id": "ddef890c-772e-4eaa-be55-bfe2d1605898",
   "metadata": {},
   "outputs": [],
   "source": [
    "outpath = op.join(preproc_root, 'sub-control01', 'func', 'sub-control01_task-music_bold_moco')"
   ]
  },
  {
   "cell_type": "code",
   "execution_count": 35,
   "id": "0d647c7d-e877-479c-a021-3590cb1d6261",
   "metadata": {},
   "outputs": [
    {
     "name": "stderr",
     "output_type": "stream",
     "text": [
      "Processed data will be saved as /home/jovyan/Data/dataset/ds000171/derivatives/preprocessed_data/sub-control01/func/sub-control01_task-music_bold_moco\n",
      "\n",
      "McFLIRT v 2.0 - FMRI motion correction\n",
      "\n",
      "Reading time series... \n",
      "first iteration - 8mm scaling, set tolerance\n",
      "Rescaling reference volume [157] to 8 mm pixels\n",
      "Registering volumes ... [158][159][160][161][162][163][164][165][166][167][168][169][170][171][172][173][174][175][176][177][178][179][180][181][182][183][184][185][186][187][188][189][190][191][192][193][194][195][196][197][198][199][200][201][202][203][204][205][206][207][208][209][210][211][212][213][214][215][216][217][218][219][220][221][222][223][224][225][226][227][228][229][230][231][232][233][234][235][236][237][238][239][240][241][242][243][244][245][246][247][248][249][250][251][252][253][254][255][256][257][258][259][260][261][262][263][264][265][266][267][268][269][270][271][272][273][274][275][276][277][278][279][280][281][282][283][284][285][286][287][288][289][290][291][292][293][294][295][296][297][298][299][300][301][302][303][304][305][306][307][308][309][310][311][312][313][314][156][155][154][153][152][151][150][149][148][147][146][145][144][143][142][141][140][139][138][137][136][135][134][133][132][131][130][129][128][127][126][125][124][123][122][121][120][119][118][117][116][115][114][113][112][111][110][109][108][107][106][105][104][103][102][101][100][99][98][97][96][95][94][93][92][91][90][89][88][87][86][85][84][83][82][81][80][79][78][77][76][75][74][73][72][71][70][69][68][67][66][65][64][63][62][61][60][59][58][57][56][55][54][53][52][51][50][49][48][47][46][45][44][43][42][41][40][39][38][37][36][35][34][33][32][31][30][29][28][27][26][25][24][23][22][21][20][19][18][17][16][15][14][13][12][11][10][9][8][7][6][5][4][3][2][1][0]\n",
      "second iteration - drop to 4mm scaling\n",
      "Rescaling reference volume [157] to 4 mm pixels\n",
      "Registering volumes ... [158][159][160][161][162][163][164][165][166][167][168][169][170][171][172][173][174][175][176][177][178][179][180][181][182][183][184][185][186][187][188][189][190][191][192][193][194][195][196][197][198][199][200][201][202][203][204][205][206][207][208][209][210][211][212][213][214][215][216][217][218][219][220][221][222][223][224][225][226][227][228][229][230][231][232][233][234][235][236][237][238][239][240][241][242][243][244][245][246][247][248][249][250][251][252][253][254][255][256][257][258][259][260][261][262][263][264][265][266][267][268][269][270][271][272][273][274][275][276][277][278][279][280][281][282][283][284][285][286][287][288][289][290][291][292][293][294][295][296][297][298][299][300][301][302][303][304][305][306][307][308][309][310][311][312][313][314][156][155][154][153][152][151][150][149][148][147][146][145][144][143][142][141][140][139][138][137][136][135][134][133][132][131][130][129][128][127][126][125][124][123][122][121][120][119][118][117][116][115][114][113][112][111][110][109][108][107][106][105][104][103][102][101][100][99][98][97][96][95][94][93][92][91][90][89][88][87][86][85][84][83][82][81][80][79][78][77][76][75][74][73][72][71][70][69][68][67][66][65][64][63][62][61][60][59][58][57][56][55][54][53][52][51][50][49][48][47][46][45][44][43][42][41][40][39][38][37][36][35][34][33][32][31][30][29][28][27][26][25][24][23][22][21][20][19][18][17][16][15][14][13][12][11][10][9][8][7][6][5][4][3][2][1][0]\n",
      "third iteration - 4mm scaling, eighth tolerance\n"
     ]
    },
    {
     "name": "stdout",
     "output_type": "stream",
     "text": [
      "refnum = 157\n",
      "Original_refvol = -1\n"
     ]
    },
    {
     "name": "stderr",
     "output_type": "stream",
     "text": [
      "Registering volumes ... [158][159][160][161][162][163][164][165][166][167][168][169][170][171][172][173][174][175][176][177][178][179][180][181][182][183][184][185][186][187][188][189][190][191][192][193][194][195][196][197][198][199][200][201][202][203][204][205][206][207][208][209][210][211][212][213][214][215][216][217][218][219][220][221][222][223][224][225][226][227][228][229][230][231][232][233][234][235][236][237][238][239][240][241][242][243][244][245][246][247][248][249][250][251][252][253][254][255][256][257][258][259][260][261][262][263][264][265][266][267][268][269][270][271][272][273][274][275][276][277][278][279][280][281][282][283][284][285][286][287][288][289][290][291][292][293][294][295][296][297][298][299][300][301][302][303][304][305][306][307][308][309][310][311][312][313][314][156][155][154][153][152][151][150][149][148][147][146][145][144][143][142][141][140][139][138][137][136][135][134][133][132][131][130][129][128][127][126][125][124][123][122][121][120][119][118][117][116][115][114][113][112][111][110][109][108][107][106][105][104][103][102][101][100][99][98][97][96][95][94][93][92][91][90][89][88][87][86][85][84][83][82][81][80][79][78][77][76][75][74][73][72][71][70][69][68][67][66][65][64][63][62][61][60][59][58][57][56][55][54][53][52][51][50][49][48][47][46][45][44][43][42][41][40][39][38][37][36][35][34][33][32][31][30][29][28][27][26][25][24][23][22][21][20][19][18][17][16][15][14][13][12][11][10][9][8][7][6][5][4][3][2][1][0]\n",
      "Saving motion corrected time series... \n"
     ]
    },
    {
     "data": {
      "text/plain": [
       "{}"
      ]
     },
     "execution_count": 35,
     "metadata": {},
     "output_type": "execute_result"
    }
   ],
   "source": [
    "from fsl.wrappers import mcflirt\n",
    "mcflirt(infile=functional_concatenated,o=outpath, plots=True, report=True, dof=6, mats=True)"
   ]
  },
  {
   "cell_type": "code",
   "execution_count": 37,
   "id": "9b842fe0-41ca-4154-b046-3125de40ce76",
   "metadata": {},
   "outputs": [],
   "source": [
    "fsleyesDisplay.resetOverlays()\n",
    "fsleyesDisplay.load(outpath)"
   ]
  },
  {
   "cell_type": "code",
   "execution_count": null,
   "id": "b3af1b33-8ec3-41b8-bc6b-0eb1e3f0b810",
   "metadata": {},
   "outputs": [],
   "source": []
  }
 ],
 "metadata": {
  "kernelspec": {
   "display_name": "Python 3 (ipykernel)",
   "language": "python",
   "name": "python3"
  },
  "language_info": {
   "codemirror_mode": {
    "name": "ipython",
    "version": 3
   },
   "file_extension": ".py",
   "mimetype": "text/x-python",
   "name": "python",
   "nbconvert_exporter": "python",
   "pygments_lexer": "ipython3",
   "version": "3.11.6"
  }
 },
 "nbformat": 4,
 "nbformat_minor": 5
}
